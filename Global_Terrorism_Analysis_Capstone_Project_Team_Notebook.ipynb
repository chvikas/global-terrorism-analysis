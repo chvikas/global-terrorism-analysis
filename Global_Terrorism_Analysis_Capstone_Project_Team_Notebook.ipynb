{
  "nbformat": 4,
  "nbformat_minor": 0,
  "metadata": {
    "kernelspec": {
      "display_name": "Python 3",
      "language": "python",
      "name": "python3"
    },
    "language_info": {
      "codemirror_mode": {
        "name": "ipython",
        "version": 3
      },
      "file_extension": ".py",
      "mimetype": "text/x-python",
      "name": "python",
      "nbconvert_exporter": "python",
      "pygments_lexer": "ipython3",
      "version": "3.6.6"
    },
    "colab": {
      "name": "Global Terrorism Analysis - Capstone Project- Team Notebook.ipynb",
      "provenance": [],
      "collapsed_sections": [],
      "include_colab_link": true
    }
  },
  "cells": [
    {
      "cell_type": "markdown",
      "metadata": {
        "id": "view-in-github",
        "colab_type": "text"
      },
      "source": [
        "<a href=\"https://colab.research.google.com/github/vikaschaudhary53/global-terrorism-analysis/blob/main/Global_Terrorism_Analysis_Capstone_Project_Team_Notebook.ipynb\" target=\"_parent\"><img src=\"https://colab.research.google.com/assets/colab-badge.svg\" alt=\"Open In Colab\"/></a>"
      ]
    },
    {
      "cell_type": "markdown",
      "metadata": {
        "id": "Y06xIdG26kRF"
      },
      "source": [
        "## <b> The Global Terrorism Database (GTD) is an open-source database including information on terrorist attacks around the world from 1970 through 2017. The GTD includes systematic data on domestic as well as international terrorist incidents that have occurred during this time period and now includes more than 180,000 attacks. The database is maintained by researchers at the National Consortium for the Study of Terrorism and Responses to Terrorism (START), headquartered at the University of Maryland.</b>\n",
        "\n",
        "# <b> Explore and analyze the data to discover key findings pertaining to terrorist activities. </b>"
      ]
    },
    {
      "cell_type": "markdown",
      "metadata": {
        "id": "X-Wh8GXcVLso"
      },
      "source": [
        "#Scope of the project\n",
        "\n",
        "The objective of the project would be to derive meanignful insights from the given data set. Following are the pointers we are focusing on:\n",
        "(To be filled)"
      ]
    },
    {
      "cell_type": "markdown",
      "metadata": {
        "id": "oVblcaGYdxTd"
      },
      "source": [
        "# Data Prepping\n",
        "\n",
        "Since this is a huge data set with over 136 fields and 1.8 lakh rows, we need to weed out unrequired fields, fill NaN values appropriately, and rename the fields to suit our convenience."
      ]
    },
    {
      "cell_type": "code",
      "metadata": {
        "id": "nzrYlOSgeehy"
      },
      "source": [
        "#let's take help of following libraries\n",
        "import numpy as np\n",
        "import pandas as pd\n",
        "import matplotlib.pyplot as plt\n",
        "import seaborn as sns\n",
        "import plotly.express as px #I prefer to use plotly.express predominantly for most of my visualisation. \n",
        "from wordcloud import WordCloud \n",
        "import plotly.graph_objects as go   "
      ],
      "execution_count": null,
      "outputs": []
    },
    {
      "cell_type": "markdown",
      "metadata": {
        "id": "xjwxJC8w2i3v"
      },
      "source": [
        "upgrading plotly to 5.3.1 tennacity 8.0.1"
      ]
    },
    {
      "cell_type": "code",
      "metadata": {
        "colab": {
          "base_uri": "https://localhost:8080/"
        },
        "id": "XwZ6NRr2ZFMh",
        "outputId": "58833c4a-8d99-4439-aab6-f60658a54631"
      },
      "source": [
        "pip install --upgrade plotly"
      ],
      "execution_count": null,
      "outputs": [
        {
          "output_type": "stream",
          "name": "stdout",
          "text": [
            "4/1AX4XfWj1RerqQ1krhW9gBUrG_ecPZGc1UxvX3q3IzAwJvClQWgtSc85c0PgRequirement already satisfied: plotly in /usr/local/lib/python3.7/dist-packages (5.3.1)\n",
            "Requirement already satisfied: tenacity>=6.2.0 in /usr/local/lib/python3.7/dist-packages (from plotly) (8.0.1)\n",
            "Requirement already satisfied: six in /usr/local/lib/python3.7/dist-packages (from plotly) (1.15.0)\n"
          ]
        }
      ]
    },
    {
      "cell_type": "code",
      "metadata": {
        "colab": {
          "base_uri": "https://localhost:8080/"
        },
        "id": "yQLeSlL1gxlt",
        "outputId": "db7fc958-3a66-4e92-97ec-3214000bfb5f"
      },
      "source": [
        "\n",
        "#mounting the drive\n",
        "from google.colab import drive\n",
        "drive.mount('/content/drive')"
      ],
      "execution_count": null,
      "outputs": [
        {
          "output_type": "stream",
          "name": "stdout",
          "text": [
            "Mounted at /content/drive\n"
          ]
        }
      ]
    },
    {
      "cell_type": "markdown",
      "metadata": {
        "id": "FqTawwb3hz1M"
      },
      "source": [
        "The following dataset contains records of terrorist attacks from 1970 all the way to 2017"
      ]
    },
    {
      "cell_type": "code",
      "metadata": {
        "id": "ymKXTJoOhj08"
      },
      "source": [
        "# Reading the dataset. \n",
        "gtd_global_primary=pd.read_csv('/content/drive/MyDrive/Colab Notebooks/Alma Better Pro Program/Capstone Projects/EDA Capstone/Data Sets/Global Terrorism Data/Global Terrorism Data_2017.csv',encoding='ISO-8859-1',low_memory=False)\n"
      ],
      "execution_count": null,
      "outputs": []
    },
    {
      "cell_type": "code",
      "metadata": {
        "colab": {
          "base_uri": "https://localhost:8080/",
          "height": 370
        },
        "id": "v_qW12u1ic6b",
        "outputId": "edc46583-ffb2-4e4d-a8a3-5e0d0213dc26"
      },
      "source": [
        "gtd_global_primary.head()"
      ],
      "execution_count": null,
      "outputs": [
        {
          "output_type": "execute_result",
          "data": {
            "text/html": [
              "<div>\n",
              "<style scoped>\n",
              "    .dataframe tbody tr th:only-of-type {\n",
              "        vertical-align: middle;\n",
              "    }\n",
              "\n",
              "    .dataframe tbody tr th {\n",
              "        vertical-align: top;\n",
              "    }\n",
              "\n",
              "    .dataframe thead th {\n",
              "        text-align: right;\n",
              "    }\n",
              "</style>\n",
              "<table border=\"1\" class=\"dataframe\">\n",
              "  <thead>\n",
              "    <tr style=\"text-align: right;\">\n",
              "      <th></th>\n",
              "      <th>eventid</th>\n",
              "      <th>iyear</th>\n",
              "      <th>imonth</th>\n",
              "      <th>iday</th>\n",
              "      <th>approxdate</th>\n",
              "      <th>extended</th>\n",
              "      <th>resolution</th>\n",
              "      <th>country</th>\n",
              "      <th>country_txt</th>\n",
              "      <th>region</th>\n",
              "      <th>region_txt</th>\n",
              "      <th>provstate</th>\n",
              "      <th>city</th>\n",
              "      <th>latitude</th>\n",
              "      <th>longitude</th>\n",
              "      <th>specificity</th>\n",
              "      <th>vicinity</th>\n",
              "      <th>location</th>\n",
              "      <th>summary</th>\n",
              "      <th>crit1</th>\n",
              "      <th>crit2</th>\n",
              "      <th>crit3</th>\n",
              "      <th>doubtterr</th>\n",
              "      <th>alternative</th>\n",
              "      <th>alternative_txt</th>\n",
              "      <th>multiple</th>\n",
              "      <th>success</th>\n",
              "      <th>suicide</th>\n",
              "      <th>attacktype1</th>\n",
              "      <th>attacktype1_txt</th>\n",
              "      <th>attacktype2</th>\n",
              "      <th>attacktype2_txt</th>\n",
              "      <th>attacktype3</th>\n",
              "      <th>attacktype3_txt</th>\n",
              "      <th>targtype1</th>\n",
              "      <th>targtype1_txt</th>\n",
              "      <th>targsubtype1</th>\n",
              "      <th>targsubtype1_txt</th>\n",
              "      <th>corp1</th>\n",
              "      <th>target1</th>\n",
              "      <th>...</th>\n",
              "      <th>weapsubtype4</th>\n",
              "      <th>weapsubtype4_txt</th>\n",
              "      <th>weapdetail</th>\n",
              "      <th>nkill</th>\n",
              "      <th>nkillus</th>\n",
              "      <th>nkillter</th>\n",
              "      <th>nwound</th>\n",
              "      <th>nwoundus</th>\n",
              "      <th>nwoundte</th>\n",
              "      <th>property</th>\n",
              "      <th>propextent</th>\n",
              "      <th>propextent_txt</th>\n",
              "      <th>propvalue</th>\n",
              "      <th>propcomment</th>\n",
              "      <th>ishostkid</th>\n",
              "      <th>nhostkid</th>\n",
              "      <th>nhostkidus</th>\n",
              "      <th>nhours</th>\n",
              "      <th>ndays</th>\n",
              "      <th>divert</th>\n",
              "      <th>kidhijcountry</th>\n",
              "      <th>ransom</th>\n",
              "      <th>ransomamt</th>\n",
              "      <th>ransomamtus</th>\n",
              "      <th>ransompaid</th>\n",
              "      <th>ransompaidus</th>\n",
              "      <th>ransomnote</th>\n",
              "      <th>hostkidoutcome</th>\n",
              "      <th>hostkidoutcome_txt</th>\n",
              "      <th>nreleased</th>\n",
              "      <th>addnotes</th>\n",
              "      <th>scite1</th>\n",
              "      <th>scite2</th>\n",
              "      <th>scite3</th>\n",
              "      <th>dbsource</th>\n",
              "      <th>INT_LOG</th>\n",
              "      <th>INT_IDEO</th>\n",
              "      <th>INT_MISC</th>\n",
              "      <th>INT_ANY</th>\n",
              "      <th>related</th>\n",
              "    </tr>\n",
              "  </thead>\n",
              "  <tbody>\n",
              "    <tr>\n",
              "      <th>0</th>\n",
              "      <td>197000000001</td>\n",
              "      <td>1970</td>\n",
              "      <td>7</td>\n",
              "      <td>2</td>\n",
              "      <td>NaN</td>\n",
              "      <td>0</td>\n",
              "      <td>NaN</td>\n",
              "      <td>58</td>\n",
              "      <td>Dominican Republic</td>\n",
              "      <td>2</td>\n",
              "      <td>Central America &amp; Caribbean</td>\n",
              "      <td>NaN</td>\n",
              "      <td>Santo Domingo</td>\n",
              "      <td>18.456792</td>\n",
              "      <td>-69.951164</td>\n",
              "      <td>1.0</td>\n",
              "      <td>0</td>\n",
              "      <td>NaN</td>\n",
              "      <td>NaN</td>\n",
              "      <td>1</td>\n",
              "      <td>1</td>\n",
              "      <td>1</td>\n",
              "      <td>0.0</td>\n",
              "      <td>NaN</td>\n",
              "      <td>NaN</td>\n",
              "      <td>0.0</td>\n",
              "      <td>1</td>\n",
              "      <td>0</td>\n",
              "      <td>1</td>\n",
              "      <td>Assassination</td>\n",
              "      <td>NaN</td>\n",
              "      <td>NaN</td>\n",
              "      <td>NaN</td>\n",
              "      <td>NaN</td>\n",
              "      <td>14</td>\n",
              "      <td>Private Citizens &amp; Property</td>\n",
              "      <td>68.0</td>\n",
              "      <td>Named Civilian</td>\n",
              "      <td>NaN</td>\n",
              "      <td>Julio Guzman</td>\n",
              "      <td>...</td>\n",
              "      <td>NaN</td>\n",
              "      <td>NaN</td>\n",
              "      <td>NaN</td>\n",
              "      <td>1.0</td>\n",
              "      <td>NaN</td>\n",
              "      <td>NaN</td>\n",
              "      <td>0.0</td>\n",
              "      <td>NaN</td>\n",
              "      <td>NaN</td>\n",
              "      <td>0</td>\n",
              "      <td>NaN</td>\n",
              "      <td>NaN</td>\n",
              "      <td>NaN</td>\n",
              "      <td>NaN</td>\n",
              "      <td>0.0</td>\n",
              "      <td>NaN</td>\n",
              "      <td>NaN</td>\n",
              "      <td>NaN</td>\n",
              "      <td>NaN</td>\n",
              "      <td>NaN</td>\n",
              "      <td>NaN</td>\n",
              "      <td>0.0</td>\n",
              "      <td>NaN</td>\n",
              "      <td>NaN</td>\n",
              "      <td>NaN</td>\n",
              "      <td>NaN</td>\n",
              "      <td>NaN</td>\n",
              "      <td>NaN</td>\n",
              "      <td>NaN</td>\n",
              "      <td>NaN</td>\n",
              "      <td>NaN</td>\n",
              "      <td>NaN</td>\n",
              "      <td>NaN</td>\n",
              "      <td>NaN</td>\n",
              "      <td>PGIS</td>\n",
              "      <td>0</td>\n",
              "      <td>0</td>\n",
              "      <td>0</td>\n",
              "      <td>0</td>\n",
              "      <td>NaN</td>\n",
              "    </tr>\n",
              "    <tr>\n",
              "      <th>1</th>\n",
              "      <td>197000000002</td>\n",
              "      <td>1970</td>\n",
              "      <td>0</td>\n",
              "      <td>0</td>\n",
              "      <td>NaN</td>\n",
              "      <td>0</td>\n",
              "      <td>NaN</td>\n",
              "      <td>130</td>\n",
              "      <td>Mexico</td>\n",
              "      <td>1</td>\n",
              "      <td>North America</td>\n",
              "      <td>Federal</td>\n",
              "      <td>Mexico city</td>\n",
              "      <td>19.371887</td>\n",
              "      <td>-99.086624</td>\n",
              "      <td>1.0</td>\n",
              "      <td>0</td>\n",
              "      <td>NaN</td>\n",
              "      <td>NaN</td>\n",
              "      <td>1</td>\n",
              "      <td>1</td>\n",
              "      <td>1</td>\n",
              "      <td>0.0</td>\n",
              "      <td>NaN</td>\n",
              "      <td>NaN</td>\n",
              "      <td>0.0</td>\n",
              "      <td>1</td>\n",
              "      <td>0</td>\n",
              "      <td>6</td>\n",
              "      <td>Hostage Taking (Kidnapping)</td>\n",
              "      <td>NaN</td>\n",
              "      <td>NaN</td>\n",
              "      <td>NaN</td>\n",
              "      <td>NaN</td>\n",
              "      <td>7</td>\n",
              "      <td>Government (Diplomatic)</td>\n",
              "      <td>45.0</td>\n",
              "      <td>Diplomatic Personnel (outside of embassy, cons...</td>\n",
              "      <td>Belgian Ambassador Daughter</td>\n",
              "      <td>Nadine Chaval, daughter</td>\n",
              "      <td>...</td>\n",
              "      <td>NaN</td>\n",
              "      <td>NaN</td>\n",
              "      <td>NaN</td>\n",
              "      <td>0.0</td>\n",
              "      <td>NaN</td>\n",
              "      <td>NaN</td>\n",
              "      <td>0.0</td>\n",
              "      <td>NaN</td>\n",
              "      <td>NaN</td>\n",
              "      <td>0</td>\n",
              "      <td>NaN</td>\n",
              "      <td>NaN</td>\n",
              "      <td>NaN</td>\n",
              "      <td>NaN</td>\n",
              "      <td>1.0</td>\n",
              "      <td>1.0</td>\n",
              "      <td>0.0</td>\n",
              "      <td>NaN</td>\n",
              "      <td>NaN</td>\n",
              "      <td>NaN</td>\n",
              "      <td>Mexico</td>\n",
              "      <td>1.0</td>\n",
              "      <td>800000.0</td>\n",
              "      <td>NaN</td>\n",
              "      <td>NaN</td>\n",
              "      <td>NaN</td>\n",
              "      <td>NaN</td>\n",
              "      <td>NaN</td>\n",
              "      <td>NaN</td>\n",
              "      <td>NaN</td>\n",
              "      <td>NaN</td>\n",
              "      <td>NaN</td>\n",
              "      <td>NaN</td>\n",
              "      <td>NaN</td>\n",
              "      <td>PGIS</td>\n",
              "      <td>0</td>\n",
              "      <td>1</td>\n",
              "      <td>1</td>\n",
              "      <td>1</td>\n",
              "      <td>NaN</td>\n",
              "    </tr>\n",
              "    <tr>\n",
              "      <th>2</th>\n",
              "      <td>197001000001</td>\n",
              "      <td>1970</td>\n",
              "      <td>1</td>\n",
              "      <td>0</td>\n",
              "      <td>NaN</td>\n",
              "      <td>0</td>\n",
              "      <td>NaN</td>\n",
              "      <td>160</td>\n",
              "      <td>Philippines</td>\n",
              "      <td>5</td>\n",
              "      <td>Southeast Asia</td>\n",
              "      <td>Tarlac</td>\n",
              "      <td>Unknown</td>\n",
              "      <td>15.478598</td>\n",
              "      <td>120.599741</td>\n",
              "      <td>4.0</td>\n",
              "      <td>0</td>\n",
              "      <td>NaN</td>\n",
              "      <td>NaN</td>\n",
              "      <td>1</td>\n",
              "      <td>1</td>\n",
              "      <td>1</td>\n",
              "      <td>0.0</td>\n",
              "      <td>NaN</td>\n",
              "      <td>NaN</td>\n",
              "      <td>0.0</td>\n",
              "      <td>1</td>\n",
              "      <td>0</td>\n",
              "      <td>1</td>\n",
              "      <td>Assassination</td>\n",
              "      <td>NaN</td>\n",
              "      <td>NaN</td>\n",
              "      <td>NaN</td>\n",
              "      <td>NaN</td>\n",
              "      <td>10</td>\n",
              "      <td>Journalists &amp; Media</td>\n",
              "      <td>54.0</td>\n",
              "      <td>Radio Journalist/Staff/Facility</td>\n",
              "      <td>Voice of America</td>\n",
              "      <td>Employee</td>\n",
              "      <td>...</td>\n",
              "      <td>NaN</td>\n",
              "      <td>NaN</td>\n",
              "      <td>NaN</td>\n",
              "      <td>1.0</td>\n",
              "      <td>NaN</td>\n",
              "      <td>NaN</td>\n",
              "      <td>0.0</td>\n",
              "      <td>NaN</td>\n",
              "      <td>NaN</td>\n",
              "      <td>0</td>\n",
              "      <td>NaN</td>\n",
              "      <td>NaN</td>\n",
              "      <td>NaN</td>\n",
              "      <td>NaN</td>\n",
              "      <td>0.0</td>\n",
              "      <td>NaN</td>\n",
              "      <td>NaN</td>\n",
              "      <td>NaN</td>\n",
              "      <td>NaN</td>\n",
              "      <td>NaN</td>\n",
              "      <td>NaN</td>\n",
              "      <td>0.0</td>\n",
              "      <td>NaN</td>\n",
              "      <td>NaN</td>\n",
              "      <td>NaN</td>\n",
              "      <td>NaN</td>\n",
              "      <td>NaN</td>\n",
              "      <td>NaN</td>\n",
              "      <td>NaN</td>\n",
              "      <td>NaN</td>\n",
              "      <td>NaN</td>\n",
              "      <td>NaN</td>\n",
              "      <td>NaN</td>\n",
              "      <td>NaN</td>\n",
              "      <td>PGIS</td>\n",
              "      <td>-9</td>\n",
              "      <td>-9</td>\n",
              "      <td>1</td>\n",
              "      <td>1</td>\n",
              "      <td>NaN</td>\n",
              "    </tr>\n",
              "    <tr>\n",
              "      <th>3</th>\n",
              "      <td>197001000002</td>\n",
              "      <td>1970</td>\n",
              "      <td>1</td>\n",
              "      <td>0</td>\n",
              "      <td>NaN</td>\n",
              "      <td>0</td>\n",
              "      <td>NaN</td>\n",
              "      <td>78</td>\n",
              "      <td>Greece</td>\n",
              "      <td>8</td>\n",
              "      <td>Western Europe</td>\n",
              "      <td>Attica</td>\n",
              "      <td>Athens</td>\n",
              "      <td>37.997490</td>\n",
              "      <td>23.762728</td>\n",
              "      <td>1.0</td>\n",
              "      <td>0</td>\n",
              "      <td>NaN</td>\n",
              "      <td>NaN</td>\n",
              "      <td>1</td>\n",
              "      <td>1</td>\n",
              "      <td>1</td>\n",
              "      <td>0.0</td>\n",
              "      <td>NaN</td>\n",
              "      <td>NaN</td>\n",
              "      <td>0.0</td>\n",
              "      <td>1</td>\n",
              "      <td>0</td>\n",
              "      <td>3</td>\n",
              "      <td>Bombing/Explosion</td>\n",
              "      <td>NaN</td>\n",
              "      <td>NaN</td>\n",
              "      <td>NaN</td>\n",
              "      <td>NaN</td>\n",
              "      <td>7</td>\n",
              "      <td>Government (Diplomatic)</td>\n",
              "      <td>46.0</td>\n",
              "      <td>Embassy/Consulate</td>\n",
              "      <td>NaN</td>\n",
              "      <td>U.S. Embassy</td>\n",
              "      <td>...</td>\n",
              "      <td>NaN</td>\n",
              "      <td>NaN</td>\n",
              "      <td>Explosive</td>\n",
              "      <td>NaN</td>\n",
              "      <td>NaN</td>\n",
              "      <td>NaN</td>\n",
              "      <td>NaN</td>\n",
              "      <td>NaN</td>\n",
              "      <td>NaN</td>\n",
              "      <td>1</td>\n",
              "      <td>NaN</td>\n",
              "      <td>NaN</td>\n",
              "      <td>NaN</td>\n",
              "      <td>NaN</td>\n",
              "      <td>0.0</td>\n",
              "      <td>NaN</td>\n",
              "      <td>NaN</td>\n",
              "      <td>NaN</td>\n",
              "      <td>NaN</td>\n",
              "      <td>NaN</td>\n",
              "      <td>NaN</td>\n",
              "      <td>0.0</td>\n",
              "      <td>NaN</td>\n",
              "      <td>NaN</td>\n",
              "      <td>NaN</td>\n",
              "      <td>NaN</td>\n",
              "      <td>NaN</td>\n",
              "      <td>NaN</td>\n",
              "      <td>NaN</td>\n",
              "      <td>NaN</td>\n",
              "      <td>NaN</td>\n",
              "      <td>NaN</td>\n",
              "      <td>NaN</td>\n",
              "      <td>NaN</td>\n",
              "      <td>PGIS</td>\n",
              "      <td>-9</td>\n",
              "      <td>-9</td>\n",
              "      <td>1</td>\n",
              "      <td>1</td>\n",
              "      <td>NaN</td>\n",
              "    </tr>\n",
              "    <tr>\n",
              "      <th>4</th>\n",
              "      <td>197001000003</td>\n",
              "      <td>1970</td>\n",
              "      <td>1</td>\n",
              "      <td>0</td>\n",
              "      <td>NaN</td>\n",
              "      <td>0</td>\n",
              "      <td>NaN</td>\n",
              "      <td>101</td>\n",
              "      <td>Japan</td>\n",
              "      <td>4</td>\n",
              "      <td>East Asia</td>\n",
              "      <td>Fukouka</td>\n",
              "      <td>Fukouka</td>\n",
              "      <td>33.580412</td>\n",
              "      <td>130.396361</td>\n",
              "      <td>1.0</td>\n",
              "      <td>0</td>\n",
              "      <td>NaN</td>\n",
              "      <td>NaN</td>\n",
              "      <td>1</td>\n",
              "      <td>1</td>\n",
              "      <td>1</td>\n",
              "      <td>-9.0</td>\n",
              "      <td>NaN</td>\n",
              "      <td>NaN</td>\n",
              "      <td>0.0</td>\n",
              "      <td>1</td>\n",
              "      <td>0</td>\n",
              "      <td>7</td>\n",
              "      <td>Facility/Infrastructure Attack</td>\n",
              "      <td>NaN</td>\n",
              "      <td>NaN</td>\n",
              "      <td>NaN</td>\n",
              "      <td>NaN</td>\n",
              "      <td>7</td>\n",
              "      <td>Government (Diplomatic)</td>\n",
              "      <td>46.0</td>\n",
              "      <td>Embassy/Consulate</td>\n",
              "      <td>NaN</td>\n",
              "      <td>U.S. Consulate</td>\n",
              "      <td>...</td>\n",
              "      <td>NaN</td>\n",
              "      <td>NaN</td>\n",
              "      <td>Incendiary</td>\n",
              "      <td>NaN</td>\n",
              "      <td>NaN</td>\n",
              "      <td>NaN</td>\n",
              "      <td>NaN</td>\n",
              "      <td>NaN</td>\n",
              "      <td>NaN</td>\n",
              "      <td>1</td>\n",
              "      <td>NaN</td>\n",
              "      <td>NaN</td>\n",
              "      <td>NaN</td>\n",
              "      <td>NaN</td>\n",
              "      <td>0.0</td>\n",
              "      <td>NaN</td>\n",
              "      <td>NaN</td>\n",
              "      <td>NaN</td>\n",
              "      <td>NaN</td>\n",
              "      <td>NaN</td>\n",
              "      <td>NaN</td>\n",
              "      <td>0.0</td>\n",
              "      <td>NaN</td>\n",
              "      <td>NaN</td>\n",
              "      <td>NaN</td>\n",
              "      <td>NaN</td>\n",
              "      <td>NaN</td>\n",
              "      <td>NaN</td>\n",
              "      <td>NaN</td>\n",
              "      <td>NaN</td>\n",
              "      <td>NaN</td>\n",
              "      <td>NaN</td>\n",
              "      <td>NaN</td>\n",
              "      <td>NaN</td>\n",
              "      <td>PGIS</td>\n",
              "      <td>-9</td>\n",
              "      <td>-9</td>\n",
              "      <td>1</td>\n",
              "      <td>1</td>\n",
              "      <td>NaN</td>\n",
              "    </tr>\n",
              "  </tbody>\n",
              "</table>\n",
              "<p>5 rows × 135 columns</p>\n",
              "</div>"
            ],
            "text/plain": [
              "        eventid  iyear  imonth  iday  ... INT_IDEO  INT_MISC INT_ANY  related\n",
              "0  197000000001   1970       7     2  ...        0         0       0      NaN\n",
              "1  197000000002   1970       0     0  ...        1         1       1      NaN\n",
              "2  197001000001   1970       1     0  ...       -9         1       1      NaN\n",
              "3  197001000002   1970       1     0  ...       -9         1       1      NaN\n",
              "4  197001000003   1970       1     0  ...       -9         1       1      NaN\n",
              "\n",
              "[5 rows x 135 columns]"
            ]
          },
          "metadata": {},
          "execution_count": 5
        }
      ]
    },
    {
      "cell_type": "code",
      "metadata": {
        "colab": {
          "base_uri": "https://localhost:8080/"
        },
        "id": "Tn0v9ROpltKW",
        "outputId": "e424c069-c156-431c-87c3-7c96f8f0b012"
      },
      "source": [
        "#columns in the dataset:\n",
        "list(gtd_global_primary)"
      ],
      "execution_count": null,
      "outputs": [
        {
          "output_type": "execute_result",
          "data": {
            "text/plain": [
              "['eventid',\n",
              " 'iyear',\n",
              " 'imonth',\n",
              " 'iday',\n",
              " 'approxdate',\n",
              " 'extended',\n",
              " 'resolution',\n",
              " 'country',\n",
              " 'country_txt',\n",
              " 'region',\n",
              " 'region_txt',\n",
              " 'provstate',\n",
              " 'city',\n",
              " 'latitude',\n",
              " 'longitude',\n",
              " 'specificity',\n",
              " 'vicinity',\n",
              " 'location',\n",
              " 'summary',\n",
              " 'crit1',\n",
              " 'crit2',\n",
              " 'crit3',\n",
              " 'doubtterr',\n",
              " 'alternative',\n",
              " 'alternative_txt',\n",
              " 'multiple',\n",
              " 'success',\n",
              " 'suicide',\n",
              " 'attacktype1',\n",
              " 'attacktype1_txt',\n",
              " 'attacktype2',\n",
              " 'attacktype2_txt',\n",
              " 'attacktype3',\n",
              " 'attacktype3_txt',\n",
              " 'targtype1',\n",
              " 'targtype1_txt',\n",
              " 'targsubtype1',\n",
              " 'targsubtype1_txt',\n",
              " 'corp1',\n",
              " 'target1',\n",
              " 'natlty1',\n",
              " 'natlty1_txt',\n",
              " 'targtype2',\n",
              " 'targtype2_txt',\n",
              " 'targsubtype2',\n",
              " 'targsubtype2_txt',\n",
              " 'corp2',\n",
              " 'target2',\n",
              " 'natlty2',\n",
              " 'natlty2_txt',\n",
              " 'targtype3',\n",
              " 'targtype3_txt',\n",
              " 'targsubtype3',\n",
              " 'targsubtype3_txt',\n",
              " 'corp3',\n",
              " 'target3',\n",
              " 'natlty3',\n",
              " 'natlty3_txt',\n",
              " 'gname',\n",
              " 'gsubname',\n",
              " 'gname2',\n",
              " 'gsubname2',\n",
              " 'gname3',\n",
              " 'gsubname3',\n",
              " 'motive',\n",
              " 'guncertain1',\n",
              " 'guncertain2',\n",
              " 'guncertain3',\n",
              " 'individual',\n",
              " 'nperps',\n",
              " 'nperpcap',\n",
              " 'claimed',\n",
              " 'claimmode',\n",
              " 'claimmode_txt',\n",
              " 'claim2',\n",
              " 'claimmode2',\n",
              " 'claimmode2_txt',\n",
              " 'claim3',\n",
              " 'claimmode3',\n",
              " 'claimmode3_txt',\n",
              " 'compclaim',\n",
              " 'weaptype1',\n",
              " 'weaptype1_txt',\n",
              " 'weapsubtype1',\n",
              " 'weapsubtype1_txt',\n",
              " 'weaptype2',\n",
              " 'weaptype2_txt',\n",
              " 'weapsubtype2',\n",
              " 'weapsubtype2_txt',\n",
              " 'weaptype3',\n",
              " 'weaptype3_txt',\n",
              " 'weapsubtype3',\n",
              " 'weapsubtype3_txt',\n",
              " 'weaptype4',\n",
              " 'weaptype4_txt',\n",
              " 'weapsubtype4',\n",
              " 'weapsubtype4_txt',\n",
              " 'weapdetail',\n",
              " 'nkill',\n",
              " 'nkillus',\n",
              " 'nkillter',\n",
              " 'nwound',\n",
              " 'nwoundus',\n",
              " 'nwoundte',\n",
              " 'property',\n",
              " 'propextent',\n",
              " 'propextent_txt',\n",
              " 'propvalue',\n",
              " 'propcomment',\n",
              " 'ishostkid',\n",
              " 'nhostkid',\n",
              " 'nhostkidus',\n",
              " 'nhours',\n",
              " 'ndays',\n",
              " 'divert',\n",
              " 'kidhijcountry',\n",
              " 'ransom',\n",
              " 'ransomamt',\n",
              " 'ransomamtus',\n",
              " 'ransompaid',\n",
              " 'ransompaidus',\n",
              " 'ransomnote',\n",
              " 'hostkidoutcome',\n",
              " 'hostkidoutcome_txt',\n",
              " 'nreleased',\n",
              " 'addnotes',\n",
              " 'scite1',\n",
              " 'scite2',\n",
              " 'scite3',\n",
              " 'dbsource',\n",
              " 'INT_LOG',\n",
              " 'INT_IDEO',\n",
              " 'INT_MISC',\n",
              " 'INT_ANY',\n",
              " 'related']"
            ]
          },
          "metadata": {},
          "execution_count": 6
        }
      ]
    },
    {
      "cell_type": "markdown",
      "metadata": {
        "id": "BVnERInVibMm"
      },
      "source": [
        "A lot of the field names here are hard to make sense of. So here's a code book if you're curious.\n",
        "\n",
        "https://www.start.umd.edu/gtd/downloads/Codebook.pdf"
      ]
    },
    {
      "cell_type": "code",
      "metadata": {
        "id": "qYhG_74Ylnyy"
      },
      "source": [
        "#cleaning up dataset and selecting fields that we need for the analysis\n",
        "gtd_global=gtd_global_primary[['eventid','iyear','imonth','iday','country_txt','region_txt', 'city','provstate','latitude','longitude',\n",
        "                       'success','suicide','attacktype1_txt','targtype1_txt','claimed',\n",
        "                       'gname','weaptype1_txt','nkill','nkillter','nwound','nwoundte','propvalue','ransomamt','doubtterr','alternative_txt']]\n",
        "                       "
      ],
      "execution_count": null,
      "outputs": []
    },
    {
      "cell_type": "code",
      "metadata": {
        "colab": {
          "base_uri": "https://localhost:8080/"
        },
        "id": "qGh59WjUY_qp",
        "outputId": "530e21ba-a49f-409d-e792-1e8da4f260dc"
      },
      "source": [
        "#adding casuality column. Casuality=nkill+nwound\n",
        "gtd_global['casuality']=gtd_global.nkill+gtd_global.nwound"
      ],
      "execution_count": null,
      "outputs": [
        {
          "output_type": "stream",
          "name": "stderr",
          "text": [
            "/usr/local/lib/python3.7/dist-packages/ipykernel_launcher.py:2: SettingWithCopyWarning: \n",
            "A value is trying to be set on a copy of a slice from a DataFrame.\n",
            "Try using .loc[row_indexer,col_indexer] = value instead\n",
            "\n",
            "See the caveats in the documentation: https://pandas.pydata.org/pandas-docs/stable/user_guide/indexing.html#returning-a-view-versus-a-copy\n",
            "  \n"
          ]
        }
      ]
    },
    {
      "cell_type": "code",
      "metadata": {
        "colab": {
          "base_uri": "https://localhost:8080/",
          "height": 501
        },
        "id": "BETLKS-e9clW",
        "outputId": "a9f379e1-f42f-4585-cb6a-d1f85e808b0c"
      },
      "source": [
        "#Let's have a look at NaN value distribution:\n",
        "plt.figure(figsize=(12,7))\n",
        "sns.heatmap(gtd_global.isnull(), yticklabels=False)\n",
        "plt.show()"
      ],
      "execution_count": null,
      "outputs": [
        {
          "output_type": "display_data",
          "data": {
            "image/png": "[encoded data removed]",
            "text/plain": [
              "<Figure size 864x504 with 2 Axes>"
            ]
          },
          "metadata": {
            "needs_background": "light"
          }
        }
      ]
    },
    {
      "cell_type": "markdown",
      "metadata": {
        "id": "NzLPEakM_WIZ"
      },
      "source": [
        "We can observe that following are the fields with most NaN values:\n",
        "\n",
        "1. It can be observed that ransomamt(ransom amount demanded), propvalue(property damages), nwoundte(perpetrators wounded), nkillter( perpetrators killed), alternative_txt are the fields with high concentration of NaN values.\n",
        "2. So it can be inferred that these informations regarding a terrorist attacks are difficult to get hold of."
      ]
    },
    {
      "cell_type": "code",
      "metadata": {
        "colab": {
          "base_uri": "https://localhost:8080/"
        },
        "id": "sz-RItS9mNli",
        "outputId": "25eda163-5780-43f6-f310-436bfbd2574d"
      },
      "source": [
        "#cleaning up the NaN values.\n",
        "gtd_global['country_txt'].fillna('Unknown',inplace=True)\n",
        "gtd_global['region_txt'].fillna('Unknown',inplace=True)\n",
        "gtd_global['city'].fillna('Unknown',inplace=True)\n",
        "gtd_global['provstate'].fillna('Unknown',inplace=True)\n",
        "gtd_global['nwoundte'].fillna(0,inplace=True)\n",
        "gtd_global['ransomamt'].fillna('Unknown',inplace=True)\n",
        "gtd_global['success'].fillna('Unknown',inplace=True)\n",
        "gtd_global['suicide'].fillna('Unknown',inplace=True)\n",
        "gtd_global['attacktype1_txt'].fillna('Unknown',inplace=True)\n",
        "gtd_global['targtype1_txt'].fillna('Unknown',inplace=True)\n",
        "gtd_global['gname'].fillna('Unknown',inplace=True)\n",
        "gtd_global['claimed'].fillna(0,inplace=True) #You can't really 'not know' if its claimed. I'm taking the liberty to assume the NaN values here are unclaimed.\n",
        "gtd_global['weaptype1_txt'].fillna('Unknown',inplace=True)\n",
        "gtd_global['nkill'].fillna(0,inplace=True)\n",
        "gtd_global['nwound'].fillna(0,inplace=True)\n",
        "gtd_global['propvalue'].fillna(0,inplace=True)\n",
        "gtd_global['nkillter'].fillna(0,inplace=True)\n",
        "gtd_global['alternative_txt'].fillna('unknown',inplace=True)\n",
        "gtd_global['doubtterr'].fillna(0,inplace=True)\n",
        "gtd_global['latitude'].fillna(0,inplace=True)\n",
        "gtd_global['longitude'].fillna(0,inplace=True)\n",
        "gtd_global['casuality'].fillna(0,inplace=True)\n"
      ],
      "execution_count": null,
      "outputs": [
        {
          "output_type": "stream",
          "name": "stderr",
          "text": [
            "/usr/local/lib/python3.7/dist-packages/pandas/core/series.py:4536: SettingWithCopyWarning: \n",
            "A value is trying to be set on a copy of a slice from a DataFrame\n",
            "\n",
            "See the caveats in the documentation: https://pandas.pydata.org/pandas-docs/stable/user_guide/indexing.html#returning-a-view-versus-a-copy\n",
            "  downcast=downcast,\n"
          ]
        }
      ]
    },
    {
      "cell_type": "code",
      "metadata": {
        "colab": {
          "base_uri": "https://localhost:8080/",
          "height": 501
        },
        "id": "QWYjnjZWAnek",
        "outputId": "22982220-073b-4fed-90c4-f4a0e36fa50c"
      },
      "source": [
        "plt.figure(figsize=(12,7))\n",
        "sns.heatmap(gtd_global.isnull(), yticklabels=False)\n",
        "plt.show()"
      ],
      "execution_count": null,
      "outputs": [
        {
          "output_type": "display_data",
          "data": {
            "image/png": "[encoded data removed]",
            "text/plain": [
              "<Figure size 864x504 with 2 Axes>"
            ]
          },
          "metadata": {
            "needs_background": "light"
          }
        }
      ]
    },
    {
      "cell_type": "markdown",
      "metadata": {
        "id": "O_vgGDVrAscb"
      },
      "source": [
        "NaN values are cleared from the dataframe"
      ]
    },
    {
      "cell_type": "code",
      "metadata": {
        "colab": {
          "base_uri": "https://localhost:8080/"
        },
        "id": "Jg1_o0VlmoXn",
        "outputId": "874cb16c-a25b-4f19-ce0b-003a050119ad"
      },
      "source": [
        "#renaming the columns\n",
        "gtd_global.rename(columns={'iyear':'year',\n",
        "                           'imonth':'month',\n",
        "                           'iday':'day',\n",
        "                           'country_txt':'country',\n",
        "                           'region_txt':'region',\n",
        "                           'provstate':'state',\n",
        "                           'attacktype1_txt':'attack_type',\n",
        "                           'targtype1_txt':'target_type',\n",
        "                           'gname':'organisation',\n",
        "                           'weaptype1_txt':'weapon_type',\n",
        "                           'nwoundte':'perpetrator_wounded',\n",
        "                           'ransomamt':'ransom_amount',\n",
        "                           'nkillter':'perpetrator_killed',\n",
        "                           'doubtterr':'doubt_terror'},inplace=True)"
      ],
      "execution_count": null,
      "outputs": [
        {
          "output_type": "stream",
          "name": "stderr",
          "text": [
            "/usr/local/lib/python3.7/dist-packages/pandas/core/frame.py:4308: SettingWithCopyWarning: \n",
            "A value is trying to be set on a copy of a slice from a DataFrame\n",
            "\n",
            "See the caveats in the documentation: https://pandas.pydata.org/pandas-docs/stable/user_guide/indexing.html#returning-a-view-versus-a-copy\n",
            "  errors=errors,\n"
          ]
        }
      ]
    },
    {
      "cell_type": "code",
      "metadata": {
        "id": "6XS4HtAYm9Yq",
        "colab": {
          "base_uri": "https://localhost:8080/"
        },
        "outputId": "f1d103e7-f8d7-45da-8ab4-86b63b9f0258"
      },
      "source": [
        "#adding casuality column to the data frame. Casulities= nwound+casuality\n",
        "gtd_global['casuality']=gtd_global.nkill+gtd_global.nwound"
      ],
      "execution_count": null,
      "outputs": [
        {
          "output_type": "stream",
          "name": "stderr",
          "text": [
            "/usr/local/lib/python3.7/dist-packages/ipykernel_launcher.py:2: SettingWithCopyWarning: \n",
            "A value is trying to be set on a copy of a slice from a DataFrame.\n",
            "Try using .loc[row_indexer,col_indexer] = value instead\n",
            "\n",
            "See the caveats in the documentation: https://pandas.pydata.org/pandas-docs/stable/user_guide/indexing.html#returning-a-view-versus-a-copy\n",
            "  \n"
          ]
        }
      ]
    },
    {
      "cell_type": "code",
      "metadata": {
        "id": "SAtD6m31ng_s"
      },
      "source": [
        "#creating subsets for the regional and national level analysis\n",
        "gtd_SA=gtd_global[gtd_global.region=='South Asia']\n",
        "gtd_india=gtd_global[gtd_global.country=='India']\n"
      ],
      "execution_count": null,
      "outputs": []
    },
    {
      "cell_type": "markdown",
      "metadata": {
        "id": "TqqgSSsNYgpd"
      },
      "source": [
        "#The globe at a glance\n",
        "\n",
        "Let's take a step back and have a look at the situation"
      ]
    },
    {
      "cell_type": "code",
      "metadata": {
        "id": "QEXwCtM7YoP3"
      },
      "source": [
        "#creating a df with frequency of attacks grouped by countries\n",
        "gtd_country=gtd_global.groupby('country')['eventid'].count().reset_index() #this would give us total number of attack in each country over the time\n",
        "\n",
        "gtd_country_timeline=gtd_global.groupby(['year','country'])['eventid'].count().reset_index() # this dataframe would help us with a timeline of every year since 1970\n",
        "\n",
        "global_timeline=gtd_global.groupby('year')['eventid'].count().reset_index().rename(columns={'eventid':'attack_count'})\n",
        "global_timeline['casualities']=gtd_global.groupby('year')['casuality'].sum().reset_index()['casuality']\n",
        "\n"
      ],
      "execution_count": null,
      "outputs": []
    },
    {
      "cell_type": "code",
      "metadata": {
        "colab": {
          "base_uri": "https://localhost:8080/",
          "height": 1000
        },
        "id": "FmEkux29ZIZn",
        "outputId": "75363b7c-9325-4626-e92c-0588e93dcd80"
      },
      "source": [
        "#visualisation\n",
        "total_attacks=px.choropleth( gtd_country,locations='country',locationmode='country names',color='eventid',\n",
        "                            template='plotly_dark', hover_name='country',projection='orthographic',\n",
        "                            title='Total number of attacks(1970-2017)',\n",
        "                            color_continuous_scale = px.colors.sequential.Blugrn,\n",
        "                            labels={'eventid':'attacks'})\n",
        "\n",
        "total_attacks.show()\n",
        "\n",
        "\n",
        "timeline=px.choropleth(gtd_country_timeline,locations='country',locationmode='country names',color='eventid',template='plotly_dark',\n",
        "                  hover_name='country',title='Time line of attacks in each year from 1970 to 2017',\n",
        "                  color_continuous_scale = px.colors.sequential.Blugrn,\n",
        "                  animation_frame='year',\n",
        "                  labels={'eventid':'attacks'})\n",
        "print('use the animation frame below to navigate through years')\n",
        "timeline.show()\n",
        "\n",
        "\n",
        "treemap=px.treemap(data_frame=gtd_global,\n",
        "           template='plotly_dark',\n",
        "           values='casuality',\n",
        "           path=['region','country','state'],\n",
        "           color_discrete_sequence=px.colors.sequential.Blugrn,\n",
        "           title='Treemap segregated by region, country and state, with casualities as values',\n",
        "          \n",
        "\n",
        "           )\n",
        "print('following is an interactive tree map. Click on a region to break it down to countries and further down to states.')\n",
        "treemap.show()\n",
        "\n",
        "timeline=px.line(data_frame=global_timeline,y=['attack_count','casualities'],x='year',template='plotly_dark')\n",
        "timeline.show()"
      ],
      "execution_count": null,
      "outputs": [
        {
          "output_type": "display_data",
          "data": {
            "text/html": [
              "<html>\n",
              "<head><meta charset=\"utf-8\" /></head>\n",
              "<body>\n",
              "    <div>            <script src=\"https://cdnjs.cloudflare.com/ajax/libs/mathjax/2.7.5/MathJax.js?config=TeX-AMS-MML_SVG\"></script><script type=\"text/javascript\">if (window.MathJax) {MathJax.Hub.Config({SVG: {font: \"STIX-Web\"}});}</script>                <script type=\"text/javascript\">window.PlotlyConfig = {MathJaxConfig: 'local'};</script>\n",
              "        <script src=\"https://cdn.plot.ly/plotly-2.4.2.min.js\"></script>                <div id=\"41a9b7b0-7ce0-4f19-862a-2afea72a5b98\" class=\"plotly-graph-div\" style=\"height:525px; width:100%;\"></div>            <script type=\"text/javascript\">                                    window.PLOTLYENV=window.PLOTLYENV || {};                                    if (document.getElementById(\"41a9b7b0-7ce0-4f19-862a-2afea72a5b98\")) {                    Plotly.newPlot(                        \"41a9b7b0-7ce0-4f19-862a-2afea72a5b98\",                        [{\"coloraxis\":\"coloraxis\",\"geo\":\"geo\",\"hovertemplate\":\"<b>%{hovertext}</b><br><br>country=%{location}<br>attacks=%{z}<extra></extra>\",\"hovertext\":[\"Afghanistan\",\"Albania\",\"Algeria\",\"Andorra\",\"Angola\",\"Antigua and Barbuda\",\"Argentina\",\"Armenia\",\"Australia\",\"Austria\",\"Azerbaijan\",\"Bahamas\",\"Bahrain\",\"Bangladesh\",\"Barbados\",\"Belarus\",\"Belgium\",\"Belize\",\"Benin\",\"Bhutan\",\"Bolivia\",\"Bosnia-Herzegovina\",\"Botswana\",\"Brazil\",\"Brunei\",\"Bulgaria\",\"Burkina Faso\",\"Burundi\",\"Cambodia\",\"Cameroon\",\"Canada\",\"Central African Republic\",\"Chad\",\"Chile\",\"China\",\"Colombia\",\"Comoros\",\"Costa Rica\",\"Croatia\",\"Cuba\",\"Cyprus\",\"Czech Republic\",\"Czechoslovakia\",\"Democratic Republic of the Congo\",\"Denmark\",\"Djibouti\",\"Dominica\",\"Dominican Republic\",\"East Germany (GDR)\",\"East Timor\",\"Ecuador\",\"Egypt\",\"El Salvador\",\"Equatorial Guinea\",\"Eritrea\",\"Estonia\",\"Ethiopia\",\"Falkland Islands\",\"Fiji\",\"Finland\",\"France\",\"French Guiana\",\"French Polynesia\",\"Gabon\",\"Gambia\",\"Georgia\",\"Germany\",\"Ghana\",\"Greece\",\"Grenada\",\"Guadeloupe\",\"Guatemala\",\"Guinea\",\"Guinea-Bissau\",\"Guyana\",\"Haiti\",\"Honduras\",\"Hong Kong\",\"Hungary\",\"Iceland\",\"India\",\"Indonesia\",\"International\",\"Iran\",\"Iraq\",\"Ireland\",\"Israel\",\"Italy\",\"Ivory Coast\",\"Jamaica\",\"Japan\",\"Jordan\",\"Kazakhstan\",\"Kenya\",\"Kosovo\",\"Kuwait\",\"Kyrgyzstan\",\"Laos\",\"Latvia\",\"Lebanon\",\"Lesotho\",\"Liberia\",\"Libya\",\"Lithuania\",\"Luxembourg\",\"Macau\",\"Macedonia\",\"Madagascar\",\"Malawi\",\"Malaysia\",\"Maldives\",\"Mali\",\"Malta\",\"Martinique\",\"Mauritania\",\"Mauritius\",\"Mexico\",\"Moldova\",\"Montenegro\",\"Morocco\",\"Mozambique\",\"Myanmar\",\"Namibia\",\"Nepal\",\"Netherlands\",\"New Caledonia\",\"New Hebrides\",\"New Zealand\",\"Nicaragua\",\"Niger\",\"Nigeria\",\"North Korea\",\"North Yemen\",\"Norway\",\"Pakistan\",\"Panama\",\"Papua New Guinea\",\"Paraguay\",\"People's Republic of the Congo\",\"Peru\",\"Philippines\",\"Poland\",\"Portugal\",\"Qatar\",\"Republic of the Congo\",\"Rhodesia\",\"Romania\",\"Russia\",\"Rwanda\",\"Saudi Arabia\",\"Senegal\",\"Serbia\",\"Serbia-Montenegro\",\"Seychelles\",\"Sierra Leone\",\"Singapore\",\"Slovak Republic\",\"Slovenia\",\"Solomon Islands\",\"Somalia\",\"South Africa\",\"South Korea\",\"South Sudan\",\"South Vietnam\",\"South Yemen\",\"Soviet Union\",\"Spain\",\"Sri Lanka\",\"St. Kitts and Nevis\",\"St. Lucia\",\"Sudan\",\"Suriname\",\"Swaziland\",\"Sweden\",\"Switzerland\",\"Syria\",\"Taiwan\",\"Tajikistan\",\"Tanzania\",\"Thailand\",\"Togo\",\"Trinidad and Tobago\",\"Tunisia\",\"Turkey\",\"Turkmenistan\",\"Uganda\",\"Ukraine\",\"United Arab Emirates\",\"United Kingdom\",\"United States\",\"Uruguay\",\"Uzbekistan\",\"Vanuatu\",\"Vatican City\",\"Venezuela\",\"Vietnam\",\"Wallis and Futuna\",\"West Bank and Gaza Strip\",\"West Germany (FRG)\",\"Western Sahara\",\"Yemen\",\"Yugoslavia\",\"Zaire\",\"Zambia\",\"Zimbabwe\"],\"locationmode\":\"country names\",\"locations\":[\"Afghanistan\",\"Albania\",\"Algeria\",\"Andorra\",\"Angola\",\"Antigua and Barbuda\",\"Argentina\",\"Armenia\",\"Australia\",\"Austria\",\"Azerbaijan\",\"Bahamas\",\"Bahrain\",\"Bangladesh\",\"Barbados\",\"Belarus\",\"Belgium\",\"Belize\",\"Benin\",\"Bhutan\",\"Bolivia\",\"Bosnia-Herzegovina\",\"Botswana\",\"Brazil\",\"Brunei\",\"Bulgaria\",\"Burkina Faso\",\"Burundi\",\"Cambodia\",\"Cameroon\",\"Canada\",\"Central African Republic\",\"Chad\",\"Chile\",\"China\",\"Colombia\",\"Comoros\",\"Costa Rica\",\"Croatia\",\"Cuba\",\"Cyprus\",\"Czech Republic\",\"Czechoslovakia\",\"Democratic Republic of the Congo\",\"Denmark\",\"Djibouti\",\"Dominica\",\"Dominican Republic\",\"East Germany (GDR)\",\"East Timor\",\"Ecuador\",\"Egypt\",\"El Salvador\",\"Equatorial Guinea\",\"Eritrea\",\"Estonia\",\"Ethiopia\",\"Falkland Islands\",\"Fiji\",\"Finland\",\"France\",\"French Guiana\",\"French Polynesia\",\"Gabon\",\"Gambia\",\"Georgia\",\"Germany\",\"Ghana\",\"Greece\",\"Grenada\",\"Guadeloupe\",\"Guatemala\",\"Guinea\",\"Guinea-Bissau\",\"Guyana\",\"Haiti\",\"Honduras\",\"Hong Kong\",\"Hungary\",\"Iceland\",\"India\",\"Indonesia\",\"International\",\"Iran\",\"Iraq\",\"Ireland\",\"Israel\",\"Italy\",\"Ivory Coast\",\"Jamaica\",\"Japan\",\"Jordan\",\"Kazakhstan\",\"Kenya\",\"Kosovo\",\"Kuwait\",\"Kyrgyzstan\",\"Laos\",\"Latvia\",\"Lebanon\",\"Lesotho\",\"Liberia\",\"Libya\",\"Lithuania\",\"Luxembourg\",\"Macau\",\"Macedonia\",\"Madagascar\",\"Malawi\",\"Malaysia\",\"Maldives\",\"Mali\",\"Malta\",\"Martinique\",\"Mauritania\",\"Mauritius\",\"Mexico\",\"Moldova\",\"Montenegro\",\"Morocco\",\"Mozambique\",\"Myanmar\",\"Namibia\",\"Nepal\",\"Netherlands\",\"New Caledonia\",\"New Hebrides\",\"New Zealand\",\"Nicaragua\",\"Niger\",\"Nigeria\",\"North Korea\",\"North Yemen\",\"Norway\",\"Pakistan\",\"Panama\",\"Papua New Guinea\",\"Paraguay\",\"People's Republic of the Congo\",\"Peru\",\"Philippines\",\"Poland\",\"Portugal\",\"Qatar\",\"Republic of the Congo\",\"Rhodesia\",\"Romania\",\"Russia\",\"Rwanda\",\"Saudi Arabia\",\"Senegal\",\"Serbia\",\"Serbia-Montenegro\",\"Seychelles\",\"Sierra Leone\",\"Singapore\",\"Slovak Republic\",\"Slovenia\",\"Solomon Islands\",\"Somalia\",\"South Africa\",\"South Korea\",\"South Sudan\",\"South Vietnam\",\"South Yemen\",\"Soviet Union\",\"Spain\",\"Sri Lanka\",\"St. Kitts and Nevis\",\"St. Lucia\",\"Sudan\",\"Suriname\",\"Swaziland\",\"Sweden\",\"Switzerland\",\"Syria\",\"Taiwan\",\"Tajikistan\",\"Tanzania\",\"Thailand\",\"Togo\",\"Trinidad and Tobago\",\"Tunisia\",\"Turkey\",\"Turkmenistan\",\"Uganda\",\"Ukraine\",\"United Arab Emirates\",\"United Kingdom\",\"United States\",\"Uruguay\",\"Uzbekistan\",\"Vanuatu\",\"Vatican City\",\"Venezuela\",\"Vietnam\",\"Wallis and Futuna\",\"West Bank and Gaza Strip\",\"West Germany (FRG)\",\"Western Sahara\",\"Yemen\",\"Yugoslavia\",\"Zaire\",\"Zambia\",\"Zimbabwe\"],\"name\":\"\",\"type\":\"choropleth\",\"z\":[12731,80,2743,1,499,1,815,24,114,115,49,5,207,1648,3,13,154,8,8,6,314,159,10,273,6,52,52,613,259,332,96,283,91,2365,252,8306,5,67,57,30,132,32,10,775,41,22,3,90,38,10,220,2479,5320,2,10,16,190,1,17,20,2693,7,3,8,3,217,735,19,1275,5,56,2050,25,9,26,213,323,26,46,4,11960,761,1,684,24636,307,2183,1565,74,36,402,113,27,683,196,76,35,27,17,2478,29,34,2249,8,16,33,118,27,5,99,22,566,23,12,18,2,524,21,5,36,363,546,151,1215,130,31,1,20,1970,154,3907,1,6,19,14368,127,89,114,4,6096,6908,39,140,7,36,83,6,2194,159,371,118,12,11,2,101,7,18,6,4,4142,2016,38,225,1,2,78,3249,3022,2,1,967,66,16,132,111,2201,50,188,59,3849,48,22,109,4292,2,394,1709,22,5235,2836,82,21,2,1,293,12,1,2227,541,5,3347,203,50,62,101]}],                        {\"coloraxis\":{\"colorbar\":{\"title\":{\"text\":\"attacks\"}},\"colorscale\":[[0.0,\"rgb(196, 230, 195)\"],[0.16666666666666666,\"rgb(150, 210, 164)\"],[0.3333333333333333,\"rgb(109, 188, 144)\"],[0.5,\"rgb(77, 162, 132)\"],[0.6666666666666666,\"rgb(54, 135, 122)\"],[0.8333333333333334,\"rgb(38, 107, 110)\"],[1.0,\"rgb(29, 79, 96)\"]]},\"geo\":{\"center\":{},\"domain\":{\"x\":[0.0,1.0],\"y\":[0.0,1.0]},\"projection\":{\"type\":\"orthographic\"}},\"legend\":{\"tracegroupgap\":0},\"template\":{\"data\":{\"bar\":[{\"error_x\":{\"color\":\"#f2f5fa\"},\"error_y\":{\"color\":\"#f2f5fa\"},\"marker\":{\"line\":{\"color\":\"rgb(17,17,17)\",\"width\":0.5},\"pattern\":{\"fillmode\":\"overlay\",\"size\":10,\"solidity\":0.2}},\"type\":\"bar\"}],\"barpolar\":[{\"marker\":{\"line\":{\"color\":\"rgb(17,17,17)\",\"width\":0.5},\"pattern\":{\"fillmode\":\"overlay\",\"size\":10,\"solidity\":0.2}},\"type\":\"barpolar\"}],\"carpet\":[{\"aaxis\":{\"endlinecolor\":\"#A2B1C6\",\"gridcolor\":\"#506784\",\"linecolor\":\"#506784\",\"minorgridcolor\":\"#506784\",\"startlinecolor\":\"#A2B1C6\"},\"baxis\":{\"endlinecolor\":\"#A2B1C6\",\"gridcolor\":\"#506784\",\"linecolor\":\"#506784\",\"minorgridcolor\":\"#506784\",\"startlinecolor\":\"#A2B1C6\"},\"type\":\"carpet\"}],\"choropleth\":[{\"colorbar\":{\"outlinewidth\":0,\"ticks\":\"\"},\"type\":\"choropleth\"}],\"contour\":[{\"colorbar\":{\"outlinewidth\":0,\"ticks\":\"\"},\"colorscale\":[[0.0,\"#0d0887\"],[0.1111111111111111,\"#46039f\"],[0.2222222222222222,\"#7201a8\"],[0.3333333333333333,\"#9c179e\"],[0.4444444444444444,\"#bd3786\"],[0.5555555555555556,\"#d8576b\"],[0.6666666666666666,\"#ed7953\"],[0.7777777777777778,\"#fb9f3a\"],[0.8888888888888888,\"#fdca26\"],[1.0,\"#f0f921\"]],\"type\":\"contour\"}],\"contourcarpet\":[{\"colorbar\":{\"outlinewidth\":0,\"ticks\":\"\"},\"type\":\"contourcarpet\"}],\"heatmap\":[{\"colorbar\":{\"outlinewidth\":0,\"ticks\":\"\"},\"colorscale\":[[0.0,\"#0d0887\"],[0.1111111111111111,\"#46039f\"],[0.2222222222222222,\"#7201a8\"],[0.3333333333333333,\"#9c179e\"],[0.4444444444444444,\"#bd3786\"],[0.5555555555555556,\"#d8576b\"],[0.6666666666666666,\"#ed7953\"],[0.7777777777777778,\"#fb9f3a\"],[0.8888888888888888,\"#fdca26\"],[1.0,\"#f0f921\"]],\"type\":\"heatmap\"}],\"heatmapgl\":[{\"colorbar\":{\"outlinewidth\":0,\"ticks\":\"\"},\"colorscale\":[[0.0,\"#0d0887\"],[0.1111111111111111,\"#46039f\"],[0.2222222222222222,\"#7201a8\"],[0.3333333333333333,\"#9c179e\"],[0.4444444444444444,\"#bd3786\"],[0.5555555555555556,\"#d8576b\"],[0.6666666666666666,\"#ed7953\"],[0.7777777777777778,\"#fb9f3a\"],[0.8888888888888888,\"#fdca26\"],[1.0,\"#f0f921\"]],\"type\":\"heatmapgl\"}],\"histogram\":[{\"marker\":{\"pattern\":{\"fillmode\":\"overlay\",\"size\":10,\"solidity\":0.2}},\"type\":\"histogram\"}],\"histogram2d\":[{\"colorbar\":{\"outlinewidth\":0,\"ticks\":\"\"},\"colorscale\":[[0.0,\"#0d0887\"],[0.1111111111111111,\"#46039f\"],[0.2222222222222222,\"#7201a8\"],[0.3333333333333333,\"#9c179e\"],[0.4444444444444444,\"#bd3786\"],[0.5555555555555556,\"#d8576b\"],[0.6666666666666666,\"#ed7953\"],[0.7777777777777778,\"#fb9f3a\"],[0.8888888888888888,\"#fdca26\"],[1.0,\"#f0f921\"]],\"type\":\"histogram2d\"}],\"histogram2dcontour\":[{\"colorbar\":{\"outlinewidth\":0,\"ticks\":\"\"},\"colorscale\":[[0.0,\"#0d0887\"],[0.1111111111111111,\"#46039f\"],[0.2222222222222222,\"#7201a8\"],[0.3333333333333333,\"#9c179e\"],[0.4444444444444444,\"#bd3786\"],[0.5555555555555556,\"#d8576b\"],[0.6666666666666666,\"#ed7953\"],[0.7777777777777778,\"#fb9f3a\"],[0.8888888888888888,\"#fdca26\"],[1.0,\"#f0f921\"]],\"type\":\"histogram2dcontour\"}],\"mesh3d\":[{\"colorbar\":{\"outlinewidth\":0,\"ticks\":\"\"},\"type\":\"mesh3d\"}],\"parcoords\":[{\"line\":{\"colorbar\":{\"outlinewidth\":0,\"ticks\":\"\"}},\"type\":\"parcoords\"}],\"pie\":[{\"automargin\":true,\"type\":\"pie\"}],\"scatter\":[{\"marker\":{\"line\":{\"color\":\"#283442\"}},\"type\":\"scatter\"}],\"scatter3d\":[{\"line\":{\"colorbar\":{\"outlinewidth\":0,\"ticks\":\"\"}},\"marker\":{\"colorbar\":{\"outlinewidth\":0,\"ticks\":\"\"}},\"type\":\"scatter3d\"}],\"scattercarpet\":[{\"marker\":{\"colorbar\":{\"outlinewidth\":0,\"ticks\":\"\"}},\"type\":\"scattercarpet\"}],\"scattergeo\":[{\"marker\":{\"colorbar\":{\"outlinewidth\":0,\"ticks\":\"\"}},\"type\":\"scattergeo\"}],\"scattergl\":[{\"marker\":{\"line\":{\"color\":\"#283442\"}},\"type\":\"scattergl\"}],\"scattermapbox\":[{\"marker\":{\"colorbar\":{\"outlinewidth\":0,\"ticks\":\"\"}},\"type\":\"scattermapbox\"}],\"scatterpolar\":[{\"marker\":{\"colorbar\":{\"outlinewidth\":0,\"ticks\":\"\"}},\"type\":\"scatterpolar\"}],\"scatterpolargl\":[{\"marker\":{\"colorbar\":{\"outlinewidth\":0,\"ticks\":\"\"}},\"type\":\"scatterpolargl\"}],\"scatterternary\":[{\"marker\":{\"colorbar\":{\"outlinewidth\":0,\"ticks\":\"\"}},\"type\":\"scatterternary\"}],\"surface\":[{\"colorbar\":{\"outlinewidth\":0,\"ticks\":\"\"},\"colorscale\":[[0.0,\"#0d0887\"],[0.1111111111111111,\"#46039f\"],[0.2222222222222222,\"#7201a8\"],[0.3333333333333333,\"#9c179e\"],[0.4444444444444444,\"#bd3786\"],[0.5555555555555556,\"#d8576b\"],[0.6666666666666666,\"#ed7953\"],[0.7777777777777778,\"#fb9f3a\"],[0.8888888888888888,\"#fdca26\"],[1.0,\"#f0f921\"]],\"type\":\"surface\"}],\"table\":[{\"cells\":{\"fill\":{\"color\":\"#506784\"},\"line\":{\"color\":\"rgb(17,17,17)\"}},\"header\":{\"fill\":{\"color\":\"#2a3f5f\"},\"line\":{\"color\":\"rgb(17,17,17)\"}},\"type\":\"table\"}]},\"layout\":{\"annotationdefaults\":{\"arrowcolor\":\"#f2f5fa\",\"arrowhead\":0,\"arrowwidth\":1},\"autotypenumbers\":\"strict\",\"coloraxis\":{\"colorbar\":{\"outlinewidth\":0,\"ticks\":\"\"}},\"colorscale\":{\"diverging\":[[0,\"#8e0152\"],[0.1,\"#c51b7d\"],[0.2,\"#de77ae\"],[0.3,\"#f1b6da\"],[0.4,\"#fde0ef\"],[0.5,\"#f7f7f7\"],[0.6,\"#e6f5d0\"],[0.7,\"#b8e186\"],[0.8,\"#7fbc41\"],[0.9,\"#4d9221\"],[1,\"#276419\"]],\"sequential\":[[0.0,\"#0d0887\"],[0.1111111111111111,\"#46039f\"],[0.2222222222222222,\"#7201a8\"],[0.3333333333333333,\"#9c179e\"],[0.4444444444444444,\"#bd3786\"],[0.5555555555555556,\"#d8576b\"],[0.6666666666666666,\"#ed7953\"],[0.7777777777777778,\"#fb9f3a\"],[0.8888888888888888,\"#fdca26\"],[1.0,\"#f0f921\"]],\"sequentialminus\":[[0.0,\"#0d0887\"],[0.1111111111111111,\"#46039f\"],[0.2222222222222222,\"#7201a8\"],[0.3333333333333333,\"#9c179e\"],[0.4444444444444444,\"#bd3786\"],[0.5555555555555556,\"#d8576b\"],[0.6666666666666666,\"#ed7953\"],[0.7777777777777778,\"#fb9f3a\"],[0.8888888888888888,\"#fdca26\"],[1.0,\"#f0f921\"]]},\"colorway\":[\"#636efa\",\"#EF553B\",\"#00cc96\",\"#ab63fa\",\"#FFA15A\",\"#19d3f3\",\"#FF6692\",\"#B6E880\",\"#FF97FF\",\"#FECB52\"],\"font\":{\"color\":\"#f2f5fa\"},\"geo\":{\"bgcolor\":\"rgb(17,17,17)\",\"lakecolor\":\"rgb(17,17,17)\",\"landcolor\":\"rgb(17,17,17)\",\"showlakes\":true,\"showland\":true,\"subunitcolor\":\"#506784\"},\"hoverlabel\":{\"align\":\"left\"},\"hovermode\":\"closest\",\"mapbox\":{\"style\":\"dark\"},\"paper_bgcolor\":\"rgb(17,17,17)\",\"plot_bgcolor\":\"rgb(17,17,17)\",\"polar\":{\"angularaxis\":{\"gridcolor\":\"#506784\",\"linecolor\":\"#506784\",\"ticks\":\"\"},\"bgcolor\":\"rgb(17,17,17)\",\"radialaxis\":{\"gridcolor\":\"#506784\",\"linecolor\":\"#506784\",\"ticks\":\"\"}},\"scene\":{\"xaxis\":{\"backgroundcolor\":\"rgb(17,17,17)\",\"gridcolor\":\"#506784\",\"gridwidth\":2,\"linecolor\":\"#506784\",\"showbackground\":true,\"ticks\":\"\",\"zerolinecolor\":\"#C8D4E3\"},\"yaxis\":{\"backgroundcolor\":\"rgb(17,17,17)\",\"gridcolor\":\"#506784\",\"gridwidth\":2,\"linecolor\":\"#506784\",\"showbackground\":true,\"ticks\":\"\",\"zerolinecolor\":\"#C8D4E3\"},\"zaxis\":{\"backgroundcolor\":\"rgb(17,17,17)\",\"gridcolor\":\"#506784\",\"gridwidth\":2,\"linecolor\":\"#506784\",\"showbackground\":true,\"ticks\":\"\",\"zerolinecolor\":\"#C8D4E3\"}},\"shapedefaults\":{\"line\":{\"color\":\"#f2f5fa\"}},\"sliderdefaults\":{\"bgcolor\":\"#C8D4E3\",\"bordercolor\":\"rgb(17,17,17)\",\"borderwidth\":1,\"tickwidth\":0},\"ternary\":{\"aaxis\":{\"gridcolor\":\"#506784\",\"linecolor\":\"#506784\",\"ticks\":\"\"},\"baxis\":{\"gridcolor\":\"#506784\",\"linecolor\":\"#506784\",\"ticks\":\"\"},\"bgcolor\":\"rgb(17,17,17)\",\"caxis\":{\"gridcolor\":\"#506784\",\"linecolor\":\"#506784\",\"ticks\":\"\"}},\"title\":{\"x\":0.05},\"updatemenudefaults\":{\"bgcolor\":\"#506784\",\"borderwidth\":0},\"xaxis\":{\"automargin\":true,\"gridcolor\":\"#283442\",\"linecolor\":\"#506784\",\"ticks\":\"\",\"title\":{\"standoff\":15},\"zerolinecolor\":\"#283442\",\"zerolinewidth\":2},\"yaxis\":{\"automargin\":true,\"gridcolor\":\"#283442\",\"linecolor\":\"#506784\",\"ticks\":\"\",\"title\":{\"standoff\":15},\"zerolinecolor\":\"#283442\",\"zerolinewidth\":2}}},\"title\":{\"text\":\"Total number of attacks(1970-2017)\"}},                        {\"responsive\": true}                    ).then(function(){\n",
              "                            \n",
              "var gd = document.getElementById('41a9b7b0-7ce0-4f19-862a-2afea72a5b98');\n",
              "var x = new MutationObserver(function (mutations, observer) {{\n",
              "        var display = window.getComputedStyle(gd).display;\n",
              "        if (!display || display === 'none') {{\n",
              "            console.log([gd, 'removed!']);\n",
              "            Plotly.purge(gd);\n",
              "            observer.disconnect();\n",
              "        }}\n",
              "}});\n",
              "\n",
              "// Listen for the removal of the full notebook cells\n",
              "var notebookContainer = gd.closest('#notebook-container');\n",
              "if (notebookContainer) {{\n",
              "    x.observe(notebookContainer, {childList: true});\n",
              "}}\n",
              "\n",
              "// Listen for the clearing of the current output cell\n",
              "var outputEl = gd.closest('.output');\n",
              "if (outputEl) {{\n",
              "    x.observe(outputEl, {childList: true});\n",
              "}}\n",
              "\n",
              "                        })                };                            </script>        </div>\n",
              "</body>\n",
              "</html>"
            ]
          },
          "metadata": {}
        },
        {
          "output_type": "stream",
          "name": "stdout",
          "text": [
            "use the animation frame below to navigate through years\n"
          ]
        },
        {
          "output_type": "display_data",
          "data": {
            "text/html": [
              "<html>\n",
              "<head><meta charset=\"utf-8\" /></head>\n",
              "<body>\n",
              "    <div>            <script src=\"https://cdnjs.cloudflare.com/ajax/libs/mathjax/2.7.5/MathJax.js?config=TeX-AMS-MML_SVG\"></script><script type=\"text/javascript\">if (window.MathJax) {MathJax.Hub.Config({SVG: {font: \"STIX-Web\"}});}</script>                <script type=\"text/javascript\">window.PlotlyConfig = {MathJaxConfig: 'local'};</script>\n",
              "        <script src=\"https://cdn.plot.ly/plotly-2.4.2.min.js\"></script>                <div id=\"62366219-00a1-470e-b37d-dfd21220d53e\" class=\"plotly-graph-div\" style=\"height:525px; width:100%;\"></div>            <script type=\"text/javascript\">                                    window.PLOTLYENV=window.PLOTLYENV || {};                                    if (document.getElementById(\"62366219-00a1-470e-b37d-dfd21220d53e\")) {                    Plotly.newPlot(                        \"62366219-00a1-470e-b37d-dfd21220d53e\",                        [{\"coloraxis\":\"coloraxis\",\"geo\":\"geo\",\"hovertemplate\":\"<b>%{hovertext}</b><br><br>year=1970<br>country=%{location}<br>attacks=%{z}<extra></extra>\",\"hovertext\":[\"Argentina\",\"Australia\",\"Belgium\",\"Bolivia\",\"Brazil\",\"Canada\",\"Colombia\",\"Dominican Republic\",\"East Germany (GDR)\",\"Egypt\",\"Ethiopia\",\"Greece\",\"Guatemala\",\"Iran\",\"Ireland\",\"Italy\",\"Japan\",\"Jordan\",\"Lebanon\",\"Mexico\",\"Netherlands\",\"Nicaragua\",\"Pakistan\",\"Paraguay\",\"Philippines\",\"Spain\",\"Switzerland\",\"Turkey\",\"United Kingdom\",\"United States\",\"Uruguay\",\"Venezuela\",\"West Germany (FRG)\"],\"locationmode\":\"country names\",\"locations\":[\"Argentina\",\"Australia\",\"Belgium\",\"Bolivia\",\"Brazil\",\"Canada\",\"Colombia\",\"Dominican Republic\",\"East Germany (GDR)\",\"Egypt\",\"Ethiopia\",\"Greece\",\"Guatemala\",\"Iran\",\"Ireland\",\"Italy\",\"Japan\",\"Jordan\",\"Lebanon\",\"Mexico\",\"Netherlands\",\"Nicaragua\",\"Pakistan\",\"Paraguay\",\"Philippines\",\"Spain\",\"Switzerland\",\"Turkey\",\"United Kingdom\",\"United States\",\"Uruguay\",\"Venezuela\",\"West Germany (FRG)\"],\"name\":\"\",\"type\":\"choropleth\",\"z\":[21,1,1,1,6,2,1,2,12,1,3,3,4,5,1,3,2,9,1,2,3,1,1,1,10,4,3,12,12,468,33,2,20]}],                        {\"coloraxis\":{\"colorbar\":{\"title\":{\"text\":\"attacks\"}},\"colorscale\":[[0.0,\"rgb(196, 230, 195)\"],[0.16666666666666666,\"rgb(150, 210, 164)\"],[0.3333333333333333,\"rgb(109, 188, 144)\"],[0.5,\"rgb(77, 162, 132)\"],[0.6666666666666666,\"rgb(54, 135, 122)\"],[0.8333333333333334,\"rgb(38, 107, 110)\"],[1.0,\"rgb(29, 79, 96)\"]]},\"geo\":{\"center\":{},\"domain\":{\"x\":[0.0,1.0],\"y\":[0.0,1.0]}},\"legend\":{\"tracegroupgap\":0},\"sliders\":[{\"active\":0,\"currentvalue\":{\"prefix\":\"year=\"},\"len\":0.9,\"pad\":{\"b\":10,\"t\":60},\"steps\":[{\"args\":[[\"1970\"],{\"frame\":{\"duration\":0,\"redraw\":true},\"fromcurrent\":true,\"mode\":\"immediate\",\"transition\":{\"duration\":0,\"easing\":\"linear\"}}],\"label\":\"1970\",\"method\":\"animate\"},{\"args\":[[\"1971\"],{\"frame\":{\"duration\":0,\"redraw\":true},\"fromcurrent\":true,\"mode\":\"immediate\",\"transition\":{\"duration\":0,\"easing\":\"linear\"}}],\"label\":\"1971\",\"method\":\"animate\"},{\"args\":[[\"1972\"],{\"frame\":{\"duration\":0,\"redraw\":true},\"fromcurrent\":true,\"mode\":\"immediate\",\"transition\":{\"duration\":0,\"easing\":\"linear\"}}],\"label\":\"1972\",\"method\":\"animate\"},{\"args\":[[\"1973\"],{\"frame\":{\"duration\":0,\"redraw\":true},\"fromcurrent\":true,\"mode\":\"immediate\",\"transition\":{\"duration\":0,\"easing\":\"linear\"}}],\"label\":\"1973\",\"method\":\"animate\"},{\"args\":[[\"1974\"],{\"frame\":{\"duration\":0,\"redraw\":true},\"fromcurrent\":true,\"mode\":\"immediate\",\"transition\":{\"duration\":0,\"easing\":\"linear\"}}],\"label\":\"1974\",\"method\":\"animate\"},{\"args\":[[\"1975\"],{\"frame\":{\"duration\":0,\"redraw\":true},\"fromcurrent\":true,\"mode\":\"immediate\",\"transition\":{\"duration\":0,\"easing\":\"linear\"}}],\"label\":\"1975\",\"method\":\"animate\"},{\"args\":[[\"1976\"],{\"frame\":{\"duration\":0,\"redraw\":true},\"fromcurrent\":true,\"mode\":\"immediate\",\"transition\":{\"duration\":0,\"easing\":\"linear\"}}],\"label\":\"1976\",\"method\":\"animate\"},{\"args\":[[\"1977\"],{\"frame\":{\"duration\":0,\"redraw\":true},\"fromcurrent\":true,\"mode\":\"immediate\",\"transition\":{\"duration\":0,\"easing\":\"linear\"}}],\"label\":\"1977\",\"method\":\"animate\"},{\"args\":[[\"1978\"],{\"frame\":{\"duration\":0,\"redraw\":true},\"fromcurrent\":true,\"mode\":\"immediate\",\"transition\":{\"duration\":0,\"easing\":\"linear\"}}],\"label\":\"1978\",\"method\":\"animate\"},{\"args\":[[\"1979\"],{\"frame\":{\"duration\":0,\"redraw\":true},\"fromcurrent\":true,\"mode\":\"immediate\",\"transition\":{\"duration\":0,\"easing\":\"linear\"}}],\"label\":\"1979\",\"method\":\"animate\"},{\"args\":[[\"1980\"],{\"frame\":{\"duration\":0,\"redraw\":true},\"fromcurrent\":true,\"mode\":\"immediate\",\"transition\":{\"duration\":0,\"easing\":\"linear\"}}],\"label\":\"1980\",\"method\":\"animate\"},{\"args\":[[\"1981\"],{\"frame\":{\"duration\":0,\"redraw\":true},\"fromcurrent\":true,\"mode\":\"immediate\",\"transition\":{\"duration\":0,\"easing\":\"linear\"}}],\"label\":\"1981\",\"method\":\"animate\"},{\"args\":[[\"1982\"],{\"frame\":{\"duration\":0,\"redraw\":true},\"fromcurrent\":true,\"mode\":\"immediate\",\"transition\":{\"duration\":0,\"easing\":\"linear\"}}],\"label\":\"1982\",\"method\":\"animate\"},{\"args\":[[\"1983\"],{\"frame\":{\"duration\":0,\"redraw\":true},\"fromcurrent\":true,\"mode\":\"immediate\",\"transition\":{\"duration\":0,\"easing\":\"linear\"}}],\"label\":\"1983\",\"method\":\"animate\"},{\"args\":[[\"1984\"],{\"frame\":{\"duration\":0,\"redraw\":true},\"fromcurrent\":true,\"mode\":\"immediate\",\"transition\":{\"duration\":0,\"easing\":\"linear\"}}],\"label\":\"1984\",\"method\":\"animate\"},{\"args\":[[\"1985\"],{\"frame\":{\"duration\":0,\"redraw\":true},\"fromcurrent\":true,\"mode\":\"immediate\",\"transition\":{\"duration\":0,\"easing\":\"linear\"}}],\"label\":\"1985\",\"method\":\"animate\"},{\"args\":[[\"1986\"],{\"frame\":{\"duration\":0,\"redraw\":true},\"fromcurrent\":true,\"mode\":\"immediate\",\"transition\":{\"duration\":0,\"easing\":\"linear\"}}],\"label\":\"1986\",\"method\":\"animate\"},{\"args\":[[\"1987\"],{\"frame\":{\"duration\":0,\"redraw\":true},\"fromcurrent\":true,\"mode\":\"immediate\",\"transition\":{\"duration\":0,\"easing\":\"linear\"}}],\"label\":\"1987\",\"method\":\"animate\"},{\"args\":[[\"1988\"],{\"frame\":{\"duration\":0,\"redraw\":true},\"fromcurrent\":true,\"mode\":\"immediate\",\"transition\":{\"duration\":0,\"easing\":\"linear\"}}],\"label\":\"1988\",\"method\":\"animate\"},{\"args\":[[\"1989\"],{\"frame\":{\"duration\":0,\"redraw\":true},\"fromcurrent\":true,\"mode\":\"immediate\",\"transition\":{\"duration\":0,\"easing\":\"linear\"}}],\"label\":\"1989\",\"method\":\"animate\"},{\"args\":[[\"1990\"],{\"frame\":{\"duration\":0,\"redraw\":true},\"fromcurrent\":true,\"mode\":\"immediate\",\"transition\":{\"duration\":0,\"easing\":\"linear\"}}],\"label\":\"1990\",\"method\":\"animate\"},{\"args\":[[\"1991\"],{\"frame\":{\"duration\":0,\"redraw\":true},\"fromcurrent\":true,\"mode\":\"immediate\",\"transition\":{\"duration\":0,\"easing\":\"linear\"}}],\"label\":\"1991\",\"method\":\"animate\"},{\"args\":[[\"1992\"],{\"frame\":{\"duration\":0,\"redraw\":true},\"fromcurrent\":true,\"mode\":\"immediate\",\"transition\":{\"duration\":0,\"easing\":\"linear\"}}],\"label\":\"1992\",\"method\":\"animate\"},{\"args\":[[\"1994\"],{\"frame\":{\"duration\":0,\"redraw\":true},\"fromcurrent\":true,\"mode\":\"immediate\",\"transition\":{\"duration\":0,\"easing\":\"linear\"}}],\"label\":\"1994\",\"method\":\"animate\"},{\"args\":[[\"1995\"],{\"frame\":{\"duration\":0,\"redraw\":true},\"fromcurrent\":true,\"mode\":\"immediate\",\"transition\":{\"duration\":0,\"easing\":\"linear\"}}],\"label\":\"1995\",\"method\":\"animate\"},{\"args\":[[\"1996\"],{\"frame\":{\"duration\":0,\"redraw\":true},\"fromcurrent\":true,\"mode\":\"immediate\",\"transition\":{\"duration\":0,\"easing\":\"linear\"}}],\"label\":\"1996\",\"method\":\"animate\"},{\"args\":[[\"1997\"],{\"frame\":{\"duration\":0,\"redraw\":true},\"fromcurrent\":true,\"mode\":\"immediate\",\"transition\":{\"duration\":0,\"easing\":\"linear\"}}],\"label\":\"1997\",\"method\":\"animate\"},{\"args\":[[\"1998\"],{\"frame\":{\"duration\":0,\"redraw\":true},\"fromcurrent\":true,\"mode\":\"immediate\",\"transition\":{\"duration\":0,\"easing\":\"linear\"}}],\"label\":\"1998\",\"method\":\"animate\"},{\"args\":[[\"1999\"],{\"frame\":{\"duration\":0,\"redraw\":true},\"fromcurrent\":true,\"mode\":\"immediate\",\"transition\":{\"duration\":0,\"easing\":\"linear\"}}],\"label\":\"1999\",\"method\":\"animate\"},{\"args\":[[\"2000\"],{\"frame\":{\"duration\":0,\"redraw\":true},\"fromcurrent\":true,\"mode\":\"immediate\",\"transition\":{\"duration\":0,\"easing\":\"linear\"}}],\"label\":\"2000\",\"method\":\"animate\"},{\"args\":[[\"2001\"],{\"frame\":{\"duration\":0,\"redraw\":true},\"fromcurrent\":true,\"mode\":\"immediate\",\"transition\":{\"duration\":0,\"easing\":\"linear\"}}],\"label\":\"2001\",\"method\":\"animate\"},{\"args\":[[\"2002\"],{\"frame\":{\"duration\":0,\"redraw\":true},\"fromcurrent\":true,\"mode\":\"immediate\",\"transition\":{\"duration\":0,\"easing\":\"linear\"}}],\"label\":\"2002\",\"method\":\"animate\"},{\"args\":[[\"2003\"],{\"frame\":{\"duration\":0,\"redraw\":true},\"fromcurrent\":true,\"mode\":\"immediate\",\"transition\":{\"duration\":0,\"easing\":\"linear\"}}],\"label\":\"2003\",\"method\":\"animate\"},{\"args\":[[\"2004\"],{\"frame\":{\"duration\":0,\"redraw\":true},\"fromcurrent\":true,\"mode\":\"immediate\",\"transition\":{\"duration\":0,\"easing\":\"linear\"}}],\"label\":\"2004\",\"method\":\"animate\"},{\"args\":[[\"2005\"],{\"frame\":{\"duration\":0,\"redraw\":true},\"fromcurrent\":true,\"mode\":\"immediate\",\"transition\":{\"duration\":0,\"easing\":\"linear\"}}],\"label\":\"2005\",\"method\":\"animate\"},{\"args\":[[\"2006\"],{\"frame\":{\"duration\":0,\"redraw\":true},\"fromcurrent\":true,\"mode\":\"immediate\",\"transition\":{\"duration\":0,\"easing\":\"linear\"}}],\"label\":\"2006\",\"method\":\"animate\"},{\"args\":[[\"2007\"],{\"frame\":{\"duration\":0,\"redraw\":true},\"fromcurrent\":true,\"mode\":\"immediate\",\"transition\":{\"duration\":0,\"easing\":\"linear\"}}],\"label\":\"2007\",\"method\":\"animate\"},{\"args\":[[\"2008\"],{\"frame\":{\"duration\":0,\"redraw\":true},\"fromcurrent\":true,\"mode\":\"immediate\",\"transition\":{\"duration\":0,\"easing\":\"linear\"}}],\"label\":\"2008\",\"method\":\"animate\"},{\"args\":[[\"2009\"],{\"frame\":{\"duration\":0,\"redraw\":true},\"fromcurrent\":true,\"mode\":\"immediate\",\"transition\":{\"duration\":0,\"easing\":\"linear\"}}],\"label\":\"2009\",\"method\":\"animate\"},{\"args\":[[\"2010\"],{\"frame\":{\"duration\":0,\"redraw\":true},\"fromcurrent\":true,\"mode\":\"immediate\",\"transition\":{\"duration\":0,\"easing\":\"linear\"}}],\"label\":\"2010\",\"method\":\"animate\"},{\"args\":[[\"2011\"],{\"frame\":{\"duration\":0,\"redraw\":true},\"fromcurrent\":true,\"mode\":\"immediate\",\"transition\":{\"duration\":0,\"easing\":\"linear\"}}],\"label\":\"2011\",\"method\":\"animate\"},{\"args\":[[\"2012\"],{\"frame\":{\"duration\":0,\"redraw\":true},\"fromcurrent\":true,\"mode\":\"immediate\",\"transition\":{\"duration\":0,\"easing\":\"linear\"}}],\"label\":\"2012\",\"method\":\"animate\"},{\"args\":[[\"2013\"],{\"frame\":{\"duration\":0,\"redraw\":true},\"fromcurrent\":true,\"mode\":\"immediate\",\"transition\":{\"duration\":0,\"easing\":\"linear\"}}],\"label\":\"2013\",\"method\":\"animate\"},{\"args\":[[\"2014\"],{\"frame\":{\"duration\":0,\"redraw\":true},\"fromcurrent\":true,\"mode\":\"immediate\",\"transition\":{\"duration\":0,\"easing\":\"linear\"}}],\"label\":\"2014\",\"method\":\"animate\"},{\"args\":[[\"2015\"],{\"frame\":{\"duration\":0,\"redraw\":true},\"fromcurrent\":true,\"mode\":\"immediate\",\"transition\":{\"duration\":0,\"easing\":\"linear\"}}],\"label\":\"2015\",\"method\":\"animate\"},{\"args\":[[\"2016\"],{\"frame\":{\"duration\":0,\"redraw\":true},\"fromcurrent\":true,\"mode\":\"immediate\",\"transition\":{\"duration\":0,\"easing\":\"linear\"}}],\"label\":\"2016\",\"method\":\"animate\"},{\"args\":[[\"2017\"],{\"frame\":{\"duration\":0,\"redraw\":true},\"fromcurrent\":true,\"mode\":\"immediate\",\"transition\":{\"duration\":0,\"easing\":\"linear\"}}],\"label\":\"2017\",\"method\":\"animate\"}],\"x\":0.1,\"xanchor\":\"left\",\"y\":0,\"yanchor\":\"top\"}],\"template\":{\"data\":{\"bar\":[{\"error_x\":{\"color\":\"#f2f5fa\"},\"error_y\":{\"color\":\"#f2f5fa\"},\"marker\":{\"line\":{\"color\":\"rgb(17,17,17)\",\"width\":0.5},\"pattern\":{\"fillmode\":\"overlay\",\"size\":10,\"solidity\":0.2}},\"type\":\"bar\"}],\"barpolar\":[{\"marker\":{\"line\":{\"color\":\"rgb(17,17,17)\",\"width\":0.5},\"pattern\":{\"fillmode\":\"overlay\",\"size\":10,\"solidity\":0.2}},\"type\":\"barpolar\"}],\"carpet\":[{\"aaxis\":{\"endlinecolor\":\"#A2B1C6\",\"gridcolor\":\"#506784\",\"linecolor\":\"#506784\",\"minorgridcolor\":\"#506784\",\"startlinecolor\":\"#A2B1C6\"},\"baxis\":{\"endlinecolor\":\"#A2B1C6\",\"gridcolor\":\"#506784\",\"linecolor\":\"#506784\",\"minorgridcolor\":\"#506784\",\"startlinecolor\":\"#A2B1C6\"},\"type\":\"carpet\"}],\"choropleth\":[{\"colorbar\":{\"outlinewidth\":0,\"ticks\":\"\"},\"type\":\"choropleth\"}],\"contour\":[{\"colorbar\":{\"outlinewidth\":0,\"ticks\":\"\"},\"colorscale\":[[0.0,\"#0d0887\"],[0.1111111111111111,\"#46039f\"],[0.2222222222222222,\"#7201a8\"],[0.3333333333333333,\"#9c179e\"],[0.4444444444444444,\"#bd3786\"],[0.5555555555555556,\"#d8576b\"],[0.6666666666666666,\"#ed7953\"],[0.7777777777777778,\"#fb9f3a\"],[0.8888888888888888,\"#fdca26\"],[1.0,\"#f0f921\"]],\"type\":\"contour\"}],\"contourcarpet\":[{\"colorbar\":{\"outlinewidth\":0,\"ticks\":\"\"},\"type\":\"contourcarpet\"}],\"heatmap\":[{\"colorbar\":{\"outlinewidth\":0,\"ticks\":\"\"},\"colorscale\":[[0.0,\"#0d0887\"],[0.1111111111111111,\"#46039f\"],[0.2222222222222222,\"#7201a8\"],[0.3333333333333333,\"#9c179e\"],[0.4444444444444444,\"#bd3786\"],[0.5555555555555556,\"#d8576b\"],[0.6666666666666666,\"#ed7953\"],[0.7777777777777778,\"#fb9f3a\"],[0.8888888888888888,\"#fdca26\"],[1.0,\"#f0f921\"]],\"type\":\"heatmap\"}],\"heatmapgl\":[{\"colorbar\":{\"outlinewidth\":0,\"ticks\":\"\"},\"colorscale\":[[0.0,\"#0d0887\"],[0.1111111111111111,\"#46039f\"],[0.2222222222222222,\"#7201a8\"],[0.3333333333333333,\"#9c179e\"],[0.4444444444444444,\"#bd3786\"],[0.5555555555555556,\"#d8576b\"],[0.6666666666666666,\"#ed7953\"],[0.7777777777777778,\"#fb9f3a\"],[0.8888888888888888,\"#fdca26\"],[1.0,\"#f0f921\"]],\"type\":\"heatmapgl\"}],\"histogram\":[{\"marker\":{\"pattern\":{\"fillmode\":\"overlay\",\"size\":10,\"solidity\":0.2}},\"type\":\"histogram\"}],\"histogram2d\":[{\"colorbar\":{\"outlinewidth\":0,\"ticks\":\"\"},\"colorscale\":[[0.0,\"#0d0887\"],[0.1111111111111111,\"#46039f\"],[0.2222222222222222,\"#7201a8\"],[0.3333333333333333,\"#9c179e\"],[0.4444444444444444,\"#bd3786\"],[0.5555555555555556,\"#d8576b\"],[0.6666666666666666,\"#ed7953\"],[0.7777777777777778,\"#fb9f3a\"],[0.8888888888888888,\"#fdca26\"],[1.0,\"#f0f921\"]],\"type\":\"histogram2d\"}],\"histogram2dcontour\":[{\"colorbar\":{\"outlinewidth\":0,\"ticks\":\"\"},\"colorscale\":[[0.0,\"#0d0887\"],[0.1111111111111111,\"#46039f\"],[0.2222222222222222,\"#7201a8\"],[0.3333333333333333,\"#9c179e\"],[0.4444444444444444,\"#bd3786\"],[0.5555555555555556,\"#d8576b\"],[0.6666666666666666,\"#ed7953\"],[0.7777777777777778,\"#fb9f3a\"],[0.8888888888888888,\"#fdca26\"],[1.0,\"#f0f921\"]],\"type\":\"histogram2dcontour\"}],\"mesh3d\":[{\"colorbar\":{\"outlinewidth\":0,\"ticks\":\"\"},\"type\":\"mesh3d\"}],\"parcoords\":[{\"line\":{\"colorbar\":{\"outlinewidth\":0,\"ticks\":\"\"}},\"type\":\"parcoords\"}],\"pie\":[{\"automargin\":true,\"type\":\"pie\"}],\"scatter\":[{\"marker\":{\"line\":{\"color\":\"#283442\"}},\"type\":\"scatter\"}],\"scatter3d\":[{\"line\":{\"colorbar\":{\"outlinewidth\":0,\"ticks\":\"\"}},\"marker\":{\"colorbar\":{\"outlinewidth\":0,\"ticks\":\"\"}},\"type\":\"scatter3d\"}],\"scattercarpet\":[{\"marker\":{\"colorbar\":{\"outlinewidth\":0,\"ticks\":\"\"}},\"type\":\"scattercarpet\"}],\"scattergeo\":[{\"marker\":{\"colorbar\":{\"outlinewidth\":0,\"ticks\":\"\"}},\"type\":\"scattergeo\"}],\"scattergl\":[{\"marker\":{\"line\":{\"color\":\"#283442\"}},\"type\":\"scattergl\"}],\"scattermapbox\":[{\"marker\":{\"colorbar\":{\"outlinewidth\":0,\"ticks\":\"\"}},\"type\":\"scattermapbox\"}],\"scatterpolar\":[{\"marker\":{\"colorbar\":{\"outlinewidth\":0,\"ticks\":\"\"}},\"type\":\"scatterpolar\"}],\"scatterpolargl\":[{\"marker\":{\"colorbar\":{\"outlinewidth\":0,\"ticks\":\"\"}},\"type\":\"scatterpolargl\"}],\"scatterternary\":[{\"marker\":{\"colorbar\":{\"outlinewidth\":0,\"ticks\":\"\"}},\"type\":\"scatterternary\"}],\"surface\":[{\"colorbar\":{\"outlinewidth\":0,\"ticks\":\"\"},\"colorscale\":[[0.0,\"#0d0887\"],[0.1111111111111111,\"#46039f\"],[0.2222222222222222,\"#7201a8\"],[0.3333333333333333,\"#9c179e\"],[0.4444444444444444,\"#bd3786\"],[0.5555555555555556,\"#d8576b\"],[0.6666666666666666,\"#ed7953\"],[0.7777777777777778,\"#fb9f3a\"],[0.8888888888888888,\"#fdca26\"],[1.0,\"#f0f921\"]],\"type\":\"surface\"}],\"table\":[{\"cells\":{\"fill\":{\"color\":\"#506784\"},\"line\":{\"color\":\"rgb(17,17,17)\"}},\"header\":{\"fill\":{\"color\":\"#2a3f5f\"},\"line\":{\"color\":\"rgb(17,17,17)\"}},\"type\":\"table\"}]},\"layout\":{\"annotationdefaults\":{\"arrowcolor\":\"#f2f5fa\",\"arrowhead\":0,\"arrowwidth\":1},\"autotypenumbers\":\"strict\",\"coloraxis\":{\"colorbar\":{\"outlinewidth\":0,\"ticks\":\"\"}},\"colorscale\":{\"diverging\":[[0,\"#8e0152\"],[0.1,\"#c51b7d\"],[0.2,\"#de77ae\"],[0.3,\"#f1b6da\"],[0.4,\"#fde0ef\"],[0.5,\"#f7f7f7\"],[0.6,\"#e6f5d0\"],[0.7,\"#b8e186\"],[0.8,\"#7fbc41\"],[0.9,\"#4d9221\"],[1,\"#276419\"]],\"sequential\":[[0.0,\"#0d0887\"],[0.1111111111111111,\"#46039f\"],[0.2222222222222222,\"#7201a8\"],[0.3333333333333333,\"#9c179e\"],[0.4444444444444444,\"#bd3786\"],[0.5555555555555556,\"#d8576b\"],[0.6666666666666666,\"#ed7953\"],[0.7777777777777778,\"#fb9f3a\"],[0.8888888888888888,\"#fdca26\"],[1.0,\"#f0f921\"]],\"sequentialminus\":[[0.0,\"#0d0887\"],[0.1111111111111111,\"#46039f\"],[0.2222222222222222,\"#7201a8\"],[0.3333333333333333,\"#9c179e\"],[0.4444444444444444,\"#bd3786\"],[0.5555555555555556,\"#d8576b\"],[0.6666666666666666,\"#ed7953\"],[0.7777777777777778,\"#fb9f3a\"],[0.8888888888888888,\"#fdca26\"],[1.0,\"#f0f921\"]]},\"colorway\":[\"#636efa\",\"#EF553B\",\"#00cc96\",\"#ab63fa\",\"#FFA15A\",\"#19d3f3\",\"#FF6692\",\"#B6E880\",\"#FF97FF\",\"#FECB52\"],\"font\":{\"color\":\"#f2f5fa\"},\"geo\":{\"bgcolor\":\"rgb(17,17,17)\",\"lakecolor\":\"rgb(17,17,17)\",\"landcolor\":\"rgb(17,17,17)\",\"showlakes\":true,\"showland\":true,\"subunitcolor\":\"#506784\"},\"hoverlabel\":{\"align\":\"left\"},\"hovermode\":\"closest\",\"mapbox\":{\"style\":\"dark\"},\"paper_bgcolor\":\"rgb(17,17,17)\",\"plot_bgcolor\":\"rgb(17,17,17)\",\"polar\":{\"angularaxis\":{\"gridcolor\":\"#506784\",\"linecolor\":\"#506784\",\"ticks\":\"\"},\"bgcolor\":\"rgb(17,17,17)\",\"radialaxis\":{\"gridcolor\":\"#506784\",\"linecolor\":\"#506784\",\"ticks\":\"\"}},\"scene\":{\"xaxis\":{\"backgroundcolor\":\"rgb(17,17,17)\",\"gridcolor\":\"#506784\",\"gridwidth\":2,\"linecolor\":\"#506784\",\"showbackground\":true,\"ticks\":\"\",\"zerolinecolor\":\"#C8D4E3\"},\"yaxis\":{\"backgroundcolor\":\"rgb(17,17,17)\",\"gridcolor\":\"#506784\",\"gridwidth\":2,\"linecolor\":\"#506784\",\"showbackground\":true,\"ticks\":\"\",\"zerolinecolor\":\"#C8D4E3\"},\"zaxis\":{\"backgroundcolor\":\"rgb(17,17,17)\",\"gridcolor\":\"#506784\",\"gridwidth\":2,\"linecolor\":\"#506784\",\"showbackground\":true,\"ticks\":\"\",\"zerolinecolor\":\"#C8D4E3\"}},\"shapedefaults\":{\"line\":{\"color\":\"#f2f5fa\"}},\"sliderdefaults\":{\"bgcolor\":\"#C8D4E3\",\"bordercolor\":\"rgb(17,17,17)\",\"borderwidth\":1,\"tickwidth\":0},\"ternary\":{\"aaxis\":{\"gridcolor\":\"#506784\",\"linecolor\":\"#506784\",\"ticks\":\"\"},\"baxis\":{\"gridcolor\":\"#506784\",\"linecolor\":\"#506784\",\"ticks\":\"\"},\"bgcolor\":\"rgb(17,17,17)\",\"caxis\":{\"gridcolor\":\"#506784\",\"linecolor\":\"#506784\",\"ticks\":\"\"}},\"title\":{\"x\":0.05},\"updatemenudefaults\":{\"bgcolor\":\"#506784\",\"borderwidth\":0},\"xaxis\":{\"automargin\":true,\"gridcolor\":\"#283442\",\"linecolor\":\"#506784\",\"ticks\":\"\",\"title\":{\"standoff\":15},\"zerolinecolor\":\"#283442\",\"zerolinewidth\":2},\"yaxis\":{\"automargin\":true,\"gridcolor\":\"#283442\",\"linecolor\":\"#506784\",\"ticks\":\"\",\"title\":{\"standoff\":15},\"zerolinecolor\":\"#283442\",\"zerolinewidth\":2}}},\"title\":{\"text\":\"Time line of attacks in each year from 1970 to 2017\"},\"updatemenus\":[{\"buttons\":[{\"args\":[null,{\"frame\":{\"duration\":500,\"redraw\":true},\"fromcurrent\":true,\"mode\":\"immediate\",\"transition\":{\"duration\":500,\"easing\":\"linear\"}}],\"label\":\"&#9654;\",\"method\":\"animate\"},{\"args\":[[null],{\"frame\":{\"duration\":0,\"redraw\":true},\"fromcurrent\":true,\"mode\":\"immediate\",\"transition\":{\"duration\":0,\"easing\":\"linear\"}}],\"label\":\"&#9724;\",\"method\":\"animate\"}],\"direction\":\"left\",\"pad\":{\"r\":10,\"t\":70},\"showactive\":false,\"type\":\"buttons\",\"x\":0.1,\"xanchor\":\"right\",\"y\":0,\"yanchor\":\"top\"}]},                        {\"responsive\": true}                    ).then(function(){\n",
              "                            Plotly.addFrames('62366219-00a1-470e-b37d-dfd21220d53e', [{\"data\":[{\"coloraxis\":\"coloraxis\",\"geo\":\"geo\",\"hovertemplate\":\"<b>%{hovertext}</b><br><br>year=1970<br>country=%{location}<br>attacks=%{z}<extra></extra>\",\"hovertext\":[\"Argentina\",\"Australia\",\"Belgium\",\"Bolivia\",\"Brazil\",\"Canada\",\"Colombia\",\"Dominican Republic\",\"East Germany (GDR)\",\"Egypt\",\"Ethiopia\",\"Greece\",\"Guatemala\",\"Iran\",\"Ireland\",\"Italy\",\"Japan\",\"Jordan\",\"Lebanon\",\"Mexico\",\"Netherlands\",\"Nicaragua\",\"Pakistan\",\"Paraguay\",\"Philippines\",\"Spain\",\"Switzerland\",\"Turkey\",\"United Kingdom\",\"United States\",\"Uruguay\",\"Venezuela\",\"West Germany (FRG)\"],\"locationmode\":\"country names\",\"locations\":[\"Argentina\",\"Australia\",\"Belgium\",\"Bolivia\",\"Brazil\",\"Canada\",\"Colombia\",\"Dominican Republic\",\"East Germany (GDR)\",\"Egypt\",\"Ethiopia\",\"Greece\",\"Guatemala\",\"Iran\",\"Ireland\",\"Italy\",\"Japan\",\"Jordan\",\"Lebanon\",\"Mexico\",\"Netherlands\",\"Nicaragua\",\"Pakistan\",\"Paraguay\",\"Philippines\",\"Spain\",\"Switzerland\",\"Turkey\",\"United Kingdom\",\"United States\",\"Uruguay\",\"Venezuela\",\"West Germany (FRG)\"],\"name\":\"\",\"type\":\"choropleth\",\"z\":[21,1,1,1,6,2,1,2,12,1,3,3,4,5,1,3,2,9,1,2,3,1,1,1,10,4,3,12,12,468,33,2,20]}],\"name\":\"1970\"},{\"data\":[{\"coloraxis\":\"coloraxis\",\"geo\":\"geo\",\"hovertemplate\":\"<b>%{hovertext}</b><br><br>year=1971<br>country=%{location}<br>attacks=%{z}<extra></extra>\",\"hovertext\":[\"Argentina\",\"Australia\",\"Bolivia\",\"Brazil\",\"Cambodia\",\"Costa Rica\",\"Dominican Republic\",\"East Germany (GDR)\",\"Egypt\",\"Ethiopia\",\"Greece\",\"Guatemala\",\"Iran\",\"Ireland\",\"Israel\",\"Italy\",\"Jordan\",\"Lebanon\",\"Netherlands\",\"Philippines\",\"Poland\",\"South Yemen\",\"Spain\",\"Sweden\",\"Switzerland\",\"Taiwan\",\"Turkey\",\"United Kingdom\",\"United States\",\"Uruguay\",\"Venezuela\",\"West Germany (FRG)\",\"Zambia\"],\"locationmode\":\"country names\",\"locations\":[\"Argentina\",\"Australia\",\"Bolivia\",\"Brazil\",\"Cambodia\",\"Costa Rica\",\"Dominican Republic\",\"East Germany (GDR)\",\"Egypt\",\"Ethiopia\",\"Greece\",\"Guatemala\",\"Iran\",\"Ireland\",\"Israel\",\"Italy\",\"Jordan\",\"Lebanon\",\"Netherlands\",\"Philippines\",\"Poland\",\"South Yemen\",\"Spain\",\"Sweden\",\"Switzerland\",\"Taiwan\",\"Turkey\",\"United Kingdom\",\"United States\",\"Uruguay\",\"Venezuela\",\"West Germany (FRG)\",\"Zambia\"],\"name\":\"\",\"type\":\"choropleth\",\"z\":[7,1,2,3,2,1,3,4,1,1,1,1,11,1,1,3,5,1,1,4,1,1,22,2,1,1,35,81,247,8,4,13,1]}],\"name\":\"1971\"},{\"data\":[{\"coloraxis\":\"coloraxis\",\"geo\":\"geo\",\"hovertemplate\":\"<b>%{hovertext}</b><br><br>year=1972<br>country=%{location}<br>attacks=%{z}<extra></extra>\",\"hovertext\":[\"Algeria\",\"Argentina\",\"Australia\",\"Austria\",\"Belgium\",\"Brazil\",\"Brunei\",\"Cambodia\",\"Canada\",\"Colombia\",\"Czechoslovakia\",\"Egypt\",\"El Salvador\",\"France\",\"Greece\",\"India\",\"Iran\",\"Ireland\",\"Israel\",\"Italy\",\"Jordan\",\"Kuwait\",\"Lebanon\",\"Mexico\",\"Netherlands\",\"Panama\",\"People's Republic of the Congo\",\"Philippines\",\"Portugal\",\"South Vietnam\",\"Spain\",\"Sweden\",\"Switzerland\",\"Thailand\",\"Turkey\",\"United Kingdom\",\"United States\",\"Uruguay\",\"Venezuela\",\"West Bank and Gaza Strip\",\"West Germany (FRG)\",\"Zaire\"],\"locationmode\":\"country names\",\"locations\":[\"Algeria\",\"Argentina\",\"Australia\",\"Austria\",\"Belgium\",\"Brazil\",\"Brunei\",\"Cambodia\",\"Canada\",\"Colombia\",\"Czechoslovakia\",\"Egypt\",\"El Salvador\",\"France\",\"Greece\",\"India\",\"Iran\",\"Ireland\",\"Israel\",\"Italy\",\"Jordan\",\"Kuwait\",\"Lebanon\",\"Mexico\",\"Netherlands\",\"Panama\",\"People's Republic of the Congo\",\"Philippines\",\"Portugal\",\"South Vietnam\",\"Spain\",\"Sweden\",\"Switzerland\",\"Thailand\",\"Turkey\",\"United Kingdom\",\"United States\",\"Uruguay\",\"Venezuela\",\"West Bank and Gaza Strip\",\"West Germany (FRG)\",\"Zaire\"],\"name\":\"\",\"type\":\"choropleth\",\"z\":[1,20,8,7,4,3,5,2,4,2,1,1,2,11,2,1,15,5,15,4,7,1,3,1,1,1,1,7,1,1,19,3,3,1,9,292,68,7,1,1,24,3]}],\"name\":\"1972\"},{\"data\":[{\"coloraxis\":\"coloraxis\",\"geo\":\"geo\",\"hovertemplate\":\"<b>%{hovertext}</b><br><br>year=1973<br>country=%{location}<br>attacks=%{z}<extra></extra>\",\"hovertext\":[\"Afghanistan\",\"Argentina\",\"Austria\",\"Belgium\",\"Brazil\",\"Chile\",\"Colombia\",\"Cyprus\",\"Dominican Republic\",\"Ecuador\",\"El Salvador\",\"Ethiopia\",\"France\",\"Greece\",\"Haiti\",\"Honduras\",\"Iran\",\"Ireland\",\"Israel\",\"Italy\",\"Japan\",\"Jordan\",\"Lebanon\",\"Malaysia\",\"Mexico\",\"Morocco\",\"Myanmar\",\"Netherlands\",\"New Zealand\",\"Peru\",\"Portugal\",\"Spain\",\"Sudan\",\"Switzerland\",\"United Kingdom\",\"United States\",\"Venezuela\",\"West Germany (FRG)\",\"Yugoslavia\",\"Zaire\",\"Zambia\"],\"locationmode\":\"country names\",\"locations\":[\"Afghanistan\",\"Argentina\",\"Austria\",\"Belgium\",\"Brazil\",\"Chile\",\"Colombia\",\"Cyprus\",\"Dominican Republic\",\"Ecuador\",\"El Salvador\",\"Ethiopia\",\"France\",\"Greece\",\"Haiti\",\"Honduras\",\"Iran\",\"Ireland\",\"Israel\",\"Italy\",\"Japan\",\"Jordan\",\"Lebanon\",\"Malaysia\",\"Mexico\",\"Morocco\",\"Myanmar\",\"Netherlands\",\"New Zealand\",\"Peru\",\"Portugal\",\"Spain\",\"Sudan\",\"Switzerland\",\"United Kingdom\",\"United States\",\"Venezuela\",\"West Germany (FRG)\",\"Yugoslavia\",\"Zaire\",\"Zambia\"],\"name\":\"\",\"type\":\"choropleth\",\"z\":[1,60,2,1,2,7,6,3,3,1,1,1,14,11,1,1,4,3,1,15,2,1,11,1,6,2,1,1,1,3,1,21,1,2,189,58,4,27,1,1,1]}],\"name\":\"1973\"},{\"data\":[{\"coloraxis\":\"coloraxis\",\"geo\":\"geo\",\"hovertemplate\":\"<b>%{hovertext}</b><br><br>year=1974<br>country=%{location}<br>attacks=%{z}<extra></extra>\",\"hovertext\":[\"Andorra\",\"Argentina\",\"Australia\",\"Austria\",\"Belgium\",\"Bolivia\",\"Botswana\",\"Canada\",\"Chad\",\"Dominican Republic\",\"East Germany (GDR)\",\"Ecuador\",\"El Salvador\",\"Ethiopia\",\"France\",\"Greece\",\"Guatemala\",\"Haiti\",\"Iran\",\"Ireland\",\"Israel\",\"Italy\",\"Jamaica\",\"Japan\",\"Kuwait\",\"Lebanon\",\"Mexico\",\"Netherlands\",\"Nicaragua\",\"North Yemen\",\"Pakistan\",\"Peru\",\"Philippines\",\"Singapore\",\"South Africa\",\"South Korea\",\"Spain\",\"Switzerland\",\"Syria\",\"Thailand\",\"Turkey\",\"United Arab Emirates\",\"United Kingdom\",\"United States\",\"Venezuela\",\"West Germany (FRG)\",\"Yugoslavia\"],\"locationmode\":\"country names\",\"locations\":[\"Andorra\",\"Argentina\",\"Australia\",\"Austria\",\"Belgium\",\"Bolivia\",\"Botswana\",\"Canada\",\"Chad\",\"Dominican Republic\",\"East Germany (GDR)\",\"Ecuador\",\"El Salvador\",\"Ethiopia\",\"France\",\"Greece\",\"Guatemala\",\"Haiti\",\"Iran\",\"Ireland\",\"Israel\",\"Italy\",\"Jamaica\",\"Japan\",\"Kuwait\",\"Lebanon\",\"Mexico\",\"Netherlands\",\"Nicaragua\",\"North Yemen\",\"Pakistan\",\"Peru\",\"Philippines\",\"Singapore\",\"South Africa\",\"South Korea\",\"Spain\",\"Switzerland\",\"Syria\",\"Thailand\",\"Turkey\",\"United Arab Emirates\",\"United Kingdom\",\"United States\",\"Venezuela\",\"West Germany (FRG)\",\"Yugoslavia\"],\"name\":\"\",\"type\":\"choropleth\",\"z\":[1,71,1,1,5,1,1,1,1,2,1,3,3,4,29,6,1,2,11,3,12,22,2,3,1,11,16,2,1,1,2,3,1,1,1,1,14,3,4,1,1,1,203,94,3,28,1]}],\"name\":\"1974\"},{\"data\":[{\"coloraxis\":\"coloraxis\",\"geo\":\"geo\",\"hovertemplate\":\"<b>%{hovertext}</b><br><br>year=1975<br>country=%{location}<br>attacks=%{z}<extra></extra>\",\"hovertext\":[\"Argentina\",\"Austria\",\"Colombia\",\"Cyprus\",\"El Salvador\",\"Ethiopia\",\"France\",\"Greece\",\"Guatemala\",\"India\",\"Iran\",\"Iraq\",\"Ireland\",\"Israel\",\"Italy\",\"Japan\",\"Kenya\",\"Kuwait\",\"Lebanon\",\"Malaysia\",\"Mexico\",\"Namibia\",\"Netherlands\",\"Nicaragua\",\"Pakistan\",\"Peru\",\"Philippines\",\"Portugal\",\"Somalia\",\"Spain\",\"Sri Lanka\",\"Sweden\",\"Switzerland\",\"Syria\",\"Tanzania\",\"Turkey\",\"United Kingdom\",\"United States\",\"Venezuela\",\"West Germany (FRG)\",\"Zambia\"],\"locationmode\":\"country names\",\"locations\":[\"Argentina\",\"Austria\",\"Colombia\",\"Cyprus\",\"El Salvador\",\"Ethiopia\",\"France\",\"Greece\",\"Guatemala\",\"India\",\"Iran\",\"Iraq\",\"Ireland\",\"Israel\",\"Italy\",\"Japan\",\"Kenya\",\"Kuwait\",\"Lebanon\",\"Malaysia\",\"Mexico\",\"Namibia\",\"Netherlands\",\"Nicaragua\",\"Pakistan\",\"Peru\",\"Philippines\",\"Portugal\",\"Somalia\",\"Spain\",\"Sri Lanka\",\"Sweden\",\"Switzerland\",\"Syria\",\"Tanzania\",\"Turkey\",\"United Kingdom\",\"United States\",\"Venezuela\",\"West Germany (FRG)\",\"Zambia\"],\"name\":\"\",\"type\":\"choropleth\",\"z\":[38,2,10,2,3,4,39,4,5,1,13,1,7,2,7,12,4,1,15,3,10,1,4,1,2,2,4,4,1,136,1,1,3,2,1,10,194,149,5,35,1]}],\"name\":\"1975\"},{\"data\":[{\"coloraxis\":\"coloraxis\",\"geo\":\"geo\",\"hovertemplate\":\"<b>%{hovertext}</b><br><br>year=1976<br>country=%{location}<br>attacks=%{z}<extra></extra>\",\"hovertext\":[\"Algeria\",\"Argentina\",\"Austria\",\"Bahamas\",\"Barbados\",\"Belgium\",\"Bolivia\",\"Brazil\",\"Chile\",\"Colombia\",\"Costa Rica\",\"Ecuador\",\"El Salvador\",\"Ethiopia\",\"France\",\"Greece\",\"Guatemala\",\"India\",\"Iran\",\"Iraq\",\"Ireland\",\"Israel\",\"Italy\",\"Jamaica\",\"Japan\",\"Jordan\",\"Kenya\",\"Kuwait\",\"Lebanon\",\"Mexico\",\"Morocco\",\"Myanmar\",\"Namibia\",\"Netherlands\",\"Nigeria\",\"Pakistan\",\"Panama\",\"Paraguay\",\"Philippines\",\"Portugal\",\"South Africa\",\"Spain\",\"Switzerland\",\"Syria\",\"Taiwan\",\"Trinidad and Tobago\",\"Turkey\",\"United Kingdom\",\"United States\",\"Venezuela\",\"West Bank and Gaza Strip\",\"West Germany (FRG)\"],\"locationmode\":\"country names\",\"locations\":[\"Algeria\",\"Argentina\",\"Austria\",\"Bahamas\",\"Barbados\",\"Belgium\",\"Bolivia\",\"Brazil\",\"Chile\",\"Colombia\",\"Costa Rica\",\"Ecuador\",\"El Salvador\",\"Ethiopia\",\"France\",\"Greece\",\"Guatemala\",\"India\",\"Iran\",\"Iraq\",\"Ireland\",\"Israel\",\"Italy\",\"Jamaica\",\"Japan\",\"Jordan\",\"Kenya\",\"Kuwait\",\"Lebanon\",\"Mexico\",\"Morocco\",\"Myanmar\",\"Namibia\",\"Netherlands\",\"Nigeria\",\"Pakistan\",\"Panama\",\"Paraguay\",\"Philippines\",\"Portugal\",\"South Africa\",\"Spain\",\"Switzerland\",\"Syria\",\"Taiwan\",\"Trinidad and Tobago\",\"Turkey\",\"United Kingdom\",\"United States\",\"Venezuela\",\"West Bank and Gaza Strip\",\"West Germany (FRG)\"],\"name\":\"\",\"type\":\"choropleth\",\"z\":[1,54,4,1,2,1,1,5,2,22,12,2,13,5,58,21,13,1,4,3,5,2,173,1,1,1,2,1,4,20,1,2,2,3,1,3,2,1,10,15,1,50,4,2,1,1,35,194,105,4,1,50]}],\"name\":\"1976\"},{\"data\":[{\"coloraxis\":\"coloraxis\",\"geo\":\"geo\",\"hovertemplate\":\"<b>%{hovertext}</b><br><br>year=1977<br>country=%{location}<br>attacks=%{z}<extra></extra>\",\"hovertext\":[\"Angola\",\"Argentina\",\"Austria\",\"Bangladesh\",\"Belgium\",\"Bolivia\",\"Brazil\",\"Chile\",\"Colombia\",\"Costa Rica\",\"Cyprus\",\"Djibouti\",\"East Germany (GDR)\",\"Ecuador\",\"Egypt\",\"El Salvador\",\"Ethiopia\",\"France\",\"Greece\",\"Guatemala\",\"India\",\"Indonesia\",\"Iran\",\"Ireland\",\"Israel\",\"Italy\",\"Japan\",\"Lebanon\",\"Malaysia\",\"Malta\",\"Mauritania\",\"Mexico\",\"Netherlands\",\"Nicaragua\",\"North Yemen\",\"People's Republic of the Congo\",\"Peru\",\"Philippines\",\"Portugal\",\"Saudi Arabia\",\"South Africa\",\"Spain\",\"Switzerland\",\"Syria\",\"Thailand\",\"Turkey\",\"United Arab Emirates\",\"United Kingdom\",\"United States\",\"Venezuela\",\"West Germany (FRG)\",\"Yugoslavia\",\"Zaire\",\"Zambia\"],\"locationmode\":\"country names\",\"locations\":[\"Angola\",\"Argentina\",\"Austria\",\"Bangladesh\",\"Belgium\",\"Bolivia\",\"Brazil\",\"Chile\",\"Colombia\",\"Costa Rica\",\"Cyprus\",\"Djibouti\",\"East Germany (GDR)\",\"Ecuador\",\"Egypt\",\"El Salvador\",\"Ethiopia\",\"France\",\"Greece\",\"Guatemala\",\"India\",\"Indonesia\",\"Iran\",\"Ireland\",\"Israel\",\"Italy\",\"Japan\",\"Lebanon\",\"Malaysia\",\"Malta\",\"Mauritania\",\"Mexico\",\"Netherlands\",\"Nicaragua\",\"North Yemen\",\"People's Republic of the Congo\",\"Peru\",\"Philippines\",\"Portugal\",\"Saudi Arabia\",\"South Africa\",\"Spain\",\"Switzerland\",\"Syria\",\"Thailand\",\"Turkey\",\"United Arab Emirates\",\"United Kingdom\",\"United States\",\"Venezuela\",\"West Germany (FRG)\",\"Yugoslavia\",\"Zaire\",\"Zambia\"],\"name\":\"\",\"type\":\"choropleth\",\"z\":[1,17,5,1,1,1,1,6,80,5,1,1,1,7,1,6,4,53,47,8,1,1,5,3,6,308,4,4,2,1,4,19,6,5,1,2,4,2,15,1,15,147,4,3,3,189,1,140,130,3,40,1,1,1]}],\"name\":\"1977\"},{\"data\":[{\"coloraxis\":\"coloraxis\",\"geo\":\"geo\",\"hovertemplate\":\"<b>%{hovertext}</b><br><br>year=1978<br>country=%{location}<br>attacks=%{z}<extra></extra>\",\"hovertext\":[\"Algeria\",\"Angola\",\"Argentina\",\"Australia\",\"Austria\",\"Belgium\",\"Bolivia\",\"Brazil\",\"Cambodia\",\"Chile\",\"Colombia\",\"Costa Rica\",\"Cyprus\",\"Denmark\",\"Dominican Republic\",\"East Germany (GDR)\",\"Ecuador\",\"Egypt\",\"El Salvador\",\"Ethiopia\",\"France\",\"Greece\",\"Guatemala\",\"Guyana\",\"Indonesia\",\"Iran\",\"Ireland\",\"Israel\",\"Italy\",\"Japan\",\"Kenya\",\"Kuwait\",\"Lebanon\",\"Mexico\",\"Morocco\",\"Mozambique\",\"Namibia\",\"Netherlands\",\"Nicaragua\",\"North Yemen\",\"Pakistan\",\"Peru\",\"Philippines\",\"Portugal\",\"Rhodesia\",\"South Africa\",\"Soviet Union\",\"Spain\",\"Sweden\",\"Switzerland\",\"Syria\",\"Thailand\",\"Turkey\",\"United Arab Emirates\",\"United Kingdom\",\"United States\",\"Venezuela\",\"West Bank and Gaza Strip\",\"West Germany (FRG)\",\"Western Sahara\",\"Zambia\"],\"locationmode\":\"country names\",\"locations\":[\"Algeria\",\"Angola\",\"Argentina\",\"Australia\",\"Austria\",\"Belgium\",\"Bolivia\",\"Brazil\",\"Cambodia\",\"Chile\",\"Colombia\",\"Costa Rica\",\"Cyprus\",\"Denmark\",\"Dominican Republic\",\"East Germany (GDR)\",\"Ecuador\",\"Egypt\",\"El Salvador\",\"Ethiopia\",\"France\",\"Greece\",\"Guatemala\",\"Guyana\",\"Indonesia\",\"Iran\",\"Ireland\",\"Israel\",\"Italy\",\"Japan\",\"Kenya\",\"Kuwait\",\"Lebanon\",\"Mexico\",\"Morocco\",\"Mozambique\",\"Namibia\",\"Netherlands\",\"Nicaragua\",\"North Yemen\",\"Pakistan\",\"Peru\",\"Philippines\",\"Portugal\",\"Rhodesia\",\"South Africa\",\"Soviet Union\",\"Spain\",\"Sweden\",\"Switzerland\",\"Syria\",\"Thailand\",\"Turkey\",\"United Arab Emirates\",\"United Kingdom\",\"United States\",\"Venezuela\",\"West Bank and Gaza Strip\",\"West Germany (FRG)\",\"Western Sahara\",\"Zambia\"],\"name\":\"\",\"type\":\"choropleth\",\"z\":[1,2,25,2,1,8,3,5,1,8,158,2,2,1,1,1,11,2,91,2,59,39,29,1,2,27,3,23,277,35,1,1,12,30,1,2,8,3,76,2,2,4,36,4,19,9,1,209,1,3,1,5,52,1,100,87,7,4,19,1,3]}],\"name\":\"1978\"},{\"data\":[{\"coloraxis\":\"coloraxis\",\"geo\":\"geo\",\"hovertemplate\":\"<b>%{hovertext}</b><br><br>year=1979<br>country=%{location}<br>attacks=%{z}<extra></extra>\",\"hovertext\":[\"Afghanistan\",\"Algeria\",\"Angola\",\"Argentina\",\"Australia\",\"Austria\",\"Bahrain\",\"Bangladesh\",\"Belgium\",\"Bolivia\",\"Brazil\",\"Chile\",\"Colombia\",\"Costa Rica\",\"Cyprus\",\"Denmark\",\"Djibouti\",\"Dominican Republic\",\"Ecuador\",\"Egypt\",\"El Salvador\",\"Ethiopia\",\"France\",\"Gabon\",\"Greece\",\"Guatemala\",\"Guyana\",\"Honduras\",\"India\",\"Iran\",\"Iraq\",\"Ireland\",\"Israel\",\"Italy\",\"Jamaica\",\"Japan\",\"Lebanon\",\"Lesotho\",\"Libya\",\"Malaysia\",\"Mexico\",\"Morocco\",\"Mozambique\",\"Myanmar\",\"Namibia\",\"Netherlands\",\"Nicaragua\",\"Norway\",\"Pakistan\",\"Panama\",\"Peru\",\"Philippines\",\"Poland\",\"Portugal\",\"Rhodesia\",\"Saudi Arabia\",\"South Africa\",\"Spain\",\"Sri Lanka\",\"Sweden\",\"Switzerland\",\"Syria\",\"Tanzania\",\"Thailand\",\"Trinidad and Tobago\",\"Tunisia\",\"Turkey\",\"Uganda\",\"United Arab Emirates\",\"United Kingdom\",\"United States\",\"Venezuela\",\"West Bank and Gaza Strip\",\"West Germany (FRG)\",\"Zambia\"],\"locationmode\":\"country names\",\"locations\":[\"Afghanistan\",\"Algeria\",\"Angola\",\"Argentina\",\"Australia\",\"Austria\",\"Bahrain\",\"Bangladesh\",\"Belgium\",\"Bolivia\",\"Brazil\",\"Chile\",\"Colombia\",\"Costa Rica\",\"Cyprus\",\"Denmark\",\"Djibouti\",\"Dominican Republic\",\"Ecuador\",\"Egypt\",\"El Salvador\",\"Ethiopia\",\"France\",\"Gabon\",\"Greece\",\"Guatemala\",\"Guyana\",\"Honduras\",\"India\",\"Iran\",\"Iraq\",\"Ireland\",\"Israel\",\"Italy\",\"Jamaica\",\"Japan\",\"Lebanon\",\"Lesotho\",\"Libya\",\"Malaysia\",\"Mexico\",\"Morocco\",\"Mozambique\",\"Myanmar\",\"Namibia\",\"Netherlands\",\"Nicaragua\",\"Norway\",\"Pakistan\",\"Panama\",\"Peru\",\"Philippines\",\"Poland\",\"Portugal\",\"Rhodesia\",\"Saudi Arabia\",\"South Africa\",\"Spain\",\"Sri Lanka\",\"Sweden\",\"Switzerland\",\"Syria\",\"Tanzania\",\"Thailand\",\"Trinidad and Tobago\",\"Tunisia\",\"Turkey\",\"Uganda\",\"United Arab Emirates\",\"United Kingdom\",\"United States\",\"Venezuela\",\"West Bank and Gaza Strip\",\"West Germany (FRG)\",\"Zambia\"],\"name\":\"\",\"type\":\"choropleth\",\"z\":[3,1,3,16,2,5,1,1,8,14,6,49,140,2,5,3,1,2,2,1,326,4,212,1,9,60,2,6,20,82,2,8,130,209,2,16,38,2,3,1,10,2,5,19,31,3,206,1,7,4,3,50,1,15,51,1,16,279,3,1,6,28,1,16,1,1,141,8,2,239,69,4,22,17,1]}],\"name\":\"1979\"},{\"data\":[{\"coloraxis\":\"coloraxis\",\"geo\":\"geo\",\"hovertemplate\":\"<b>%{hovertext}</b><br><br>year=1980<br>country=%{location}<br>attacks=%{z}<extra></extra>\",\"hovertext\":[\"Argentina\",\"Australia\",\"Austria\",\"Bahrain\",\"Bangladesh\",\"Belgium\",\"Belize\",\"Bolivia\",\"Brazil\",\"Canada\",\"Chile\",\"Colombia\",\"Costa Rica\",\"Cyprus\",\"Denmark\",\"Dominican Republic\",\"Ecuador\",\"Egypt\",\"El Salvador\",\"France\",\"Greece\",\"Grenada\",\"Guadeloupe\",\"Guatemala\",\"Guinea\",\"Guyana\",\"Honduras\",\"Hong Kong\",\"India\",\"Iran\",\"Iraq\",\"Ireland\",\"Israel\",\"Italy\",\"Jamaica\",\"Jordan\",\"Kenya\",\"Kuwait\",\"Lebanon\",\"Libya\",\"Mexico\",\"Myanmar\",\"Namibia\",\"Netherlands\",\"New Hebrides\",\"Nicaragua\",\"Nigeria\",\"Pakistan\",\"Panama\",\"Paraguay\",\"Peru\",\"Philippines\",\"Portugal\",\"Rhodesia\",\"Senegal\",\"Somalia\",\"South Africa\",\"Spain\",\"Switzerland\",\"Syria\",\"Thailand\",\"Tunisia\",\"Turkey\",\"United Arab Emirates\",\"United Kingdom\",\"United States\",\"Venezuela\",\"West Bank and Gaza Strip\",\"West Germany (FRG)\",\"Yugoslavia\",\"Zimbabwe\"],\"locationmode\":\"country names\",\"locations\":[\"Argentina\",\"Australia\",\"Austria\",\"Bahrain\",\"Bangladesh\",\"Belgium\",\"Belize\",\"Bolivia\",\"Brazil\",\"Canada\",\"Chile\",\"Colombia\",\"Costa Rica\",\"Cyprus\",\"Denmark\",\"Dominican Republic\",\"Ecuador\",\"Egypt\",\"El Salvador\",\"France\",\"Greece\",\"Grenada\",\"Guadeloupe\",\"Guatemala\",\"Guinea\",\"Guyana\",\"Honduras\",\"Hong Kong\",\"India\",\"Iran\",\"Iraq\",\"Ireland\",\"Israel\",\"Italy\",\"Jamaica\",\"Jordan\",\"Kenya\",\"Kuwait\",\"Lebanon\",\"Libya\",\"Mexico\",\"Myanmar\",\"Namibia\",\"Netherlands\",\"New Hebrides\",\"Nicaragua\",\"Nigeria\",\"Pakistan\",\"Panama\",\"Paraguay\",\"Peru\",\"Philippines\",\"Portugal\",\"Rhodesia\",\"Senegal\",\"Somalia\",\"South Africa\",\"Spain\",\"Switzerland\",\"Syria\",\"Thailand\",\"Tunisia\",\"Turkey\",\"United Arab Emirates\",\"United Kingdom\",\"United States\",\"Venezuela\",\"West Bank and Gaza Strip\",\"West Germany (FRG)\",\"Yugoslavia\",\"Zimbabwe\"],\"name\":\"\",\"type\":\"choropleth\",\"z\":[6,6,2,1,1,8,1,35,19,3,41,141,3,1,1,1,2,5,710,94,15,4,9,281,2,1,16,1,10,67,6,7,79,110,6,1,1,4,86,2,5,1,2,1,1,35,1,1,4,2,64,60,8,13,1,1,23,187,7,33,26,1,95,1,134,67,8,56,20,1,14]}],\"name\":\"1980\"},{\"data\":[{\"coloraxis\":\"coloraxis\",\"geo\":\"geo\",\"hovertemplate\":\"<b>%{hovertext}</b><br><br>year=1981<br>country=%{location}<br>attacks=%{z}<extra></extra>\",\"hovertext\":[\"Albania\",\"Angola\",\"Argentina\",\"Australia\",\"Austria\",\"Bahamas\",\"Bangladesh\",\"Belgium\",\"Bolivia\",\"Brazil\",\"Central African Republic\",\"Chile\",\"Colombia\",\"Costa Rica\",\"Cyprus\",\"Denmark\",\"Dominica\",\"Ecuador\",\"Egypt\",\"El Salvador\",\"France\",\"Greece\",\"Guadeloupe\",\"Guatemala\",\"Guyana\",\"Honduras\",\"Hong Kong\",\"India\",\"Indonesia\",\"Iran\",\"Iraq\",\"Ireland\",\"Israel\",\"Italy\",\"Jamaica\",\"Japan\",\"Jordan\",\"Kuwait\",\"Lebanon\",\"Lesotho\",\"Martinique\",\"Mexico\",\"Mozambique\",\"Netherlands\",\"New Zealand\",\"Nicaragua\",\"North Yemen\",\"Norway\",\"Pakistan\",\"Panama\",\"Peru\",\"Philippines\",\"Poland\",\"Portugal\",\"Seychelles\",\"Somalia\",\"South Africa\",\"Spain\",\"Sri Lanka\",\"Sudan\",\"Switzerland\",\"Syria\",\"Thailand\",\"Trinidad and Tobago\",\"Turkey\",\"Uganda\",\"United Arab Emirates\",\"United Kingdom\",\"United States\",\"Vatican City\",\"Venezuela\",\"West Bank and Gaza Strip\",\"West Germany (FRG)\",\"Yugoslavia\",\"Zambia\",\"Zimbabwe\"],\"locationmode\":\"country names\",\"locations\":[\"Albania\",\"Angola\",\"Argentina\",\"Australia\",\"Austria\",\"Bahamas\",\"Bangladesh\",\"Belgium\",\"Bolivia\",\"Brazil\",\"Central African Republic\",\"Chile\",\"Colombia\",\"Costa Rica\",\"Cyprus\",\"Denmark\",\"Dominica\",\"Ecuador\",\"Egypt\",\"El Salvador\",\"France\",\"Greece\",\"Guadeloupe\",\"Guatemala\",\"Guyana\",\"Honduras\",\"Hong Kong\",\"India\",\"Indonesia\",\"Iran\",\"Iraq\",\"Ireland\",\"Israel\",\"Italy\",\"Jamaica\",\"Japan\",\"Jordan\",\"Kuwait\",\"Lebanon\",\"Lesotho\",\"Martinique\",\"Mexico\",\"Mozambique\",\"Netherlands\",\"New Zealand\",\"Nicaragua\",\"North Yemen\",\"Norway\",\"Pakistan\",\"Panama\",\"Peru\",\"Philippines\",\"Poland\",\"Portugal\",\"Seychelles\",\"Somalia\",\"South Africa\",\"Spain\",\"Sri Lanka\",\"Sudan\",\"Switzerland\",\"Syria\",\"Thailand\",\"Trinidad and Tobago\",\"Turkey\",\"Uganda\",\"United Arab Emirates\",\"United Kingdom\",\"United States\",\"Vatican City\",\"Venezuela\",\"West Bank and Gaza Strip\",\"West Germany (FRG)\",\"Yugoslavia\",\"Zambia\",\"Zimbabwe\"],\"name\":\"\",\"type\":\"choropleth\",\"z\":[1,1,2,1,3,1,1,6,5,11,1,34,172,10,3,6,2,2,9,664,66,20,1,399,1,17,3,16,1,108,3,5,36,69,1,1,2,3,81,5,1,3,3,1,2,47,1,1,4,4,149,31,1,10,2,8,42,107,2,1,13,41,18,1,8,25,3,142,74,1,7,17,31,2,1,9]}],\"name\":\"1981\"},{\"data\":[{\"coloraxis\":\"coloraxis\",\"geo\":\"geo\",\"hovertemplate\":\"<b>%{hovertext}</b><br><br>year=1982<br>country=%{location}<br>attacks=%{z}<extra></extra>\",\"hovertext\":[\"Angola\",\"Argentina\",\"Australia\",\"Austria\",\"Bangladesh\",\"Belgium\",\"Bolivia\",\"Brazil\",\"Bulgaria\",\"Canada\",\"Chile\",\"Colombia\",\"Costa Rica\",\"Cyprus\",\"Dominican Republic\",\"East Germany (GDR)\",\"Ecuador\",\"Egypt\",\"El Salvador\",\"France\",\"Greece\",\"Guatemala\",\"Honduras\",\"India\",\"Iran\",\"Iraq\",\"Ireland\",\"Israel\",\"Italy\",\"Japan\",\"Jordan\",\"Kuwait\",\"Lebanon\",\"Lesotho\",\"Mexico\",\"Mozambique\",\"Myanmar\",\"Namibia\",\"Netherlands\",\"Nicaragua\",\"Pakistan\",\"People's Republic of the Congo\",\"Peru\",\"Philippines\",\"Portugal\",\"Qatar\",\"South Africa\",\"South Korea\",\"Spain\",\"Sri Lanka\",\"Sudan\",\"Suriname\",\"Swaziland\",\"Switzerland\",\"Syria\",\"Tanzania\",\"Thailand\",\"Turkey\",\"Uganda\",\"United Kingdom\",\"United States\",\"Venezuela\",\"West Bank and Gaza Strip\",\"West Germany (FRG)\",\"Zimbabwe\"],\"locationmode\":\"country names\",\"locations\":[\"Angola\",\"Argentina\",\"Australia\",\"Austria\",\"Bangladesh\",\"Belgium\",\"Bolivia\",\"Brazil\",\"Bulgaria\",\"Canada\",\"Chile\",\"Colombia\",\"Costa Rica\",\"Cyprus\",\"Dominican Republic\",\"East Germany (GDR)\",\"Ecuador\",\"Egypt\",\"El Salvador\",\"France\",\"Greece\",\"Guatemala\",\"Honduras\",\"India\",\"Iran\",\"Iraq\",\"Ireland\",\"Israel\",\"Italy\",\"Japan\",\"Jordan\",\"Kuwait\",\"Lebanon\",\"Lesotho\",\"Mexico\",\"Mozambique\",\"Myanmar\",\"Namibia\",\"Netherlands\",\"Nicaragua\",\"Pakistan\",\"People's Republic of the Congo\",\"Peru\",\"Philippines\",\"Portugal\",\"Qatar\",\"South Africa\",\"South Korea\",\"Spain\",\"Sri Lanka\",\"Sudan\",\"Suriname\",\"Swaziland\",\"Switzerland\",\"Syria\",\"Tanzania\",\"Thailand\",\"Turkey\",\"Uganda\",\"United Kingdom\",\"United States\",\"Venezuela\",\"West Bank and Gaza Strip\",\"West Germany (FRG)\",\"Zimbabwe\"],\"name\":\"\",\"type\":\"choropleth\",\"z\":[2,9,2,11,1,1,27,4,2,5,21,222,6,1,2,1,3,1,537,62,19,354,34,13,26,5,4,71,23,2,1,1,120,2,3,9,2,2,2,63,4,1,350,38,3,1,26,1,146,2,3,1,1,6,20,1,3,5,1,95,78,2,39,29,12]}],\"name\":\"1982\"},{\"data\":[{\"coloraxis\":\"coloraxis\",\"geo\":\"geo\",\"hovertemplate\":\"<b>%{hovertext}</b><br><br>year=1983<br>country=%{location}<br>attacks=%{z}<extra></extra>\",\"hovertext\":[\"Angola\",\"Argentina\",\"Belgium\",\"Bolivia\",\"Brazil\",\"Canada\",\"Chile\",\"Colombia\",\"Costa Rica\",\"Cyprus\",\"East Germany (GDR)\",\"Ecuador\",\"El Salvador\",\"Ethiopia\",\"Falkland Islands\",\"France\",\"French Guiana\",\"Greece\",\"Grenada\",\"Guadeloupe\",\"Guatemala\",\"Haiti\",\"Honduras\",\"Iceland\",\"India\",\"Iran\",\"Iraq\",\"Ireland\",\"Israel\",\"Italy\",\"Japan\",\"Jordan\",\"Kuwait\",\"Lebanon\",\"Lesotho\",\"Luxembourg\",\"Malaysia\",\"Martinique\",\"Mexico\",\"Mozambique\",\"Myanmar\",\"Namibia\",\"Netherlands\",\"Nicaragua\",\"Nigeria\",\"Pakistan\",\"Panama\",\"Peru\",\"Philippines\",\"Portugal\",\"Somalia\",\"South Africa\",\"South Korea\",\"South Yemen\",\"Spain\",\"Sri Lanka\",\"Sudan\",\"Suriname\",\"Sweden\",\"Switzerland\",\"Syria\",\"Thailand\",\"Trinidad and Tobago\",\"Turkey\",\"Uganda\",\"United Arab Emirates\",\"United Kingdom\",\"United States\",\"Venezuela\",\"West Bank and Gaza Strip\",\"West Germany (FRG)\",\"Yugoslavia\",\"Zimbabwe\"],\"locationmode\":\"country names\",\"locations\":[\"Angola\",\"Argentina\",\"Belgium\",\"Bolivia\",\"Brazil\",\"Canada\",\"Chile\",\"Colombia\",\"Costa Rica\",\"Cyprus\",\"East Germany (GDR)\",\"Ecuador\",\"El Salvador\",\"Ethiopia\",\"Falkland Islands\",\"France\",\"French Guiana\",\"Greece\",\"Grenada\",\"Guadeloupe\",\"Guatemala\",\"Haiti\",\"Honduras\",\"Iceland\",\"India\",\"Iran\",\"Iraq\",\"Ireland\",\"Israel\",\"Italy\",\"Japan\",\"Jordan\",\"Kuwait\",\"Lebanon\",\"Lesotho\",\"Luxembourg\",\"Malaysia\",\"Martinique\",\"Mexico\",\"Mozambique\",\"Myanmar\",\"Namibia\",\"Netherlands\",\"Nicaragua\",\"Nigeria\",\"Pakistan\",\"Panama\",\"Peru\",\"Philippines\",\"Portugal\",\"Somalia\",\"South Africa\",\"South Korea\",\"South Yemen\",\"Spain\",\"Sri Lanka\",\"Sudan\",\"Suriname\",\"Sweden\",\"Switzerland\",\"Syria\",\"Thailand\",\"Trinidad and Tobago\",\"Turkey\",\"Uganda\",\"United Arab Emirates\",\"United Kingdom\",\"United States\",\"Venezuela\",\"West Bank and Gaza Strip\",\"West Germany (FRG)\",\"Yugoslavia\",\"Zimbabwe\"],\"name\":\"\",\"type\":\"choropleth\",\"z\":[7,18,8,27,8,1,106,234,3,2,1,10,371,3,1,121,3,11,1,17,117,6,29,1,47,10,3,4,31,7,12,7,7,234,12,2,1,5,2,4,4,5,2,299,3,9,9,536,16,9,1,56,1,1,122,7,3,1,1,3,1,1,1,5,6,1,177,44,6,34,5,1,6]}],\"name\":\"1983\"},{\"data\":[{\"coloraxis\":\"coloraxis\",\"geo\":\"geo\",\"hovertemplate\":\"<b>%{hovertext}</b><br><br>year=1984<br>country=%{location}<br>attacks=%{z}<extra></extra>\",\"hovertext\":[\"Angola\",\"Argentina\",\"Austria\",\"Bangladesh\",\"Belgium\",\"Bolivia\",\"Brazil\",\"Bulgaria\",\"Burkina Faso\",\"Chad\",\"Chile\",\"Colombia\",\"Costa Rica\",\"Cyprus\",\"East Germany (GDR)\",\"Ecuador\",\"El Salvador\",\"Ethiopia\",\"France\",\"Greece\",\"Guadeloupe\",\"Guatemala\",\"Honduras\",\"India\",\"Indonesia\",\"Iran\",\"Iraq\",\"Ireland\",\"Israel\",\"Italy\",\"Japan\",\"Jordan\",\"Kuwait\",\"Lebanon\",\"Lesotho\",\"Libya\",\"Malta\",\"Martinique\",\"Mexico\",\"Mozambique\",\"Namibia\",\"Netherlands\",\"New Caledonia\",\"New Zealand\",\"Nicaragua\",\"Pakistan\",\"Panama\",\"Paraguay\",\"Peru\",\"Philippines\",\"Portugal\",\"Romania\",\"Saudi Arabia\",\"Somalia\",\"South Africa\",\"Spain\",\"Sri Lanka\",\"Sudan\",\"Suriname\",\"Swaziland\",\"Switzerland\",\"Syria\",\"Thailand\",\"Turkey\",\"Uganda\",\"United Kingdom\",\"United States\",\"Uruguay\",\"Venezuela\",\"West Bank and Gaza Strip\",\"West Germany (FRG)\",\"Western Sahara\",\"Yugoslavia\",\"Zaire\",\"Zimbabwe\"],\"locationmode\":\"country names\",\"locations\":[\"Angola\",\"Argentina\",\"Austria\",\"Bangladesh\",\"Belgium\",\"Bolivia\",\"Brazil\",\"Bulgaria\",\"Burkina Faso\",\"Chad\",\"Chile\",\"Colombia\",\"Costa Rica\",\"Cyprus\",\"East Germany (GDR)\",\"Ecuador\",\"El Salvador\",\"Ethiopia\",\"France\",\"Greece\",\"Guadeloupe\",\"Guatemala\",\"Honduras\",\"India\",\"Indonesia\",\"Iran\",\"Iraq\",\"Ireland\",\"Israel\",\"Italy\",\"Japan\",\"Jordan\",\"Kuwait\",\"Lebanon\",\"Lesotho\",\"Libya\",\"Malta\",\"Martinique\",\"Mexico\",\"Mozambique\",\"Namibia\",\"Netherlands\",\"New Caledonia\",\"New Zealand\",\"Nicaragua\",\"Pakistan\",\"Panama\",\"Paraguay\",\"Peru\",\"Philippines\",\"Portugal\",\"Romania\",\"Saudi Arabia\",\"Somalia\",\"South Africa\",\"Spain\",\"Sri Lanka\",\"Sudan\",\"Suriname\",\"Swaziland\",\"Switzerland\",\"Syria\",\"Thailand\",\"Turkey\",\"Uganda\",\"United Kingdom\",\"United States\",\"Uruguay\",\"Venezuela\",\"West Bank and Gaza Strip\",\"West Germany (FRG)\",\"Western Sahara\",\"Yugoslavia\",\"Zaire\",\"Zimbabwe\"],\"name\":\"\",\"type\":\"choropleth\",\"z\":[11,46,4,1,10,14,5,1,1,1,563,237,2,7,1,24,273,1,145,28,14,74,12,159,2,17,2,1,25,14,15,5,1,166,1,3,7,2,4,10,24,1,10,1,302,3,2,2,592,43,14,1,2,2,60,143,81,5,1,1,1,1,1,19,3,145,63,4,4,26,21,1,1,3,3]}],\"name\":\"1984\"},{\"data\":[{\"coloraxis\":\"coloraxis\",\"geo\":\"geo\",\"hovertemplate\":\"<b>%{hovertext}</b><br><br>year=1985<br>country=%{location}<br>attacks=%{z}<extra></extra>\",\"hovertext\":[\"Angola\",\"Argentina\",\"Austria\",\"Bangladesh\",\"Belgium\",\"Bolivia\",\"Botswana\",\"Brazil\",\"Canada\",\"Chad\",\"Chile\",\"Colombia\",\"Costa Rica\",\"Cyprus\",\"Denmark\",\"East Germany (GDR)\",\"Ecuador\",\"Egypt\",\"El Salvador\",\"Ethiopia\",\"France\",\"Greece\",\"Guadeloupe\",\"Guatemala\",\"Honduras\",\"India\",\"Indonesia\",\"Iran\",\"Ireland\",\"Israel\",\"Italy\",\"Japan\",\"Kuwait\",\"Lebanon\",\"Luxembourg\",\"Malta\",\"Mexico\",\"Morocco\",\"Mozambique\",\"Namibia\",\"Nepal\",\"Netherlands\",\"New Caledonia\",\"Nicaragua\",\"Niger\",\"Pakistan\",\"Paraguay\",\"Peru\",\"Philippines\",\"Portugal\",\"Romania\",\"Saudi Arabia\",\"Singapore\",\"South Africa\",\"Spain\",\"Sri Lanka\",\"Switzerland\",\"Syria\",\"Thailand\",\"Togo\",\"Turkey\",\"Uganda\",\"United Arab Emirates\",\"United Kingdom\",\"United States\",\"Uruguay\",\"Venezuela\",\"West Bank and Gaza Strip\",\"West Germany (FRG)\",\"Zambia\",\"Zimbabwe\"],\"locationmode\":\"country names\",\"locations\":[\"Angola\",\"Argentina\",\"Austria\",\"Bangladesh\",\"Belgium\",\"Bolivia\",\"Botswana\",\"Brazil\",\"Canada\",\"Chad\",\"Chile\",\"Colombia\",\"Costa Rica\",\"Cyprus\",\"Denmark\",\"East Germany (GDR)\",\"Ecuador\",\"Egypt\",\"El Salvador\",\"Ethiopia\",\"France\",\"Greece\",\"Guadeloupe\",\"Guatemala\",\"Honduras\",\"India\",\"Indonesia\",\"Iran\",\"Ireland\",\"Israel\",\"Italy\",\"Japan\",\"Kuwait\",\"Lebanon\",\"Luxembourg\",\"Malta\",\"Mexico\",\"Morocco\",\"Mozambique\",\"Namibia\",\"Nepal\",\"Netherlands\",\"New Caledonia\",\"Nicaragua\",\"Niger\",\"Pakistan\",\"Paraguay\",\"Peru\",\"Philippines\",\"Portugal\",\"Romania\",\"Saudi Arabia\",\"Singapore\",\"South Africa\",\"Spain\",\"Sri Lanka\",\"Switzerland\",\"Syria\",\"Thailand\",\"Togo\",\"Turkey\",\"Uganda\",\"United Arab Emirates\",\"United Kingdom\",\"United States\",\"Uruguay\",\"Venezuela\",\"West Bank and Gaza Strip\",\"West Germany (FRG)\",\"Zambia\",\"Zimbabwe\"],\"name\":\"\",\"type\":\"choropleth\",\"z\":[6,43,4,1,21,13,1,1,3,1,232,382,5,7,4,4,12,2,436,1,106,35,9,63,9,39,2,3,2,21,11,10,2,95,10,1,1,2,5,8,9,4,7,258,1,2,1,352,124,20,1,2,1,106,114,110,7,1,1,3,2,7,2,67,40,2,2,1,53,1,1]}],\"name\":\"1985\"},{\"data\":[{\"coloraxis\":\"coloraxis\",\"geo\":\"geo\",\"hovertemplate\":\"<b>%{hovertext}</b><br><br>year=1986<br>country=%{location}<br>attacks=%{z}<extra></extra>\",\"hovertext\":[\"Angola\",\"Argentina\",\"Australia\",\"Austria\",\"Bangladesh\",\"Belgium\",\"Bolivia\",\"Brazil\",\"Canada\",\"Central African Republic\",\"Chad\",\"Chile\",\"Colombia\",\"Costa Rica\",\"Cyprus\",\"Denmark\",\"East Germany (GDR)\",\"Ecuador\",\"Egypt\",\"El Salvador\",\"Ethiopia\",\"Finland\",\"France\",\"Greece\",\"Guadeloupe\",\"Guatemala\",\"Honduras\",\"Iceland\",\"India\",\"Indonesia\",\"Iran\",\"Ireland\",\"Israel\",\"Italy\",\"Jamaica\",\"Japan\",\"Kuwait\",\"Lebanon\",\"Luxembourg\",\"Malaysia\",\"Malta\",\"Mexico\",\"Morocco\",\"Mozambique\",\"Namibia\",\"Netherlands\",\"New Caledonia\",\"Nicaragua\",\"Pakistan\",\"Panama\",\"Peru\",\"Philippines\",\"Portugal\",\"Saudi Arabia\",\"South Africa\",\"South Korea\",\"Spain\",\"Sri Lanka\",\"Sudan\",\"Suriname\",\"Swaziland\",\"Sweden\",\"Syria\",\"Thailand\",\"Tunisia\",\"Turkey\",\"Uganda\",\"United Arab Emirates\",\"United Kingdom\",\"United States\",\"Uruguay\",\"Venezuela\",\"West Bank and Gaza Strip\",\"West Germany (FRG)\",\"Western Sahara\",\"Zambia\",\"Zimbabwe\"],\"locationmode\":\"country names\",\"locations\":[\"Angola\",\"Argentina\",\"Australia\",\"Austria\",\"Bangladesh\",\"Belgium\",\"Bolivia\",\"Brazil\",\"Canada\",\"Central African Republic\",\"Chad\",\"Chile\",\"Colombia\",\"Costa Rica\",\"Cyprus\",\"Denmark\",\"East Germany (GDR)\",\"Ecuador\",\"Egypt\",\"El Salvador\",\"Ethiopia\",\"Finland\",\"France\",\"Greece\",\"Guadeloupe\",\"Guatemala\",\"Honduras\",\"Iceland\",\"India\",\"Indonesia\",\"Iran\",\"Ireland\",\"Israel\",\"Italy\",\"Jamaica\",\"Japan\",\"Kuwait\",\"Lebanon\",\"Luxembourg\",\"Malaysia\",\"Malta\",\"Mexico\",\"Morocco\",\"Mozambique\",\"Namibia\",\"Netherlands\",\"New Caledonia\",\"Nicaragua\",\"Pakistan\",\"Panama\",\"Peru\",\"Philippines\",\"Portugal\",\"Saudi Arabia\",\"South Africa\",\"South Korea\",\"Spain\",\"Sri Lanka\",\"Sudan\",\"Suriname\",\"Swaziland\",\"Sweden\",\"Syria\",\"Thailand\",\"Tunisia\",\"Turkey\",\"Uganda\",\"United Arab Emirates\",\"United Kingdom\",\"United States\",\"Uruguay\",\"Venezuela\",\"West Bank and Gaza Strip\",\"West Germany (FRG)\",\"Western Sahara\",\"Zambia\",\"Zimbabwe\"],\"name\":\"\",\"type\":\"choropleth\",\"z\":[5,33,2,4,11,3,4,3,2,1,1,243,307,1,3,2,3,8,4,175,1,1,95,41,1,31,8,1,96,4,6,2,48,7,1,10,1,106,1,15,1,2,2,7,1,14,2,171,24,5,568,80,11,1,159,2,125,142,6,8,1,3,4,3,2,7,1,1,95,49,2,8,13,46,1,1,1]}],\"name\":\"1986\"},{\"data\":[{\"coloraxis\":\"coloraxis\",\"geo\":\"geo\",\"hovertemplate\":\"<b>%{hovertext}</b><br><br>year=1987<br>country=%{location}<br>attacks=%{z}<extra></extra>\",\"hovertext\":[\"Afghanistan\",\"Angola\",\"Argentina\",\"Austria\",\"Bangladesh\",\"Belgium\",\"Bolivia\",\"Botswana\",\"Brazil\",\"Chile\",\"Colombia\",\"Costa Rica\",\"Cyprus\",\"Denmark\",\"Djibouti\",\"Dominican Republic\",\"East Germany (GDR)\",\"Ecuador\",\"Egypt\",\"El Salvador\",\"Ethiopia\",\"Fiji\",\"France\",\"Ghana\",\"Greece\",\"Guatemala\",\"Haiti\",\"Honduras\",\"India\",\"Iran\",\"Iraq\",\"Ireland\",\"Israel\",\"Italy\",\"Japan\",\"Kuwait\",\"Lebanon\",\"Malta\",\"Martinique\",\"Mexico\",\"Morocco\",\"Mozambique\",\"Myanmar\",\"Namibia\",\"Netherlands\",\"Nicaragua\",\"Norway\",\"Pakistan\",\"Panama\",\"Paraguay\",\"Peru\",\"Philippines\",\"Singapore\",\"Somalia\",\"South Africa\",\"Spain\",\"Sri Lanka\",\"Sudan\",\"Suriname\",\"Swaziland\",\"Switzerland\",\"Tunisia\",\"Turkey\",\"Uganda\",\"United Kingdom\",\"United States\",\"Venezuela\",\"West Bank and Gaza Strip\",\"West Germany (FRG)\",\"Zambia\",\"Zimbabwe\"],\"locationmode\":\"country names\",\"locations\":[\"Afghanistan\",\"Angola\",\"Argentina\",\"Austria\",\"Bangladesh\",\"Belgium\",\"Bolivia\",\"Botswana\",\"Brazil\",\"Chile\",\"Colombia\",\"Costa Rica\",\"Cyprus\",\"Denmark\",\"Djibouti\",\"Dominican Republic\",\"East Germany (GDR)\",\"Ecuador\",\"Egypt\",\"El Salvador\",\"Ethiopia\",\"Fiji\",\"France\",\"Ghana\",\"Greece\",\"Guatemala\",\"Haiti\",\"Honduras\",\"India\",\"Iran\",\"Iraq\",\"Ireland\",\"Israel\",\"Italy\",\"Japan\",\"Kuwait\",\"Lebanon\",\"Malta\",\"Martinique\",\"Mexico\",\"Morocco\",\"Mozambique\",\"Myanmar\",\"Namibia\",\"Netherlands\",\"Nicaragua\",\"Norway\",\"Pakistan\",\"Panama\",\"Paraguay\",\"Peru\",\"Philippines\",\"Singapore\",\"Somalia\",\"South Africa\",\"Spain\",\"Sri Lanka\",\"Sudan\",\"Suriname\",\"Swaziland\",\"Switzerland\",\"Tunisia\",\"Turkey\",\"Uganda\",\"United Kingdom\",\"United States\",\"Venezuela\",\"West Bank and Gaza Strip\",\"West Germany (FRG)\",\"Zambia\",\"Zimbabwe\"],\"name\":\"\",\"type\":\"choropleth\",\"z\":[1,3,80,4,6,1,14,1,1,173,337,3,10,2,1,15,1,6,7,234,1,3,87,1,26,56,10,20,166,1,3,24,23,14,10,12,94,4,1,1,4,11,1,7,1,223,2,60,4,1,627,160,2,1,133,104,115,1,13,1,1,4,43,1,117,34,13,11,19,1,11]}],\"name\":\"1987\"},{\"data\":[{\"coloraxis\":\"coloraxis\",\"geo\":\"geo\",\"hovertemplate\":\"<b>%{hovertext}</b><br><br>year=1988<br>country=%{location}<br>attacks=%{z}<extra></extra>\",\"hovertext\":[\"Afghanistan\",\"Angola\",\"Argentina\",\"Australia\",\"Austria\",\"Bangladesh\",\"Belgium\",\"Bolivia\",\"Botswana\",\"Brazil\",\"Chile\",\"Colombia\",\"Costa Rica\",\"Cyprus\",\"Denmark\",\"Djibouti\",\"Dominican Republic\",\"East Germany (GDR)\",\"Ecuador\",\"Egypt\",\"El Salvador\",\"Ethiopia\",\"France\",\"Greece\",\"Guadeloupe\",\"Guatemala\",\"Haiti\",\"Honduras\",\"India\",\"Iran\",\"Iraq\",\"Israel\",\"Italy\",\"Japan\",\"Jordan\",\"Kuwait\",\"Lebanon\",\"Lesotho\",\"Malaysia\",\"Maldives\",\"Martinique\",\"Mauritius\",\"Mexico\",\"Mozambique\",\"Myanmar\",\"Namibia\",\"Netherlands\",\"New Caledonia\",\"Nicaragua\",\"Nigeria\",\"North Yemen\",\"Pakistan\",\"Panama\",\"Peru\",\"Philippines\",\"Portugal\",\"Saudi Arabia\",\"Senegal\",\"Somalia\",\"South Africa\",\"South Korea\",\"Spain\",\"Sri Lanka\",\"Sudan\",\"Suriname\",\"Switzerland\",\"Thailand\",\"Turkey\",\"Uganda\",\"United Kingdom\",\"United States\",\"Venezuela\",\"West Bank and Gaza Strip\",\"West Germany (FRG)\",\"Zaire\",\"Zambia\",\"Zimbabwe\"],\"locationmode\":\"country names\",\"locations\":[\"Afghanistan\",\"Angola\",\"Argentina\",\"Australia\",\"Austria\",\"Bangladesh\",\"Belgium\",\"Bolivia\",\"Botswana\",\"Brazil\",\"Chile\",\"Colombia\",\"Costa Rica\",\"Cyprus\",\"Denmark\",\"Djibouti\",\"Dominican Republic\",\"East Germany (GDR)\",\"Ecuador\",\"Egypt\",\"El Salvador\",\"Ethiopia\",\"France\",\"Greece\",\"Guadeloupe\",\"Guatemala\",\"Haiti\",\"Honduras\",\"India\",\"Iran\",\"Iraq\",\"Israel\",\"Italy\",\"Japan\",\"Jordan\",\"Kuwait\",\"Lebanon\",\"Lesotho\",\"Malaysia\",\"Maldives\",\"Martinique\",\"Mauritius\",\"Mexico\",\"Mozambique\",\"Myanmar\",\"Namibia\",\"Netherlands\",\"New Caledonia\",\"Nicaragua\",\"Nigeria\",\"North Yemen\",\"Pakistan\",\"Panama\",\"Peru\",\"Philippines\",\"Portugal\",\"Saudi Arabia\",\"Senegal\",\"Somalia\",\"South Africa\",\"South Korea\",\"Spain\",\"Sri Lanka\",\"Sudan\",\"Suriname\",\"Switzerland\",\"Thailand\",\"Turkey\",\"Uganda\",\"United Kingdom\",\"United States\",\"Venezuela\",\"West Bank and Gaza Strip\",\"West Germany (FRG)\",\"Zaire\",\"Zambia\",\"Zimbabwe\"],\"name\":\"\",\"type\":\"choropleth\",\"z\":[11,12,33,3,1,36,5,11,3,2,185,427,2,5,1,2,2,4,9,9,367,2,54,38,4,29,6,21,358,6,4,35,29,16,1,4,125,1,4,1,1,1,3,16,23,17,4,9,62,2,1,44,1,355,210,2,1,3,2,245,8,151,350,10,9,4,5,42,15,181,27,10,18,14,1,5,1]}],\"name\":\"1988\"},{\"data\":[{\"coloraxis\":\"coloraxis\",\"geo\":\"geo\",\"hovertemplate\":\"<b>%{hovertext}</b><br><br>year=1989<br>country=%{location}<br>attacks=%{z}<extra></extra>\",\"hovertext\":[\"Afghanistan\",\"Angola\",\"Argentina\",\"Australia\",\"Austria\",\"Bangladesh\",\"Belgium\",\"Bolivia\",\"Botswana\",\"Brazil\",\"Cambodia\",\"Canada\",\"Chile\",\"China\",\"Colombia\",\"Costa Rica\",\"Cyprus\",\"Czechoslovakia\",\"Denmark\",\"Dominican Republic\",\"East Germany (GDR)\",\"Ecuador\",\"Egypt\",\"El Salvador\",\"Ethiopia\",\"Fiji\",\"France\",\"Greece\",\"Guatemala\",\"Haiti\",\"Honduras\",\"Hong Kong\",\"Hungary\",\"India\",\"Indonesia\",\"Iran\",\"Iraq\",\"Ireland\",\"Israel\",\"Italy\",\"Japan\",\"Kenya\",\"Laos\",\"Lebanon\",\"Malaysia\",\"Mauritius\",\"Mexico\",\"Mozambique\",\"Myanmar\",\"Namibia\",\"Netherlands\",\"New Caledonia\",\"Nicaragua\",\"Niger\",\"Pakistan\",\"Panama\",\"Papua New Guinea\",\"Peru\",\"Philippines\",\"Portugal\",\"Qatar\",\"Saudi Arabia\",\"Somalia\",\"South Africa\",\"South Korea\",\"Soviet Union\",\"Spain\",\"Sri Lanka\",\"Sudan\",\"Suriname\",\"Swaziland\",\"Sweden\",\"Syria\",\"Thailand\",\"Trinidad and Tobago\",\"Turkey\",\"Uganda\",\"United Arab Emirates\",\"United Kingdom\",\"United States\",\"Uruguay\",\"Venezuela\",\"West Bank and Gaza Strip\",\"West Germany (FRG)\",\"Yugoslavia\",\"Zambia\",\"Zimbabwe\"],\"locationmode\":\"country names\",\"locations\":[\"Afghanistan\",\"Angola\",\"Argentina\",\"Australia\",\"Austria\",\"Bangladesh\",\"Belgium\",\"Bolivia\",\"Botswana\",\"Brazil\",\"Cambodia\",\"Canada\",\"Chile\",\"China\",\"Colombia\",\"Costa Rica\",\"Cyprus\",\"Czechoslovakia\",\"Denmark\",\"Dominican Republic\",\"East Germany (GDR)\",\"Ecuador\",\"Egypt\",\"El Salvador\",\"Ethiopia\",\"Fiji\",\"France\",\"Greece\",\"Guatemala\",\"Haiti\",\"Honduras\",\"Hong Kong\",\"Hungary\",\"India\",\"Indonesia\",\"Iran\",\"Iraq\",\"Ireland\",\"Israel\",\"Italy\",\"Japan\",\"Kenya\",\"Laos\",\"Lebanon\",\"Malaysia\",\"Mauritius\",\"Mexico\",\"Mozambique\",\"Myanmar\",\"Namibia\",\"Netherlands\",\"New Caledonia\",\"Nicaragua\",\"Niger\",\"Pakistan\",\"Panama\",\"Papua New Guinea\",\"Peru\",\"Philippines\",\"Portugal\",\"Qatar\",\"Saudi Arabia\",\"Somalia\",\"South Africa\",\"South Korea\",\"Soviet Union\",\"Spain\",\"Sri Lanka\",\"Sudan\",\"Suriname\",\"Swaziland\",\"Sweden\",\"Syria\",\"Thailand\",\"Trinidad and Tobago\",\"Turkey\",\"Uganda\",\"United Arab Emirates\",\"United Kingdom\",\"United States\",\"Uruguay\",\"Venezuela\",\"West Bank and Gaza Strip\",\"West Germany (FRG)\",\"Yugoslavia\",\"Zambia\",\"Zimbabwe\"],\"name\":\"\",\"type\":\"choropleth\",\"z\":[10,12,32,2,2,36,7,40,2,5,2,1,146,3,492,1,6,4,1,11,1,14,7,356,1,2,25,50,79,3,29,1,1,324,2,6,4,3,87,15,13,4,1,141,2,1,1,64,24,11,5,1,21,1,45,2,24,630,156,1,1,3,2,149,1,7,142,510,8,17,1,3,1,16,1,114,15,1,163,42,1,8,100,21,3,18,3]}],\"name\":\"1989\"},{\"data\":[{\"coloraxis\":\"coloraxis\",\"geo\":\"geo\",\"hovertemplate\":\"<b>%{hovertext}</b><br><br>year=1990<br>country=%{location}<br>attacks=%{z}<extra></extra>\",\"hovertext\":[\"Afghanistan\",\"Albania\",\"Algeria\",\"Angola\",\"Argentina\",\"Austria\",\"Bangladesh\",\"Belgium\",\"Bolivia\",\"Botswana\",\"Brazil\",\"Bulgaria\",\"Cambodia\",\"Chile\",\"China\",\"Colombia\",\"Costa Rica\",\"Cyprus\",\"Czechoslovakia\",\"Djibouti\",\"Dominican Republic\",\"East Germany (GDR)\",\"Ecuador\",\"Egypt\",\"El Salvador\",\"Ethiopia\",\"France\",\"Germany\",\"Greece\",\"Guatemala\",\"Guyana\",\"Haiti\",\"Honduras\",\"Hong Kong\",\"India\",\"Indonesia\",\"Iran\",\"Ireland\",\"Israel\",\"Italy\",\"Japan\",\"Jordan\",\"Laos\",\"Lebanon\",\"Liberia\",\"Malaysia\",\"Mali\",\"Mexico\",\"Mozambique\",\"Myanmar\",\"Namibia\",\"Netherlands\",\"Nicaragua\",\"Pakistan\",\"Panama\",\"Papua New Guinea\",\"Peru\",\"Philippines\",\"Poland\",\"Republic of the Congo\",\"Senegal\",\"Somalia\",\"South Africa\",\"South Korea\",\"Soviet Union\",\"Spain\",\"Sri Lanka\",\"Sudan\",\"Suriname\",\"Sweden\",\"Switzerland\",\"Taiwan\",\"Thailand\",\"Turkey\",\"Uganda\",\"United Kingdom\",\"United States\",\"Uruguay\",\"Venezuela\",\"West Bank and Gaza Strip\",\"West Germany (FRG)\",\"Yugoslavia\",\"Zambia\",\"Zimbabwe\"],\"locationmode\":\"country names\",\"locations\":[\"Afghanistan\",\"Albania\",\"Algeria\",\"Angola\",\"Argentina\",\"Austria\",\"Bangladesh\",\"Belgium\",\"Bolivia\",\"Botswana\",\"Brazil\",\"Bulgaria\",\"Cambodia\",\"Chile\",\"China\",\"Colombia\",\"Costa Rica\",\"Cyprus\",\"Czechoslovakia\",\"Djibouti\",\"Dominican Republic\",\"East Germany (GDR)\",\"Ecuador\",\"Egypt\",\"El Salvador\",\"Ethiopia\",\"France\",\"Germany\",\"Greece\",\"Guatemala\",\"Guyana\",\"Haiti\",\"Honduras\",\"Hong Kong\",\"India\",\"Indonesia\",\"Iran\",\"Ireland\",\"Israel\",\"Italy\",\"Japan\",\"Jordan\",\"Laos\",\"Lebanon\",\"Liberia\",\"Malaysia\",\"Mali\",\"Mexico\",\"Mozambique\",\"Myanmar\",\"Namibia\",\"Netherlands\",\"Nicaragua\",\"Pakistan\",\"Panama\",\"Papua New Guinea\",\"Peru\",\"Philippines\",\"Poland\",\"Republic of the Congo\",\"Senegal\",\"Somalia\",\"South Africa\",\"South Korea\",\"Soviet Union\",\"Spain\",\"Sri Lanka\",\"Sudan\",\"Suriname\",\"Sweden\",\"Switzerland\",\"Taiwan\",\"Thailand\",\"Turkey\",\"Uganda\",\"United Kingdom\",\"United States\",\"Uruguay\",\"Venezuela\",\"West Bank and Gaza Strip\",\"West Germany (FRG)\",\"Yugoslavia\",\"Zambia\",\"Zimbabwe\"],\"name\":\"\",\"type\":\"choropleth\",\"z\":[2,1,2,205,31,1,22,2,11,1,7,5,2,161,1,349,1,11,1,1,2,3,8,13,184,10,30,1,55,83,5,3,13,1,349,3,11,2,98,6,93,3,1,84,4,3,1,5,23,9,2,6,15,87,15,18,495,320,7,1,11,12,154,3,36,113,141,1,7,6,1,1,10,195,14,147,32,1,1,88,9,5,4,6]}],\"name\":\"1990\"},{\"data\":[{\"coloraxis\":\"coloraxis\",\"geo\":\"geo\",\"hovertemplate\":\"<b>%{hovertext}</b><br><br>year=1991<br>country=%{location}<br>attacks=%{z}<extra></extra>\",\"hovertext\":[\"Afghanistan\",\"Albania\",\"Algeria\",\"Angola\",\"Argentina\",\"Armenia\",\"Australia\",\"Austria\",\"Azerbaijan\",\"Bahrain\",\"Bangladesh\",\"Belgium\",\"Belize\",\"Bolivia\",\"Brazil\",\"Bulgaria\",\"Burkina Faso\",\"Burundi\",\"Cambodia\",\"Cameroon\",\"Central African Republic\",\"Chad\",\"Chile\",\"China\",\"Colombia\",\"Costa Rica\",\"Croatia\",\"Cuba\",\"Cyprus\",\"Czechoslovakia\",\"Denmark\",\"Djibouti\",\"Dominican Republic\",\"Ecuador\",\"Egypt\",\"El Salvador\",\"Ethiopia\",\"Fiji\",\"France\",\"Georgia\",\"Germany\",\"Greece\",\"Guadeloupe\",\"Guatemala\",\"Haiti\",\"Honduras\",\"Hong Kong\",\"Hungary\",\"India\",\"Indonesia\",\"Iran\",\"Iraq\",\"Ireland\",\"Israel\",\"Italy\",\"Jamaica\",\"Japan\",\"Jordan\",\"Kenya\",\"Kuwait\",\"Lebanon\",\"Liberia\",\"Lithuania\",\"Madagascar\",\"Malaysia\",\"Mali\",\"Martinique\",\"Mexico\",\"Moldova\",\"Morocco\",\"Mozambique\",\"Myanmar\",\"Namibia\",\"Nepal\",\"Netherlands\",\"New Zealand\",\"Nicaragua\",\"Niger\",\"Nigeria\",\"Norway\",\"Pakistan\",\"Panama\",\"Papua New Guinea\",\"Peru\",\"Philippines\",\"Romania\",\"Rwanda\",\"Saudi Arabia\",\"Senegal\",\"Sierra Leone\",\"Singapore\",\"Somalia\",\"South Africa\",\"South Korea\",\"Soviet Union\",\"Spain\",\"Sri Lanka\",\"Sudan\",\"Suriname\",\"Swaziland\",\"Sweden\",\"Switzerland\",\"Taiwan\",\"Thailand\",\"Togo\",\"Trinidad and Tobago\",\"Tunisia\",\"Turkey\",\"Uganda\",\"Ukraine\",\"United Kingdom\",\"United States\",\"Uruguay\",\"Venezuela\",\"West Bank and Gaza Strip\",\"Yemen\",\"Yugoslavia\",\"Zaire\",\"Zimbabwe\"],\"locationmode\":\"country names\",\"locations\":[\"Afghanistan\",\"Albania\",\"Algeria\",\"Angola\",\"Argentina\",\"Armenia\",\"Australia\",\"Austria\",\"Azerbaijan\",\"Bahrain\",\"Bangladesh\",\"Belgium\",\"Belize\",\"Bolivia\",\"Brazil\",\"Bulgaria\",\"Burkina Faso\",\"Burundi\",\"Cambodia\",\"Cameroon\",\"Central African Republic\",\"Chad\",\"Chile\",\"China\",\"Colombia\",\"Costa Rica\",\"Croatia\",\"Cuba\",\"Cyprus\",\"Czechoslovakia\",\"Denmark\",\"Djibouti\",\"Dominican Republic\",\"Ecuador\",\"Egypt\",\"El Salvador\",\"Ethiopia\",\"Fiji\",\"France\",\"Georgia\",\"Germany\",\"Greece\",\"Guadeloupe\",\"Guatemala\",\"Haiti\",\"Honduras\",\"Hong Kong\",\"Hungary\",\"India\",\"Indonesia\",\"Iran\",\"Iraq\",\"Ireland\",\"Israel\",\"Italy\",\"Jamaica\",\"Japan\",\"Jordan\",\"Kenya\",\"Kuwait\",\"Lebanon\",\"Liberia\",\"Lithuania\",\"Madagascar\",\"Malaysia\",\"Mali\",\"Martinique\",\"Mexico\",\"Moldova\",\"Morocco\",\"Mozambique\",\"Myanmar\",\"Namibia\",\"Nepal\",\"Netherlands\",\"New Zealand\",\"Nicaragua\",\"Niger\",\"Nigeria\",\"Norway\",\"Pakistan\",\"Panama\",\"Papua New Guinea\",\"Peru\",\"Philippines\",\"Romania\",\"Rwanda\",\"Saudi Arabia\",\"Senegal\",\"Sierra Leone\",\"Singapore\",\"Somalia\",\"South Africa\",\"South Korea\",\"Soviet Union\",\"Spain\",\"Sri Lanka\",\"Sudan\",\"Suriname\",\"Swaziland\",\"Sweden\",\"Switzerland\",\"Taiwan\",\"Thailand\",\"Togo\",\"Trinidad and Tobago\",\"Tunisia\",\"Turkey\",\"Uganda\",\"Ukraine\",\"United Kingdom\",\"United States\",\"Uruguay\",\"Venezuela\",\"West Bank and Gaza Strip\",\"Yemen\",\"Yugoslavia\",\"Zaire\",\"Zimbabwe\"],\"name\":\"\",\"type\":\"choropleth\",\"z\":[30,1,30,16,27,1,4,3,3,1,42,6,3,28,24,3,2,7,3,4,4,2,127,1,420,2,26,1,11,1,1,1,8,17,10,500,5,3,137,3,65,57,1,77,17,21,1,3,339,7,9,3,16,64,31,1,19,11,5,5,91,1,1,1,3,12,1,10,1,3,35,22,1,1,8,1,80,6,3,2,150,16,2,658,162,1,3,2,4,9,1,8,127,6,34,89,115,3,1,1,6,2,2,8,2,1,2,293,2,2,262,30,3,17,83,5,11,6,1]}],\"name\":\"1991\"},{\"data\":[{\"coloraxis\":\"coloraxis\",\"geo\":\"geo\",\"hovertemplate\":\"<b>%{hovertext}</b><br><br>year=1992<br>country=%{location}<br>attacks=%{z}<extra></extra>\",\"hovertext\":[\"Afghanistan\",\"Albania\",\"Algeria\",\"Angola\",\"Antigua and Barbuda\",\"Argentina\",\"Armenia\",\"Australia\",\"Austria\",\"Azerbaijan\",\"Bangladesh\",\"Barbados\",\"Belgium\",\"Belize\",\"Benin\",\"Bolivia\",\"Bosnia-Herzegovina\",\"Brazil\",\"Brunei\",\"Bulgaria\",\"Burundi\",\"Cambodia\",\"Cameroon\",\"Canada\",\"Central African Republic\",\"Chad\",\"Chile\",\"China\",\"Colombia\",\"Comoros\",\"Costa Rica\",\"Croatia\",\"Cuba\",\"Cyprus\",\"Czechoslovakia\",\"Denmark\",\"Djibouti\",\"Dominican Republic\",\"Ecuador\",\"Egypt\",\"El Salvador\",\"Equatorial Guinea\",\"Estonia\",\"Ethiopia\",\"Fiji\",\"Finland\",\"France\",\"Georgia\",\"Germany\",\"Ghana\",\"Greece\",\"Guatemala\",\"Guinea\",\"Guyana\",\"Haiti\",\"Honduras\",\"Hong Kong\",\"Hungary\",\"India\",\"Indonesia\",\"Iran\",\"Iraq\",\"Ireland\",\"Israel\",\"Italy\",\"Ivory Coast\",\"Jamaica\",\"Japan\",\"Jordan\",\"Kazakhstan\",\"Kenya\",\"Kuwait\",\"Laos\",\"Latvia\",\"Lebanon\",\"Liberia\",\"Libya\",\"Lithuania\",\"Madagascar\",\"Malawi\",\"Malaysia\",\"Mali\",\"Malta\",\"Martinique\",\"Mexico\",\"Moldova\",\"Morocco\",\"Mozambique\",\"Myanmar\",\"Nepal\",\"Netherlands\",\"New Caledonia\",\"Nicaragua\",\"Niger\",\"Nigeria\",\"Norway\",\"Pakistan\",\"Panama\",\"Papua New Guinea\",\"Paraguay\",\"Peru\",\"Philippines\",\"Poland\",\"Portugal\",\"Romania\",\"Russia\",\"Rwanda\",\"Senegal\",\"Sierra Leone\",\"Singapore\",\"Somalia\",\"South Africa\",\"South Korea\",\"Spain\",\"Sri Lanka\",\"Sudan\",\"Suriname\",\"Swaziland\",\"Sweden\",\"Switzerland\",\"Taiwan\",\"Tajikistan\",\"Thailand\",\"Togo\",\"Trinidad and Tobago\",\"Turkey\",\"Uganda\",\"Ukraine\",\"United Arab Emirates\",\"United Kingdom\",\"United States\",\"Uruguay\",\"Uzbekistan\",\"Venezuela\",\"Vietnam\",\"West Bank and Gaza Strip\",\"Western Sahara\",\"Yemen\",\"Yugoslavia\",\"Zaire\",\"Zimbabwe\"],\"locationmode\":\"country names\",\"locations\":[\"Afghanistan\",\"Albania\",\"Algeria\",\"Angola\",\"Antigua and Barbuda\",\"Argentina\",\"Armenia\",\"Australia\",\"Austria\",\"Azerbaijan\",\"Bangladesh\",\"Barbados\",\"Belgium\",\"Belize\",\"Benin\",\"Bolivia\",\"Bosnia-Herzegovina\",\"Brazil\",\"Brunei\",\"Bulgaria\",\"Burundi\",\"Cambodia\",\"Cameroon\",\"Canada\",\"Central African Republic\",\"Chad\",\"Chile\",\"China\",\"Colombia\",\"Comoros\",\"Costa Rica\",\"Croatia\",\"Cuba\",\"Cyprus\",\"Czechoslovakia\",\"Denmark\",\"Djibouti\",\"Dominican Republic\",\"Ecuador\",\"Egypt\",\"El Salvador\",\"Equatorial Guinea\",\"Estonia\",\"Ethiopia\",\"Fiji\",\"Finland\",\"France\",\"Georgia\",\"Germany\",\"Ghana\",\"Greece\",\"Guatemala\",\"Guinea\",\"Guyana\",\"Haiti\",\"Honduras\",\"Hong Kong\",\"Hungary\",\"India\",\"Indonesia\",\"Iran\",\"Iraq\",\"Ireland\",\"Israel\",\"Italy\",\"Ivory Coast\",\"Jamaica\",\"Japan\",\"Jordan\",\"Kazakhstan\",\"Kenya\",\"Kuwait\",\"Laos\",\"Latvia\",\"Lebanon\",\"Liberia\",\"Libya\",\"Lithuania\",\"Madagascar\",\"Malawi\",\"Malaysia\",\"Mali\",\"Malta\",\"Martinique\",\"Mexico\",\"Moldova\",\"Morocco\",\"Mozambique\",\"Myanmar\",\"Nepal\",\"Netherlands\",\"New Caledonia\",\"Nicaragua\",\"Niger\",\"Nigeria\",\"Norway\",\"Pakistan\",\"Panama\",\"Papua New Guinea\",\"Paraguay\",\"Peru\",\"Philippines\",\"Poland\",\"Portugal\",\"Romania\",\"Russia\",\"Rwanda\",\"Senegal\",\"Sierra Leone\",\"Singapore\",\"Somalia\",\"South Africa\",\"South Korea\",\"Spain\",\"Sri Lanka\",\"Sudan\",\"Suriname\",\"Swaziland\",\"Sweden\",\"Switzerland\",\"Taiwan\",\"Tajikistan\",\"Thailand\",\"Togo\",\"Trinidad and Tobago\",\"Turkey\",\"Uganda\",\"Ukraine\",\"United Arab Emirates\",\"United Kingdom\",\"United States\",\"Uruguay\",\"Uzbekistan\",\"Venezuela\",\"Vietnam\",\"West Bank and Gaza Strip\",\"Western Sahara\",\"Yemen\",\"Yugoslavia\",\"Zaire\",\"Zimbabwe\"],\"name\":\"\",\"type\":\"choropleth\",\"z\":[36,3,215,50,1,41,2,4,8,12,76,1,9,2,1,38,22,24,1,2,2,67,6,3,1,4,116,5,523,1,2,4,4,6,3,4,6,11,23,79,29,1,2,13,1,1,126,39,156,8,35,48,2,4,27,12,6,1,237,4,16,35,7,78,37,3,6,40,2,5,30,15,4,2,91,10,1,1,7,3,2,3,1,1,6,11,1,19,12,8,12,2,30,16,11,2,85,37,10,4,383,162,5,1,1,21,18,15,4,1,21,271,3,72,103,7,5,1,12,6,20,17,25,27,1,514,3,1,1,274,32,11,2,32,1,119,1,24,12,5,1]}],\"name\":\"1992\"},{\"data\":[{\"coloraxis\":\"coloraxis\",\"geo\":\"geo\",\"hovertemplate\":\"<b>%{hovertext}</b><br><br>year=1994<br>country=%{location}<br>attacks=%{z}<extra></extra>\",\"hovertext\":[\"Afghanistan\",\"Albania\",\"Algeria\",\"Angola\",\"Argentina\",\"Armenia\",\"Australia\",\"Austria\",\"Azerbaijan\",\"Bahrain\",\"Bangladesh\",\"Belarus\",\"Belgium\",\"Benin\",\"Bolivia\",\"Bosnia-Herzegovina\",\"Brazil\",\"Bulgaria\",\"Burundi\",\"Cambodia\",\"Cameroon\",\"Canada\",\"Central African Republic\",\"Chad\",\"Chile\",\"China\",\"Colombia\",\"Comoros\",\"Costa Rica\",\"Croatia\",\"Cuba\",\"Cyprus\",\"Czech Republic\",\"Djibouti\",\"Dominican Republic\",\"Ecuador\",\"Egypt\",\"El Salvador\",\"Estonia\",\"Ethiopia\",\"Finland\",\"France\",\"Gabon\",\"Gambia\",\"Georgia\",\"Germany\",\"Ghana\",\"Greece\",\"Guatemala\",\"Guinea\",\"Haiti\",\"Honduras\",\"Hong Kong\",\"Hungary\",\"India\",\"Indonesia\",\"Iran\",\"Iraq\",\"Ireland\",\"Israel\",\"Italy\",\"Ivory Coast\",\"Jamaica\",\"Japan\",\"Jordan\",\"Kazakhstan\",\"Kenya\",\"Kuwait\",\"Laos\",\"Latvia\",\"Lebanon\",\"Lesotho\",\"Liberia\",\"Luxembourg\",\"Macedonia\",\"Mali\",\"Mexico\",\"Moldova\",\"Morocco\",\"Mozambique\",\"Myanmar\",\"Namibia\",\"Nepal\",\"Netherlands\",\"New Zealand\",\"Nicaragua\",\"Niger\",\"Nigeria\",\"North Korea\",\"Norway\",\"Pakistan\",\"Panama\",\"Papua New Guinea\",\"Paraguay\",\"Peru\",\"Philippines\",\"Poland\",\"Portugal\",\"Republic of the Congo\",\"Russia\",\"Rwanda\",\"Saudi Arabia\",\"Senegal\",\"Sierra Leone\",\"Singapore\",\"Slovak Republic\",\"Slovenia\",\"Somalia\",\"South Africa\",\"South Korea\",\"Spain\",\"Sri Lanka\",\"Sudan\",\"Suriname\",\"Sweden\",\"Taiwan\",\"Tajikistan\",\"Tanzania\",\"Thailand\",\"Togo\",\"Trinidad and Tobago\",\"Tunisia\",\"Turkey\",\"Uganda\",\"Ukraine\",\"United Kingdom\",\"United States\",\"Uruguay\",\"Venezuela\",\"Vietnam\",\"Wallis and Futuna\",\"West Bank and Gaza Strip\",\"Yemen\",\"Yugoslavia\",\"Zaire\",\"Zimbabwe\"],\"locationmode\":\"country names\",\"locations\":[\"Afghanistan\",\"Albania\",\"Algeria\",\"Angola\",\"Argentina\",\"Armenia\",\"Australia\",\"Austria\",\"Azerbaijan\",\"Bahrain\",\"Bangladesh\",\"Belarus\",\"Belgium\",\"Benin\",\"Bolivia\",\"Bosnia-Herzegovina\",\"Brazil\",\"Bulgaria\",\"Burundi\",\"Cambodia\",\"Cameroon\",\"Canada\",\"Central African Republic\",\"Chad\",\"Chile\",\"China\",\"Colombia\",\"Comoros\",\"Costa Rica\",\"Croatia\",\"Cuba\",\"Cyprus\",\"Czech Republic\",\"Djibouti\",\"Dominican Republic\",\"Ecuador\",\"Egypt\",\"El Salvador\",\"Estonia\",\"Ethiopia\",\"Finland\",\"France\",\"Gabon\",\"Gambia\",\"Georgia\",\"Germany\",\"Ghana\",\"Greece\",\"Guatemala\",\"Guinea\",\"Haiti\",\"Honduras\",\"Hong Kong\",\"Hungary\",\"India\",\"Indonesia\",\"Iran\",\"Iraq\",\"Ireland\",\"Israel\",\"Italy\",\"Ivory Coast\",\"Jamaica\",\"Japan\",\"Jordan\",\"Kazakhstan\",\"Kenya\",\"Kuwait\",\"Laos\",\"Latvia\",\"Lebanon\",\"Lesotho\",\"Liberia\",\"Luxembourg\",\"Macedonia\",\"Mali\",\"Mexico\",\"Moldova\",\"Morocco\",\"Mozambique\",\"Myanmar\",\"Namibia\",\"Nepal\",\"Netherlands\",\"New Zealand\",\"Nicaragua\",\"Niger\",\"Nigeria\",\"North Korea\",\"Norway\",\"Pakistan\",\"Panama\",\"Papua New Guinea\",\"Paraguay\",\"Peru\",\"Philippines\",\"Poland\",\"Portugal\",\"Republic of the Congo\",\"Russia\",\"Rwanda\",\"Saudi Arabia\",\"Senegal\",\"Sierra Leone\",\"Singapore\",\"Slovak Republic\",\"Slovenia\",\"Somalia\",\"South Africa\",\"South Korea\",\"Spain\",\"Sri Lanka\",\"Sudan\",\"Suriname\",\"Sweden\",\"Taiwan\",\"Tajikistan\",\"Tanzania\",\"Thailand\",\"Togo\",\"Trinidad and Tobago\",\"Tunisia\",\"Turkey\",\"Uganda\",\"Ukraine\",\"United Kingdom\",\"United States\",\"Uruguay\",\"Venezuela\",\"Vietnam\",\"Wallis and Futuna\",\"West Bank and Gaza Strip\",\"Yemen\",\"Yugoslavia\",\"Zaire\",\"Zimbabwe\"],\"name\":\"\",\"type\":\"choropleth\",\"z\":[9,2,227,9,14,4,9,5,11,1,68,1,5,3,8,9,19,2,16,39,6,4,1,1,15,13,201,1,1,4,9,6,1,2,7,6,143,21,6,4,1,97,1,1,18,79,4,42,84,2,27,6,4,2,107,5,43,18,10,55,18,2,2,9,6,1,5,2,1,2,67,3,3,3,1,13,42,1,2,3,8,1,3,3,1,19,8,8,1,2,154,3,3,2,91,72,4,1,8,47,33,2,2,22,1,1,1,57,174,2,55,35,5,1,1,5,31,1,24,13,1,1,300,13,10,256,55,4,12,1,1,165,19,1,6,1]}],\"name\":\"1994\"},{\"data\":[{\"coloraxis\":\"coloraxis\",\"geo\":\"geo\",\"hovertemplate\":\"<b>%{hovertext}</b><br><br>year=1995<br>country=%{location}<br>attacks=%{z}<extra></extra>\",\"hovertext\":[\"Afghanistan\",\"Algeria\",\"Angola\",\"Argentina\",\"Armenia\",\"Australia\",\"Austria\",\"Azerbaijan\",\"Bahrain\",\"Bangladesh\",\"Belgium\",\"Benin\",\"Bolivia\",\"Bosnia-Herzegovina\",\"Botswana\",\"Brazil\",\"Bulgaria\",\"Burundi\",\"Cambodia\",\"Cameroon\",\"Canada\",\"Chad\",\"Chile\",\"China\",\"Colombia\",\"Croatia\",\"Cyprus\",\"Czech Republic\",\"Denmark\",\"Djibouti\",\"Ecuador\",\"Egypt\",\"El Salvador\",\"Eritrea\",\"Estonia\",\"Ethiopia\",\"Finland\",\"France\",\"French Polynesia\",\"Gambia\",\"Georgia\",\"Germany\",\"Ghana\",\"Greece\",\"Guatemala\",\"Haiti\",\"Honduras\",\"Hong Kong\",\"India\",\"Indonesia\",\"Iran\",\"Iraq\",\"Ireland\",\"Israel\",\"Italy\",\"Ivory Coast\",\"Jamaica\",\"Japan\",\"Jordan\",\"Kenya\",\"Latvia\",\"Lebanon\",\"Libya\",\"Lithuania\",\"Macau\",\"Macedonia\",\"Madagascar\",\"Mali\",\"Malta\",\"Mexico\",\"Morocco\",\"Mozambique\",\"Myanmar\",\"Netherlands\",\"Nicaragua\",\"Niger\",\"Nigeria\",\"Pakistan\",\"Panama\",\"Papua New Guinea\",\"Paraguay\",\"Peru\",\"Philippines\",\"Poland\",\"Portugal\",\"Romania\",\"Russia\",\"Rwanda\",\"Saudi Arabia\",\"Senegal\",\"Sierra Leone\",\"Slovak Republic\",\"Somalia\",\"South Africa\",\"South Korea\",\"Spain\",\"Sri Lanka\",\"St. Kitts and Nevis\",\"Sudan\",\"Swaziland\",\"Sweden\",\"Switzerland\",\"Taiwan\",\"Tajikistan\",\"Tanzania\",\"Thailand\",\"Togo\",\"Trinidad and Tobago\",\"Tunisia\",\"Turkey\",\"Uganda\",\"Ukraine\",\"United Arab Emirates\",\"United Kingdom\",\"United States\",\"Uruguay\",\"Uzbekistan\",\"Venezuela\",\"Vietnam\",\"West Bank and Gaza Strip\",\"Yemen\",\"Yugoslavia\",\"Zaire\",\"Zambia\",\"Zimbabwe\"],\"locationmode\":\"country names\",\"locations\":[\"Afghanistan\",\"Algeria\",\"Angola\",\"Argentina\",\"Armenia\",\"Australia\",\"Austria\",\"Azerbaijan\",\"Bahrain\",\"Bangladesh\",\"Belgium\",\"Benin\",\"Bolivia\",\"Bosnia-Herzegovina\",\"Botswana\",\"Brazil\",\"Bulgaria\",\"Burundi\",\"Cambodia\",\"Cameroon\",\"Canada\",\"Chad\",\"Chile\",\"China\",\"Colombia\",\"Croatia\",\"Cyprus\",\"Czech Republic\",\"Denmark\",\"Djibouti\",\"Ecuador\",\"Egypt\",\"El Salvador\",\"Eritrea\",\"Estonia\",\"Ethiopia\",\"Finland\",\"France\",\"French Polynesia\",\"Gambia\",\"Georgia\",\"Germany\",\"Ghana\",\"Greece\",\"Guatemala\",\"Haiti\",\"Honduras\",\"Hong Kong\",\"India\",\"Indonesia\",\"Iran\",\"Iraq\",\"Ireland\",\"Israel\",\"Italy\",\"Ivory Coast\",\"Jamaica\",\"Japan\",\"Jordan\",\"Kenya\",\"Latvia\",\"Lebanon\",\"Libya\",\"Lithuania\",\"Macau\",\"Macedonia\",\"Madagascar\",\"Mali\",\"Malta\",\"Mexico\",\"Morocco\",\"Mozambique\",\"Myanmar\",\"Netherlands\",\"Nicaragua\",\"Niger\",\"Nigeria\",\"Pakistan\",\"Panama\",\"Papua New Guinea\",\"Paraguay\",\"Peru\",\"Philippines\",\"Poland\",\"Portugal\",\"Romania\",\"Russia\",\"Rwanda\",\"Saudi Arabia\",\"Senegal\",\"Sierra Leone\",\"Slovak Republic\",\"Somalia\",\"South Africa\",\"South Korea\",\"Spain\",\"Sri Lanka\",\"St. Kitts and Nevis\",\"Sudan\",\"Swaziland\",\"Sweden\",\"Switzerland\",\"Taiwan\",\"Tajikistan\",\"Tanzania\",\"Thailand\",\"Togo\",\"Trinidad and Tobago\",\"Tunisia\",\"Turkey\",\"Uganda\",\"Ukraine\",\"United Arab Emirates\",\"United Kingdom\",\"United States\",\"Uruguay\",\"Uzbekistan\",\"Venezuela\",\"Vietnam\",\"West Bank and Gaza Strip\",\"Yemen\",\"Yugoslavia\",\"Zaire\",\"Zambia\",\"Zimbabwe\"],\"name\":\"\",\"type\":\"choropleth\",\"z\":[6,185,10,16,1,5,12,2,8,74,1,1,2,6,1,23,2,83,56,2,5,3,17,8,123,1,3,3,6,2,6,102,9,2,2,5,1,71,3,1,17,147,1,8,82,34,12,1,179,24,8,17,3,13,1,7,1,20,3,4,1,38,1,2,1,1,3,1,2,29,1,3,12,7,18,2,1,666,6,10,12,44,63,4,3,1,37,17,3,8,14,3,13,32,4,44,126,2,4,1,1,5,4,34,1,12,1,4,1,133,7,2,2,22,60,1,1,11,1,67,8,3,6,1,2]}],\"name\":\"1995\"},{\"data\":[{\"coloraxis\":\"coloraxis\",\"geo\":\"geo\",\"hovertemplate\":\"<b>%{hovertext}</b><br><br>year=1996<br>country=%{location}<br>attacks=%{z}<extra></extra>\",\"hovertext\":[\"Afghanistan\",\"Albania\",\"Algeria\",\"Angola\",\"Argentina\",\"Armenia\",\"Australia\",\"Austria\",\"Azerbaijan\",\"Bahrain\",\"Bangladesh\",\"Benin\",\"Bolivia\",\"Bosnia-Herzegovina\",\"Brazil\",\"Bulgaria\",\"Burundi\",\"Cambodia\",\"Canada\",\"Central African Republic\",\"Chad\",\"Chile\",\"China\",\"Colombia\",\"Costa Rica\",\"Croatia\",\"Cuba\",\"Cyprus\",\"Czech Republic\",\"Dominican Republic\",\"Ecuador\",\"Egypt\",\"El Salvador\",\"Eritrea\",\"Estonia\",\"Ethiopia\",\"France\",\"French Guiana\",\"Gabon\",\"Georgia\",\"Germany\",\"Ghana\",\"Greece\",\"Guatemala\",\"Guinea\",\"Haiti\",\"Honduras\",\"Hong Kong\",\"Hungary\",\"India\",\"Indonesia\",\"Iran\",\"Iraq\",\"Ireland\",\"Israel\",\"Italy\",\"Ivory Coast\",\"Jamaica\",\"Japan\",\"Jordan\",\"Kenya\",\"Kyrgyzstan\",\"Laos\",\"Lebanon\",\"Liberia\",\"Libya\",\"Lithuania\",\"Macau\",\"Madagascar\",\"Mauritania\",\"Mexico\",\"Moldova\",\"Morocco\",\"Myanmar\",\"Nepal\",\"Netherlands\",\"New Zealand\",\"Nicaragua\",\"Niger\",\"Nigeria\",\"Norway\",\"Pakistan\",\"Panama\",\"Papua New Guinea\",\"Peru\",\"Philippines\",\"Poland\",\"Qatar\",\"Republic of the Congo\",\"Russia\",\"Rwanda\",\"Saudi Arabia\",\"Sierra Leone\",\"Slovak Republic\",\"Slovenia\",\"Somalia\",\"South Africa\",\"South Korea\",\"Spain\",\"Sri Lanka\",\"Sudan\",\"Sweden\",\"Switzerland\",\"Syria\",\"Taiwan\",\"Tajikistan\",\"Thailand\",\"Togo\",\"Trinidad and Tobago\",\"Turkey\",\"Uganda\",\"Ukraine\",\"United Kingdom\",\"United States\",\"Uruguay\",\"Vanuatu\",\"Venezuela\",\"Vietnam\",\"West Bank and Gaza Strip\",\"Yemen\",\"Yugoslavia\",\"Zaire\",\"Zambia\"],\"locationmode\":\"country names\",\"locations\":[\"Afghanistan\",\"Albania\",\"Algeria\",\"Angola\",\"Argentina\",\"Armenia\",\"Australia\",\"Austria\",\"Azerbaijan\",\"Bahrain\",\"Bangladesh\",\"Benin\",\"Bolivia\",\"Bosnia-Herzegovina\",\"Brazil\",\"Bulgaria\",\"Burundi\",\"Cambodia\",\"Canada\",\"Central African Republic\",\"Chad\",\"Chile\",\"China\",\"Colombia\",\"Costa Rica\",\"Croatia\",\"Cuba\",\"Cyprus\",\"Czech Republic\",\"Dominican Republic\",\"Ecuador\",\"Egypt\",\"El Salvador\",\"Eritrea\",\"Estonia\",\"Ethiopia\",\"France\",\"French Guiana\",\"Gabon\",\"Georgia\",\"Germany\",\"Ghana\",\"Greece\",\"Guatemala\",\"Guinea\",\"Haiti\",\"Honduras\",\"Hong Kong\",\"Hungary\",\"India\",\"Indonesia\",\"Iran\",\"Iraq\",\"Ireland\",\"Israel\",\"Italy\",\"Ivory Coast\",\"Jamaica\",\"Japan\",\"Jordan\",\"Kenya\",\"Kyrgyzstan\",\"Laos\",\"Lebanon\",\"Liberia\",\"Libya\",\"Lithuania\",\"Macau\",\"Madagascar\",\"Mauritania\",\"Mexico\",\"Moldova\",\"Morocco\",\"Myanmar\",\"Nepal\",\"Netherlands\",\"New Zealand\",\"Nicaragua\",\"Niger\",\"Nigeria\",\"Norway\",\"Pakistan\",\"Panama\",\"Papua New Guinea\",\"Peru\",\"Philippines\",\"Poland\",\"Qatar\",\"Republic of the Congo\",\"Russia\",\"Rwanda\",\"Saudi Arabia\",\"Sierra Leone\",\"Slovak Republic\",\"Slovenia\",\"Somalia\",\"South Africa\",\"South Korea\",\"Spain\",\"Sri Lanka\",\"Sudan\",\"Sweden\",\"Switzerland\",\"Syria\",\"Taiwan\",\"Tajikistan\",\"Thailand\",\"Togo\",\"Trinidad and Tobago\",\"Turkey\",\"Uganda\",\"Ukraine\",\"United Kingdom\",\"United States\",\"Uruguay\",\"Vanuatu\",\"Venezuela\",\"Vietnam\",\"West Bank and Gaza Strip\",\"Yemen\",\"Yugoslavia\",\"Zaire\",\"Zambia\"],\"name\":\"\",\"type\":\"choropleth\",\"z\":[4,6,129,4,19,1,5,4,2,16,161,2,1,33,18,12,35,33,1,1,1,8,62,409,1,3,1,10,3,3,5,51,7,1,1,7,270,2,1,3,52,2,20,26,1,27,19,3,13,213,65,3,12,1,19,8,2,1,8,2,3,5,1,39,1,4,3,10,2,1,75,2,2,13,5,6,2,26,1,11,1,180,2,10,42,61,6,1,1,66,15,1,5,5,3,16,47,1,63,176,10,1,4,2,5,22,19,1,3,54,29,3,36,35,1,2,12,1,30,8,16,13,4]}],\"name\":\"1996\"},{\"data\":[{\"coloraxis\":\"coloraxis\",\"geo\":\"geo\",\"hovertemplate\":\"<b>%{hovertext}</b><br><br>year=1997<br>country=%{location}<br>attacks=%{z}<extra></extra>\",\"hovertext\":[\"Afghanistan\",\"Albania\",\"Algeria\",\"Angola\",\"Argentina\",\"Australia\",\"Austria\",\"Azerbaijan\",\"Bahamas\",\"Bahrain\",\"Bangladesh\",\"Belarus\",\"Belgium\",\"Bolivia\",\"Bosnia-Herzegovina\",\"Brazil\",\"Bulgaria\",\"Burundi\",\"Cambodia\",\"Canada\",\"Chad\",\"Chile\",\"China\",\"Colombia\",\"Comoros\",\"Costa Rica\",\"Croatia\",\"Cuba\",\"Czech Republic\",\"Democratic Republic of the Congo\",\"Djibouti\",\"Dominica\",\"Dominican Republic\",\"Ecuador\",\"Egypt\",\"El Salvador\",\"Ethiopia\",\"France\",\"French Guiana\",\"Gabon\",\"Georgia\",\"Germany\",\"Ghana\",\"Greece\",\"Guatemala\",\"Guyana\",\"Haiti\",\"Honduras\",\"Hungary\",\"India\",\"Indonesia\",\"Iraq\",\"Ireland\",\"Israel\",\"Italy\",\"Ivory Coast\",\"Jamaica\",\"Japan\",\"Jordan\",\"Kazakhstan\",\"Kenya\",\"Kuwait\",\"Latvia\",\"Lebanon\",\"Lithuania\",\"Macau\",\"Macedonia\",\"Madagascar\",\"Mali\",\"Malta\",\"Mexico\",\"Moldova\",\"Myanmar\",\"Nepal\",\"Netherlands\",\"New Zealand\",\"Nicaragua\",\"Niger\",\"Nigeria\",\"Pakistan\",\"Panama\",\"Papua New Guinea\",\"Paraguay\",\"Peru\",\"Philippines\",\"Poland\",\"Republic of the Congo\",\"Russia\",\"Rwanda\",\"Senegal\",\"Sierra Leone\",\"Slovak Republic\",\"Slovenia\",\"Somalia\",\"South Africa\",\"Spain\",\"Sri Lanka\",\"Sudan\",\"Suriname\",\"Swaziland\",\"Sweden\",\"Switzerland\",\"Syria\",\"Taiwan\",\"Tajikistan\",\"Tanzania\",\"Thailand\",\"Turkey\",\"Uganda\",\"Ukraine\",\"United Kingdom\",\"United States\",\"Uruguay\",\"Venezuela\",\"Vietnam\",\"West Bank and Gaza Strip\",\"Yemen\",\"Yugoslavia\",\"Zaire\"],\"locationmode\":\"country names\",\"locations\":[\"Afghanistan\",\"Albania\",\"Algeria\",\"Angola\",\"Argentina\",\"Australia\",\"Austria\",\"Azerbaijan\",\"Bahamas\",\"Bahrain\",\"Bangladesh\",\"Belarus\",\"Belgium\",\"Bolivia\",\"Bosnia-Herzegovina\",\"Brazil\",\"Bulgaria\",\"Burundi\",\"Cambodia\",\"Canada\",\"Chad\",\"Chile\",\"China\",\"Colombia\",\"Comoros\",\"Costa Rica\",\"Croatia\",\"Cuba\",\"Czech Republic\",\"Democratic Republic of the Congo\",\"Djibouti\",\"Dominica\",\"Dominican Republic\",\"Ecuador\",\"Egypt\",\"El Salvador\",\"Ethiopia\",\"France\",\"French Guiana\",\"Gabon\",\"Georgia\",\"Germany\",\"Ghana\",\"Greece\",\"Guatemala\",\"Guyana\",\"Haiti\",\"Honduras\",\"Hungary\",\"India\",\"Indonesia\",\"Iraq\",\"Ireland\",\"Israel\",\"Italy\",\"Ivory Coast\",\"Jamaica\",\"Japan\",\"Jordan\",\"Kazakhstan\",\"Kenya\",\"Kuwait\",\"Latvia\",\"Lebanon\",\"Lithuania\",\"Macau\",\"Macedonia\",\"Madagascar\",\"Mali\",\"Malta\",\"Mexico\",\"Moldova\",\"Myanmar\",\"Nepal\",\"Netherlands\",\"New Zealand\",\"Nicaragua\",\"Niger\",\"Nigeria\",\"Pakistan\",\"Panama\",\"Papua New Guinea\",\"Paraguay\",\"Peru\",\"Philippines\",\"Poland\",\"Republic of the Congo\",\"Russia\",\"Rwanda\",\"Senegal\",\"Sierra Leone\",\"Slovak Republic\",\"Slovenia\",\"Somalia\",\"South Africa\",\"Spain\",\"Sri Lanka\",\"Sudan\",\"Suriname\",\"Swaziland\",\"Sweden\",\"Switzerland\",\"Syria\",\"Taiwan\",\"Tajikistan\",\"Tanzania\",\"Thailand\",\"Turkey\",\"Uganda\",\"Ukraine\",\"United Kingdom\",\"United States\",\"Uruguay\",\"Venezuela\",\"Vietnam\",\"West Bank and Gaza Strip\",\"Yemen\",\"Yugoslavia\",\"Zaire\"],\"name\":\"\",\"type\":\"choropleth\",\"z\":[1,41,344,7,11,4,1,1,2,11,17,2,2,4,42,39,3,79,18,2,1,6,18,598,3,1,8,14,4,1,1,1,12,4,22,2,6,130,2,1,6,12,1,21,26,1,16,22,17,193,27,21,4,13,8,1,8,5,3,2,17,2,2,46,1,16,2,1,3,1,95,1,35,9,1,1,7,3,20,206,6,2,6,58,57,3,2,77,33,26,3,4,1,19,17,86,64,3,2,1,4,1,1,1,40,1,20,44,24,2,78,40,2,41,2,22,19,38,5]}],\"name\":\"1997\"},{\"data\":[{\"coloraxis\":\"coloraxis\",\"geo\":\"geo\",\"hovertemplate\":\"<b>%{hovertext}</b><br><br>year=1998<br>country=%{location}<br>attacks=%{z}<extra></extra>\",\"hovertext\":[\"Afghanistan\",\"Albania\",\"Algeria\",\"Angola\",\"Armenia\",\"Australia\",\"Austria\",\"Bangladesh\",\"Belgium\",\"Bosnia-Herzegovina\",\"Brazil\",\"Bulgaria\",\"Burundi\",\"Cambodia\",\"Cameroon\",\"Canada\",\"Chad\",\"Chile\",\"China\",\"Colombia\",\"Cyprus\",\"Democratic Republic of the Congo\",\"Ecuador\",\"Egypt\",\"France\",\"Georgia\",\"Germany\",\"Greece\",\"Guyana\",\"Haiti\",\"Hungary\",\"India\",\"Indonesia\",\"Iran\",\"Iraq\",\"Ireland\",\"Israel\",\"Italy\",\"Japan\",\"Jordan\",\"Kenya\",\"Latvia\",\"Lebanon\",\"Macau\",\"Macedonia\",\"Mexico\",\"Nigeria\",\"Pakistan\",\"Peru\",\"Philippines\",\"Poland\",\"Russia\",\"Rwanda\",\"Senegal\",\"Sierra Leone\",\"Slovak Republic\",\"Somalia\",\"South Africa\",\"Spain\",\"Sri Lanka\",\"Swaziland\",\"Switzerland\",\"Syria\",\"Tajikistan\",\"Tanzania\",\"Thailand\",\"Turkey\",\"Uganda\",\"United Kingdom\",\"United States\",\"Venezuela\",\"West Bank and Gaza Strip\",\"Yemen\",\"Yugoslavia\"],\"locationmode\":\"country names\",\"locations\":[\"Afghanistan\",\"Albania\",\"Algeria\",\"Angola\",\"Armenia\",\"Australia\",\"Austria\",\"Bangladesh\",\"Belgium\",\"Bosnia-Herzegovina\",\"Brazil\",\"Bulgaria\",\"Burundi\",\"Cambodia\",\"Cameroon\",\"Canada\",\"Chad\",\"Chile\",\"China\",\"Colombia\",\"Cyprus\",\"Democratic Republic of the Congo\",\"Ecuador\",\"Egypt\",\"France\",\"Georgia\",\"Germany\",\"Greece\",\"Guyana\",\"Haiti\",\"Hungary\",\"India\",\"Indonesia\",\"Iran\",\"Iraq\",\"Ireland\",\"Israel\",\"Italy\",\"Japan\",\"Jordan\",\"Kenya\",\"Latvia\",\"Lebanon\",\"Macau\",\"Macedonia\",\"Mexico\",\"Nigeria\",\"Pakistan\",\"Peru\",\"Philippines\",\"Poland\",\"Russia\",\"Rwanda\",\"Senegal\",\"Sierra Leone\",\"Slovak Republic\",\"Somalia\",\"South Africa\",\"Spain\",\"Sri Lanka\",\"Swaziland\",\"Switzerland\",\"Syria\",\"Tajikistan\",\"Tanzania\",\"Thailand\",\"Turkey\",\"Uganda\",\"United Kingdom\",\"United States\",\"Venezuela\",\"West Bank and Gaza Strip\",\"Yemen\",\"Yugoslavia\"],\"name\":\"\",\"type\":\"choropleth\",\"z\":[1,7,151,20,2,6,1,2,3,9,2,2,13,7,1,4,1,1,2,94,1,4,3,3,12,12,6,28,2,1,2,61,3,5,7,3,14,6,1,1,2,4,23,6,5,2,2,37,5,18,2,26,9,1,7,2,1,6,17,35,1,1,1,11,1,4,23,18,63,31,1,12,7,46]}],\"name\":\"1998\"},{\"data\":[{\"coloraxis\":\"coloraxis\",\"geo\":\"geo\",\"hovertemplate\":\"<b>%{hovertext}</b><br><br>year=1999<br>country=%{location}<br>attacks=%{z}<extra></extra>\",\"hovertext\":[\"Afghanistan\",\"Albania\",\"Algeria\",\"Angola\",\"Argentina\",\"Armenia\",\"Bangladesh\",\"Belarus\",\"Belgium\",\"Bosnia-Herzegovina\",\"Brazil\",\"Bulgaria\",\"Burundi\",\"Cambodia\",\"Canada\",\"Chad\",\"Chile\",\"China\",\"Colombia\",\"Cyprus\",\"Democratic Republic of the Congo\",\"Denmark\",\"Ecuador\",\"Egypt\",\"Estonia\",\"Ethiopia\",\"Fiji\",\"France\",\"Georgia\",\"Germany\",\"Greece\",\"Guatemala\",\"Haiti\",\"India\",\"Indonesia\",\"Iran\",\"Iraq\",\"Ireland\",\"Israel\",\"Italy\",\"Japan\",\"Jordan\",\"Kosovo\",\"Kyrgyzstan\",\"Latvia\",\"Lebanon\",\"Liberia\",\"Macedonia\",\"Mexico\",\"Mozambique\",\"Myanmar\",\"Namibia\",\"Nepal\",\"Netherlands\",\"Nicaragua\",\"Niger\",\"Nigeria\",\"Pakistan\",\"Panama\",\"Paraguay\",\"Peru\",\"Philippines\",\"Republic of the Congo\",\"Russia\",\"Senegal\",\"Sierra Leone\",\"Slovak Republic\",\"Solomon Islands\",\"Somalia\",\"South Africa\",\"Spain\",\"Sri Lanka\",\"Sudan\",\"Swaziland\",\"Sweden\",\"Switzerland\",\"Tajikistan\",\"Thailand\",\"Turkey\",\"Uganda\",\"Ukraine\",\"United Kingdom\",\"United States\",\"Uzbekistan\",\"Venezuela\",\"West Bank and Gaza Strip\",\"Yemen\",\"Yugoslavia\",\"Zambia\"],\"locationmode\":\"country names\",\"locations\":[\"Afghanistan\",\"Albania\",\"Algeria\",\"Angola\",\"Argentina\",\"Armenia\",\"Bangladesh\",\"Belarus\",\"Belgium\",\"Bosnia-Herzegovina\",\"Brazil\",\"Bulgaria\",\"Burundi\",\"Cambodia\",\"Canada\",\"Chad\",\"Chile\",\"China\",\"Colombia\",\"Cyprus\",\"Democratic Republic of the Congo\",\"Denmark\",\"Ecuador\",\"Egypt\",\"Estonia\",\"Ethiopia\",\"Fiji\",\"France\",\"Georgia\",\"Germany\",\"Greece\",\"Guatemala\",\"Haiti\",\"India\",\"Indonesia\",\"Iran\",\"Iraq\",\"Ireland\",\"Israel\",\"Italy\",\"Japan\",\"Jordan\",\"Kosovo\",\"Kyrgyzstan\",\"Latvia\",\"Lebanon\",\"Liberia\",\"Macedonia\",\"Mexico\",\"Mozambique\",\"Myanmar\",\"Namibia\",\"Nepal\",\"Netherlands\",\"Nicaragua\",\"Niger\",\"Nigeria\",\"Pakistan\",\"Panama\",\"Paraguay\",\"Peru\",\"Philippines\",\"Republic of the Congo\",\"Russia\",\"Senegal\",\"Sierra Leone\",\"Slovak Republic\",\"Solomon Islands\",\"Somalia\",\"South Africa\",\"Spain\",\"Sri Lanka\",\"Sudan\",\"Swaziland\",\"Sweden\",\"Switzerland\",\"Tajikistan\",\"Thailand\",\"Turkey\",\"Uganda\",\"Ukraine\",\"United Kingdom\",\"United States\",\"Uzbekistan\",\"Venezuela\",\"West Bank and Gaza Strip\",\"Yemen\",\"Yugoslavia\",\"Zambia\"],\"name\":\"\",\"type\":\"choropleth\",\"z\":[9,3,106,34,1,2,11,1,2,5,1,1,13,8,2,1,3,2,116,1,3,1,2,1,1,2,3,46,7,13,35,1,5,112,60,8,12,3,8,7,2,2,39,3,1,42,2,3,1,1,4,1,8,1,1,2,18,39,1,1,5,31,3,54,1,9,1,1,4,17,47,46,5,1,2,2,4,4,109,19,6,76,53,8,5,11,17,23,7]}],\"name\":\"1999\"},{\"data\":[{\"coloraxis\":\"coloraxis\",\"geo\":\"geo\",\"hovertemplate\":\"<b>%{hovertext}</b><br><br>year=2000<br>country=%{location}<br>attacks=%{z}<extra></extra>\",\"hovertext\":[\"Afghanistan\",\"Albania\",\"Algeria\",\"Angola\",\"Armenia\",\"Australia\",\"Azerbaijan\",\"Bangladesh\",\"Belize\",\"Bosnia-Herzegovina\",\"Brazil\",\"Bulgaria\",\"Burundi\",\"Cambodia\",\"Canada\",\"Central African Republic\",\"Chile\",\"China\",\"Colombia\",\"Croatia\",\"Cyprus\",\"Democratic Republic of the Congo\",\"East Timor\",\"Ecuador\",\"Ethiopia\",\"Fiji\",\"France\",\"Gambia\",\"Georgia\",\"Germany\",\"Greece\",\"Guatemala\",\"Guinea\",\"Haiti\",\"Hong Kong\",\"India\",\"Indonesia\",\"Iran\",\"Iraq\",\"Israel\",\"Italy\",\"Ivory Coast\",\"Japan\",\"Jordan\",\"Kazakhstan\",\"Kenya\",\"Kosovo\",\"Kyrgyzstan\",\"Laos\",\"Latvia\",\"Lebanon\",\"Liberia\",\"Macedonia\",\"Malaysia\",\"Mexico\",\"Moldova\",\"Mozambique\",\"Namibia\",\"Nepal\",\"Netherlands\",\"Nicaragua\",\"Nigeria\",\"Pakistan\",\"Panama\",\"Paraguay\",\"Peru\",\"Philippines\",\"Qatar\",\"Russia\",\"Rwanda\",\"Saudi Arabia\",\"Senegal\",\"Sierra Leone\",\"Slovak Republic\",\"Slovenia\",\"Solomon Islands\",\"Somalia\",\"South Africa\",\"Spain\",\"Sri Lanka\",\"St. Lucia\",\"Sudan\",\"Sweden\",\"Switzerland\",\"Tajikistan\",\"Tanzania\",\"Thailand\",\"Tunisia\",\"Turkey\",\"Uganda\",\"Ukraine\",\"United Kingdom\",\"United States\",\"West Bank and Gaza Strip\",\"Yemen\",\"Yugoslavia\",\"Zambia\",\"Zimbabwe\"],\"locationmode\":\"country names\",\"locations\":[\"Afghanistan\",\"Albania\",\"Algeria\",\"Angola\",\"Armenia\",\"Australia\",\"Azerbaijan\",\"Bangladesh\",\"Belize\",\"Bosnia-Herzegovina\",\"Brazil\",\"Bulgaria\",\"Burundi\",\"Cambodia\",\"Canada\",\"Central African Republic\",\"Chile\",\"China\",\"Colombia\",\"Croatia\",\"Cyprus\",\"Democratic Republic of the Congo\",\"East Timor\",\"Ecuador\",\"Ethiopia\",\"Fiji\",\"France\",\"Gambia\",\"Georgia\",\"Germany\",\"Greece\",\"Guatemala\",\"Guinea\",\"Haiti\",\"Hong Kong\",\"India\",\"Indonesia\",\"Iran\",\"Iraq\",\"Israel\",\"Italy\",\"Ivory Coast\",\"Japan\",\"Jordan\",\"Kazakhstan\",\"Kenya\",\"Kosovo\",\"Kyrgyzstan\",\"Laos\",\"Latvia\",\"Lebanon\",\"Liberia\",\"Macedonia\",\"Malaysia\",\"Mexico\",\"Moldova\",\"Mozambique\",\"Namibia\",\"Nepal\",\"Netherlands\",\"Nicaragua\",\"Nigeria\",\"Pakistan\",\"Panama\",\"Paraguay\",\"Peru\",\"Philippines\",\"Qatar\",\"Russia\",\"Rwanda\",\"Saudi Arabia\",\"Senegal\",\"Sierra Leone\",\"Slovak Republic\",\"Slovenia\",\"Solomon Islands\",\"Somalia\",\"South Africa\",\"Spain\",\"Sri Lanka\",\"St. Lucia\",\"Sudan\",\"Sweden\",\"Switzerland\",\"Tajikistan\",\"Tanzania\",\"Thailand\",\"Tunisia\",\"Turkey\",\"Uganda\",\"Ukraine\",\"United Kingdom\",\"United States\",\"West Bank and Gaza Strip\",\"Yemen\",\"Yugoslavia\",\"Zambia\",\"Zimbabwe\"],\"name\":\"\",\"type\":\"choropleth\",\"z\":[14,2,138,22,2,1,1,23,1,6,2,2,17,4,5,1,2,4,137,2,2,3,4,4,1,4,28,1,7,8,28,1,12,9,2,180,101,15,10,15,8,2,13,2,1,4,60,4,8,3,12,1,3,3,4,1,3,21,23,1,1,6,49,1,2,3,132,1,138,1,5,4,24,1,1,1,9,21,112,68,1,7,1,4,6,2,4,1,35,20,1,61,32,28,10,14,8,1]}],\"name\":\"2000\"},{\"data\":[{\"coloraxis\":\"coloraxis\",\"geo\":\"geo\",\"hovertemplate\":\"<b>%{hovertext}</b><br><br>year=2001<br>country=%{location}<br>attacks=%{z}<extra></extra>\",\"hovertext\":[\"Afghanistan\",\"Albania\",\"Algeria\",\"Angola\",\"Argentina\",\"Armenia\",\"Australia\",\"Azerbaijan\",\"Bangladesh\",\"Belarus\",\"Bosnia-Herzegovina\",\"Brazil\",\"Bulgaria\",\"Burundi\",\"Cambodia\",\"Central African Republic\",\"Chile\",\"China\",\"Colombia\",\"Costa Rica\",\"Croatia\",\"Cyprus\",\"Czech Republic\",\"Democratic Republic of the Congo\",\"Ecuador\",\"Estonia\",\"Fiji\",\"France\",\"Georgia\",\"Germany\",\"Greece\",\"Guatemala\",\"Guinea-Bissau\",\"Guyana\",\"Haiti\",\"Hong Kong\",\"Hungary\",\"India\",\"Indonesia\",\"Iran\",\"Iraq\",\"Ireland\",\"Israel\",\"Italy\",\"Ivory Coast\",\"Japan\",\"Jordan\",\"Kazakhstan\",\"Kenya\",\"Kosovo\",\"Kuwait\",\"Kyrgyzstan\",\"Laos\",\"Lebanon\",\"Liberia\",\"Macedonia\",\"Malaysia\",\"Mexico\",\"Montenegro\",\"Myanmar\",\"Namibia\",\"Nepal\",\"Netherlands\",\"New Zealand\",\"Nigeria\",\"Norway\",\"Pakistan\",\"Peru\",\"Philippines\",\"Poland\",\"Qatar\",\"Republic of the Congo\",\"Russia\",\"Rwanda\",\"Saudi Arabia\",\"Senegal\",\"Somalia\",\"South Korea\",\"Spain\",\"Sri Lanka\",\"Sudan\",\"Switzerland\",\"Taiwan\",\"Tajikistan\",\"Tanzania\",\"Thailand\",\"Tunisia\",\"Turkey\",\"Uganda\",\"United Kingdom\",\"United States\",\"Venezuela\",\"Vietnam\",\"West Bank and Gaza Strip\",\"Yemen\",\"Yugoslavia\",\"Zimbabwe\"],\"locationmode\":\"country names\",\"locations\":[\"Afghanistan\",\"Albania\",\"Algeria\",\"Angola\",\"Argentina\",\"Armenia\",\"Australia\",\"Azerbaijan\",\"Bangladesh\",\"Belarus\",\"Bosnia-Herzegovina\",\"Brazil\",\"Bulgaria\",\"Burundi\",\"Cambodia\",\"Central African Republic\",\"Chile\",\"China\",\"Colombia\",\"Costa Rica\",\"Croatia\",\"Cyprus\",\"Czech Republic\",\"Democratic Republic of the Congo\",\"Ecuador\",\"Estonia\",\"Fiji\",\"France\",\"Georgia\",\"Germany\",\"Greece\",\"Guatemala\",\"Guinea-Bissau\",\"Guyana\",\"Haiti\",\"Hong Kong\",\"Hungary\",\"India\",\"Indonesia\",\"Iran\",\"Iraq\",\"Ireland\",\"Israel\",\"Italy\",\"Ivory Coast\",\"Japan\",\"Jordan\",\"Kazakhstan\",\"Kenya\",\"Kosovo\",\"Kuwait\",\"Kyrgyzstan\",\"Laos\",\"Lebanon\",\"Liberia\",\"Macedonia\",\"Malaysia\",\"Mexico\",\"Montenegro\",\"Myanmar\",\"Namibia\",\"Nepal\",\"Netherlands\",\"New Zealand\",\"Nigeria\",\"Norway\",\"Pakistan\",\"Peru\",\"Philippines\",\"Poland\",\"Qatar\",\"Republic of the Congo\",\"Russia\",\"Rwanda\",\"Saudi Arabia\",\"Senegal\",\"Somalia\",\"South Korea\",\"Spain\",\"Sri Lanka\",\"Sudan\",\"Switzerland\",\"Taiwan\",\"Tajikistan\",\"Tanzania\",\"Thailand\",\"Tunisia\",\"Turkey\",\"Uganda\",\"United Kingdom\",\"United States\",\"Venezuela\",\"Vietnam\",\"West Bank and Gaza Strip\",\"Yemen\",\"Yugoslavia\",\"Zimbabwe\"],\"name\":\"\",\"type\":\"choropleth\",\"z\":[14,1,113,40,2,2,2,4,15,1,2,3,1,37,7,1,3,12,207,1,3,1,1,5,5,1,1,21,4,8,14,2,1,1,5,1,1,234,105,4,3,2,79,11,1,3,2,1,7,17,2,1,1,5,3,67,1,7,1,3,6,33,1,1,5,1,53,3,50,1,1,1,135,2,3,8,5,1,79,36,9,2,2,6,4,14,1,19,24,94,41,5,4,123,7,20,3]}],\"name\":\"2001\"},{\"data\":[{\"coloraxis\":\"coloraxis\",\"geo\":\"geo\",\"hovertemplate\":\"<b>%{hovertext}</b><br><br>year=2002<br>country=%{location}<br>attacks=%{z}<extra></extra>\",\"hovertext\":[\"Afghanistan\",\"Algeria\",\"Angola\",\"Azerbaijan\",\"Bangladesh\",\"Belgium\",\"Bosnia-Herzegovina\",\"Brazil\",\"Bulgaria\",\"Burundi\",\"Cambodia\",\"Chad\",\"Chile\",\"China\",\"Colombia\",\"Democratic Republic of the Congo\",\"Ecuador\",\"Ethiopia\",\"France\",\"Georgia\",\"Germany\",\"Greece\",\"Guyana\",\"Haiti\",\"Honduras\",\"India\",\"Indonesia\",\"International\",\"Iraq\",\"Israel\",\"Italy\",\"Ivory Coast\",\"Japan\",\"Jordan\",\"Kenya\",\"Kosovo\",\"Kuwait\",\"Kyrgyzstan\",\"Lebanon\",\"Liberia\",\"Macedonia\",\"Madagascar\",\"Malawi\",\"Myanmar\",\"Nepal\",\"Netherlands\",\"Nigeria\",\"Pakistan\",\"Papua New Guinea\",\"Peru\",\"Philippines\",\"Republic of the Congo\",\"Russia\",\"Saudi Arabia\",\"Senegal\",\"Solomon Islands\",\"Somalia\",\"South Africa\",\"Spain\",\"Sri Lanka\",\"Sudan\",\"Tanzania\",\"Thailand\",\"Tunisia\",\"Turkey\",\"Turkmenistan\",\"Uganda\",\"Ukraine\",\"United Kingdom\",\"United States\",\"Venezuela\",\"West Bank and Gaza Strip\",\"Yemen\",\"Yugoslavia\",\"Zambia\",\"Zimbabwe\"],\"locationmode\":\"country names\",\"locations\":[\"Afghanistan\",\"Algeria\",\"Angola\",\"Azerbaijan\",\"Bangladesh\",\"Belgium\",\"Bosnia-Herzegovina\",\"Brazil\",\"Bulgaria\",\"Burundi\",\"Cambodia\",\"Chad\",\"Chile\",\"China\",\"Colombia\",\"Democratic Republic of the Congo\",\"Ecuador\",\"Ethiopia\",\"France\",\"Georgia\",\"Germany\",\"Greece\",\"Guyana\",\"Haiti\",\"Honduras\",\"India\",\"Indonesia\",\"International\",\"Iraq\",\"Israel\",\"Italy\",\"Ivory Coast\",\"Japan\",\"Jordan\",\"Kenya\",\"Kosovo\",\"Kuwait\",\"Kyrgyzstan\",\"Lebanon\",\"Liberia\",\"Macedonia\",\"Madagascar\",\"Malawi\",\"Myanmar\",\"Nepal\",\"Netherlands\",\"Nigeria\",\"Pakistan\",\"Papua New Guinea\",\"Peru\",\"Philippines\",\"Republic of the Congo\",\"Russia\",\"Saudi Arabia\",\"Senegal\",\"Solomon Islands\",\"Somalia\",\"South Africa\",\"Spain\",\"Sri Lanka\",\"Sudan\",\"Tanzania\",\"Thailand\",\"Tunisia\",\"Turkey\",\"Turkmenistan\",\"Uganda\",\"Ukraine\",\"United Kingdom\",\"United States\",\"Venezuela\",\"West Bank and Gaza Strip\",\"Yemen\",\"Yugoslavia\",\"Zambia\",\"Zimbabwe\"],\"name\":\"\",\"type\":\"choropleth\",\"z\":[38,132,6,1,5,3,3,1,1,18,3,4,1,2,150,7,2,3,32,2,3,11,1,2,1,184,43,1,6,75,7,1,2,2,2,5,1,2,8,3,8,5,1,4,58,2,6,46,1,2,48,3,89,2,3,1,3,8,41,3,13,2,12,1,5,1,24,3,21,33,5,86,7,3,1,8]}],\"name\":\"2002\"},{\"data\":[{\"coloraxis\":\"coloraxis\",\"geo\":\"geo\",\"hovertemplate\":\"<b>%{hovertext}</b><br><br>year=2003<br>country=%{location}<br>attacks=%{z}<extra></extra>\",\"hovertext\":[\"Afghanistan\",\"Albania\",\"Algeria\",\"Argentina\",\"Bahrain\",\"Bangladesh\",\"Belgium\",\"Bolivia\",\"Bosnia-Herzegovina\",\"Brazil\",\"Burundi\",\"Cambodia\",\"Chile\",\"China\",\"Colombia\",\"Czech Republic\",\"Democratic Republic of the Congo\",\"East Timor\",\"Ecuador\",\"Ethiopia\",\"France\",\"Georgia\",\"Germany\",\"Greece\",\"Guatemala\",\"Guinea-Bissau\",\"Guyana\",\"Haiti\",\"India\",\"Indonesia\",\"Iran\",\"Iraq\",\"Ireland\",\"Israel\",\"Italy\",\"Japan\",\"Kenya\",\"Kosovo\",\"Kuwait\",\"Kyrgyzstan\",\"Laos\",\"Lebanon\",\"Liberia\",\"Macedonia\",\"Mexico\",\"Morocco\",\"Myanmar\",\"Nepal\",\"Netherlands\",\"New Zealand\",\"Nigeria\",\"Norway\",\"Pakistan\",\"Peru\",\"Philippines\",\"Republic of the Congo\",\"Russia\",\"Saudi Arabia\",\"Serbia-Montenegro\",\"Solomon Islands\",\"Somalia\",\"South Korea\",\"Spain\",\"Sri Lanka\",\"Swaziland\",\"Switzerland\",\"Thailand\",\"Turkey\",\"Uganda\",\"Ukraine\",\"United Kingdom\",\"United States\",\"Venezuela\",\"West Bank and Gaza Strip\",\"Yemen\",\"Zimbabwe\"],\"locationmode\":\"country names\",\"locations\":[\"Afghanistan\",\"Albania\",\"Algeria\",\"Argentina\",\"Bahrain\",\"Bangladesh\",\"Belgium\",\"Bolivia\",\"Bosnia-Herzegovina\",\"Brazil\",\"Burundi\",\"Cambodia\",\"Chile\",\"China\",\"Colombia\",\"Czech Republic\",\"Democratic Republic of the Congo\",\"East Timor\",\"Ecuador\",\"Ethiopia\",\"France\",\"Georgia\",\"Germany\",\"Greece\",\"Guatemala\",\"Guinea-Bissau\",\"Guyana\",\"Haiti\",\"India\",\"Indonesia\",\"Iran\",\"Iraq\",\"Ireland\",\"Israel\",\"Italy\",\"Japan\",\"Kenya\",\"Kosovo\",\"Kuwait\",\"Kyrgyzstan\",\"Laos\",\"Lebanon\",\"Liberia\",\"Macedonia\",\"Mexico\",\"Morocco\",\"Myanmar\",\"Nepal\",\"Netherlands\",\"New Zealand\",\"Nigeria\",\"Norway\",\"Pakistan\",\"Peru\",\"Philippines\",\"Republic of the Congo\",\"Russia\",\"Saudi Arabia\",\"Serbia-Montenegro\",\"Solomon Islands\",\"Somalia\",\"South Korea\",\"Spain\",\"Sri Lanka\",\"Swaziland\",\"Switzerland\",\"Thailand\",\"Turkey\",\"Uganda\",\"Ukraine\",\"United Kingdom\",\"United States\",\"Venezuela\",\"West Bank and Gaza Strip\",\"Yemen\",\"Zimbabwe\"],\"name\":\"\",\"type\":\"choropleth\",\"z\":[100,1,75,1,1,4,8,1,1,1,18,1,2,3,98,1,6,2,4,1,34,6,2,12,3,1,1,5,196,18,2,102,1,38,15,2,2,9,3,1,2,5,2,5,1,5,9,15,3,3,9,1,29,1,107,1,76,8,6,1,1,1,21,9,1,1,6,19,30,1,23,33,8,45,7,1]}],\"name\":\"2003\"},{\"data\":[{\"coloraxis\":\"coloraxis\",\"geo\":\"geo\",\"hovertemplate\":\"<b>%{hovertext}</b><br><br>year=2004<br>country=%{location}<br>attacks=%{z}<extra></extra>\",\"hovertext\":[\"Afghanistan\",\"Algeria\",\"Bangladesh\",\"Burundi\",\"Canada\",\"China\",\"Colombia\",\"Cyprus\",\"Democratic Republic of the Congo\",\"Djibouti\",\"Ecuador\",\"Egypt\",\"Ethiopia\",\"France\",\"Georgia\",\"Germany\",\"Greece\",\"Guatemala\",\"Haiti\",\"Honduras\",\"India\",\"Indonesia\",\"Iraq\",\"Israel\",\"Italy\",\"Ivory Coast\",\"Kosovo\",\"Lebanon\",\"Mauritania\",\"Mexico\",\"Myanmar\",\"Nepal\",\"Netherlands\",\"Nigeria\",\"Pakistan\",\"Peru\",\"Philippines\",\"Russia\",\"Saudi Arabia\",\"Serbia-Montenegro\",\"Somalia\",\"Spain\",\"Sri Lanka\",\"Sudan\",\"Syria\",\"Taiwan\",\"Tanzania\",\"Thailand\",\"Turkey\",\"Uganda\",\"United Kingdom\",\"United States\",\"Uzbekistan\",\"West Bank and Gaza Strip\"],\"locationmode\":\"country names\",\"locations\":[\"Afghanistan\",\"Algeria\",\"Bangladesh\",\"Burundi\",\"Canada\",\"China\",\"Colombia\",\"Cyprus\",\"Democratic Republic of the Congo\",\"Djibouti\",\"Ecuador\",\"Egypt\",\"Ethiopia\",\"France\",\"Georgia\",\"Germany\",\"Greece\",\"Guatemala\",\"Haiti\",\"Honduras\",\"India\",\"Indonesia\",\"Iraq\",\"Israel\",\"Italy\",\"Ivory Coast\",\"Kosovo\",\"Lebanon\",\"Mauritania\",\"Mexico\",\"Myanmar\",\"Nepal\",\"Netherlands\",\"Nigeria\",\"Pakistan\",\"Peru\",\"Philippines\",\"Russia\",\"Saudi Arabia\",\"Serbia-Montenegro\",\"Somalia\",\"Spain\",\"Sri Lanka\",\"Sudan\",\"Syria\",\"Taiwan\",\"Tanzania\",\"Thailand\",\"Turkey\",\"Uganda\",\"United Kingdom\",\"United States\",\"Uzbekistan\",\"West Bank and Gaza Strip\"],\"name\":\"\",\"type\":\"choropleth\",\"z\":[88,67,11,1,2,2,37,1,5,1,2,3,2,11,3,3,4,2,2,1,108,17,323,19,3,1,1,1,1,1,2,62,1,6,67,3,32,44,17,1,1,31,33,5,1,2,1,44,27,10,5,9,5,34]}],\"name\":\"2004\"},{\"data\":[{\"coloraxis\":\"coloraxis\",\"geo\":\"geo\",\"hovertemplate\":\"<b>%{hovertext}</b><br><br>year=2005<br>country=%{location}<br>attacks=%{z}<extra></extra>\",\"hovertext\":[\"Afghanistan\",\"Algeria\",\"Argentina\",\"Bangladesh\",\"Bolivia\",\"Bosnia-Herzegovina\",\"Burundi\",\"China\",\"Colombia\",\"Croatia\",\"Democratic Republic of the Congo\",\"East Timor\",\"Egypt\",\"Ethiopia\",\"France\",\"Georgia\",\"Germany\",\"Greece\",\"Guinea\",\"Guinea-Bissau\",\"Haiti\",\"Hong Kong\",\"India\",\"Indonesia\",\"Iran\",\"Iraq\",\"Israel\",\"Italy\",\"Ivory Coast\",\"Jordan\",\"Kenya\",\"Kosovo\",\"Kuwait\",\"Kyrgyzstan\",\"Lebanon\",\"Mali\",\"Mauritania\",\"Mexico\",\"Myanmar\",\"Nepal\",\"Nigeria\",\"Pakistan\",\"Peru\",\"Philippines\",\"Qatar\",\"Russia\",\"Rwanda\",\"Saudi Arabia\",\"Senegal\",\"Serbia-Montenegro\",\"Somalia\",\"Spain\",\"Sri Lanka\",\"Sudan\",\"Sweden\",\"Tajikistan\",\"Thailand\",\"Togo\",\"Trinidad and Tobago\",\"Turkey\",\"Uganda\",\"United Kingdom\",\"United States\",\"Uruguay\",\"Uzbekistan\",\"West Bank and Gaza Strip\",\"Yemen\"],\"locationmode\":\"country names\",\"locations\":[\"Afghanistan\",\"Algeria\",\"Argentina\",\"Bangladesh\",\"Bolivia\",\"Bosnia-Herzegovina\",\"Burundi\",\"China\",\"Colombia\",\"Croatia\",\"Democratic Republic of the Congo\",\"East Timor\",\"Egypt\",\"Ethiopia\",\"France\",\"Georgia\",\"Germany\",\"Greece\",\"Guinea\",\"Guinea-Bissau\",\"Haiti\",\"Hong Kong\",\"India\",\"Indonesia\",\"Iran\",\"Iraq\",\"Israel\",\"Italy\",\"Ivory Coast\",\"Jordan\",\"Kenya\",\"Kosovo\",\"Kuwait\",\"Kyrgyzstan\",\"Lebanon\",\"Mali\",\"Mauritania\",\"Mexico\",\"Myanmar\",\"Nepal\",\"Nigeria\",\"Pakistan\",\"Peru\",\"Philippines\",\"Qatar\",\"Russia\",\"Rwanda\",\"Saudi Arabia\",\"Senegal\",\"Serbia-Montenegro\",\"Somalia\",\"Spain\",\"Sri Lanka\",\"Sudan\",\"Sweden\",\"Tajikistan\",\"Thailand\",\"Togo\",\"Trinidad and Tobago\",\"Turkey\",\"Uganda\",\"United Kingdom\",\"United States\",\"Uruguay\",\"Uzbekistan\",\"West Bank and Gaza Strip\",\"Yemen\"],\"name\":\"\",\"type\":\"choropleth\",\"z\":[155,104,3,23,1,1,5,1,42,1,5,1,2,5,33,6,3,6,1,4,1,1,146,15,5,617,43,6,1,4,2,8,2,2,17,1,1,1,8,70,9,77,2,25,1,64,1,1,1,2,6,24,133,6,3,1,155,1,2,41,11,29,21,1,2,38,7]}],\"name\":\"2005\"},{\"data\":[{\"coloraxis\":\"coloraxis\",\"geo\":\"geo\",\"hovertemplate\":\"<b>%{hovertext}</b><br><br>year=2006<br>country=%{location}<br>attacks=%{z}<extra></extra>\",\"hovertext\":[\"Afghanistan\",\"Algeria\",\"Australia\",\"Austria\",\"Bahrain\",\"Bangladesh\",\"Belarus\",\"Bhutan\",\"Bosnia-Herzegovina\",\"Brazil\",\"Burundi\",\"Canada\",\"Central African Republic\",\"Chad\",\"Chile\",\"Colombia\",\"Democratic Republic of the Congo\",\"Egypt\",\"Ethiopia\",\"France\",\"Georgia\",\"Germany\",\"Greece\",\"Guatemala\",\"Guinea-Bissau\",\"Guyana\",\"Haiti\",\"India\",\"Indonesia\",\"Iran\",\"Iraq\",\"Ireland\",\"Israel\",\"Italy\",\"Ivory Coast\",\"Jordan\",\"Kenya\",\"Kosovo\",\"Kyrgyzstan\",\"Lebanon\",\"Lesotho\",\"Macedonia\",\"Madagascar\",\"Maldives\",\"Mexico\",\"Moldova\",\"Myanmar\",\"Nepal\",\"Nigeria\",\"Norway\",\"Pakistan\",\"Peru\",\"Philippines\",\"Russia\",\"Saudi Arabia\",\"Serbia-Montenegro\",\"Somalia\",\"South Korea\",\"Spain\",\"Sri Lanka\",\"Sudan\",\"Swaziland\",\"Sweden\",\"Syria\",\"Thailand\",\"Turkey\",\"United Kingdom\",\"United States\",\"West Bank and Gaza Strip\",\"Yemen\",\"Zimbabwe\"],\"locationmode\":\"country names\",\"locations\":[\"Afghanistan\",\"Algeria\",\"Australia\",\"Austria\",\"Bahrain\",\"Bangladesh\",\"Belarus\",\"Bhutan\",\"Bosnia-Herzegovina\",\"Brazil\",\"Burundi\",\"Canada\",\"Central African Republic\",\"Chad\",\"Chile\",\"Colombia\",\"Democratic Republic of the Congo\",\"Egypt\",\"Ethiopia\",\"France\",\"Georgia\",\"Germany\",\"Greece\",\"Guatemala\",\"Guinea-Bissau\",\"Guyana\",\"Haiti\",\"India\",\"Indonesia\",\"Iran\",\"Iraq\",\"Ireland\",\"Israel\",\"Italy\",\"Ivory Coast\",\"Jordan\",\"Kenya\",\"Kosovo\",\"Kyrgyzstan\",\"Lebanon\",\"Lesotho\",\"Macedonia\",\"Madagascar\",\"Maldives\",\"Mexico\",\"Moldova\",\"Myanmar\",\"Nepal\",\"Nigeria\",\"Norway\",\"Pakistan\",\"Peru\",\"Philippines\",\"Russia\",\"Saudi Arabia\",\"Serbia-Montenegro\",\"Somalia\",\"South Korea\",\"Spain\",\"Sri Lanka\",\"Sudan\",\"Swaziland\",\"Sweden\",\"Syria\",\"Thailand\",\"Turkey\",\"United Kingdom\",\"United States\",\"West Bank and Gaza Strip\",\"Yemen\",\"Zimbabwe\"],\"name\":\"\",\"type\":\"choropleth\",\"z\":[282,152,2,1,1,23,1,1,1,3,5,2,1,11,1,43,5,5,11,34,3,4,23,4,1,2,1,167,10,14,838,1,81,4,3,1,2,6,3,8,1,3,1,1,7,1,2,83,37,1,164,1,58,56,3,2,10,1,23,217,24,1,1,1,202,43,6,6,35,5,1]}],\"name\":\"2006\"},{\"data\":[{\"coloraxis\":\"coloraxis\",\"geo\":\"geo\",\"hovertemplate\":\"<b>%{hovertext}</b><br><br>year=2007<br>country=%{location}<br>attacks=%{z}<extra></extra>\",\"hovertext\":[\"Afghanistan\",\"Algeria\",\"Armenia\",\"Austria\",\"Azerbaijan\",\"Bangladesh\",\"Belgium\",\"Benin\",\"Bolivia\",\"Bosnia-Herzegovina\",\"Burundi\",\"Cameroon\",\"Central African Republic\",\"Chad\",\"Chile\",\"Colombia\",\"Cuba\",\"Cyprus\",\"Democratic Republic of the Congo\",\"East Timor\",\"Eritrea\",\"Ethiopia\",\"Finland\",\"France\",\"Germany\",\"Greece\",\"Haiti\",\"India\",\"Indonesia\",\"Iran\",\"Iraq\",\"Ireland\",\"Israel\",\"Ivory Coast\",\"Jamaica\",\"Kenya\",\"Kosovo\",\"Kyrgyzstan\",\"Latvia\",\"Lebanon\",\"Libya\",\"Macedonia\",\"Maldives\",\"Mali\",\"Mexico\",\"Montenegro\",\"Morocco\",\"Mozambique\",\"Myanmar\",\"Nepal\",\"Niger\",\"Nigeria\",\"Pakistan\",\"Papua New Guinea\",\"Peru\",\"Philippines\",\"Russia\",\"Saudi Arabia\",\"Senegal\",\"Somalia\",\"South Africa\",\"Spain\",\"Sri Lanka\",\"Sudan\",\"Switzerland\",\"Tajikistan\",\"Thailand\",\"Tunisia\",\"Turkey\",\"Uganda\",\"Ukraine\",\"United Kingdom\",\"United States\",\"Venezuela\",\"West Bank and Gaza Strip\",\"Western Sahara\",\"Yemen\",\"Zimbabwe\"],\"locationmode\":\"country names\",\"locations\":[\"Afghanistan\",\"Algeria\",\"Armenia\",\"Austria\",\"Azerbaijan\",\"Bangladesh\",\"Belgium\",\"Benin\",\"Bolivia\",\"Bosnia-Herzegovina\",\"Burundi\",\"Cameroon\",\"Central African Republic\",\"Chad\",\"Chile\",\"Colombia\",\"Cuba\",\"Cyprus\",\"Democratic Republic of the Congo\",\"East Timor\",\"Eritrea\",\"Ethiopia\",\"Finland\",\"France\",\"Germany\",\"Greece\",\"Haiti\",\"India\",\"Indonesia\",\"Iran\",\"Iraq\",\"Ireland\",\"Israel\",\"Ivory Coast\",\"Jamaica\",\"Kenya\",\"Kosovo\",\"Kyrgyzstan\",\"Latvia\",\"Lebanon\",\"Libya\",\"Macedonia\",\"Maldives\",\"Mali\",\"Mexico\",\"Montenegro\",\"Morocco\",\"Mozambique\",\"Myanmar\",\"Nepal\",\"Niger\",\"Nigeria\",\"Pakistan\",\"Papua New Guinea\",\"Peru\",\"Philippines\",\"Russia\",\"Saudi Arabia\",\"Senegal\",\"Somalia\",\"South Africa\",\"Spain\",\"Sri Lanka\",\"Sudan\",\"Switzerland\",\"Tajikistan\",\"Thailand\",\"Tunisia\",\"Turkey\",\"Uganda\",\"Ukraine\",\"United Kingdom\",\"United States\",\"Venezuela\",\"West Bank and Gaza Strip\",\"Western Sahara\",\"Yemen\",\"Zimbabwe\"],\"name\":\"\",\"type\":\"choropleth\",\"z\":[341,124,1,1,1,9,1,1,3,2,3,1,1,7,8,30,1,1,11,2,2,5,1,16,3,15,2,149,2,9,1047,1,53,1,1,12,5,1,1,18,1,1,1,5,10,1,6,1,3,90,7,61,260,1,4,65,51,1,1,156,2,11,132,23,2,1,293,1,29,1,1,20,8,2,88,1,7,1]}],\"name\":\"2007\"},{\"data\":[{\"coloraxis\":\"coloraxis\",\"geo\":\"geo\",\"hovertemplate\":\"<b>%{hovertext}</b><br><br>year=2008<br>country=%{location}<br>attacks=%{z}<extra></extra>\",\"hovertext\":[\"Afghanistan\",\"Algeria\",\"Australia\",\"Austria\",\"Azerbaijan\",\"Bahrain\",\"Bangladesh\",\"Belarus\",\"Bhutan\",\"Bosnia-Herzegovina\",\"Bulgaria\",\"Burundi\",\"Cambodia\",\"Cameroon\",\"Canada\",\"Central African Republic\",\"Chad\",\"Chile\",\"China\",\"Colombia\",\"Croatia\",\"Czech Republic\",\"Democratic Republic of the Congo\",\"Denmark\",\"East Timor\",\"Ecuador\",\"Egypt\",\"Eritrea\",\"Ethiopia\",\"Finland\",\"France\",\"Georgia\",\"Germany\",\"Greece\",\"Guyana\",\"Hong Kong\",\"Hungary\",\"India\",\"Indonesia\",\"Iran\",\"Iraq\",\"Ireland\",\"Israel\",\"Italy\",\"Japan\",\"Kazakhstan\",\"Kenya\",\"Kosovo\",\"Lebanon\",\"Liberia\",\"Libya\",\"Macedonia\",\"Malaysia\",\"Maldives\",\"Mali\",\"Mauritania\",\"Mexico\",\"Myanmar\",\"Nepal\",\"Netherlands\",\"New Zealand\",\"Niger\",\"Nigeria\",\"Pakistan\",\"Peru\",\"Philippines\",\"Romania\",\"Russia\",\"Rwanda\",\"Senegal\",\"Serbia\",\"Somalia\",\"South Africa\",\"Spain\",\"Sri Lanka\",\"Sudan\",\"Swaziland\",\"Sweden\",\"Syria\",\"Taiwan\",\"Tanzania\",\"Thailand\",\"Tunisia\",\"Turkey\",\"Uganda\",\"Ukraine\",\"United Kingdom\",\"United States\",\"Venezuela\",\"West Bank and Gaza Strip\",\"Yemen\",\"Zimbabwe\"],\"locationmode\":\"country names\",\"locations\":[\"Afghanistan\",\"Algeria\",\"Australia\",\"Austria\",\"Azerbaijan\",\"Bahrain\",\"Bangladesh\",\"Belarus\",\"Bhutan\",\"Bosnia-Herzegovina\",\"Bulgaria\",\"Burundi\",\"Cambodia\",\"Cameroon\",\"Canada\",\"Central African Republic\",\"Chad\",\"Chile\",\"China\",\"Colombia\",\"Croatia\",\"Czech Republic\",\"Democratic Republic of the Congo\",\"Denmark\",\"East Timor\",\"Ecuador\",\"Egypt\",\"Eritrea\",\"Ethiopia\",\"Finland\",\"France\",\"Georgia\",\"Germany\",\"Greece\",\"Guyana\",\"Hong Kong\",\"Hungary\",\"India\",\"Indonesia\",\"Iran\",\"Iraq\",\"Ireland\",\"Israel\",\"Italy\",\"Japan\",\"Kazakhstan\",\"Kenya\",\"Kosovo\",\"Lebanon\",\"Liberia\",\"Libya\",\"Macedonia\",\"Malaysia\",\"Maldives\",\"Mali\",\"Mauritania\",\"Mexico\",\"Myanmar\",\"Nepal\",\"Netherlands\",\"New Zealand\",\"Niger\",\"Nigeria\",\"Pakistan\",\"Peru\",\"Philippines\",\"Romania\",\"Russia\",\"Rwanda\",\"Senegal\",\"Serbia\",\"Somalia\",\"South Africa\",\"Spain\",\"Sri Lanka\",\"Sudan\",\"Swaziland\",\"Sweden\",\"Syria\",\"Taiwan\",\"Tanzania\",\"Thailand\",\"Tunisia\",\"Turkey\",\"Uganda\",\"Ukraine\",\"United Kingdom\",\"United States\",\"Venezuela\",\"West Bank and Gaza Strip\",\"Yemen\",\"Zimbabwe\"],\"name\":\"\",\"type\":\"choropleth\",\"z\":[414,107,3,7,2,1,19,1,3,4,2,7,2,1,5,2,8,4,20,133,2,2,20,1,1,2,1,2,8,1,13,33,3,53,3,1,2,534,13,8,1106,5,134,2,3,1,11,11,58,1,1,9,2,1,9,2,8,20,120,1,5,9,76,568,1,276,1,170,1,2,4,172,1,37,100,32,3,1,1,1,1,200,2,32,7,1,39,18,1,63,22,5]}],\"name\":\"2008\"},{\"data\":[{\"coloraxis\":\"coloraxis\",\"geo\":\"geo\",\"hovertemplate\":\"<b>%{hovertext}</b><br><br>year=2009<br>country=%{location}<br>attacks=%{z}<extra></extra>\",\"hovertext\":[\"Afghanistan\",\"Albania\",\"Algeria\",\"Angola\",\"Argentina\",\"Armenia\",\"Australia\",\"Austria\",\"Azerbaijan\",\"Bangladesh\",\"Belgium\",\"Bolivia\",\"Bosnia-Herzegovina\",\"Cameroon\",\"Canada\",\"Central African Republic\",\"Chad\",\"Chile\",\"China\",\"Colombia\",\"Croatia\",\"Czech Republic\",\"Democratic Republic of the Congo\",\"Ecuador\",\"Egypt\",\"Equatorial Guinea\",\"Eritrea\",\"Ethiopia\",\"France\",\"Georgia\",\"Germany\",\"Greece\",\"Guinea-Bissau\",\"Honduras\",\"Hungary\",\"India\",\"Indonesia\",\"Iran\",\"Iraq\",\"Israel\",\"Italy\",\"Japan\",\"Kenya\",\"Kosovo\",\"Lebanon\",\"Lesotho\",\"Macedonia\",\"Madagascar\",\"Malaysia\",\"Mali\",\"Mauritania\",\"Mexico\",\"Moldova\",\"Myanmar\",\"Nepal\",\"Netherlands\",\"Niger\",\"Nigeria\",\"Pakistan\",\"Panama\",\"Peru\",\"Philippines\",\"Russia\",\"Rwanda\",\"Saudi Arabia\",\"Senegal\",\"Serbia\",\"Somalia\",\"Spain\",\"Sri Lanka\",\"Sudan\",\"Sweden\",\"Tajikistan\",\"Thailand\",\"Turkey\",\"Uganda\",\"Ukraine\",\"United Kingdom\",\"United States\",\"Uzbekistan\",\"Venezuela\",\"West Bank and Gaza Strip\",\"Yemen\"],\"locationmode\":\"country names\",\"locations\":[\"Afghanistan\",\"Albania\",\"Algeria\",\"Angola\",\"Argentina\",\"Armenia\",\"Australia\",\"Austria\",\"Azerbaijan\",\"Bangladesh\",\"Belgium\",\"Bolivia\",\"Bosnia-Herzegovina\",\"Cameroon\",\"Canada\",\"Central African Republic\",\"Chad\",\"Chile\",\"China\",\"Colombia\",\"Croatia\",\"Czech Republic\",\"Democratic Republic of the Congo\",\"Ecuador\",\"Egypt\",\"Equatorial Guinea\",\"Eritrea\",\"Ethiopia\",\"France\",\"Georgia\",\"Germany\",\"Greece\",\"Guinea-Bissau\",\"Honduras\",\"Hungary\",\"India\",\"Indonesia\",\"Iran\",\"Iraq\",\"Israel\",\"Italy\",\"Japan\",\"Kenya\",\"Kosovo\",\"Lebanon\",\"Lesotho\",\"Macedonia\",\"Madagascar\",\"Malaysia\",\"Mali\",\"Mauritania\",\"Mexico\",\"Moldova\",\"Myanmar\",\"Nepal\",\"Netherlands\",\"Niger\",\"Nigeria\",\"Pakistan\",\"Panama\",\"Peru\",\"Philippines\",\"Russia\",\"Rwanda\",\"Saudi Arabia\",\"Senegal\",\"Serbia\",\"Somalia\",\"Spain\",\"Sri Lanka\",\"Sudan\",\"Sweden\",\"Tajikistan\",\"Thailand\",\"Turkey\",\"Uganda\",\"Ukraine\",\"United Kingdom\",\"United States\",\"Uzbekistan\",\"Venezuela\",\"West Bank and Gaza Strip\",\"Yemen\"],\"name\":\"\",\"type\":\"choropleth\",\"z\":[503,1,108,1,1,1,1,3,2,27,1,3,1,1,4,5,3,8,7,139,1,1,54,1,2,1,1,2,9,25,4,115,1,8,1,672,19,15,1137,36,4,1,1,1,14,1,1,1,1,6,5,1,1,14,39,1,4,42,667,1,4,229,152,1,3,3,3,122,21,37,26,1,1,298,13,2,2,23,11,2,3,10,23]}],\"name\":\"2009\"},{\"data\":[{\"coloraxis\":\"coloraxis\",\"geo\":\"geo\",\"hovertemplate\":\"<b>%{hovertext}</b><br><br>year=2010<br>country=%{location}<br>attacks=%{z}<extra></extra>\",\"hovertext\":[\"Afghanistan\",\"Algeria\",\"Angola\",\"Argentina\",\"Australia\",\"Bahrain\",\"Bangladesh\",\"Belarus\",\"Bosnia-Herzegovina\",\"Burundi\",\"Cameroon\",\"Canada\",\"Central African Republic\",\"Chad\",\"Chile\",\"China\",\"Colombia\",\"Democratic Republic of the Congo\",\"Denmark\",\"Egypt\",\"Eritrea\",\"Ethiopia\",\"France\",\"Georgia\",\"Germany\",\"Greece\",\"India\",\"Indonesia\",\"Iran\",\"Iraq\",\"Ireland\",\"Israel\",\"Italy\",\"Ivory Coast\",\"Jordan\",\"Kenya\",\"Kosovo\",\"Kyrgyzstan\",\"Lebanon\",\"Mali\",\"Mauritania\",\"Mexico\",\"Myanmar\",\"Nepal\",\"Netherlands\",\"Niger\",\"Nigeria\",\"Norway\",\"Pakistan\",\"Paraguay\",\"Philippines\",\"Poland\",\"Russia\",\"Rwanda\",\"Senegal\",\"Serbia\",\"Somalia\",\"Spain\",\"Sri Lanka\",\"Sudan\",\"Sweden\",\"Tajikistan\",\"Tanzania\",\"Thailand\",\"Trinidad and Tobago\",\"Turkey\",\"Uganda\",\"Ukraine\",\"United Arab Emirates\",\"United Kingdom\",\"United States\",\"West Bank and Gaza Strip\",\"Yemen\",\"Zimbabwe\"],\"locationmode\":\"country names\",\"locations\":[\"Afghanistan\",\"Algeria\",\"Angola\",\"Argentina\",\"Australia\",\"Bahrain\",\"Bangladesh\",\"Belarus\",\"Bosnia-Herzegovina\",\"Burundi\",\"Cameroon\",\"Canada\",\"Central African Republic\",\"Chad\",\"Chile\",\"China\",\"Colombia\",\"Democratic Republic of the Congo\",\"Denmark\",\"Egypt\",\"Eritrea\",\"Ethiopia\",\"France\",\"Georgia\",\"Germany\",\"Greece\",\"India\",\"Indonesia\",\"Iran\",\"Iraq\",\"Ireland\",\"Israel\",\"Italy\",\"Ivory Coast\",\"Jordan\",\"Kenya\",\"Kosovo\",\"Kyrgyzstan\",\"Lebanon\",\"Mali\",\"Mauritania\",\"Mexico\",\"Myanmar\",\"Nepal\",\"Netherlands\",\"Niger\",\"Nigeria\",\"Norway\",\"Pakistan\",\"Paraguay\",\"Philippines\",\"Poland\",\"Russia\",\"Rwanda\",\"Senegal\",\"Serbia\",\"Somalia\",\"Spain\",\"Sri Lanka\",\"Sudan\",\"Sweden\",\"Tajikistan\",\"Tanzania\",\"Thailand\",\"Trinidad and Tobago\",\"Turkey\",\"Uganda\",\"Ukraine\",\"United Arab Emirates\",\"United Kingdom\",\"United States\",\"West Bank and Gaza Strip\",\"Yemen\",\"Zimbabwe\"],\"name\":\"\",\"type\":\"choropleth\",\"z\":[542,100,2,5,1,2,22,2,1,29,3,2,13,1,5,1,136,18,1,2,1,2,3,7,1,49,663,4,14,1179,4,14,10,7,2,12,1,1,5,1,1,5,11,38,1,3,63,1,713,2,205,1,251,8,1,1,130,3,3,28,3,1,1,253,1,20,6,4,2,57,17,11,112,1]}],\"name\":\"2010\"},{\"data\":[{\"coloraxis\":\"coloraxis\",\"geo\":\"geo\",\"hovertemplate\":\"<b>%{hovertext}</b><br><br>year=2011<br>country=%{location}<br>attacks=%{z}<extra></extra>\",\"hovertext\":[\"Afghanistan\",\"Algeria\",\"Argentina\",\"Austria\",\"Bahrain\",\"Bangladesh\",\"Belarus\",\"Bhutan\",\"Bosnia-Herzegovina\",\"Bulgaria\",\"Burundi\",\"Cameroon\",\"Central African Republic\",\"Chile\",\"China\",\"Colombia\",\"Czech Republic\",\"Democratic Republic of the Congo\",\"Ecuador\",\"Egypt\",\"Eritrea\",\"Estonia\",\"Ethiopia\",\"France\",\"Georgia\",\"Germany\",\"Greece\",\"Honduras\",\"India\",\"Indonesia\",\"Iran\",\"Iraq\",\"Ireland\",\"Israel\",\"Italy\",\"Ivory Coast\",\"Kazakhstan\",\"Kenya\",\"Kosovo\",\"Kuwait\",\"Kyrgyzstan\",\"Lebanon\",\"Libya\",\"Madagascar\",\"Mali\",\"Mauritania\",\"Mexico\",\"Morocco\",\"Myanmar\",\"Nepal\",\"Netherlands\",\"Niger\",\"Nigeria\",\"Norway\",\"Pakistan\",\"Paraguay\",\"Philippines\",\"Portugal\",\"Russia\",\"Rwanda\",\"Saudi Arabia\",\"Senegal\",\"Somalia\",\"Sudan\",\"Sweden\",\"Switzerland\",\"Syria\",\"Thailand\",\"Tunisia\",\"Turkey\",\"Ukraine\",\"United Kingdom\",\"United States\",\"West Bank and Gaza Strip\",\"Yemen\",\"Zimbabwe\"],\"locationmode\":\"country names\",\"locations\":[\"Afghanistan\",\"Algeria\",\"Argentina\",\"Austria\",\"Bahrain\",\"Bangladesh\",\"Belarus\",\"Bhutan\",\"Bosnia-Herzegovina\",\"Bulgaria\",\"Burundi\",\"Cameroon\",\"Central African Republic\",\"Chile\",\"China\",\"Colombia\",\"Czech Republic\",\"Democratic Republic of the Congo\",\"Ecuador\",\"Egypt\",\"Eritrea\",\"Estonia\",\"Ethiopia\",\"France\",\"Georgia\",\"Germany\",\"Greece\",\"Honduras\",\"India\",\"Indonesia\",\"Iran\",\"Iraq\",\"Ireland\",\"Israel\",\"Italy\",\"Ivory Coast\",\"Kazakhstan\",\"Kenya\",\"Kosovo\",\"Kuwait\",\"Kyrgyzstan\",\"Lebanon\",\"Libya\",\"Madagascar\",\"Mali\",\"Mauritania\",\"Mexico\",\"Morocco\",\"Myanmar\",\"Nepal\",\"Netherlands\",\"Niger\",\"Nigeria\",\"Norway\",\"Pakistan\",\"Paraguay\",\"Philippines\",\"Portugal\",\"Russia\",\"Rwanda\",\"Saudi Arabia\",\"Senegal\",\"Somalia\",\"Sudan\",\"Sweden\",\"Switzerland\",\"Syria\",\"Thailand\",\"Tunisia\",\"Turkey\",\"Ukraine\",\"United Kingdom\",\"United States\",\"West Bank and Gaza Strip\",\"Yemen\",\"Zimbabwe\"],\"name\":\"\",\"type\":\"choropleth\",\"z\":[421,15,1,1,1,13,1,1,1,2,8,3,3,6,4,94,1,16,1,18,1,1,3,8,3,8,11,1,645,21,13,1308,4,51,5,3,5,42,1,1,1,10,2,1,4,3,2,1,2,46,2,2,175,3,1012,4,151,2,188,2,2,4,185,38,1,3,49,182,3,51,3,47,10,20,118,1]}],\"name\":\"2011\"},{\"data\":[{\"coloraxis\":\"coloraxis\",\"geo\":\"geo\",\"hovertemplate\":\"<b>%{hovertext}</b><br><br>year=2012<br>country=%{location}<br>attacks=%{z}<extra></extra>\",\"hovertext\":[\"Afghanistan\",\"Algeria\",\"Argentina\",\"Bahrain\",\"Bangladesh\",\"Belarus\",\"Belgium\",\"Bolivia\",\"Brazil\",\"Bulgaria\",\"Burundi\",\"Canada\",\"Central African Republic\",\"Chile\",\"China\",\"Colombia\",\"Cyprus\",\"Democratic Republic of the Congo\",\"Ecuador\",\"Egypt\",\"Ethiopia\",\"France\",\"Georgia\",\"Germany\",\"Greece\",\"Guatemala\",\"Guinea-Bissau\",\"Iceland\",\"India\",\"Indonesia\",\"Iran\",\"Iraq\",\"Ireland\",\"Israel\",\"Italy\",\"Ivory Coast\",\"Jordan\",\"Kazakhstan\",\"Kenya\",\"Kosovo\",\"Laos\",\"Lebanon\",\"Liberia\",\"Libya\",\"Macedonia\",\"Madagascar\",\"Malaysia\",\"Maldives\",\"Mali\",\"Mexico\",\"Moldova\",\"Mozambique\",\"Myanmar\",\"Nepal\",\"Niger\",\"Nigeria\",\"Pakistan\",\"Paraguay\",\"Peru\",\"Philippines\",\"Russia\",\"Rwanda\",\"Saudi Arabia\",\"Senegal\",\"Serbia\",\"Somalia\",\"South Africa\",\"South Sudan\",\"Spain\",\"Sri Lanka\",\"Sudan\",\"Sweden\",\"Syria\",\"Tajikistan\",\"Thailand\",\"Tunisia\",\"Turkey\",\"Uganda\",\"Ukraine\",\"United Kingdom\",\"United States\",\"Venezuela\",\"West Bank and Gaza Strip\",\"Yemen\"],\"locationmode\":\"country names\",\"locations\":[\"Afghanistan\",\"Algeria\",\"Argentina\",\"Bahrain\",\"Bangladesh\",\"Belarus\",\"Belgium\",\"Bolivia\",\"Brazil\",\"Bulgaria\",\"Burundi\",\"Canada\",\"Central African Republic\",\"Chile\",\"China\",\"Colombia\",\"Cyprus\",\"Democratic Republic of the Congo\",\"Ecuador\",\"Egypt\",\"Ethiopia\",\"France\",\"Georgia\",\"Germany\",\"Greece\",\"Guatemala\",\"Guinea-Bissau\",\"Iceland\",\"India\",\"Indonesia\",\"Iran\",\"Iraq\",\"Ireland\",\"Israel\",\"Italy\",\"Ivory Coast\",\"Jordan\",\"Kazakhstan\",\"Kenya\",\"Kosovo\",\"Laos\",\"Lebanon\",\"Liberia\",\"Libya\",\"Macedonia\",\"Madagascar\",\"Malaysia\",\"Maldives\",\"Mali\",\"Mexico\",\"Moldova\",\"Mozambique\",\"Myanmar\",\"Nepal\",\"Niger\",\"Nigeria\",\"Pakistan\",\"Paraguay\",\"Peru\",\"Philippines\",\"Russia\",\"Rwanda\",\"Saudi Arabia\",\"Senegal\",\"Serbia\",\"Somalia\",\"South Africa\",\"South Sudan\",\"Spain\",\"Sri Lanka\",\"Sudan\",\"Sweden\",\"Syria\",\"Tajikistan\",\"Thailand\",\"Tunisia\",\"Turkey\",\"Uganda\",\"Ukraine\",\"United Kingdom\",\"United States\",\"Venezuela\",\"West Bank and Gaza Strip\",\"Yemen\"],\"name\":\"\",\"type\":\"choropleth\",\"z\":[1469,41,2,26,18,3,1,1,1,2,4,3,4,2,4,115,1,25,1,49,3,66,3,5,22,1,1,1,611,39,5,1437,29,65,10,16,2,4,80,4,1,15,1,57,1,1,2,1,19,16,1,1,17,46,1,616,1654,4,6,249,151,6,6,12,3,325,4,5,1,4,40,2,180,5,279,3,188,4,8,55,20,1,23,312]}],\"name\":\"2012\"},{\"data\":[{\"coloraxis\":\"coloraxis\",\"geo\":\"geo\",\"hovertemplate\":\"<b>%{hovertext}</b><br><br>year=2013<br>country=%{location}<br>attacks=%{z}<extra></extra>\",\"hovertext\":[\"Afghanistan\",\"Albania\",\"Algeria\",\"Argentina\",\"Armenia\",\"Australia\",\"Austria\",\"Bahamas\",\"Bahrain\",\"Bangladesh\",\"Belize\",\"Bosnia-Herzegovina\",\"Brazil\",\"Bulgaria\",\"Burkina Faso\",\"Burundi\",\"Cambodia\",\"Cameroon\",\"Canada\",\"Central African Republic\",\"Chile\",\"China\",\"Colombia\",\"Croatia\",\"Cyprus\",\"Czech Republic\",\"Democratic Republic of the Congo\",\"Denmark\",\"Dominican Republic\",\"Ecuador\",\"Egypt\",\"Ethiopia\",\"France\",\"Georgia\",\"Greece\",\"Guatemala\",\"Guinea\",\"Honduras\",\"India\",\"Indonesia\",\"Iran\",\"Iraq\",\"Ireland\",\"Israel\",\"Italy\",\"Ivory Coast\",\"Japan\",\"Jordan\",\"Kazakhstan\",\"Kenya\",\"Kosovo\",\"Lebanon\",\"Libya\",\"Madagascar\",\"Malaysia\",\"Maldives\",\"Mali\",\"Mexico\",\"Montenegro\",\"Mozambique\",\"Myanmar\",\"Nepal\",\"Niger\",\"Nigeria\",\"Pakistan\",\"Paraguay\",\"Peru\",\"Philippines\",\"Republic of the Congo\",\"Russia\",\"Rwanda\",\"Saudi Arabia\",\"Senegal\",\"Somalia\",\"South Africa\",\"South Sudan\",\"Spain\",\"Sri Lanka\",\"Sudan\",\"Switzerland\",\"Syria\",\"Taiwan\",\"Tanzania\",\"Thailand\",\"Trinidad and Tobago\",\"Tunisia\",\"Turkey\",\"Ukraine\",\"United Arab Emirates\",\"United Kingdom\",\"United States\",\"Venezuela\",\"West Bank and Gaza Strip\",\"Yemen\",\"Zimbabwe\"],\"locationmode\":\"country names\",\"locations\":[\"Afghanistan\",\"Albania\",\"Algeria\",\"Argentina\",\"Armenia\",\"Australia\",\"Austria\",\"Bahamas\",\"Bahrain\",\"Bangladesh\",\"Belize\",\"Bosnia-Herzegovina\",\"Brazil\",\"Bulgaria\",\"Burkina Faso\",\"Burundi\",\"Cambodia\",\"Cameroon\",\"Canada\",\"Central African Republic\",\"Chile\",\"China\",\"Colombia\",\"Croatia\",\"Cyprus\",\"Czech Republic\",\"Democratic Republic of the Congo\",\"Denmark\",\"Dominican Republic\",\"Ecuador\",\"Egypt\",\"Ethiopia\",\"France\",\"Georgia\",\"Greece\",\"Guatemala\",\"Guinea\",\"Honduras\",\"India\",\"Indonesia\",\"Iran\",\"Iraq\",\"Ireland\",\"Israel\",\"Italy\",\"Ivory Coast\",\"Japan\",\"Jordan\",\"Kazakhstan\",\"Kenya\",\"Kosovo\",\"Lebanon\",\"Libya\",\"Madagascar\",\"Malaysia\",\"Maldives\",\"Mali\",\"Mexico\",\"Montenegro\",\"Mozambique\",\"Myanmar\",\"Nepal\",\"Niger\",\"Nigeria\",\"Pakistan\",\"Paraguay\",\"Peru\",\"Philippines\",\"Republic of the Congo\",\"Russia\",\"Rwanda\",\"Saudi Arabia\",\"Senegal\",\"Somalia\",\"South Africa\",\"South Sudan\",\"Spain\",\"Sri Lanka\",\"Sudan\",\"Switzerland\",\"Syria\",\"Taiwan\",\"Tanzania\",\"Thailand\",\"Trinidad and Tobago\",\"Tunisia\",\"Turkey\",\"Ukraine\",\"United Arab Emirates\",\"United Kingdom\",\"United States\",\"Venezuela\",\"West Bank and Gaza Strip\",\"Yemen\",\"Zimbabwe\"],\"name\":\"\",\"type\":\"choropleth\",\"z\":[1443,1,22,2,1,1,1,1,52,139,1,1,3,3,1,2,2,3,4,20,5,12,149,2,9,1,22,1,1,2,321,5,18,2,54,6,2,2,694,32,11,2852,27,37,7,4,1,1,4,80,6,121,291,2,13,3,58,8,2,18,18,104,4,346,2215,10,10,651,1,144,4,6,3,342,13,13,5,14,46,2,285,2,7,472,3,29,42,5,1,137,20,1,64,425,3]}],\"name\":\"2013\"},{\"data\":[{\"coloraxis\":\"coloraxis\",\"geo\":\"geo\",\"hovertemplate\":\"<b>%{hovertext}</b><br><br>year=2014<br>country=%{location}<br>attacks=%{z}<extra></extra>\",\"hovertext\":[\"Afghanistan\",\"Albania\",\"Algeria\",\"Argentina\",\"Australia\",\"Azerbaijan\",\"Bahrain\",\"Bangladesh\",\"Belgium\",\"Bhutan\",\"Bosnia-Herzegovina\",\"Brazil\",\"Bulgaria\",\"Burundi\",\"Cameroon\",\"Canada\",\"Central African Republic\",\"Chad\",\"Chile\",\"China\",\"Colombia\",\"Cyprus\",\"Czech Republic\",\"Democratic Republic of the Congo\",\"Djibouti\",\"Dominican Republic\",\"Egypt\",\"Ethiopia\",\"France\",\"Georgia\",\"Germany\",\"Ghana\",\"Greece\",\"Honduras\",\"Hungary\",\"Iceland\",\"India\",\"Indonesia\",\"Iran\",\"Iraq\",\"Ireland\",\"Israel\",\"Italy\",\"Ivory Coast\",\"Jamaica\",\"Japan\",\"Jordan\",\"Kenya\",\"Kosovo\",\"Kyrgyzstan\",\"Lebanon\",\"Liberia\",\"Libya\",\"Macedonia\",\"Madagascar\",\"Malaysia\",\"Maldives\",\"Mali\",\"Malta\",\"Mexico\",\"Mozambique\",\"Myanmar\",\"Nepal\",\"Netherlands\",\"New Zealand\",\"Nicaragua\",\"Niger\",\"Nigeria\",\"Pakistan\",\"Paraguay\",\"Peru\",\"Philippines\",\"Russia\",\"Rwanda\",\"Saudi Arabia\",\"Senegal\",\"Somalia\",\"South Africa\",\"South Sudan\",\"Spain\",\"Sri Lanka\",\"Sudan\",\"Sweden\",\"Syria\",\"Taiwan\",\"Tajikistan\",\"Tanzania\",\"Thailand\",\"Tunisia\",\"Turkey\",\"Turkmenistan\",\"Uganda\",\"Ukraine\",\"United Arab Emirates\",\"United Kingdom\",\"United States\",\"Venezuela\",\"West Bank and Gaza Strip\",\"Yemen\",\"Zimbabwe\"],\"locationmode\":\"country names\",\"locations\":[\"Afghanistan\",\"Albania\",\"Algeria\",\"Argentina\",\"Australia\",\"Azerbaijan\",\"Bahrain\",\"Bangladesh\",\"Belgium\",\"Bhutan\",\"Bosnia-Herzegovina\",\"Brazil\",\"Bulgaria\",\"Burundi\",\"Cameroon\",\"Canada\",\"Central African Republic\",\"Chad\",\"Chile\",\"China\",\"Colombia\",\"Cyprus\",\"Czech Republic\",\"Democratic Republic of the Congo\",\"Djibouti\",\"Dominican Republic\",\"Egypt\",\"Ethiopia\",\"France\",\"Georgia\",\"Germany\",\"Ghana\",\"Greece\",\"Honduras\",\"Hungary\",\"Iceland\",\"India\",\"Indonesia\",\"Iran\",\"Iraq\",\"Ireland\",\"Israel\",\"Italy\",\"Ivory Coast\",\"Jamaica\",\"Japan\",\"Jordan\",\"Kenya\",\"Kosovo\",\"Kyrgyzstan\",\"Lebanon\",\"Liberia\",\"Libya\",\"Macedonia\",\"Madagascar\",\"Malaysia\",\"Maldives\",\"Mali\",\"Malta\",\"Mexico\",\"Mozambique\",\"Myanmar\",\"Nepal\",\"Netherlands\",\"New Zealand\",\"Nicaragua\",\"Niger\",\"Nigeria\",\"Pakistan\",\"Paraguay\",\"Peru\",\"Philippines\",\"Russia\",\"Rwanda\",\"Saudi Arabia\",\"Senegal\",\"Somalia\",\"South Africa\",\"South Sudan\",\"Spain\",\"Sri Lanka\",\"Sudan\",\"Sweden\",\"Syria\",\"Taiwan\",\"Tajikistan\",\"Tanzania\",\"Thailand\",\"Tunisia\",\"Turkey\",\"Turkmenistan\",\"Uganda\",\"Ukraine\",\"United Arab Emirates\",\"United Kingdom\",\"United States\",\"Venezuela\",\"West Bank and Gaza Strip\",\"Yemen\",\"Zimbabwe\"],\"name\":\"\",\"type\":\"choropleth\",\"z\":[1824,2,13,1,8,3,42,130,2,1,3,3,1,5,68,3,94,1,17,37,231,5,5,110,1,1,354,2,14,2,13,1,26,1,1,1,860,35,9,3933,33,293,7,1,1,5,3,115,4,2,204,1,728,3,1,12,9,69,1,5,22,15,7,1,1,2,5,714,2151,15,12,597,48,2,14,2,872,20,40,4,16,157,5,331,1,1,11,423,23,94,1,6,895,2,103,29,4,133,763,1]}],\"name\":\"2014\"},{\"data\":[{\"coloraxis\":\"coloraxis\",\"geo\":\"geo\",\"hovertemplate\":\"<b>%{hovertext}</b><br><br>year=2015<br>country=%{location}<br>attacks=%{z}<extra></extra>\",\"hovertext\":[\"Afghanistan\",\"Albania\",\"Algeria\",\"Argentina\",\"Armenia\",\"Australia\",\"Bahrain\",\"Bangladesh\",\"Bosnia-Herzegovina\",\"Brazil\",\"Bulgaria\",\"Burkina Faso\",\"Burundi\",\"Cameroon\",\"Canada\",\"Central African Republic\",\"Chad\",\"Chile\",\"China\",\"Colombia\",\"Cyprus\",\"Czech Republic\",\"Democratic Republic of the Congo\",\"Denmark\",\"Djibouti\",\"Ecuador\",\"Egypt\",\"Estonia\",\"Ethiopia\",\"Finland\",\"France\",\"Georgia\",\"Germany\",\"Greece\",\"Guinea\",\"Hungary\",\"India\",\"Indonesia\",\"Iran\",\"Iraq\",\"Ireland\",\"Israel\",\"Italy\",\"Ivory Coast\",\"Japan\",\"Jordan\",\"Kenya\",\"Kosovo\",\"Kuwait\",\"Kyrgyzstan\",\"Laos\",\"Lebanon\",\"Lesotho\",\"Libya\",\"Macedonia\",\"Malaysia\",\"Maldives\",\"Mali\",\"Malta\",\"Mexico\",\"Montenegro\",\"Morocco\",\"Mozambique\",\"Myanmar\",\"Nepal\",\"Netherlands\",\"Niger\",\"Nigeria\",\"Pakistan\",\"Paraguay\",\"Peru\",\"Philippines\",\"Qatar\",\"Russia\",\"Saudi Arabia\",\"Senegal\",\"Somalia\",\"South Africa\",\"South Korea\",\"South Sudan\",\"Spain\",\"Sri Lanka\",\"Sudan\",\"Sweden\",\"Syria\",\"Tajikistan\",\"Tanzania\",\"Thailand\",\"Trinidad and Tobago\",\"Tunisia\",\"Turkey\",\"Uganda\",\"Ukraine\",\"United Kingdom\",\"United States\",\"Uzbekistan\",\"Venezuela\",\"West Bank and Gaza Strip\",\"Yemen\"],\"locationmode\":\"country names\",\"locations\":[\"Afghanistan\",\"Albania\",\"Algeria\",\"Argentina\",\"Armenia\",\"Australia\",\"Bahrain\",\"Bangladesh\",\"Bosnia-Herzegovina\",\"Brazil\",\"Bulgaria\",\"Burkina Faso\",\"Burundi\",\"Cameroon\",\"Canada\",\"Central African Republic\",\"Chad\",\"Chile\",\"China\",\"Colombia\",\"Cyprus\",\"Czech Republic\",\"Democratic Republic of the Congo\",\"Denmark\",\"Djibouti\",\"Ecuador\",\"Egypt\",\"Estonia\",\"Ethiopia\",\"Finland\",\"France\",\"Georgia\",\"Germany\",\"Greece\",\"Guinea\",\"Hungary\",\"India\",\"Indonesia\",\"Iran\",\"Iraq\",\"Ireland\",\"Israel\",\"Italy\",\"Ivory Coast\",\"Japan\",\"Jordan\",\"Kenya\",\"Kosovo\",\"Kuwait\",\"Kyrgyzstan\",\"Laos\",\"Lebanon\",\"Lesotho\",\"Libya\",\"Macedonia\",\"Malaysia\",\"Maldives\",\"Mali\",\"Malta\",\"Mexico\",\"Montenegro\",\"Morocco\",\"Mozambique\",\"Myanmar\",\"Nepal\",\"Netherlands\",\"Niger\",\"Nigeria\",\"Pakistan\",\"Paraguay\",\"Peru\",\"Philippines\",\"Qatar\",\"Russia\",\"Saudi Arabia\",\"Senegal\",\"Somalia\",\"South Africa\",\"South Korea\",\"South Sudan\",\"Spain\",\"Sri Lanka\",\"Sudan\",\"Sweden\",\"Syria\",\"Tajikistan\",\"Tanzania\",\"Thailand\",\"Trinidad and Tobago\",\"Tunisia\",\"Turkey\",\"Uganda\",\"Ukraine\",\"United Kingdom\",\"United States\",\"Uzbekistan\",\"Venezuela\",\"West Bank and Gaza Strip\",\"Yemen\"],\"name\":\"\",\"type\":\"choropleth\",\"z\":[1928,4,16,1,2,14,18,469,6,5,2,6,102,83,5,48,27,1,17,136,3,4,143,4,1,1,647,2,7,9,37,1,65,31,2,1,884,29,9,2751,28,58,5,4,10,4,71,2,1,3,2,44,1,543,4,5,2,121,1,19,1,1,8,37,48,3,41,638,1243,19,10,721,1,21,103,2,418,5,1,54,1,11,158,32,491,3,14,278,1,17,422,10,637,114,38,1,3,246,664]}],\"name\":\"2015\"},{\"data\":[{\"coloraxis\":\"coloraxis\",\"geo\":\"geo\",\"hovertemplate\":\"<b>%{hovertext}</b><br><br>year=2016<br>country=%{location}<br>attacks=%{z}<extra></extra>\",\"hovertext\":[\"Afghanistan\",\"Albania\",\"Algeria\",\"Angola\",\"Argentina\",\"Armenia\",\"Australia\",\"Austria\",\"Azerbaijan\",\"Bahrain\",\"Bangladesh\",\"Belgium\",\"Brazil\",\"Bulgaria\",\"Burkina Faso\",\"Burundi\",\"Cameroon\",\"Canada\",\"Central African Republic\",\"Chad\",\"Chile\",\"China\",\"Colombia\",\"Cyprus\",\"Czech Republic\",\"Democratic Republic of the Congo\",\"Denmark\",\"Ecuador\",\"Egypt\",\"Ethiopia\",\"Finland\",\"France\",\"Georgia\",\"Germany\",\"Ghana\",\"Greece\",\"Guinea\",\"Guyana\",\"Haiti\",\"Honduras\",\"Hungary\",\"India\",\"Indonesia\",\"Iran\",\"Iraq\",\"Ireland\",\"Israel\",\"Italy\",\"Ivory Coast\",\"Japan\",\"Jordan\",\"Kazakhstan\",\"Kenya\",\"Kosovo\",\"Kuwait\",\"Kyrgyzstan\",\"Laos\",\"Lebanon\",\"Libya\",\"Madagascar\",\"Malaysia\",\"Maldives\",\"Mali\",\"Mexico\",\"Moldova\",\"Mozambique\",\"Myanmar\",\"Nepal\",\"Netherlands\",\"New Zealand\",\"Niger\",\"Nigeria\",\"Pakistan\",\"Panama\",\"Paraguay\",\"Peru\",\"Philippines\",\"Poland\",\"Republic of the Congo\",\"Russia\",\"Rwanda\",\"Saudi Arabia\",\"Sierra Leone\",\"Slovak Republic\",\"Somalia\",\"South Africa\",\"South Korea\",\"South Sudan\",\"Spain\",\"Sri Lanka\",\"Sudan\",\"Sweden\",\"Switzerland\",\"Syria\",\"Taiwan\",\"Tajikistan\",\"Tanzania\",\"Thailand\",\"Tunisia\",\"Turkey\",\"Uganda\",\"Ukraine\",\"United Kingdom\",\"United States\",\"Uruguay\",\"Venezuela\",\"West Bank and Gaza Strip\",\"Yemen\"],\"locationmode\":\"country names\",\"locations\":[\"Afghanistan\",\"Albania\",\"Algeria\",\"Angola\",\"Argentina\",\"Armenia\",\"Australia\",\"Austria\",\"Azerbaijan\",\"Bahrain\",\"Bangladesh\",\"Belgium\",\"Brazil\",\"Bulgaria\",\"Burkina Faso\",\"Burundi\",\"Cameroon\",\"Canada\",\"Central African Republic\",\"Chad\",\"Chile\",\"China\",\"Colombia\",\"Cyprus\",\"Czech Republic\",\"Democratic Republic of the Congo\",\"Denmark\",\"Ecuador\",\"Egypt\",\"Ethiopia\",\"Finland\",\"France\",\"Georgia\",\"Germany\",\"Ghana\",\"Greece\",\"Guinea\",\"Guyana\",\"Haiti\",\"Honduras\",\"Hungary\",\"India\",\"Indonesia\",\"Iran\",\"Iraq\",\"Ireland\",\"Israel\",\"Italy\",\"Ivory Coast\",\"Japan\",\"Jordan\",\"Kazakhstan\",\"Kenya\",\"Kosovo\",\"Kuwait\",\"Kyrgyzstan\",\"Laos\",\"Lebanon\",\"Libya\",\"Madagascar\",\"Malaysia\",\"Maldives\",\"Mali\",\"Mexico\",\"Moldova\",\"Mozambique\",\"Myanmar\",\"Nepal\",\"Netherlands\",\"New Zealand\",\"Niger\",\"Nigeria\",\"Pakistan\",\"Panama\",\"Paraguay\",\"Peru\",\"Philippines\",\"Poland\",\"Republic of the Congo\",\"Russia\",\"Rwanda\",\"Saudi Arabia\",\"Sierra Leone\",\"Slovak Republic\",\"Somalia\",\"South Africa\",\"South Korea\",\"South Sudan\",\"Spain\",\"Sri Lanka\",\"Sudan\",\"Sweden\",\"Switzerland\",\"Syria\",\"Taiwan\",\"Tajikistan\",\"Tanzania\",\"Thailand\",\"Tunisia\",\"Turkey\",\"Uganda\",\"Ukraine\",\"United Kingdom\",\"United States\",\"Uruguay\",\"Venezuela\",\"West Bank and Gaza Strip\",\"Yemen\"],\"name\":\"\",\"type\":\"choropleth\",\"z\":[1617,2,9,2,2,2,9,3,2,3,88,6,2,1,10,83,56,6,38,5,18,5,109,2,2,169,1,2,376,13,3,26,4,44,1,31,1,1,1,1,1,1025,19,10,3360,15,50,11,1,1,9,3,65,8,2,4,4,41,422,1,19,1,99,5,1,79,74,43,6,1,25,533,864,1,15,3,632,2,15,55,1,124,1,1,602,27,1,59,3,1,173,16,1,473,1,2,3,329,12,542,15,61,105,64,1,6,157,525]}],\"name\":\"2016\"},{\"data\":[{\"coloraxis\":\"coloraxis\",\"geo\":\"geo\",\"hovertemplate\":\"<b>%{hovertext}</b><br><br>year=2017<br>country=%{location}<br>attacks=%{z}<extra></extra>\",\"hovertext\":[\"Afghanistan\",\"Albania\",\"Algeria\",\"Angola\",\"Argentina\",\"Australia\",\"Austria\",\"Azerbaijan\",\"Bahrain\",\"Bangladesh\",\"Belgium\",\"Brazil\",\"Burkina Faso\",\"Burundi\",\"Cameroon\",\"Canada\",\"Central African Republic\",\"Chad\",\"Chile\",\"China\",\"Colombia\",\"Czech Republic\",\"Democratic Republic of the Congo\",\"Djibouti\",\"Dominican Republic\",\"Ecuador\",\"Egypt\",\"Ethiopia\",\"Finland\",\"France\",\"Gabon\",\"Georgia\",\"Germany\",\"Greece\",\"Honduras\",\"India\",\"Indonesia\",\"Iran\",\"Iraq\",\"Ireland\",\"Israel\",\"Italy\",\"Ivory Coast\",\"Jamaica\",\"Jordan\",\"Kenya\",\"Kosovo\",\"Kyrgyzstan\",\"Laos\",\"Latvia\",\"Lebanon\",\"Liberia\",\"Libya\",\"Macedonia\",\"Malawi\",\"Malaysia\",\"Maldives\",\"Mali\",\"Malta\",\"Mexico\",\"Mozambique\",\"Myanmar\",\"Nepal\",\"Netherlands\",\"Niger\",\"Nigeria\",\"Norway\",\"Pakistan\",\"Papua New Guinea\",\"Paraguay\",\"Peru\",\"Philippines\",\"Poland\",\"Russia\",\"Rwanda\",\"Saudi Arabia\",\"Serbia\",\"Sierra Leone\",\"Somalia\",\"South Africa\",\"South Sudan\",\"Spain\",\"Sri Lanka\",\"Sudan\",\"Sweden\",\"Syria\",\"Taiwan\",\"Tajikistan\",\"Tanzania\",\"Thailand\",\"Tunisia\",\"Turkey\",\"Uganda\",\"Ukraine\",\"United Kingdom\",\"United States\",\"Venezuela\",\"Vietnam\",\"West Bank and Gaza Strip\",\"Yemen\",\"Zambia\",\"Zimbabwe\"],\"locationmode\":\"country names\",\"locations\":[\"Afghanistan\",\"Albania\",\"Algeria\",\"Angola\",\"Argentina\",\"Australia\",\"Austria\",\"Azerbaijan\",\"Bahrain\",\"Bangladesh\",\"Belgium\",\"Brazil\",\"Burkina Faso\",\"Burundi\",\"Cameroon\",\"Canada\",\"Central African Republic\",\"Chad\",\"Chile\",\"China\",\"Colombia\",\"Czech Republic\",\"Democratic Republic of the Congo\",\"Djibouti\",\"Dominican Republic\",\"Ecuador\",\"Egypt\",\"Ethiopia\",\"Finland\",\"France\",\"Gabon\",\"Georgia\",\"Germany\",\"Greece\",\"Honduras\",\"India\",\"Indonesia\",\"Iran\",\"Iraq\",\"Ireland\",\"Israel\",\"Italy\",\"Ivory Coast\",\"Jamaica\",\"Jordan\",\"Kenya\",\"Kosovo\",\"Kyrgyzstan\",\"Laos\",\"Latvia\",\"Lebanon\",\"Liberia\",\"Libya\",\"Macedonia\",\"Malawi\",\"Malaysia\",\"Maldives\",\"Mali\",\"Malta\",\"Mexico\",\"Mozambique\",\"Myanmar\",\"Nepal\",\"Netherlands\",\"Niger\",\"Nigeria\",\"Norway\",\"Pakistan\",\"Papua New Guinea\",\"Paraguay\",\"Peru\",\"Philippines\",\"Poland\",\"Russia\",\"Rwanda\",\"Saudi Arabia\",\"Serbia\",\"Sierra Leone\",\"Somalia\",\"South Africa\",\"South Sudan\",\"Spain\",\"Sri Lanka\",\"Sudan\",\"Sweden\",\"Syria\",\"Taiwan\",\"Tajikistan\",\"Tanzania\",\"Thailand\",\"Tunisia\",\"Turkey\",\"Uganda\",\"Ukraine\",\"United Kingdom\",\"United States\",\"Venezuela\",\"Vietnam\",\"West Bank and Gaza Strip\",\"Yemen\",\"Zambia\",\"Zimbabwe\"],\"name\":\"\",\"type\":\"choropleth\",\"z\":[1414,1,14,6,3,4,1,2,21,41,3,2,32,21,94,12,43,6,12,6,117,3,143,1,1,3,224,27,2,41,4,1,27,43,1,966,27,11,2466,17,32,8,13,2,8,97,8,2,1,1,23,1,190,1,1,4,2,141,3,20,11,115,247,1,13,484,1,719,8,10,8,692,1,33,2,54,1,3,614,29,54,4,41,106,18,243,1,2,6,179,4,181,13,61,122,65,17,2,83,226,2,3]}],\"name\":\"2017\"}]);\n",
              "                        }).then(function(){\n",
              "                            \n",
              "var gd = document.getElementById('62366219-00a1-470e-b37d-dfd21220d53e');\n",
              "var x = new MutationObserver(function (mutations, observer) {{\n",
              "        var display = window.getComputedStyle(gd).display;\n",
              "        if (!display || display === 'none') {{\n",
              "            console.log([gd, 'removed!']);\n",
              "            Plotly.purge(gd);\n",
              "            observer.disconnect();\n",
              "        }}\n",
              "}});\n",
              "\n",
              "// Listen for the removal of the full notebook cells\n",
              "var notebookContainer = gd.closest('#notebook-container');\n",
              "if (notebookContainer) {{\n",
              "    x.observe(notebookContainer, {childList: true});\n",
              "}}\n",
              "\n",
              "// Listen for the clearing of the current output cell\n",
              "var outputEl = gd.closest('.output');\n",
              "if (outputEl) {{\n",
              "    x.observe(outputEl, {childList: true});\n",
              "}}\n",
              "\n",
              "                        })                };                            </script>        </div>\n",
              "</body>\n",
              "</html>"
            ]
          },
          "metadata": {}
        },
        {
          "output_type": "stream",
          "name": "stdout",
          "text": [
            "following is an interactive tree map. Click on a region to break it down to countries and further down to states.\n"
          ]
        },
        {
          "output_type": "display_data",
          "data": {
            "text/html": [
              "<html>\n",
              "<head><meta charset=\"utf-8\" /></head>\n",
              "<body>\n",
              "    <div>            <script src=\"https://cdnjs.cloudflare.com/ajax/libs/mathjax/2.7.5/MathJax.js?config=TeX-AMS-MML_SVG\"></script><script type=\"text/javascript\">if (window.MathJax) {MathJax.Hub.Config({SVG: {font: \"STIX-Web\"}});}</script>                <script type=\"text/javascript\">window.PlotlyConfig = {MathJaxConfig: 'local'};</script>\n",
              "        <script src=\"https://cdn.plot.ly/plotly-2.4.2.min.js\"></script>                <div id=\"1ada838e-867b-4820-b62c-a8ef412e33ea\" class=\"plotly-graph-div\" style=\"height:525px; width:100%;\"></div>            <script type=\"text/javascript\">                                    window.PLOTLYENV=window.PLOTLYENV || {};                                    if (document.getElementById(\"1ada838e-867b-4820-b62c-a8ef412e33ea\")) {                    Plotly.newPlot(                        \"1ada838e-867b-4820-b62c-a8ef412e33ea\",                        [{\"branchvalues\":\"total\",\"domain\":{\"x\":[0.0,1.0],\"y\":[0.0,1.0]},\"hovertemplate\":\"labels=%{label}<br>casuality=%{value}<br>parent=%{parent}<br>id=%{id}<extra></extra>\",\"ids\":[\"Central Asia/Tajikistan/(Region) of Republican Subordination (Province)\",\"Eastern Europe/Russia/(Republic of) Ingushetia\",\"Western Europe/Spain/A Coruna\",\"Western Europe/Switzerland/Aargau\",\"Sub-Saharan Africa/Nigeria/Abia\",\"Central Asia/Georgia/Abkhazia\",\"Central Asia/Georgia/Abkhazia (Autonomous Region)\",\"Central Asia/Georgia/Abkhazia (Autonomous Republic)\",\"Central Asia/Georgia/Abkhazia (Region)\",\"Southeast Asia/Philippines/Abra\",\"Western Europe/Italy/Abruzzo\",\"Middle East & North Africa/United Arab Emirates/Abu Dhabi\",\"Sub-Saharan Africa/Nigeria/Abuja\",\"Middle East & North Africa/Yemen/Abyan\",\"North America/Mexico/Acapulco\",\"Southeast Asia/Indonesia/Aceh\",\"Southeast Asia/Indonesia/Aceh (Province)\",\"Southeast Asia/Indonesia/Aceh (Special Territory)\",\"Southeast Asia/Indonesia/Aceh Besar (Province)\",\"Southeast Asia/Indonesia/Aceh province\",\"South America/Brazil/Acre\",\"Middle East & North Africa/Yemen/Ad Dali\",\"Sub-Saharan Africa/Cameroon/Adamawa\",\"Sub-Saharan Africa/Nigeria/Adamawa\",\"Middle East & North Africa/South Yemen/Adan\",\"Middle East & North Africa/Yemen/Adan\",\"Middle East & North Africa/Turkey/Adana\",\"Sub-Saharan Africa/Ethiopia/Addis Ababa\",\"Middle East & North Africa/Turkey/Adiyaman\",\"Central Asia/Georgia/Adjara\",\"Sub-Saharan Africa/Ethiopia/Afar\",\"Sub-Saharan Africa/Niger/Agadez\",\"Sub-Saharan Africa/Niger/Agadez (Department)\",\"Sub-Saharan Africa/Niger/Agadez (Region)\",\"Sub-Saharan Africa/Niger/Agadez Department\",\"Sub-Saharan Africa/Ivory Coast/Agneby\",\"Middle East & North Africa/Turkey/Agri\",\"Southeast Asia/Philippines/Aguasan Del Sur\",\"North America/Mexico/Aguascalientes\",\"Southeast Asia/Philippines/Agusan del Norte\",\"Southeast Asia/Philippines/Agusan del Sur\",\"Middle East & North Africa/Kuwait/Ahmadi\",\"Central America & Caribbean/El Salvador/Ahuachapan\",\"East Asia/Japan/Aichi\",\"East Asia/Japan/Aichi (Prefecture)\",\"Middle East & North Africa/Algeria/Ain Defla\",\"Middle East & North Africa/Algeria/Ain Defla (Province)\",\"Middle East & North Africa/Algeria/Ain Defla Province\",\"Middle East & North Africa/Algeria/Ain Tecmouchent\",\"Middle East & North Africa/Algeria/Ain Temouchent\",\"Middle East & North Africa/Algeria/Ain Temouchent (Province)\",\"Central Asia/Georgia/Ajaria (Autonomous Republic)\",\"Western Europe/Norway/Akershus\",\"East Asia/Japan/Akita\",\"Southeast Asia/Philippines/Aklan\",\"Central Asia/Kazakhstan/Akmola\",\"Central Asia/Kazakhstan/Aktobe\",\"Sub-Saharan Africa/Nigeria/Akwa Ibom\",\"Middle East & North Africa/Iraq/Al Anbar\",\"Middle East & North Africa/Yemen/Al Bayda\",\"Middle East & North Africa/Syria/Al Hasakah\",\"Middle East & North Africa/Yemen/Al Hudaydah\",\"Middle East & North Africa/Egypt/Al Iskandariyah (Alexandria)\",\"Middle East & North Africa/Yemen/Al Jawf\",\"Middle East & North Africa/Egypt/Al Minya (Governorate)\",\"Middle East & North Africa/Iraq/Al Qadisiyah\",\"Middle East & North Africa/Egypt/Al Qahirah (Cairo)\",\"Middle East & North Africa/Egypt/Al Qahirah (Governorate)\",\"Middle East & North Africa/Egypt/Al Sharqia\",\"Sub-Saharan Africa/Sudan/Al Wahdah\",\"North America/United States/Alabama\",\"South America/Brazil/Alagoas\",\"Central America & Caribbean/Costa Rica/Alajuela\",\"Central America & Caribbean/Nicaragua/Alajuela\",\"North America/United States/Alaska\",\"Western Europe/Spain/Alava\",\"Southeast Asia/Philippines/Albay\",\"North America/Canada/Alberta\",\"North America/Canada/Alberta (Province)\",\"Middle East & North Africa/Iran/Alborz\",\"Middle East & North Africa/Syria/Aleppo\",\"Middle East & North Africa/Egypt/Alexandria\",\"Middle East & North Africa/Egypt/Alexandria (Governorate)\",\"Western Europe/Portugal/Algarve\",\"Middle East & North Africa/Algeria/Alger\",\"Middle East & North Africa/Algeria/Algiers\",\"Middle East & North Africa/Algeria/Algiers (Province)\",\"Middle East & North Africa/Algeria/Algiers Province\",\"Sub-Saharan Africa/Djibouti/Ali Sabieh\",\"South Asia/Maldives/Alif Dhaalu\",\"Central Asia/Kazakhstan/Almaty\",\"Central Asia/Kazakhstan/Almaty (Municipal District)\",\"Central Asia/Kazakhstan/Almaty Province\",\"Western Europe/France/Alpes-Maritimes\",\"Western Europe/France/Alsace\",\"Central America & Caribbean/Guatemala/Alta Verapaz\",\"Eastern Europe/Russia/Altai\",\"South America/Paraguay/Alto Paraguay\",\"South America/Paraguay/Alto Parana\",\"Sub-Saharan Africa/South Sudan/Amadi\",\"South America/Paraguay/Amambay\",\"Middle East & North Africa/North Yemen/Amanat Al Asimah\",\"Middle East & North Africa/Yemen/Amanat Al Asimah\",\"Middle East & North Africa/Turkey/Amasya\",\"South America/Brazil/Amazonas\",\"South America/Colombia/Amazonas\",\"South America/Peru/Amazonas\",\"South America/Venezuela/Amazonas\",\"Southeast Asia/Indonesia/Ambon (Province)\",\"Middle East & North Africa/Algeria/Amdjoudh Massif\",\"Sub-Saharan Africa/Ethiopia/Amhara\",\"Middle East & North Africa/Jordan/Amman\",\"Middle East & North Africa/Yemen/Amran\",\"Eastern Europe/Russia/Amur\",\"Middle East & North Africa/Lebanon/An Nabatiyah\",\"Sub-Saharan Africa/Madagascar/Analamanga\",\"Sub-Saharan Africa/Nigeria/Anambra\",\"South America/Peru/Ancash\",\"Western Europe/Spain/Andalusia\",\"South Asia/India/Andhra Pradesh\",\"South Asia/India/Andhra pradesh\",\"Central Asia/Uzbekistan/Andijon\",\"Central Asia/Uzbekistan/Andijon (Province)\",\"Eastern Europe/Moldova/Anenii Noi\",\"Middle East & North Africa/Turkey/Ankara\",\"Middle East & North Africa/Algeria/Annaba\",\"Middle East & North Africa/Algeria/Annaba (Province)\",\"Middle East & North Africa/Turkey/Antalya\",\"Sub-Saharan Africa/Madagascar/Antananarivo\",\"South America/Colombia/Antioquia\",\"Southeast Asia/Philippines/Antique\",\"Sub-Saharan Africa/Madagascar/Antisiranana\",\"South America/Chile/Antofagasta\",\"Sub-Saharan Africa/Madagascar/Antsiranana\",\"South America/Venezuela/Anzoategui\",\"Middle East & North Africa/Algeria/Aomar (Province)\",\"Middle East & North Africa/Algeria/Aomar (Region)\",\"Western Europe/Italy/Aosta\",\"Southeast Asia/Philippines/Apayao\",\"Western Europe/Italy/Apulia\",\"South America/Venezuela/Apure\",\"South America/Peru/Apurimac\",\"Middle East & North Africa/Jordan/Aqaba\",\"Central Asia/Kazakhstan/Aqmola\",\"Western Europe/France/Aquitaine\",\"Middle East & North Africa/Syria/Ar Raqqah\",\"Middle East & North Africa/Qatar/Ar Rayyan\",\"Eastern Europe/Macedonia/Aracinovo (Municipality)\",\"Western Europe/Spain/Aragon\",\"South America/Venezuela/Aragua\",\"South America/Colombia/Arauca\",\"South America/Chile/Araucania\",\"South America/Chile/Arauco\",\"Middle East & North Africa/Iraq/Arbil\",\"Middle East & North Africa/Turkey/Ardahan\",\"South America/Colombia/Arequipa\",\"South America/Peru/Arequipa\",\"South America/Chile/Arica and Parinacota\",\"North America/United States/Arizona\",\"North America/United States/Arkansas\",\"Eastern Europe/Russia/Arkhangelsk\",\"Eastern Europe/Russia/Arkhangelsk (Oblast)\",\"Eastern Europe/Soviet Union/Armenia\",\"Central America & Caribbean/Haiti/Artibonite\",\"Central America & Caribbean/Haiti/Artibonite (Department)\",\"Central Asia/Armenia/Artik\",\"Middle East & North Africa/Turkey/Artvin\",\"South Asia/India/Arunachal Pradesh\",\"Sub-Saharan Africa/Tanzania/Arusha\",\"Middle East & North Africa/Syria/As Suwayda\",\"Sub-Saharan Africa/Ghana/Ashanti\",\"Central Asia/Turkmenistan/Ashgabat\",\"Middle East & North Africa/Kuwait/Asimah\",\"Middle East & North Africa/Saudi Arabia/Asir\",\"Sub-Saharan Africa/Ethiopia/Asmara\",\"South Asia/India/Assam\",\"Eastern Europe/Russia/Astrakhan\",\"Eastern Europe/Russia/Astrakhan (Federal Subject)\",\"Eastern Europe/Russia/Astrakhan (Oblast)\",\"Western Europe/Spain/Asturias\",\"South America/Paraguay/Asuncion\",\"Middle East & North Africa/Egypt/Aswan\",\"Middle East & North Africa/Egypt/Asyut\",\"Middle East & North Africa/Iraq/At Tamim\",\"South America/Chile/Atacama\",\"Sub-Saharan Africa/Benin/Atacora\",\"South America/Colombia/Atlantico\",\"Central America & Caribbean/Nicaragua/Atlantico Norte\",\"Central America & Caribbean/Nicaragua/Atlantico Norte (Department)\",\"Central America & Caribbean/Nicaragua/Atlantico Sur\",\"Central America & Caribbean/Honduras/Atlantida\",\"Southeast Asia/East Timor/Atsabe (District)\",\"Western Europe/Greece/Attica\",\"Central Asia/Kazakhstan/Atyrau\",\"Australasia & Oceania/New Zealand/Auckland\",\"Australasia & Oceania/New Zealand/Auckland (Territory)\",\"Western Europe/France/Aude\",\"Southeast Asia/Philippines/Aurora\",\"Australasia & Oceania/Australia/Australian Capital Territory\",\"Western Europe/France/Auvergne\",\"Western Europe/France/Auvergne-Rhone-Alpes\",\"Sub-Saharan Africa/Somalia/Awdal\",\"South America/Peru/Ayacucho\",\"Middle East & North Africa/Turkey/Aydin\",\"Southeast Asia/Myanmar/Ayeyarwady\",\"South America/Chile/Aysen\",\"Southeast Asia/Thailand/Ayutthaya\",\"South Asia/Pakistan/Azad Kashmir\",\"Eastern Europe/Soviet Union/Azerbaijan\",\"Western Europe/Portugal/Azores\",\"South America/Ecuador/Azuay\",\"Middle East & North Africa/Algeria/A\\u00efn Defla\",\"Middle East & North Africa/Algeria/A\\u00efn Defla (Province)\",\"Australasia & Oceania/Fiji/Ba\",\"Australasia & Oceania/Fiji/Ba (Province)\",\"Middle East & North Africa/Iran/Babil\",\"Middle East & North Africa/Iraq/Babil\",\"South Asia/Afghanistan/Badakhshan\",\"Western Europe/Germany/Baden-Wurttemberg\",\"Western Europe/West Germany (FRG)/Baden-Wurttemberg\",\"South Asia/Afghanistan/Badghis\",\"Middle East & North Africa/Iran/Baghdad\",\"Middle East & North Africa/Iraq/Baghdad\",\"South Asia/Afghanistan/Baghlan\",\"Southeast Asia/Myanmar/Bago\",\"Southeast Asia/Myanmar/Bago (Division)\",\"Southeast Asia/Myanmar/Bago (Pegu)\",\"South America/Brazil/Bahia\",\"North America/Mexico/Baja California\",\"North America/Mexico/Baja California Sur\",\"Central America & Caribbean/Guatemala/Baja Verapaz\",\"Sub-Saharan Africa/Somalia/Bakool\",\"Central Asia/Azerbaijan/Baku\",\"Central Asia/Azerbaijan/Baku (City)\",\"Western Europe/Spain/Balearic Islands\",\"Southeast Asia/Indonesia/Bali (Province)\",\"Middle East & North Africa/Turkey/Balikesir\",\"South Asia/Afghanistan/Balkh\",\"South Asia/Pakistan/Balochistan\",\"Middle East & North Africa/Jordan/Balqa\",\"Sub-Saharan Africa/Mali/Bamako\",\"Sub-Saharan Africa/Central African Republic/Bamingui-Bangoran\",\"South Asia/Afghanistan/Bamyan\",\"Sub-Saharan Africa/Somalia/Banaadir\",\"Sub-Saharan Africa/Democratic Republic of the Congo/Bandundu\",\"Southeast Asia/Thailand/Bangkok\",\"Southeast Asia/Thailand/Bangkok ( District )\",\"Southeast Asia/Thailand/Bangkok (District)\",\"Southeast Asia/Thailand/Bangkok Province\",\"Sub-Saharan Africa/Central African Republic/Bangui\",\"Sub-Saharan Africa/Gambia/Banjul\",\"Eastern Europe/Slovak Republic/Banska Bystrica\",\"Southeast Asia/Cambodia/Banteay Meanchey\",\"Southeast Asia/Indonesia/Banten\",\"Southeast Asia/Indonesia/Banten (Province)\",\"Central America & Caribbean/Dominican Republic/Baoruco\",\"Central America & Caribbean/Dominican Republic/Barahona\",\"Western Europe/Spain/Barcelona\",\"Sub-Saharan Africa/Somalia/Bari\",\"South America/Guyana/Barima-Waini\",\"South America/Venezuela/Barinas\",\"South Asia/Bangladesh/Barisal\",\"Middle East & North Africa/Turkey/Bartin\",\"Sub-Saharan Africa/Democratic Republic of the Congo/Bas-Congo\",\"Sub-Saharan Africa/Zaire/Bas-Congo\",\"Western Europe/France/Bas-Rhin\",\"Sub-Saharan Africa/Ivory Coast/Bas-Sassandra\",\"Sub-Saharan Africa/Democratic Republic of the Congo/Bas-Uele\",\"Western Europe/Switzerland/Basel-Stadt\",\"Southeast Asia/Philippines/Basilan\",\"Western Europe/Italy/Basilicata\",\"Eastern Europe/Russia/Baskortostan\",\"Western Europe/Spain/Basque Country\",\"Middle East & North Africa/Iraq/Basra\",\"Middle East & North Africa/Kuwait/Basra\",\"Sub-Saharan Africa/Central African Republic/Basse-Kotto\",\"Central America & Caribbean/Guadeloupe/Basse-Terre\",\"Southeast Asia/Philippines/Bataan\",\"Southeast Asia/Philippines/Batangas\",\"Central Asia/Kyrgyzstan/Batken\",\"Central Asia/Kyrgyzstan/Batken (Oblast)\",\"Central Asia/Kyrgyzstan/Batken (Province)\",\"Middle East & North Africa/Turkey/Batman\",\"Middle East & North Africa/Algeria/Batna\",\"Middle East & North Africa/Algeria/Batna (Province)\",\"Middle East & North Africa/Algeria/Batna Province\",\"Southeast Asia/Cambodia/Battambang\",\"Southeast Asia/Cambodia/Battambang (Province)\",\"Southeast Asia/Cambodia/Battmabang\",\"Sub-Saharan Africa/Nigeria/Bauchi\",\"Western Europe/Germany/Bavaria\",\"Western Europe/West Germany (FRG)/Bavaria\",\"Sub-Saharan Africa/Somalia/Bay\",\"Australasia & Oceania/New Zealand/Bay of Plenty\",\"Sub-Saharan Africa/Nigeria/Bayelsa\",\"Middle East & North Africa/Algeria/Bechar\",\"Middle East & North Africa/Algeria/Bechar (Province)\",\"Middle East & North Africa/Algeria/Bechar (Region)\",\"Middle East & North Africa/Egypt/Beheira\",\"Middle East & North Africa/Algeria/Beijaia\",\"East Asia/China/Beijing\",\"East Asia/China/Beijing (Municipality)\",\"Middle East & North Africa/Lebanon/Beirut\",\"Western Europe/Portugal/Beja\",\"Middle East & North Africa/Tunisia/Beja\",\"Middle East & North Africa/Algeria/Bejaia\",\"Middle East & North Africa/Algeria/Bejaia (Province)\",\"Southeast Asia/Brunei/Belait\",\"Eastern Europe/Serbia/Belgrade\",\"Eastern Europe/Serbia-Montenegro/Belgrade\",\"Eastern Europe/Yugoslavia/Belgrade\",\"Eastern Europe/Serbia-Montenegro/Belgrade (Autonomous Territory)\",\"Eastern Europe/Serbia-Montenegro/Belgrade (District)\",\"Eastern Europe/Yugoslavia/Belgrade (District)\",\"Central America & Caribbean/Belize/Belize\",\"Middle East & North Africa/Tunisia/Ben Arous\",\"Eastern Europe/Moldova/Bender\",\"Middle East & North Africa/Libya/Benghazi\",\"Sub-Saharan Africa/Angola/Bengo\",\"Sub-Saharan Africa/Angola/Benguela\",\"Southeast Asia/Philippines/Benguet\",\"South America/Bolivia/Beni\",\"Middle East & North Africa/Egypt/Beni Suef\",\"Sub-Saharan Africa/Ethiopia/Benishangul-Gumuz\",\"Sub-Saharan Africa/Nigeria/Benue\",\"Middle East & North Africa/Israel/Beqaa\",\"Middle East & North Africa/Lebanon/Beqaa\",\"Eastern Europe/Montenegro/Berane\",\"Middle East & North Africa/Algeria/Berber (Province)\",\"Sub-Saharan Africa/Lesotho/Berea\",\"Eastern Europe/East Germany (GDR)/Berlin\",\"Western Europe/Germany/Berlin\",\"Western Europe/West Germany (FRG)/Berlin\",\"Western Europe/Switzerland/Bern\",\"Southeast Asia/Thailand/Betong\",\"Southeast Asia/Philippines/Bicol\",\"Sub-Saharan Africa/Angola/Bie\",\"South Asia/India/Bihar\",\"Southeast Asia/Philippines/Biliran\",\"Central America & Caribbean/Bahamas/Bimini\",\"Middle East & North Africa/Turkey/Bingol\",\"South America/Chile/Bio Bio\",\"South America/Chile/Bio-Bio\",\"Sub-Saharan Africa/Equatorial Guinea/Bioko Norte\",\"Middle East & North Africa/Algeria/Bir H'mam\",\"Middle East & North Africa/Algeria/Bir Mourad Rais (Province)\",\"Western Europe/Spain/Biscay\",\"Central Asia/Kyrgyzstan/Bishkek\",\"Central Asia/Kyrgyzstan/Bishkek (Capital City)\",\"Central Asia/Kyrgyzstan/Bishkek (Province)\",\"Middle East & North Africa/Algeria/Biskra\",\"Middle East & North Africa/Algeria/Biskra (Province)\",\"Middle East & North Africa/Algeria/Biskra Province\",\"Sub-Saharan Africa/Guinea-Bissau/Bissau\",\"Middle East & North Africa/Turkey/Bitlis\",\"Middle East & North Africa/Tunisia/Bizerte\",\"Eastern Europe/Bulgaria/Blagoevgrad\",\"Middle East & North Africa/Algeria/Blida\",\"Middle East & North Africa/Algeria/Blida (Province)\",\"Middle East & North Africa/Algeria/Blida Province\",\"Middle East & North Africa/Algeria/Blidu (Province)\",\"Sub-Saharan Africa/Sudan/Blue Nile\",\"Central America & Caribbean/Nicaragua/Boaco\",\"Southeast Asia/East Timor/Bobonaro (District)\",\"Southeast Asia/Indonesia/Bobonaro (District)\",\"South America/Colombia/Bogota\",\"Southeast Asia/Philippines/Bohol\",\"South America/Colombia/Bolivar\",\"South America/Venezuela/Bolivar\",\"Sub-Saharan Africa/South Sudan/Boma\",\"Sub-Saharan Africa/Liberia/Bomi\",\"Sub-Saharan Africa/Liberia/Bong\",\"Sub-Saharan Africa/South Africa/Bophutatswana\",\"Middle East & North Africa/Algeria/Bordj Bou Arreridj\",\"Middle East & North Africa/Algeria/Bordj Bou Arreridj Province\",\"Middle East & North Africa/Algeria/Bordj Bou Arr\\u00e9ridj\",\"Middle East & North Africa/Algeria/Bordj Bour Arreridj\",\"Sub-Saharan Africa/Chad/Borkou\",\"Sub-Saharan Africa/Nigeria/Borno\",\"Eastern Europe/Bosnia-Herzegovina/Bosanska Krajina (Region)\",\"Eastern Europe/Bosnia-Herzegovina/Bosnia and Herzegovina (Federation)\",\"Eastern Europe/Yugoslavia/Bosnia-Herzegovina\",\"Western Europe/France/Bouches-du-Rhone\",\"Sub-Saharan Africa/Burkina Faso/Boucle du Mouhoun\",\"Sub-Saharan Africa/Republic of the Congo/Bouenza\",\"Middle East & North Africa/Algeria/Boufarik (Province)\",\"Australasia & Oceania/Papua New Guinea/Bougainville\",\"Middle East & North Africa/Algeria/Bouira\",\"Middle East & North Africa/Algeria/Bouira (Province)\",\"Middle East & North Africa/Algeria/Bouira Province\",\"Middle East & North Africa/Algeria/Boumerdes\",\"Middle East & North Africa/Algeria/Boumerdes (Province)\",\"Middle East & North Africa/Algeria/Boumerdes Province\",\"Middle East & North Africa/Algeria/Boumerd\\u00e8s\",\"Middle East & North Africa/Algeria/Boumerd\\u00e8s (Province)\",\"Middle East & North Africa/Algeria/Boumerd\\u00e8s Province\",\"Middle East & North Africa/Algeria/Boumerd\\u00e9s (Province)\",\"Western Europe/France/Bourgogne-Franche-Comte\",\"Middle East & North Africa/Algeria/Boussaken (Province)\",\"Middle East & North Africa/Algeria/Bou\\u00efra Province\",\"South America/Colombia/Boyaca\",\"Western Europe/Portugal/Braganca\",\"Western Europe/Germany/Brandenburg\",\"Western Europe/West Germany (FRG)/Brandenburg\",\"Eastern Europe/Yugoslavia/Branicevo (District)\",\"Eastern Europe/Czechoslovakia/Bratislava\",\"Eastern Europe/Slovak Republic/Bratislava\",\"Eastern Europe/Slovak Republic/Bratislava (Region)\",\"Sub-Saharan Africa/People's Republic of the Congo/Brazzaville\",\"Sub-Saharan Africa/Republic of the Congo/Brazzaville\",\"Eastern Europe/Bosnia-Herzegovina/Brcko\",\"Western Europe/Germany/Bremen\",\"Western Europe/West Germany (FRG)/Bremen\",\"North America/Canada/British Colombia\",\"North America/Canada/British Colombia (Province)\",\"North America/Canada/British Columbia\",\"Western Europe/France/Brittany\",\"Eastern Europe/Croatia/Brod-Posavina\",\"South America/Suriname/Brokopondo\",\"Western Europe/Belgium/Brussels\",\"Sub-Saharan Africa/Burundi/Bubanza\",\"Eastern Europe/Romania/Bucharest\",\"Eastern Europe/Hungary/Budapest\",\"Eastern Europe/Hungary/Budapest (Capital City)\",\"South America/Argentina/Buenos Aires\",\"Eastern Europe/Serbia-Montenegro/Bujanovac (Municipality)\",\"Eastern Europe/Yugoslavia/Bujanovac (Municipality)\",\"Sub-Saharan Africa/Burundi/Bujumbura Mairie\",\"Sub-Saharan Africa/Burundi/Bujumbura Rural\",\"Southeast Asia/Philippines/Bukidnon\",\"Southeast Asia/Philippines/Bulacan\",\"Sub-Saharan Africa/Rhodesia/Bulawayo\",\"Sub-Saharan Africa/Zimbabwe/Bulawayo\",\"Sub-Saharan Africa/Kenya/Bungoma\",\"Middle East & North Africa/Turkey/Burdur\",\"Eastern Europe/Bulgaria/Burgas\",\"Western Europe/Austria/Burgenland\",\"Western Europe/Spain/Burgos\",\"Western Europe/France/Burgundy\",\"Middle East & North Africa/Turkey/Bursa\",\"Sub-Saharan Africa/Burundi/Bururi\",\"Eastern Europe/Russia/Buryatia\",\"East Asia/South Korea/Busan\",\"Western Europe/Norway/Buskerud\",\"Sub-Saharan Africa/Rwanda/Butare\",\"Sub-Saharan Africa/Lesotho/Butha-Buthe\",\"Middle East & North Africa/Libya/Butnan\",\"Sub-Saharan Africa/Rwanda/Byumba\",\"Middle East & North Africa/Algeria/B\\u00e9ja\\u00efa\",\"Middle East & North Africa/Algeria/B\\u00e9ja\\u00efa (Province)\",\"Middle East & North Africa/Algeria/B\\u00e9ja\\u00efa Province\",\"South America/Paraguay/Caaguazu\",\"South America/Paraguay/Caazapa\",\"South America/Venezuela/Cababobo\",\"Central America & Caribbean/El Salvador/Cabanas\",\"Central America & Caribbean/El Salvador/Caba\\u00f1as\",\"Sub-Saharan Africa/Angola/Cabinda\",\"Sub-Saharan Africa/People's Republic of the Congo/Cabinda\",\"Sub-Saharan Africa/Mozambique/Cabo Delgado\",\"Central America & Caribbean/Guatemala/Cabrican\",\"Sub-Saharan Africa/Guinea-Bissau/Cacheu\",\"Western Europe/Spain/Cadiz\",\"Southeast Asia/Philippines/Cagayan\",\"Middle East & North Africa/Egypt/Cairo\",\"Middle East & North Africa/Egypt/Cairo (Governorate)\",\"South America/Peru/Cajamarca\",\"Australasia & Oceania/Fiji/Cakaudrove\",\"Western Europe/Italy/Calabria\",\"South America/Colombia/Caldas\",\"North America/United States/California\",\"South America/Peru/Callao\",\"Southeast Asia/Philippines/Camarines Norte\",\"Southeast Asia/Philippines/Camarines Sur\",\"Southeast Asia/Philippines/Camiguin\",\"Western Europe/Italy/Campania\",\"Western Europe/Spain/Canary Islands\",\"South America/Colombia/Canindeyu\",\"South America/Paraguay/Canindeyu\",\"Middle East & North Africa/Turkey/Cankiri\",\"Sub-Saharan Africa/Burundi/Cankuzo\",\"Western Europe/Spain/Cantabria\",\"Australasia & Oceania/New Zealand/Canterbury\",\"Middle East & North Africa/Bahrain/Capital\",\"Western Europe/Denmark/Capital\",\"South America/Venezuela/Capital\",\"Western Europe/Iceland/Capital Region\",\"Southeast Asia/Philippines/Capiz\",\"Sub-Saharan Africa/Namibia/Caprivi\",\"South America/Colombia/Caqueta\",\"South America/Venezuela/Carabobo\",\"South America/Venezuela/Caracas\",\"Central America & Caribbean/Nicaragua/Carazo\",\"South America/Ecuador/Carchi\",\"Western Europe/Austria/Carinthia\",\"Western Europe/Ireland/Carlow\",\"Central America & Caribbean/Costa Rica/Cartago\",\"South America/Colombia/Casanare\",\"Western Europe/Portugal/Castelo Branco\",\"Western Europe/Spain/Castile and Leon\",\"Western Europe/Spain/Castile-La Mancha\",\"Central America & Caribbean/St. Lucia/Castries Quarter\",\"Western Europe/Spain/Catalonia\",\"South America/Argentina/Catamarca\",\"Southeast Asia/Philippines/Catanduanes\",\"South America/Colombia/Cauca\",\"Eastern Europe/Russia/Caucasus (Region)\",\"Eastern Europe/Moldova/Causeni\",\"Western Europe/Ireland/Cavan\",\"Southeast Asia/Philippines/Cavite\",\"South America/French Guiana/Cayenne\",\"Central America & Caribbean/Belize/Cayo\",\"South America/Brazil/Ceara\",\"Southeast Asia/Philippines/Cebu\",\"Australasia & Oceania/Fiji/Cental Division\",\"Western Europe/France/Center\",\"Middle East & North Africa/Bahrain/Central\",\"Sub-Saharan Africa/Cameroon/Central\",\"Sub-Saharan Africa/Ethiopia/Central\",\"Sub-Saharan Africa/Ghana/Central\",\"Middle East & North Africa/Israel/Central\",\"Sub-Saharan Africa/Kenya/Central\",\"Sub-Saharan Africa/Malawi/Central\",\"Western Europe/Malta/Central\",\"South Asia/Nepal/Central\",\"Australasia & Oceania/Papua New Guinea/Central\",\"South America/Paraguay/Central\",\"Eastern Europe/Russia/Central\",\"South Asia/Sri Lanka/Central\",\"Sub-Saharan Africa/Uganda/Central\",\"Australasia & Oceania/Fiji/Central (Division)\",\"Eastern Europe/Czech Republic/Central Bohemia\",\"Eastern Europe/Czech Republic/Central Bohemian Region\",\"Eastern Europe/Bosnia-Herzegovina/Central Bosnia\",\"Sub-Saharan Africa/Sudan/Central Darfur\",\"Central America & Caribbean/Honduras/Central District\",\"Australasia & Oceania/Fiji/Central Division\",\"Sub-Saharan Africa/South Sudan/Central Equatoria\",\"Sub-Saharan Africa/Sudan/Central Equatoria\",\"Western Europe/Finland/Central Finland\",\"Western Europe/Greece/Central Greece\",\"Southeast Asia/Indonesia/Central Java\",\"Southeast Asia/Indonesia/Central Java (Province)\",\"Western Europe/Denmark/Central Jutland\",\"Southeast Asia/Indonesia/Central Kalimantan\",\"Western Europe/Greece/Central Macedonia\",\"Southeast Asia/Indonesia/Central Maluku\",\"Eastern Europe/Serbia/Central Serbia\",\"Eastern Europe/Yugoslavia/Central Serbia\",\"Eastern Europe/Yugoslavia/Central Serbia (Region)\",\"Southeast Asia/Indonesia/Central Sulawesi\",\"Eastern Europe/Russia/Central Sulawesi\",\"Southeast Asia/Indonesia/Central Sulawesi (Province)\",\"Sub-Saharan Africa/South Sudan/Central Upper Nile\",\"Sub-Saharan Africa/Togo/Centrale\",\"Sub-Saharan Africa/Burkina Faso/Centre\",\"Central America & Caribbean/Haiti/Centre\",\"Central America & Caribbean/Haiti/Centre (Department)\",\"Sub-Saharan Africa/Burkina Faso/Centre-Nord\",\"Western Europe/France/Centre-Val de Loire\",\"South America/Colombia/Cesar\",\"Eastern Europe/Yugoslavia/Cetinje (Municipality)\",\"Middle East & North Africa/Morocco/Ceuta\",\"Western Europe/Spain/Ceuta\",\"Southeast Asia/Thailand/Chachoengsao\",\"South America/Argentina/Chaco\",\"Southeast Asia/Thailand/Chaing Mai (Province)\",\"Southeast Asia/Thailand/Chaiyaphum\",\"Central America & Caribbean/El Salvador/Chalatenango\",\"Western Europe/France/Champagne-Ardenne\",\"Southeast Asia/Laos/Champasak\",\"South Asia/India/Chandigarh\",\"Western Europe/France/Charente\",\"Eastern Europe/Russia/Chechen Republic\",\"Eastern Europe/Russia/Chechnya\",\"Eastern Europe/Russia/Chechnya (Federal District)\",\"Eastern Europe/Russia/Chechnya (Occupied Territory)\",\"Eastern Europe/Russia/Chechnya (Republic)\",\"Eastern Europe/Russia/Chelyabinsk\",\"Eastern Europe/Russia/Chelyabinsk (Oblast)\",\"Eastern Europe/Ukraine/Cherkasy\",\"Eastern Europe/Ukraine/Chernihiv\",\"Eastern Europe/Ukraine/Chernivtsi\",\"South Asia/India/Chhattisgarh\",\"South America/Chile/Chiaha\",\"Southeast Asia/Thailand/Chiang Mai\",\"Southeast Asia/Thailand/Chiang Rai\",\"Central America & Caribbean/Guatemala/Chiapas\",\"North America/Mexico/Chiapas\",\"East Asia/Japan/Chiba\",\"East Asia/Japan/Chiba (Prefecture)\",\"North America/Mexico/Chihuahua\",\"Central America & Caribbean/Guatemala/Chimaltenango\",\"South America/Ecuador/Chimborazo\",\"Southeast Asia/Myanmar/Chin\",\"Southeast Asia/Myanmar/Chin (State)\",\"Central America & Caribbean/Nicaragua/Chinandega\",\"Central America & Caribbean/Guatemala/Chiquimula\",\"Central America & Caribbean/Guatemala/Chiquimula (Department)\",\"Central America & Caribbean/Panama/Chiriqui\",\"Eastern Europe/Moldova/Chisinau\",\"Eastern Europe/Moldova/Chisinau (Municipality)\",\"Eastern Europe/Russia/Chita\",\"South Asia/Bangladesh/Chittagong\",\"Central Asia/Georgia/Chkhorotsku (District)\",\"Middle East & North Africa/Algeria/Chlef\",\"Middle East & North Africa/Algeria/Chlef  (Province)\",\"Middle East & North Africa/Algeria/Chlef (Province)\",\"Middle East & North Africa/Algeria/Chlef (Region)\",\"South America/Colombia/Choco\",\"Central America & Caribbean/Honduras/Choluteca\",\"Central America & Caribbean/Nicaragua/Choluteca\",\"Southeast Asia/Thailand/Chon Buri\",\"Southeast Asia/Thailand/Chonburi\",\"East Asia/China/Chongqing\",\"Central America & Caribbean/Nicaragua/Chontales\",\"Central America & Caribbean/Barbados/Christ Church\",\"South America/Argentina/Chubut\",\"South Asia/Bhutan/Chukha\",\"Southeast Asia/Thailand/Chumphon\",\"South America/Bolivia/Chuquisaca\",\"Central Asia/Kyrgyzstan/Chuy\",\"Central Asia/Kyrgyzstan/Chuy (Province)\",\"Central Asia/Kyrgyzstan/Chuy Province\",\"Sub-Saharan Africa/Burundi/Cibitoke\",\"Sub-Saharan Africa/South Africa/Ciskei\",\"Western Europe/Spain/Ciudad Real\",\"South America/Argentina/Ciudad de Buenos Aires\",\"Western Europe/Ireland/Clare\",\"North America/Mexico/Coahuila\",\"Sub-Saharan Africa/Kenya/Coast\",\"South America/Bolivia/Cochabamba\",\"Western Europe/Portugal/Coimbra\",\"South America/Venezuela/Cojedes\",\"Central America & Caribbean/Honduras/Colon\",\"Central America & Caribbean/Panama/Colon\",\"North America/United States/Colorado\",\"Central America & Caribbean/Honduras/Comayagua\",\"South America/Suriname/Commewyne\",\"Southeast Asia/Philippines/Compostela Valley\",\"Sub-Saharan Africa/Guinea/Conakry\",\"South America/Paraguay/Concepcion\",\"North America/United States/Connecticut\",\"Middle East & North Africa/Algeria/Constantine\",\"Middle East & North Africa/Algeria/Constantine (Province)\",\"Middle East & North Africa/Algeria/Constantine Province\",\"Central America & Caribbean/Honduras/Copan\",\"Sub-Saharan Africa/Zambia/Copperbelt\",\"South America/Chile/Coquimbo\",\"South America/Argentina/Cordoba\",\"South America/Colombia/Cordoba\",\"Western Europe/Spain/Cordoba\",\"Western Europe/Ireland/Cork\",\"South America/Suriname/Coronie\",\"South America/Argentina/Corrientes\",\"Western Europe/France/Corse-du-Sud\",\"Western Europe/France/Corsica\",\"Central America & Caribbean/Honduras/Cortes\",\"Central America & Caribbean/Honduras/Cort\\u00e9s\",\"Central America & Caribbean/Honduras/Cort\\u00e9s (Department)\",\"Middle East & North Africa/Turkey/Corum\",\"Western Europe/France/Cotes-d'Armor\",\"South America/Ecuador/Cotopaxi\",\"Southeast Asia/Indonesia/Cova-lima (District)\",\"Western Europe/Greece/Crete\",\"Eastern Europe/Ukraine/Crimea\",\"Eastern Europe/Yugoslavia/Crna Gora (Republic)\",\"Eastern Europe/Yugoslavia/Croatia\",\"Sub-Saharan Africa/Nigeria/Cross River\",\"Sub-Saharan Africa/Angola/Cuando Cubango\",\"Sub-Saharan Africa/Angola/Cuanza Norte\",\"Sub-Saharan Africa/Angola/Cuanza Sul\",\"South America/Colombia/Cundinamarca\",\"Sub-Saharan Africa/Angola/Cunene\",\"Central America & Caribbean/El Salvador/Cuscaltan\",\"Central America & Caribbean/El Salvador/Cuscatlan\",\"Central America & Caribbean/El Salvador/Cuscatl\\u00e1n\",\"South America/Peru/Cusco\",\"Sub-Saharan Africa/Republic of the Congo/Cuvette\",\"South America/Guyana/Cuyuni-Mazaruni\",\"Sub-Saharan Africa/Rwanda/Cyangugu\",\"East Asia/South Korea/Daegu\",\"Eastern Europe/Russia/Dagestan\",\"Eastern Europe/Soviet Union/Dagestan\",\"Eastern Europe/Russia/Dagestan (Oblast)\",\"Eastern Europe/Russia/Dagestan (Region)\",\"Eastern Europe/Russia/Dagestan (Republic)\",\"Eastern Europe/Russia/Daghestan (Republic)\",\"Middle East & North Africa/Algeria/Dahra (Region)\",\"Southeast Asia/Vietnam/Dak Lak (Province)\",\"Middle East & North Africa/Egypt/Dakahlia\",\"Sub-Saharan Africa/Senegal/Dakar\",\"Sub-Saharan Africa/Mauritania/Dakhlet Nouadhibou\",\"Eastern Europe/Kosovo/Dakovica\",\"Eastern Europe/Croatia/Dalmatia\",\"Middle East & North Africa/Syria/Damascus\",\"Middle East & North Africa/Egypt/Damietta\",\"Sub-Saharan Africa/Tanzania/Dar es Salaam\",\"Middle East & North Africa/Syria/Daraa\",\"Sub-Saharan Africa/Sudan/Darfur\",\"Central America & Caribbean/Panama/Darien\",\"Southeast Asia/Philippines/Davao\",\"Southeast Asia/Philippines/Davao Del Sur\",\"Southeast Asia/Philippines/Davao Occidental\",\"Southeast Asia/Philippines/Davao Oriental\",\"Southeast Asia/Philippines/Davao Region\",\"Southeast Asia/Philippines/Davao del Norte\",\"Southeast Asia/Philippines/Davao del Sur\",\"South Asia/Afghanistan/Daykundi\",\"Middle East & North Africa/Syria/Deir ez-Zor\",\"North America/United States/Delaware\",\"South Asia/India/Delhi\",\"Sub-Saharan Africa/Nigeria/Delta\",\"South America/Guyana/Demerara-Mahaica\",\"Middle East & North Africa/Turkey/Denizli\",\"Sub-Saharan Africa/Eritrea/Denkalia\",\"Middle East & North Africa/Libya/Derna\",\"South Asia/Bangladesh/Dhaka\",\"Middle East & North Africa/Yemen/Dhamar\",\"Middle East & North Africa/Iraq/Dhi Qar\",\"Eastern Europe/Albania/Diber\",\"Western Europe/Luxembourg/Diekirch\",\"Sub-Saharan Africa/Niger/Diffa\",\"Middle East & North Africa/Iraq/Dihok\",\"Sub-Saharan Africa/Djibouti/Dikhil\",\"Southeast Asia/East Timor/Dili ( District )\",\"Southeast Asia/East Timor/Dili (District)\",\"Southeast Asia/Indonesia/Dili (District)\",\"Sub-Saharan Africa/Ethiopia/Dire Dawa\",\"North America/United States/District of Columbia\",\"Eastern Europe/Kosovo/District of Kosovska Mitrovica\",\"Central Asia/Tajikistan/Districts of Republican Subordination\",\"North America/Mexico/Distrito Federal\",\"Central America & Caribbean/Dominican Republic/Distrito Nacional\",\"Middle East & North Africa/Iraq/Diyala\",\"Middle East & North Africa/Turkey/Diyarbakir\",\"Middle East & North Africa/Algeria/Djelfa\",\"Middle East & North Africa/Algeria/Djelfa (Province)\",\"Sub-Saharan Africa/Djibouti/Djibouti\",\"Eastern Europe/Moldova/Dniester (Region)\",\"Eastern Europe/Ukraine/Dnipropetrovsk\",\"Eastern Europe/Ukraine/Dnipropetrovsk (Oblast)\",\"Sub-Saharan Africa/Tanzania/Dodoma\",\"Middle East & North Africa/Qatar/Doha\",\"Middle East & North Africa/United Arab Emirates/Doha\",\"Western Europe/Ireland/Donegal\",\"Eastern Europe/Ukraine/Donetsk\",\"Eastern Europe/Ukraine/Donetsk Oblast\",\"Southeast Asia/Vietnam/Dong Nai\",\"Sub-Saharan Africa/Niger/Dosso\",\"Western Europe/France/Doubs\",\"Middle East & North Africa/Algeria/Draa El Mizan\",\"Western Europe/Netherlands/Drenthe\",\"Central America & Caribbean/Dominican Republic/Duarte\",\"Middle East & North Africa/United Arab Emirates/Dubai\",\"Western Europe/Ireland/Dublin\",\"Eastern Europe/Croatia/Dubrovnik-Neretva\",\"North America/Mexico/Durango\",\"Eastern Europe/Albania/Durres\",\"Central Asia/Tajikistan/Dushanabe\",\"Central Asia/Tajikistan/Dushanbe\",\"Central Asia/Tajikistan/Dushanbe (Capital City)\",\"Sub-Saharan Africa/Cameroon/East\",\"South Asia/Nepal/East\",\"Southeast Asia/Indonesia/East Aceh\",\"Middle East & North Africa/Iran/East Azerbaijan\",\"South America/Guyana/East Berbice-Corentyne\",\"Sub-Saharan Africa/Sudan/East Darfur\",\"South America/Falkland Islands/East Falkland\",\"Southeast Asia/Indonesia/East Java\",\"Southeast Asia/Indonesia/East Java (Province)\",\"Southeast Asia/Indonesia/East Kalimantan\",\"Central Asia/Kazakhstan/East Kazakhstan\",\"Southeast Asia/Indonesia/East Nusa Tenggara\",\"Southeast Asia/Indonesia/East Nusa Tenggara (Province)\",\"Southeast Asia/East Timor/East Timor\",\"Southeast Asia/Indonesia/East Timor\",\"Southeast Asia/East Timor/East Timor (Region)\",\"Sub-Saharan Africa/Ghana/Eastern\",\"Sub-Saharan Africa/Kenya/Eastern\",\"South Asia/Nepal/Eastern\",\"Sub-Saharan Africa/Rwanda/Eastern\",\"Middle East & North Africa/Saudi Arabia/Eastern\",\"Sub-Saharan Africa/Sierra Leone/Eastern\",\"South Asia/Sri Lanka/Eastern\",\"Sub-Saharan Africa/Uganda/Eastern\",\"Sub-Saharan Africa/Zambia/Eastern\",\"Sub-Saharan Africa/South Sudan/Eastern Bieh\",\"Sub-Saharan Africa/South Africa/Eastern Cape\",\"Sub-Saharan Africa/South Sudan/Eastern Equatoria\",\"Sub-Saharan Africa/Sudan/Eastern Equatoria\",\"Sub-Saharan Africa/South Sudan/Eastern Lakes\",\"Western Europe/Greece/Eastern Macedonia and Thrace\",\"Middle East & North Africa/Saudi Arabia/Eastern Province\",\"Southeast Asia/Philippines/Eastern Samar\",\"Sub-Saharan Africa/Nigeria/Ebonyi\",\"Middle East & North Africa/Turkey/Edirne\",\"Sub-Saharan Africa/Nigeria/Edo\",\"Sub-Saharan Africa/Nigeria/Ekiti\",\"Middle East & North Africa/Algeria/El Aissaoui (Municipality)\",\"Middle East & North Africa/Algeria/El Bayadh\",\"Middle East & North Africa/Algeria/El Biar (District)\",\"Middle East & North Africa/Algeria/El Bordj (District)\",\"Middle East & North Africa/Algeria/El Khardja\",\"South America/Ecuador/El Oro\",\"Middle East & North Africa/Algeria/El Oued\",\"Central America & Caribbean/Honduras/El Paraiso\",\"Central America & Caribbean/Guatemala/El Peten\",\"Central America & Caribbean/Guatemala/El Progreso\",\"Middle East & North Africa/Algeria/El Taref\",\"Middle East & North Africa/Algeria/El Tarf\",\"Middle East & North Africa/Algeria/El-Oued (Province)\",\"Middle East & North Africa/Turkey/Elazig\",\"Eastern Europe/Albania/Elbasan\",\"Eastern Europe/Russia/Elbrussky\",\"Western Europe/Italy/Emilia-Romagna\",\"Australasia & Oceania/Papua New Guinea/Enga\",\"Australasia & Oceania/Papua New Guinea/Enga (Province)\",\"Western Europe/United Kingdom/England\",\"Sub-Saharan Africa/Chad/Ennedi-Ouest\",\"South America/Argentina/Entre Rios\",\"Sub-Saharan Africa/Nigeria/Enugu\",\"Sub-Saharan Africa/Democratic Republic of the Congo/Equateur\",\"Sub-Saharan Africa/Democratic Republic of the Congo/Equator\",\"Sub-Saharan Africa/Ethiopia/Eritrea\",\"Southeast Asia/East Timor/Ermera (District)\",\"Southeast Asia/Indonesia/Ermera (District)\",\"Sub-Saharan Africa/Namibia/Erongo\",\"Middle East & North Africa/Turkey/Erzincan\",\"Middle East & North Africa/Turkey/Erzurum\",\"Middle East & North Africa/Western Sahara/Es Semara\",\"Central America & Caribbean/Guatemala/Escuintla\",\"Central America & Caribbean/Guatemala/Escuintla (Department)\",\"Middle East & North Africa/Iran/Esfahan\",\"Middle East & North Africa/Turkey/Eskisehir\",\"South America/Ecuador/Esmeraldas\",\"Central America & Caribbean/Dominican Republic/Espaillat\",\"South America/Brazil/Espirito Santo\",\"Western Europe/France/Essonne\",\"Central America & Caribbean/Nicaragua/Esteli\",\"Eastern Europe/Estonia/Estonia\",\"Eastern Europe/Soviet Union/Estonia\",\"Sub-Saharan Africa/Gabon/Estuaire\",\"Western Europe/Portugal/Evora\",\"Western Europe/Spain/Extremadura\",\"Sub-Saharan Africa/Cameroon/Extreme-North\",\"Middle East & North Africa/Egypt/Faiyum\",\"South America/Venezuela/Falcon\",\"Western Europe/Cyprus/Famagusta\",\"South Asia/Nepal/Far-Western\",\"South Asia/Afghanistan/Farah\",\"Sub-Saharan Africa/Guinea/Faranah\",\"Western Europe/Portugal/Faro\",\"Middle East & North Africa/Iran/Fars\",\"South Asia/Afghanistan/Faryab\",\"South America/Brazil/Federal\",\"North America/Mexico/Federal\",\"North America/Mexico/Federal (District)\",\"South America/Brazil/Federal District\",\"North America/Mexico/Federal District\",\"Southeast Asia/Malaysia/Federal Territory\",\"South Asia/Pakistan/Federally Administered Tribal Areas\",\"Eastern Europe/Bosnia-Herzegovina/Federation of Bosnia and Herzegovina\",\"Central Asia/Uzbekistan/Fergana (Province)\",\"Middle East & North Africa/Morocco/Fes-Boulemane\",\"Sub-Saharan Africa/Madagascar/Fianarantsoa\",\"Eastern Europe/Albania/Fier\",\"Eastern Europe/Albania/Fier (County)\",\"Western Europe/France/Finisere\",\"Western Europe/France/Finistere\",\"Western Europe/Belgium/Flanders\",\"North America/United States/Florida\",\"South America/Argentina/Formosa\",\"Central America & Caribbean/Martinique/Fort-de-France\",\"Western Europe/France/Franche-Comte\",\"Central America & Caribbean/Honduras/Francisco Morazan\",\"Central America & Caribbean/Honduras/Francisco Moraz\\u00e1n\",\"Sub-Saharan Africa/South Africa/Free State\",\"Western Europe/Italy/Friuli-Venezia Giulia\",\"Sub-Saharan Africa/Ivory Coast/Fromager\",\"Middle East & North Africa/United Arab Emirates/Fujairah\",\"East Asia/China/Fujian\",\"East Asia/China/Fujian (Province)\",\"East Asia/Japan/Fukouka\",\"East Asia/Japan/Fukuoka\",\"Middle East & North Africa/Tunisia/Gabes\",\"Middle East & North Africa/Tunisia/Gafsa\",\"Sub-Saharan Africa/Somalia/Galguduud\",\"Western Europe/Spain/Galicia\",\"Western Europe/Ireland/Galway\",\"Sub-Saharan Africa/Ethiopia/Gambela\",\"Sub-Saharan Africa/Mali/Gao\",\"Western Europe/France/Gard\",\"Sub-Saharan Africa/Kenya/Garissa\",\"Eastern Europe/Latvia/Garkalne\",\"Sub-Saharan Africa/Eritrea/Gash Barka\",\"Sub-Saharan Africa/South Africa/Gauteng\",\"Western Europe/Sweden/Gavleborg\",\"Sub-Saharan Africa/Mozambique/Gaza\",\"Middle East & North Africa/Israel/Gaza Strip\",\"Middle East & North Africa/West Bank and Gaza Strip/Gaza Strip\",\"Sub-Saharan Africa/South Africa/Gazankulu\",\"Middle East & North Africa/Turkey/Gaziantep\",\"Sub-Saharan Africa/Liberia/Gbarpolu\",\"Sub-Saharan Africa/South Sudan/Gbudwe\",\"Eastern Europe/Poland/Gdansk\",\"Sub-Saharan Africa/Sudan/Gedarif\",\"Sub-Saharan Africa/Somalia/Gedo\",\"Western Europe/Netherlands/Gelderland\",\"Western Europe/Switzerland/Geneva\",\"Central Asia/Georgia/Georgia\",\"Eastern Europe/Soviet Union/Georgia\",\"North America/United States/Georgia\",\"Sub-Saharan Africa/Sudan/Gezira\",\"Middle East & North Africa/Egypt/Gharbia\",\"Middle East & North Africa/Algeria/Ghardaia\",\"Middle East & North Africa/Algeria/Ghardaia (Province)\",\"Middle East & North Africa/Algeria/Gharda\\u00efa\",\"Middle East & North Africa/Libya/Ghat\",\"South Asia/Afghanistan/Ghazni\",\"South Asia/Afghanistan/Ghor\",\"Sub-Saharan Africa/Rwanda/Gikongoro\",\"Middle East & North Africa/Iran/Gilan\",\"South Asia/Pakistan/Gilgit-Baltistan\",\"Western Europe/Spain/Gipuzcoa\",\"Middle East & North Africa/Turkey/Giresun\",\"Western Europe/Spain/Girona\",\"Western Europe/France/Gironde\",\"Sub-Saharan Africa/Burundi/Gisagara\",\"Sub-Saharan Africa/Rwanda/Gisenyi\",\"Sub-Saharan Africa/Rwanda/Gitarama\",\"Sub-Saharan Africa/Burundi/Gitega\",\"Middle East & North Africa/Egypt/Giza\",\"Eastern Europe/Kosovo/Gjakova\",\"Eastern Europe/Kosovo/Gjilane\",\"Eastern Europe/Albania/Gjirokaster\",\"Eastern Europe/Kosovo/Gnjilane\",\"Eastern Europe/Kosovo/Gnjilane (Region)\",\"South Asia/India/Goa\",\"South America/Brazil/Goias\",\"Middle East & North Africa/Israel/Golan Heights\",\"Middle East & North Africa/Iran/Golestan\",\"Sub-Saharan Africa/Nigeria/Gombe\",\"Eastern Europe/Belarus/Gomel\",\"Central Asia/Georgia/Gori\",\"Central Asia/Tajikistan/Gorno-Badakhshan\",\"Eastern Europe/Macedonia/Gostivar\",\"Eastern Europe/Macedonia/Gostivar (Municipality)\",\"Central America & Caribbean/Honduras/Gracias a Dios\",\"Eastern Europe/Bulgaria/Grad Sofia\",\"Central America & Caribbean/Nicaragua/Granada\",\"Sub-Saharan Africa/Liberia/Grand Bassa\",\"Sub-Saharan Africa/Liberia/Grand Cape Mount\",\"Middle East & North Africa/Morocco/Grand Casablanca\",\"Sub-Saharan Africa/Liberia/Grand Gedeh\",\"Central America & Caribbean/Haiti/Grand'Anse\",\"Central America & Caribbean/Haiti/Grand'Anse (Department)\",\"Western Europe/France/Grand-Est\",\"Western Europe/Switzerland/Graubunden\",\"Sub-Saharan Africa/Ghana/Greater Accra\",\"Middle East & North Africa/Morocco/Greater Casablanca (Region)\",\"Eastern Europe/Poland/Greater Poland\",\"Eastern Europe/Macedonia/Greater Skopje\",\"Eastern Europe/Macedonia/Greater Skopje (Administrative division)\",\"Eastern Europe/Macedonia/Greater Skopje (Special Division)\",\"Eastern Europe/Macedonia/Greater Skopje (Statistical Region)\",\"Australasia & Oceania/New Zealand/Greater Wellington (Region)\",\"Western Europe/Luxembourg/Grevenmacher\",\"Eastern Europe/Belarus/Grodno\",\"Western Europe/Netherlands/Groningen\",\"Eastern Europe/Russia/Grozny\",\"South America/Colombia/Guainia\",\"South America/Colombia/Guajira\",\"Central America & Caribbean/Costa Rica/Guanacaste\",\"North America/Mexico/Guanajuato\",\"Australasia & Oceania/Solomon Islands/Guandacanal\",\"East Asia/China/Guangdong\",\"East Asia/China/Guangdong (Province)\",\"East Asia/China/Guangxi\",\"South America/Venezuela/Guarico\",\"Central America & Caribbean/Guatemala/Guatemala\",\"Central America & Caribbean/Guatemala/Guatemala (Department)\",\"Central America & Caribbean/Guatemala/Guatemala City (Capital District)\",\"South America/Colombia/Guaviare\",\"South America/Ecuador/Guayas\",\"Middle East & North Africa/Algeria/Guelma\",\"Middle East & North Africa/Morocco/Guelmim-Es Semara\",\"Sub-Saharan Africa/Chad/Guera\",\"North America/Mexico/Guerrero\",\"North America/Mexico/Guerrero (State)\",\"Middle East & North Africa/Algeria/Guerrouche (Province)\",\"Southeast Asia/Philippines/Guimaras\",\"Western Europe/Spain/Guipuzcoa\",\"East Asia/China/Guizhou\",\"South Asia/India/Gujarat\",\"Middle East & North Africa/International/Gulf of Aden\",\"Middle East & North Africa/Turkey/Gumushane\",\"Central America & Caribbean/Panama/Guna Yala\",\"East Asia/Japan/Gunma\",\"Southeast Asia/Indonesia/Guntur\",\"East Asia/South Korea/Gwangju\",\"Sub-Saharan Africa/Rhodesia/Gwelo\",\"East Asia/South Korea/Gyeonggi\",\"East Asia/South Korea/Gyeongsangbuk-do\",\"Central Asia/Armenia/Gyumri\",\"South Asia/Maldives/Haa Dhaalu Atoll\",\"Middle East & North Africa/Yemen/Hadramawt\",\"Middle East & North Africa/Israel/Haifa\",\"Middle East & North Africa/Saudi Arabia/Hail\",\"East Asia/China/Hainan\",\"Middle East & North Africa/Yemen/Hajjah\",\"Middle East & North Africa/Turkey/Hakkari\",\"Western Europe/Sweden/Halland\",\"Middle East & North Africa/Iran/Hamadan\",\"Middle East & North Africa/Syria/Hamah\",\"Western Europe/Germany/Hamburg\",\"Western Europe/West Germany (FRG)/Hamburg\",\"Southeast Asia/Vietnam/Hanoi\",\"Middle East & North Africa/Algeria/Haoudh (Region)\",\"Sub-Saharan Africa/Sudan/Harare\",\"Sub-Saharan Africa/Zimbabwe/Harare\",\"Sub-Saharan Africa/Ethiopia/Harer\",\"Eastern Europe/Estonia/Harju\",\"Eastern Europe/Estonia/Harju (County)\",\"South Asia/India/Haryana\",\"Eastern Europe/Bulgaria/Haskovo\",\"Middle East & North Africa/Turkey/Hatay\",\"Sub-Saharan Africa/Democratic Republic of the Congo/Haut Congo\",\"Sub-Saharan Africa/Democratic Republic of the Congo/Haut-Katanga\",\"Sub-Saharan Africa/Central African Republic/Haut-Mbomou\",\"Sub-Saharan Africa/Gabon/Haut-Ogooue\",\"Western Europe/France/Haut-Rhin\",\"Sub-Saharan Africa/Ivory Coast/Haut-Sassandra\",\"Sub-Saharan Africa/Democratic Republic of the Congo/Haut-Uele\",\"Western Europe/France/Haute-Corse\",\"Western Europe/France/Haute-Garonne\",\"Sub-Saharan Africa/Central African Republic/Haute-Kotto\",\"Western Europe/France/Hautes-Pyrenees\",\"Sub-Saharan Africa/Burkina Faso/Hauts-Bassins\",\"Western Europe/France/Hauts-de-France\",\"Western Europe/France/Hauts-de-Seine\",\"Central America & Caribbean/Cuba/Havana\",\"Central America & Caribbean/Cuba/Havana (Province)\",\"North America/United States/Hawaii\",\"East Asia/China/Heilongjiang\",\"South Asia/Afghanistan/Helmand\",\"East Asia/China/Henan\",\"East Asia/China/Henan (Province)\",\"South Asia/Afghanistan/Herat\",\"Western Europe/France/Herault\",\"Central America & Caribbean/Costa Rica/Heredia\",\"Central America & Caribbean/Dominican Republic/Hermanas Mirabal\",\"Western Europe/Germany/Hesse\",\"Western Europe/West Germany (FRG)/Hesse\",\"Sub-Saharan Africa/Swaziland/Hhohho\",\"North America/Mexico/Hidalgo\",\"Sub-Saharan Africa/Somalia/Hiiraan\",\"South Asia/India/Himachal Pradesh\",\"East Asia/Japan/Hiroshima\",\"Southeast Asia/Vietnam/Ho Chi Minh\",\"Southeast Asia/Vietnam/Ho Chi Minh City\",\"Sub-Saharan Africa/Mauritania/Hodh Ech Chargui\",\"Western Europe/Iceland/Hofudhborgarsvaedhi\",\"East Asia/Japan/Hokkaido\",\"Sub-Saharan Africa/Kenya/Homa Bay\",\"Middle East & North Africa/Syria/Homs\",\"East Asia/China/Hong Kong\",\"East Asia/Hong Kong/Hong Kong\",\"East Asia/Hong Kong/Hong Kong (Special Administrative Region)\",\"East Asia/China/Hong Kong Special Administrative Region (hksar)\",\"East Asia/Hong Kong/Hong Kong Special Administrative Region (hksar)\",\"Middle East & North Africa/Iran/Hormozgan\",\"East Asia/Taiwan/Hsinchu\",\"Sub-Saharan Africa/Angola/Huambo\",\"South America/Peru/Huancavelica\",\"South America/Peru/Huanuco\",\"East Asia/China/Hubei\",\"East Asia/China/Hubei (Province)\",\"Central America & Caribbean/Guatemala/Huehuetenango\",\"Sub-Saharan Africa/Angola/Huila\",\"South America/Colombia/Huila\",\"East Asia/China/Hunan\",\"Eastern Europe/Hungary/Hungary\",\"East Asia/Japan/Hyogo\",\"East Asia/Japan/Ibaraki\",\"Middle East & North Africa/Yemen/Ibb\",\"South America/Peru/Ica\",\"Eastern Europe/Estonia/Ida-Viru\",\"North America/United States/Idaho\",\"Middle East & North Africa/Syria/Idlib\",\"Middle East & North Africa/Syria/Idlib Region\",\"Sub-Saharan Africa/Niger/Iferouane\",\"Southeast Asia/Philippines/Ifugao\",\"Middle East & North Africa/Turkey/Igdir\",\"Middle East & North Africa/Iran/Ilam\",\"Western Europe/France/Ile-de-France\",\"Southeast Asia/Philippines/Iligan\",\"Western Europe/France/Ille-et-Vilaine\",\"North America/United States/Illinois\",\"Middle East & North Africa/Algeria/Illizi\",\"Middle East & North Africa/Algeria/Illizi (Province)\",\"Southeast Asia/Philippines/Ilocos Norte\",\"Southeast Asia/Philippines/Ilocos Sur\",\"Southeast Asia/Philippines/Iloilo\",\"Sub-Saharan Africa/South Sudan/Imatong\",\"South America/Ecuador/Imbabura\",\"Central Asia/Georgia/Imereti\",\"Sub-Saharan Africa/Nigeria/Imo\",\"East Asia/South Korea/Incheon\",\"North America/United States/Indiana\",\"Western Europe/France/Indre-et-loire\",\"Eastern Europe/Russia/Inguisha\",\"Eastern Europe/Russia/Ingushetia\",\"Eastern Europe/Russia/Ingushetia (Province)\",\"Eastern Europe/Russia/Ingushetia (Republic)\",\"Eastern Europe/Russia/Ingushetia (State)\",\"Eastern Europe/Russia/Ingushetia Republic\",\"Eastern Europe/Russia/Ingushetiya (Republic)\",\"Sub-Saharan Africa/Mozambique/Inhambane\",\"East Asia/China/Inner Mongolia\",\"Western Europe/Greece/Ionian Islands\",\"North America/United States/Iowa\",\"Middle East & North Africa/Jordan/Irbid\",\"Southeast Asia/Indonesia/Irian Jaya (Province)\",\"Eastern Europe/Russia/Irkutsk\",\"Eastern Europe/Russia/Irkutsk (Oblast)\",\"Southeast Asia/Myanmar/Irrawaddy Region\",\"Southeast Asia/Philippines/Isabela\",\"Western Europe/France/Isere\",\"East Asia/Japan/Ishikawa\",\"Sub-Saharan Africa/Kenya/Isiolo\",\"South Asia/Pakistan/Islamabad Capital Territory\",\"Middle East & North Africa/Egypt/Ismailia\",\"Central Asia/Azerbaijan/Ismailli\",\"Middle East & North Africa/Turkey/Isparta\",\"Central Asia/Kyrgyzstan/Issyk Kul\",\"Middle East & North Africa/Turkey/Istanbul\",\"Eastern Europe/Croatia/Istria (County)\",\"Sub-Saharan Africa/Democratic Republic of the Congo/Ituri\",\"Eastern Europe/Ukraine/Ivano-Frankivsk\",\"East Asia/Japan/Iwate\",\"Central America & Caribbean/Guatemala/Izabal\",\"Middle East & North Africa/Turkey/Izmir\",\"Middle East & North Africa/Libya/Jabal Al Akhdar\",\"Middle East & North Africa/Libya/Jabal Al Gharbi\",\"Middle East & North Africa/Libya/Jabal al Akhdar\",\"Eastern Europe/Yugoslavia/Jablanica (District)\",\"Middle East & North Africa/Libya/Jafara\",\"Middle East & North Africa/Kuwait/Jahra\",\"Southeast Asia/Indonesia/Jakarta\",\"Southeast Asia/Indonesia/Jakarta (Capital City District)\",\"Southeast Asia/Indonesia/Jakarta (Province)\",\"Southeast Asia/Indonesia/Jakarta (Special Capital Region)\",\"Southeast Asia/Indonesia/Jakarta (Special Territory Province)\",\"Central Asia/Kyrgyzstan/JalAl-Abad\",\"Central Asia/Kyrgyzstan/Jalal-Abad\",\"Central America & Caribbean/Guatemala/Jalapa\",\"Central Asia/Azerbaijan/Jalilabad\",\"North America/Mexico/Jalisco\",\"Central Asia/Kazakhstan/Jambyl Province\",\"South Asia/India/Jammu and Kashmir\",\"Western Europe/Sweden/Jamtland\",\"Southeast Asia/Indonesia/Java\",\"Southeast Asia/Indonesia/Jawa Barat (West Java)\",\"Southeast Asia/Indonesia/Jawa Tengah (Central Java)\",\"South Asia/Afghanistan/Jawzjan\",\"Middle East & North Africa/Saudi Arabia/Jazan\",\"Eastern Europe/Macedonia/Jegunovce\",\"Eastern Europe/Macedonia/Jegunovce (Municipality)\",\"Eastern Europe/Poland/Jelenia Gora\",\"Middle East & North Africa/Tunisia/Jendouba\",\"East Asia/South Korea/Jeola (Province)\",\"Middle East & North Africa/Israel/Jerusalem\",\"South Asia/India/Jharkhand\",\"East Asia/China/Jiangsu\",\"East Asia/China/Jiangxi\",\"Sub-Saharan Africa/Nigeria/Jigawa\",\"Eastern Europe/Czech Republic/Jihomoravsky\",\"Eastern Europe/Czechoslovakia/Jihomoravsky\",\"Middle East & North Africa/Algeria/Jijel\",\"Middle East & North Africa/Algeria/Jijel (Province)\",\"Middle East & North Africa/Algeria/Jijel (Region)\",\"Middle East & North Africa/Algeria/Jijel Province\",\"Middle East & North Africa/Algeria/Jijil (Province)\",\"Central America & Caribbean/Nicaragua/Jinotega\",\"Australasia & Oceania/Papua New Guinea/Jiwaka\",\"Middle East & North Africa/Saudi Arabia/Jizan\",\"Southeast Asia/Malaysia/Johor\",\"Sub-Saharan Africa/South Sudan/Jonglei\",\"Sub-Saharan Africa/Sudan/Jonglei\",\"Western Europe/Sweden/Jonkoping\",\"Sub-Saharan Africa/Somalia/Jubaland\",\"Sub-Saharan Africa/South Sudan/Jubek\",\"Middle East & North Africa/Libya/Jufra\",\"Central America & Caribbean/Guatemala/Juitapa\",\"South America/Argentina/Jujuy\",\"South America/Peru/Junin\",\"Western Europe/Switzerland/Jura\",\"Eastern Europe/Latvia/Jurmala\",\"Central America & Caribbean/Guatemala/Jutiapa\",\"South Asia/Maldives/Kaafu Atoll\",\"Eastern Europe/Russia/Kabarda-Balkaria\",\"Eastern Europe/Russia/Kabardino Balkariya\",\"Eastern Europe/Russia/Kabardino-Balkaria\",\"Eastern Europe/Russia/Kabardino-Balkariya\",\"Eastern Europe/Russia/Kabardino-Balkariya (Republic)\",\"South Asia/Afghanistan/Kabul\",\"Middle East & North Africa/Algeria/Kabylie (Region)\",\"Middle East & North Africa/Algeria/Kabylie Region\",\"Southeast Asia/Myanmar/Kachin\",\"Southeast Asia/Myanmar/Kachin (State)\",\"Sub-Saharan Africa/Nigeria/Kaduna\",\"Middle East & North Africa/Egypt/Kafr El-Sheikh\",\"Middle East & North Africa/Egypt/Kafr el-Sheikh\",\"Sub-Saharan Africa/Tanzania/Kagera\",\"Middle East & North Africa/Turkey/Kahramanmaras\",\"Middle East & North Africa/Tunisia/Kairouan\",\"Sub-Saharan Africa/Kenya/Kakamega\",\"Central Asia/Azerbaijan/Kalbajar\",\"Southeast Asia/Indonesia/Kalimantan Timur\",\"Southeast Asia/Philippines/Kalinga\",\"Southeast Asia/Philippines/Kalinga Apayao\",\"Southeast Asia/Philippines/Kalinga-Apayao\",\"Eastern Europe/Russia/Kaliningrad Oblast\",\"Western Europe/Sweden/Kalmar\",\"Eastern Europe/Russia/Kalmykia\",\"Eastern Europe/Russia/Kamchatka (Oblast)\",\"Southeast Asia/Thailand/Kamphaeng Phet\",\"Southeast Asia/Thailand/Kamphaeng Phet (Province)\",\"Southeast Asia/Cambodia/Kampong Cham\",\"Southeast Asia/Cambodia/Kampong Chhnang\",\"Southeast Asia/Cambodia/Kampong Chnnang\",\"Southeast Asia/Cambodia/Kampong Speu\",\"Southeast Asia/Cambodia/Kampong Thom\",\"Southeast Asia/Cambodia/Kampot\",\"Southeast Asia/Cambodia/Kampot (Province)\",\"East Asia/Japan/Kanagawa\",\"East Asia/Japan/Kanagawa (Prefecture)\",\"Southeast Asia/Thailand/Kanchanaburi\",\"South Asia/Afghanistan/Kandahar\",\"Southeast Asia/Cambodia/Kandal\",\"Southeast Asia/Cambodia/Kandal (Province)\",\"Sub-Saharan Africa/Chad/Kanem\",\"Sub-Saharan Africa/Nigeria/Kano\",\"North America/United States/Kansas\",\"East Asia/Japan/Kanto\",\"East Asia/Taiwan/Kaohsiung\",\"South Asia/Afghanistan/Kapisa\",\"Sub-Saharan Africa/Togo/Kara\",\"Eastern Europe/Russia/Karachay-Cherkessia\",\"Eastern Europe/Russia/Karachay-Cherkessia (Autonomous Republic)\",\"Eastern Europe/Russia/Karachay-Cherkessia (Republic)\",\"Eastern Europe/Russia/Karachayevo Cherkesiya Republic\",\"Eastern Europe/Russia/Karachayevo-Cherkessia (Republic)\",\"Central Asia/Kazakhstan/Karaganda\",\"Middle East & North Africa/Jordan/Karak\",\"Sub-Saharan Africa/Namibia/Karas\",\"Middle East & North Africa/Iraq/Karbala\",\"Southeast Asia/Myanmar/Karen\",\"Southeast Asia/Myanmar/Karen (State)\",\"Southeast Asia/Myanmar/Karen State\",\"Eastern Europe/Croatia/Karlovac\",\"Eastern Europe/Croatia/Karlovacka\",\"South Asia/India/Karnataka\",\"Central Asia/Tajikistan/Karotegin (Province)\",\"Middle East & North Africa/Turkey/Kars\",\"Central Asia/Georgia/Kartli (Province)\",\"Sub-Saharan Africa/Burundi/Karuzi\",\"Sub-Saharan Africa/Democratic Republic of the Congo/Kasai\",\"Sub-Saharan Africa/Democratic Republic of the Congo/Kasai Oriental\",\"Sub-Saharan Africa/Democratic Republic of the Congo/Kasai-Central\",\"Sub-Saharan Africa/Democratic Republic of the Congo/Kasai-Oriental\",\"Sub-Saharan Africa/Sudan/Kassala\",\"Middle East & North Africa/Tunisia/Kasserine\",\"Middle East & North Africa/Turkey/Kastamonu\",\"Sub-Saharan Africa/Democratic Republic of the Congo/Katanga\",\"Sub-Saharan Africa/Zaire/Katanga\",\"Sub-Saharan Africa/Nigeria/Katsina\",\"Sub-Saharan Africa/Namibia/Kavango\",\"Southeast Asia/Myanmar/Kawthulei (Karen/Kayin)\",\"Southeast Asia/Myanmar/Kayah\",\"Southeast Asia/Myanmar/Kayah (State)\",\"Sub-Saharan Africa/Burundi/Kayanza\",\"Southeast Asia/Myanmar/Kayar\",\"Sub-Saharan Africa/Mali/Kayes\",\"Southeast Asia/Myanmar/Kayin\",\"Southeast Asia/Myanmar/Kayin (State)\",\"Southeast Asia/Myanmar/Kayin State\",\"Middle East & North Africa/Turkey/Kayseri\",\"Sub-Saharan Africa/Nigeria/Kebbi\",\"Middle East & North Africa/Tunisia/Kebili\",\"Southeast Asia/Malaysia/Kedah\",\"Southeast Asia/Malaysia/Kedah (State)\",\"East Asia/Taiwan/Keelung\",\"Middle East & North Africa/Tunisia/Kef\",\"Sub-Saharan Africa/Central African Republic/Kemo\",\"North America/United States/Kentucky\",\"Southeast Asia/Cambodia/Kep\",\"South Asia/India/Kerala\",\"Middle East & North Africa/Iran/Kerman\",\"Middle East & North Africa/Iran/Kermanshah\",\"Sub-Saharan Africa/Botswana/Kgatleng\",\"Eastern Europe/Russia/Khabarovsk\",\"Eastern Europe/Russia/Khabarovsk (Krai)\",\"Eastern Europe/Russia/Khabarovsk Krai\",\"Middle East & North Africa/Jordan/Khalil\",\"Central Asia/Azerbaijan/Khankendi\",\"Eastern Europe/Russia/Khanty-Mansi\",\"Eastern Europe/Russia/Khanty-Mansi (Autonomous Okrug)\",\"Eastern Europe/Ukraine/Kharkiv\",\"Sub-Saharan Africa/Sudan/Khartoum\",\"Central Asia/Tajikistan/Khatlon\",\"Central Asia/Tajikistan/Khatlon (Province)\",\"Middle East & North Africa/Algeria/Khenchela\",\"Middle East & North Africa/Algeria/Khenchela (Province)\",\"Middle East & North Africa/Algeria/Khenchela Province\",\"Eastern Europe/Ukraine/Kherson\",\"Central Asia/Azerbaijan/Khojaly\",\"Central Asia/Azerbaijan/Khojavend\",\"Sub-Saharan Africa/Namibia/Khomas\",\"Southeast Asia/Thailand/Khon Kaen\",\"South Asia/Afghanistan/Khost\",\"Middle East & North Africa/Iraq/Khost\",\"South Asia/Bangladesh/Khulna\",\"Middle East & North Africa/Iran/Khuzestan\",\"South Asia/Pakistan/Khyber Pakhtunkhwa\",\"Sub-Saharan Africa/Kenya/Kiambu\",\"Sub-Saharan Africa/Rwanda/Kibungu\",\"Sub-Saharan Africa/Rwanda/Kibuye\",\"Sub-Saharan Africa/Mali/Kidal\",\"Eastern Europe/Ukraine/Kiev\",\"Eastern Europe/Ukraine/Kiev City (Municipality)\",\"Eastern Europe/Ukraine/Kiev City Municipality\",\"Sub-Saharan Africa/Rwanda/Kigali\",\"Sub-Saharan Africa/Tanzania/Kigoma\",\"Western Europe/Ireland/Kildare\",\"Sub-Saharan Africa/Kenya/Kilifi\",\"Middle East & North Africa/Turkey/Kilis\",\"Sub-Saharan Africa/Guinea/Kindia\",\"Central America & Caribbean/Jamaica/Kingston Parish\",\"Middle East & North Africa/Turkey/Kinkkale\",\"East Asia/Taiwan/Kinmen\",\"Sub-Saharan Africa/Democratic Republic of the Congo/Kinshasa\",\"Sub-Saharan Africa/Zaire/Kinshasa\",\"Middle East & North Africa/Turkey/Kirikkale\",\"Sub-Saharan Africa/Kenya/Kirinyaga\",\"Middle East & North Africa/Turkey/Kirklareli\",\"Middle East & North Africa/Iraq/Kirkuk\",\"Eastern Europe/Russia/Kirov\",\"Eastern Europe/Ukraine/Kirovohrad\",\"Middle East & North Africa/Turkey/Kirsehir\",\"Sub-Saharan Africa/Burundi/Kirundo\",\"Sub-Saharan Africa/Kenya/Kisii\",\"Sub-Saharan Africa/Kenya/Kisumu\",\"Eastern Europe/Lithuania/Klaipeda\",\"Middle East & North Africa/Turkey/Kocaeli\",\"East Asia/Japan/Kochi\",\"Central Asia/Tajikistan/Kofarnihon (District)\",\"Sub-Saharan Africa/Nigeria/Kogi\",\"Southeast Asia/Cambodia/Koh Kong\",\"Middle East & North Africa/Iran/Kohgiluyeh and Buyer Ahmad\",\"Eastern Europe/Montenegro/Kolasin\",\"Sub-Saharan Africa/Senegal/Kolda\",\"Eastern Europe/Yugoslavia/Kolubara (District)\",\"Eastern Europe/Hungary/Komarom-Esztergom\",\"Eastern Europe/Russia/Komi Republic\",\"Middle East & North Africa/Turkey/Konya\",\"Middle East & North Africa/Iran/Kordestan\",\"Eastern Europe/Slovak Republic/Kosice (Region)\",\"Eastern Europe/Kosovo/Kosovo\",\"Eastern Europe/Yugoslavia/Kosovo\",\"Eastern Europe/Kosovo/Kosovo (Province)\",\"Eastern Europe/Yugoslavia/Kosovo (Province)\",\"Eastern Europe/Kosovo/Kosovo (State)\",\"Eastern Europe/Yugoslavia/Kosovo and Metohija\",\"Eastern Europe/Kosovo/Kosovo and Metojia (Autonomous Province)\",\"Eastern Europe/Kosovo/Kosovo-Metohija (Province)\",\"Eastern Europe/Kosovo/Kosovska Mitrovica\",\"Eastern Europe/Kosovo/Kosovska Mitrovica (District)\",\"Eastern Europe/Kosovo/Kosovsko Mitrovica\",\"Eastern Europe/Russia/Kostroma\",\"Sub-Saharan Africa/Mali/Koulikoro\",\"Southeast Asia/Thailand/Krabi\",\"Eastern Europe/Poland/Krakow\",\"Eastern Europe/Russia/Krasnodar\",\"Eastern Europe/Russia/Krasnodar (Federal Subject)\",\"Eastern Europe/Russia/Krasnodar Krai\",\"Eastern Europe/Russia/Krasnodarsky\",\"Eastern Europe/Russia/Krasnoyarsk\",\"Eastern Europe/Russia/Krasnoyarsk (Krai)\",\"Southeast Asia/Cambodia/Kratie\",\"Southeast Asia/Cambodia/Kratie (Province)\",\"Western Europe/Sweden/Kronoberg\",\"Southeast Asia/Malaysia/Kuala Lumpur\",\"Eastern Europe/Albania/Kucove\",\"Middle East & North Africa/Libya/Kufra\",\"Middle East & North Africa/Libya/Kufrah\",\"Eastern Europe/Albania/Kukes\",\"Eastern Europe/Albania/Kuk\\u00ebs (County)\",\"Central Asia/Tajikistan/Kulyabskaya (Oblast)\",\"East Asia/Japan/Kumamoto\",\"Eastern Europe/Macedonia/Kumanovo\",\"Eastern Europe/Macedonia/Kumanovo (Municipality)\",\"Eastern Europe/Macedonia/Kumanovo (Region)\",\"Eastern Europe/Macedonia/Kumanovo municipality\",\"South Asia/Afghanistan/Kunar\",\"Middle East & North Africa/Iraq/Kunar\",\"South Asia/Afghanistan/Kunduz\",\"Sub-Saharan Africa/Namibia/Kunene\",\"Eastern Europe/Russia/Kurchaloyevsky\",\"Central Asia/Azerbaijan/Kurdamir\",\"Sub-Saharan Africa/Sudan/Kurdufan\",\"Middle East & North Africa/Turkey/Kutahya\",\"Central Asia/Georgia/Kvemo Kartli\",\"Central Asia/Georgia/Kvemo Kartli (Region)\",\"Sub-Saharan Africa/South Africa/KwaNdebele\",\"Sub-Saharan Africa/South Africa/KwaZulu-Natal\",\"Sub-Saharan Africa/Kenya/Kwale\",\"Sub-Saharan Africa/Democratic Republic of the Congo/Kwango\",\"Sub-Saharan Africa/Nigeria/Kwara\",\"Eastern Europe/Soviet Union/Kygyzstan\",\"Eastern Europe/Ukraine/Kyivska\",\"Western Europe/Finland/Kymenlaakso\",\"East Asia/Japan/Kyoto\",\"Western Europe/Cyprus/Kyrenia\",\"Eastern Europe/Bulgaria/Kyustendil\",\"Eastern Europe/Ukraine/L'viv (Oblast)\",\"South America/Colombia/La Guajira\",\"Central America & Caribbean/El Salvador/La Libertad\",\"South America/Peru/La Libertad\",\"South America/Argentina/La Pampa\",\"South America/Bolivia/La Paz\",\"Central America & Caribbean/El Salvador/La Paz\",\"Central America & Caribbean/Honduras/La Paz\",\"South America/Argentina/La Rioja\",\"Western Europe/Spain/La Rioja\",\"Central America & Caribbean/El Salvador/La Union\",\"Southeast Asia/Philippines/La Union\",\"Central America & Caribbean/El Salvador/La Uni\\u00f3n\",\"Central America & Caribbean/Dominican Republic/La Vega\",\"Eastern Europe/Estonia/Laane-Viru\",\"Middle East & North Africa/Morocco/Laayoune-Boujdour-Sakia El Hamra\",\"Middle East & North Africa/Western Sahara/Laayoune-Boujdour-Sakia El Hamra\",\"Sub-Saharan Africa/Guinea/Labe\",\"Sub-Saharan Africa/Chad/Lac\",\"Sub-Saharan Africa/Ivory Coast/Lacs\",\"South Asia/Afghanistan/Laghman\",\"Middle East & North Africa/Algeria/Laghouat\",\"Middle East & North Africa/Algeria/Laghouat (Province)\",\"Sub-Saharan Africa/Nigeria/Lagos\",\"Southeast Asia/Philippines/Laguna\",\"Sub-Saharan Africa/Ivory Coast/Lagunes\",\"Middle East & North Africa/Yemen/Lahij\",\"Sub-Saharan Africa/Kenya/Laikipia\",\"Sub-Saharan Africa/South Sudan/Lakes\",\"Sub-Saharan Africa/Sudan/Lakes\",\"Middle East & North Africa/Algeria/Lakhdaria Province\",\"Southeast Asia/Vietnam/Lam Dong\",\"South America/Peru/Lambayeque\",\"Southeast Asia/Thailand/Lampang\",\"Southeast Asia/Indonesia/Lampung (Province)\",\"Sub-Saharan Africa/Kenya/Lamu\",\"Southeast Asia/Philippines/Lanao del Norte\",\"Southeast Asia/Philippines/Lanao del Sur\",\"Western Europe/France/Languedoc-Roussillon\",\"Western Europe/Ireland/Laoighis\",\"South America/Venezuela/Lara\",\"Western Europe/Cyprus/Larnaca\",\"Western Europe/Spain/Las Palmas\",\"Middle East & North Africa/Syria/Latakia\",\"Middle East & North Africa/Syria/Lattakia\",\"Eastern Europe/Soviet Union/Latvia\",\"Southeast Asia/Indonesia/Lautem (District)\",\"South America/Uruguay/Lavalleja\",\"Western Europe/Italy/Lazio\",\"Central America & Caribbean/Martinique/Le Marin\",\"Eastern Europe/Poland/Legnica\",\"Western Europe/Portugal/Leiria\",\"Western Europe/Ireland/Leitrim\",\"Sub-Saharan Africa/Republic of the Congo/Lekoumou\",\"Central America & Caribbean/Honduras/Lempira\",\"Central Asia/Tajikistan/Leninabad\",\"Eastern Europe/Russia/Leningrad\",\"Central America & Caribbean/Nicaragua/Leon\",\"Western Europe/Spain/Leon\",\"Eastern Europe/Kosovo/Leposaviq\",\"Sub-Saharan Africa/Lesotho/Leribe\",\"Western Europe/Spain/Lerida\",\"Southeast Asia/Philippines/Leyte\",\"Eastern Europe/Albania/Lezhe\",\"Middle East & North Africa/Algeria/Lezhe (County)\",\"Eastern Europe/Czech Republic/Liberec (Region)\",\"Eastern Europe/Albania/Librazhd\",\"Western Europe/Italy/Liguria\",\"Eastern Europe/Croatia/Lika\",\"Eastern Europe/Croatia/Lika-Senj\",\"South America/Peru/Lima\",\"Western Europe/Cyprus/Limassol\",\"Western Europe/Netherlands/Limburg\",\"Western Europe/Ireland/Limerick\",\"Central America & Caribbean/Costa Rica/Limon\",\"Western Europe/France/Limousin\",\"Sub-Saharan Africa/South Africa/Limpopo\",\"Eastern Europe/Russia/Lipetsk\",\"Eastern Europe/Macedonia/Lipkovo (Municipality)\",\"Eastern Europe/Macedonia/Lipkovo (Region)\",\"Southeast Asia/Indonesia/Liquica (District)\",\"Western Europe/Portugal/Lisbon\",\"Eastern Europe/Soviet Union/Lithuania\",\"Sub-Saharan Africa/Benin/Littoral\",\"Sub-Saharan Africa/Cameroon/Littoral\",\"Eastern Europe/Slovenia/Ljubljana\",\"Eastern Europe/Slovenia/Ljubljana (Municipality)\",\"Sub-Saharan Africa/Central African Republic/Lobaye\",\"Eastern Europe/Poland/Lodz\",\"Sub-Saharan Africa/Liberia/Lofa\",\"South Asia/Afghanistan/Logar\",\"Sub-Saharan Africa/Chad/Logone Oriental\",\"Western Europe/France/Loire-Atlantique\",\"South America/Ecuador/Loja\",\"Sub-Saharan Africa/South Sudan/Lol\",\"Sub-Saharan Africa/Democratic Republic of the Congo/Lomami\",\"Western Europe/Italy/Lombardy\",\"Western Europe/Ireland/Longford\",\"Southeast Asia/Thailand/Lopburi\",\"Middle East & North Africa/Iran/Lorestan\",\"South America/Peru/Loreto\",\"Central Asia/Armenia/Lori\",\"South America/Chile/Los Lagos\",\"South America/Chile/Los Rios\",\"South America/Ecuador/Los Rios\",\"Central America & Caribbean/Panama/Los Santos\",\"Western Europe/France/Lot-et-Garonne\",\"Southeast Asia/Laos/Louangphrabang\",\"Southeast Asia/Laos/Louangphrabang (District)\",\"Sub-Saharan Africa/Senegal/Louga\",\"North America/United States/Louisiana\",\"Western Europe/Ireland/Louth\",\"Western Europe/Austria/Lower Austria\",\"Sub-Saharan Africa/Somalia/Lower Juba\",\"Western Europe/France/Lower Normandy\",\"Western Europe/Germany/Lower Saxony\",\"Western Europe/West Germany (FRG)/Lower Saxony\",\"Sub-Saharan Africa/Somalia/Lower Shebelle\",\"Eastern Europe/Poland/Lower Silesia\",\"Australasia & Oceania/New Caledonia/Loyalty Islands Province\",\"Sub-Saharan Africa/Democratic Republic of the Congo/Lualaba\",\"Sub-Saharan Africa/Angola/Luanda\",\"Sub-Saharan Africa/Swaziland/Lubombo\",\"Sub-Saharan Africa/Angola/Luganda\",\"Western Europe/Spain/Lugo\",\"Eastern Europe/Ukraine/Luhansk\",\"Eastern Europe/Ukraine/Luhansk Oblast\",\"Sub-Saharan Africa/Angola/Lunda Norte\",\"Sub-Saharan Africa/Angola/Lunda Sul\",\"Southeast Asia/Philippines/Lupon\",\"Sub-Saharan Africa/Rhodesia/Lusaka\",\"Sub-Saharan Africa/Zambia/Lusaka\",\"Eastern Europe/Albania/Lushnje\",\"Western Europe/Luxembourg/Luxembourg\",\"Middle East & North Africa/Egypt/Luxor\",\"Eastern Europe/Ukraine/Lviv\",\"Middle East & North Africa/Algeria/M'Sila\",\"Middle East & North Africa/Algeria/M'chedallah (District)\",\"Middle East & North Africa/Algeria/M'sila\",\"Middle East & North Africa/Algeria/M'sila (Province)\",\"Middle East & North Africa/Algeria/M'sila Province\",\"Middle East & North Africa/Jordan/Maan\",\"East Asia/Macau/Macau\",\"East Asia/Macau/Macau (Special Administrative Region)\",\"Western Europe/Greece/Macedonia\",\"Eastern Europe/Macedonia/Macedonia\",\"Eastern Europe/Yugoslavia/Macedonia\",\"Australasia & Oceania/Fiji/Macuata\",\"Australasia & Oceania/Papua New Guinea/Madang\",\"South Asia/India/Madhya Pradesh\",\"Middle East & North Africa/Saudi Arabia/Madinah\",\"South America/Peru/Madre de Dios\",\"Western Europe/Spain/Madrid\",\"Central America & Caribbean/Nicaragua/Madriz\",\"Sub-Saharan Africa/Eritrea/Maekel\",\"Sub-Saharan Africa/Ethiopia/Maekel\",\"Middle East & North Africa/United Arab Emirates/Maekel\",\"Middle East & North Africa/Jordan/Mafraq\",\"South America/Chile/Magallanes & Chilean Antarctica\",\"South America/Colombia/Magdalena\",\"Eastern Europe/East Germany (GDR)/Magdeburg\",\"Southeast Asia/Philippines/Maguindanao\",\"Southeast Asia/Myanmar/Magway\",\"Sub-Saharan Africa/Madagascar/Mahajanga\",\"South Asia/India/Maharashtra\",\"Middle East & North Africa/Yemen/Mahwit\",\"North America/United States/Maine\",\"Sub-Saharan Africa/Burundi/Makamba\",\"Middle East & North Africa/Saudi Arabia/Makkah\",\"Western Europe/Spain/Malaga\",\"Australasia & Oceania/Solomon Islands/Malaita (Province)\",\"Sub-Saharan Africa/Angola/Malanje\",\"Middle East & North Africa/Turkey/Malatya\",\"South America/Uruguay/Maldonado\",\"South Asia/Maldives/Male\",\"Eastern Europe/Russia/Malgobeksky\",\"Southeast Asia/East Timor/Maliana (District)\",\"Eastern Europe/Albania/Mallakaster\",\"Southeast Asia/Indonesia/Maluka (Province)\",\"Southeast Asia/Indonesia/Maluku\",\"Southeast Asia/Indonesia/Maluku (Province)\",\"Southeast Asia/Indonesia/Maluku Province\",\"Southeast Asia/Indonesia/Maluku province\",\"Sub-Saharan Africa/Central African Republic/Mambere Kadei\",\"South America/Ecuador/Manabi\",\"Central America & Caribbean/Nicaragua/Managua\",\"Southeast Asia/Myanmar/Mandalay\",\"Southeast Asia/Myanmar/Mandalay (Division)\",\"Sub-Saharan Africa/Kenya/Mandera\",\"Sub-Saharan Africa/Mozambique/Manica\",\"Sub-Saharan Africa/Rhodesia/Manicaland\",\"Sub-Saharan Africa/Zimbabwe/Manicaland\",\"Sub-Saharan Africa/Democratic Republic of the Congo/Maniema\",\"South Asia/India/Manipur\",\"Middle East & North Africa/Turkey/Manisa\",\"North America/Canada/Manitoba\",\"Middle East & North Africa/Tunisia/Manouba\",\"Southeast Asia/Indonesia/Manufahi (District)\",\"Middle East & North Africa/Iran/Manzandaran\",\"Sub-Saharan Africa/Swaziland/Manzini\",\"Sub-Saharan Africa/Mozambique/Maputo\",\"Sub-Saharan Africa/Niger/Maradi\",\"Sub-Saharan Africa/Niger/Maradi (Region)\",\"Sub-Saharan Africa/Ivory Coast/Marahoue\",\"Sub-Saharan Africa/Burundi/Maramvya\",\"South America/Brazil/Maranhao\",\"South America/Brazil/Maranhaos\",\"Western Europe/Italy/Marche\",\"Middle East & North Africa/Turkey/Mardin\",\"Sub-Saharan Africa/Liberia/Margibi\",\"Central America & Caribbean/Dominican Republic/Maria Trinidad Sanchez\",\"Middle East & North Africa/Yemen/Marib\",\"Eastern Europe/Slovenia/Maribor\",\"Sub-Saharan Africa/Togo/Maritime\",\"Middle East & North Africa/Libya/Marj\",\"Middle East & North Africa/Iran/Markazi\",\"South America/Suriname/Marowijne\",\"Middle East & North Africa/Morocco/Marrakech-Tensift-El Haouz\",\"Middle East & North Africa/Morocco/Marrakesh-Tensift-El Haouz\",\"Sub-Saharan Africa/Kenya/Marsabit\",\"Central Asia/Turkmenistan/Mary\",\"North America/United States/Maryland\",\"Central America & Caribbean/Nicaragua/Masaya\",\"Southeast Asia/Philippines/Masbate\",\"Middle East & North Africa/Algeria/Mascara\",\"Middle East & North Africa/Algeria/Mascara (Province)\",\"Middle East & North Africa/Algeria/Mascara Province\",\"Sub-Saharan Africa/Lesotho/Maseru\",\"Sub-Saharan Africa/Zimbabwe/Mashonaland Central\",\"Sub-Saharan Africa/Rhodesia/Mashonaland East\",\"Sub-Saharan Africa/Zimbabwe/Mashonaland East\",\"Sub-Saharan Africa/Rhodesia/Mashonaland South\",\"Sub-Saharan Africa/Rhodesia/Mashonaland West\",\"Sub-Saharan Africa/Rhodesia/Mashonland\",\"Eastern Europe/Poland/Masovia\",\"Eastern Europe/Poland/Masovian (Province)\",\"North America/United States/Massachusetts\",\"Middle East & North Africa/Algeria/Mastaganem\",\"Sub-Saharan Africa/Zimbabwe/Masvingo\",\"Sub-Saharan Africa/Rhodesia/Matabeleland\",\"Sub-Saharan Africa/Zimbabwe/Matabeleland\",\"Sub-Saharan Africa/Zimbabwe/Matabeleland North\",\"Sub-Saharan Africa/Rhodesia/Matabeleland South\",\"Sub-Saharan Africa/Zimbabwe/Matabeleland South\",\"Central America & Caribbean/Nicaragua/Matagalpa\",\"Sub-Saharan Africa/Senegal/Matam\",\"Central America & Caribbean/Cuba/Matanzas\",\"South America/Brazil/Mato Grosso\",\"South America/Brazil/Mato Grosso do Sul\",\"Middle East & North Africa/Egypt/Matruh\",\"South America/Chile/Maule\",\"Western Europe/France/Mayenne\",\"Western Europe/Ireland/Mayo\",\"Southeast Asia/Thailand/Mayo (district), Ban Dan (village)\",\"Middle East & North Africa/Iraq/Maysan\",\"Middle East & North Africa/Iran/Mazandaran\",\"Sub-Saharan Africa/Central African Republic/Mbomou\",\"Western Europe/Ireland/Meath\",\"Western Europe/Germany/Mecklenburg-West Pomerania\",\"Middle East & North Africa/Algeria/Medea\",\"Middle East & North Africa/Algeria/Medea (Province)\",\"Middle East & North Africa/Algeria/Medea Province\",\"Middle East & North Africa/Tunisia/Medenine\",\"Middle East & North Africa/Tunisia/Medenine Governorate\",\"Eastern Europe/Croatia/Medimurje\",\"Eastern Europe/Serbia-Montenegro/Medveda (District)\",\"South Asia/India/Meghalaya\",\"Central Asia/Armenia/Meghri\",\"Middle East & North Africa/Morocco/Meknes-Tafilalet\",\"Middle East & North Africa/Morocco/Meknes-Tafilalet (Region)\",\"Western Europe/Spain/Melilla\",\"Sub-Saharan Africa/Mali/Menaka\",\"South America/Argentina/Mendoza\",\"South America/Venezuela/Merida\",\"Middle East & North Africa/Turkey/Mersin\",\"Sub-Saharan Africa/Kenya/Meru\",\"South America/Colombia/Meta\",\"Southeast Asia/Philippines/Metropolitan Manila\",\"Southeast Asia/Philippines/Metropolitian Manila\",\"North America/Mexico/Mexican Federal District\",\"North America/Mexico/Mexico\",\"North America/Mexico/Mexico City (Federal District)\",\"North America/United States/Michigan\",\"North America/Mexico/Michoacan\",\"North America/Mexico/Michoac\\u00e1n\",\"South Asia/Nepal/Mid-Western\",\"Sub-Saharan Africa/Somalia/Middle Juba\",\"Sub-Saharan Africa/Somalia/Middle Shebelle\",\"Western Europe/France/Midi-Pyrenees\",\"Sub-Saharan Africa/Rhodesia/Midland\",\"Sub-Saharan Africa/Rhodesia/Midlands\",\"Sub-Saharan Africa/Zimbabwe/Midlands\",\"East Asia/Japan/Mie\",\"Sub-Saharan Africa/Kenya/Migori\",\"Middle East & North Africa/Algeria/Mila\",\"Australasia & Oceania/Papua New Guinea/Milne Bay\",\"South America/Brazil/Minas Gerais\",\"Southeast Asia/Philippines/Mindanao Island\",\"North America/United States/Minnesota\",\"Eastern Europe/Belarus/Minsk\",\"Eastern Europe/Belarus/Minsk (Capital City)\",\"Middle East & North Africa/Egypt/Minya\",\"South America/Venezuela/Miranda\",\"Southeast Asia/Philippines/Misamis Occidental\",\"Southeast Asia/Philippines/Misamis Oriental\",\"South America/Argentina/Misiones\",\"Middle East & North Africa/Libya/Misrata\",\"North America/United States/Mississippi\",\"North America/United States/Missouri\",\"Middle East & North Africa/Libya/Mistrata\",\"Middle East & North Africa/Algeria/Mitidja Plains (Province)\",\"Eastern Europe/Kosovo/Mitrovice\",\"Eastern Europe/Kosovo/Mitrovice (Municipality)\",\"East Asia/Japan/Miyagi\",\"South Asia/India/Mizoram\",\"Southeast Asia/Indonesia/Moluku (Province)\",\"Sub-Saharan Africa/Kenya/Mombasa\",\"Southeast Asia/Myanmar/Mon\",\"Southeast Asia/Myanmar/Mon (State)\",\"South America/Venezuela/Monagas\",\"Western Europe/Ireland/Monaghan\",\"Middle East & North Africa/Tunisia/Monastir\",\"Sub-Saharan Africa/Democratic Republic of the Congo/Mongala\",\"Southeast Asia/Cambodia/Monivong\",\"Central America & Caribbean/Dominican Republic/Monsenor Nouel\",\"Sub-Saharan Africa/Seychelles/Mont Buxton\",\"North America/United States/Montana\",\"Eastern Europe/Yugoslavia/Montenegro\",\"Eastern Europe/Yugoslavia/Montenegro (Republic)\",\"South America/Uruguay/Montevideo\",\"Sub-Saharan Africa/Liberia/Montserrado\",\"Middle East & North Africa/Egypt/Monufia\",\"Sub-Saharan Africa/Mali/Mopti\",\"South America/Peru/Moquegua\",\"Eastern Europe/Czech Republic/Moravia-Silesia\",\"Eastern Europe/Czech Republic/Moravian-Silesian\",\"Central America & Caribbean/El Salvador/Morazan\",\"Central America & Caribbean/El Salvador/Moraz\\u00e1n\",\"North America/Mexico/Morelos\",\"Australasia & Oceania/Papua New Guinea/Morobe\",\"Sub-Saharan Africa/Tanzania/Morogoro\",\"South America/Ecuador/Morona Santiago\",\"Eastern Europe/Russia/Moscow\",\"Eastern Europe/Russia/Moscow (Federal City)\",\"Eastern Europe/Russia/Moscow (Oblast)\",\"Eastern Europe/Russia/Moscow (Region)\",\"Eastern Europe/Russia/Moscow Federal City\",\"Eastern Europe/Russia/Moscow Oblast\",\"Western Europe/France/Moselle\",\"Western Europe/Malta/Mosta\",\"Middle East & North Africa/Algeria/Mostaganem\",\"Middle East & North Africa/Algeria/Mostaganem (Province)\",\"Middle East & North Africa/Israel/Mount Lebanon\",\"Middle East & North Africa/Lebanon/Mount Lebanon\",\"Southeast Asia/Philippines/Mountain Province\",\"Sub-Saharan Africa/Angola/Moxico\",\"Sub-Saharan Africa/Ivory Coast/Moyen-Cavally\",\"Sub-Saharan Africa/Chad/Moyen-Chari\",\"Sub-Saharan Africa/Ivory Coast/Moyen-Comoe\",\"Sub-Saharan Africa/South Africa/Mpumalanga\",\"Central Asia/Georgia/Mtskheta-Mtianeti\",\"Southeast Asia/Thailand/Muang\",\"Middle East & North Africa/Algeria/Muaskar (Province)\",\"Sub-Saharan Africa/Somalia/Mudug\",\"Middle East & North Africa/Turkey/Mugla\",\"Middle East & North Africa/Bahrain/Muharraq\",\"Southeast Asia/Thailand/Mukdahan\",\"Sub-Saharan Africa/Burundi/Muramvya\",\"Western Europe/Spain/Murcia\",\"Middle East & North Africa/Libya/Murqub\",\"Middle East & North Africa/Libya/Murzuq\",\"Middle East & North Africa/Turkey/Mus\",\"Middle East & North Africa/Iraq/Muthanna\",\"Sub-Saharan Africa/Burundi/Muyinga\",\"Sub-Saharan Africa/Comoros/Mwali\",\"Sub-Saharan Africa/Tanzania/Mwanza\",\"Sub-Saharan Africa/Burundi/Mwaro\",\"Eastern Europe/Ukraine/Mykolayiv\",\"Middle East & North Africa/Algeria/M\\u00e9d\\u00e9a\",\"Middle East & North Africa/Algeria/M\\u00e9d\\u00e9a Province\",\"North America/Mexico/M\\u00e9xico\",\"Sub-Saharan Africa/Chad/N'Djamena\",\"Middle East & North Africa/Iraq/NIneveh\",\"Middle East & North Africa/Lebanon/Nabatiyeh\",\"Middle East & North Africa/Tunisia/Nabuel (Region)\",\"South Asia/India/Nagaland\",\"East Asia/Japan/Nagasaki\",\"Sub-Saharan Africa/Kenya/Nairobi\",\"Middle East & North Africa/Iraq/Najaf\",\"Middle East & North Africa/Saudi Arabia/Najran\",\"East Asia/Japan/Naka District, Ibaraki\",\"Southeast Asia/Thailand/Nakhon Pathom\",\"Southeast Asia/Thailand/Nakhon Ratchasima\",\"Southeast Asia/Thailand/Nakhon Sawan\",\"Southeast Asia/Thailand/Nakhon Si Thammarat\",\"Sub-Saharan Africa/Kenya/Nakuru\",\"Middle East & North Africa/Libya/Nalut\",\"Sub-Saharan Africa/Mozambique/Nampula\",\"Southeast Asia/Thailand/Nan\",\"Sub-Saharan Africa/Central African Republic/Nana-Grebizi\",\"Sub-Saharan Africa/Central African Republic/Nana-Mambere\",\"South Asia/Afghanistan/Nangarhar\",\"South America/Ecuador/Napo\",\"East Asia/Japan/Nara\",\"Southeast Asia/Thailand/Narathiwat\",\"Southeast Asia/Thailand/Narathiwat (Provice)\",\"Southeast Asia/Thailand/Narathiwat (Province)\",\"Southeast Asia/Thailand/Narathiwat (province)\",\"Southeast Asia/Thailand/Narathiwat Province\",\"Southeast Asia/Thailand/Narathiwat province\",\"South America/Colombia/Narino\",\"Sub-Saharan Africa/Nigeria/Nasarawa\",\"Sub-Saharan Africa/Mozambique/Nassa\",\"Sub-Saharan Africa/South Africa/Natal\",\"Central America & Caribbean/Dominican Republic/National\",\"Australasia & Oceania/Papua New Guinea/National Capital District\",\"Western Europe/Spain/Navarre\",\"North America/Mexico/Nayarit\",\"Eastern Europe/Russia/Nazranovsky\",\"North America/United States/Nebraska\",\"Southeast Asia/Malaysia/Negeri Sembilan\",\"Southeast Asia/Philippines/Negros Occidental\",\"Southeast Asia/Philippines/Negros Oriental\",\"South America/Argentina/Neuqu\\u00e9n\",\"North America/United States/Nevada\",\"Middle East & North Africa/Turkey/Nevsehir\",\"North America/Canada/New Brunswick\",\"North America/United States/New Hampshire\",\"Australasia & Oceania/Papua New Guinea/New Ireland\",\"North America/United States/New Jersey\",\"North America/United States/New Mexico\",\"Central America & Caribbean/Bahamas/New Providence\",\"Australasia & Oceania/Australia/New South Wales\",\"Australasia & Oceania/Australia/New South Wales (State)\",\"East Asia/Taiwan/New Taipei\",\"East Asia/Hong Kong/New Territories\",\"Middle East & North Africa/Egypt/New Valley\",\"North America/United States/New York\",\"Sub-Saharan Africa/Comoros/Ngazidja\",\"Sub-Saharan Africa/Burundi/Ngozi\",\"Sub-Saharan Africa/Niger/Niamey\",\"Sub-Saharan Africa/Niger/Niamey (Administrative Region)\",\"Sub-Saharan Africa/Niger/Niamey (Capital District)\",\"Sub-Saharan Africa/Niger/Niamey Capital District\",\"Sub-Saharan Africa/Mozambique/Niassa\",\"Western Europe/Cyprus/Nicosia\",\"Middle East & North Africa/Turkey/Nigde\",\"Sub-Saharan Africa/Nigeria/Niger\",\"Sub-Saharan Africa/Liberia/Nimba\",\"South Asia/Afghanistan/Nimroz\",\"Middle East & North Africa/Iraq/Nineveh\",\"East Asia/China/Ningxia Hui\",\"Central America & Caribbean/Haiti/Nippes\",\"Eastern Europe/Russia/Nizhny Novgorod\",\"Southeast Asia/Thailand/Nong Khai\",\"Southeast Asia/Thailand/Nonthaburi\",\"Sub-Saharan Africa/Burkina Faso/Nord\",\"Western Europe/France/Nord\",\"Central America & Caribbean/Haiti/Nord\",\"Central America & Caribbean/Haiti/Nord-Ouest\",\"Western Europe/France/Nord-Pas-de-Calais\",\"Western Europe/Iceland/Nordhurland Eystra\",\"South Asia/Sri Lanka/Norhtern\",\"Western Europe/France/Normandy\",\"Western Europe/Sweden/Norrbotten\",\"South America/Colombia/Norte de Santander\",\"Sub-Saharan Africa/Cameroon/North\",\"Middle East & North Africa/Lebanon/North\",\"South Asia/Maldives/North\",\"Southeast Asia/Indonesia/North Aceh (Province)\",\"Southeast Asia/Indonesia/North Aceh (Regency)\",\"Western Europe/Greece/North Aegean\",\"Western Europe/Netherlands/North Brabant\",\"Central America & Caribbean/Nicaragua/North Caribbean Coast Autonomous Region\",\"North America/United States/North Carolina\",\"Southeast Asia/Philippines/North Catobato\",\"Eastern Europe/Russia/North Caucasian Federal District\",\"Eastern Europe/Russia/North Caucasus (Region)\",\"South Asia/Sri Lanka/North Central\",\"Southeast Asia/Philippines/North Cotabato\",\"North America/United States/North Dakota\",\"Sub-Saharan Africa/Sudan/North Darfur\",\"Sub-Saharan Africa/Kenya/North Eastern\",\"South Asia/Sri Lanka/North Eastern\",\"Western Europe/Netherlands/North Holland\",\"Sub-Saharan Africa/Democratic Republic of the Congo/North Kivu\",\"Sub-Saharan Africa/Zaire/North Kivu\",\"Sub-Saharan Africa/Sudan/North Kordofan\",\"Southeast Asia/Indonesia/North Maluku\",\"Eastern Europe/Czech Republic/North Moravia (Province)\",\"Eastern Europe/Russia/North Ossetia\",\"Eastern Europe/Russia/North Ossetia-Alania\",\"Eastern Europe/Russia/North Ossetia-Alania (Republic)\",\"Eastern Europe/Russia/North Ossetia\\u0096Alania\",\"Australasia & Oceania/New Caledonia/North Province\",\"Western Europe/Germany/North Rhine-Westphalia\",\"Western Europe/West Germany (FRG)/North Rhine-Westphalia\",\"Middle East & North Africa/Egypt/North SInai\",\"Southeast Asia/Indonesia/North Seram (Sub district)\",\"Middle East & North Africa/Egypt/North Sinai\",\"Middle East & North Africa/Israel/North Sinai\",\"Middle East & North Africa/Egypt/North Sinai Governorate\",\"Australasia & Oceania/Papua New Guinea/North Solomons\",\"Southeast Asia/Indonesia/North Sulawesi (Province)\",\"Southeast Asia/Indonesia/North Sumatra\",\"Southeast Asia/Indonesia/North Sumatra (Province)\",\"Sub-Saharan Africa/South Africa/North West\",\"South Asia/Sri Lanka/North Western\",\"Eastern Europe/Russia/North-Caucasian (Region)\",\"Sub-Saharan Africa/Republic of the Congo/North-Kivu\",\"Sub-Saharan Africa/Cameroon/North-West\",\"South Asia/Pakistan/North-West Frontier Province\",\"Sub-Saharan Africa/Zambia/North-Western\",\"Eastern Europe/Macedonia/Northeastern\",\"Middle East & North Africa/Bahrain/Northern\",\"Sub-Saharan Africa/Ghana/Northern\",\"Middle East & North Africa/Israel/Northern\",\"Sub-Saharan Africa/Malawi/Northern\",\"Western Europe/Malta/Northern\",\"Sub-Saharan Africa/Namibia/Northern\",\"Sub-Saharan Africa/Rwanda/Northern\",\"Sub-Saharan Africa/Sierra Leone/Northern\",\"South Asia/Sri Lanka/Northern\",\"Sub-Saharan Africa/Sudan/Northern\",\"Sub-Saharan Africa/Uganda/Northern\",\"Sub-Saharan Africa/Sudan/Northern Bahr el Ghazal\",\"Middle East & North Africa/Saudi Arabia/Northern Borders\",\"Sub-Saharan Africa/South Africa/Northern Cape\",\"Western Europe/United Kingdom/Northern Ireland\",\"Western Europe/Finland/Northern Ostrobothnia\",\"Sub-Saharan Africa/Eritrea/Northern Red Sea\",\"Southeast Asia/Philippines/Northern Samar\",\"Australasia & Oceania/Australia/Northern Territory\",\"Sub-Saharan Africa/South Sudan/Northern Upper Nile\",\"Sub-Saharan Africa/Cameroon/Northwest\",\"Eastern Europe/Russia/Northwestern\",\"Eastern Europe/Slovenia/Notranjsko-kra\\u009aka\",\"Sub-Saharan Africa/Mauritania/Nouakchott\",\"Western Europe/France/Nouvelle-Aquitaine\",\"Eastern Europe/Russia/Novgorod\",\"Eastern Europe/Russia/Novgorod Oblast\",\"Eastern Europe/Russia/Novosibirsk\",\"Central Asia/Armenia/Noyemberyan\",\"Southeast Asia/Philippines/Nueva Ecija\",\"Central America & Caribbean/Nicaragua/Nueva Segovia\",\"Southeast Asia/Philippines/Nueva Vizcaya\",\"North America/Mexico/Nuevo Leon\",\"North America/Mexico/Nuevo Leon (State)\",\"Sub-Saharan Africa/Somalia/Nugaal\",\"Middle East & North Africa/Libya/Nuqat Al Khams\",\"South Asia/Afghanistan/Nuristan\",\"Sub-Saharan Africa/Kenya/Nyandarua\",\"Sub-Saharan Africa/Kenya/Nyanza\",\"Sub-Saharan Africa/Guinea/Nzerekore\",\"Sub-Saharan Africa/Comoros/Nzwani\",\"South America/Chile/O'Higgins\",\"North America/Mexico/Oaxaca\",\"North America/Mexico/Oaxaca (State)\",\"Eastern Europe/Kosovo/Obilic (Municipality)\",\"Sub-Saharan Africa/Djibouti/Obock\",\"Southeast Asia/Philippines/Occidental Mindoro\",\"Western Europe/France/Occitanie\",\"Central America & Caribbean/Honduras/Ocotepeque\",\"Southeast Asia/Cambodia/Oddar Meancheay\",\"Eastern Europe/Ukraine/Odessa\",\"Eastern Europe/Ukraine/Odessa (Oblast)\",\"South Asia/India/Odisha\",\"Western Europe/Ireland/Offaly\",\"Sub-Saharan Africa/Nigeria/Ogun\",\"Sub-Saharan Africa/Namibia/Ohangwena\",\"North America/United States/Ohio\",\"East Asia/Japan/Okinawa\",\"North America/United States/Oklahoma\",\"Central America & Caribbean/Honduras/Olancho\",\"Sub-Saharan Africa/Central African Republic/Ombella-M'Poko\",\"Sub-Saharan Africa/Namibia/Omusati\",\"Sub-Saharan Africa/Nigeria/Ondo\",\"Southeast Asia/Brunei/Ontario\",\"North America/Canada/Ontario\",\"Eastern Europe/Kosovo/Opoja (Municipality)\",\"Eastern Europe/Poland/Opole\",\"Eastern Europe/Macedonia/Opstina Strumica (Region)\",\"Eastern Europe/Kosovo/Orahovac (Municipality)\",\"Eastern Europe/Bulgaria/Orahovo\",\"Middle East & North Africa/Algeria/Oran\",\"Middle East & North Africa/Algeria/Oran (Province)\",\"Middle East & North Africa/Algeria/Oran Province\",\"Sub-Saharan Africa/South Africa/Orange Free State\",\"Middle East & North Africa/Turkey/Ordu\",\"Central Asia/Azerbaijan/Ordubad\",\"Western Europe/Sweden/Orebro\",\"North America/United States/Oregon\",\"South America/Ecuador/Orellana\",\"Middle East & North Africa/Morocco/Oriental\",\"Southeast Asia/Philippines/Oriental Mindoro\",\"Sub-Saharan Africa/Democratic Republic of the Congo/Orientale\",\"Sub-Saharan Africa/Zaire/Orientale\",\"South Asia/India/Orissa\",\"Sub-Saharan Africa/Ethiopia/Oromia\",\"South America/Bolivia/Oruro\",\"Eastern Europe/Russia/Oryol Oblast\",\"East Asia/Japan/Osaka\",\"Central Asia/Kyrgyzstan/Osh (Oblast)\",\"Central Asia/Kyrgyzstan/Osh (Province)\",\"Sub-Saharan Africa/Namibia/Oshana\",\"Sub-Saharan Africa/Namibia/Oshikoto\",\"Eastern Europe/Croatia/Osijek-Baranja\",\"Western Europe/Norway/Oslo\",\"Eastern Europe/Macedonia/Oslomej (Municipality)\",\"Middle East & North Africa/Turkey/Osmaniye\",\"Western Europe/Sweden/Ostergotland\",\"Sub-Saharan Africa/Nigeria/Osun\",\"Sub-Saharan Africa/Namibia/Otjozondjupa\",\"Sub-Saharan Africa/Chad/Ouaddai\",\"Sub-Saharan Africa/Central African Republic/Ouaka\",\"Middle East & North Africa/Algeria/Ouargla\",\"Middle East & North Africa/Algeria/Ouargla (Province)\",\"Central America & Caribbean/Haiti/Ouest\",\"Central America & Caribbean/Haiti/Ouest (Department)\",\"Sub-Saharan Africa/Central African Republic/Ouham\",\"Sub-Saharan Africa/Central African Republic/Ouham-Pende\",\"Middle East & North Africa/Algeria/Oum El Bouaghi\",\"Middle East & North Africa/Algeria/Oum el-Bouaghi\",\"Western Europe/Spain/Ourense\",\"Western Europe/Netherlands/Overijssel\",\"Sub-Saharan Africa/Nigeria/Oyo\",\"Western Europe/Finland/Paijanne Tavastia\",\"Southeast Asia/Cambodia/Pailin\",\"South Asia/Afghanistan/Paktia\",\"South Asia/Afghanistan/Paktika\",\"South Asia/Afghanistan/Paktika Province\",\"Southeast Asia/Philippines/Palawan\",\"Western Europe/Spain/Palencia\",\"Southeast Asia/Philippines/Pampanga\",\"Central America & Caribbean/Panama/Panama\",\"Central America & Caribbean/Panama/Panama (Province)\",\"Central America & Caribbean/Panama/Panam\\u00e1\",\"Southeast Asia/Philippines/Pangasinan\",\"South Asia/Afghanistan/Panjsher\",\"Australasia & Oceania/French Polynesia/Papeete\",\"Western Europe/Cyprus/Paphos\",\"Southeast Asia/Indonesia/Papua\",\"Australasia & Oceania/Papua New Guinea/Papua\",\"Southeast Asia/Indonesia/Papua (Province)\",\"Southeast Asia/Indonesia/Papua Province\",\"South America/Brazil/Para\",\"South America/Suriname/Para\",\"South America/Brazil/Paraiba\",\"South America/Suriname/Paramaribo\",\"South America/Brazil/Parana\",\"Western Europe/France/Paris\",\"Eastern Europe/Estonia/Parita-Merivalja\",\"South Asia/Afghanistan/Parwan\",\"South America/Peru/Pasco\",\"Southeast Asia/Thailand/Pathum Thani\",\"Southeast Asia/Thailand/Pathum thani\",\"Southeast Asia/Thailand/Pattani\",\"Southeast Asia/Thailand/Pattani ( District )\",\"Southeast Asia/Thailand/Pattani (Provience)\",\"Southeast Asia/Thailand/Pattani (Province)\",\"Southeast Asia/Thailand/Pattani (province)\",\"Southeast Asia/Thailand/Pattani Province\",\"Southeast Asia/Thailand/Pattani and Yala Provinces\",\"Southeast Asia/Thailand/Pattani province\",\"Southeast Asia/Thailand/Pattani, Narathiwat, and Yala\",\"Southeast Asia/Thailand/Pattani, Narathiwat, and Yala Provinces\",\"Southeast Asia/Thailand/Pattini (Province)\",\"Central Asia/Kazakhstan/Pavlodar\",\"Western Europe/France/Pays de la Loire\",\"Western Europe/France/Pays-de-la-Loire\",\"South America/Uruguay/Paysandu\",\"Eastern Europe/Bulgaria/Pazardzhik\",\"Eastern Europe/Serbia/Pcinja\",\"Eastern Europe/Yugoslavia/Pcinja\",\"Eastern Europe/Serbia-Montenegro/Pcinja ( District )\",\"Eastern Europe/Serbia-Montenegro/Pcinja (District)\",\"Eastern Europe/Yugoslavia/Pcinja (District)\",\"Eastern Europe/Kosovo/Pec\",\"Eastern Europe/Kosovo/Pec (District)\",\"Eastern Europe/Kosovo/Pecki\",\"Southeast Asia/Myanmar/Pegu\",\"Eastern Europe/Macedonia/Pelagonia\",\"Western Europe/Greece/Peloponnese\",\"Sub-Saharan Africa/Tanzania/Pemba South\",\"Southeast Asia/Malaysia/Penang\",\"East Asia/Taiwan/Penghu\",\"North America/United States/Pennsylvania\",\"Eastern Europe/Albania/Peqin\",\"Southeast Asia/Malaysia/Perak\",\"Southeast Asia/Malaysia/Perlis\",\"South America/Brazil/Pernambuco\",\"Eastern Europe/Hungary/Pest\",\"Central America & Caribbean/Guatemala/Peten\",\"Southeast Asia/Thailand/Phangnga\",\"Southeast Asia/Thailand/Phayao\",\"Southeast Asia/Thailand/Phetchabun\",\"Southeast Asia/Thailand/Phetchaburi\",\"Southeast Asia/Thailand/Phichit\",\"Southeast Asia/Cambodia/Phnom Penh\",\"Southeast Asia/Cambodia/Phnom Penh (Municipality)\",\"Southeast Asia/Cambodia/Phom Penh (Municipality)\",\"Southeast Asia/Laos/Phongsaly\",\"Southeast Asia/Thailand/Phra Nakhon Si Ayutthaya\",\"Southeast Asia/Thailand/Phuket\",\"Western Europe/France/Picardy\",\"South America/Colombia/Pichincha\",\"South America/Ecuador/Pichincha\",\"Southeast Asia/Indonesia/Pidie (Regency)\",\"Western Europe/Italy/Piedmont\",\"Western Europe/Finland/Pirkanmaa\",\"South America/Peru/Piura\",\"South Asia/Mauritius/Plaines Wilhems\",\"Sub-Saharan Africa/Nigeria/Plateau\",\"Sub-Saharan Africa/Republic of the Congo/Plateaux\",\"Sub-Saharan Africa/Togo/Plateaux\",\"Southeast Asia/South Vietnam/Pleiku\",\"Eastern Europe/Bulgaria/Plovdiv\",\"Eastern Europe/Montenegro/Podgorica\",\"Eastern Europe/Yugoslavia/Podgorica\",\"Eastern Europe/Poland/Podlaskie (Region)\",\"Central America & Caribbean/Trinidad and Tobago/Point Fortin\",\"Sub-Saharan Africa/Republic of the Congo/Pointe Noire\",\"Central America & Caribbean/Guadeloupe/Pointe-a-Pitre\",\"Central America & Caribbean/Guadeloupe/Pointe-\\u00e0-Pitre\",\"Western Europe/France/Poitou-Charentes\",\"Eastern Europe/Macedonia/Polog\",\"Eastern Europe/Macedonia/Polog (Region)\",\"Eastern Europe/Ukraine/Poltava\",\"Eastern Europe/Poland/Pomeranian (Voivodeship)\",\"Western Europe/Spain/Pontevedra\",\"Sub-Saharan Africa/Republic of the Congo/Pool\",\"Middle East & North Africa/Egypt/Port Said\",\"Central America & Caribbean/Trinidad and Tobago/Port of Spain\",\"Central America & Caribbean/Trinidad and Tobago/Port of Spain (Municipality)\",\"Central America & Caribbean/Haiti/Port-au-Prince (Capital City)\",\"Central America & Caribbean/Trinidad and Tobago/Port-of-Spain City Corporation\",\"Central America & Caribbean/Jamaica/Portland\",\"Western Europe/Portugal/Porto\",\"South America/Venezuela/Portuguesa\",\"South America/Bolivia/Potosi\",\"Eastern Europe/Croatia/Pozega-Slavonia\",\"Eastern Europe/Poland/Poznan\",\"Southeast Asia/Thailand/Prachinburi\",\"Southeast Asia/Thailand/Prachuap Khiri Khan\",\"Eastern Europe/Czech Republic/Prague\",\"Eastern Europe/Czechoslovakia/Prague\",\"Eastern Europe/Czech Republic/Praha\",\"Southeast Asia/Cambodia/Preah Vihear\",\"Southeast Asia/Cambodia/Preah Vihear (Province)\",\"Eastern Europe/Yugoslavia/Presevo (Municipality)\",\"Eastern Europe/Slovak Republic/Presov\",\"Southeast Asia/Cambodia/Prey Veng\",\"Eastern Europe/Macedonia/Prilep (Municipality)\",\"Eastern Europe/Croatia/Primorje-Gorski Kotar\",\"Eastern Europe/Russia/Primorsky Krai\",\"Central America & Caribbean/Trinidad and Tobago/Princes Town\",\"Eastern Europe/Kosovo/Prishtine (Municipality)\",\"Eastern Europe/Kosovo/Pristina\",\"Eastern Europe/Kosovo/Pristina district\",\"Eastern Europe/Kosovo/Prizren\",\"Southeast Asia/Indonesia/Propinsi Sulawesi Tengah\",\"Western Europe/France/Provence-Alpes-Cote d'Azur\",\"South Asia/Nepal/Province 1\",\"South Asia/Nepal/Province 2\",\"South Asia/Nepal/Province 3\",\"South Asia/Nepal/Province 4\",\"South Asia/Nepal/Province 5\",\"South Asia/Nepal/Province 6\",\"South Asia/Nepal/Province 7\",\"Eastern Europe/Russia/Pskov\",\"South Asia/India/Puducherry\",\"North America/Mexico/Puebla\",\"North America/United States/Puerto Rico\",\"Eastern Europe/Albania/Puke\",\"South Asia/India/Punjab\",\"South Asia/Pakistan/Punjab\",\"South America/Peru/Puno\",\"Central America & Caribbean/Costa Rica/Puntarenas\",\"Southeast Asia/Cambodia/Pursa\",\"Southeast Asia/Cambodia/Pursat\",\"Southeast Asia/Malaysia/Putrajaya\",\"South America/Colombia/Putumayo\",\"Western Europe/France/Puy-de-Dome\",\"Sub-Saharan Africa/Tanzania/Pwani\",\"East Asia/North Korea/Pyongyang\",\"Western Europe/France/Pyrenees-Atlantiques\",\"Middle East & North Africa/Iran/Qadisiyah\",\"Middle East & North Africa/Iraq/Qadisiyah\",\"Middle East & North Africa/Egypt/Qalyubia\",\"Middle East & North Africa/Saudi Arabia/Qassim\",\"Middle East & North Africa/Iran/Qazvin\",\"Middle East & North Africa/Egypt/Qena\",\"East Asia/China/Qinghai\",\"Middle East & North Africa/Iran/Qom\",\"Central Asia/Azerbaijan/Quba\",\"North America/Canada/Quebec\",\"North America/Canada/Quebec (Province)\",\"Australasia & Oceania/Australia/Queensland\",\"Australasia & Oceania/Australia/Queensland (State)\",\"Middle East & North Africa/Egypt/Quena\",\"North America/Mexico/Queretaro\",\"North America/Mexico/Queretaro (State)\",\"Central America & Caribbean/Guatemala/Quetzaltenango\",\"Southeast Asia/Philippines/Quezon\",\"Southeast Asia/Philippines/Quezon Province\",\"Central America & Caribbean/Guatemala/Quiche\",\"South America/Colombia/Quindio\",\"North America/Mexico/Quintana\",\"North America/Mexico/Quintana Roo\",\"Southeast Asia/Philippines/Quirino\",\"Middle East & North Africa/Syria/Quneitra\",\"Central Asia/Azerbaijan/Qusar\",\"Sub-Saharan Africa/Lesotho/Quthing\",\"Southeast Asia/Thailand/Ra Ngae ( District )\",\"Middle East & North Africa/Morocco/Rabat-Sale-Zemmour-Zaer\",\"Central Asia/Georgia/Racha-Lechkhumi and Kvemo Svaneti\",\"South Asia/India/Rajasthan\",\"South Asia/Bangladesh/Rajshahi\",\"Southeast Asia/Myanmar/Rakhine\",\"Southeast Asia/Thailand/Rangae\",\"Southeast Asia/Myanmar/Rangoon\",\"South Asia/Bangladesh/Rangpur\",\"Middle East & North Africa/Syria/Raqqah\",\"Eastern Europe/Serbia-Montenegro/Raska ( District )\",\"Southeast Asia/Thailand/Ratchaburi\",\"Southeast Asia/Thailand/Ratchaburi (Province)\",\"Southeast Asia/Thailand/Rayong\",\"Southeast Asia/Thailand/Rayong (Province)\",\"Middle East & North Africa/Iran/Razavi Khorasan\",\"Middle East & North Africa/Egypt/Red Sea\",\"Sub-Saharan Africa/Ethiopia/Red Sea\",\"Sub-Saharan Africa/Sudan/Red Sea\",\"Middle East & North Africa/Algeria/Relizane\",\"Middle East & North Africa/Algeria/Relizane (Province)\",\"Middle East & North Africa/Algeria/Relizane Province\",\"Eastern Europe/Russia/Republic of Dagestan\",\"Eastern Europe/Russia/Republic of Degastan\",\"Eastern Europe/Bosnia-Herzegovina/Republika Srpska\",\"Eastern Europe/Yugoslavia/Republika Srpska\",\"Central America & Caribbean/Guatemala/Retahuleu\",\"Central America & Caribbean/Guatemala/Retalhuleu\",\"Australasia & Oceania/Fiji/Rewa\",\"Western Europe/Germany/Rhineland-Palatinate\",\"Western Europe/West Germany (FRG)/Rhineland-Palatinate\",\"North America/United States/Rhode Island\",\"Western Europe/France/Rhone\",\"Western Europe/France/Rhone-Alpes\",\"Southeast Asia/Indonesia/Riau (Province)\",\"Southeast Asia/Indonesia/Riau Islands\",\"Middle East & North Africa/Syria/Rif Dimashq\",\"Sub-Saharan Africa/Kenya/Rift Valley\",\"Eastern Europe/Latvia/Riga\",\"Eastern Europe/Latvia/Riga (City)\",\"South America/Brazil/Rio Grande do Norte\",\"South America/Brazil/Rio Grande do Sul\",\"South America/Argentina/Rio Negro\",\"Central America & Caribbean/Nicaragua/Rio San Juan\",\"South America/Brazil/Rio de Janeiro\",\"South America/Colombia/Risaralda\",\"Central America & Caribbean/Honduras/Rivas\",\"Central America & Caribbean/Nicaragua/Rivas\",\"Sub-Saharan Africa/Sudan/River Nile\",\"Sub-Saharan Africa/Nigeria/Rivers\",\"Eastern Europe/Ukraine/Rivne\",\"Middle East & North Africa/Saudi Arabia/Riyadh\",\"Southeast Asia/Philippines/Rizal\",\"Southeast Asia/Philippines/Romblon\",\"South America/Brazil/Rondonia\",\"South America/Brazil/Roraima\",\"Eastern Europe/Russia/Rostov\",\"Eastern Europe/Russia/Rostov (Oblast)\",\"Eastern Europe/Russia/Rostov (Rostovskaya) Oblast\",\"Middle East & North Africa/Algeria/Rouiba (Province)\",\"Eastern Europe/Ukraine/Roztochia Upland\",\"Sub-Saharan Africa/Rwanda/Ruhengeri\",\"Sub-Saharan Africa/Tanzania/Rukwa\",\"Sub-Saharan Africa/Burundi/Rumonge\",\"Eastern Europe/Russia/Russia\",\"Eastern Europe/Soviet Union/Russia\",\"Eastern Europe/Russia/Russian Republic\",\"Sub-Saharan Africa/Burundi/Rutana\",\"Sub-Saharan Africa/Burundi/Ruyigi\",\"South Asia/Pakistan/SIndh\",\"Southeast Asia/Thailand/Sa Kaeo\",\"Southeast Asia/Thailand/Sa Kaeo (Province)\",\"Middle East & North Africa/Yemen/Saada\",\"Western Europe/Germany/Saarland\",\"Western Europe/West Germany (FRG)/Saarland\",\"Southeast Asia/Malaysia/Sabah\",\"Southeast Asia/Malaysia/Sabah (State)\",\"South Asia/Sri Lanka/Sabaragamuwa\",\"Middle East & North Africa/Libya/Sabha\",\"Central America & Caribbean/Guatemala/Sacatepequez\",\"Southeast Asia/Myanmar/Sagaing\",\"Middle East & North Africa/Algeria/Sahara\",\"Sub-Saharan Africa/Burkina Faso/Sahel\",\"Middle East & North Africa/Algeria/Saida\",\"Middle East & North Africa/Algeria/Saida (Province)\",\"Central America & Caribbean/Jamaica/Saint Andrew\",\"Western Europe/Switzerland/Saint Gallen\",\"Central America & Caribbean/Dominica/Saint George\",\"Central America & Caribbean/Grenada/Saint George\",\"Central America & Caribbean/St. Kitts and Nevis/Saint George Basseterre\",\"Central America & Caribbean/Jamaica/Saint James\",\"Central America & Caribbean/Dominica/Saint John\",\"Central America & Caribbean/Antigua and Barbuda/Saint John Parish\",\"Central America & Caribbean/Barbados/Saint Joseph\",\"South America/French Guiana/Saint Laurent Du Maroni\",\"Central America & Caribbean/Jamaica/Saint Mary\",\"Central America & Caribbean/Barbados/Saint Michael\",\"Central America & Caribbean/Grenada/Saint Patrick\",\"Eastern Europe/Russia/Saint Petersburg\",\"Southeast Asia/Laos/Sainyabuli\",\"East Asia/Japan/Saitama\",\"Middle East & North Africa/Turkey/Sakarya\",\"Eastern Europe/Russia/Sakha\",\"Eastern Europe/Russia/Sakhalin\",\"Eastern Europe/Russia/Sakhalin (Oblast)\",\"Middle East & North Africa/Iraq/Saladin\",\"Western Europe/Spain/Salamanca\",\"Sub-Saharan Africa/Rhodesia/Salisbury\",\"Sub-Saharan Africa/Zimbabwe/Salisbury\",\"South America/Argentina/Salta\",\"Western Europe/Austria/Salzburg\",\"South Asia/Afghanistan/Samangan\",\"Southeast Asia/Philippines/Samar\",\"Eastern Europe/Russia/Samara\",\"Eastern Europe/Russia/Samara Oblast\",\"Sub-Saharan Africa/Kenya/Samburu\",\"Central Asia/Georgia/Samegrelo and Zemo Svaneti\",\"Central Asia/Georgia/Samegrelo-Zemo Svaneti\",\"Central Asia/Georgia/Samegrelo-Zemo Svaneti (Region)\",\"Middle East & North Africa/Turkey/Samsun\",\"Central Asia/Georgia/Samtskhe-Javakheti\",\"Central Asia/Georgia/Samtskhe-Javakheti (Province)\",\"Southeast Asia/Thailand/Samut Sakhon\",\"Central America & Caribbean/Dominican Republic/San Cristobal\",\"Central America & Caribbean/Costa Rica/San Jose\",\"South America/Argentina/San Juan\",\"Central America & Caribbean/Dominican Republic/San Juan\",\"Central America & Caribbean/Trinidad and Tobago/San Juan-Laventille\",\"South America/Argentina/San Luis\",\"North America/Mexico/San Luis Potosi\",\"Central America & Caribbean/Guatemala/San Marcos\",\"South America/Peru/San Martin\",\"Central America & Caribbean/El Salvador/San Miguel\",\"South America/Paraguay/San Pedro\",\"Central America & Caribbean/Dominican Republic/San Pedro de Macoris\",\"Central America & Caribbean/El Salvador/San Salvador\",\"Central America & Caribbean/El Salvador/San Vicente\",\"Middle East & North Africa/Yemen/Sanaa\",\"Sub-Saharan Africa/Somalia/Sanaag\",\"Sub-Saharan Africa/Republic of the Congo/Sangha\",\"Sub-Saharan Africa/Central African Republic/Sangha-Mbaere\",\"Central America & Caribbean/Trinidad and Tobago/Sangre Grande Regional Corporation\",\"Middle East & North Africa/Turkey/Sanliurfa\",\"Central America & Caribbean/El Salvador/Santa Ana\",\"Central America & Caribbean/Guatemala/Santa Ana\",\"Central America & Caribbean/Honduras/Santa Barbara\",\"South America/Bolivia/Santa Cruz\",\"Western Europe/Spain/Santa Cruz de Tenerife\",\"South America/Argentina/Santa Fe\",\"Central America & Caribbean/Guatemala/Santa Rosa\",\"Central America & Caribbean/Guatemala/Santa Rosa (Department)\",\"South America/Colombia/Santander\",\"Western Europe/Portugal/Santarem\",\"Central America & Caribbean/Dominican Republic/Santiago\",\"South America/Chile/Santiago Metropolitan\",\"South America/Argentina/Santiago del Estero\",\"Central America & Caribbean/Dominican Republic/Santo Domingo\",\"South America/Ecuador/Santo Domingo de los Tsachilas\",\"South America/Brazil/Sao Paulo\",\"Western Europe/France/Saone-et-Loire\",\"Southeast Asia/Thailand/Saraburi\",\"South America/Suriname/Saramacca\",\"Eastern Europe/Albania/Sarande\",\"Southeast Asia/Philippines/Sarangani\",\"Southeast Asia/Malaysia/Sarawak\",\"Western Europe/Italy/Sardinia\",\"South Asia/Afghanistan/Sari Pul\",\"South Asia/Bhutan/Sarpang\",\"Western Europe/Finland/Satakunta\",\"Sub-Saharan Africa/Ivory Coast/Savanes\",\"South Asia/Mauritius/Savanne\",\"Western Europe/Germany/Saxony\",\"Western Europe/Germany/Saxony-Anhalt\",\"Western Europe/West Germany (FRG)/Saxony-Anhalt\",\"Middle East & North Africa/Algeria/Sa\\u00efda\",\"Western Europe/Germany/Schleswig-Holstein\",\"Western Europe/West Germany (FRG)/Schleswig-Holstein\",\"Western Europe/United Kingdom/Scotland\",\"Sub-Saharan Africa/Senegal/Sedhiou\",\"Sub-Saharan Africa/Mali/Segou\",\"Western Europe/Spain/Segovia\",\"Western Europe/France/Seine-Maritime\",\"Western Europe/France/Seine-Saint-Denis\",\"Western Europe/France/Seine-et-Marne\",\"Southeast Asia/Malaysia/Selangor\",\"Sub-Saharan Africa/Sudan/Sennar\",\"East Asia/South Korea/Seoul\",\"Eastern Europe/Serbia/Serbia\",\"Eastern Europe/Yugoslavia/Serbia\",\"Middle East & North Africa/Algeria/Setif\",\"Middle East & North Africa/Algeria/Setif (Province)\",\"Middle East & North Africa/Algeria/Setif (Stif)\",\"Middle East & North Africa/Algeria/Setif Province\",\"Western Europe/Portugal/Setubal\",\"Eastern Europe/Ukraine/Sevastopol\",\"Eastern Europe/Hungary/Seventh District\",\"Eastern Europe/Czechoslovakia/Severocesky\",\"Western Europe/Spain/Seville\",\"East Asia/China/Shaanxi\",\"East Asia/China/Shaanxi (Province)\",\"Middle East & North Africa/Yemen/Shabwah\",\"Eastern Europe/Russia/Shali\",\"Middle East & North Africa/Egypt/Shamal Sina\",\"Middle East & North Africa/Egypt/Shamal Sina' (Governorate)\",\"Southeast Asia/Myanmar/Shan\",\"Southeast Asia/Myanmar/Shan (State)\",\"Southeast Asia/Myanmar/Shan State\",\"East Asia/China/Shandong\",\"East Asia/China/Shandong (Province)\",\"East Asia/China/Shanghai\",\"East Asia/China/Shanxi\",\"Australasia & Oceania/New Hebrides/Shefa\",\"Australasia & Oceania/Vanuatu/Shefa\",\"Central Asia/Georgia/Shida Kartli\",\"Central Asia/Georgia/Shida Kartli (Region)\",\"Central Asia/Georgia/Shida Kartlie (Region)\",\"East Asia/Japan/Shikoku\",\"East Asia/Japan/Shimane\",\"Central Asia/Armenia/Shirak\",\"Sub-Saharan Africa/Swaziland/Shiselweni\",\"Eastern Europe/Albania/Shkoder\",\"Central Asia/Azerbaijan/Shusha\",\"Southeast Asia/Indonesia/Siah\",\"Sub-Saharan Africa/Kenya/Siaya\",\"Eastern Europe/Croatia/Sibenik-Knin\",\"Eastern Europe/Russia/Siberia (Oblast)\",\"East Asia/China/Sichuan\",\"East Asia/China/Sichuan (Province)\",\"Western Europe/Italy/Sicily\",\"Middle East & North Africa/Algeria/Sidi Bel Abbes\",\"Middle East & North Africa/Algeria/Sidi Bel Abbes (Province)\",\"Middle East & North Africa/Algeria/Sidi Bel Abbes (Region)\",\"Middle East & North Africa/Algeria/Sidi Bel Abb\\u00e8s Province\",\"Middle East & North Africa/Tunisia/Sidi Bou Zid\",\"Middle East & North Africa/Tunisia/Sidi Bouzid\",\"Southeast Asia/Cambodia/Siem Reap\",\"Southeast Asia/Cambodia/Siem Reap (Province)\",\"Southeast Asia/Cambodia/Sihanoukville\",\"Middle East & North Africa/Turkey/Siirt\",\"Sub-Saharan Africa/Mali/Sikasso\",\"South Asia/India/Sikkim\",\"Sub-Saharan Africa/Chad/Sila\",\"Middle East & North Africa/Tunisia/Siliana\",\"Middle East & North Africa/Egypt/Sinai\",\"North America/Mexico/Sinaloa\",\"South Asia/Pakistan/Sindh\",\"Southeast Asia/Singapore/Singapore\",\"Middle East & North Africa/Turkey/Sinop\",\"South America/Suriname/Sipaliwini\",\"Southeast Asia/Philippines/Siquijor\",\"Middle East & North Africa/Turkey/Sirnak\",\"Middle East & North Africa/Libya/Sirte\",\"Eastern Europe/Croatia/Sisak-Moslavina\",\"Middle East & North Africa/Iran/Sistan and Balochistan\",\"Middle East & North Africa/Iran/Sistan and Baluchestan\",\"Middle East & North Africa/Iran/Sistan va Baluchestan\",\"Middle East & North Africa/Turkey/Sivas\",\"Western Europe/Sweden/Skane\",\"Eastern Europe/Poland/Skierniewice\",\"Middle East & North Africa/Algeria/Skikda\",\"Middle East & North Africa/Algeria/Skikda (Province)\",\"Middle East & North Africa/Algeria/Skikda Province\",\"Middle East & North Africa/Algeria/Skikida (Province)\",\"Eastern Europe/Macedonia/Skopje\",\"Eastern Europe/Macedonia/Skopje (District)\",\"Eastern Europe/Macedonia/Skopje (Municipality)\",\"Eastern Europe/Macedonia/Skopje (Region)\",\"Eastern Europe/Russia/Skra\",\"Western Europe/Ireland/Sligo\",\"Eastern Europe/Yugoslavia/Slovenia\",\"Eastern Europe/Russia/Smolensk (Oblast)\",\"Eastern Europe/Russia/Smolensk Oblast\",\"Eastern Europe/Russia/Smolensk Oblast (Administrative Region)\",\"Western Europe/Sweden/Sodermanland\",\"Sub-Saharan Africa/Mozambique/Sofala\",\"Eastern Europe/Bulgaria/Sofia City\",\"Eastern Europe/Bulgaria/Sofia City (Province)\",\"Central Asia/Tajikistan/Soghd\",\"Middle East & North Africa/Egypt/Sohag\",\"Sub-Saharan Africa/Nigeria/Sokoto\",\"Central America & Caribbean/Guatemala/Solola\",\"Western Europe/Switzerland/Solothurn\",\"Sub-Saharan Africa/Ethiopia/Somali\",\"Southeast Asia/Thailand/Songkhla\",\"Southeast Asia/Thailand/Songkhla (Province)\",\"Southeast Asia/Thailand/Songkla (Province)\",\"North America/Mexico/Sonora\",\"Central America & Caribbean/El Salvador/Sonsonate\",\"Sub-Saharan Africa/Somalia/Sool\",\"Western Europe/Spain/Soria\",\"Southeast Asia/Philippines/Sorsogon\",\"Middle East & North Africa/Algeria/Souk Ahras\",\"Middle East & North Africa/Tunisia/Sousse\",\"Sub-Saharan Africa/Cameroon/South\",\"Middle East & North Africa/Lebanon/South\",\"Southeast Asia/Thailand/South\",\"Western Europe/Greece/South Aegean\",\"Australasia & Oceania/Australia/South Australia\",\"Eastern Europe/Czech Republic/South Bohemia\",\"Central America & Caribbean/Nicaragua/South Caribbean Coast Autonomous Region\",\"North America/United States/South Carolina\",\"Southeast Asia/Philippines/South Cotabato\",\"North America/United States/South Dakota\",\"Sub-Saharan Africa/Sudan/South Darfur\",\"Central America & Caribbean/Jamaica/South East St. Andrew\",\"Western Europe/Malta/South Eastern\",\"Australasia & Oceania/Papua New Guinea/South Highlands (Province)\",\"Western Europe/Netherlands/South Holland\",\"East Asia/South Korea/South Jeolla\",\"Central Asia/Kazakhstan/South Kazakhstan\",\"Sub-Saharan Africa/Democratic Republic of the Congo/South Kivu\",\"Sub-Saharan Africa/Zaire/South Kivu\",\"Sub-Saharan Africa/Sudan/South Kordofan\",\"Sub-Saharan Africa/Sudan/South Kurdufan\",\"Central Asia/Georgia/South Ossetia\",\"Central Asia/Georgia/South Ossetia (Autonomous Province)\",\"Central Asia/Georgia/South Ossetia (Region)\",\"Central Asia/Georgia/South Ossetia (Republic)\",\"Australasia & Oceania/New Caledonia/South Province\",\"Middle East & North Africa/Egypt/South Sinai\",\"Middle East & North Africa/Egypt/South Sinai (Governorate)\",\"Middle East & North Africa/Egypt/South Sinai Governorate\",\"Southeast Asia/Indonesia/South Sulawesi\",\"Southeast Asia/Indonesia/South Sulawesi (Province)\",\"Southeast Asia/Indonesia/South Sumatra\",\"Sub-Saharan Africa/Botswana/South-East\",\"Sub-Saharan Africa/Cameroon/South-West\",\"Central America & Caribbean/Haiti/Southeast (Department)\",\"Middle East & North Africa/Bahrain/Southern\",\"Western Europe/Denmark/Southern\",\"Sub-Saharan Africa/Eritrea/Southern\",\"Middle East & North Africa/Israel/Southern\",\"Sub-Saharan Africa/Malawi/Southern\",\"Western Europe/Malta/Southern\",\"Sub-Saharan Africa/Rwanda/Southern\",\"Sub-Saharan Africa/Sierra Leone/Southern\",\"South Asia/Sri Lanka/Southern\",\"Sub-Saharan Africa/Zambia/Southern\",\"Australasia & Oceania/Papua New Guinea/Southern Highlands\",\"Southeast Asia/Philippines/Southern Leyte\",\"Sub-Saharan Africa/South Sudan/Southern Liech\",\"Sub-Saharan Africa/Ethiopia/Southern Nations\",\"Eastern Europe/Serbia/Southern and Eastern Serbia\",\"Sub-Saharan Africa/Cameroon/Southwest\",\"Western Europe/Finland/Southwest Finland\",\"Eastern Europe/Croatia/Split-Dalmatia\",\"Eastern Europe/Russia/St. Petersburg\",\"Eastern Europe/Russia/St. Petersburg (Federal City)\",\"Eastern Europe/Bulgaria/Stara Zagora\",\"North America/Mexico/State of Mexico\",\"Eastern Europe/Russia/Stavropol\",\"Eastern Europe/Russia/Stavropol (Krai)\",\"Eastern Europe/Russia/Stavropol Krai\",\"Eastern Europe/Russia/Stavropolye Region\",\"Western Europe/Sweden/Stockholm\",\"Eastern Europe/Macedonia/Struga municipality\",\"Southeast Asia/Cambodia/Stung Trang\",\"Southeast Asia/Cambodia/Stung Treng\",\"Western Europe/Austria/Styria\",\"Southeast Asia/Thailand/Su-ngai Kolok  District Su-ngai Kolok\",\"Central America & Caribbean/Guatemala/Suchitepequez\",\"South America/Colombia/Sucre\",\"South America/Venezuela/Sucre\",\"South America/Ecuador/Sucumbios\",\"Central America & Caribbean/Haiti/Sud\",\"Sub-Saharan Africa/Ivory Coast/Sud-Bandama\",\"Sub-Saharan Africa/Ivory Coast/Sud-Comoe\",\"Central America & Caribbean/Haiti/Sud-Est\",\"Middle East & North Africa/Egypt/Suez\",\"Central Asia/Tajikistan/Sughd\",\"Central Asia/Georgia/Sukhumi (Region)\",\"Southeast Asia/Indonesia/Sulawesi\",\"Southeast Asia/Indonesia/Sulawesi (Island)\",\"Southeast Asia/Indonesia/Sulawesi (Province)\",\"Southeast Asia/Indonesia/Sulawesi Tengah (Central Sulawesi)\",\"Southeast Asia/Indonesia/Sulawesi Tengah (Province)\",\"Middle East & North Africa/Iraq/Sulaymaniyah\",\"Southeast Asia/Philippines/Sultan Kudarat\",\"Southeast Asia/Philippines/Sultan Kudurat\",\"Southeast Asia/Philippines/Sulu\",\"Southeast Asia/Indonesia/Sumatera Selatan\",\"Southeast Asia/Indonesia/Sumatra (Province)\",\"Eastern Europe/Ukraine/Sumy\",\"Southeast Asia/Thailand/Sungai Kolok\",\"Southeast Asia/Thailand/Sungai Padi ( District )\",\"Southeast Asia/Thailand/Surat Thani\",\"Southeast Asia/Thailand/Suria\",\"Southeast Asia/Philippines/Surigao del Norte\",\"Southeast Asia/Philippines/Surigao del Sur\",\"Southeast Asia/Thailand/Surin\",\"Southeast Asia/Cambodia/Svay Rieng\",\"Eastern Europe/Russia/Sverdlovsk\",\"Eastern Europe/Russia/Sverdlovsk (Oblast)\",\"Middle East & North Africa/Bahrain/Sylhet\",\"South Asia/Bangladesh/Sylhet\",\"Eastern Europe/Hungary/Szabolcs-Szatmar-Bereg\",\"Eastern Europe/Poland/Szczecin\",\"Middle East & North Africa/Algeria/S\\u00e9tif\",\"Central Asia/Georgia/T'bilisi\",\"North America/Mexico/Tabasco\",\"Middle East & North Africa/Algeria/Tabaza (Province)\",\"Middle East & North Africa/Saudi Arabia/Tabuk\",\"South America/Venezuela/Tachira\",\"South America/Peru/Tacna\",\"Sub-Saharan Africa/Djibouti/Tadjourah\",\"Sub-Saharan Africa/Niger/Tahoua\",\"East Asia/Taiwan/Taichung\",\"East Asia/Taiwan/Tainan\",\"East Asia/Taiwan/Taipei\",\"East Asia/Taiwan/Taipei (County)\",\"Middle East & North Africa/Yemen/Taizz\",\"Southeast Asia/Myanmar/Tak\",\"Southeast Asia/Thailand/Tak\",\"Southeast Asia/Thailand/Tak (Province)\",\"Southeast Asia/Thailand/Tak Bai ( District )\",\"Southeast Asia/Cambodia/Takeo\",\"South Asia/Afghanistan/Takhar\",\"Middle East & North Africa/Algeria/Tamalous (Region)\",\"Middle East & North Africa/Algeria/Tamanghasset\",\"North America/Mexico/Tamaulipas\",\"North America/Mexico/Tamaulipas (State)\",\"South Asia/India/Tamil Nadu\",\"Sub-Saharan Africa/Kenya/Tana River\",\"Sub-Saharan Africa/Tanzania/Tanga\",\"Sub-Saharan Africa/Democratic Republic of the Congo/Tanganyika\",\"Southeast Asia/Myanmar/Tanintharyi\",\"Southeast Asia/Myanmar/Tanintharyi (Division)\",\"Sub-Saharan Africa/Niger/Tanout Department\",\"East Asia/Taiwan/Taoyuan (County)\",\"Sub-Saharan Africa/Nigeria/Taraba\",\"South America/Chile/Tarapaca\",\"South America/Bolivia/Tarija\",\"Southeast Asia/Philippines/Tarlac\",\"Western Europe/Spain/Tarragona\",\"Central Asia/Azerbaijan/Tartar\",\"Middle East & North Africa/Syria/Tartus\",\"Central Asia/Uzbekistan/Tashkent\",\"Central Asia/Uzbekistan/Tashkent (Capital City)\",\"Central Asia/Uzbekistan/Tashkent (Province)\",\"Australasia & Oceania/Australia/Tasmania\",\"Middle East & North Africa/Tunisia/Tataouine\",\"Eastern Europe/Russia/Tatarstan\",\"Eastern Europe/Lithuania/Taurage\",\"Western Europe/Finland/Tavastia Proper\",\"Central Asia/Armenia/Tavush\",\"Southeast Asia/Philippines/Tawi Tawi\",\"Southeast Asia/Philippines/Tawi-Tawi\",\"Middle East & North Africa/Algeria/Tbessa\",\"Central Asia/Georgia/Tbilisi\",\"Central Asia/Georgia/Tbilisi (Capital City)\",\"Central Asia/Georgia/Tbilisi (Capital)\",\"Eastern Europe/Macedonia/Tearce\",\"Eastern Europe/Macedonia/Tearce (Municipality)\",\"Eastern Europe/Macedonia/Tearce municipality\",\"Middle East & North Africa/Algeria/Tebessa\",\"Middle East & North Africa/Algeria/Tebessa (Province)\",\"Middle East & North Africa/Algeria/Tebessa Province\",\"Middle East & North Africa/Iran/Tehran\",\"Middle East & North Africa/Israel/Tel Aviv\",\"South Asia/India/Telangana\",\"North America/United States/Tennessee\",\"Eastern Europe/Albania/Tepelene\",\"Sub-Saharan Africa/South Sudan/Terekeka\",\"Sub-Saharan Africa/Mozambique/Tete\",\"Eastern Europe/Macedonia/Tetovo\",\"Eastern Europe/Macedonia/Tetovo (Municipality)\",\"Eastern Europe/Macedonia/Tetovo Municipality\",\"North America/United States/Texas\",\"Southeast Asia/Thailand/Than To\",\"Western Europe/Greece/Thessaly\",\"Western Europe/Germany/Thuringia\",\"Middle East & North Africa/Algeria/Tiaret\",\"Middle East & North Africa/Algeria/Tiaret (Province)\",\"Middle East & North Africa/Algeria/Tiaret (Region)\",\"Sub-Saharan Africa/Chad/Tibesti\",\"East Asia/China/Tibet\",\"Western Europe/Switzerland/Ticino\",\"Sub-Saharan Africa/Ethiopia/Tigray\",\"Sub-Saharan Africa/Niger/Tillaberi\",\"Sub-Saharan Africa/Niger/Tillab\\u00e9ri\",\"Sub-Saharan Africa/Mali/Timbuktu\",\"Middle East & North Africa/Algeria/Tindouf\",\"Middle East & North Africa/Algeria/Tipasa\",\"Middle East & North Africa/Algeria/Tipasa (Province)\",\"Middle East & North Africa/Algeria/Tipaza\",\"Middle East & North Africa/Algeria/Tipaza (Province)\",\"Middle East & North Africa/Algeria/Tipaza Province\",\"Eastern Europe/Albania/Tirana\",\"Sub-Saharan Africa/Mauritania/Tiris Zemmour\",\"Middle East & North Africa/Algeria/Tissemselt (Province)\",\"Middle East & North Africa/Algeria/Tissemsilt\",\"Middle East & North Africa/Algeria/Tissemsilt (Province)\",\"Middle East & North Africa/Algeria/Tissemsilt Province\",\"Middle East & North Africa/Algeria/Tissimsilt\",\"Middle East & North Africa/Algeria/Tissmesilt\",\"Middle East & North Africa/Algeria/Tizi Ouzau\",\"Middle East & North Africa/Algeria/Tizi Ouzou\",\"Middle East & North Africa/Algeria/Tizi Ouzou (Province)\",\"Middle East & North Africa/Algeria/Tizi Ouzou Province\",\"Middle East & North Africa/Algeria/Tlemcen\",\"Middle East & North Africa/Algeria/Tlemcen (Province)\",\"Central America & Caribbean/Trinidad and Tobago/Tobago\",\"East Asia/Japan/Tochigi\",\"Sub-Saharan Africa/Somalia/Togdheer\",\"Middle East & North Africa/Turkey/Tokat\",\"East Asia/Japan/Tokyo\",\"East Asia/Japan/Tokyo (Metropolis)\",\"East Asia/Japan/Tokyo (Prefecture)\",\"Western Europe/Spain/Toledo\",\"South America/Colombia/Tolima\",\"Eastern Europe/Russia/Tomsk Oblast\",\"Middle East & North Africa/Algeria/Topaz (Province)\",\"Central America & Caribbean/Guatemala/Totonicapan\",\"Middle East & North Africa/Tunisia/Tozeur\",\"Middle East & North Africa/Turkey/Trabzon\",\"Southeast Asia/Thailand/Trang\",\"Sub-Saharan Africa/Kenya/Trans-Nzoia\",\"Sub-Saharan Africa/South Africa/Transkei\",\"Eastern Europe/Moldova/Transnistria\",\"Sub-Saharan Africa/South Africa/Transvaal\",\"Southeast Asia/Thailand/Trat\",\"Southeast Asia/Thailand/Trat (Province)\",\"Sub-Saharan Africa/Mauritania/Traza\",\"Western Europe/Italy/Trentino-South Tyrol\",\"Sub-Saharan Africa/Rhodesia/Tribal Trust Lands\",\"Middle East & North Africa/Libya/Tripoli\",\"South Asia/India/Tripura\",\"Eastern Europe/Slovak Republic/Trnava\",\"Eastern Europe/Albania/Tropoje\",\"South America/Venezuela/Trujillo\",\"Central Asia/Georgia/Tskhinvali (Region)\",\"South America/Argentina/Tucuman\",\"Eastern Europe/Russia/Tula\",\"Eastern Europe/Russia/Tula (Oblast)\",\"South America/Peru/Tumbes\",\"Central America & Caribbean/Trinidad and Tobago/Tunapuna-Piarco\",\"Middle East & North Africa/Turkey/Tunceli\",\"South America/Ecuador/Tungurahua\",\"Middle East & North Africa/Tunisia/Tunis\",\"Middle East & North Africa/Tunisia/Tunis (Governorate)\",\"Sub-Saharan Africa/Kenya/Turkana\",\"Western Europe/Italy/Tuscany\",\"Eastern Europe/Russia/Tver\",\"Western Europe/Austria/Tyrol\",\"Eastern Europe/Russia/Tyumen\",\"Eastern Europe/Russia/Tyumen (Oblast)\",\"Middle East & North Africa/Algeria/T\\u00e9bessa\",\"Middle East & North Africa/Algeria/T\\u00e9bessa Province\",\"North America/United States/U.S. Virgin Islands\",\"Southeast Asia/Thailand/Ubon Ratchathani\",\"South America/Peru/Ucayali\",\"Southeast Asia/Thailand/Udon Thani\",\"Sub-Saharan Africa/Angola/Uige\",\"Eastern Europe/Soviet Union/Ukraine\",\"Eastern Europe/Ukraine/Ukraine\",\"Western Europe/Italy/Umbria\",\"Sub-Saharan Africa/Rhodesia/Umtali\",\"Sub-Saharan Africa/South Sudan/Unity\",\"Sub-Saharan Africa/Sudan/Unity\",\"South Asia/Afghanistan/Unknown\",\"Eastern Europe/Albania/Unknown\",\"Middle East & North Africa/Algeria/Unknown\",\"Western Europe/Andorra/Unknown\",\"Sub-Saharan Africa/Angola/Unknown\",\"South America/Argentina/Unknown\",\"Central Asia/Armenia/Unknown\",\"Australasia & Oceania/Australia/Unknown\",\"Western Europe/Austria/Unknown\",\"Central Asia/Azerbaijan/Unknown\",\"Central America & Caribbean/Bahamas/Unknown\",\"Middle East & North Africa/Bahrain/Unknown\",\"South Asia/Bangladesh/Unknown\",\"Eastern Europe/Belarus/Unknown\",\"Central America & Caribbean/Belize/Unknown\",\"Sub-Saharan Africa/Benin/Unknown\",\"South Asia/Bhutan/Unknown\",\"South America/Bolivia/Unknown\",\"Eastern Europe/Bosnia-Herzegovina/Unknown\",\"Sub-Saharan Africa/Botswana/Unknown\",\"South America/Brazil/Unknown\",\"Eastern Europe/Bulgaria/Unknown\",\"Sub-Saharan Africa/Burkina Faso/Unknown\",\"Sub-Saharan Africa/Burundi/Unknown\",\"Southeast Asia/Cambodia/Unknown\",\"Sub-Saharan Africa/Cameroon/Unknown\",\"North America/Canada/Unknown\",\"Sub-Saharan Africa/Central African Republic/Unknown\",\"Sub-Saharan Africa/Chad/Unknown\",\"South America/Chile/Unknown\",\"East Asia/China/Unknown\",\"South America/Colombia/Unknown\",\"Central America & Caribbean/Costa Rica/Unknown\",\"Eastern Europe/Croatia/Unknown\",\"Central America & Caribbean/Cuba/Unknown\",\"Western Europe/Cyprus/Unknown\",\"Eastern Europe/Czech Republic/Unknown\",\"Eastern Europe/Czechoslovakia/Unknown\",\"Sub-Saharan Africa/Democratic Republic of the Congo/Unknown\",\"Western Europe/Denmark/Unknown\",\"Sub-Saharan Africa/Djibouti/Unknown\",\"Central America & Caribbean/Dominica/Unknown\",\"Central America & Caribbean/Dominican Republic/Unknown\",\"Eastern Europe/East Germany (GDR)/Unknown\",\"South America/Ecuador/Unknown\",\"Middle East & North Africa/Egypt/Unknown\",\"Central America & Caribbean/El Salvador/Unknown\",\"Sub-Saharan Africa/Equatorial Guinea/Unknown\",\"Sub-Saharan Africa/Eritrea/Unknown\",\"Eastern Europe/Estonia/Unknown\",\"Sub-Saharan Africa/Ethiopia/Unknown\",\"Australasia & Oceania/Fiji/Unknown\",\"Western Europe/France/Unknown\",\"Australasia & Oceania/French Polynesia/Unknown\",\"Central Asia/Georgia/Unknown\",\"Western Europe/Germany/Unknown\",\"Sub-Saharan Africa/Ghana/Unknown\",\"Western Europe/Greece/Unknown\",\"Central America & Caribbean/Grenada/Unknown\",\"Central America & Caribbean/Guadeloupe/Unknown\",\"Central America & Caribbean/Guatemala/Unknown\",\"Central America & Caribbean/Haiti/Unknown\",\"Central America & Caribbean/Honduras/Unknown\",\"East Asia/Hong Kong/Unknown\",\"Eastern Europe/Hungary/Unknown\",\"South Asia/India/Unknown\",\"Southeast Asia/Indonesia/Unknown\",\"Middle East & North Africa/Iran/Unknown\",\"Middle East & North Africa/Iraq/Unknown\",\"Western Europe/Ireland/Unknown\",\"Middle East & North Africa/Israel/Unknown\",\"Western Europe/Italy/Unknown\",\"Sub-Saharan Africa/Ivory Coast/Unknown\",\"Central America & Caribbean/Jamaica/Unknown\",\"East Asia/Japan/Unknown\",\"Middle East & North Africa/Jordan/Unknown\",\"Central Asia/Kazakhstan/Unknown\",\"Sub-Saharan Africa/Kenya/Unknown\",\"Eastern Europe/Kosovo/Unknown\",\"Middle East & North Africa/Kuwait/Unknown\",\"Central Asia/Kyrgyzstan/Unknown\",\"Southeast Asia/Laos/Unknown\",\"Eastern Europe/Latvia/Unknown\",\"Middle East & North Africa/Lebanon/Unknown\",\"Sub-Saharan Africa/Lesotho/Unknown\",\"Sub-Saharan Africa/Liberia/Unknown\",\"Middle East & North Africa/Libya/Unknown\",\"Eastern Europe/Lithuania/Unknown\",\"Western Europe/Luxembourg/Unknown\",\"East Asia/Macau/Unknown\",\"Eastern Europe/Macedonia/Unknown\",\"Southeast Asia/Malaysia/Unknown\",\"South Asia/Maldives/Unknown\",\"Sub-Saharan Africa/Mali/Unknown\",\"Western Europe/Malta/Unknown\",\"Central America & Caribbean/Martinique/Unknown\",\"Sub-Saharan Africa/Mauritania/Unknown\",\"North America/Mexico/Unknown\",\"Eastern Europe/Moldova/Unknown\",\"Middle East & North Africa/Morocco/Unknown\",\"Sub-Saharan Africa/Mozambique/Unknown\",\"Southeast Asia/Myanmar/Unknown\",\"Sub-Saharan Africa/Namibia/Unknown\",\"South Asia/Nepal/Unknown\",\"Western Europe/Netherlands/Unknown\",\"Australasia & Oceania/New Caledonia/Unknown\",\"Australasia & Oceania/New Zealand/Unknown\",\"Central America & Caribbean/Nicaragua/Unknown\",\"Sub-Saharan Africa/Niger/Unknown\",\"Sub-Saharan Africa/Nigeria/Unknown\",\"Middle East & North Africa/North Yemen/Unknown\",\"South Asia/Pakistan/Unknown\",\"Central America & Caribbean/Panama/Unknown\",\"Australasia & Oceania/Papua New Guinea/Unknown\",\"South America/Paraguay/Unknown\",\"Sub-Saharan Africa/People's Republic of the Congo/Unknown\",\"South America/Peru/Unknown\",\"Southeast Asia/Philippines/Unknown\",\"Eastern Europe/Poland/Unknown\",\"Western Europe/Portugal/Unknown\",\"Middle East & North Africa/Qatar/Unknown\",\"Sub-Saharan Africa/Rhodesia/Unknown\",\"Eastern Europe/Romania/Unknown\",\"Eastern Europe/Russia/Unknown\",\"Sub-Saharan Africa/Rwanda/Unknown\",\"Middle East & North Africa/Saudi Arabia/Unknown\",\"Sub-Saharan Africa/Senegal/Unknown\",\"Sub-Saharan Africa/Sierra Leone/Unknown\",\"Southeast Asia/Singapore/Unknown\",\"Eastern Europe/Slovak Republic/Unknown\",\"Eastern Europe/Slovenia/Unknown\",\"Sub-Saharan Africa/Somalia/Unknown\",\"Sub-Saharan Africa/South Africa/Unknown\",\"East Asia/South Korea/Unknown\",\"Sub-Saharan Africa/South Sudan/Unknown\",\"Middle East & North Africa/South Yemen/Unknown\",\"Eastern Europe/Soviet Union/Unknown\",\"Western Europe/Spain/Unknown\",\"South Asia/Sri Lanka/Unknown\",\"Central America & Caribbean/St. Kitts and Nevis/Unknown\",\"Sub-Saharan Africa/Sudan/Unknown\",\"South America/Suriname/Unknown\",\"Sub-Saharan Africa/Swaziland/Unknown\",\"Western Europe/Sweden/Unknown\",\"Middle East & North Africa/Syria/Unknown\",\"East Asia/Taiwan/Unknown\",\"Central Asia/Tajikistan/Unknown\",\"Sub-Saharan Africa/Tanzania/Unknown\",\"Southeast Asia/Thailand/Unknown\",\"Sub-Saharan Africa/Togo/Unknown\",\"Central America & Caribbean/Trinidad and Tobago/Unknown\",\"Middle East & North Africa/Tunisia/Unknown\",\"Middle East & North Africa/Turkey/Unknown\",\"Sub-Saharan Africa/Uganda/Unknown\",\"Eastern Europe/Ukraine/Unknown\",\"Middle East & North Africa/United Arab Emirates/Unknown\",\"North America/United States/Unknown\",\"South America/Uruguay/Unknown\",\"Central Asia/Uzbekistan/Unknown\",\"Australasia & Oceania/Vanuatu/Unknown\",\"South America/Venezuela/Unknown\",\"Southeast Asia/Vietnam/Unknown\",\"Middle East & North Africa/West Bank and Gaza Strip/Unknown\",\"Western Europe/West Germany (FRG)/Unknown\",\"Middle East & North Africa/Western Sahara/Unknown\",\"Middle East & North Africa/Yemen/Unknown\",\"Eastern Europe/Yugoslavia/Unknown\",\"Sub-Saharan Africa/Zaire/Unknown\",\"Sub-Saharan Africa/Zambia/Unknown\",\"Sub-Saharan Africa/Zimbabwe/Unknown\",\"Western Europe/Austria/Upper Austria\",\"Sub-Saharan Africa/South Sudan/Upper Nile\",\"Sub-Saharan Africa/Sudan/Upper Nile\",\"Western Europe/France/Upper Normandy\",\"South Asia/Maldives/Upper North Province\",\"Western Europe/Sweden/Uppsala\",\"Eastern Europe/Russia/Urals (Federal  District )\",\"Eastern Europe/Kosovo/Urosevac\",\"Eastern Europe/Russia/Urus-Martan (District)\",\"Eastern Europe/Russia/Urus-Martanovsky\",\"South Asia/Afghanistan/Uruzgan\",\"Middle East & North Africa/Turkey/Usak\",\"Eastern Europe/Czech Republic/Usti nad Labem\",\"Central America & Caribbean/El Salvador/Usulutan\",\"Central America & Caribbean/El Salvador/Usulut\\u00e1n\",\"North America/United States/Utah\",\"Western Europe/Netherlands/Utrecht\",\"South Asia/India/Uttar Pradesh\",\"South Asia/India/Uttaranchal\",\"Western Europe/Finland/Uusimaa\",\"South Asia/Sri Lanka/Uva\",\"Australasia & Oceania/Wallis and Futuna/Uvea\",\"Sub-Saharan Africa/Central African Republic/Vakaga\",\"Western Europe/France/Val-de-Marne\",\"Western Europe/Switzerland/Valais\",\"Western Europe/Spain/Valencia\",\"Western Europe/Spain/Valladolid\",\"Central America & Caribbean/Honduras/Valle\",\"South America/Colombia/Valle del Cauca\",\"Sub-Saharan Africa/Ivory Coast/Vallee du Bandama\",\"South America/Chile/Valparaiso\",\"Central America & Caribbean/Dominican Republic/Valverde\",\"Middle East & North Africa/Turkey/Van\",\"Western Europe/France/Var\",\"South America/Venezuela/Vargas\",\"Western Europe/Sweden/Varmland\",\"Eastern Europe/Bulgaria/Varna\",\"Western Europe/Sweden/Vasterbotten\",\"Western Europe/Sweden/Vasternorrland\",\"Western Europe/Sweden/Vastmanland\",\"Western Europe/Sweden/Vastra Gotaland\",\"Western Europe/Vatican City/Vatican City\",\"Western Europe/Switzerland/Vaud\",\"South America/Colombia/Vaupes\",\"Eastern Europe/Russia/Vedeno\",\"Eastern Europe/Russia/Vedensky\",\"Eastern Europe/Slovenia/Velenje\",\"Sub-Saharan Africa/South Africa/Venda\",\"Western Europe/Italy/Veneto\",\"North America/Mexico/Veracruz\",\"North America/Mexico/Veracruz (State)\",\"North America/Mexico/Veracruz (State) and Tlaxcala (State)\",\"Central America & Caribbean/Panama/Veraguas\",\"North America/United States/Vermont\",\"South America/Colombia/Vichada\",\"Australasia & Oceania/Australia/Victoria\",\"Sub-Saharan Africa/Rhodesia/Victoria\",\"Central America & Caribbean/Trinidad and Tobago/Victoria\",\"Australasia & Oceania/Australia/Victoria (State)\",\"Eastern Europe/Latvia/Vidzeme\",\"Western Europe/Austria/Vienna\",\"Southeast Asia/Laos/Vientiane\",\"Southeast Asia/Laos/Vientiane (Prefecture)\",\"Central America & Caribbean/Cuba/Villa Clara\",\"Eastern Europe/Lithuania/Vilnius\",\"Southeast Asia/East Timor/Viqueque (District)\",\"North America/United States/Virginia\",\"Eastern Europe/Croatia/Virovitica-Podravina\",\"Eastern Europe/Belarus/Vitebsk\",\"Eastern Europe/Albania/Vlore\",\"Eastern Europe/Serbia/Vojvodina\",\"Eastern Europe/Yugoslavia/Vojvodina\",\"Eastern Europe/Serbia-Montenegro/Vojvodina (Province)\",\"Eastern Europe/Yugoslavia/Vojvodina (Province)\",\"Eastern Europe/Russia/Volga (District)\",\"Eastern Europe/Russia/Volgograd\",\"Eastern Europe/Russia/Volgograd (Oblast)\",\"Eastern Europe/Russia/Volgograd Oblast\",\"Eastern Europe/Russia/Vologda\",\"Eastern Europe/Ukraine/Volyn\",\"Western Europe/Austria/Vorarlberg\",\"Eastern Europe/Russia/Vorenezh\",\"Eastern Europe/Russia/Voronezh (Oblast)\",\"Eastern Europe/Russia/Voronezh Oblast\",\"Eastern Europe/Estonia/Voru\",\"Eastern Europe/Yugoslavia/Vranje (Municipality)\",\"Eastern Europe/Croatia/Vukovar-Srijem\",\"Eastern Europe/Croatia/Vukovar-Syrmia\",\"Eastern Europe/Czechoslovakia/Vychodocesky\",\"Eastern Europe/Czech Republic/Vysocina\",\"Middle East & North Africa/Libya/Wadi Al Hayaa\",\"Middle East & North Africa/Libya/Wadi Al Shatii\",\"Sub-Saharan Africa/Chad/Wadi Fira\",\"Middle East & North Africa/Libya/Wadi al Shatii\",\"Middle East & North Africa/Libya/Wahat\",\"Sub-Saharan Africa/Kenya/Wajir\",\"Western Europe/United Kingdom/Wales\",\"Western Europe/Belgium/Wallonia\",\"Sub-Saharan Africa/South Sudan/Warap\",\"Sub-Saharan Africa/Sudan/Warap\",\"South Asia/Afghanistan/Wardak\",\"Eastern Europe/Poland/Warsaw\",\"North America/United States/Washington\",\"Middle East & North Africa/Iraq/Wasit\",\"Central America & Caribbean/Haiti/Wassec (Region)\",\"Western Europe/Ireland/Waterford\",\"Sub-Saharan Africa/South Sudan/Wau\",\"Australasia & Oceania/New Zealand/Wellington\",\"Australasia & Oceania/New Zealand/Wellington (Region)\",\"Middle East & North Africa/Iran/West Azerbaijan\",\"Middle East & North Africa/Israel/West Bank\",\"Middle East & North Africa/West Bank and Gaza Strip/West Bank\",\"South Asia/India/West Bengal\",\"Sub-Saharan Africa/Sudan/West Darfur\",\"Sub-Saharan Africa/South Sudan/West Equatoria\",\"Sub-Saharan Africa/Sudan/West Equatoria\",\"Southeast Asia/Indonesia/West Java\",\"Southeast Asia/Indonesia/West Java (Province)\",\"Southeast Asia/Indonesia/West Kalimantan\",\"Central Asia/Kazakhstan/West Kazakhstan\",\"Sub-Saharan Africa/Sudan/West Kordofan\",\"Southeast Asia/Indonesia/West Nusa Tenggara\",\"Central America & Caribbean/Panama/West Panama\",\"Australasia & Oceania/Papua New Guinea/West Sepik\",\"Southeast Asia/Indonesia/West Sumatra\",\"North America/United States/West Virginia\",\"Sub-Saharan Africa/Ghana/Western\",\"Sub-Saharan Africa/Kenya/Western\",\"South Asia/Nepal/Western\",\"Sub-Saharan Africa/Rwanda/Western\",\"Sub-Saharan Africa/Sierra Leone/Western\",\"South Asia/Sri Lanka/Western\",\"Sub-Saharan Africa/Uganda/Western\",\"Sub-Saharan Africa/Zambia/Western\",\"Australasia & Oceania/Australia/Western Australia\",\"Sub-Saharan Africa/South Sudan/Western Bahr el Ghazal\",\"Sub-Saharan Africa/Sudan/Western Bahr el Ghazal\",\"Sub-Saharan Africa/South Sudan/Western Bieh\",\"Sub-Saharan Africa/South Africa/Western Cape\",\"Sub-Saharan Africa/South Sudan/Western Equatoria\",\"Western Europe/Finland/Western Finland\",\"Western Europe/Greece/Western Greece\",\"Australasia & Oceania/Papua New Guinea/Western Highlands\",\"Sub-Saharan Africa/South Sudan/Western Lakes\",\"Western Europe/Iceland/Western Region\",\"Western Europe/Ireland/Westmeath\",\"Western Europe/Ireland/Wexford\",\"Sub-Saharan Africa/Sudan/White Nile\",\"Western Europe/Ireland/Wicklow\",\"Middle East & North Africa/Algeria/Wilaya de Djelfa\",\"North America/United States/Wisconsin\",\"Sub-Saharan Africa/Somalia/Woqooyi Galbeed\",\"North America/United States/Wyoming\",\"Southeast Asia/Laos/Xaisomboun\",\"East Asia/China/Xinjiang\",\"East Asia/China/Xinjiang Uyghur\",\"Southeast Asia/Thailand/Yaha ( District )\",\"Southeast Asia/Malaysia/Yala\",\"Southeast Asia/Thailand/Yala\",\"Southeast Asia/Thailand/Yala  District\",\"Southeast Asia/Thailand/Yala ( District )\",\"Southeast Asia/Thailand/Yala (District)\",\"Southeast Asia/Thailand/Yala (Province)\",\"Southeast Asia/Thailand/Yala (province)\",\"Southeast Asia/Thailand/Yala Muang  District\",\"Southeast Asia/Thailand/Yala Province\",\"Southeast Asia/Thailand/Yala Province/Muang District\",\"Southeast Asia/Thailand/Yala and Pattani Provinces\",\"East Asia/Japan/Yamagata\",\"East Asia/Japan/Yamaguchi\",\"East Asia/Japan/Yamanashi\",\"Eastern Europe/Bulgaria/Yambol\",\"Southeast Asia/Myanmar/Yangon\",\"Southeast Asia/Myanmar/Yangon (Division)\",\"Southeast Asia/Myanmar/Yangon (Rangoon)\",\"Southeast Asia/Myanmar/Yangon (State)\",\"Southeast Asia/Myanmar/Yangon Division\",\"South America/Venezuela/Yaracuy\",\"Southeast Asia/Thailand/Yarang ( District )\",\"Eastern Europe/Russia/Yaroslavl Oblast\",\"Middle East & North Africa/Iran/Yazd\",\"Sub-Saharan Africa/South Sudan/Yei River\",\"Eastern Europe/Russia/Yekaterinburg\",\"East Asia/South Korea/Yeongnam\",\"Central Asia/Armenia/Yerevan\",\"Central Asia/Armenia/Yerevan (Special Administrative Region)\",\"Sub-Saharan Africa/Nigeria/Yobe\",\"Southeast Asia/Indonesia/Yogyakarta\",\"Southeast Asia/Indonesia/Yogyakarta Special Region\",\"Western Europe/France/Yonne\",\"Central America & Caribbean/Honduras/Yoro\",\"North America/Mexico/Yucatan\",\"Eastern Europe/Yugoslavia/Yugoslavia\",\"East Asia/Taiwan/Yunlin\",\"East Asia/Taiwan/Yunlin (County)\",\"East Asia/China/Yunnan\",\"East Asia/China/Yunnan (Province)\",\"Western Europe/France/Yvelines\",\"Eastern Europe/Russia/Zabaykalsky (Krai)\",\"Eastern Europe/Russia/Zabaykalsky Krai\",\"South Asia/Afghanistan/Zabul\",\"Central America & Caribbean/Guatemala/Zacapa\",\"North America/Mexico/Zacatecas\",\"Eastern Europe/Croatia/Zadar\",\"Eastern Europe/Croatia/Zadar (County)\",\"Middle East & North Africa/Tunisia/Zaghouan\",\"Eastern Europe/Croatia/Zagreb\",\"Eastern Europe/Croatia/Zagreb (City)\",\"Eastern Europe/Croatia/Zagreb (County)\",\"Sub-Saharan Africa/Angola/Zaire\",\"Eastern Europe/Ukraine/Zakarpattia\",\"Eastern Europe/Ukraine/Zakarpattia (Oblast)\",\"Southeast Asia/Philippines/Zambales\",\"Sub-Saharan Africa/Mozambique/Zambezia\",\"Southeast Asia/Philippines/Zamboanga Sibugay\",\"Southeast Asia/Philippines/Zamboanga del Norte\",\"Southeast Asia/Philippines/Zamboanga del Sur\",\"Sub-Saharan Africa/Nigeria/Zamfara\",\"South America/Ecuador/Zamora-Chinchipe\",\"Middle East & North Africa/Iran/Zanjan\",\"Sub-Saharan Africa/Ivory Coast/Zanzan\",\"Sub-Saharan Africa/Tanzania/Zanzibar South\",\"Sub-Saharan Africa/Tanzania/Zanzibar West\",\"Eastern Europe/Ukraine/Zaporizhzhya\",\"Central Asia/Azerbaijan/Zaqatala\",\"Central Asia/Azerbaijan/Zaqatala (District)\",\"Western Europe/Spain/Zaragoza\",\"Middle East & North Africa/Jordan/Zarqa\",\"Middle East & North Africa/Libya/Zawiya\",\"Western Europe/Malta/Zebbug\",\"Central America & Caribbean/Nicaragua/Zelaya\",\"East Asia/China/Zhejiang\",\"Eastern Europe/Ukraine/Zhytomyr\",\"Sub-Saharan Africa/Senegal/Ziguinchor\",\"Sub-Saharan Africa/Niger/Zinder\",\"Middle East & North Africa/Turkey/Zinguldak\",\"Eastern Europe/Russia/Zolsky\",\"Eastern Europe/Kosovo/Zubin Potok\",\"Western Europe/Switzerland/Zug\",\"Central Asia/Georgia/Zugdidi\",\"South America/Venezuela/Zulia\",\"Western Europe/Switzerland/Zurich\",\"Southeast Asia/Thailand/khon kaen\",\"Southeast Asia/Thailand/phayao\",\"Southeast Asia/Thailand/sakon nakhon\",\"Southeast Asia/Thailand/samut prakan\",\"Southeast Asia/Thailand/saraburi\",\"Southeast Asia/Indonesia/sulawesi utara\",\"Middle East & North Africa/Iraq/unknown\",\"South Asia/Afghanistan\",\"Eastern Europe/Albania\",\"Middle East & North Africa/Algeria\",\"Western Europe/Andorra\",\"Sub-Saharan Africa/Angola\",\"Central America & Caribbean/Antigua and Barbuda\",\"South America/Argentina\",\"Central Asia/Armenia\",\"Australasia & Oceania/Australia\",\"Western Europe/Austria\",\"Central Asia/Azerbaijan\",\"Central America & Caribbean/Bahamas\",\"Middle East & North Africa/Bahrain\",\"South Asia/Bangladesh\",\"Central America & Caribbean/Barbados\",\"Eastern Europe/Belarus\",\"Western Europe/Belgium\",\"Central America & Caribbean/Belize\",\"Sub-Saharan Africa/Benin\",\"South Asia/Bhutan\",\"South America/Bolivia\",\"Eastern Europe/Bosnia-Herzegovina\",\"Sub-Saharan Africa/Botswana\",\"South America/Brazil\",\"Southeast Asia/Brunei\",\"Eastern Europe/Bulgaria\",\"Sub-Saharan Africa/Burkina Faso\",\"Sub-Saharan Africa/Burundi\",\"Southeast Asia/Cambodia\",\"Sub-Saharan Africa/Cameroon\",\"North America/Canada\",\"Sub-Saharan Africa/Central African Republic\",\"Sub-Saharan Africa/Chad\",\"South America/Chile\",\"East Asia/China\",\"South America/Colombia\",\"Sub-Saharan Africa/Comoros\",\"Central America & Caribbean/Costa Rica\",\"Eastern Europe/Croatia\",\"Central America & Caribbean/Cuba\",\"Western Europe/Cyprus\",\"Eastern Europe/Czech Republic\",\"Eastern Europe/Czechoslovakia\",\"Sub-Saharan Africa/Democratic Republic of the Congo\",\"Western Europe/Denmark\",\"Sub-Saharan Africa/Djibouti\",\"Central America & Caribbean/Dominica\",\"Central America & Caribbean/Dominican Republic\",\"Eastern Europe/East Germany (GDR)\",\"Southeast Asia/East Timor\",\"South America/Ecuador\",\"Middle East & North Africa/Egypt\",\"Central America & Caribbean/El Salvador\",\"Sub-Saharan Africa/Equatorial Guinea\",\"Sub-Saharan Africa/Eritrea\",\"Eastern Europe/Estonia\",\"Sub-Saharan Africa/Ethiopia\",\"South America/Falkland Islands\",\"Australasia & Oceania/Fiji\",\"Western Europe/Finland\",\"Western Europe/France\",\"South America/French Guiana\",\"Australasia & Oceania/French Polynesia\",\"Sub-Saharan Africa/Gabon\",\"Sub-Saharan Africa/Gambia\",\"Central Asia/Georgia\",\"Western Europe/Germany\",\"Sub-Saharan Africa/Ghana\",\"Western Europe/Greece\",\"Central America & Caribbean/Grenada\",\"Central America & Caribbean/Guadeloupe\",\"Central America & Caribbean/Guatemala\",\"Sub-Saharan Africa/Guinea\",\"Sub-Saharan Africa/Guinea-Bissau\",\"South America/Guyana\",\"Central America & Caribbean/Haiti\",\"Central America & Caribbean/Honduras\",\"East Asia/Hong Kong\",\"Eastern Europe/Hungary\",\"Western Europe/Iceland\",\"South Asia/India\",\"Southeast Asia/Indonesia\",\"Middle East & North Africa/International\",\"Middle East & North Africa/Iran\",\"Middle East & North Africa/Iraq\",\"Western Europe/Ireland\",\"Middle East & North Africa/Israel\",\"Western Europe/Italy\",\"Sub-Saharan Africa/Ivory Coast\",\"Central America & Caribbean/Jamaica\",\"East Asia/Japan\",\"Middle East & North Africa/Jordan\",\"Central Asia/Kazakhstan\",\"Sub-Saharan Africa/Kenya\",\"Eastern Europe/Kosovo\",\"Middle East & North Africa/Kuwait\",\"Central Asia/Kyrgyzstan\",\"Southeast Asia/Laos\",\"Eastern Europe/Latvia\",\"Middle East & North Africa/Lebanon\",\"Sub-Saharan Africa/Lesotho\",\"Sub-Saharan Africa/Liberia\",\"Middle East & North Africa/Libya\",\"Eastern Europe/Lithuania\",\"Western Europe/Luxembourg\",\"East Asia/Macau\",\"Eastern Europe/Macedonia\",\"Sub-Saharan Africa/Madagascar\",\"Sub-Saharan Africa/Malawi\",\"Southeast Asia/Malaysia\",\"South Asia/Maldives\",\"Sub-Saharan Africa/Mali\",\"Western Europe/Malta\",\"Central America & Caribbean/Martinique\",\"Sub-Saharan Africa/Mauritania\",\"South Asia/Mauritius\",\"North America/Mexico\",\"Eastern Europe/Moldova\",\"Eastern Europe/Montenegro\",\"Middle East & North Africa/Morocco\",\"Sub-Saharan Africa/Mozambique\",\"Southeast Asia/Myanmar\",\"Sub-Saharan Africa/Namibia\",\"South Asia/Nepal\",\"Western Europe/Netherlands\",\"Australasia & Oceania/New Caledonia\",\"Australasia & Oceania/New Hebrides\",\"Australasia & Oceania/New Zealand\",\"Central America & Caribbean/Nicaragua\",\"Sub-Saharan Africa/Niger\",\"Sub-Saharan Africa/Nigeria\",\"East Asia/North Korea\",\"Middle East & North Africa/North Yemen\",\"Western Europe/Norway\",\"South Asia/Pakistan\",\"Central America & Caribbean/Panama\",\"Australasia & Oceania/Papua New Guinea\",\"South America/Paraguay\",\"Sub-Saharan Africa/People's Republic of the Congo\",\"South America/Peru\",\"Southeast Asia/Philippines\",\"Eastern Europe/Poland\",\"Western Europe/Portugal\",\"Middle East & North Africa/Qatar\",\"Sub-Saharan Africa/Republic of the Congo\",\"Sub-Saharan Africa/Rhodesia\",\"Eastern Europe/Romania\",\"Eastern Europe/Russia\",\"Sub-Saharan Africa/Rwanda\",\"Middle East & North Africa/Saudi Arabia\",\"Sub-Saharan Africa/Senegal\",\"Eastern Europe/Serbia\",\"Eastern Europe/Serbia-Montenegro\",\"Sub-Saharan Africa/Seychelles\",\"Sub-Saharan Africa/Sierra Leone\",\"Southeast Asia/Singapore\",\"Eastern Europe/Slovak Republic\",\"Eastern Europe/Slovenia\",\"Australasia & Oceania/Solomon Islands\",\"Sub-Saharan Africa/Somalia\",\"Sub-Saharan Africa/South Africa\",\"East Asia/South Korea\",\"Sub-Saharan Africa/South Sudan\",\"Southeast Asia/South Vietnam\",\"Middle East & North Africa/South Yemen\",\"Eastern Europe/Soviet Union\",\"Western Europe/Spain\",\"South Asia/Sri Lanka\",\"Central America & Caribbean/St. Kitts and Nevis\",\"Central America & Caribbean/St. Lucia\",\"Sub-Saharan Africa/Sudan\",\"South America/Suriname\",\"Sub-Saharan Africa/Swaziland\",\"Western Europe/Sweden\",\"Western Europe/Switzerland\",\"Middle East & North Africa/Syria\",\"East Asia/Taiwan\",\"Central Asia/Tajikistan\",\"Sub-Saharan Africa/Tanzania\",\"Southeast Asia/Thailand\",\"Sub-Saharan Africa/Togo\",\"Central America & Caribbean/Trinidad and Tobago\",\"Middle East & North Africa/Tunisia\",\"Middle East & North Africa/Turkey\",\"Central Asia/Turkmenistan\",\"Sub-Saharan Africa/Uganda\",\"Eastern Europe/Ukraine\",\"Middle East & North Africa/United Arab Emirates\",\"Western Europe/United Kingdom\",\"North America/United States\",\"South America/Uruguay\",\"Central Asia/Uzbekistan\",\"Australasia & Oceania/Vanuatu\",\"Western Europe/Vatican City\",\"South America/Venezuela\",\"Southeast Asia/Vietnam\",\"Australasia & Oceania/Wallis and Futuna\",\"Middle East & North Africa/West Bank and Gaza Strip\",\"Western Europe/West Germany (FRG)\",\"Middle East & North Africa/Western Sahara\",\"Middle East & North Africa/Yemen\",\"Eastern Europe/Yugoslavia\",\"Sub-Saharan Africa/Zaire\",\"Sub-Saharan Africa/Zambia\",\"Sub-Saharan Africa/Zimbabwe\",\"Australasia & Oceania\",\"Central America & Caribbean\",\"Central Asia\",\"East Asia\",\"Eastern Europe\",\"Middle East & North Africa\",\"North America\",\"South America\",\"South Asia\",\"Southeast Asia\",\"Sub-Saharan Africa\",\"Western Europe\"],\"labels\":[\"(Region) of Republican Subordination (Province)\",\"(Republic of) Ingushetia\",\"A Coruna\",\"Aargau\",\"Abia\",\"Abkhazia\",\"Abkhazia (Autonomous Region)\",\"Abkhazia (Autonomous Republic)\",\"Abkhazia (Region)\",\"Abra\",\"Abruzzo\",\"Abu Dhabi\",\"Abuja\",\"Abyan\",\"Acapulco\",\"Aceh\",\"Aceh (Province)\",\"Aceh (Special Territory)\",\"Aceh Besar (Province)\",\"Aceh province\",\"Acre\",\"Ad Dali\",\"Adamawa\",\"Adamawa\",\"Adan\",\"Adan\",\"Adana\",\"Addis Ababa\",\"Adiyaman\",\"Adjara\",\"Afar\",\"Agadez\",\"Agadez (Department)\",\"Agadez (Region)\",\"Agadez Department\",\"Agneby\",\"Agri\",\"Aguasan Del Sur\",\"Aguascalientes\",\"Agusan del Norte\",\"Agusan del Sur\",\"Ahmadi\",\"Ahuachapan\",\"Aichi\",\"Aichi (Prefecture)\",\"Ain Defla\",\"Ain Defla (Province)\",\"Ain Defla Province\",\"Ain Tecmouchent\",\"Ain Temouchent\",\"Ain Temouchent (Province)\",\"Ajaria (Autonomous Republic)\",\"Akershus\",\"Akita\",\"Aklan\",\"Akmola\",\"Aktobe\",\"Akwa Ibom\",\"Al Anbar\",\"Al Bayda\",\"Al Hasakah\",\"Al Hudaydah\",\"Al Iskandariyah (Alexandria)\",\"Al Jawf\",\"Al Minya (Governorate)\",\"Al Qadisiyah\",\"Al Qahirah (Cairo)\",\"Al Qahirah (Governorate)\",\"Al Sharqia\",\"Al Wahdah\",\"Alabama\",\"Alagoas\",\"Alajuela\",\"Alajuela\",\"Alaska\",\"Alava\",\"Albay\",\"Alberta\",\"Alberta (Province)\",\"Alborz\",\"Aleppo\",\"Alexandria\",\"Alexandria (Governorate)\",\"Algarve\",\"Alger\",\"Algiers\",\"Algiers (Province)\",\"Algiers Province\",\"Ali Sabieh\",\"Alif Dhaalu\",\"Almaty\",\"Almaty (Municipal District)\",\"Almaty Province\",\"Alpes-Maritimes\",\"Alsace\",\"Alta Verapaz\",\"Altai\",\"Alto Paraguay\",\"Alto Parana\",\"Amadi\",\"Amambay\",\"Amanat Al Asimah\",\"Amanat Al Asimah\",\"Amasya\",\"Amazonas\",\"Amazonas\",\"Amazonas\",\"Amazonas\",\"Ambon (Province)\",\"Amdjoudh Massif\",\"Amhara\",\"Amman\",\"Amran\",\"Amur\",\"An Nabatiyah\",\"Analamanga\",\"Anambra\",\"Ancash\",\"Andalusia\",\"Andhra Pradesh\",\"Andhra pradesh\",\"Andijon\",\"Andijon (Province)\",\"Anenii Noi\",\"Ankara\",\"Annaba\",\"Annaba (Province)\",\"Antalya\",\"Antananarivo\",\"Antioquia\",\"Antique\",\"Antisiranana\",\"Antofagasta\",\"Antsiranana\",\"Anzoategui\",\"Aomar (Province)\",\"Aomar (Region)\",\"Aosta\",\"Apayao\",\"Apulia\",\"Apure\",\"Apurimac\",\"Aqaba\",\"Aqmola\",\"Aquitaine\",\"Ar Raqqah\",\"Ar Rayyan\",\"Aracinovo (Municipality)\",\"Aragon\",\"Aragua\",\"Arauca\",\"Araucania\",\"Arauco\",\"Arbil\",\"Ardahan\",\"Arequipa\",\"Arequipa\",\"Arica and Parinacota\",\"Arizona\",\"Arkansas\",\"Arkhangelsk\",\"Arkhangelsk (Oblast)\",\"Armenia\",\"Artibonite\",\"Artibonite (Department)\",\"Artik\",\"Artvin\",\"Arunachal Pradesh\",\"Arusha\",\"As Suwayda\",\"Ashanti\",\"Ashgabat\",\"Asimah\",\"Asir\",\"Asmara\",\"Assam\",\"Astrakhan\",\"Astrakhan (Federal Subject)\",\"Astrakhan (Oblast)\",\"Asturias\",\"Asuncion\",\"Aswan\",\"Asyut\",\"At Tamim\",\"Atacama\",\"Atacora\",\"Atlantico\",\"Atlantico Norte\",\"Atlantico Norte (Department)\",\"Atlantico Sur\",\"Atlantida\",\"Atsabe (District)\",\"Attica\",\"Atyrau\",\"Auckland\",\"Auckland (Territory)\",\"Aude\",\"Aurora\",\"Australian Capital Territory\",\"Auvergne\",\"Auvergne-Rhone-Alpes\",\"Awdal\",\"Ayacucho\",\"Aydin\",\"Ayeyarwady\",\"Aysen\",\"Ayutthaya\",\"Azad Kashmir\",\"Azerbaijan\",\"Azores\",\"Azuay\",\"A\\u00efn Defla\",\"A\\u00efn Defla (Province)\",\"Ba\",\"Ba (Province)\",\"Babil\",\"Babil\",\"Badakhshan\",\"Baden-Wurttemberg\",\"Baden-Wurttemberg\",\"Badghis\",\"Baghdad\",\"Baghdad\",\"Baghlan\",\"Bago\",\"Bago (Division)\",\"Bago (Pegu)\",\"Bahia\",\"Baja California\",\"Baja California Sur\",\"Baja Verapaz\",\"Bakool\",\"Baku\",\"Baku (City)\",\"Balearic Islands\",\"Bali (Province)\",\"Balikesir\",\"Balkh\",\"Balochistan\",\"Balqa\",\"Bamako\",\"Bamingui-Bangoran\",\"Bamyan\",\"Banaadir\",\"Bandundu\",\"Bangkok\",\"Bangkok ( District )\",\"Bangkok (District)\",\"Bangkok Province\",\"Bangui\",\"Banjul\",\"Banska Bystrica\",\"Banteay Meanchey\",\"Banten\",\"Banten (Province)\",\"Baoruco\",\"Barahona\",\"Barcelona\",\"Bari\",\"Barima-Waini\",\"Barinas\",\"Barisal\",\"Bartin\",\"Bas-Congo\",\"Bas-Congo\",\"Bas-Rhin\",\"Bas-Sassandra\",\"Bas-Uele\",\"Basel-Stadt\",\"Basilan\",\"Basilicata\",\"Baskortostan\",\"Basque Country\",\"Basra\",\"Basra\",\"Basse-Kotto\",\"Basse-Terre\",\"Bataan\",\"Batangas\",\"Batken\",\"Batken (Oblast)\",\"Batken (Province)\",\"Batman\",\"Batna\",\"Batna (Province)\",\"Batna Province\",\"Battambang\",\"Battambang (Province)\",\"Battmabang\",\"Bauchi\",\"Bavaria\",\"Bavaria\",\"Bay\",\"Bay of Plenty\",\"Bayelsa\",\"Bechar\",\"Bechar (Province)\",\"Bechar (Region)\",\"Beheira\",\"Beijaia\",\"Beijing\",\"Beijing (Municipality)\",\"Beirut\",\"Beja\",\"Beja\",\"Bejaia\",\"Bejaia (Province)\",\"Belait\",\"Belgrade\",\"Belgrade\",\"Belgrade\",\"Belgrade (Autonomous Territory)\",\"Belgrade (District)\",\"Belgrade (District)\",\"Belize\",\"Ben Arous\",\"Bender\",\"Benghazi\",\"Bengo\",\"Benguela\",\"Benguet\",\"Beni\",\"Beni Suef\",\"Benishangul-Gumuz\",\"Benue\",\"Beqaa\",\"Beqaa\",\"Berane\",\"Berber (Province)\",\"Berea\",\"Berlin\",\"Berlin\",\"Berlin\",\"Bern\",\"Betong\",\"Bicol\",\"Bie\",\"Bihar\",\"Biliran\",\"Bimini\",\"Bingol\",\"Bio Bio\",\"Bio-Bio\",\"Bioko Norte\",\"Bir H'mam\",\"Bir Mourad Rais (Province)\",\"Biscay\",\"Bishkek\",\"Bishkek (Capital City)\",\"Bishkek (Province)\",\"Biskra\",\"Biskra (Province)\",\"Biskra Province\",\"Bissau\",\"Bitlis\",\"Bizerte\",\"Blagoevgrad\",\"Blida\",\"Blida (Province)\",\"Blida Province\",\"Blidu (Province)\",\"Blue Nile\",\"Boaco\",\"Bobonaro (District)\",\"Bobonaro (District)\",\"Bogota\",\"Bohol\",\"Bolivar\",\"Bolivar\",\"Boma\",\"Bomi\",\"Bong\",\"Bophutatswana\",\"Bordj Bou Arreridj\",\"Bordj Bou Arreridj Province\",\"Bordj Bou Arr\\u00e9ridj\",\"Bordj Bour Arreridj\",\"Borkou\",\"Borno\",\"Bosanska Krajina (Region)\",\"Bosnia and Herzegovina (Federation)\",\"Bosnia-Herzegovina\",\"Bouches-du-Rhone\",\"Boucle du Mouhoun\",\"Bouenza\",\"Boufarik (Province)\",\"Bougainville\",\"Bouira\",\"Bouira (Province)\",\"Bouira Province\",\"Boumerdes\",\"Boumerdes (Province)\",\"Boumerdes Province\",\"Boumerd\\u00e8s\",\"Boumerd\\u00e8s (Province)\",\"Boumerd\\u00e8s Province\",\"Boumerd\\u00e9s (Province)\",\"Bourgogne-Franche-Comte\",\"Boussaken (Province)\",\"Bou\\u00efra Province\",\"Boyaca\",\"Braganca\",\"Brandenburg\",\"Brandenburg\",\"Branicevo (District)\",\"Bratislava\",\"Bratislava\",\"Bratislava (Region)\",\"Brazzaville\",\"Brazzaville\",\"Brcko\",\"Bremen\",\"Bremen\",\"British Colombia\",\"British Colombia (Province)\",\"British Columbia\",\"Brittany\",\"Brod-Posavina\",\"Brokopondo\",\"Brussels\",\"Bubanza\",\"Bucharest\",\"Budapest\",\"Budapest (Capital City)\",\"Buenos Aires\",\"Bujanovac (Municipality)\",\"Bujanovac (Municipality)\",\"Bujumbura Mairie\",\"Bujumbura Rural\",\"Bukidnon\",\"Bulacan\",\"Bulawayo\",\"Bulawayo\",\"Bungoma\",\"Burdur\",\"Burgas\",\"Burgenland\",\"Burgos\",\"Burgundy\",\"Bursa\",\"Bururi\",\"Buryatia\",\"Busan\",\"Buskerud\",\"Butare\",\"Butha-Buthe\",\"Butnan\",\"Byumba\",\"B\\u00e9ja\\u00efa\",\"B\\u00e9ja\\u00efa (Province)\",\"B\\u00e9ja\\u00efa Province\",\"Caaguazu\",\"Caazapa\",\"Cababobo\",\"Cabanas\",\"Caba\\u00f1as\",\"Cabinda\",\"Cabinda\",\"Cabo Delgado\",\"Cabrican\",\"Cacheu\",\"Cadiz\",\"Cagayan\",\"Cairo\",\"Cairo (Governorate)\",\"Cajamarca\",\"Cakaudrove\",\"Calabria\",\"Caldas\",\"California\",\"Callao\",\"Camarines Norte\",\"Camarines Sur\",\"Camiguin\",\"Campania\",\"Canary Islands\",\"Canindeyu\",\"Canindeyu\",\"Cankiri\",\"Cankuzo\",\"Cantabria\",\"Canterbury\",\"Capital\",\"Capital\",\"Capital\",\"Capital Region\",\"Capiz\",\"Caprivi\",\"Caqueta\",\"Carabobo\",\"Caracas\",\"Carazo\",\"Carchi\",\"Carinthia\",\"Carlow\",\"Cartago\",\"Casanare\",\"Castelo Branco\",\"Castile and Leon\",\"Castile-La Mancha\",\"Castries Quarter\",\"Catalonia\",\"Catamarca\",\"Catanduanes\",\"Cauca\",\"Caucasus (Region)\",\"Causeni\",\"Cavan\",\"Cavite\",\"Cayenne\",\"Cayo\",\"Ceara\",\"Cebu\",\"Cental Division\",\"Center\",\"Central\",\"Central\",\"Central\",\"Central\",\"Central\",\"Central\",\"Central\",\"Central\",\"Central\",\"Central\",\"Central\",\"Central\",\"Central\",\"Central\",\"Central (Division)\",\"Central Bohemia\",\"Central Bohemian Region\",\"Central Bosnia\",\"Central Darfur\",\"Central District\",\"Central Division\",\"Central Equatoria\",\"Central Equatoria\",\"Central Finland\",\"Central Greece\",\"Central Java\",\"Central Java (Province)\",\"Central Jutland\",\"Central Kalimantan\",\"Central Macedonia\",\"Central Maluku\",\"Central Serbia\",\"Central Serbia\",\"Central Serbia (Region)\",\"Central Sulawesi\",\"Central Sulawesi\",\"Central Sulawesi (Province)\",\"Central Upper Nile\",\"Centrale\",\"Centre\",\"Centre\",\"Centre (Department)\",\"Centre-Nord\",\"Centre-Val de Loire\",\"Cesar\",\"Cetinje (Municipality)\",\"Ceuta\",\"Ceuta\",\"Chachoengsao\",\"Chaco\",\"Chaing Mai (Province)\",\"Chaiyaphum\",\"Chalatenango\",\"Champagne-Ardenne\",\"Champasak\",\"Chandigarh\",\"Charente\",\"Chechen Republic\",\"Chechnya\",\"Chechnya (Federal District)\",\"Chechnya (Occupied Territory)\",\"Chechnya (Republic)\",\"Chelyabinsk\",\"Chelyabinsk (Oblast)\",\"Cherkasy\",\"Chernihiv\",\"Chernivtsi\",\"Chhattisgarh\",\"Chiaha\",\"Chiang Mai\",\"Chiang Rai\",\"Chiapas\",\"Chiapas\",\"Chiba\",\"Chiba (Prefecture)\",\"Chihuahua\",\"Chimaltenango\",\"Chimborazo\",\"Chin\",\"Chin (State)\",\"Chinandega\",\"Chiquimula\",\"Chiquimula (Department)\",\"Chiriqui\",\"Chisinau\",\"Chisinau (Municipality)\",\"Chita\",\"Chittagong\",\"Chkhorotsku (District)\",\"Chlef\",\"Chlef  (Province)\",\"Chlef (Province)\",\"Chlef (Region)\",\"Choco\",\"Choluteca\",\"Choluteca\",\"Chon Buri\",\"Chonburi\",\"Chongqing\",\"Chontales\",\"Christ Church\",\"Chubut\",\"Chukha\",\"Chumphon\",\"Chuquisaca\",\"Chuy\",\"Chuy (Province)\",\"Chuy Province\",\"Cibitoke\",\"Ciskei\",\"Ciudad Real\",\"Ciudad de Buenos Aires\",\"Clare\",\"Coahuila\",\"Coast\",\"Cochabamba\",\"Coimbra\",\"Cojedes\",\"Colon\",\"Colon\",\"Colorado\",\"Comayagua\",\"Commewyne\",\"Compostela Valley\",\"Conakry\",\"Concepcion\",\"Connecticut\",\"Constantine\",\"Constantine (Province)\",\"Constantine Province\",\"Copan\",\"Copperbelt\",\"Coquimbo\",\"Cordoba\",\"Cordoba\",\"Cordoba\",\"Cork\",\"Coronie\",\"Corrientes\",\"Corse-du-Sud\",\"Corsica\",\"Cortes\",\"Cort\\u00e9s\",\"Cort\\u00e9s (Department)\",\"Corum\",\"Cotes-d'Armor\",\"Cotopaxi\",\"Cova-lima (District)\",\"Crete\",\"Crimea\",\"Crna Gora (Republic)\",\"Croatia\",\"Cross River\",\"Cuando Cubango\",\"Cuanza Norte\",\"Cuanza Sul\",\"Cundinamarca\",\"Cunene\",\"Cuscaltan\",\"Cuscatlan\",\"Cuscatl\\u00e1n\",\"Cusco\",\"Cuvette\",\"Cuyuni-Mazaruni\",\"Cyangugu\",\"Daegu\",\"Dagestan\",\"Dagestan\",\"Dagestan (Oblast)\",\"Dagestan (Region)\",\"Dagestan (Republic)\",\"Daghestan (Republic)\",\"Dahra (Region)\",\"Dak Lak (Province)\",\"Dakahlia\",\"Dakar\",\"Dakhlet Nouadhibou\",\"Dakovica\",\"Dalmatia\",\"Damascus\",\"Damietta\",\"Dar es Salaam\",\"Daraa\",\"Darfur\",\"Darien\",\"Davao\",\"Davao Del Sur\",\"Davao Occidental\",\"Davao Oriental\",\"Davao Region\",\"Davao del Norte\",\"Davao del Sur\",\"Daykundi\",\"Deir ez-Zor\",\"Delaware\",\"Delhi\",\"Delta\",\"Demerara-Mahaica\",\"Denizli\",\"Denkalia\",\"Derna\",\"Dhaka\",\"Dhamar\",\"Dhi Qar\",\"Diber\",\"Diekirch\",\"Diffa\",\"Dihok\",\"Dikhil\",\"Dili ( District )\",\"Dili (District)\",\"Dili (District)\",\"Dire Dawa\",\"District of Columbia\",\"District of Kosovska Mitrovica\",\"Districts of Republican Subordination\",\"Distrito Federal\",\"Distrito Nacional\",\"Diyala\",\"Diyarbakir\",\"Djelfa\",\"Djelfa (Province)\",\"Djibouti\",\"Dniester (Region)\",\"Dnipropetrovsk\",\"Dnipropetrovsk (Oblast)\",\"Dodoma\",\"Doha\",\"Doha\",\"Donegal\",\"Donetsk\",\"Donetsk Oblast\",\"Dong Nai\",\"Dosso\",\"Doubs\",\"Draa El Mizan\",\"Drenthe\",\"Duarte\",\"Dubai\",\"Dublin\",\"Dubrovnik-Neretva\",\"Durango\",\"Durres\",\"Dushanabe\",\"Dushanbe\",\"Dushanbe (Capital City)\",\"East\",\"East\",\"East Aceh\",\"East Azerbaijan\",\"East Berbice-Corentyne\",\"East Darfur\",\"East Falkland\",\"East Java\",\"East Java (Province)\",\"East Kalimantan\",\"East Kazakhstan\",\"East Nusa Tenggara\",\"East Nusa Tenggara (Province)\",\"East Timor\",\"East Timor\",\"East Timor (Region)\",\"Eastern\",\"Eastern\",\"Eastern\",\"Eastern\",\"Eastern\",\"Eastern\",\"Eastern\",\"Eastern\",\"Eastern\",\"Eastern Bieh\",\"Eastern Cape\",\"Eastern Equatoria\",\"Eastern Equatoria\",\"Eastern Lakes\",\"Eastern Macedonia and Thrace\",\"Eastern Province\",\"Eastern Samar\",\"Ebonyi\",\"Edirne\",\"Edo\",\"Ekiti\",\"El Aissaoui (Municipality)\",\"El Bayadh\",\"El Biar (District)\",\"El Bordj (District)\",\"El Khardja\",\"El Oro\",\"El Oued\",\"El Paraiso\",\"El Peten\",\"El Progreso\",\"El Taref\",\"El Tarf\",\"El-Oued (Province)\",\"Elazig\",\"Elbasan\",\"Elbrussky\",\"Emilia-Romagna\",\"Enga\",\"Enga (Province)\",\"England\",\"Ennedi-Ouest\",\"Entre Rios\",\"Enugu\",\"Equateur\",\"Equator\",\"Eritrea\",\"Ermera (District)\",\"Ermera (District)\",\"Erongo\",\"Erzincan\",\"Erzurum\",\"Es Semara\",\"Escuintla\",\"Escuintla (Department)\",\"Esfahan\",\"Eskisehir\",\"Esmeraldas\",\"Espaillat\",\"Espirito Santo\",\"Essonne\",\"Esteli\",\"Estonia\",\"Estonia\",\"Estuaire\",\"Evora\",\"Extremadura\",\"Extreme-North\",\"Faiyum\",\"Falcon\",\"Famagusta\",\"Far-Western\",\"Farah\",\"Faranah\",\"Faro\",\"Fars\",\"Faryab\",\"Federal\",\"Federal\",\"Federal (District)\",\"Federal District\",\"Federal District\",\"Federal Territory\",\"Federally Administered Tribal Areas\",\"Federation of Bosnia and Herzegovina\",\"Fergana (Province)\",\"Fes-Boulemane\",\"Fianarantsoa\",\"Fier\",\"Fier (County)\",\"Finisere\",\"Finistere\",\"Flanders\",\"Florida\",\"Formosa\",\"Fort-de-France\",\"Franche-Comte\",\"Francisco Morazan\",\"Francisco Moraz\\u00e1n\",\"Free State\",\"Friuli-Venezia Giulia\",\"Fromager\",\"Fujairah\",\"Fujian\",\"Fujian (Province)\",\"Fukouka\",\"Fukuoka\",\"Gabes\",\"Gafsa\",\"Galguduud\",\"Galicia\",\"Galway\",\"Gambela\",\"Gao\",\"Gard\",\"Garissa\",\"Garkalne\",\"Gash Barka\",\"Gauteng\",\"Gavleborg\",\"Gaza\",\"Gaza Strip\",\"Gaza Strip\",\"Gazankulu\",\"Gaziantep\",\"Gbarpolu\",\"Gbudwe\",\"Gdansk\",\"Gedarif\",\"Gedo\",\"Gelderland\",\"Geneva\",\"Georgia\",\"Georgia\",\"Georgia\",\"Gezira\",\"Gharbia\",\"Ghardaia\",\"Ghardaia (Province)\",\"Gharda\\u00efa\",\"Ghat\",\"Ghazni\",\"Ghor\",\"Gikongoro\",\"Gilan\",\"Gilgit-Baltistan\",\"Gipuzcoa\",\"Giresun\",\"Girona\",\"Gironde\",\"Gisagara\",\"Gisenyi\",\"Gitarama\",\"Gitega\",\"Giza\",\"Gjakova\",\"Gjilane\",\"Gjirokaster\",\"Gnjilane\",\"Gnjilane (Region)\",\"Goa\",\"Goias\",\"Golan Heights\",\"Golestan\",\"Gombe\",\"Gomel\",\"Gori\",\"Gorno-Badakhshan\",\"Gostivar\",\"Gostivar (Municipality)\",\"Gracias a Dios\",\"Grad Sofia\",\"Granada\",\"Grand Bassa\",\"Grand Cape Mount\",\"Grand Casablanca\",\"Grand Gedeh\",\"Grand'Anse\",\"Grand'Anse (Department)\",\"Grand-Est\",\"Graubunden\",\"Greater Accra\",\"Greater Casablanca (Region)\",\"Greater Poland\",\"Greater Skopje\",\"Greater Skopje (Administrative division)\",\"Greater Skopje (Special Division)\",\"Greater Skopje (Statistical Region)\",\"Greater Wellington (Region)\",\"Grevenmacher\",\"Grodno\",\"Groningen\",\"Grozny\",\"Guainia\",\"Guajira\",\"Guanacaste\",\"Guanajuato\",\"Guandacanal\",\"Guangdong\",\"Guangdong (Province)\",\"Guangxi\",\"Guarico\",\"Guatemala\",\"Guatemala (Department)\",\"Guatemala City (Capital District)\",\"Guaviare\",\"Guayas\",\"Guelma\",\"Guelmim-Es Semara\",\"Guera\",\"Guerrero\",\"Guerrero (State)\",\"Guerrouche (Province)\",\"Guimaras\",\"Guipuzcoa\",\"Guizhou\",\"Gujarat\",\"Gulf of Aden\",\"Gumushane\",\"Guna Yala\",\"Gunma\",\"Guntur\",\"Gwangju\",\"Gwelo\",\"Gyeonggi\",\"Gyeongsangbuk-do\",\"Gyumri\",\"Haa Dhaalu Atoll\",\"Hadramawt\",\"Haifa\",\"Hail\",\"Hainan\",\"Hajjah\",\"Hakkari\",\"Halland\",\"Hamadan\",\"Hamah\",\"Hamburg\",\"Hamburg\",\"Hanoi\",\"Haoudh (Region)\",\"Harare\",\"Harare\",\"Harer\",\"Harju\",\"Harju (County)\",\"Haryana\",\"Haskovo\",\"Hatay\",\"Haut Congo\",\"Haut-Katanga\",\"Haut-Mbomou\",\"Haut-Ogooue\",\"Haut-Rhin\",\"Haut-Sassandra\",\"Haut-Uele\",\"Haute-Corse\",\"Haute-Garonne\",\"Haute-Kotto\",\"Hautes-Pyrenees\",\"Hauts-Bassins\",\"Hauts-de-France\",\"Hauts-de-Seine\",\"Havana\",\"Havana (Province)\",\"Hawaii\",\"Heilongjiang\",\"Helmand\",\"Henan\",\"Henan (Province)\",\"Herat\",\"Herault\",\"Heredia\",\"Hermanas Mirabal\",\"Hesse\",\"Hesse\",\"Hhohho\",\"Hidalgo\",\"Hiiraan\",\"Himachal Pradesh\",\"Hiroshima\",\"Ho Chi Minh\",\"Ho Chi Minh City\",\"Hodh Ech Chargui\",\"Hofudhborgarsvaedhi\",\"Hokkaido\",\"Homa Bay\",\"Homs\",\"Hong Kong\",\"Hong Kong\",\"Hong Kong (Special Administrative Region)\",\"Hong Kong Special Administrative Region (hksar)\",\"Hong Kong Special Administrative Region (hksar)\",\"Hormozgan\",\"Hsinchu\",\"Huambo\",\"Huancavelica\",\"Huanuco\",\"Hubei\",\"Hubei (Province)\",\"Huehuetenango\",\"Huila\",\"Huila\",\"Hunan\",\"Hungary\",\"Hyogo\",\"Ibaraki\",\"Ibb\",\"Ica\",\"Ida-Viru\",\"Idaho\",\"Idlib\",\"Idlib Region\",\"Iferouane\",\"Ifugao\",\"Igdir\",\"Ilam\",\"Ile-de-France\",\"Iligan\",\"Ille-et-Vilaine\",\"Illinois\",\"Illizi\",\"Illizi (Province)\",\"Ilocos Norte\",\"Ilocos Sur\",\"Iloilo\",\"Imatong\",\"Imbabura\",\"Imereti\",\"Imo\",\"Incheon\",\"Indiana\",\"Indre-et-loire\",\"Inguisha\",\"Ingushetia\",\"Ingushetia (Province)\",\"Ingushetia (Republic)\",\"Ingushetia (State)\",\"Ingushetia Republic\",\"Ingushetiya (Republic)\",\"Inhambane\",\"Inner Mongolia\",\"Ionian Islands\",\"Iowa\",\"Irbid\",\"Irian Jaya (Province)\",\"Irkutsk\",\"Irkutsk (Oblast)\",\"Irrawaddy Region\",\"Isabela\",\"Isere\",\"Ishikawa\",\"Isiolo\",\"Islamabad Capital Territory\",\"Ismailia\",\"Ismailli\",\"Isparta\",\"Issyk Kul\",\"Istanbul\",\"Istria (County)\",\"Ituri\",\"Ivano-Frankivsk\",\"Iwate\",\"Izabal\",\"Izmir\",\"Jabal Al Akhdar\",\"Jabal Al Gharbi\",\"Jabal al Akhdar\",\"Jablanica (District)\",\"Jafara\",\"Jahra\",\"Jakarta\",\"Jakarta (Capital City District)\",\"Jakarta (Province)\",\"Jakarta (Special Capital Region)\",\"Jakarta (Special Territory Province)\",\"JalAl-Abad\",\"Jalal-Abad\",\"Jalapa\",\"Jalilabad\",\"Jalisco\",\"Jambyl Province\",\"Jammu and Kashmir\",\"Jamtland\",\"Java\",\"Jawa Barat (West Java)\",\"Jawa Tengah (Central Java)\",\"Jawzjan\",\"Jazan\",\"Jegunovce\",\"Jegunovce (Municipality)\",\"Jelenia Gora\",\"Jendouba\",\"Jeola (Province)\",\"Jerusalem\",\"Jharkhand\",\"Jiangsu\",\"Jiangxi\",\"Jigawa\",\"Jihomoravsky\",\"Jihomoravsky\",\"Jijel\",\"Jijel (Province)\",\"Jijel (Region)\",\"Jijel Province\",\"Jijil (Province)\",\"Jinotega\",\"Jiwaka\",\"Jizan\",\"Johor\",\"Jonglei\",\"Jonglei\",\"Jonkoping\",\"Jubaland\",\"Jubek\",\"Jufra\",\"Juitapa\",\"Jujuy\",\"Junin\",\"Jura\",\"Jurmala\",\"Jutiapa\",\"Kaafu Atoll\",\"Kabarda-Balkaria\",\"Kabardino Balkariya\",\"Kabardino-Balkaria\",\"Kabardino-Balkariya\",\"Kabardino-Balkariya (Republic)\",\"Kabul\",\"Kabylie (Region)\",\"Kabylie Region\",\"Kachin\",\"Kachin (State)\",\"Kaduna\",\"Kafr El-Sheikh\",\"Kafr el-Sheikh\",\"Kagera\",\"Kahramanmaras\",\"Kairouan\",\"Kakamega\",\"Kalbajar\",\"Kalimantan Timur\",\"Kalinga\",\"Kalinga Apayao\",\"Kalinga-Apayao\",\"Kaliningrad Oblast\",\"Kalmar\",\"Kalmykia\",\"Kamchatka (Oblast)\",\"Kamphaeng Phet\",\"Kamphaeng Phet (Province)\",\"Kampong Cham\",\"Kampong Chhnang\",\"Kampong Chnnang\",\"Kampong Speu\",\"Kampong Thom\",\"Kampot\",\"Kampot (Province)\",\"Kanagawa\",\"Kanagawa (Prefecture)\",\"Kanchanaburi\",\"Kandahar\",\"Kandal\",\"Kandal (Province)\",\"Kanem\",\"Kano\",\"Kansas\",\"Kanto\",\"Kaohsiung\",\"Kapisa\",\"Kara\",\"Karachay-Cherkessia\",\"Karachay-Cherkessia (Autonomous Republic)\",\"Karachay-Cherkessia (Republic)\",\"Karachayevo Cherkesiya Republic\",\"Karachayevo-Cherkessia (Republic)\",\"Karaganda\",\"Karak\",\"Karas\",\"Karbala\",\"Karen\",\"Karen (State)\",\"Karen State\",\"Karlovac\",\"Karlovacka\",\"Karnataka\",\"Karotegin (Province)\",\"Kars\",\"Kartli (Province)\",\"Karuzi\",\"Kasai\",\"Kasai Oriental\",\"Kasai-Central\",\"Kasai-Oriental\",\"Kassala\",\"Kasserine\",\"Kastamonu\",\"Katanga\",\"Katanga\",\"Katsina\",\"Kavango\",\"Kawthulei (Karen/Kayin)\",\"Kayah\",\"Kayah (State)\",\"Kayanza\",\"Kayar\",\"Kayes\",\"Kayin\",\"Kayin (State)\",\"Kayin State\",\"Kayseri\",\"Kebbi\",\"Kebili\",\"Kedah\",\"Kedah (State)\",\"Keelung\",\"Kef\",\"Kemo\",\"Kentucky\",\"Kep\",\"Kerala\",\"Kerman\",\"Kermanshah\",\"Kgatleng\",\"Khabarovsk\",\"Khabarovsk (Krai)\",\"Khabarovsk Krai\",\"Khalil\",\"Khankendi\",\"Khanty-Mansi\",\"Khanty-Mansi (Autonomous Okrug)\",\"Kharkiv\",\"Khartoum\",\"Khatlon\",\"Khatlon (Province)\",\"Khenchela\",\"Khenchela (Province)\",\"Khenchela Province\",\"Kherson\",\"Khojaly\",\"Khojavend\",\"Khomas\",\"Khon Kaen\",\"Khost\",\"Khost\",\"Khulna\",\"Khuzestan\",\"Khyber Pakhtunkhwa\",\"Kiambu\",\"Kibungu\",\"Kibuye\",\"Kidal\",\"Kiev\",\"Kiev City (Municipality)\",\"Kiev City Municipality\",\"Kigali\",\"Kigoma\",\"Kildare\",\"Kilifi\",\"Kilis\",\"Kindia\",\"Kingston Parish\",\"Kinkkale\",\"Kinmen\",\"Kinshasa\",\"Kinshasa\",\"Kirikkale\",\"Kirinyaga\",\"Kirklareli\",\"Kirkuk\",\"Kirov\",\"Kirovohrad\",\"Kirsehir\",\"Kirundo\",\"Kisii\",\"Kisumu\",\"Klaipeda\",\"Kocaeli\",\"Kochi\",\"Kofarnihon (District)\",\"Kogi\",\"Koh Kong\",\"Kohgiluyeh and Buyer Ahmad\",\"Kolasin\",\"Kolda\",\"Kolubara (District)\",\"Komarom-Esztergom\",\"Komi Republic\",\"Konya\",\"Kordestan\",\"Kosice (Region)\",\"Kosovo\",\"Kosovo\",\"Kosovo (Province)\",\"Kosovo (Province)\",\"Kosovo (State)\",\"Kosovo and Metohija\",\"Kosovo and Metojia (Autonomous Province)\",\"Kosovo-Metohija (Province)\",\"Kosovska Mitrovica\",\"Kosovska Mitrovica (District)\",\"Kosovsko Mitrovica\",\"Kostroma\",\"Koulikoro\",\"Krabi\",\"Krakow\",\"Krasnodar\",\"Krasnodar (Federal Subject)\",\"Krasnodar Krai\",\"Krasnodarsky\",\"Krasnoyarsk\",\"Krasnoyarsk (Krai)\",\"Kratie\",\"Kratie (Province)\",\"Kronoberg\",\"Kuala Lumpur\",\"Kucove\",\"Kufra\",\"Kufrah\",\"Kukes\",\"Kuk\\u00ebs (County)\",\"Kulyabskaya (Oblast)\",\"Kumamoto\",\"Kumanovo\",\"Kumanovo (Municipality)\",\"Kumanovo (Region)\",\"Kumanovo municipality\",\"Kunar\",\"Kunar\",\"Kunduz\",\"Kunene\",\"Kurchaloyevsky\",\"Kurdamir\",\"Kurdufan\",\"Kutahya\",\"Kvemo Kartli\",\"Kvemo Kartli (Region)\",\"KwaNdebele\",\"KwaZulu-Natal\",\"Kwale\",\"Kwango\",\"Kwara\",\"Kygyzstan\",\"Kyivska\",\"Kymenlaakso\",\"Kyoto\",\"Kyrenia\",\"Kyustendil\",\"L'viv (Oblast)\",\"La Guajira\",\"La Libertad\",\"La Libertad\",\"La Pampa\",\"La Paz\",\"La Paz\",\"La Paz\",\"La Rioja\",\"La Rioja\",\"La Union\",\"La Union\",\"La Uni\\u00f3n\",\"La Vega\",\"Laane-Viru\",\"Laayoune-Boujdour-Sakia El Hamra\",\"Laayoune-Boujdour-Sakia El Hamra\",\"Labe\",\"Lac\",\"Lacs\",\"Laghman\",\"Laghouat\",\"Laghouat (Province)\",\"Lagos\",\"Laguna\",\"Lagunes\",\"Lahij\",\"Laikipia\",\"Lakes\",\"Lakes\",\"Lakhdaria Province\",\"Lam Dong\",\"Lambayeque\",\"Lampang\",\"Lampung (Province)\",\"Lamu\",\"Lanao del Norte\",\"Lanao del Sur\",\"Languedoc-Roussillon\",\"Laoighis\",\"Lara\",\"Larnaca\",\"Las Palmas\",\"Latakia\",\"Lattakia\",\"Latvia\",\"Lautem (District)\",\"Lavalleja\",\"Lazio\",\"Le Marin\",\"Legnica\",\"Leiria\",\"Leitrim\",\"Lekoumou\",\"Lempira\",\"Leninabad\",\"Leningrad\",\"Leon\",\"Leon\",\"Leposaviq\",\"Leribe\",\"Lerida\",\"Leyte\",\"Lezhe\",\"Lezhe (County)\",\"Liberec (Region)\",\"Librazhd\",\"Liguria\",\"Lika\",\"Lika-Senj\",\"Lima\",\"Limassol\",\"Limburg\",\"Limerick\",\"Limon\",\"Limousin\",\"Limpopo\",\"Lipetsk\",\"Lipkovo (Municipality)\",\"Lipkovo (Region)\",\"Liquica (District)\",\"Lisbon\",\"Lithuania\",\"Littoral\",\"Littoral\",\"Ljubljana\",\"Ljubljana (Municipality)\",\"Lobaye\",\"Lodz\",\"Lofa\",\"Logar\",\"Logone Oriental\",\"Loire-Atlantique\",\"Loja\",\"Lol\",\"Lomami\",\"Lombardy\",\"Longford\",\"Lopburi\",\"Lorestan\",\"Loreto\",\"Lori\",\"Los Lagos\",\"Los Rios\",\"Los Rios\",\"Los Santos\",\"Lot-et-Garonne\",\"Louangphrabang\",\"Louangphrabang (District)\",\"Louga\",\"Louisiana\",\"Louth\",\"Lower Austria\",\"Lower Juba\",\"Lower Normandy\",\"Lower Saxony\",\"Lower Saxony\",\"Lower Shebelle\",\"Lower Silesia\",\"Loyalty Islands Province\",\"Lualaba\",\"Luanda\",\"Lubombo\",\"Luganda\",\"Lugo\",\"Luhansk\",\"Luhansk Oblast\",\"Lunda Norte\",\"Lunda Sul\",\"Lupon\",\"Lusaka\",\"Lusaka\",\"Lushnje\",\"Luxembourg\",\"Luxor\",\"Lviv\",\"M'Sila\",\"M'chedallah (District)\",\"M'sila\",\"M'sila (Province)\",\"M'sila Province\",\"Maan\",\"Macau\",\"Macau (Special Administrative Region)\",\"Macedonia\",\"Macedonia\",\"Macedonia\",\"Macuata\",\"Madang\",\"Madhya Pradesh\",\"Madinah\",\"Madre de Dios\",\"Madrid\",\"Madriz\",\"Maekel\",\"Maekel\",\"Maekel\",\"Mafraq\",\"Magallanes & Chilean Antarctica\",\"Magdalena\",\"Magdeburg\",\"Maguindanao\",\"Magway\",\"Mahajanga\",\"Maharashtra\",\"Mahwit\",\"Maine\",\"Makamba\",\"Makkah\",\"Malaga\",\"Malaita (Province)\",\"Malanje\",\"Malatya\",\"Maldonado\",\"Male\",\"Malgobeksky\",\"Maliana (District)\",\"Mallakaster\",\"Maluka (Province)\",\"Maluku\",\"Maluku (Province)\",\"Maluku Province\",\"Maluku province\",\"Mambere Kadei\",\"Manabi\",\"Managua\",\"Mandalay\",\"Mandalay (Division)\",\"Mandera\",\"Manica\",\"Manicaland\",\"Manicaland\",\"Maniema\",\"Manipur\",\"Manisa\",\"Manitoba\",\"Manouba\",\"Manufahi (District)\",\"Manzandaran\",\"Manzini\",\"Maputo\",\"Maradi\",\"Maradi (Region)\",\"Marahoue\",\"Maramvya\",\"Maranhao\",\"Maranhaos\",\"Marche\",\"Mardin\",\"Margibi\",\"Maria Trinidad Sanchez\",\"Marib\",\"Maribor\",\"Maritime\",\"Marj\",\"Markazi\",\"Marowijne\",\"Marrakech-Tensift-El Haouz\",\"Marrakesh-Tensift-El Haouz\",\"Marsabit\",\"Mary\",\"Maryland\",\"Masaya\",\"Masbate\",\"Mascara\",\"Mascara (Province)\",\"Mascara Province\",\"Maseru\",\"Mashonaland Central\",\"Mashonaland East\",\"Mashonaland East\",\"Mashonaland South\",\"Mashonaland West\",\"Mashonland\",\"Masovia\",\"Masovian (Province)\",\"Massachusetts\",\"Mastaganem\",\"Masvingo\",\"Matabeleland\",\"Matabeleland\",\"Matabeleland North\",\"Matabeleland South\",\"Matabeleland South\",\"Matagalpa\",\"Matam\",\"Matanzas\",\"Mato Grosso\",\"Mato Grosso do Sul\",\"Matruh\",\"Maule\",\"Mayenne\",\"Mayo\",\"Mayo (district), Ban Dan (village)\",\"Maysan\",\"Mazandaran\",\"Mbomou\",\"Meath\",\"Mecklenburg-West Pomerania\",\"Medea\",\"Medea (Province)\",\"Medea Province\",\"Medenine\",\"Medenine Governorate\",\"Medimurje\",\"Medveda (District)\",\"Meghalaya\",\"Meghri\",\"Meknes-Tafilalet\",\"Meknes-Tafilalet (Region)\",\"Melilla\",\"Menaka\",\"Mendoza\",\"Merida\",\"Mersin\",\"Meru\",\"Meta\",\"Metropolitan Manila\",\"Metropolitian Manila\",\"Mexican Federal District\",\"Mexico\",\"Mexico City (Federal District)\",\"Michigan\",\"Michoacan\",\"Michoac\\u00e1n\",\"Mid-Western\",\"Middle Juba\",\"Middle Shebelle\",\"Midi-Pyrenees\",\"Midland\",\"Midlands\",\"Midlands\",\"Mie\",\"Migori\",\"Mila\",\"Milne Bay\",\"Minas Gerais\",\"Mindanao Island\",\"Minnesota\",\"Minsk\",\"Minsk (Capital City)\",\"Minya\",\"Miranda\",\"Misamis Occidental\",\"Misamis Oriental\",\"Misiones\",\"Misrata\",\"Mississippi\",\"Missouri\",\"Mistrata\",\"Mitidja Plains (Province)\",\"Mitrovice\",\"Mitrovice (Municipality)\",\"Miyagi\",\"Mizoram\",\"Moluku (Province)\",\"Mombasa\",\"Mon\",\"Mon (State)\",\"Monagas\",\"Monaghan\",\"Monastir\",\"Mongala\",\"Monivong\",\"Monsenor Nouel\",\"Mont Buxton\",\"Montana\",\"Montenegro\",\"Montenegro (Republic)\",\"Montevideo\",\"Montserrado\",\"Monufia\",\"Mopti\",\"Moquegua\",\"Moravia-Silesia\",\"Moravian-Silesian\",\"Morazan\",\"Moraz\\u00e1n\",\"Morelos\",\"Morobe\",\"Morogoro\",\"Morona Santiago\",\"Moscow\",\"Moscow (Federal City)\",\"Moscow (Oblast)\",\"Moscow (Region)\",\"Moscow Federal City\",\"Moscow Oblast\",\"Moselle\",\"Mosta\",\"Mostaganem\",\"Mostaganem (Province)\",\"Mount Lebanon\",\"Mount Lebanon\",\"Mountain Province\",\"Moxico\",\"Moyen-Cavally\",\"Moyen-Chari\",\"Moyen-Comoe\",\"Mpumalanga\",\"Mtskheta-Mtianeti\",\"Muang\",\"Muaskar (Province)\",\"Mudug\",\"Mugla\",\"Muharraq\",\"Mukdahan\",\"Muramvya\",\"Murcia\",\"Murqub\",\"Murzuq\",\"Mus\",\"Muthanna\",\"Muyinga\",\"Mwali\",\"Mwanza\",\"Mwaro\",\"Mykolayiv\",\"M\\u00e9d\\u00e9a\",\"M\\u00e9d\\u00e9a Province\",\"M\\u00e9xico\",\"N'Djamena\",\"NIneveh\",\"Nabatiyeh\",\"Nabuel (Region)\",\"Nagaland\",\"Nagasaki\",\"Nairobi\",\"Najaf\",\"Najran\",\"Naka District, Ibaraki\",\"Nakhon Pathom\",\"Nakhon Ratchasima\",\"Nakhon Sawan\",\"Nakhon Si Thammarat\",\"Nakuru\",\"Nalut\",\"Nampula\",\"Nan\",\"Nana-Grebizi\",\"Nana-Mambere\",\"Nangarhar\",\"Napo\",\"Nara\",\"Narathiwat\",\"Narathiwat (Provice)\",\"Narathiwat (Province)\",\"Narathiwat (province)\",\"Narathiwat Province\",\"Narathiwat province\",\"Narino\",\"Nasarawa\",\"Nassa\",\"Natal\",\"National\",\"National Capital District\",\"Navarre\",\"Nayarit\",\"Nazranovsky\",\"Nebraska\",\"Negeri Sembilan\",\"Negros Occidental\",\"Negros Oriental\",\"Neuqu\\u00e9n\",\"Nevada\",\"Nevsehir\",\"New Brunswick\",\"New Hampshire\",\"New Ireland\",\"New Jersey\",\"New Mexico\",\"New Providence\",\"New South Wales\",\"New South Wales (State)\",\"New Taipei\",\"New Territories\",\"New Valley\",\"New York\",\"Ngazidja\",\"Ngozi\",\"Niamey\",\"Niamey (Administrative Region)\",\"Niamey (Capital District)\",\"Niamey Capital District\",\"Niassa\",\"Nicosia\",\"Nigde\",\"Niger\",\"Nimba\",\"Nimroz\",\"Nineveh\",\"Ningxia Hui\",\"Nippes\",\"Nizhny Novgorod\",\"Nong Khai\",\"Nonthaburi\",\"Nord\",\"Nord\",\"Nord\",\"Nord-Ouest\",\"Nord-Pas-de-Calais\",\"Nordhurland Eystra\",\"Norhtern\",\"Normandy\",\"Norrbotten\",\"Norte de Santander\",\"North\",\"North\",\"North\",\"North Aceh (Province)\",\"North Aceh (Regency)\",\"North Aegean\",\"North Brabant\",\"North Caribbean Coast Autonomous Region\",\"North Carolina\",\"North Catobato\",\"North Caucasian Federal District\",\"North Caucasus (Region)\",\"North Central\",\"North Cotabato\",\"North Dakota\",\"North Darfur\",\"North Eastern\",\"North Eastern\",\"North Holland\",\"North Kivu\",\"North Kivu\",\"North Kordofan\",\"North Maluku\",\"North Moravia (Province)\",\"North Ossetia\",\"North Ossetia-Alania\",\"North Ossetia-Alania (Republic)\",\"North Ossetia\\u0096Alania\",\"North Province\",\"North Rhine-Westphalia\",\"North Rhine-Westphalia\",\"North SInai\",\"North Seram (Sub district)\",\"North Sinai\",\"North Sinai\",\"North Sinai Governorate\",\"North Solomons\",\"North Sulawesi (Province)\",\"North Sumatra\",\"North Sumatra (Province)\",\"North West\",\"North Western\",\"North-Caucasian (Region)\",\"North-Kivu\",\"North-West\",\"North-West Frontier Province\",\"North-Western\",\"Northeastern\",\"Northern\",\"Northern\",\"Northern\",\"Northern\",\"Northern\",\"Northern\",\"Northern\",\"Northern\",\"Northern\",\"Northern\",\"Northern\",\"Northern Bahr el Ghazal\",\"Northern Borders\",\"Northern Cape\",\"Northern Ireland\",\"Northern Ostrobothnia\",\"Northern Red Sea\",\"Northern Samar\",\"Northern Territory\",\"Northern Upper Nile\",\"Northwest\",\"Northwestern\",\"Notranjsko-kra\\u009aka\",\"Nouakchott\",\"Nouvelle-Aquitaine\",\"Novgorod\",\"Novgorod Oblast\",\"Novosibirsk\",\"Noyemberyan\",\"Nueva Ecija\",\"Nueva Segovia\",\"Nueva Vizcaya\",\"Nuevo Leon\",\"Nuevo Leon (State)\",\"Nugaal\",\"Nuqat Al Khams\",\"Nuristan\",\"Nyandarua\",\"Nyanza\",\"Nzerekore\",\"Nzwani\",\"O'Higgins\",\"Oaxaca\",\"Oaxaca (State)\",\"Obilic (Municipality)\",\"Obock\",\"Occidental Mindoro\",\"Occitanie\",\"Ocotepeque\",\"Oddar Meancheay\",\"Odessa\",\"Odessa (Oblast)\",\"Odisha\",\"Offaly\",\"Ogun\",\"Ohangwena\",\"Ohio\",\"Okinawa\",\"Oklahoma\",\"Olancho\",\"Ombella-M'Poko\",\"Omusati\",\"Ondo\",\"Ontario\",\"Ontario\",\"Opoja (Municipality)\",\"Opole\",\"Opstina Strumica (Region)\",\"Orahovac (Municipality)\",\"Orahovo\",\"Oran\",\"Oran (Province)\",\"Oran Province\",\"Orange Free State\",\"Ordu\",\"Ordubad\",\"Orebro\",\"Oregon\",\"Orellana\",\"Oriental\",\"Oriental Mindoro\",\"Orientale\",\"Orientale\",\"Orissa\",\"Oromia\",\"Oruro\",\"Oryol Oblast\",\"Osaka\",\"Osh (Oblast)\",\"Osh (Province)\",\"Oshana\",\"Oshikoto\",\"Osijek-Baranja\",\"Oslo\",\"Oslomej (Municipality)\",\"Osmaniye\",\"Ostergotland\",\"Osun\",\"Otjozondjupa\",\"Ouaddai\",\"Ouaka\",\"Ouargla\",\"Ouargla (Province)\",\"Ouest\",\"Ouest (Department)\",\"Ouham\",\"Ouham-Pende\",\"Oum El Bouaghi\",\"Oum el-Bouaghi\",\"Ourense\",\"Overijssel\",\"Oyo\",\"Paijanne Tavastia\",\"Pailin\",\"Paktia\",\"Paktika\",\"Paktika Province\",\"Palawan\",\"Palencia\",\"Pampanga\",\"Panama\",\"Panama (Province)\",\"Panam\\u00e1\",\"Pangasinan\",\"Panjsher\",\"Papeete\",\"Paphos\",\"Papua\",\"Papua\",\"Papua (Province)\",\"Papua Province\",\"Para\",\"Para\",\"Paraiba\",\"Paramaribo\",\"Parana\",\"Paris\",\"Parita-Merivalja\",\"Parwan\",\"Pasco\",\"Pathum Thani\",\"Pathum thani\",\"Pattani\",\"Pattani ( District )\",\"Pattani (Provience)\",\"Pattani (Province)\",\"Pattani (province)\",\"Pattani Province\",\"Pattani and Yala Provinces\",\"Pattani province\",\"Pattani, Narathiwat, and Yala\",\"Pattani, Narathiwat, and Yala Provinces\",\"Pattini (Province)\",\"Pavlodar\",\"Pays de la Loire\",\"Pays-de-la-Loire\",\"Paysandu\",\"Pazardzhik\",\"Pcinja\",\"Pcinja\",\"Pcinja ( District )\",\"Pcinja (District)\",\"Pcinja (District)\",\"Pec\",\"Pec (District)\",\"Pecki\",\"Pegu\",\"Pelagonia\",\"Peloponnese\",\"Pemba South\",\"Penang\",\"Penghu\",\"Pennsylvania\",\"Peqin\",\"Perak\",\"Perlis\",\"Pernambuco\",\"Pest\",\"Peten\",\"Phangnga\",\"Phayao\",\"Phetchabun\",\"Phetchaburi\",\"Phichit\",\"Phnom Penh\",\"Phnom Penh (Municipality)\",\"Phom Penh (Municipality)\",\"Phongsaly\",\"Phra Nakhon Si Ayutthaya\",\"Phuket\",\"Picardy\",\"Pichincha\",\"Pichincha\",\"Pidie (Regency)\",\"Piedmont\",\"Pirkanmaa\",\"Piura\",\"Plaines Wilhems\",\"Plateau\",\"Plateaux\",\"Plateaux\",\"Pleiku\",\"Plovdiv\",\"Podgorica\",\"Podgorica\",\"Podlaskie (Region)\",\"Point Fortin\",\"Pointe Noire\",\"Pointe-a-Pitre\",\"Pointe-\\u00e0-Pitre\",\"Poitou-Charentes\",\"Polog\",\"Polog (Region)\",\"Poltava\",\"Pomeranian (Voivodeship)\",\"Pontevedra\",\"Pool\",\"Port Said\",\"Port of Spain\",\"Port of Spain (Municipality)\",\"Port-au-Prince (Capital City)\",\"Port-of-Spain City Corporation\",\"Portland\",\"Porto\",\"Portuguesa\",\"Potosi\",\"Pozega-Slavonia\",\"Poznan\",\"Prachinburi\",\"Prachuap Khiri Khan\",\"Prague\",\"Prague\",\"Praha\",\"Preah Vihear\",\"Preah Vihear (Province)\",\"Presevo (Municipality)\",\"Presov\",\"Prey Veng\",\"Prilep (Municipality)\",\"Primorje-Gorski Kotar\",\"Primorsky Krai\",\"Princes Town\",\"Prishtine (Municipality)\",\"Pristina\",\"Pristina district\",\"Prizren\",\"Propinsi Sulawesi Tengah\",\"Provence-Alpes-Cote d'Azur\",\"Province 1\",\"Province 2\",\"Province 3\",\"Province 4\",\"Province 5\",\"Province 6\",\"Province 7\",\"Pskov\",\"Puducherry\",\"Puebla\",\"Puerto Rico\",\"Puke\",\"Punjab\",\"Punjab\",\"Puno\",\"Puntarenas\",\"Pursa\",\"Pursat\",\"Putrajaya\",\"Putumayo\",\"Puy-de-Dome\",\"Pwani\",\"Pyongyang\",\"Pyrenees-Atlantiques\",\"Qadisiyah\",\"Qadisiyah\",\"Qalyubia\",\"Qassim\",\"Qazvin\",\"Qena\",\"Qinghai\",\"Qom\",\"Quba\",\"Quebec\",\"Quebec (Province)\",\"Queensland\",\"Queensland (State)\",\"Quena\",\"Queretaro\",\"Queretaro (State)\",\"Quetzaltenango\",\"Quezon\",\"Quezon Province\",\"Quiche\",\"Quindio\",\"Quintana\",\"Quintana Roo\",\"Quirino\",\"Quneitra\",\"Qusar\",\"Quthing\",\"Ra Ngae ( District )\",\"Rabat-Sale-Zemmour-Zaer\",\"Racha-Lechkhumi and Kvemo Svaneti\",\"Rajasthan\",\"Rajshahi\",\"Rakhine\",\"Rangae\",\"Rangoon\",\"Rangpur\",\"Raqqah\",\"Raska ( District )\",\"Ratchaburi\",\"Ratchaburi (Province)\",\"Rayong\",\"Rayong (Province)\",\"Razavi Khorasan\",\"Red Sea\",\"Red Sea\",\"Red Sea\",\"Relizane\",\"Relizane (Province)\",\"Relizane Province\",\"Republic of Dagestan\",\"Republic of Degastan\",\"Republika Srpska\",\"Republika Srpska\",\"Retahuleu\",\"Retalhuleu\",\"Rewa\",\"Rhineland-Palatinate\",\"Rhineland-Palatinate\",\"Rhode Island\",\"Rhone\",\"Rhone-Alpes\",\"Riau (Province)\",\"Riau Islands\",\"Rif Dimashq\",\"Rift Valley\",\"Riga\",\"Riga (City)\",\"Rio Grande do Norte\",\"Rio Grande do Sul\",\"Rio Negro\",\"Rio San Juan\",\"Rio de Janeiro\",\"Risaralda\",\"Rivas\",\"Rivas\",\"River Nile\",\"Rivers\",\"Rivne\",\"Riyadh\",\"Rizal\",\"Romblon\",\"Rondonia\",\"Roraima\",\"Rostov\",\"Rostov (Oblast)\",\"Rostov (Rostovskaya) Oblast\",\"Rouiba (Province)\",\"Roztochia Upland\",\"Ruhengeri\",\"Rukwa\",\"Rumonge\",\"Russia\",\"Russia\",\"Russian Republic\",\"Rutana\",\"Ruyigi\",\"SIndh\",\"Sa Kaeo\",\"Sa Kaeo (Province)\",\"Saada\",\"Saarland\",\"Saarland\",\"Sabah\",\"Sabah (State)\",\"Sabaragamuwa\",\"Sabha\",\"Sacatepequez\",\"Sagaing\",\"Sahara\",\"Sahel\",\"Saida\",\"Saida (Province)\",\"Saint Andrew\",\"Saint Gallen\",\"Saint George\",\"Saint George\",\"Saint George Basseterre\",\"Saint James\",\"Saint John\",\"Saint John Parish\",\"Saint Joseph\",\"Saint Laurent Du Maroni\",\"Saint Mary\",\"Saint Michael\",\"Saint Patrick\",\"Saint Petersburg\",\"Sainyabuli\",\"Saitama\",\"Sakarya\",\"Sakha\",\"Sakhalin\",\"Sakhalin (Oblast)\",\"Saladin\",\"Salamanca\",\"Salisbury\",\"Salisbury\",\"Salta\",\"Salzburg\",\"Samangan\",\"Samar\",\"Samara\",\"Samara Oblast\",\"Samburu\",\"Samegrelo and Zemo Svaneti\",\"Samegrelo-Zemo Svaneti\",\"Samegrelo-Zemo Svaneti (Region)\",\"Samsun\",\"Samtskhe-Javakheti\",\"Samtskhe-Javakheti (Province)\",\"Samut Sakhon\",\"San Cristobal\",\"San Jose\",\"San Juan\",\"San Juan\",\"San Juan-Laventille\",\"San Luis\",\"San Luis Potosi\",\"San Marcos\",\"San Martin\",\"San Miguel\",\"San Pedro\",\"San Pedro de Macoris\",\"San Salvador\",\"San Vicente\",\"Sanaa\",\"Sanaag\",\"Sangha\",\"Sangha-Mbaere\",\"Sangre Grande Regional Corporation\",\"Sanliurfa\",\"Santa Ana\",\"Santa Ana\",\"Santa Barbara\",\"Santa Cruz\",\"Santa Cruz de Tenerife\",\"Santa Fe\",\"Santa Rosa\",\"Santa Rosa (Department)\",\"Santander\",\"Santarem\",\"Santiago\",\"Santiago Metropolitan\",\"Santiago del Estero\",\"Santo Domingo\",\"Santo Domingo de los Tsachilas\",\"Sao Paulo\",\"Saone-et-Loire\",\"Saraburi\",\"Saramacca\",\"Sarande\",\"Sarangani\",\"Sarawak\",\"Sardinia\",\"Sari Pul\",\"Sarpang\",\"Satakunta\",\"Savanes\",\"Savanne\",\"Saxony\",\"Saxony-Anhalt\",\"Saxony-Anhalt\",\"Sa\\u00efda\",\"Schleswig-Holstein\",\"Schleswig-Holstein\",\"Scotland\",\"Sedhiou\",\"Segou\",\"Segovia\",\"Seine-Maritime\",\"Seine-Saint-Denis\",\"Seine-et-Marne\",\"Selangor\",\"Sennar\",\"Seoul\",\"Serbia\",\"Serbia\",\"Setif\",\"Setif (Province)\",\"Setif (Stif)\",\"Setif Province\",\"Setubal\",\"Sevastopol\",\"Seventh District\",\"Severocesky\",\"Seville\",\"Shaanxi\",\"Shaanxi (Province)\",\"Shabwah\",\"Shali\",\"Shamal Sina\",\"Shamal Sina' (Governorate)\",\"Shan\",\"Shan (State)\",\"Shan State\",\"Shandong\",\"Shandong (Province)\",\"Shanghai\",\"Shanxi\",\"Shefa\",\"Shefa\",\"Shida Kartli\",\"Shida Kartli (Region)\",\"Shida Kartlie (Region)\",\"Shikoku\",\"Shimane\",\"Shirak\",\"Shiselweni\",\"Shkoder\",\"Shusha\",\"Siah\",\"Siaya\",\"Sibenik-Knin\",\"Siberia (Oblast)\",\"Sichuan\",\"Sichuan (Province)\",\"Sicily\",\"Sidi Bel Abbes\",\"Sidi Bel Abbes (Province)\",\"Sidi Bel Abbes (Region)\",\"Sidi Bel Abb\\u00e8s Province\",\"Sidi Bou Zid\",\"Sidi Bouzid\",\"Siem Reap\",\"Siem Reap (Province)\",\"Sihanoukville\",\"Siirt\",\"Sikasso\",\"Sikkim\",\"Sila\",\"Siliana\",\"Sinai\",\"Sinaloa\",\"Sindh\",\"Singapore\",\"Sinop\",\"Sipaliwini\",\"Siquijor\",\"Sirnak\",\"Sirte\",\"Sisak-Moslavina\",\"Sistan and Balochistan\",\"Sistan and Baluchestan\",\"Sistan va Baluchestan\",\"Sivas\",\"Skane\",\"Skierniewice\",\"Skikda\",\"Skikda (Province)\",\"Skikda Province\",\"Skikida (Province)\",\"Skopje\",\"Skopje (District)\",\"Skopje (Municipality)\",\"Skopje (Region)\",\"Skra\",\"Sligo\",\"Slovenia\",\"Smolensk (Oblast)\",\"Smolensk Oblast\",\"Smolensk Oblast (Administrative Region)\",\"Sodermanland\",\"Sofala\",\"Sofia City\",\"Sofia City (Province)\",\"Soghd\",\"Sohag\",\"Sokoto\",\"Solola\",\"Solothurn\",\"Somali\",\"Songkhla\",\"Songkhla (Province)\",\"Songkla (Province)\",\"Sonora\",\"Sonsonate\",\"Sool\",\"Soria\",\"Sorsogon\",\"Souk Ahras\",\"Sousse\",\"South\",\"South\",\"South\",\"South Aegean\",\"South Australia\",\"South Bohemia\",\"South Caribbean Coast Autonomous Region\",\"South Carolina\",\"South Cotabato\",\"South Dakota\",\"South Darfur\",\"South East St. Andrew\",\"South Eastern\",\"South Highlands (Province)\",\"South Holland\",\"South Jeolla\",\"South Kazakhstan\",\"South Kivu\",\"South Kivu\",\"South Kordofan\",\"South Kurdufan\",\"South Ossetia\",\"South Ossetia (Autonomous Province)\",\"South Ossetia (Region)\",\"South Ossetia (Republic)\",\"South Province\",\"South Sinai\",\"South Sinai (Governorate)\",\"South Sinai Governorate\",\"South Sulawesi\",\"South Sulawesi (Province)\",\"South Sumatra\",\"South-East\",\"South-West\",\"Southeast (Department)\",\"Southern\",\"Southern\",\"Southern\",\"Southern\",\"Southern\",\"Southern\",\"Southern\",\"Southern\",\"Southern\",\"Southern\",\"Southern Highlands\",\"Southern Leyte\",\"Southern Liech\",\"Southern Nations\",\"Southern and Eastern Serbia\",\"Southwest\",\"Southwest Finland\",\"Split-Dalmatia\",\"St. Petersburg\",\"St. Petersburg (Federal City)\",\"Stara Zagora\",\"State of Mexico\",\"Stavropol\",\"Stavropol (Krai)\",\"Stavropol Krai\",\"Stavropolye Region\",\"Stockholm\",\"Struga municipality\",\"Stung Trang\",\"Stung Treng\",\"Styria\",\"Su-ngai Kolok  District Su-ngai Kolok\",\"Suchitepequez\",\"Sucre\",\"Sucre\",\"Sucumbios\",\"Sud\",\"Sud-Bandama\",\"Sud-Comoe\",\"Sud-Est\",\"Suez\",\"Sughd\",\"Sukhumi (Region)\",\"Sulawesi\",\"Sulawesi (Island)\",\"Sulawesi (Province)\",\"Sulawesi Tengah (Central Sulawesi)\",\"Sulawesi Tengah (Province)\",\"Sulaymaniyah\",\"Sultan Kudarat\",\"Sultan Kudurat\",\"Sulu\",\"Sumatera Selatan\",\"Sumatra (Province)\",\"Sumy\",\"Sungai Kolok\",\"Sungai Padi ( District )\",\"Surat Thani\",\"Suria\",\"Surigao del Norte\",\"Surigao del Sur\",\"Surin\",\"Svay Rieng\",\"Sverdlovsk\",\"Sverdlovsk (Oblast)\",\"Sylhet\",\"Sylhet\",\"Szabolcs-Szatmar-Bereg\",\"Szczecin\",\"S\\u00e9tif\",\"T'bilisi\",\"Tabasco\",\"Tabaza (Province)\",\"Tabuk\",\"Tachira\",\"Tacna\",\"Tadjourah\",\"Tahoua\",\"Taichung\",\"Tainan\",\"Taipei\",\"Taipei (County)\",\"Taizz\",\"Tak\",\"Tak\",\"Tak (Province)\",\"Tak Bai ( District )\",\"Takeo\",\"Takhar\",\"Tamalous (Region)\",\"Tamanghasset\",\"Tamaulipas\",\"Tamaulipas (State)\",\"Tamil Nadu\",\"Tana River\",\"Tanga\",\"Tanganyika\",\"Tanintharyi\",\"Tanintharyi (Division)\",\"Tanout Department\",\"Taoyuan (County)\",\"Taraba\",\"Tarapaca\",\"Tarija\",\"Tarlac\",\"Tarragona\",\"Tartar\",\"Tartus\",\"Tashkent\",\"Tashkent (Capital City)\",\"Tashkent (Province)\",\"Tasmania\",\"Tataouine\",\"Tatarstan\",\"Taurage\",\"Tavastia Proper\",\"Tavush\",\"Tawi Tawi\",\"Tawi-Tawi\",\"Tbessa\",\"Tbilisi\",\"Tbilisi (Capital City)\",\"Tbilisi (Capital)\",\"Tearce\",\"Tearce (Municipality)\",\"Tearce municipality\",\"Tebessa\",\"Tebessa (Province)\",\"Tebessa Province\",\"Tehran\",\"Tel Aviv\",\"Telangana\",\"Tennessee\",\"Tepelene\",\"Terekeka\",\"Tete\",\"Tetovo\",\"Tetovo (Municipality)\",\"Tetovo Municipality\",\"Texas\",\"Than To\",\"Thessaly\",\"Thuringia\",\"Tiaret\",\"Tiaret (Province)\",\"Tiaret (Region)\",\"Tibesti\",\"Tibet\",\"Ticino\",\"Tigray\",\"Tillaberi\",\"Tillab\\u00e9ri\",\"Timbuktu\",\"Tindouf\",\"Tipasa\",\"Tipasa (Province)\",\"Tipaza\",\"Tipaza (Province)\",\"Tipaza Province\",\"Tirana\",\"Tiris Zemmour\",\"Tissemselt (Province)\",\"Tissemsilt\",\"Tissemsilt (Province)\",\"Tissemsilt Province\",\"Tissimsilt\",\"Tissmesilt\",\"Tizi Ouzau\",\"Tizi Ouzou\",\"Tizi Ouzou (Province)\",\"Tizi Ouzou Province\",\"Tlemcen\",\"Tlemcen (Province)\",\"Tobago\",\"Tochigi\",\"Togdheer\",\"Tokat\",\"Tokyo\",\"Tokyo (Metropolis)\",\"Tokyo (Prefecture)\",\"Toledo\",\"Tolima\",\"Tomsk Oblast\",\"Topaz (Province)\",\"Totonicapan\",\"Tozeur\",\"Trabzon\",\"Trang\",\"Trans-Nzoia\",\"Transkei\",\"Transnistria\",\"Transvaal\",\"Trat\",\"Trat (Province)\",\"Traza\",\"Trentino-South Tyrol\",\"Tribal Trust Lands\",\"Tripoli\",\"Tripura\",\"Trnava\",\"Tropoje\",\"Trujillo\",\"Tskhinvali (Region)\",\"Tucuman\",\"Tula\",\"Tula (Oblast)\",\"Tumbes\",\"Tunapuna-Piarco\",\"Tunceli\",\"Tungurahua\",\"Tunis\",\"Tunis (Governorate)\",\"Turkana\",\"Tuscany\",\"Tver\",\"Tyrol\",\"Tyumen\",\"Tyumen (Oblast)\",\"T\\u00e9bessa\",\"T\\u00e9bessa Province\",\"U.S. Virgin Islands\",\"Ubon Ratchathani\",\"Ucayali\",\"Udon Thani\",\"Uige\",\"Ukraine\",\"Ukraine\",\"Umbria\",\"Umtali\",\"Unity\",\"Unity\",\"Unknown\",\"Unknown\",\"Unknown\",\"Unknown\",\"Unknown\",\"Unknown\",\"Unknown\",\"Unknown\",\"Unknown\",\"Unknown\",\"Unknown\",\"Unknown\",\"Unknown\",\"Unknown\",\"Unknown\",\"Unknown\",\"Unknown\",\"Unknown\",\"Unknown\",\"Unknown\",\"Unknown\",\"Unknown\",\"Unknown\",\"Unknown\",\"Unknown\",\"Unknown\",\"Unknown\",\"Unknown\",\"Unknown\",\"Unknown\",\"Unknown\",\"Unknown\",\"Unknown\",\"Unknown\",\"Unknown\",\"Unknown\",\"Unknown\",\"Unknown\",\"Unknown\",\"Unknown\",\"Unknown\",\"Unknown\",\"Unknown\",\"Unknown\",\"Unknown\",\"Unknown\",\"Unknown\",\"Unknown\",\"Unknown\",\"Unknown\",\"Unknown\",\"Unknown\",\"Unknown\",\"Unknown\",\"Unknown\",\"Unknown\",\"Unknown\",\"Unknown\",\"Unknown\",\"Unknown\",\"Unknown\",\"Unknown\",\"Unknown\",\"Unknown\",\"Unknown\",\"Unknown\",\"Unknown\",\"Unknown\",\"Unknown\",\"Unknown\",\"Unknown\",\"Unknown\",\"Unknown\",\"Unknown\",\"Unknown\",\"Unknown\",\"Unknown\",\"Unknown\",\"Unknown\",\"Unknown\",\"Unknown\",\"Unknown\",\"Unknown\",\"Unknown\",\"Unknown\",\"Unknown\",\"Unknown\",\"Unknown\",\"Unknown\",\"Unknown\",\"Unknown\",\"Unknown\",\"Unknown\",\"Unknown\",\"Unknown\",\"Unknown\",\"Unknown\",\"Unknown\",\"Unknown\",\"Unknown\",\"Unknown\",\"Unknown\",\"Unknown\",\"Unknown\",\"Unknown\",\"Unknown\",\"Unknown\",\"Unknown\",\"Unknown\",\"Unknown\",\"Unknown\",\"Unknown\",\"Unknown\",\"Unknown\",\"Unknown\",\"Unknown\",\"Unknown\",\"Unknown\",\"Unknown\",\"Unknown\",\"Unknown\",\"Unknown\",\"Unknown\",\"Unknown\",\"Unknown\",\"Unknown\",\"Unknown\",\"Unknown\",\"Unknown\",\"Unknown\",\"Unknown\",\"Unknown\",\"Unknown\",\"Unknown\",\"Unknown\",\"Unknown\",\"Unknown\",\"Unknown\",\"Unknown\",\"Unknown\",\"Unknown\",\"Unknown\",\"Unknown\",\"Unknown\",\"Unknown\",\"Unknown\",\"Unknown\",\"Unknown\",\"Unknown\",\"Unknown\",\"Unknown\",\"Unknown\",\"Unknown\",\"Unknown\",\"Unknown\",\"Unknown\",\"Unknown\",\"Unknown\",\"Unknown\",\"Unknown\",\"Unknown\",\"Unknown\",\"Unknown\",\"Unknown\",\"Unknown\",\"Unknown\",\"Unknown\",\"Unknown\",\"Unknown\",\"Unknown\",\"Upper Austria\",\"Upper Nile\",\"Upper Nile\",\"Upper Normandy\",\"Upper North Province\",\"Uppsala\",\"Urals (Federal  District )\",\"Urosevac\",\"Urus-Martan (District)\",\"Urus-Martanovsky\",\"Uruzgan\",\"Usak\",\"Usti nad Labem\",\"Usulutan\",\"Usulut\\u00e1n\",\"Utah\",\"Utrecht\",\"Uttar Pradesh\",\"Uttaranchal\",\"Uusimaa\",\"Uva\",\"Uvea\",\"Vakaga\",\"Val-de-Marne\",\"Valais\",\"Valencia\",\"Valladolid\",\"Valle\",\"Valle del Cauca\",\"Vallee du Bandama\",\"Valparaiso\",\"Valverde\",\"Van\",\"Var\",\"Vargas\",\"Varmland\",\"Varna\",\"Vasterbotten\",\"Vasternorrland\",\"Vastmanland\",\"Vastra Gotaland\",\"Vatican City\",\"Vaud\",\"Vaupes\",\"Vedeno\",\"Vedensky\",\"Velenje\",\"Venda\",\"Veneto\",\"Veracruz\",\"Veracruz (State)\",\"Veracruz (State) and Tlaxcala (State)\",\"Veraguas\",\"Vermont\",\"Vichada\",\"Victoria\",\"Victoria\",\"Victoria\",\"Victoria (State)\",\"Vidzeme\",\"Vienna\",\"Vientiane\",\"Vientiane (Prefecture)\",\"Villa Clara\",\"Vilnius\",\"Viqueque (District)\",\"Virginia\",\"Virovitica-Podravina\",\"Vitebsk\",\"Vlore\",\"Vojvodina\",\"Vojvodina\",\"Vojvodina (Province)\",\"Vojvodina (Province)\",\"Volga (District)\",\"Volgograd\",\"Volgograd (Oblast)\",\"Volgograd Oblast\",\"Vologda\",\"Volyn\",\"Vorarlberg\",\"Vorenezh\",\"Voronezh (Oblast)\",\"Voronezh Oblast\",\"Voru\",\"Vranje (Municipality)\",\"Vukovar-Srijem\",\"Vukovar-Syrmia\",\"Vychodocesky\",\"Vysocina\",\"Wadi Al Hayaa\",\"Wadi Al Shatii\",\"Wadi Fira\",\"Wadi al Shatii\",\"Wahat\",\"Wajir\",\"Wales\",\"Wallonia\",\"Warap\",\"Warap\",\"Wardak\",\"Warsaw\",\"Washington\",\"Wasit\",\"Wassec (Region)\",\"Waterford\",\"Wau\",\"Wellington\",\"Wellington (Region)\",\"West Azerbaijan\",\"West Bank\",\"West Bank\",\"West Bengal\",\"West Darfur\",\"West Equatoria\",\"West Equatoria\",\"West Java\",\"West Java (Province)\",\"West Kalimantan\",\"West Kazakhstan\",\"West Kordofan\",\"West Nusa Tenggara\",\"West Panama\",\"West Sepik\",\"West Sumatra\",\"West Virginia\",\"Western\",\"Western\",\"Western\",\"Western\",\"Western\",\"Western\",\"Western\",\"Western\",\"Western Australia\",\"Western Bahr el Ghazal\",\"Western Bahr el Ghazal\",\"Western Bieh\",\"Western Cape\",\"Western Equatoria\",\"Western Finland\",\"Western Greece\",\"Western Highlands\",\"Western Lakes\",\"Western Region\",\"Westmeath\",\"Wexford\",\"White Nile\",\"Wicklow\",\"Wilaya de Djelfa\",\"Wisconsin\",\"Woqooyi Galbeed\",\"Wyoming\",\"Xaisomboun\",\"Xinjiang\",\"Xinjiang Uyghur\",\"Yaha ( District )\",\"Yala\",\"Yala\",\"Yala  District\",\"Yala ( District )\",\"Yala (District)\",\"Yala (Province)\",\"Yala (province)\",\"Yala Muang  District\",\"Yala Province\",\"Yala Province/Muang District\",\"Yala and Pattani Provinces\",\"Yamagata\",\"Yamaguchi\",\"Yamanashi\",\"Yambol\",\"Yangon\",\"Yangon (Division)\",\"Yangon (Rangoon)\",\"Yangon (State)\",\"Yangon Division\",\"Yaracuy\",\"Yarang ( District )\",\"Yaroslavl Oblast\",\"Yazd\",\"Yei River\",\"Yekaterinburg\",\"Yeongnam\",\"Yerevan\",\"Yerevan (Special Administrative Region)\",\"Yobe\",\"Yogyakarta\",\"Yogyakarta Special Region\",\"Yonne\",\"Yoro\",\"Yucatan\",\"Yugoslavia\",\"Yunlin\",\"Yunlin (County)\",\"Yunnan\",\"Yunnan (Province)\",\"Yvelines\",\"Zabaykalsky (Krai)\",\"Zabaykalsky Krai\",\"Zabul\",\"Zacapa\",\"Zacatecas\",\"Zadar\",\"Zadar (County)\",\"Zaghouan\",\"Zagreb\",\"Zagreb (City)\",\"Zagreb (County)\",\"Zaire\",\"Zakarpattia\",\"Zakarpattia (Oblast)\",\"Zambales\",\"Zambezia\",\"Zamboanga Sibugay\",\"Zamboanga del Norte\",\"Zamboanga del Sur\",\"Zamfara\",\"Zamora-Chinchipe\",\"Zanjan\",\"Zanzan\",\"Zanzibar South\",\"Zanzibar West\",\"Zaporizhzhya\",\"Zaqatala\",\"Zaqatala (District)\",\"Zaragoza\",\"Zarqa\",\"Zawiya\",\"Zebbug\",\"Zelaya\",\"Zhejiang\",\"Zhytomyr\",\"Ziguinchor\",\"Zinder\",\"Zinguldak\",\"Zolsky\",\"Zubin Potok\",\"Zug\",\"Zugdidi\",\"Zulia\",\"Zurich\",\"khon kaen\",\"phayao\",\"sakon nakhon\",\"samut prakan\",\"saraburi\",\"sulawesi utara\",\"unknown\",\"Afghanistan\",\"Albania\",\"Algeria\",\"Andorra\",\"Angola\",\"Antigua and Barbuda\",\"Argentina\",\"Armenia\",\"Australia\",\"Austria\",\"Azerbaijan\",\"Bahamas\",\"Bahrain\",\"Bangladesh\",\"Barbados\",\"Belarus\",\"Belgium\",\"Belize\",\"Benin\",\"Bhutan\",\"Bolivia\",\"Bosnia-Herzegovina\",\"Botswana\",\"Brazil\",\"Brunei\",\"Bulgaria\",\"Burkina Faso\",\"Burundi\",\"Cambodia\",\"Cameroon\",\"Canada\",\"Central African Republic\",\"Chad\",\"Chile\",\"China\",\"Colombia\",\"Comoros\",\"Costa Rica\",\"Croatia\",\"Cuba\",\"Cyprus\",\"Czech Republic\",\"Czechoslovakia\",\"Democratic Republic of the Congo\",\"Denmark\",\"Djibouti\",\"Dominica\",\"Dominican Republic\",\"East Germany (GDR)\",\"East Timor\",\"Ecuador\",\"Egypt\",\"El Salvador\",\"Equatorial Guinea\",\"Eritrea\",\"Estonia\",\"Ethiopia\",\"Falkland Islands\",\"Fiji\",\"Finland\",\"France\",\"French Guiana\",\"French Polynesia\",\"Gabon\",\"Gambia\",\"Georgia\",\"Germany\",\"Ghana\",\"Greece\",\"Grenada\",\"Guadeloupe\",\"Guatemala\",\"Guinea\",\"Guinea-Bissau\",\"Guyana\",\"Haiti\",\"Honduras\",\"Hong Kong\",\"Hungary\",\"Iceland\",\"India\",\"Indonesia\",\"International\",\"Iran\",\"Iraq\",\"Ireland\",\"Israel\",\"Italy\",\"Ivory Coast\",\"Jamaica\",\"Japan\",\"Jordan\",\"Kazakhstan\",\"Kenya\",\"Kosovo\",\"Kuwait\",\"Kyrgyzstan\",\"Laos\",\"Latvia\",\"Lebanon\",\"Lesotho\",\"Liberia\",\"Libya\",\"Lithuania\",\"Luxembourg\",\"Macau\",\"Macedonia\",\"Madagascar\",\"Malawi\",\"Malaysia\",\"Maldives\",\"Mali\",\"Malta\",\"Martinique\",\"Mauritania\",\"Mauritius\",\"Mexico\",\"Moldova\",\"Montenegro\",\"Morocco\",\"Mozambique\",\"Myanmar\",\"Namibia\",\"Nepal\",\"Netherlands\",\"New Caledonia\",\"New Hebrides\",\"New Zealand\",\"Nicaragua\",\"Niger\",\"Nigeria\",\"North Korea\",\"North Yemen\",\"Norway\",\"Pakistan\",\"Panama\",\"Papua New Guinea\",\"Paraguay\",\"People's Republic of the Congo\",\"Peru\",\"Philippines\",\"Poland\",\"Portugal\",\"Qatar\",\"Republic of the Congo\",\"Rhodesia\",\"Romania\",\"Russia\",\"Rwanda\",\"Saudi Arabia\",\"Senegal\",\"Serbia\",\"Serbia-Montenegro\",\"Seychelles\",\"Sierra Leone\",\"Singapore\",\"Slovak Republic\",\"Slovenia\",\"Solomon Islands\",\"Somalia\",\"South Africa\",\"South Korea\",\"South Sudan\",\"South Vietnam\",\"South Yemen\",\"Soviet Union\",\"Spain\",\"Sri Lanka\",\"St. Kitts and Nevis\",\"St. Lucia\",\"Sudan\",\"Suriname\",\"Swaziland\",\"Sweden\",\"Switzerland\",\"Syria\",\"Taiwan\",\"Tajikistan\",\"Tanzania\",\"Thailand\",\"Togo\",\"Trinidad and Tobago\",\"Tunisia\",\"Turkey\",\"Turkmenistan\",\"Uganda\",\"Ukraine\",\"United Arab Emirates\",\"United Kingdom\",\"United States\",\"Uruguay\",\"Uzbekistan\",\"Vanuatu\",\"Vatican City\",\"Venezuela\",\"Vietnam\",\"Wallis and Futuna\",\"West Bank and Gaza Strip\",\"West Germany (FRG)\",\"Western Sahara\",\"Yemen\",\"Yugoslavia\",\"Zaire\",\"Zambia\",\"Zimbabwe\",\"Australasia & Oceania\",\"Central America & Caribbean\",\"Central Asia\",\"East Asia\",\"Eastern Europe\",\"Middle East & North Africa\",\"North America\",\"South America\",\"South Asia\",\"Southeast Asia\",\"Sub-Saharan Africa\",\"Western Europe\"],\"name\":\"\",\"parents\":[\"Central Asia/Tajikistan\",\"Eastern Europe/Russia\",\"Western Europe/Spain\",\"Western Europe/Switzerland\",\"Sub-Saharan Africa/Nigeria\",\"Central Asia/Georgia\",\"Central Asia/Georgia\",\"Central Asia/Georgia\",\"Central Asia/Georgia\",\"Southeast Asia/Philippines\",\"Western Europe/Italy\",\"Middle East & North Africa/United Arab Emirates\",\"Sub-Saharan Africa/Nigeria\",\"Middle East & North Africa/Yemen\",\"North America/Mexico\",\"Southeast Asia/Indonesia\",\"Southeast Asia/Indonesia\",\"Southeast Asia/Indonesia\",\"Southeast Asia/Indonesia\",\"Southeast Asia/Indonesia\",\"South America/Brazil\",\"Middle East & North Africa/Yemen\",\"Sub-Saharan Africa/Cameroon\",\"Sub-Saharan Africa/Nigeria\",\"Middle East & North Africa/South Yemen\",\"Middle East & North Africa/Yemen\",\"Middle East & North Africa/Turkey\",\"Sub-Saharan Africa/Ethiopia\",\"Middle East & North Africa/Turkey\",\"Central Asia/Georgia\",\"Sub-Saharan Africa/Ethiopia\",\"Sub-Saharan Africa/Niger\",\"Sub-Saharan Africa/Niger\",\"Sub-Saharan Africa/Niger\",\"Sub-Saharan Africa/Niger\",\"Sub-Saharan Africa/Ivory Coast\",\"Middle East & North Africa/Turkey\",\"Southeast Asia/Philippines\",\"North America/Mexico\",\"Southeast Asia/Philippines\",\"Southeast Asia/Philippines\",\"Middle East & North Africa/Kuwait\",\"Central America & Caribbean/El Salvador\",\"East Asia/Japan\",\"East Asia/Japan\",\"Middle East & North Africa/Algeria\",\"Middle East & North Africa/Algeria\",\"Middle East & North Africa/Algeria\",\"Middle East & North Africa/Algeria\",\"Middle East & North Africa/Algeria\",\"Middle East & North Africa/Algeria\",\"Central Asia/Georgia\",\"Western Europe/Norway\",\"East Asia/Japan\",\"Southeast Asia/Philippines\",\"Central Asia/Kazakhstan\",\"Central Asia/Kazakhstan\",\"Sub-Saharan Africa/Nigeria\",\"Middle East & North Africa/Iraq\",\"Middle East & North Africa/Yemen\",\"Middle East & North Africa/Syria\",\"Middle East & North Africa/Yemen\",\"Middle East & North Africa/Egypt\",\"Middle East & North Africa/Yemen\",\"Middle East & North Africa/Egypt\",\"Middle East & North Africa/Iraq\",\"Middle East & North Africa/Egypt\",\"Middle East & North Africa/Egypt\",\"Middle East & North Africa/Egypt\",\"Sub-Saharan Africa/Sudan\",\"North America/United States\",\"South America/Brazil\",\"Central America & Caribbean/Costa Rica\",\"Central America & Caribbean/Nicaragua\",\"North America/United States\",\"Western Europe/Spain\",\"Southeast Asia/Philippines\",\"North America/Canada\",\"North America/Canada\",\"Middle East & North Africa/Iran\",\"Middle East & North Africa/Syria\",\"Middle East & North Africa/Egypt\",\"Middle East & North Africa/Egypt\",\"Western Europe/Portugal\",\"Middle East & North Africa/Algeria\",\"Middle East & North Africa/Algeria\",\"Middle East & North Africa/Algeria\",\"Middle East & North Africa/Algeria\",\"Sub-Saharan Africa/Djibouti\",\"South Asia/Maldives\",\"Central Asia/Kazakhstan\",\"Central Asia/Kazakhstan\",\"Central Asia/Kazakhstan\",\"Western Europe/France\",\"Western Europe/France\",\"Central America & Caribbean/Guatemala\",\"Eastern Europe/Russia\",\"South America/Paraguay\",\"South America/Paraguay\",\"Sub-Saharan Africa/South Sudan\",\"South America/Paraguay\",\"Middle East & North Africa/North Yemen\",\"Middle East & North Africa/Yemen\",\"Middle East & North Africa/Turkey\",\"South America/Brazil\",\"South America/Colombia\",\"South America/Peru\",\"South America/Venezuela\",\"Southeast Asia/Indonesia\",\"Middle East & North Africa/Algeria\",\"Sub-Saharan Africa/Ethiopia\",\"Middle East & North Africa/Jordan\",\"Middle East & North Africa/Yemen\",\"Eastern Europe/Russia\",\"Middle East & North Africa/Lebanon\",\"Sub-Saharan Africa/Madagascar\",\"Sub-Saharan Africa/Nigeria\",\"South America/Peru\",\"Western Europe/Spain\",\"South Asia/India\",\"South Asia/India\",\"Central Asia/Uzbekistan\",\"Central Asia/Uzbekistan\",\"Eastern Europe/Moldova\",\"Middle East & North Africa/Turkey\",\"Middle East & North Africa/Algeria\",\"Middle East & North Africa/Algeria\",\"Middle East & North Africa/Turkey\",\"Sub-Saharan Africa/Madagascar\",\"South America/Colombia\",\"Southeast Asia/Philippines\",\"Sub-Saharan Africa/Madagascar\",\"South America/Chile\",\"Sub-Saharan Africa/Madagascar\",\"South America/Venezuela\",\"Middle East & North Africa/Algeria\",\"Middle East & North Africa/Algeria\",\"Western Europe/Italy\",\"Southeast Asia/Philippines\",\"Western Europe/Italy\",\"South America/Venezuela\",\"South America/Peru\",\"Middle East & North Africa/Jordan\",\"Central Asia/Kazakhstan\",\"Western Europe/France\",\"Middle East & North Africa/Syria\",\"Middle East & North Africa/Qatar\",\"Eastern Europe/Macedonia\",\"Western Europe/Spain\",\"South America/Venezuela\",\"South America/Colombia\",\"South America/Chile\",\"South America/Chile\",\"Middle East & North Africa/Iraq\",\"Middle East & North Africa/Turkey\",\"South America/Colombia\",\"South America/Peru\",\"South America/Chile\",\"North America/United States\",\"North America/United States\",\"Eastern Europe/Russia\",\"Eastern Europe/Russia\",\"Eastern Europe/Soviet Union\",\"Central America & Caribbean/Haiti\",\"Central America & Caribbean/Haiti\",\"Central Asia/Armenia\",\"Middle East & North Africa/Turkey\",\"South Asia/India\",\"Sub-Saharan Africa/Tanzania\",\"Middle East & North Africa/Syria\",\"Sub-Saharan Africa/Ghana\",\"Central Asia/Turkmenistan\",\"Middle East & North Africa/Kuwait\",\"Middle East & North Africa/Saudi Arabia\",\"Sub-Saharan Africa/Ethiopia\",\"South Asia/India\",\"Eastern Europe/Russia\",\"Eastern Europe/Russia\",\"Eastern Europe/Russia\",\"Western Europe/Spain\",\"South America/Paraguay\",\"Middle East & North Africa/Egypt\",\"Middle East & North Africa/Egypt\",\"Middle East & North Africa/Iraq\",\"South America/Chile\",\"Sub-Saharan Africa/Benin\",\"South America/Colombia\",\"Central America & Caribbean/Nicaragua\",\"Central America & Caribbean/Nicaragua\",\"Central America & Caribbean/Nicaragua\",\"Central America & Caribbean/Honduras\",\"Southeast Asia/East Timor\",\"Western Europe/Greece\",\"Central Asia/Kazakhstan\",\"Australasia & Oceania/New Zealand\",\"Australasia & Oceania/New Zealand\",\"Western Europe/France\",\"Southeast Asia/Philippines\",\"Australasia & Oceania/Australia\",\"Western Europe/France\",\"Western Europe/France\",\"Sub-Saharan Africa/Somalia\",\"South America/Peru\",\"Middle East & North Africa/Turkey\",\"Southeast Asia/Myanmar\",\"South America/Chile\",\"Southeast Asia/Thailand\",\"South Asia/Pakistan\",\"Eastern Europe/Soviet Union\",\"Western Europe/Portugal\",\"South America/Ecuador\",\"Middle East & North Africa/Algeria\",\"Middle East & North Africa/Algeria\",\"Australasia & Oceania/Fiji\",\"Australasia & Oceania/Fiji\",\"Middle East & North Africa/Iran\",\"Middle East & North Africa/Iraq\",\"South Asia/Afghanistan\",\"Western Europe/Germany\",\"Western Europe/West Germany (FRG)\",\"South Asia/Afghanistan\",\"Middle East & North Africa/Iran\",\"Middle East & North Africa/Iraq\",\"South Asia/Afghanistan\",\"Southeast Asia/Myanmar\",\"Southeast Asia/Myanmar\",\"Southeast Asia/Myanmar\",\"South America/Brazil\",\"North America/Mexico\",\"North America/Mexico\",\"Central America & Caribbean/Guatemala\",\"Sub-Saharan Africa/Somalia\",\"Central Asia/Azerbaijan\",\"Central Asia/Azerbaijan\",\"Western Europe/Spain\",\"Southeast Asia/Indonesia\",\"Middle East & North Africa/Turkey\",\"South Asia/Afghanistan\",\"South Asia/Pakistan\",\"Middle East & North Africa/Jordan\",\"Sub-Saharan Africa/Mali\",\"Sub-Saharan Africa/Central African Republic\",\"South Asia/Afghanistan\",\"Sub-Saharan Africa/Somalia\",\"Sub-Saharan Africa/Democratic Republic of the Congo\",\"Southeast Asia/Thailand\",\"Southeast Asia/Thailand\",\"Southeast Asia/Thailand\",\"Southeast Asia/Thailand\",\"Sub-Saharan Africa/Central African Republic\",\"Sub-Saharan Africa/Gambia\",\"Eastern Europe/Slovak Republic\",\"Southeast Asia/Cambodia\",\"Southeast Asia/Indonesia\",\"Southeast Asia/Indonesia\",\"Central America & Caribbean/Dominican Republic\",\"Central America & Caribbean/Dominican Republic\",\"Western Europe/Spain\",\"Sub-Saharan Africa/Somalia\",\"South America/Guyana\",\"South America/Venezuela\",\"South Asia/Bangladesh\",\"Middle East & North Africa/Turkey\",\"Sub-Saharan Africa/Democratic Republic of the Congo\",\"Sub-Saharan Africa/Zaire\",\"Western Europe/France\",\"Sub-Saharan Africa/Ivory Coast\",\"Sub-Saharan Africa/Democratic Republic of the Congo\",\"Western Europe/Switzerland\",\"Southeast Asia/Philippines\",\"Western Europe/Italy\",\"Eastern Europe/Russia\",\"Western Europe/Spain\",\"Middle East & North Africa/Iraq\",\"Middle East & North Africa/Kuwait\",\"Sub-Saharan Africa/Central African Republic\",\"Central America & Caribbean/Guadeloupe\",\"Southeast Asia/Philippines\",\"Southeast Asia/Philippines\",\"Central Asia/Kyrgyzstan\",\"Central Asia/Kyrgyzstan\",\"Central Asia/Kyrgyzstan\",\"Middle East & North Africa/Turkey\",\"Middle East & North Africa/Algeria\",\"Middle East & North Africa/Algeria\",\"Middle East & North Africa/Algeria\",\"Southeast Asia/Cambodia\",\"Southeast Asia/Cambodia\",\"Southeast Asia/Cambodia\",\"Sub-Saharan Africa/Nigeria\",\"Western Europe/Germany\",\"Western Europe/West Germany (FRG)\",\"Sub-Saharan Africa/Somalia\",\"Australasia & Oceania/New Zealand\",\"Sub-Saharan Africa/Nigeria\",\"Middle East & North Africa/Algeria\",\"Middle East & North Africa/Algeria\",\"Middle East & North Africa/Algeria\",\"Middle East & North Africa/Egypt\",\"Middle East & North Africa/Algeria\",\"East Asia/China\",\"East Asia/China\",\"Middle East & North Africa/Lebanon\",\"Western Europe/Portugal\",\"Middle East & North Africa/Tunisia\",\"Middle East & North Africa/Algeria\",\"Middle East & North Africa/Algeria\",\"Southeast Asia/Brunei\",\"Eastern Europe/Serbia\",\"Eastern Europe/Serbia-Montenegro\",\"Eastern Europe/Yugoslavia\",\"Eastern Europe/Serbia-Montenegro\",\"Eastern Europe/Serbia-Montenegro\",\"Eastern Europe/Yugoslavia\",\"Central America & Caribbean/Belize\",\"Middle East & North Africa/Tunisia\",\"Eastern Europe/Moldova\",\"Middle East & North Africa/Libya\",\"Sub-Saharan Africa/Angola\",\"Sub-Saharan Africa/Angola\",\"Southeast Asia/Philippines\",\"South America/Bolivia\",\"Middle East & North Africa/Egypt\",\"Sub-Saharan Africa/Ethiopia\",\"Sub-Saharan Africa/Nigeria\",\"Middle East & North Africa/Israel\",\"Middle East & North Africa/Lebanon\",\"Eastern Europe/Montenegro\",\"Middle East & North Africa/Algeria\",\"Sub-Saharan Africa/Lesotho\",\"Eastern Europe/East Germany (GDR)\",\"Western Europe/Germany\",\"Western Europe/West Germany (FRG)\",\"Western Europe/Switzerland\",\"Southeast Asia/Thailand\",\"Southeast Asia/Philippines\",\"Sub-Saharan Africa/Angola\",\"South Asia/India\",\"Southeast Asia/Philippines\",\"Central America & Caribbean/Bahamas\",\"Middle East & North Africa/Turkey\",\"South America/Chile\",\"South America/Chile\",\"Sub-Saharan Africa/Equatorial Guinea\",\"Middle East & North Africa/Algeria\",\"Middle East & North Africa/Algeria\",\"Western Europe/Spain\",\"Central Asia/Kyrgyzstan\",\"Central Asia/Kyrgyzstan\",\"Central Asia/Kyrgyzstan\",\"Middle East & North Africa/Algeria\",\"Middle East & North Africa/Algeria\",\"Middle East & North Africa/Algeria\",\"Sub-Saharan Africa/Guinea-Bissau\",\"Middle East & North Africa/Turkey\",\"Middle East & North Africa/Tunisia\",\"Eastern Europe/Bulgaria\",\"Middle East & North Africa/Algeria\",\"Middle East & North Africa/Algeria\",\"Middle East & North Africa/Algeria\",\"Middle East & North Africa/Algeria\",\"Sub-Saharan Africa/Sudan\",\"Central America & Caribbean/Nicaragua\",\"Southeast Asia/East Timor\",\"Southeast Asia/Indonesia\",\"South America/Colombia\",\"Southeast Asia/Philippines\",\"South America/Colombia\",\"South America/Venezuela\",\"Sub-Saharan Africa/South Sudan\",\"Sub-Saharan Africa/Liberia\",\"Sub-Saharan Africa/Liberia\",\"Sub-Saharan Africa/South Africa\",\"Middle East & North Africa/Algeria\",\"Middle East & North Africa/Algeria\",\"Middle East & North Africa/Algeria\",\"Middle East & North Africa/Algeria\",\"Sub-Saharan Africa/Chad\",\"Sub-Saharan Africa/Nigeria\",\"Eastern Europe/Bosnia-Herzegovina\",\"Eastern Europe/Bosnia-Herzegovina\",\"Eastern Europe/Yugoslavia\",\"Western Europe/France\",\"Sub-Saharan Africa/Burkina Faso\",\"Sub-Saharan Africa/Republic of the Congo\",\"Middle East & North Africa/Algeria\",\"Australasia & Oceania/Papua New Guinea\",\"Middle East & North Africa/Algeria\",\"Middle East & North Africa/Algeria\",\"Middle East & North Africa/Algeria\",\"Middle East & North Africa/Algeria\",\"Middle East & North Africa/Algeria\",\"Middle East & North Africa/Algeria\",\"Middle East & North Africa/Algeria\",\"Middle East & North Africa/Algeria\",\"Middle East & North Africa/Algeria\",\"Middle East & North Africa/Algeria\",\"Western Europe/France\",\"Middle East & North Africa/Algeria\",\"Middle East & North Africa/Algeria\",\"South America/Colombia\",\"Western Europe/Portugal\",\"Western Europe/Germany\",\"Western Europe/West Germany (FRG)\",\"Eastern Europe/Yugoslavia\",\"Eastern Europe/Czechoslovakia\",\"Eastern Europe/Slovak Republic\",\"Eastern Europe/Slovak Republic\",\"Sub-Saharan Africa/People's Republic of the Congo\",\"Sub-Saharan Africa/Republic of the Congo\",\"Eastern Europe/Bosnia-Herzegovina\",\"Western Europe/Germany\",\"Western Europe/West Germany (FRG)\",\"North America/Canada\",\"North America/Canada\",\"North America/Canada\",\"Western Europe/France\",\"Eastern Europe/Croatia\",\"South America/Suriname\",\"Western Europe/Belgium\",\"Sub-Saharan Africa/Burundi\",\"Eastern Europe/Romania\",\"Eastern Europe/Hungary\",\"Eastern Europe/Hungary\",\"South America/Argentina\",\"Eastern Europe/Serbia-Montenegro\",\"Eastern Europe/Yugoslavia\",\"Sub-Saharan Africa/Burundi\",\"Sub-Saharan Africa/Burundi\",\"Southeast Asia/Philippines\",\"Southeast Asia/Philippines\",\"Sub-Saharan Africa/Rhodesia\",\"Sub-Saharan Africa/Zimbabwe\",\"Sub-Saharan Africa/Kenya\",\"Middle East & North Africa/Turkey\",\"Eastern Europe/Bulgaria\",\"Western Europe/Austria\",\"Western Europe/Spain\",\"Western Europe/France\",\"Middle East & North Africa/Turkey\",\"Sub-Saharan Africa/Burundi\",\"Eastern Europe/Russia\",\"East Asia/South Korea\",\"Western Europe/Norway\",\"Sub-Saharan Africa/Rwanda\",\"Sub-Saharan Africa/Lesotho\",\"Middle East & North Africa/Libya\",\"Sub-Saharan Africa/Rwanda\",\"Middle East & North Africa/Algeria\",\"Middle East & North Africa/Algeria\",\"Middle East & North Africa/Algeria\",\"South America/Paraguay\",\"South America/Paraguay\",\"South America/Venezuela\",\"Central America & Caribbean/El Salvador\",\"Central America & Caribbean/El Salvador\",\"Sub-Saharan Africa/Angola\",\"Sub-Saharan Africa/People's Republic of the Congo\",\"Sub-Saharan Africa/Mozambique\",\"Central America & Caribbean/Guatemala\",\"Sub-Saharan Africa/Guinea-Bissau\",\"Western Europe/Spain\",\"Southeast Asia/Philippines\",\"Middle East & North Africa/Egypt\",\"Middle East & North Africa/Egypt\",\"South America/Peru\",\"Australasia & Oceania/Fiji\",\"Western Europe/Italy\",\"South America/Colombia\",\"North America/United States\",\"South America/Peru\",\"Southeast Asia/Philippines\",\"Southeast Asia/Philippines\",\"Southeast Asia/Philippines\",\"Western Europe/Italy\",\"Western Europe/Spain\",\"South America/Colombia\",\"South America/Paraguay\",\"Middle East & North Africa/Turkey\",\"Sub-Saharan Africa/Burundi\",\"Western Europe/Spain\",\"Australasia & Oceania/New Zealand\",\"Middle East & North Africa/Bahrain\",\"Western Europe/Denmark\",\"South America/Venezuela\",\"Western Europe/Iceland\",\"Southeast Asia/Philippines\",\"Sub-Saharan Africa/Namibia\",\"South America/Colombia\",\"South America/Venezuela\",\"South America/Venezuela\",\"Central America & Caribbean/Nicaragua\",\"South America/Ecuador\",\"Western Europe/Austria\",\"Western Europe/Ireland\",\"Central America & Caribbean/Costa Rica\",\"South America/Colombia\",\"Western Europe/Portugal\",\"Western Europe/Spain\",\"Western Europe/Spain\",\"Central America & Caribbean/St. Lucia\",\"Western Europe/Spain\",\"South America/Argentina\",\"Southeast Asia/Philippines\",\"South America/Colombia\",\"Eastern Europe/Russia\",\"Eastern Europe/Moldova\",\"Western Europe/Ireland\",\"Southeast Asia/Philippines\",\"South America/French Guiana\",\"Central America & Caribbean/Belize\",\"South America/Brazil\",\"Southeast Asia/Philippines\",\"Australasia & Oceania/Fiji\",\"Western Europe/France\",\"Middle East & North Africa/Bahrain\",\"Sub-Saharan Africa/Cameroon\",\"Sub-Saharan Africa/Ethiopia\",\"Sub-Saharan Africa/Ghana\",\"Middle East & North Africa/Israel\",\"Sub-Saharan Africa/Kenya\",\"Sub-Saharan Africa/Malawi\",\"Western Europe/Malta\",\"South Asia/Nepal\",\"Australasia & Oceania/Papua New Guinea\",\"South America/Paraguay\",\"Eastern Europe/Russia\",\"South Asia/Sri Lanka\",\"Sub-Saharan Africa/Uganda\",\"Australasia & Oceania/Fiji\",\"Eastern Europe/Czech Republic\",\"Eastern Europe/Czech Republic\",\"Eastern Europe/Bosnia-Herzegovina\",\"Sub-Saharan Africa/Sudan\",\"Central America & Caribbean/Honduras\",\"Australasia & Oceania/Fiji\",\"Sub-Saharan Africa/South Sudan\",\"Sub-Saharan Africa/Sudan\",\"Western Europe/Finland\",\"Western Europe/Greece\",\"Southeast Asia/Indonesia\",\"Southeast Asia/Indonesia\",\"Western Europe/Denmark\",\"Southeast Asia/Indonesia\",\"Western Europe/Greece\",\"Southeast Asia/Indonesia\",\"Eastern Europe/Serbia\",\"Eastern Europe/Yugoslavia\",\"Eastern Europe/Yugoslavia\",\"Southeast Asia/Indonesia\",\"Eastern Europe/Russia\",\"Southeast Asia/Indonesia\",\"Sub-Saharan Africa/South Sudan\",\"Sub-Saharan Africa/Togo\",\"Sub-Saharan Africa/Burkina Faso\",\"Central America & Caribbean/Haiti\",\"Central America & Caribbean/Haiti\",\"Sub-Saharan Africa/Burkina Faso\",\"Western Europe/France\",\"South America/Colombia\",\"Eastern Europe/Yugoslavia\",\"Middle East & North Africa/Morocco\",\"Western Europe/Spain\",\"Southeast Asia/Thailand\",\"South America/Argentina\",\"Southeast Asia/Thailand\",\"Southeast Asia/Thailand\",\"Central America & Caribbean/El Salvador\",\"Western Europe/France\",\"Southeast Asia/Laos\",\"South Asia/India\",\"Western Europe/France\",\"Eastern Europe/Russia\",\"Eastern Europe/Russia\",\"Eastern Europe/Russia\",\"Eastern Europe/Russia\",\"Eastern Europe/Russia\",\"Eastern Europe/Russia\",\"Eastern Europe/Russia\",\"Eastern Europe/Ukraine\",\"Eastern Europe/Ukraine\",\"Eastern Europe/Ukraine\",\"South Asia/India\",\"South America/Chile\",\"Southeast Asia/Thailand\",\"Southeast Asia/Thailand\",\"Central America & Caribbean/Guatemala\",\"North America/Mexico\",\"East Asia/Japan\",\"East Asia/Japan\",\"North America/Mexico\",\"Central America & Caribbean/Guatemala\",\"South America/Ecuador\",\"Southeast Asia/Myanmar\",\"Southeast Asia/Myanmar\",\"Central America & Caribbean/Nicaragua\",\"Central America & Caribbean/Guatemala\",\"Central America & Caribbean/Guatemala\",\"Central America & Caribbean/Panama\",\"Eastern Europe/Moldova\",\"Eastern Europe/Moldova\",\"Eastern Europe/Russia\",\"South Asia/Bangladesh\",\"Central Asia/Georgia\",\"Middle East & North Africa/Algeria\",\"Middle East & North Africa/Algeria\",\"Middle East & North Africa/Algeria\",\"Middle East & North Africa/Algeria\",\"South America/Colombia\",\"Central America & Caribbean/Honduras\",\"Central America & Caribbean/Nicaragua\",\"Southeast Asia/Thailand\",\"Southeast Asia/Thailand\",\"East Asia/China\",\"Central America & Caribbean/Nicaragua\",\"Central America & Caribbean/Barbados\",\"South America/Argentina\",\"South Asia/Bhutan\",\"Southeast Asia/Thailand\",\"South America/Bolivia\",\"Central Asia/Kyrgyzstan\",\"Central Asia/Kyrgyzstan\",\"Central Asia/Kyrgyzstan\",\"Sub-Saharan Africa/Burundi\",\"Sub-Saharan Africa/South Africa\",\"Western Europe/Spain\",\"South America/Argentina\",\"Western Europe/Ireland\",\"North America/Mexico\",\"Sub-Saharan Africa/Kenya\",\"South America/Bolivia\",\"Western Europe/Portugal\",\"South America/Venezuela\",\"Central America & Caribbean/Honduras\",\"Central America & Caribbean/Panama\",\"North America/United States\",\"Central America & Caribbean/Honduras\",\"South America/Suriname\",\"Southeast Asia/Philippines\",\"Sub-Saharan Africa/Guinea\",\"South America/Paraguay\",\"North America/United States\",\"Middle East & North Africa/Algeria\",\"Middle East & North Africa/Algeria\",\"Middle East & North Africa/Algeria\",\"Central America & Caribbean/Honduras\",\"Sub-Saharan Africa/Zambia\",\"South America/Chile\",\"South America/Argentina\",\"South America/Colombia\",\"Western Europe/Spain\",\"Western Europe/Ireland\",\"South America/Suriname\",\"South America/Argentina\",\"Western Europe/France\",\"Western Europe/France\",\"Central America & Caribbean/Honduras\",\"Central America & Caribbean/Honduras\",\"Central America & Caribbean/Honduras\",\"Middle East & North Africa/Turkey\",\"Western Europe/France\",\"South America/Ecuador\",\"Southeast Asia/Indonesia\",\"Western Europe/Greece\",\"Eastern Europe/Ukraine\",\"Eastern Europe/Yugoslavia\",\"Eastern Europe/Yugoslavia\",\"Sub-Saharan Africa/Nigeria\",\"Sub-Saharan Africa/Angola\",\"Sub-Saharan Africa/Angola\",\"Sub-Saharan Africa/Angola\",\"South America/Colombia\",\"Sub-Saharan Africa/Angola\",\"Central America & Caribbean/El Salvador\",\"Central America & Caribbean/El Salvador\",\"Central America & Caribbean/El Salvador\",\"South America/Peru\",\"Sub-Saharan Africa/Republic of the Congo\",\"South America/Guyana\",\"Sub-Saharan Africa/Rwanda\",\"East Asia/South Korea\",\"Eastern Europe/Russia\",\"Eastern Europe/Soviet Union\",\"Eastern Europe/Russia\",\"Eastern Europe/Russia\",\"Eastern Europe/Russia\",\"Eastern Europe/Russia\",\"Middle East & North Africa/Algeria\",\"Southeast Asia/Vietnam\",\"Middle East & North Africa/Egypt\",\"Sub-Saharan Africa/Senegal\",\"Sub-Saharan Africa/Mauritania\",\"Eastern Europe/Kosovo\",\"Eastern Europe/Croatia\",\"Middle East & North Africa/Syria\",\"Middle East & North Africa/Egypt\",\"Sub-Saharan Africa/Tanzania\",\"Middle East & North Africa/Syria\",\"Sub-Saharan Africa/Sudan\",\"Central America & Caribbean/Panama\",\"Southeast Asia/Philippines\",\"Southeast Asia/Philippines\",\"Southeast Asia/Philippines\",\"Southeast Asia/Philippines\",\"Southeast Asia/Philippines\",\"Southeast Asia/Philippines\",\"Southeast Asia/Philippines\",\"South Asia/Afghanistan\",\"Middle East & North Africa/Syria\",\"North America/United States\",\"South Asia/India\",\"Sub-Saharan Africa/Nigeria\",\"South America/Guyana\",\"Middle East & North Africa/Turkey\",\"Sub-Saharan Africa/Eritrea\",\"Middle East & North Africa/Libya\",\"South Asia/Bangladesh\",\"Middle East & North Africa/Yemen\",\"Middle East & North Africa/Iraq\",\"Eastern Europe/Albania\",\"Western Europe/Luxembourg\",\"Sub-Saharan Africa/Niger\",\"Middle East & North Africa/Iraq\",\"Sub-Saharan Africa/Djibouti\",\"Southeast Asia/East Timor\",\"Southeast Asia/East Timor\",\"Southeast Asia/Indonesia\",\"Sub-Saharan Africa/Ethiopia\",\"North America/United States\",\"Eastern Europe/Kosovo\",\"Central Asia/Tajikistan\",\"North America/Mexico\",\"Central America & Caribbean/Dominican Republic\",\"Middle East & North Africa/Iraq\",\"Middle East & North Africa/Turkey\",\"Middle East & North Africa/Algeria\",\"Middle East & North Africa/Algeria\",\"Sub-Saharan Africa/Djibouti\",\"Eastern Europe/Moldova\",\"Eastern Europe/Ukraine\",\"Eastern Europe/Ukraine\",\"Sub-Saharan Africa/Tanzania\",\"Middle East & North Africa/Qatar\",\"Middle East & North Africa/United Arab Emirates\",\"Western Europe/Ireland\",\"Eastern Europe/Ukraine\",\"Eastern Europe/Ukraine\",\"Southeast Asia/Vietnam\",\"Sub-Saharan Africa/Niger\",\"Western Europe/France\",\"Middle East & North Africa/Algeria\",\"Western Europe/Netherlands\",\"Central America & Caribbean/Dominican Republic\",\"Middle East & North Africa/United Arab Emirates\",\"Western Europe/Ireland\",\"Eastern Europe/Croatia\",\"North America/Mexico\",\"Eastern Europe/Albania\",\"Central Asia/Tajikistan\",\"Central Asia/Tajikistan\",\"Central Asia/Tajikistan\",\"Sub-Saharan Africa/Cameroon\",\"South Asia/Nepal\",\"Southeast Asia/Indonesia\",\"Middle East & North Africa/Iran\",\"South America/Guyana\",\"Sub-Saharan Africa/Sudan\",\"South America/Falkland Islands\",\"Southeast Asia/Indonesia\",\"Southeast Asia/Indonesia\",\"Southeast Asia/Indonesia\",\"Central Asia/Kazakhstan\",\"Southeast Asia/Indonesia\",\"Southeast Asia/Indonesia\",\"Southeast Asia/East Timor\",\"Southeast Asia/Indonesia\",\"Southeast Asia/East Timor\",\"Sub-Saharan Africa/Ghana\",\"Sub-Saharan Africa/Kenya\",\"South Asia/Nepal\",\"Sub-Saharan Africa/Rwanda\",\"Middle East & North Africa/Saudi Arabia\",\"Sub-Saharan Africa/Sierra Leone\",\"South Asia/Sri Lanka\",\"Sub-Saharan Africa/Uganda\",\"Sub-Saharan Africa/Zambia\",\"Sub-Saharan Africa/South Sudan\",\"Sub-Saharan Africa/South Africa\",\"Sub-Saharan Africa/South Sudan\",\"Sub-Saharan Africa/Sudan\",\"Sub-Saharan Africa/South Sudan\",\"Western Europe/Greece\",\"Middle East & North Africa/Saudi Arabia\",\"Southeast Asia/Philippines\",\"Sub-Saharan Africa/Nigeria\",\"Middle East & North Africa/Turkey\",\"Sub-Saharan Africa/Nigeria\",\"Sub-Saharan Africa/Nigeria\",\"Middle East & North Africa/Algeria\",\"Middle East & North Africa/Algeria\",\"Middle East & North Africa/Algeria\",\"Middle East & North Africa/Algeria\",\"Middle East & North Africa/Algeria\",\"South America/Ecuador\",\"Middle East & North Africa/Algeria\",\"Central America & Caribbean/Honduras\",\"Central America & Caribbean/Guatemala\",\"Central America & Caribbean/Guatemala\",\"Middle East & North Africa/Algeria\",\"Middle East & North Africa/Algeria\",\"Middle East & North Africa/Algeria\",\"Middle East & North Africa/Turkey\",\"Eastern Europe/Albania\",\"Eastern Europe/Russia\",\"Western Europe/Italy\",\"Australasia & Oceania/Papua New Guinea\",\"Australasia & Oceania/Papua New Guinea\",\"Western Europe/United Kingdom\",\"Sub-Saharan Africa/Chad\",\"South America/Argentina\",\"Sub-Saharan Africa/Nigeria\",\"Sub-Saharan Africa/Democratic Republic of the Congo\",\"Sub-Saharan Africa/Democratic Republic of the Congo\",\"Sub-Saharan Africa/Ethiopia\",\"Southeast Asia/East Timor\",\"Southeast Asia/Indonesia\",\"Sub-Saharan Africa/Namibia\",\"Middle East & North Africa/Turkey\",\"Middle East & North Africa/Turkey\",\"Middle East & North Africa/Western Sahara\",\"Central America & Caribbean/Guatemala\",\"Central America & Caribbean/Guatemala\",\"Middle East & North Africa/Iran\",\"Middle East & North Africa/Turkey\",\"South America/Ecuador\",\"Central America & Caribbean/Dominican Republic\",\"South America/Brazil\",\"Western Europe/France\",\"Central America & Caribbean/Nicaragua\",\"Eastern Europe/Estonia\",\"Eastern Europe/Soviet Union\",\"Sub-Saharan Africa/Gabon\",\"Western Europe/Portugal\",\"Western Europe/Spain\",\"Sub-Saharan Africa/Cameroon\",\"Middle East & North Africa/Egypt\",\"South America/Venezuela\",\"Western Europe/Cyprus\",\"South Asia/Nepal\",\"South Asia/Afghanistan\",\"Sub-Saharan Africa/Guinea\",\"Western Europe/Portugal\",\"Middle East & North Africa/Iran\",\"South Asia/Afghanistan\",\"South America/Brazil\",\"North America/Mexico\",\"North America/Mexico\",\"South America/Brazil\",\"North America/Mexico\",\"Southeast Asia/Malaysia\",\"South Asia/Pakistan\",\"Eastern Europe/Bosnia-Herzegovina\",\"Central Asia/Uzbekistan\",\"Middle East & North Africa/Morocco\",\"Sub-Saharan Africa/Madagascar\",\"Eastern Europe/Albania\",\"Eastern Europe/Albania\",\"Western Europe/France\",\"Western Europe/France\",\"Western Europe/Belgium\",\"North America/United States\",\"South America/Argentina\",\"Central America & Caribbean/Martinique\",\"Western Europe/France\",\"Central America & Caribbean/Honduras\",\"Central America & Caribbean/Honduras\",\"Sub-Saharan Africa/South Africa\",\"Western Europe/Italy\",\"Sub-Saharan Africa/Ivory Coast\",\"Middle East & North Africa/United Arab Emirates\",\"East Asia/China\",\"East Asia/China\",\"East Asia/Japan\",\"East Asia/Japan\",\"Middle East & North Africa/Tunisia\",\"Middle East & North Africa/Tunisia\",\"Sub-Saharan Africa/Somalia\",\"Western Europe/Spain\",\"Western Europe/Ireland\",\"Sub-Saharan Africa/Ethiopia\",\"Sub-Saharan Africa/Mali\",\"Western Europe/France\",\"Sub-Saharan Africa/Kenya\",\"Eastern Europe/Latvia\",\"Sub-Saharan Africa/Eritrea\",\"Sub-Saharan Africa/South Africa\",\"Western Europe/Sweden\",\"Sub-Saharan Africa/Mozambique\",\"Middle East & North Africa/Israel\",\"Middle East & North Africa/West Bank and Gaza Strip\",\"Sub-Saharan Africa/South Africa\",\"Middle East & North Africa/Turkey\",\"Sub-Saharan Africa/Liberia\",\"Sub-Saharan Africa/South Sudan\",\"Eastern Europe/Poland\",\"Sub-Saharan Africa/Sudan\",\"Sub-Saharan Africa/Somalia\",\"Western Europe/Netherlands\",\"Western Europe/Switzerland\",\"Central Asia/Georgia\",\"Eastern Europe/Soviet Union\",\"North America/United States\",\"Sub-Saharan Africa/Sudan\",\"Middle East & North Africa/Egypt\",\"Middle East & North Africa/Algeria\",\"Middle East & North Africa/Algeria\",\"Middle East & North Africa/Algeria\",\"Middle East & North Africa/Libya\",\"South Asia/Afghanistan\",\"South Asia/Afghanistan\",\"Sub-Saharan Africa/Rwanda\",\"Middle East & North Africa/Iran\",\"South Asia/Pakistan\",\"Western Europe/Spain\",\"Middle East & North Africa/Turkey\",\"Western Europe/Spain\",\"Western Europe/France\",\"Sub-Saharan Africa/Burundi\",\"Sub-Saharan Africa/Rwanda\",\"Sub-Saharan Africa/Rwanda\",\"Sub-Saharan Africa/Burundi\",\"Middle East & North Africa/Egypt\",\"Eastern Europe/Kosovo\",\"Eastern Europe/Kosovo\",\"Eastern Europe/Albania\",\"Eastern Europe/Kosovo\",\"Eastern Europe/Kosovo\",\"South Asia/India\",\"South America/Brazil\",\"Middle East & North Africa/Israel\",\"Middle East & North Africa/Iran\",\"Sub-Saharan Africa/Nigeria\",\"Eastern Europe/Belarus\",\"Central Asia/Georgia\",\"Central Asia/Tajikistan\",\"Eastern Europe/Macedonia\",\"Eastern Europe/Macedonia\",\"Central America & Caribbean/Honduras\",\"Eastern Europe/Bulgaria\",\"Central America & Caribbean/Nicaragua\",\"Sub-Saharan Africa/Liberia\",\"Sub-Saharan Africa/Liberia\",\"Middle East & North Africa/Morocco\",\"Sub-Saharan Africa/Liberia\",\"Central America & Caribbean/Haiti\",\"Central America & Caribbean/Haiti\",\"Western Europe/France\",\"Western Europe/Switzerland\",\"Sub-Saharan Africa/Ghana\",\"Middle East & North Africa/Morocco\",\"Eastern Europe/Poland\",\"Eastern Europe/Macedonia\",\"Eastern Europe/Macedonia\",\"Eastern Europe/Macedonia\",\"Eastern Europe/Macedonia\",\"Australasia & Oceania/New Zealand\",\"Western Europe/Luxembourg\",\"Eastern Europe/Belarus\",\"Western Europe/Netherlands\",\"Eastern Europe/Russia\",\"South America/Colombia\",\"South America/Colombia\",\"Central America & Caribbean/Costa Rica\",\"North America/Mexico\",\"Australasia & Oceania/Solomon Islands\",\"East Asia/China\",\"East Asia/China\",\"East Asia/China\",\"South America/Venezuela\",\"Central America & Caribbean/Guatemala\",\"Central America & Caribbean/Guatemala\",\"Central America & Caribbean/Guatemala\",\"South America/Colombia\",\"South America/Ecuador\",\"Middle East & North Africa/Algeria\",\"Middle East & North Africa/Morocco\",\"Sub-Saharan Africa/Chad\",\"North America/Mexico\",\"North America/Mexico\",\"Middle East & North Africa/Algeria\",\"Southeast Asia/Philippines\",\"Western Europe/Spain\",\"East Asia/China\",\"South Asia/India\",\"Middle East & North Africa/International\",\"Middle East & North Africa/Turkey\",\"Central America & Caribbean/Panama\",\"East Asia/Japan\",\"Southeast Asia/Indonesia\",\"East Asia/South Korea\",\"Sub-Saharan Africa/Rhodesia\",\"East Asia/South Korea\",\"East Asia/South Korea\",\"Central Asia/Armenia\",\"South Asia/Maldives\",\"Middle East & North Africa/Yemen\",\"Middle East & North Africa/Israel\",\"Middle East & North Africa/Saudi Arabia\",\"East Asia/China\",\"Middle East & North Africa/Yemen\",\"Middle East & North Africa/Turkey\",\"Western Europe/Sweden\",\"Middle East & North Africa/Iran\",\"Middle East & North Africa/Syria\",\"Western Europe/Germany\",\"Western Europe/West Germany (FRG)\",\"Southeast Asia/Vietnam\",\"Middle East & North Africa/Algeria\",\"Sub-Saharan Africa/Sudan\",\"Sub-Saharan Africa/Zimbabwe\",\"Sub-Saharan Africa/Ethiopia\",\"Eastern Europe/Estonia\",\"Eastern Europe/Estonia\",\"South Asia/India\",\"Eastern Europe/Bulgaria\",\"Middle East & North Africa/Turkey\",\"Sub-Saharan Africa/Democratic Republic of the Congo\",\"Sub-Saharan Africa/Democratic Republic of the Congo\",\"Sub-Saharan Africa/Central African Republic\",\"Sub-Saharan Africa/Gabon\",\"Western Europe/France\",\"Sub-Saharan Africa/Ivory Coast\",\"Sub-Saharan Africa/Democratic Republic of the Congo\",\"Western Europe/France\",\"Western Europe/France\",\"Sub-Saharan Africa/Central African Republic\",\"Western Europe/France\",\"Sub-Saharan Africa/Burkina Faso\",\"Western Europe/France\",\"Western Europe/France\",\"Central America & Caribbean/Cuba\",\"Central America & Caribbean/Cuba\",\"North America/United States\",\"East Asia/China\",\"South Asia/Afghanistan\",\"East Asia/China\",\"East Asia/China\",\"South Asia/Afghanistan\",\"Western Europe/France\",\"Central America & Caribbean/Costa Rica\",\"Central America & Caribbean/Dominican Republic\",\"Western Europe/Germany\",\"Western Europe/West Germany (FRG)\",\"Sub-Saharan Africa/Swaziland\",\"North America/Mexico\",\"Sub-Saharan Africa/Somalia\",\"South Asia/India\",\"East Asia/Japan\",\"Southeast Asia/Vietnam\",\"Southeast Asia/Vietnam\",\"Sub-Saharan Africa/Mauritania\",\"Western Europe/Iceland\",\"East Asia/Japan\",\"Sub-Saharan Africa/Kenya\",\"Middle East & North Africa/Syria\",\"East Asia/China\",\"East Asia/Hong Kong\",\"East Asia/Hong Kong\",\"East Asia/China\",\"East Asia/Hong Kong\",\"Middle East & North Africa/Iran\",\"East Asia/Taiwan\",\"Sub-Saharan Africa/Angola\",\"South America/Peru\",\"South America/Peru\",\"East Asia/China\",\"East Asia/China\",\"Central America & Caribbean/Guatemala\",\"Sub-Saharan Africa/Angola\",\"South America/Colombia\",\"East Asia/China\",\"Eastern Europe/Hungary\",\"East Asia/Japan\",\"East Asia/Japan\",\"Middle East & North Africa/Yemen\",\"South America/Peru\",\"Eastern Europe/Estonia\",\"North America/United States\",\"Middle East & North Africa/Syria\",\"Middle East & North Africa/Syria\",\"Sub-Saharan Africa/Niger\",\"Southeast Asia/Philippines\",\"Middle East & North Africa/Turkey\",\"Middle East & North Africa/Iran\",\"Western Europe/France\",\"Southeast Asia/Philippines\",\"Western Europe/France\",\"North America/United States\",\"Middle East & North Africa/Algeria\",\"Middle East & North Africa/Algeria\",\"Southeast Asia/Philippines\",\"Southeast Asia/Philippines\",\"Southeast Asia/Philippines\",\"Sub-Saharan Africa/South Sudan\",\"South America/Ecuador\",\"Central Asia/Georgia\",\"Sub-Saharan Africa/Nigeria\",\"East Asia/South Korea\",\"North America/United States\",\"Western Europe/France\",\"Eastern Europe/Russia\",\"Eastern Europe/Russia\",\"Eastern Europe/Russia\",\"Eastern Europe/Russia\",\"Eastern Europe/Russia\",\"Eastern Europe/Russia\",\"Eastern Europe/Russia\",\"Sub-Saharan Africa/Mozambique\",\"East Asia/China\",\"Western Europe/Greece\",\"North America/United States\",\"Middle East & North Africa/Jordan\",\"Southeast Asia/Indonesia\",\"Eastern Europe/Russia\",\"Eastern Europe/Russia\",\"Southeast Asia/Myanmar\",\"Southeast Asia/Philippines\",\"Western Europe/France\",\"East Asia/Japan\",\"Sub-Saharan Africa/Kenya\",\"South Asia/Pakistan\",\"Middle East & North Africa/Egypt\",\"Central Asia/Azerbaijan\",\"Middle East & North Africa/Turkey\",\"Central Asia/Kyrgyzstan\",\"Middle East & North Africa/Turkey\",\"Eastern Europe/Croatia\",\"Sub-Saharan Africa/Democratic Republic of the Congo\",\"Eastern Europe/Ukraine\",\"East Asia/Japan\",\"Central America & Caribbean/Guatemala\",\"Middle East & North Africa/Turkey\",\"Middle East & North Africa/Libya\",\"Middle East & North Africa/Libya\",\"Middle East & North Africa/Libya\",\"Eastern Europe/Yugoslavia\",\"Middle East & North Africa/Libya\",\"Middle East & North Africa/Kuwait\",\"Southeast Asia/Indonesia\",\"Southeast Asia/Indonesia\",\"Southeast Asia/Indonesia\",\"Southeast Asia/Indonesia\",\"Southeast Asia/Indonesia\",\"Central Asia/Kyrgyzstan\",\"Central Asia/Kyrgyzstan\",\"Central America & Caribbean/Guatemala\",\"Central Asia/Azerbaijan\",\"North America/Mexico\",\"Central Asia/Kazakhstan\",\"South Asia/India\",\"Western Europe/Sweden\",\"Southeast Asia/Indonesia\",\"Southeast Asia/Indonesia\",\"Southeast Asia/Indonesia\",\"South Asia/Afghanistan\",\"Middle East & North Africa/Saudi Arabia\",\"Eastern Europe/Macedonia\",\"Eastern Europe/Macedonia\",\"Eastern Europe/Poland\",\"Middle East & North Africa/Tunisia\",\"East Asia/South Korea\",\"Middle East & North Africa/Israel\",\"South Asia/India\",\"East Asia/China\",\"East Asia/China\",\"Sub-Saharan Africa/Nigeria\",\"Eastern Europe/Czech Republic\",\"Eastern Europe/Czechoslovakia\",\"Middle East & North Africa/Algeria\",\"Middle East & North Africa/Algeria\",\"Middle East & North Africa/Algeria\",\"Middle East & North Africa/Algeria\",\"Middle East & North Africa/Algeria\",\"Central America & Caribbean/Nicaragua\",\"Australasia & Oceania/Papua New Guinea\",\"Middle East & North Africa/Saudi Arabia\",\"Southeast Asia/Malaysia\",\"Sub-Saharan Africa/South Sudan\",\"Sub-Saharan Africa/Sudan\",\"Western Europe/Sweden\",\"Sub-Saharan Africa/Somalia\",\"Sub-Saharan Africa/South Sudan\",\"Middle East & North Africa/Libya\",\"Central America & Caribbean/Guatemala\",\"South America/Argentina\",\"South America/Peru\",\"Western Europe/Switzerland\",\"Eastern Europe/Latvia\",\"Central America & Caribbean/Guatemala\",\"South Asia/Maldives\",\"Eastern Europe/Russia\",\"Eastern Europe/Russia\",\"Eastern Europe/Russia\",\"Eastern Europe/Russia\",\"Eastern Europe/Russia\",\"South Asia/Afghanistan\",\"Middle East & North Africa/Algeria\",\"Middle East & North Africa/Algeria\",\"Southeast Asia/Myanmar\",\"Southeast Asia/Myanmar\",\"Sub-Saharan Africa/Nigeria\",\"Middle East & North Africa/Egypt\",\"Middle East & North Africa/Egypt\",\"Sub-Saharan Africa/Tanzania\",\"Middle East & North Africa/Turkey\",\"Middle East & North Africa/Tunisia\",\"Sub-Saharan Africa/Kenya\",\"Central Asia/Azerbaijan\",\"Southeast Asia/Indonesia\",\"Southeast Asia/Philippines\",\"Southeast Asia/Philippines\",\"Southeast Asia/Philippines\",\"Eastern Europe/Russia\",\"Western Europe/Sweden\",\"Eastern Europe/Russia\",\"Eastern Europe/Russia\",\"Southeast Asia/Thailand\",\"Southeast Asia/Thailand\",\"Southeast Asia/Cambodia\",\"Southeast Asia/Cambodia\",\"Southeast Asia/Cambodia\",\"Southeast Asia/Cambodia\",\"Southeast Asia/Cambodia\",\"Southeast Asia/Cambodia\",\"Southeast Asia/Cambodia\",\"East Asia/Japan\",\"East Asia/Japan\",\"Southeast Asia/Thailand\",\"South Asia/Afghanistan\",\"Southeast Asia/Cambodia\",\"Southeast Asia/Cambodia\",\"Sub-Saharan Africa/Chad\",\"Sub-Saharan Africa/Nigeria\",\"North America/United States\",\"East Asia/Japan\",\"East Asia/Taiwan\",\"South Asia/Afghanistan\",\"Sub-Saharan Africa/Togo\",\"Eastern Europe/Russia\",\"Eastern Europe/Russia\",\"Eastern Europe/Russia\",\"Eastern Europe/Russia\",\"Eastern Europe/Russia\",\"Central Asia/Kazakhstan\",\"Middle East & North Africa/Jordan\",\"Sub-Saharan Africa/Namibia\",\"Middle East & North Africa/Iraq\",\"Southeast Asia/Myanmar\",\"Southeast Asia/Myanmar\",\"Southeast Asia/Myanmar\",\"Eastern Europe/Croatia\",\"Eastern Europe/Croatia\",\"South Asia/India\",\"Central Asia/Tajikistan\",\"Middle East & North Africa/Turkey\",\"Central Asia/Georgia\",\"Sub-Saharan Africa/Burundi\",\"Sub-Saharan Africa/Democratic Republic of the Congo\",\"Sub-Saharan Africa/Democratic Republic of the Congo\",\"Sub-Saharan Africa/Democratic Republic of the Congo\",\"Sub-Saharan Africa/Democratic Republic of the Congo\",\"Sub-Saharan Africa/Sudan\",\"Middle East & North Africa/Tunisia\",\"Middle East & North Africa/Turkey\",\"Sub-Saharan Africa/Democratic Republic of the Congo\",\"Sub-Saharan Africa/Zaire\",\"Sub-Saharan Africa/Nigeria\",\"Sub-Saharan Africa/Namibia\",\"Southeast Asia/Myanmar\",\"Southeast Asia/Myanmar\",\"Southeast Asia/Myanmar\",\"Sub-Saharan Africa/Burundi\",\"Southeast Asia/Myanmar\",\"Sub-Saharan Africa/Mali\",\"Southeast Asia/Myanmar\",\"Southeast Asia/Myanmar\",\"Southeast Asia/Myanmar\",\"Middle East & North Africa/Turkey\",\"Sub-Saharan Africa/Nigeria\",\"Middle East & North Africa/Tunisia\",\"Southeast Asia/Malaysia\",\"Southeast Asia/Malaysia\",\"East Asia/Taiwan\",\"Middle East & North Africa/Tunisia\",\"Sub-Saharan Africa/Central African Republic\",\"North America/United States\",\"Southeast Asia/Cambodia\",\"South Asia/India\",\"Middle East & North Africa/Iran\",\"Middle East & North Africa/Iran\",\"Sub-Saharan Africa/Botswana\",\"Eastern Europe/Russia\",\"Eastern Europe/Russia\",\"Eastern Europe/Russia\",\"Middle East & North Africa/Jordan\",\"Central Asia/Azerbaijan\",\"Eastern Europe/Russia\",\"Eastern Europe/Russia\",\"Eastern Europe/Ukraine\",\"Sub-Saharan Africa/Sudan\",\"Central Asia/Tajikistan\",\"Central Asia/Tajikistan\",\"Middle East & North Africa/Algeria\",\"Middle East & North Africa/Algeria\",\"Middle East & North Africa/Algeria\",\"Eastern Europe/Ukraine\",\"Central Asia/Azerbaijan\",\"Central Asia/Azerbaijan\",\"Sub-Saharan Africa/Namibia\",\"Southeast Asia/Thailand\",\"South Asia/Afghanistan\",\"Middle East & North Africa/Iraq\",\"South Asia/Bangladesh\",\"Middle East & North Africa/Iran\",\"South Asia/Pakistan\",\"Sub-Saharan Africa/Kenya\",\"Sub-Saharan Africa/Rwanda\",\"Sub-Saharan Africa/Rwanda\",\"Sub-Saharan Africa/Mali\",\"Eastern Europe/Ukraine\",\"Eastern Europe/Ukraine\",\"Eastern Europe/Ukraine\",\"Sub-Saharan Africa/Rwanda\",\"Sub-Saharan Africa/Tanzania\",\"Western Europe/Ireland\",\"Sub-Saharan Africa/Kenya\",\"Middle East & North Africa/Turkey\",\"Sub-Saharan Africa/Guinea\",\"Central America & Caribbean/Jamaica\",\"Middle East & North Africa/Turkey\",\"East Asia/Taiwan\",\"Sub-Saharan Africa/Democratic Republic of the Congo\",\"Sub-Saharan Africa/Zaire\",\"Middle East & North Africa/Turkey\",\"Sub-Saharan Africa/Kenya\",\"Middle East & North Africa/Turkey\",\"Middle East & North Africa/Iraq\",\"Eastern Europe/Russia\",\"Eastern Europe/Ukraine\",\"Middle East & North Africa/Turkey\",\"Sub-Saharan Africa/Burundi\",\"Sub-Saharan Africa/Kenya\",\"Sub-Saharan Africa/Kenya\",\"Eastern Europe/Lithuania\",\"Middle East & North Africa/Turkey\",\"East Asia/Japan\",\"Central Asia/Tajikistan\",\"Sub-Saharan Africa/Nigeria\",\"Southeast Asia/Cambodia\",\"Middle East & North Africa/Iran\",\"Eastern Europe/Montenegro\",\"Sub-Saharan Africa/Senegal\",\"Eastern Europe/Yugoslavia\",\"Eastern Europe/Hungary\",\"Eastern Europe/Russia\",\"Middle East & North Africa/Turkey\",\"Middle East & North Africa/Iran\",\"Eastern Europe/Slovak Republic\",\"Eastern Europe/Kosovo\",\"Eastern Europe/Yugoslavia\",\"Eastern Europe/Kosovo\",\"Eastern Europe/Yugoslavia\",\"Eastern Europe/Kosovo\",\"Eastern Europe/Yugoslavia\",\"Eastern Europe/Kosovo\",\"Eastern Europe/Kosovo\",\"Eastern Europe/Kosovo\",\"Eastern Europe/Kosovo\",\"Eastern Europe/Kosovo\",\"Eastern Europe/Russia\",\"Sub-Saharan Africa/Mali\",\"Southeast Asia/Thailand\",\"Eastern Europe/Poland\",\"Eastern Europe/Russia\",\"Eastern Europe/Russia\",\"Eastern Europe/Russia\",\"Eastern Europe/Russia\",\"Eastern Europe/Russia\",\"Eastern Europe/Russia\",\"Southeast Asia/Cambodia\",\"Southeast Asia/Cambodia\",\"Western Europe/Sweden\",\"Southeast Asia/Malaysia\",\"Eastern Europe/Albania\",\"Middle East & North Africa/Libya\",\"Middle East & North Africa/Libya\",\"Eastern Europe/Albania\",\"Eastern Europe/Albania\",\"Central Asia/Tajikistan\",\"East Asia/Japan\",\"Eastern Europe/Macedonia\",\"Eastern Europe/Macedonia\",\"Eastern Europe/Macedonia\",\"Eastern Europe/Macedonia\",\"South Asia/Afghanistan\",\"Middle East & North Africa/Iraq\",\"South Asia/Afghanistan\",\"Sub-Saharan Africa/Namibia\",\"Eastern Europe/Russia\",\"Central Asia/Azerbaijan\",\"Sub-Saharan Africa/Sudan\",\"Middle East & North Africa/Turkey\",\"Central Asia/Georgia\",\"Central Asia/Georgia\",\"Sub-Saharan Africa/South Africa\",\"Sub-Saharan Africa/South Africa\",\"Sub-Saharan Africa/Kenya\",\"Sub-Saharan Africa/Democratic Republic of the Congo\",\"Sub-Saharan Africa/Nigeria\",\"Eastern Europe/Soviet Union\",\"Eastern Europe/Ukraine\",\"Western Europe/Finland\",\"East Asia/Japan\",\"Western Europe/Cyprus\",\"Eastern Europe/Bulgaria\",\"Eastern Europe/Ukraine\",\"South America/Colombia\",\"Central America & Caribbean/El Salvador\",\"South America/Peru\",\"South America/Argentina\",\"South America/Bolivia\",\"Central America & Caribbean/El Salvador\",\"Central America & Caribbean/Honduras\",\"South America/Argentina\",\"Western Europe/Spain\",\"Central America & Caribbean/El Salvador\",\"Southeast Asia/Philippines\",\"Central America & Caribbean/El Salvador\",\"Central America & Caribbean/Dominican Republic\",\"Eastern Europe/Estonia\",\"Middle East & North Africa/Morocco\",\"Middle East & North Africa/Western Sahara\",\"Sub-Saharan Africa/Guinea\",\"Sub-Saharan Africa/Chad\",\"Sub-Saharan Africa/Ivory Coast\",\"South Asia/Afghanistan\",\"Middle East & North Africa/Algeria\",\"Middle East & North Africa/Algeria\",\"Sub-Saharan Africa/Nigeria\",\"Southeast Asia/Philippines\",\"Sub-Saharan Africa/Ivory Coast\",\"Middle East & North Africa/Yemen\",\"Sub-Saharan Africa/Kenya\",\"Sub-Saharan Africa/South Sudan\",\"Sub-Saharan Africa/Sudan\",\"Middle East & North Africa/Algeria\",\"Southeast Asia/Vietnam\",\"South America/Peru\",\"Southeast Asia/Thailand\",\"Southeast Asia/Indonesia\",\"Sub-Saharan Africa/Kenya\",\"Southeast Asia/Philippines\",\"Southeast Asia/Philippines\",\"Western Europe/France\",\"Western Europe/Ireland\",\"South America/Venezuela\",\"Western Europe/Cyprus\",\"Western Europe/Spain\",\"Middle East & North Africa/Syria\",\"Middle East & North Africa/Syria\",\"Eastern Europe/Soviet Union\",\"Southeast Asia/Indonesia\",\"South America/Uruguay\",\"Western Europe/Italy\",\"Central America & Caribbean/Martinique\",\"Eastern Europe/Poland\",\"Western Europe/Portugal\",\"Western Europe/Ireland\",\"Sub-Saharan Africa/Republic of the Congo\",\"Central America & Caribbean/Honduras\",\"Central Asia/Tajikistan\",\"Eastern Europe/Russia\",\"Central America & Caribbean/Nicaragua\",\"Western Europe/Spain\",\"Eastern Europe/Kosovo\",\"Sub-Saharan Africa/Lesotho\",\"Western Europe/Spain\",\"Southeast Asia/Philippines\",\"Eastern Europe/Albania\",\"Middle East & North Africa/Algeria\",\"Eastern Europe/Czech Republic\",\"Eastern Europe/Albania\",\"Western Europe/Italy\",\"Eastern Europe/Croatia\",\"Eastern Europe/Croatia\",\"South America/Peru\",\"Western Europe/Cyprus\",\"Western Europe/Netherlands\",\"Western Europe/Ireland\",\"Central America & Caribbean/Costa Rica\",\"Western Europe/France\",\"Sub-Saharan Africa/South Africa\",\"Eastern Europe/Russia\",\"Eastern Europe/Macedonia\",\"Eastern Europe/Macedonia\",\"Southeast Asia/Indonesia\",\"Western Europe/Portugal\",\"Eastern Europe/Soviet Union\",\"Sub-Saharan Africa/Benin\",\"Sub-Saharan Africa/Cameroon\",\"Eastern Europe/Slovenia\",\"Eastern Europe/Slovenia\",\"Sub-Saharan Africa/Central African Republic\",\"Eastern Europe/Poland\",\"Sub-Saharan Africa/Liberia\",\"South Asia/Afghanistan\",\"Sub-Saharan Africa/Chad\",\"Western Europe/France\",\"South America/Ecuador\",\"Sub-Saharan Africa/South Sudan\",\"Sub-Saharan Africa/Democratic Republic of the Congo\",\"Western Europe/Italy\",\"Western Europe/Ireland\",\"Southeast Asia/Thailand\",\"Middle East & North Africa/Iran\",\"South America/Peru\",\"Central Asia/Armenia\",\"South America/Chile\",\"South America/Chile\",\"South America/Ecuador\",\"Central America & Caribbean/Panama\",\"Western Europe/France\",\"Southeast Asia/Laos\",\"Southeast Asia/Laos\",\"Sub-Saharan Africa/Senegal\",\"North America/United States\",\"Western Europe/Ireland\",\"Western Europe/Austria\",\"Sub-Saharan Africa/Somalia\",\"Western Europe/France\",\"Western Europe/Germany\",\"Western Europe/West Germany (FRG)\",\"Sub-Saharan Africa/Somalia\",\"Eastern Europe/Poland\",\"Australasia & Oceania/New Caledonia\",\"Sub-Saharan Africa/Democratic Republic of the Congo\",\"Sub-Saharan Africa/Angola\",\"Sub-Saharan Africa/Swaziland\",\"Sub-Saharan Africa/Angola\",\"Western Europe/Spain\",\"Eastern Europe/Ukraine\",\"Eastern Europe/Ukraine\",\"Sub-Saharan Africa/Angola\",\"Sub-Saharan Africa/Angola\",\"Southeast Asia/Philippines\",\"Sub-Saharan Africa/Rhodesia\",\"Sub-Saharan Africa/Zambia\",\"Eastern Europe/Albania\",\"Western Europe/Luxembourg\",\"Middle East & North Africa/Egypt\",\"Eastern Europe/Ukraine\",\"Middle East & North Africa/Algeria\",\"Middle East & North Africa/Algeria\",\"Middle East & North Africa/Algeria\",\"Middle East & North Africa/Algeria\",\"Middle East & North Africa/Algeria\",\"Middle East & North Africa/Jordan\",\"East Asia/Macau\",\"East Asia/Macau\",\"Western Europe/Greece\",\"Eastern Europe/Macedonia\",\"Eastern Europe/Yugoslavia\",\"Australasia & Oceania/Fiji\",\"Australasia & Oceania/Papua New Guinea\",\"South Asia/India\",\"Middle East & North Africa/Saudi Arabia\",\"South America/Peru\",\"Western Europe/Spain\",\"Central America & Caribbean/Nicaragua\",\"Sub-Saharan Africa/Eritrea\",\"Sub-Saharan Africa/Ethiopia\",\"Middle East & North Africa/United Arab Emirates\",\"Middle East & North Africa/Jordan\",\"South America/Chile\",\"South America/Colombia\",\"Eastern Europe/East Germany (GDR)\",\"Southeast Asia/Philippines\",\"Southeast Asia/Myanmar\",\"Sub-Saharan Africa/Madagascar\",\"South Asia/India\",\"Middle East & North Africa/Yemen\",\"North America/United States\",\"Sub-Saharan Africa/Burundi\",\"Middle East & North Africa/Saudi Arabia\",\"Western Europe/Spain\",\"Australasia & Oceania/Solomon Islands\",\"Sub-Saharan Africa/Angola\",\"Middle East & North Africa/Turkey\",\"South America/Uruguay\",\"South Asia/Maldives\",\"Eastern Europe/Russia\",\"Southeast Asia/East Timor\",\"Eastern Europe/Albania\",\"Southeast Asia/Indonesia\",\"Southeast Asia/Indonesia\",\"Southeast Asia/Indonesia\",\"Southeast Asia/Indonesia\",\"Southeast Asia/Indonesia\",\"Sub-Saharan Africa/Central African Republic\",\"South America/Ecuador\",\"Central America & Caribbean/Nicaragua\",\"Southeast Asia/Myanmar\",\"Southeast Asia/Myanmar\",\"Sub-Saharan Africa/Kenya\",\"Sub-Saharan Africa/Mozambique\",\"Sub-Saharan Africa/Rhodesia\",\"Sub-Saharan Africa/Zimbabwe\",\"Sub-Saharan Africa/Democratic Republic of the Congo\",\"South Asia/India\",\"Middle East & North Africa/Turkey\",\"North America/Canada\",\"Middle East & North Africa/Tunisia\",\"Southeast Asia/Indonesia\",\"Middle East & North Africa/Iran\",\"Sub-Saharan Africa/Swaziland\",\"Sub-Saharan Africa/Mozambique\",\"Sub-Saharan Africa/Niger\",\"Sub-Saharan Africa/Niger\",\"Sub-Saharan Africa/Ivory Coast\",\"Sub-Saharan Africa/Burundi\",\"South America/Brazil\",\"South America/Brazil\",\"Western Europe/Italy\",\"Middle East & North Africa/Turkey\",\"Sub-Saharan Africa/Liberia\",\"Central America & Caribbean/Dominican Republic\",\"Middle East & North Africa/Yemen\",\"Eastern Europe/Slovenia\",\"Sub-Saharan Africa/Togo\",\"Middle East & North Africa/Libya\",\"Middle East & North Africa/Iran\",\"South America/Suriname\",\"Middle East & North Africa/Morocco\",\"Middle East & North Africa/Morocco\",\"Sub-Saharan Africa/Kenya\",\"Central Asia/Turkmenistan\",\"North America/United States\",\"Central America & Caribbean/Nicaragua\",\"Southeast Asia/Philippines\",\"Middle East & North Africa/Algeria\",\"Middle East & North Africa/Algeria\",\"Middle East & North Africa/Algeria\",\"Sub-Saharan Africa/Lesotho\",\"Sub-Saharan Africa/Zimbabwe\",\"Sub-Saharan Africa/Rhodesia\",\"Sub-Saharan Africa/Zimbabwe\",\"Sub-Saharan Africa/Rhodesia\",\"Sub-Saharan Africa/Rhodesia\",\"Sub-Saharan Africa/Rhodesia\",\"Eastern Europe/Poland\",\"Eastern Europe/Poland\",\"North America/United States\",\"Middle East & North Africa/Algeria\",\"Sub-Saharan Africa/Zimbabwe\",\"Sub-Saharan Africa/Rhodesia\",\"Sub-Saharan Africa/Zimbabwe\",\"Sub-Saharan Africa/Zimbabwe\",\"Sub-Saharan Africa/Rhodesia\",\"Sub-Saharan Africa/Zimbabwe\",\"Central America & Caribbean/Nicaragua\",\"Sub-Saharan Africa/Senegal\",\"Central America & Caribbean/Cuba\",\"South America/Brazil\",\"South America/Brazil\",\"Middle East & North Africa/Egypt\",\"South America/Chile\",\"Western Europe/France\",\"Western Europe/Ireland\",\"Southeast Asia/Thailand\",\"Middle East & North Africa/Iraq\",\"Middle East & North Africa/Iran\",\"Sub-Saharan Africa/Central African Republic\",\"Western Europe/Ireland\",\"Western Europe/Germany\",\"Middle East & North Africa/Algeria\",\"Middle East & North Africa/Algeria\",\"Middle East & North Africa/Algeria\",\"Middle East & North Africa/Tunisia\",\"Middle East & North Africa/Tunisia\",\"Eastern Europe/Croatia\",\"Eastern Europe/Serbia-Montenegro\",\"South Asia/India\",\"Central Asia/Armenia\",\"Middle East & North Africa/Morocco\",\"Middle East & North Africa/Morocco\",\"Western Europe/Spain\",\"Sub-Saharan Africa/Mali\",\"South America/Argentina\",\"South America/Venezuela\",\"Middle East & North Africa/Turkey\",\"Sub-Saharan Africa/Kenya\",\"South America/Colombia\",\"Southeast Asia/Philippines\",\"Southeast Asia/Philippines\",\"North America/Mexico\",\"North America/Mexico\",\"North America/Mexico\",\"North America/United States\",\"North America/Mexico\",\"North America/Mexico\",\"South Asia/Nepal\",\"Sub-Saharan Africa/Somalia\",\"Sub-Saharan Africa/Somalia\",\"Western Europe/France\",\"Sub-Saharan Africa/Rhodesia\",\"Sub-Saharan Africa/Rhodesia\",\"Sub-Saharan Africa/Zimbabwe\",\"East Asia/Japan\",\"Sub-Saharan Africa/Kenya\",\"Middle East & North Africa/Algeria\",\"Australasia & Oceania/Papua New Guinea\",\"South America/Brazil\",\"Southeast Asia/Philippines\",\"North America/United States\",\"Eastern Europe/Belarus\",\"Eastern Europe/Belarus\",\"Middle East & North Africa/Egypt\",\"South America/Venezuela\",\"Southeast Asia/Philippines\",\"Southeast Asia/Philippines\",\"South America/Argentina\",\"Middle East & North Africa/Libya\",\"North America/United States\",\"North America/United States\",\"Middle East & North Africa/Libya\",\"Middle East & North Africa/Algeria\",\"Eastern Europe/Kosovo\",\"Eastern Europe/Kosovo\",\"East Asia/Japan\",\"South Asia/India\",\"Southeast Asia/Indonesia\",\"Sub-Saharan Africa/Kenya\",\"Southeast Asia/Myanmar\",\"Southeast Asia/Myanmar\",\"South America/Venezuela\",\"Western Europe/Ireland\",\"Middle East & North Africa/Tunisia\",\"Sub-Saharan Africa/Democratic Republic of the Congo\",\"Southeast Asia/Cambodia\",\"Central America & Caribbean/Dominican Republic\",\"Sub-Saharan Africa/Seychelles\",\"North America/United States\",\"Eastern Europe/Yugoslavia\",\"Eastern Europe/Yugoslavia\",\"South America/Uruguay\",\"Sub-Saharan Africa/Liberia\",\"Middle East & North Africa/Egypt\",\"Sub-Saharan Africa/Mali\",\"South America/Peru\",\"Eastern Europe/Czech Republic\",\"Eastern Europe/Czech Republic\",\"Central America & Caribbean/El Salvador\",\"Central America & Caribbean/El Salvador\",\"North America/Mexico\",\"Australasia & Oceania/Papua New Guinea\",\"Sub-Saharan Africa/Tanzania\",\"South America/Ecuador\",\"Eastern Europe/Russia\",\"Eastern Europe/Russia\",\"Eastern Europe/Russia\",\"Eastern Europe/Russia\",\"Eastern Europe/Russia\",\"Eastern Europe/Russia\",\"Western Europe/France\",\"Western Europe/Malta\",\"Middle East & North Africa/Algeria\",\"Middle East & North Africa/Algeria\",\"Middle East & North Africa/Israel\",\"Middle East & North Africa/Lebanon\",\"Southeast Asia/Philippines\",\"Sub-Saharan Africa/Angola\",\"Sub-Saharan Africa/Ivory Coast\",\"Sub-Saharan Africa/Chad\",\"Sub-Saharan Africa/Ivory Coast\",\"Sub-Saharan Africa/South Africa\",\"Central Asia/Georgia\",\"Southeast Asia/Thailand\",\"Middle East & North Africa/Algeria\",\"Sub-Saharan Africa/Somalia\",\"Middle East & North Africa/Turkey\",\"Middle East & North Africa/Bahrain\",\"Southeast Asia/Thailand\",\"Sub-Saharan Africa/Burundi\",\"Western Europe/Spain\",\"Middle East & North Africa/Libya\",\"Middle East & North Africa/Libya\",\"Middle East & North Africa/Turkey\",\"Middle East & North Africa/Iraq\",\"Sub-Saharan Africa/Burundi\",\"Sub-Saharan Africa/Comoros\",\"Sub-Saharan Africa/Tanzania\",\"Sub-Saharan Africa/Burundi\",\"Eastern Europe/Ukraine\",\"Middle East & North Africa/Algeria\",\"Middle East & North Africa/Algeria\",\"North America/Mexico\",\"Sub-Saharan Africa/Chad\",\"Middle East & North Africa/Iraq\",\"Middle East & North Africa/Lebanon\",\"Middle East & North Africa/Tunisia\",\"South Asia/India\",\"East Asia/Japan\",\"Sub-Saharan Africa/Kenya\",\"Middle East & North Africa/Iraq\",\"Middle East & North Africa/Saudi Arabia\",\"East Asia/Japan\",\"Southeast Asia/Thailand\",\"Southeast Asia/Thailand\",\"Southeast Asia/Thailand\",\"Southeast Asia/Thailand\",\"Sub-Saharan Africa/Kenya\",\"Middle East & North Africa/Libya\",\"Sub-Saharan Africa/Mozambique\",\"Southeast Asia/Thailand\",\"Sub-Saharan Africa/Central African Republic\",\"Sub-Saharan Africa/Central African Republic\",\"South Asia/Afghanistan\",\"South America/Ecuador\",\"East Asia/Japan\",\"Southeast Asia/Thailand\",\"Southeast Asia/Thailand\",\"Southeast Asia/Thailand\",\"Southeast Asia/Thailand\",\"Southeast Asia/Thailand\",\"Southeast Asia/Thailand\",\"South America/Colombia\",\"Sub-Saharan Africa/Nigeria\",\"Sub-Saharan Africa/Mozambique\",\"Sub-Saharan Africa/South Africa\",\"Central America & Caribbean/Dominican Republic\",\"Australasia & Oceania/Papua New Guinea\",\"Western Europe/Spain\",\"North America/Mexico\",\"Eastern Europe/Russia\",\"North America/United States\",\"Southeast Asia/Malaysia\",\"Southeast Asia/Philippines\",\"Southeast Asia/Philippines\",\"South America/Argentina\",\"North America/United States\",\"Middle East & North Africa/Turkey\",\"North America/Canada\",\"North America/United States\",\"Australasia & Oceania/Papua New Guinea\",\"North America/United States\",\"North America/United States\",\"Central America & Caribbean/Bahamas\",\"Australasia & Oceania/Australia\",\"Australasia & Oceania/Australia\",\"East Asia/Taiwan\",\"East Asia/Hong Kong\",\"Middle East & North Africa/Egypt\",\"North America/United States\",\"Sub-Saharan Africa/Comoros\",\"Sub-Saharan Africa/Burundi\",\"Sub-Saharan Africa/Niger\",\"Sub-Saharan Africa/Niger\",\"Sub-Saharan Africa/Niger\",\"Sub-Saharan Africa/Niger\",\"Sub-Saharan Africa/Mozambique\",\"Western Europe/Cyprus\",\"Middle East & North Africa/Turkey\",\"Sub-Saharan Africa/Nigeria\",\"Sub-Saharan Africa/Liberia\",\"South Asia/Afghanistan\",\"Middle East & North Africa/Iraq\",\"East Asia/China\",\"Central America & Caribbean/Haiti\",\"Eastern Europe/Russia\",\"Southeast Asia/Thailand\",\"Southeast Asia/Thailand\",\"Sub-Saharan Africa/Burkina Faso\",\"Western Europe/France\",\"Central America & Caribbean/Haiti\",\"Central America & Caribbean/Haiti\",\"Western Europe/France\",\"Western Europe/Iceland\",\"South Asia/Sri Lanka\",\"Western Europe/France\",\"Western Europe/Sweden\",\"South America/Colombia\",\"Sub-Saharan Africa/Cameroon\",\"Middle East & North Africa/Lebanon\",\"South Asia/Maldives\",\"Southeast Asia/Indonesia\",\"Southeast Asia/Indonesia\",\"Western Europe/Greece\",\"Western Europe/Netherlands\",\"Central America & Caribbean/Nicaragua\",\"North America/United States\",\"Southeast Asia/Philippines\",\"Eastern Europe/Russia\",\"Eastern Europe/Russia\",\"South Asia/Sri Lanka\",\"Southeast Asia/Philippines\",\"North America/United States\",\"Sub-Saharan Africa/Sudan\",\"Sub-Saharan Africa/Kenya\",\"South Asia/Sri Lanka\",\"Western Europe/Netherlands\",\"Sub-Saharan Africa/Democratic Republic of the Congo\",\"Sub-Saharan Africa/Zaire\",\"Sub-Saharan Africa/Sudan\",\"Southeast Asia/Indonesia\",\"Eastern Europe/Czech Republic\",\"Eastern Europe/Russia\",\"Eastern Europe/Russia\",\"Eastern Europe/Russia\",\"Eastern Europe/Russia\",\"Australasia & Oceania/New Caledonia\",\"Western Europe/Germany\",\"Western Europe/West Germany (FRG)\",\"Middle East & North Africa/Egypt\",\"Southeast Asia/Indonesia\",\"Middle East & North Africa/Egypt\",\"Middle East & North Africa/Israel\",\"Middle East & North Africa/Egypt\",\"Australasia & Oceania/Papua New Guinea\",\"Southeast Asia/Indonesia\",\"Southeast Asia/Indonesia\",\"Southeast Asia/Indonesia\",\"Sub-Saharan Africa/South Africa\",\"South Asia/Sri Lanka\",\"Eastern Europe/Russia\",\"Sub-Saharan Africa/Republic of the Congo\",\"Sub-Saharan Africa/Cameroon\",\"South Asia/Pakistan\",\"Sub-Saharan Africa/Zambia\",\"Eastern Europe/Macedonia\",\"Middle East & North Africa/Bahrain\",\"Sub-Saharan Africa/Ghana\",\"Middle East & North Africa/Israel\",\"Sub-Saharan Africa/Malawi\",\"Western Europe/Malta\",\"Sub-Saharan Africa/Namibia\",\"Sub-Saharan Africa/Rwanda\",\"Sub-Saharan Africa/Sierra Leone\",\"South Asia/Sri Lanka\",\"Sub-Saharan Africa/Sudan\",\"Sub-Saharan Africa/Uganda\",\"Sub-Saharan Africa/Sudan\",\"Middle East & North Africa/Saudi Arabia\",\"Sub-Saharan Africa/South Africa\",\"Western Europe/United Kingdom\",\"Western Europe/Finland\",\"Sub-Saharan Africa/Eritrea\",\"Southeast Asia/Philippines\",\"Australasia & Oceania/Australia\",\"Sub-Saharan Africa/South Sudan\",\"Sub-Saharan Africa/Cameroon\",\"Eastern Europe/Russia\",\"Eastern Europe/Slovenia\",\"Sub-Saharan Africa/Mauritania\",\"Western Europe/France\",\"Eastern Europe/Russia\",\"Eastern Europe/Russia\",\"Eastern Europe/Russia\",\"Central Asia/Armenia\",\"Southeast Asia/Philippines\",\"Central America & Caribbean/Nicaragua\",\"Southeast Asia/Philippines\",\"North America/Mexico\",\"North America/Mexico\",\"Sub-Saharan Africa/Somalia\",\"Middle East & North Africa/Libya\",\"South Asia/Afghanistan\",\"Sub-Saharan Africa/Kenya\",\"Sub-Saharan Africa/Kenya\",\"Sub-Saharan Africa/Guinea\",\"Sub-Saharan Africa/Comoros\",\"South America/Chile\",\"North America/Mexico\",\"North America/Mexico\",\"Eastern Europe/Kosovo\",\"Sub-Saharan Africa/Djibouti\",\"Southeast Asia/Philippines\",\"Western Europe/France\",\"Central America & Caribbean/Honduras\",\"Southeast Asia/Cambodia\",\"Eastern Europe/Ukraine\",\"Eastern Europe/Ukraine\",\"South Asia/India\",\"Western Europe/Ireland\",\"Sub-Saharan Africa/Nigeria\",\"Sub-Saharan Africa/Namibia\",\"North America/United States\",\"East Asia/Japan\",\"North America/United States\",\"Central America & Caribbean/Honduras\",\"Sub-Saharan Africa/Central African Republic\",\"Sub-Saharan Africa/Namibia\",\"Sub-Saharan Africa/Nigeria\",\"Southeast Asia/Brunei\",\"North America/Canada\",\"Eastern Europe/Kosovo\",\"Eastern Europe/Poland\",\"Eastern Europe/Macedonia\",\"Eastern Europe/Kosovo\",\"Eastern Europe/Bulgaria\",\"Middle East & North Africa/Algeria\",\"Middle East & North Africa/Algeria\",\"Middle East & North Africa/Algeria\",\"Sub-Saharan Africa/South Africa\",\"Middle East & North Africa/Turkey\",\"Central Asia/Azerbaijan\",\"Western Europe/Sweden\",\"North America/United States\",\"South America/Ecuador\",\"Middle East & North Africa/Morocco\",\"Southeast Asia/Philippines\",\"Sub-Saharan Africa/Democratic Republic of the Congo\",\"Sub-Saharan Africa/Zaire\",\"South Asia/India\",\"Sub-Saharan Africa/Ethiopia\",\"South America/Bolivia\",\"Eastern Europe/Russia\",\"East Asia/Japan\",\"Central Asia/Kyrgyzstan\",\"Central Asia/Kyrgyzstan\",\"Sub-Saharan Africa/Namibia\",\"Sub-Saharan Africa/Namibia\",\"Eastern Europe/Croatia\",\"Western Europe/Norway\",\"Eastern Europe/Macedonia\",\"Middle East & North Africa/Turkey\",\"Western Europe/Sweden\",\"Sub-Saharan Africa/Nigeria\",\"Sub-Saharan Africa/Namibia\",\"Sub-Saharan Africa/Chad\",\"Sub-Saharan Africa/Central African Republic\",\"Middle East & North Africa/Algeria\",\"Middle East & North Africa/Algeria\",\"Central America & Caribbean/Haiti\",\"Central America & Caribbean/Haiti\",\"Sub-Saharan Africa/Central African Republic\",\"Sub-Saharan Africa/Central African Republic\",\"Middle East & North Africa/Algeria\",\"Middle East & North Africa/Algeria\",\"Western Europe/Spain\",\"Western Europe/Netherlands\",\"Sub-Saharan Africa/Nigeria\",\"Western Europe/Finland\",\"Southeast Asia/Cambodia\",\"South Asia/Afghanistan\",\"South Asia/Afghanistan\",\"South Asia/Afghanistan\",\"Southeast Asia/Philippines\",\"Western Europe/Spain\",\"Southeast Asia/Philippines\",\"Central America & Caribbean/Panama\",\"Central America & Caribbean/Panama\",\"Central America & Caribbean/Panama\",\"Southeast Asia/Philippines\",\"South Asia/Afghanistan\",\"Australasia & Oceania/French Polynesia\",\"Western Europe/Cyprus\",\"Southeast Asia/Indonesia\",\"Australasia & Oceania/Papua New Guinea\",\"Southeast Asia/Indonesia\",\"Southeast Asia/Indonesia\",\"South America/Brazil\",\"South America/Suriname\",\"South America/Brazil\",\"South America/Suriname\",\"South America/Brazil\",\"Western Europe/France\",\"Eastern Europe/Estonia\",\"South Asia/Afghanistan\",\"South America/Peru\",\"Southeast Asia/Thailand\",\"Southeast Asia/Thailand\",\"Southeast Asia/Thailand\",\"Southeast Asia/Thailand\",\"Southeast Asia/Thailand\",\"Southeast Asia/Thailand\",\"Southeast Asia/Thailand\",\"Southeast Asia/Thailand\",\"Southeast Asia/Thailand\",\"Southeast Asia/Thailand\",\"Southeast Asia/Thailand\",\"Southeast Asia/Thailand\",\"Southeast Asia/Thailand\",\"Central Asia/Kazakhstan\",\"Western Europe/France\",\"Western Europe/France\",\"South America/Uruguay\",\"Eastern Europe/Bulgaria\",\"Eastern Europe/Serbia\",\"Eastern Europe/Yugoslavia\",\"Eastern Europe/Serbia-Montenegro\",\"Eastern Europe/Serbia-Montenegro\",\"Eastern Europe/Yugoslavia\",\"Eastern Europe/Kosovo\",\"Eastern Europe/Kosovo\",\"Eastern Europe/Kosovo\",\"Southeast Asia/Myanmar\",\"Eastern Europe/Macedonia\",\"Western Europe/Greece\",\"Sub-Saharan Africa/Tanzania\",\"Southeast Asia/Malaysia\",\"East Asia/Taiwan\",\"North America/United States\",\"Eastern Europe/Albania\",\"Southeast Asia/Malaysia\",\"Southeast Asia/Malaysia\",\"South America/Brazil\",\"Eastern Europe/Hungary\",\"Central America & Caribbean/Guatemala\",\"Southeast Asia/Thailand\",\"Southeast Asia/Thailand\",\"Southeast Asia/Thailand\",\"Southeast Asia/Thailand\",\"Southeast Asia/Thailand\",\"Southeast Asia/Cambodia\",\"Southeast Asia/Cambodia\",\"Southeast Asia/Cambodia\",\"Southeast Asia/Laos\",\"Southeast Asia/Thailand\",\"Southeast Asia/Thailand\",\"Western Europe/France\",\"South America/Colombia\",\"South America/Ecuador\",\"Southeast Asia/Indonesia\",\"Western Europe/Italy\",\"Western Europe/Finland\",\"South America/Peru\",\"South Asia/Mauritius\",\"Sub-Saharan Africa/Nigeria\",\"Sub-Saharan Africa/Republic of the Congo\",\"Sub-Saharan Africa/Togo\",\"Southeast Asia/South Vietnam\",\"Eastern Europe/Bulgaria\",\"Eastern Europe/Montenegro\",\"Eastern Europe/Yugoslavia\",\"Eastern Europe/Poland\",\"Central America & Caribbean/Trinidad and Tobago\",\"Sub-Saharan Africa/Republic of the Congo\",\"Central America & Caribbean/Guadeloupe\",\"Central America & Caribbean/Guadeloupe\",\"Western Europe/France\",\"Eastern Europe/Macedonia\",\"Eastern Europe/Macedonia\",\"Eastern Europe/Ukraine\",\"Eastern Europe/Poland\",\"Western Europe/Spain\",\"Sub-Saharan Africa/Republic of the Congo\",\"Middle East & North Africa/Egypt\",\"Central America & Caribbean/Trinidad and Tobago\",\"Central America & Caribbean/Trinidad and Tobago\",\"Central America & Caribbean/Haiti\",\"Central America & Caribbean/Trinidad and Tobago\",\"Central America & Caribbean/Jamaica\",\"Western Europe/Portugal\",\"South America/Venezuela\",\"South America/Bolivia\",\"Eastern Europe/Croatia\",\"Eastern Europe/Poland\",\"Southeast Asia/Thailand\",\"Southeast Asia/Thailand\",\"Eastern Europe/Czech Republic\",\"Eastern Europe/Czechoslovakia\",\"Eastern Europe/Czech Republic\",\"Southeast Asia/Cambodia\",\"Southeast Asia/Cambodia\",\"Eastern Europe/Yugoslavia\",\"Eastern Europe/Slovak Republic\",\"Southeast Asia/Cambodia\",\"Eastern Europe/Macedonia\",\"Eastern Europe/Croatia\",\"Eastern Europe/Russia\",\"Central America & Caribbean/Trinidad and Tobago\",\"Eastern Europe/Kosovo\",\"Eastern Europe/Kosovo\",\"Eastern Europe/Kosovo\",\"Eastern Europe/Kosovo\",\"Southeast Asia/Indonesia\",\"Western Europe/France\",\"South Asia/Nepal\",\"South Asia/Nepal\",\"South Asia/Nepal\",\"South Asia/Nepal\",\"South Asia/Nepal\",\"South Asia/Nepal\",\"South Asia/Nepal\",\"Eastern Europe/Russia\",\"South Asia/India\",\"North America/Mexico\",\"North America/United States\",\"Eastern Europe/Albania\",\"South Asia/India\",\"South Asia/Pakistan\",\"South America/Peru\",\"Central America & Caribbean/Costa Rica\",\"Southeast Asia/Cambodia\",\"Southeast Asia/Cambodia\",\"Southeast Asia/Malaysia\",\"South America/Colombia\",\"Western Europe/France\",\"Sub-Saharan Africa/Tanzania\",\"East Asia/North Korea\",\"Western Europe/France\",\"Middle East & North Africa/Iran\",\"Middle East & North Africa/Iraq\",\"Middle East & North Africa/Egypt\",\"Middle East & North Africa/Saudi Arabia\",\"Middle East & North Africa/Iran\",\"Middle East & North Africa/Egypt\",\"East Asia/China\",\"Middle East & North Africa/Iran\",\"Central Asia/Azerbaijan\",\"North America/Canada\",\"North America/Canada\",\"Australasia & Oceania/Australia\",\"Australasia & Oceania/Australia\",\"Middle East & North Africa/Egypt\",\"North America/Mexico\",\"North America/Mexico\",\"Central America & Caribbean/Guatemala\",\"Southeast Asia/Philippines\",\"Southeast Asia/Philippines\",\"Central America & Caribbean/Guatemala\",\"South America/Colombia\",\"North America/Mexico\",\"North America/Mexico\",\"Southeast Asia/Philippines\",\"Middle East & North Africa/Syria\",\"Central Asia/Azerbaijan\",\"Sub-Saharan Africa/Lesotho\",\"Southeast Asia/Thailand\",\"Middle East & North Africa/Morocco\",\"Central Asia/Georgia\",\"South Asia/India\",\"South Asia/Bangladesh\",\"Southeast Asia/Myanmar\",\"Southeast Asia/Thailand\",\"Southeast Asia/Myanmar\",\"South Asia/Bangladesh\",\"Middle East & North Africa/Syria\",\"Eastern Europe/Serbia-Montenegro\",\"Southeast Asia/Thailand\",\"Southeast Asia/Thailand\",\"Southeast Asia/Thailand\",\"Southeast Asia/Thailand\",\"Middle East & North Africa/Iran\",\"Middle East & North Africa/Egypt\",\"Sub-Saharan Africa/Ethiopia\",\"Sub-Saharan Africa/Sudan\",\"Middle East & North Africa/Algeria\",\"Middle East & North Africa/Algeria\",\"Middle East & North Africa/Algeria\",\"Eastern Europe/Russia\",\"Eastern Europe/Russia\",\"Eastern Europe/Bosnia-Herzegovina\",\"Eastern Europe/Yugoslavia\",\"Central America & Caribbean/Guatemala\",\"Central America & Caribbean/Guatemala\",\"Australasia & Oceania/Fiji\",\"Western Europe/Germany\",\"Western Europe/West Germany (FRG)\",\"North America/United States\",\"Western Europe/France\",\"Western Europe/France\",\"Southeast Asia/Indonesia\",\"Southeast Asia/Indonesia\",\"Middle East & North Africa/Syria\",\"Sub-Saharan Africa/Kenya\",\"Eastern Europe/Latvia\",\"Eastern Europe/Latvia\",\"South America/Brazil\",\"South America/Brazil\",\"South America/Argentina\",\"Central America & Caribbean/Nicaragua\",\"South America/Brazil\",\"South America/Colombia\",\"Central America & Caribbean/Honduras\",\"Central America & Caribbean/Nicaragua\",\"Sub-Saharan Africa/Sudan\",\"Sub-Saharan Africa/Nigeria\",\"Eastern Europe/Ukraine\",\"Middle East & North Africa/Saudi Arabia\",\"Southeast Asia/Philippines\",\"Southeast Asia/Philippines\",\"South America/Brazil\",\"South America/Brazil\",\"Eastern Europe/Russia\",\"Eastern Europe/Russia\",\"Eastern Europe/Russia\",\"Middle East & North Africa/Algeria\",\"Eastern Europe/Ukraine\",\"Sub-Saharan Africa/Rwanda\",\"Sub-Saharan Africa/Tanzania\",\"Sub-Saharan Africa/Burundi\",\"Eastern Europe/Russia\",\"Eastern Europe/Soviet Union\",\"Eastern Europe/Russia\",\"Sub-Saharan Africa/Burundi\",\"Sub-Saharan Africa/Burundi\",\"South Asia/Pakistan\",\"Southeast Asia/Thailand\",\"Southeast Asia/Thailand\",\"Middle East & North Africa/Yemen\",\"Western Europe/Germany\",\"Western Europe/West Germany (FRG)\",\"Southeast Asia/Malaysia\",\"Southeast Asia/Malaysia\",\"South Asia/Sri Lanka\",\"Middle East & North Africa/Libya\",\"Central America & Caribbean/Guatemala\",\"Southeast Asia/Myanmar\",\"Middle East & North Africa/Algeria\",\"Sub-Saharan Africa/Burkina Faso\",\"Middle East & North Africa/Algeria\",\"Middle East & North Africa/Algeria\",\"Central America & Caribbean/Jamaica\",\"Western Europe/Switzerland\",\"Central America & Caribbean/Dominica\",\"Central America & Caribbean/Grenada\",\"Central America & Caribbean/St. Kitts and Nevis\",\"Central America & Caribbean/Jamaica\",\"Central America & Caribbean/Dominica\",\"Central America & Caribbean/Antigua and Barbuda\",\"Central America & Caribbean/Barbados\",\"South America/French Guiana\",\"Central America & Caribbean/Jamaica\",\"Central America & Caribbean/Barbados\",\"Central America & Caribbean/Grenada\",\"Eastern Europe/Russia\",\"Southeast Asia/Laos\",\"East Asia/Japan\",\"Middle East & North Africa/Turkey\",\"Eastern Europe/Russia\",\"Eastern Europe/Russia\",\"Eastern Europe/Russia\",\"Middle East & North Africa/Iraq\",\"Western Europe/Spain\",\"Sub-Saharan Africa/Rhodesia\",\"Sub-Saharan Africa/Zimbabwe\",\"South America/Argentina\",\"Western Europe/Austria\",\"South Asia/Afghanistan\",\"Southeast Asia/Philippines\",\"Eastern Europe/Russia\",\"Eastern Europe/Russia\",\"Sub-Saharan Africa/Kenya\",\"Central Asia/Georgia\",\"Central Asia/Georgia\",\"Central Asia/Georgia\",\"Middle East & North Africa/Turkey\",\"Central Asia/Georgia\",\"Central Asia/Georgia\",\"Southeast Asia/Thailand\",\"Central America & Caribbean/Dominican Republic\",\"Central America & Caribbean/Costa Rica\",\"South America/Argentina\",\"Central America & Caribbean/Dominican Republic\",\"Central America & Caribbean/Trinidad and Tobago\",\"South America/Argentina\",\"North America/Mexico\",\"Central America & Caribbean/Guatemala\",\"South America/Peru\",\"Central America & Caribbean/El Salvador\",\"South America/Paraguay\",\"Central America & Caribbean/Dominican Republic\",\"Central America & Caribbean/El Salvador\",\"Central America & Caribbean/El Salvador\",\"Middle East & North Africa/Yemen\",\"Sub-Saharan Africa/Somalia\",\"Sub-Saharan Africa/Republic of the Congo\",\"Sub-Saharan Africa/Central African Republic\",\"Central America & Caribbean/Trinidad and Tobago\",\"Middle East & North Africa/Turkey\",\"Central America & Caribbean/El Salvador\",\"Central America & Caribbean/Guatemala\",\"Central America & Caribbean/Honduras\",\"South America/Bolivia\",\"Western Europe/Spain\",\"South America/Argentina\",\"Central America & Caribbean/Guatemala\",\"Central America & Caribbean/Guatemala\",\"South America/Colombia\",\"Western Europe/Portugal\",\"Central America & Caribbean/Dominican Republic\",\"South America/Chile\",\"South America/Argentina\",\"Central America & Caribbean/Dominican Republic\",\"South America/Ecuador\",\"South America/Brazil\",\"Western Europe/France\",\"Southeast Asia/Thailand\",\"South America/Suriname\",\"Eastern Europe/Albania\",\"Southeast Asia/Philippines\",\"Southeast Asia/Malaysia\",\"Western Europe/Italy\",\"South Asia/Afghanistan\",\"South Asia/Bhutan\",\"Western Europe/Finland\",\"Sub-Saharan Africa/Ivory Coast\",\"South Asia/Mauritius\",\"Western Europe/Germany\",\"Western Europe/Germany\",\"Western Europe/West Germany (FRG)\",\"Middle East & North Africa/Algeria\",\"Western Europe/Germany\",\"Western Europe/West Germany (FRG)\",\"Western Europe/United Kingdom\",\"Sub-Saharan Africa/Senegal\",\"Sub-Saharan Africa/Mali\",\"Western Europe/Spain\",\"Western Europe/France\",\"Western Europe/France\",\"Western Europe/France\",\"Southeast Asia/Malaysia\",\"Sub-Saharan Africa/Sudan\",\"East Asia/South Korea\",\"Eastern Europe/Serbia\",\"Eastern Europe/Yugoslavia\",\"Middle East & North Africa/Algeria\",\"Middle East & North Africa/Algeria\",\"Middle East & North Africa/Algeria\",\"Middle East & North Africa/Algeria\",\"Western Europe/Portugal\",\"Eastern Europe/Ukraine\",\"Eastern Europe/Hungary\",\"Eastern Europe/Czechoslovakia\",\"Western Europe/Spain\",\"East Asia/China\",\"East Asia/China\",\"Middle East & North Africa/Yemen\",\"Eastern Europe/Russia\",\"Middle East & North Africa/Egypt\",\"Middle East & North Africa/Egypt\",\"Southeast Asia/Myanmar\",\"Southeast Asia/Myanmar\",\"Southeast Asia/Myanmar\",\"East Asia/China\",\"East Asia/China\",\"East Asia/China\",\"East Asia/China\",\"Australasia & Oceania/New Hebrides\",\"Australasia & Oceania/Vanuatu\",\"Central Asia/Georgia\",\"Central Asia/Georgia\",\"Central Asia/Georgia\",\"East Asia/Japan\",\"East Asia/Japan\",\"Central Asia/Armenia\",\"Sub-Saharan Africa/Swaziland\",\"Eastern Europe/Albania\",\"Central Asia/Azerbaijan\",\"Southeast Asia/Indonesia\",\"Sub-Saharan Africa/Kenya\",\"Eastern Europe/Croatia\",\"Eastern Europe/Russia\",\"East Asia/China\",\"East Asia/China\",\"Western Europe/Italy\",\"Middle East & North Africa/Algeria\",\"Middle East & North Africa/Algeria\",\"Middle East & North Africa/Algeria\",\"Middle East & North Africa/Algeria\",\"Middle East & North Africa/Tunisia\",\"Middle East & North Africa/Tunisia\",\"Southeast Asia/Cambodia\",\"Southeast Asia/Cambodia\",\"Southeast Asia/Cambodia\",\"Middle East & North Africa/Turkey\",\"Sub-Saharan Africa/Mali\",\"South Asia/India\",\"Sub-Saharan Africa/Chad\",\"Middle East & North Africa/Tunisia\",\"Middle East & North Africa/Egypt\",\"North America/Mexico\",\"South Asia/Pakistan\",\"Southeast Asia/Singapore\",\"Middle East & North Africa/Turkey\",\"South America/Suriname\",\"Southeast Asia/Philippines\",\"Middle East & North Africa/Turkey\",\"Middle East & North Africa/Libya\",\"Eastern Europe/Croatia\",\"Middle East & North Africa/Iran\",\"Middle East & North Africa/Iran\",\"Middle East & North Africa/Iran\",\"Middle East & North Africa/Turkey\",\"Western Europe/Sweden\",\"Eastern Europe/Poland\",\"Middle East & North Africa/Algeria\",\"Middle East & North Africa/Algeria\",\"Middle East & North Africa/Algeria\",\"Middle East & North Africa/Algeria\",\"Eastern Europe/Macedonia\",\"Eastern Europe/Macedonia\",\"Eastern Europe/Macedonia\",\"Eastern Europe/Macedonia\",\"Eastern Europe/Russia\",\"Western Europe/Ireland\",\"Eastern Europe/Yugoslavia\",\"Eastern Europe/Russia\",\"Eastern Europe/Russia\",\"Eastern Europe/Russia\",\"Western Europe/Sweden\",\"Sub-Saharan Africa/Mozambique\",\"Eastern Europe/Bulgaria\",\"Eastern Europe/Bulgaria\",\"Central Asia/Tajikistan\",\"Middle East & North Africa/Egypt\",\"Sub-Saharan Africa/Nigeria\",\"Central America & Caribbean/Guatemala\",\"Western Europe/Switzerland\",\"Sub-Saharan Africa/Ethiopia\",\"Southeast Asia/Thailand\",\"Southeast Asia/Thailand\",\"Southeast Asia/Thailand\",\"North America/Mexico\",\"Central America & Caribbean/El Salvador\",\"Sub-Saharan Africa/Somalia\",\"Western Europe/Spain\",\"Southeast Asia/Philippines\",\"Middle East & North Africa/Algeria\",\"Middle East & North Africa/Tunisia\",\"Sub-Saharan Africa/Cameroon\",\"Middle East & North Africa/Lebanon\",\"Southeast Asia/Thailand\",\"Western Europe/Greece\",\"Australasia & Oceania/Australia\",\"Eastern Europe/Czech Republic\",\"Central America & Caribbean/Nicaragua\",\"North America/United States\",\"Southeast Asia/Philippines\",\"North America/United States\",\"Sub-Saharan Africa/Sudan\",\"Central America & Caribbean/Jamaica\",\"Western Europe/Malta\",\"Australasia & Oceania/Papua New Guinea\",\"Western Europe/Netherlands\",\"East Asia/South Korea\",\"Central Asia/Kazakhstan\",\"Sub-Saharan Africa/Democratic Republic of the Congo\",\"Sub-Saharan Africa/Zaire\",\"Sub-Saharan Africa/Sudan\",\"Sub-Saharan Africa/Sudan\",\"Central Asia/Georgia\",\"Central Asia/Georgia\",\"Central Asia/Georgia\",\"Central Asia/Georgia\",\"Australasia & Oceania/New Caledonia\",\"Middle East & North Africa/Egypt\",\"Middle East & North Africa/Egypt\",\"Middle East & North Africa/Egypt\",\"Southeast Asia/Indonesia\",\"Southeast Asia/Indonesia\",\"Southeast Asia/Indonesia\",\"Sub-Saharan Africa/Botswana\",\"Sub-Saharan Africa/Cameroon\",\"Central America & Caribbean/Haiti\",\"Middle East & North Africa/Bahrain\",\"Western Europe/Denmark\",\"Sub-Saharan Africa/Eritrea\",\"Middle East & North Africa/Israel\",\"Sub-Saharan Africa/Malawi\",\"Western Europe/Malta\",\"Sub-Saharan Africa/Rwanda\",\"Sub-Saharan Africa/Sierra Leone\",\"South Asia/Sri Lanka\",\"Sub-Saharan Africa/Zambia\",\"Australasia & Oceania/Papua New Guinea\",\"Southeast Asia/Philippines\",\"Sub-Saharan Africa/South Sudan\",\"Sub-Saharan Africa/Ethiopia\",\"Eastern Europe/Serbia\",\"Sub-Saharan Africa/Cameroon\",\"Western Europe/Finland\",\"Eastern Europe/Croatia\",\"Eastern Europe/Russia\",\"Eastern Europe/Russia\",\"Eastern Europe/Bulgaria\",\"North America/Mexico\",\"Eastern Europe/Russia\",\"Eastern Europe/Russia\",\"Eastern Europe/Russia\",\"Eastern Europe/Russia\",\"Western Europe/Sweden\",\"Eastern Europe/Macedonia\",\"Southeast Asia/Cambodia\",\"Southeast Asia/Cambodia\",\"Western Europe/Austria\",\"Southeast Asia/Thailand\",\"Central America & Caribbean/Guatemala\",\"South America/Colombia\",\"South America/Venezuela\",\"South America/Ecuador\",\"Central America & Caribbean/Haiti\",\"Sub-Saharan Africa/Ivory Coast\",\"Sub-Saharan Africa/Ivory Coast\",\"Central America & Caribbean/Haiti\",\"Middle East & North Africa/Egypt\",\"Central Asia/Tajikistan\",\"Central Asia/Georgia\",\"Southeast Asia/Indonesia\",\"Southeast Asia/Indonesia\",\"Southeast Asia/Indonesia\",\"Southeast Asia/Indonesia\",\"Southeast Asia/Indonesia\",\"Middle East & North Africa/Iraq\",\"Southeast Asia/Philippines\",\"Southeast Asia/Philippines\",\"Southeast Asia/Philippines\",\"Southeast Asia/Indonesia\",\"Southeast Asia/Indonesia\",\"Eastern Europe/Ukraine\",\"Southeast Asia/Thailand\",\"Southeast Asia/Thailand\",\"Southeast Asia/Thailand\",\"Southeast Asia/Thailand\",\"Southeast Asia/Philippines\",\"Southeast Asia/Philippines\",\"Southeast Asia/Thailand\",\"Southeast Asia/Cambodia\",\"Eastern Europe/Russia\",\"Eastern Europe/Russia\",\"Middle East & North Africa/Bahrain\",\"South Asia/Bangladesh\",\"Eastern Europe/Hungary\",\"Eastern Europe/Poland\",\"Middle East & North Africa/Algeria\",\"Central Asia/Georgia\",\"North America/Mexico\",\"Middle East & North Africa/Algeria\",\"Middle East & North Africa/Saudi Arabia\",\"South America/Venezuela\",\"South America/Peru\",\"Sub-Saharan Africa/Djibouti\",\"Sub-Saharan Africa/Niger\",\"East Asia/Taiwan\",\"East Asia/Taiwan\",\"East Asia/Taiwan\",\"East Asia/Taiwan\",\"Middle East & North Africa/Yemen\",\"Southeast Asia/Myanmar\",\"Southeast Asia/Thailand\",\"Southeast Asia/Thailand\",\"Southeast Asia/Thailand\",\"Southeast Asia/Cambodia\",\"South Asia/Afghanistan\",\"Middle East & North Africa/Algeria\",\"Middle East & North Africa/Algeria\",\"North America/Mexico\",\"North America/Mexico\",\"South Asia/India\",\"Sub-Saharan Africa/Kenya\",\"Sub-Saharan Africa/Tanzania\",\"Sub-Saharan Africa/Democratic Republic of the Congo\",\"Southeast Asia/Myanmar\",\"Southeast Asia/Myanmar\",\"Sub-Saharan Africa/Niger\",\"East Asia/Taiwan\",\"Sub-Saharan Africa/Nigeria\",\"South America/Chile\",\"South America/Bolivia\",\"Southeast Asia/Philippines\",\"Western Europe/Spain\",\"Central Asia/Azerbaijan\",\"Middle East & North Africa/Syria\",\"Central Asia/Uzbekistan\",\"Central Asia/Uzbekistan\",\"Central Asia/Uzbekistan\",\"Australasia & Oceania/Australia\",\"Middle East & North Africa/Tunisia\",\"Eastern Europe/Russia\",\"Eastern Europe/Lithuania\",\"Western Europe/Finland\",\"Central Asia/Armenia\",\"Southeast Asia/Philippines\",\"Southeast Asia/Philippines\",\"Middle East & North Africa/Algeria\",\"Central Asia/Georgia\",\"Central Asia/Georgia\",\"Central Asia/Georgia\",\"Eastern Europe/Macedonia\",\"Eastern Europe/Macedonia\",\"Eastern Europe/Macedonia\",\"Middle East & North Africa/Algeria\",\"Middle East & North Africa/Algeria\",\"Middle East & North Africa/Algeria\",\"Middle East & North Africa/Iran\",\"Middle East & North Africa/Israel\",\"South Asia/India\",\"North America/United States\",\"Eastern Europe/Albania\",\"Sub-Saharan Africa/South Sudan\",\"Sub-Saharan Africa/Mozambique\",\"Eastern Europe/Macedonia\",\"Eastern Europe/Macedonia\",\"Eastern Europe/Macedonia\",\"North America/United States\",\"Southeast Asia/Thailand\",\"Western Europe/Greece\",\"Western Europe/Germany\",\"Middle East & North Africa/Algeria\",\"Middle East & North Africa/Algeria\",\"Middle East & North Africa/Algeria\",\"Sub-Saharan Africa/Chad\",\"East Asia/China\",\"Western Europe/Switzerland\",\"Sub-Saharan Africa/Ethiopia\",\"Sub-Saharan Africa/Niger\",\"Sub-Saharan Africa/Niger\",\"Sub-Saharan Africa/Mali\",\"Middle East & North Africa/Algeria\",\"Middle East & North Africa/Algeria\",\"Middle East & North Africa/Algeria\",\"Middle East & North Africa/Algeria\",\"Middle East & North Africa/Algeria\",\"Middle East & North Africa/Algeria\",\"Eastern Europe/Albania\",\"Sub-Saharan Africa/Mauritania\",\"Middle East & North Africa/Algeria\",\"Middle East & North Africa/Algeria\",\"Middle East & North Africa/Algeria\",\"Middle East & North Africa/Algeria\",\"Middle East & North Africa/Algeria\",\"Middle East & North Africa/Algeria\",\"Middle East & North Africa/Algeria\",\"Middle East & North Africa/Algeria\",\"Middle East & North Africa/Algeria\",\"Middle East & North Africa/Algeria\",\"Middle East & North Africa/Algeria\",\"Middle East & North Africa/Algeria\",\"Central America & Caribbean/Trinidad and Tobago\",\"East Asia/Japan\",\"Sub-Saharan Africa/Somalia\",\"Middle East & North Africa/Turkey\",\"East Asia/Japan\",\"East Asia/Japan\",\"East Asia/Japan\",\"Western Europe/Spain\",\"South America/Colombia\",\"Eastern Europe/Russia\",\"Middle East & North Africa/Algeria\",\"Central America & Caribbean/Guatemala\",\"Middle East & North Africa/Tunisia\",\"Middle East & North Africa/Turkey\",\"Southeast Asia/Thailand\",\"Sub-Saharan Africa/Kenya\",\"Sub-Saharan Africa/South Africa\",\"Eastern Europe/Moldova\",\"Sub-Saharan Africa/South Africa\",\"Southeast Asia/Thailand\",\"Southeast Asia/Thailand\",\"Sub-Saharan Africa/Mauritania\",\"Western Europe/Italy\",\"Sub-Saharan Africa/Rhodesia\",\"Middle East & North Africa/Libya\",\"South Asia/India\",\"Eastern Europe/Slovak Republic\",\"Eastern Europe/Albania\",\"South America/Venezuela\",\"Central Asia/Georgia\",\"South America/Argentina\",\"Eastern Europe/Russia\",\"Eastern Europe/Russia\",\"South America/Peru\",\"Central America & Caribbean/Trinidad and Tobago\",\"Middle East & North Africa/Turkey\",\"South America/Ecuador\",\"Middle East & North Africa/Tunisia\",\"Middle East & North Africa/Tunisia\",\"Sub-Saharan Africa/Kenya\",\"Western Europe/Italy\",\"Eastern Europe/Russia\",\"Western Europe/Austria\",\"Eastern Europe/Russia\",\"Eastern Europe/Russia\",\"Middle East & North Africa/Algeria\",\"Middle East & North Africa/Algeria\",\"North America/United States\",\"Southeast Asia/Thailand\",\"South America/Peru\",\"Southeast Asia/Thailand\",\"Sub-Saharan Africa/Angola\",\"Eastern Europe/Soviet Union\",\"Eastern Europe/Ukraine\",\"Western Europe/Italy\",\"Sub-Saharan Africa/Rhodesia\",\"Sub-Saharan Africa/South Sudan\",\"Sub-Saharan Africa/Sudan\",\"South Asia/Afghanistan\",\"Eastern Europe/Albania\",\"Middle East & North Africa/Algeria\",\"Western Europe/Andorra\",\"Sub-Saharan Africa/Angola\",\"South America/Argentina\",\"Central Asia/Armenia\",\"Australasia & Oceania/Australia\",\"Western Europe/Austria\",\"Central Asia/Azerbaijan\",\"Central America & Caribbean/Bahamas\",\"Middle East & North Africa/Bahrain\",\"South Asia/Bangladesh\",\"Eastern Europe/Belarus\",\"Central America & Caribbean/Belize\",\"Sub-Saharan Africa/Benin\",\"South Asia/Bhutan\",\"South America/Bolivia\",\"Eastern Europe/Bosnia-Herzegovina\",\"Sub-Saharan Africa/Botswana\",\"South America/Brazil\",\"Eastern Europe/Bulgaria\",\"Sub-Saharan Africa/Burkina Faso\",\"Sub-Saharan Africa/Burundi\",\"Southeast Asia/Cambodia\",\"Sub-Saharan Africa/Cameroon\",\"North America/Canada\",\"Sub-Saharan Africa/Central African Republic\",\"Sub-Saharan Africa/Chad\",\"South America/Chile\",\"East Asia/China\",\"South America/Colombia\",\"Central America & Caribbean/Costa Rica\",\"Eastern Europe/Croatia\",\"Central America & Caribbean/Cuba\",\"Western Europe/Cyprus\",\"Eastern Europe/Czech Republic\",\"Eastern Europe/Czechoslovakia\",\"Sub-Saharan Africa/Democratic Republic of the Congo\",\"Western Europe/Denmark\",\"Sub-Saharan Africa/Djibouti\",\"Central America & Caribbean/Dominica\",\"Central America & Caribbean/Dominican Republic\",\"Eastern Europe/East Germany (GDR)\",\"South America/Ecuador\",\"Middle East & North Africa/Egypt\",\"Central America & Caribbean/El Salvador\",\"Sub-Saharan Africa/Equatorial Guinea\",\"Sub-Saharan Africa/Eritrea\",\"Eastern Europe/Estonia\",\"Sub-Saharan Africa/Ethiopia\",\"Australasia & Oceania/Fiji\",\"Western Europe/France\",\"Australasia & Oceania/French Polynesia\",\"Central Asia/Georgia\",\"Western Europe/Germany\",\"Sub-Saharan Africa/Ghana\",\"Western Europe/Greece\",\"Central America & Caribbean/Grenada\",\"Central America & Caribbean/Guadeloupe\",\"Central America & Caribbean/Guatemala\",\"Central America & Caribbean/Haiti\",\"Central America & Caribbean/Honduras\",\"East Asia/Hong Kong\",\"Eastern Europe/Hungary\",\"South Asia/India\",\"Southeast Asia/Indonesia\",\"Middle East & North Africa/Iran\",\"Middle East & North Africa/Iraq\",\"Western Europe/Ireland\",\"Middle East & North Africa/Israel\",\"Western Europe/Italy\",\"Sub-Saharan Africa/Ivory Coast\",\"Central America & Caribbean/Jamaica\",\"East Asia/Japan\",\"Middle East & North Africa/Jordan\",\"Central Asia/Kazakhstan\",\"Sub-Saharan Africa/Kenya\",\"Eastern Europe/Kosovo\",\"Middle East & North Africa/Kuwait\",\"Central Asia/Kyrgyzstan\",\"Southeast Asia/Laos\",\"Eastern Europe/Latvia\",\"Middle East & North Africa/Lebanon\",\"Sub-Saharan Africa/Lesotho\",\"Sub-Saharan Africa/Liberia\",\"Middle East & North Africa/Libya\",\"Eastern Europe/Lithuania\",\"Western Europe/Luxembourg\",\"East Asia/Macau\",\"Eastern Europe/Macedonia\",\"Southeast Asia/Malaysia\",\"South Asia/Maldives\",\"Sub-Saharan Africa/Mali\",\"Western Europe/Malta\",\"Central America & Caribbean/Martinique\",\"Sub-Saharan Africa/Mauritania\",\"North America/Mexico\",\"Eastern Europe/Moldova\",\"Middle East & North Africa/Morocco\",\"Sub-Saharan Africa/Mozambique\",\"Southeast Asia/Myanmar\",\"Sub-Saharan Africa/Namibia\",\"South Asia/Nepal\",\"Western Europe/Netherlands\",\"Australasia & Oceania/New Caledonia\",\"Australasia & Oceania/New Zealand\",\"Central America & Caribbean/Nicaragua\",\"Sub-Saharan Africa/Niger\",\"Sub-Saharan Africa/Nigeria\",\"Middle East & North Africa/North Yemen\",\"South Asia/Pakistan\",\"Central America & Caribbean/Panama\",\"Australasia & Oceania/Papua New Guinea\",\"South America/Paraguay\",\"Sub-Saharan Africa/People's Republic of the Congo\",\"South America/Peru\",\"Southeast Asia/Philippines\",\"Eastern Europe/Poland\",\"Western Europe/Portugal\",\"Middle East & North Africa/Qatar\",\"Sub-Saharan Africa/Rhodesia\",\"Eastern Europe/Romania\",\"Eastern Europe/Russia\",\"Sub-Saharan Africa/Rwanda\",\"Middle East & North Africa/Saudi Arabia\",\"Sub-Saharan Africa/Senegal\",\"Sub-Saharan Africa/Sierra Leone\",\"Southeast Asia/Singapore\",\"Eastern Europe/Slovak Republic\",\"Eastern Europe/Slovenia\",\"Sub-Saharan Africa/Somalia\",\"Sub-Saharan Africa/South Africa\",\"East Asia/South Korea\",\"Sub-Saharan Africa/South Sudan\",\"Middle East & North Africa/South Yemen\",\"Eastern Europe/Soviet Union\",\"Western Europe/Spain\",\"South Asia/Sri Lanka\",\"Central America & Caribbean/St. Kitts and Nevis\",\"Sub-Saharan Africa/Sudan\",\"South America/Suriname\",\"Sub-Saharan Africa/Swaziland\",\"Western Europe/Sweden\",\"Middle East & North Africa/Syria\",\"East Asia/Taiwan\",\"Central Asia/Tajikistan\",\"Sub-Saharan Africa/Tanzania\",\"Southeast Asia/Thailand\",\"Sub-Saharan Africa/Togo\",\"Central America & Caribbean/Trinidad and Tobago\",\"Middle East & North Africa/Tunisia\",\"Middle East & North Africa/Turkey\",\"Sub-Saharan Africa/Uganda\",\"Eastern Europe/Ukraine\",\"Middle East & North Africa/United Arab Emirates\",\"North America/United States\",\"South America/Uruguay\",\"Central Asia/Uzbekistan\",\"Australasia & Oceania/Vanuatu\",\"South America/Venezuela\",\"Southeast Asia/Vietnam\",\"Middle East & North Africa/West Bank and Gaza Strip\",\"Western Europe/West Germany (FRG)\",\"Middle East & North Africa/Western Sahara\",\"Middle East & North Africa/Yemen\",\"Eastern Europe/Yugoslavia\",\"Sub-Saharan Africa/Zaire\",\"Sub-Saharan Africa/Zambia\",\"Sub-Saharan Africa/Zimbabwe\",\"Western Europe/Austria\",\"Sub-Saharan Africa/South Sudan\",\"Sub-Saharan Africa/Sudan\",\"Western Europe/France\",\"South Asia/Maldives\",\"Western Europe/Sweden\",\"Eastern Europe/Russia\",\"Eastern Europe/Kosovo\",\"Eastern Europe/Russia\",\"Eastern Europe/Russia\",\"South Asia/Afghanistan\",\"Middle East & North Africa/Turkey\",\"Eastern Europe/Czech Republic\",\"Central America & Caribbean/El Salvador\",\"Central America & Caribbean/El Salvador\",\"North America/United States\",\"Western Europe/Netherlands\",\"South Asia/India\",\"South Asia/India\",\"Western Europe/Finland\",\"South Asia/Sri Lanka\",\"Australasia & Oceania/Wallis and Futuna\",\"Sub-Saharan Africa/Central African Republic\",\"Western Europe/France\",\"Western Europe/Switzerland\",\"Western Europe/Spain\",\"Western Europe/Spain\",\"Central America & Caribbean/Honduras\",\"South America/Colombia\",\"Sub-Saharan Africa/Ivory Coast\",\"South America/Chile\",\"Central America & Caribbean/Dominican Republic\",\"Middle East & North Africa/Turkey\",\"Western Europe/France\",\"South America/Venezuela\",\"Western Europe/Sweden\",\"Eastern Europe/Bulgaria\",\"Western Europe/Sweden\",\"Western Europe/Sweden\",\"Western Europe/Sweden\",\"Western Europe/Sweden\",\"Western Europe/Vatican City\",\"Western Europe/Switzerland\",\"South America/Colombia\",\"Eastern Europe/Russia\",\"Eastern Europe/Russia\",\"Eastern Europe/Slovenia\",\"Sub-Saharan Africa/South Africa\",\"Western Europe/Italy\",\"North America/Mexico\",\"North America/Mexico\",\"North America/Mexico\",\"Central America & Caribbean/Panama\",\"North America/United States\",\"South America/Colombia\",\"Australasia & Oceania/Australia\",\"Sub-Saharan Africa/Rhodesia\",\"Central America & Caribbean/Trinidad and Tobago\",\"Australasia & Oceania/Australia\",\"Eastern Europe/Latvia\",\"Western Europe/Austria\",\"Southeast Asia/Laos\",\"Southeast Asia/Laos\",\"Central America & Caribbean/Cuba\",\"Eastern Europe/Lithuania\",\"Southeast Asia/East Timor\",\"North America/United States\",\"Eastern Europe/Croatia\",\"Eastern Europe/Belarus\",\"Eastern Europe/Albania\",\"Eastern Europe/Serbia\",\"Eastern Europe/Yugoslavia\",\"Eastern Europe/Serbia-Montenegro\",\"Eastern Europe/Yugoslavia\",\"Eastern Europe/Russia\",\"Eastern Europe/Russia\",\"Eastern Europe/Russia\",\"Eastern Europe/Russia\",\"Eastern Europe/Russia\",\"Eastern Europe/Ukraine\",\"Western Europe/Austria\",\"Eastern Europe/Russia\",\"Eastern Europe/Russia\",\"Eastern Europe/Russia\",\"Eastern Europe/Estonia\",\"Eastern Europe/Yugoslavia\",\"Eastern Europe/Croatia\",\"Eastern Europe/Croatia\",\"Eastern Europe/Czechoslovakia\",\"Eastern Europe/Czech Republic\",\"Middle East & North Africa/Libya\",\"Middle East & North Africa/Libya\",\"Sub-Saharan Africa/Chad\",\"Middle East & North Africa/Libya\",\"Middle East & North Africa/Libya\",\"Sub-Saharan Africa/Kenya\",\"Western Europe/United Kingdom\",\"Western Europe/Belgium\",\"Sub-Saharan Africa/South Sudan\",\"Sub-Saharan Africa/Sudan\",\"South Asia/Afghanistan\",\"Eastern Europe/Poland\",\"North America/United States\",\"Middle East & North Africa/Iraq\",\"Central America & Caribbean/Haiti\",\"Western Europe/Ireland\",\"Sub-Saharan Africa/South Sudan\",\"Australasia & Oceania/New Zealand\",\"Australasia & Oceania/New Zealand\",\"Middle East & North Africa/Iran\",\"Middle East & North Africa/Israel\",\"Middle East & North Africa/West Bank and Gaza Strip\",\"South Asia/India\",\"Sub-Saharan Africa/Sudan\",\"Sub-Saharan Africa/South Sudan\",\"Sub-Saharan Africa/Sudan\",\"Southeast Asia/Indonesia\",\"Southeast Asia/Indonesia\",\"Southeast Asia/Indonesia\",\"Central Asia/Kazakhstan\",\"Sub-Saharan Africa/Sudan\",\"Southeast Asia/Indonesia\",\"Central America & Caribbean/Panama\",\"Australasia & Oceania/Papua New Guinea\",\"Southeast Asia/Indonesia\",\"North America/United States\",\"Sub-Saharan Africa/Ghana\",\"Sub-Saharan Africa/Kenya\",\"South Asia/Nepal\",\"Sub-Saharan Africa/Rwanda\",\"Sub-Saharan Africa/Sierra Leone\",\"South Asia/Sri Lanka\",\"Sub-Saharan Africa/Uganda\",\"Sub-Saharan Africa/Zambia\",\"Australasia & Oceania/Australia\",\"Sub-Saharan Africa/South Sudan\",\"Sub-Saharan Africa/Sudan\",\"Sub-Saharan Africa/South Sudan\",\"Sub-Saharan Africa/South Africa\",\"Sub-Saharan Africa/South Sudan\",\"Western Europe/Finland\",\"Western Europe/Greece\",\"Australasia & Oceania/Papua New Guinea\",\"Sub-Saharan Africa/South Sudan\",\"Western Europe/Iceland\",\"Western Europe/Ireland\",\"Western Europe/Ireland\",\"Sub-Saharan Africa/Sudan\",\"Western Europe/Ireland\",\"Middle East & North Africa/Algeria\",\"North America/United States\",\"Sub-Saharan Africa/Somalia\",\"North America/United States\",\"Southeast Asia/Laos\",\"East Asia/China\",\"East Asia/China\",\"Southeast Asia/Thailand\",\"Southeast Asia/Malaysia\",\"Southeast Asia/Thailand\",\"Southeast Asia/Thailand\",\"Southeast Asia/Thailand\",\"Southeast Asia/Thailand\",\"Southeast Asia/Thailand\",\"Southeast Asia/Thailand\",\"Southeast Asia/Thailand\",\"Southeast Asia/Thailand\",\"Southeast Asia/Thailand\",\"Southeast Asia/Thailand\",\"East Asia/Japan\",\"East Asia/Japan\",\"East Asia/Japan\",\"Eastern Europe/Bulgaria\",\"Southeast Asia/Myanmar\",\"Southeast Asia/Myanmar\",\"Southeast Asia/Myanmar\",\"Southeast Asia/Myanmar\",\"Southeast Asia/Myanmar\",\"South America/Venezuela\",\"Southeast Asia/Thailand\",\"Eastern Europe/Russia\",\"Middle East & North Africa/Iran\",\"Sub-Saharan Africa/South Sudan\",\"Eastern Europe/Russia\",\"East Asia/South Korea\",\"Central Asia/Armenia\",\"Central Asia/Armenia\",\"Sub-Saharan Africa/Nigeria\",\"Southeast Asia/Indonesia\",\"Southeast Asia/Indonesia\",\"Western Europe/France\",\"Central America & Caribbean/Honduras\",\"North America/Mexico\",\"Eastern Europe/Yugoslavia\",\"East Asia/Taiwan\",\"East Asia/Taiwan\",\"East Asia/China\",\"East Asia/China\",\"Western Europe/France\",\"Eastern Europe/Russia\",\"Eastern Europe/Russia\",\"South Asia/Afghanistan\",\"Central America & Caribbean/Guatemala\",\"North America/Mexico\",\"Eastern Europe/Croatia\",\"Eastern Europe/Croatia\",\"Middle East & North Africa/Tunisia\",\"Eastern Europe/Croatia\",\"Eastern Europe/Croatia\",\"Eastern Europe/Croatia\",\"Sub-Saharan Africa/Angola\",\"Eastern Europe/Ukraine\",\"Eastern Europe/Ukraine\",\"Southeast Asia/Philippines\",\"Sub-Saharan Africa/Mozambique\",\"Southeast Asia/Philippines\",\"Southeast Asia/Philippines\",\"Southeast Asia/Philippines\",\"Sub-Saharan Africa/Nigeria\",\"South America/Ecuador\",\"Middle East & North Africa/Iran\",\"Sub-Saharan Africa/Ivory Coast\",\"Sub-Saharan Africa/Tanzania\",\"Sub-Saharan Africa/Tanzania\",\"Eastern Europe/Ukraine\",\"Central Asia/Azerbaijan\",\"Central Asia/Azerbaijan\",\"Western Europe/Spain\",\"Middle East & North Africa/Jordan\",\"Middle East & North Africa/Libya\",\"Western Europe/Malta\",\"Central America & Caribbean/Nicaragua\",\"East Asia/China\",\"Eastern Europe/Ukraine\",\"Sub-Saharan Africa/Senegal\",\"Sub-Saharan Africa/Niger\",\"Middle East & North Africa/Turkey\",\"Eastern Europe/Russia\",\"Eastern Europe/Kosovo\",\"Western Europe/Switzerland\",\"Central Asia/Georgia\",\"South America/Venezuela\",\"Western Europe/Switzerland\",\"Southeast Asia/Thailand\",\"Southeast Asia/Thailand\",\"Southeast Asia/Thailand\",\"Southeast Asia/Thailand\",\"Southeast Asia/Thailand\",\"Southeast Asia/Indonesia\",\"Middle East & North Africa/Iraq\",\"South Asia\",\"Eastern Europe\",\"Middle East & North Africa\",\"Western Europe\",\"Sub-Saharan Africa\",\"Central America & Caribbean\",\"South America\",\"Central Asia\",\"Australasia & Oceania\",\"Western Europe\",\"Central Asia\",\"Central America & Caribbean\",\"Middle East & North Africa\",\"South Asia\",\"Central America & Caribbean\",\"Eastern Europe\",\"Western Europe\",\"Central America & Caribbean\",\"Sub-Saharan Africa\",\"South Asia\",\"South America\",\"Eastern Europe\",\"Sub-Saharan Africa\",\"South America\",\"Southeast Asia\",\"Eastern Europe\",\"Sub-Saharan Africa\",\"Sub-Saharan Africa\",\"Southeast Asia\",\"Sub-Saharan Africa\",\"North America\",\"Sub-Saharan Africa\",\"Sub-Saharan Africa\",\"South America\",\"East Asia\",\"South America\",\"Sub-Saharan Africa\",\"Central America & Caribbean\",\"Eastern Europe\",\"Central America & Caribbean\",\"Western Europe\",\"Eastern Europe\",\"Eastern Europe\",\"Sub-Saharan Africa\",\"Western Europe\",\"Sub-Saharan Africa\",\"Central America & Caribbean\",\"Central America & Caribbean\",\"Eastern Europe\",\"Southeast Asia\",\"South America\",\"Middle East & North Africa\",\"Central America & Caribbean\",\"Sub-Saharan Africa\",\"Sub-Saharan Africa\",\"Eastern Europe\",\"Sub-Saharan Africa\",\"South America\",\"Australasia & Oceania\",\"Western Europe\",\"Western Europe\",\"South America\",\"Australasia & Oceania\",\"Sub-Saharan Africa\",\"Sub-Saharan Africa\",\"Central Asia\",\"Western Europe\",\"Sub-Saharan Africa\",\"Western Europe\",\"Central America & Caribbean\",\"Central America & Caribbean\",\"Central America & Caribbean\",\"Sub-Saharan Africa\",\"Sub-Saharan Africa\",\"South America\",\"Central America & Caribbean\",\"Central America & Caribbean\",\"East Asia\",\"Eastern Europe\",\"Western Europe\",\"South Asia\",\"Southeast Asia\",\"Middle East & North Africa\",\"Middle East & North Africa\",\"Middle East & North Africa\",\"Western Europe\",\"Middle East & North Africa\",\"Western Europe\",\"Sub-Saharan Africa\",\"Central America & Caribbean\",\"East Asia\",\"Middle East & North Africa\",\"Central Asia\",\"Sub-Saharan Africa\",\"Eastern Europe\",\"Middle East & North Africa\",\"Central Asia\",\"Southeast Asia\",\"Eastern Europe\",\"Middle East & North Africa\",\"Sub-Saharan Africa\",\"Sub-Saharan Africa\",\"Middle East & North Africa\",\"Eastern Europe\",\"Western Europe\",\"East Asia\",\"Eastern Europe\",\"Sub-Saharan Africa\",\"Sub-Saharan Africa\",\"Southeast Asia\",\"South Asia\",\"Sub-Saharan Africa\",\"Western Europe\",\"Central America & Caribbean\",\"Sub-Saharan Africa\",\"South Asia\",\"North America\",\"Eastern Europe\",\"Eastern Europe\",\"Middle East & North Africa\",\"Sub-Saharan Africa\",\"Southeast Asia\",\"Sub-Saharan Africa\",\"South Asia\",\"Western Europe\",\"Australasia & Oceania\",\"Australasia & Oceania\",\"Australasia & Oceania\",\"Central America & Caribbean\",\"Sub-Saharan Africa\",\"Sub-Saharan Africa\",\"East Asia\",\"Middle East & North Africa\",\"Western Europe\",\"South Asia\",\"Central America & Caribbean\",\"Australasia & Oceania\",\"South America\",\"Sub-Saharan Africa\",\"South America\",\"Southeast Asia\",\"Eastern Europe\",\"Western Europe\",\"Middle East & North Africa\",\"Sub-Saharan Africa\",\"Sub-Saharan Africa\",\"Eastern Europe\",\"Eastern Europe\",\"Sub-Saharan Africa\",\"Middle East & North Africa\",\"Sub-Saharan Africa\",\"Eastern Europe\",\"Eastern Europe\",\"Sub-Saharan Africa\",\"Sub-Saharan Africa\",\"Southeast Asia\",\"Eastern Europe\",\"Eastern Europe\",\"Australasia & Oceania\",\"Sub-Saharan Africa\",\"Sub-Saharan Africa\",\"East Asia\",\"Sub-Saharan Africa\",\"Southeast Asia\",\"Middle East & North Africa\",\"Eastern Europe\",\"Western Europe\",\"South Asia\",\"Central America & Caribbean\",\"Central America & Caribbean\",\"Sub-Saharan Africa\",\"South America\",\"Sub-Saharan Africa\",\"Western Europe\",\"Western Europe\",\"Middle East & North Africa\",\"East Asia\",\"Central Asia\",\"Sub-Saharan Africa\",\"Southeast Asia\",\"Sub-Saharan Africa\",\"Central America & Caribbean\",\"Middle East & North Africa\",\"Middle East & North Africa\",\"Central Asia\",\"Sub-Saharan Africa\",\"Eastern Europe\",\"Middle East & North Africa\",\"Western Europe\",\"North America\",\"South America\",\"Central Asia\",\"Australasia & Oceania\",\"Western Europe\",\"South America\",\"Southeast Asia\",\"Australasia & Oceania\",\"Middle East & North Africa\",\"Western Europe\",\"Middle East & North Africa\",\"Middle East & North Africa\",\"Eastern Europe\",\"Sub-Saharan Africa\",\"Sub-Saharan Africa\",\"Sub-Saharan Africa\",\"\",\"\",\"\",\"\",\"\",\"\",\"\",\"\",\"\",\"\",\"\",\"\"],\"type\":\"treemap\",\"values\":[0.0,2.0,1.0,0.0,12.0,277.0,2.0,38.0,16.0,133.0,0.0,19.0,773.0,2153.0,2.0,69.0,219.0,123.0,1.0,1.0,1.0,449.0,31.0,2019.0,0.0,2650.0,221.0,447.0,77.0,0.0,7.0,131.0,30.0,58.0,0.0,5.0,330.0,51.0,7.0,109.0,184.0,13.0,102.0,0.0,0.0,572.0,190.0,56.0,50.0,22.0,3.0,1.0,0.0,0.0,9.0,1.0,25.0,160.0,23096.0,683.0,1961.0,248.0,120.0,353.0,4.0,237.0,29.0,20.0,94.0,19.0,21.0,3.0,3.0,36.0,0.0,5.0,141.0,16.0,2.0,1.0,8526.0,135.0,6.0,1.0,1.0,3812.0,1204.0,42.0,7.0,3.0,7.0,2.0,2.0,4.0,1.0,284.0,1.0,8.0,2.0,1.0,2.0,2.0,3023.0,7.0,19.0,17.0,138.0,11.0,13.0,11.0,552.0,241.0,410.0,11.0,553.0,35.0,44.0,765.0,79.0,1219.0,47.0,9.0,43.0,0.0,1138.0,31.0,27.0,179.0,148.0,6381.0,7.0,27.0,3.0,2.0,40.0,0.0,2.0,0.0,59.0,4.0,57.0,386.0,7.0,0.0,50.0,0.0,2.0,5.0,85.0,36.0,789.0,28.0,0.0,1930.0,11.0,0.0,316.0,2.0,84.0,3.0,0.0,2.0,78.0,20.0,0.0,2.0,12.0,47.0,113.0,176.0,4.0,1.0,321.0,85.0,11.0,6065.0,17.0,56.0,3.0,8.0,29.0,25.0,361.0,998.0,0.0,0.0,160.0,156.0,0.0,11.0,13.0,4.0,925.0,3.0,0.0,0.0,0.0,3.0,5.0,0.0,4.0,34.0,4419.0,22.0,42.0,0.0,0.0,267.0,106.0,11.0,1.0,272.0,40.0,1.0,0.0,0.0,13026.0,1125.0,56.0,20.0,1173.0,2.0,78147.0,1807.0,19.0,53.0,15.0,18.0,29.0,2.0,193.0,805.0,130.0,1.0,20.0,627.0,8.0,1699.0,12190.0,5.0,125.0,17.0,403.0,8928.0,0.0,804.0,59.0,0.0,0.0,424.0,15.0,2.0,87.0,8.0,0.0,13.0,1.0,40.0,733.0,5.0,0.0,121.0,3.0,20.0,11.0,0.0,28.0,3.0,1.0,1173.0,0.0,1.0,1303.0,1969.0,1.0,225.0,3.0,54.0,125.0,5.0,0.0,0.0,189.0,181.0,129.0,22.0,162.0,0.0,2.0,440.0,93.0,287.0,1790.0,0.0,168.0,36.0,5.0,32.0,61.0,3.0,201.0,10.0,7300.0,8.0,3.0,34.0,79.0,1.0,5.0,1.0,2.0,1.0,1.0,3.0,0.0,1.0,24.0,2587.0,185.0,682.0,39.0,12.0,48.0,32.0,1297.0,1.0,987.0,0.0,3.0,0.0,5.0,142.0,308.0,1.0,5.0,0.0,446.0,1326.0,6.0,0.0,375.0,23.0,2.0,4.0,1.0,4.0,71.0,7.0,3.0,2.0,44.0,117.0,17.0,21.0,189.0,1.0,1.0,2135.0,387.0,15.0,6.0,9.0,145.0,1.0,8.0,2526.0,50.0,795.0,2.0,17.0,0.0,0.0,40.0,10.0,27.0,9.0,3.0,1.0,16077.0,1.0,25.0,36.0,33.0,1.0,55.0,3.0,121.0,348.0,113.0,39.0,607.0,307.0,38.0,322.0,1.0,65.0,5.0,6.0,2.0,5.0,396.0,2.0,27.0,0.0,0.0,1.0,6.0,7.0,15.0,39.0,3.0,26.0,0.0,1.0,3.0,31.0,4.0,0.0,7.0,297.0,666.0,11.0,12.0,0.0,1102.0,0.0,3.0,1801.0,367.0,253.0,49.0,1.0,24.0,58.0,1.0,38.0,5.0,0.0,11.0,42.0,323.0,2.0,4.0,129.0,186.0,5.0,46.0,16.0,42.0,10.0,7.0,0.0,0.0,1.0,970.0,77.0,109.0,0.0,49.0,6.0,23.0,0.0,227.0,850.0,16.0,210.0,0.0,2.0,187.0,257.0,191.0,75.0,119.0,12.0,70.0,8.0,1.0,0.0,14.0,9.0,59.0,0.0,87.0,32.0,29.0,0.0,62.0,108.0,966.0,5.0,64.0,41.0,3.0,7.0,0.0,4.0,211.0,0.0,82.0,18.0,14.0,495.0,0.0,28.0,1439.0,5.0,0.0,5.0,66.0,14.0,2.0,3.0,139.0,0.0,10.0,57.0,2.0,0.0,2.0,1259.0,5.0,31.0,1.0,1965.0,3.0,15.0,4.0,837.0,795.0,0.0,2.0,0.0,3.0,213.0,2.0,24.0,88.0,160.0,0.0,2.0,40.0,19.0,0.0,8.0,16.0,2.0,0.0,8.0,0.0,49.0,1.0,139.0,0.0,0.0,250.0,2.0,1.0,1.0,0.0,480.0,1.0,17.0,0.0,8.0,1.0,1.0,8.0,1854.0,0.0,10.0,333.0,0.0,14.0,907.0,4.0,3.0,2135.0,7.0,1.0,4.0,6.0,0.0,2518.0,0.0,39.0,8.0,0.0,410.0,65.0,0.0,16.0,576.0,0.0,2.0,1.0,629.0,99.0,1.0,0.0,39.0,0.0,0.0,2246.0,0.0,352.0,8.0,138.0,15.0,574.0,5.0,0.0,1.0,1.0,0.0,323.0,73.0,0.0,7.0,2.0,2.0,3.0,1.0,5.0,695.0,5.0,0.0,4.0,0.0,7.0,132.0,6.0,0.0,0.0,3.0,23.0,61.0,54.0,3.0,279.0,9.0,35.0,6.0,82.0,33.0,0.0,1.0,1.0,8.0,47.0,581.0,0.0,5.0,1.0,0.0,8.0,152.0,61.0,0.0,42.0,2.0,0.0,0.0,2.0,14.0,11.0,1.0,3.0,53.0,61.0,199.0,215.0,490.0,17.0,21.0,1373.0,32.0,417.0,0.0,19.0,110.0,5.0,1499.0,14.0,0.0,2.0,655.0,1.0,48.0,0.0,171.0,5.0,0.0,1.0,3.0,5759.0,27.0,112.0,576.0,1.0,1.0,22.0,61.0,6.0,162.0,3.0,189.0,1343.0,26.0,1375.0,0.0,2480.0,223.0,41.0,13.0,0.0,487.0,3994.0,59.0,782.0,19.0,0.0,1177.0,264.0,134.0,0.0,3.0,12.0,0.0,37.0,0.0,75.0,9.0,35.0,21917.0,1738.0,224.0,199.0,144.0,12.0,37.0,35.0,1.0,15.0,5.0,25.0,3650.0,0.0,0.0,7.0,0.0,1.0,23.0,12.0,122.0,64.0,0.0,9.0,0.0,804.0,194.0,94.0,18.0,1.0,2.0,12.0,0.0,235.0,0.0,34.0,41.0,4.0,4.0,3.0,20.0,1.0,360.0,0.0,0.0,117.0,397.0,11.0,316.0,151.0,9886.0,449.0,24.0,110.0,302.0,37.0,623.0,17.0,2.0,490.0,49.0,8.0,0.0,59.0,22.0,2.0,55.0,3.0,1.0,9.0,1.0,7.0,17.0,112.0,12.0,1.0,0.0,77.0,335.0,1.0,2.0,341.0,0.0,0.0,3304.0,108.0,4.0,116.0,1.0,0.0,0.0,0.0,1.0,89.0,50.0,61.0,1.0,120.0,5.0,7.0,4.0,3.0,3.0,1.0,1.0,507.0,1.0,0.0,5.0,13.0,4.0,3180.0,62.0,2.0,3.0,381.0,3052.0,30.0,2.0,265.0,3268.0,0.0,254.0,4.0,3.0,2.0,0.0,11560.0,131.0,0.0,0.0,0.0,5.0,5.0,0.0,1.0,289.0,142.0,36.0,1.0,0.0,200.0,1.0,0.0,6.0,28.0,1.0,0.0,0.0,0.0,0.0,0.0,141.0,474.0,73.0,0.0,441.0,762.0,0.0,516.0,1.0,10.0,3820.0,0.0,599.0,138.0,1850.0,1.0,362.0,0.0,20.0,1.0,24.0,1096.0,19.0,31.0,3.0,0.0,140.0,0.0,195.0,0.0,21.0,0.0,5.0,4665.0,879.0,6.0,63.0,270.0,83.0,8.0,0.0,0.0,5.0,1264.0,184.0,343.0,249.0,1.0,3.0,1.0,2.0,0.0,3.0,1.0,43.0,0.0,552.0,0.0,1.0,24.0,0.0,13.0,5.0,13.0,62.0,62.0,13.0,13.0,0.0,1.0,0.0,2.0,0.0,0.0,183.0,0.0,0.0,1.0,0.0,0.0,0.0,0.0,0.0,0.0,2.0,29.0,0.0,0.0,12.0,3.0,141.0,16.0,64.0,24.0,1164.0,2.0,1.0,160.0,39.0,6.0,10.0,24.0,123.0,39.0,4.0,5.0,15.0,21.0,613.0,13.0,18.0,5.0,0.0,4.0,1.0,1.0,1.0,0.0,1.0,0.0,1521.0,1106.0,4.0,0.0,223.0,1350.0,0.0,22.0,1364.0,29.0,43.0,1.0,6.0,1.0,43.0,22.0,1.0,0.0,641.0,1.0,312.0,1.0,15.0,33.0,4.0,0.0,6.0,6.0,6.0,4.0,350.0,1.0,8.0,0.0,0.0,9.0,1.0,18.0,4.0,8509.0,0.0,5.0,3051.0,30.0,1.0,0.0,19.0,183.0,4.0,7.0,1066.0,391.0,0.0,1.0,0.0,5.0,0.0,0.0,1.0,4385.0,1.0,19.0,17.0,54.0,46.0,6.0,34.0,602.0,856.0,698.0,1.0,53.0,302.0,114.0,590.0,9.0,0.0,0.0,4.0,239.0,94.0,11.0,0.0,2390.0,4.0,3.0,91.0,66.0,7.0,1632.0,2.0,0.0,43.0,93.0,0.0,76.0,65.0,82.0,29.0,0.0,13.0,20.0,0.0,7.0,4.0,0.0,414.0,27.0,327.0,2.0,0.0,0.0,504.0,14.0,3.0,40.0,24.0,19.0,16.0,3.0,0.0,197.0,0.0,0.0,15.0,2224.0,63.0,2.0,0.0,0.0,3421.0,0.0,94.0,3.0,0.0,37.0,237.0,24.0,87.0,0.0,0.0,61.0,22.0,320.0,252.0,6.0,279.0,0.0,3.0,0.0,7.0,2.0,67.0,8.0,12648.0,0.0,0.0,30.0,23.0,1332.0,298.0,0.0,1.0,0.0,8.0,60.0,3302.0,1519.0,73.0,1.0,44.0,20.0,0.0,401.0,54.0,9.0,40.0,21.0,907.0,2.0,24.0,0.0,1281.0,43.0,0.0,1.0,98.0,60.0,7.0,0.0,1176.0,2.0,0.0,36.0,3.0,3.0,161.0,43.0,24.0,236.0,9211.0,14.0,25.0,66.0,0.0,1506.0,0.0,14.0,0.0,120.0,35.0,1.0,15.0,0.0,92.0,26.0,19.0,0.0,0.0,0.0,1.0,0.0,0.0,32.0,14.0,44.0,0.0,56.0,44.0,0.0,765.0,0.0,0.0,7777.0,9.0,0.0,0.0,1509.0,13.0,0.0,30.0,731.0,1.0,7.0,0.0,1.0,9.0,1.0,2.0,45.0,1.0,3563.0,0.0,0.0,0.0,4.0,0.0,245.0,20.0,43.0,0.0,31.0,15.0,11.0,168.0,1.0,203.0,112.0,22.0,105.0,59.0,164.0,54.0,1.0,10.0,0.0,330.0,6.0,0.0,253.0,47.0,33.0,119.0,5.0,5.0,0.0,2.0,1.0,40.0,118.0,3.0,17.0,55.0,14.0,140.0,6.0,4.0,12.0,3.0,0.0,13.0,9.0,19.0,73.0,345.0,45.0,1.0,55.0,25.0,5.0,5.0,0.0,28.0,83.0,0.0,3085.0,6.0,1049.0,1303.0,11092.0,2.0,42.0,0.0,748.0,190.0,3.0,1.0,1946.0,10.0,1.0,12.0,144.0,1.0,63.0,3.0,0.0,186.0,36.0,50.0,1.0,0.0,10709.0,0.0,2.0,2.0,119.0,0.0,0.0,0.0,56.0,0.0,1.0,93.0,3.0,0.0,0.0,44.0,0.0,4.0,0.0,19.0,138.0,2.0,6.0,52.0,196.0,173.0,0.0,38.0,0.0,0.0,32.0,0.0,0.0,0.0,32.0,5.0,5.0,16.0,1.0,17.0,0.0,1.0,1.0,1.0,0.0,0.0,20.0,6.0,3.0,0.0,0.0,6.0,5.0,0.0,0.0,0.0,0.0,0.0,2284.0,4.0,3881.0,1.0,3.0,0.0,12.0,5.0,9.0,7.0,1.0,1650.0,30.0,0.0,12.0,0.0,11.0,0.0,3.0,0.0,0.0,0.0,167.0,506.0,350.0,0.0,121.0,540.0,22.0,0.0,91.0,750.0,18.0,54.0,19.0,0.0,200.0,3.0,22.0,611.0,2.0,1245.0,230.0,26.0,484.0,73.0,104.0,882.0,2.0,48.0,0.0,0.0,5.0,197.0,2.0,0.0,278.0,576.0,550.0,2.0,1.0,48.0,8.0,8.0,12.0,469.0,4.0,3.0,0.0,665.0,0.0,5.0,0.0,4.0,7.0,29.0,1.0,1.0,229.0,0.0,3.0,2.0,0.0,109.0,3.0,7.0,0.0,0.0,21.0,1.0,1.0,3050.0,17.0,8.0,0.0,6.0,36.0,97.0,0.0,2.0,0.0,7.0,74.0,6.0,4.0,0.0,0.0,0.0,7.0,2.0,8.0,1830.0,18.0,0.0,0.0,204.0,0.0,246.0,0.0,2.0,23.0,58.0,0.0,2.0,13.0,1.0,0.0,0.0,9.0,10.0,24.0,57.0,10.0,2.0,1520.0,0.0,17.0,9.0,1576.0,1.0,19.0,1.0,606.0,0.0,5.0,0.0,942.0,0.0,382.0,45.0,2.0,1.0,31.0,9.0,1.0,74.0,4.0,49.0,21.0,8.0,8.0,8.0,9.0,32.0,15.0,1.0,11.0,0.0,0.0,3.0,321.0,50.0,6.0,3303.0,380.0,37.0,28.0,0.0,56.0,1.0,269.0,1.0,1874.0,0.0,4.0,3046.0,16.0,0.0,139.0,79.0,0.0,1.0,436.0,33.0,0.0,133.0,0.0,6.0,5.0,2.0,104.0,187.0,6.0,3.0,91.0,4.0,371.0,72.0,18.0,369.0,92.0,124.0,83.0,4.0,1834.0,6.0,1.0,0.0,3.0,0.0,0.0,1601.0,1.0,0.0,5.0,15.0,2.0,4.0,1.0,1009.0,3.0,1.0,878.0,1.0,100.0,4.0,0.0,23.0,41.0,2.0,17.0,5.0,17.0,26.0,156.0,183.0,38.0,2.0,25.0,23.0,0.0,52.0,32.0,2.0,102.0,0.0,4.0,329.0,0.0,13.0,1.0,2.0,22.0,3.0,22.0,837.0,3.0,0.0,2.0,30.0,15.0,12.0,0.0,0.0,1.0,464.0,12.0,314.0,0.0,161.0,586.0,307.0,58.0,74.0,51.0,0.0,4.0,320.0,0.0,17.0,1.0,3.0,55.0,1.0,0.0,84.0,7.0,700.0,453.0,1482.0,3.0,0.0,2.0,14.0,22.0,109.0,909.0,47.0,385.0,9.0,1.0,2.0,5.0,0.0,0.0,15.0,1.0,4.0,0.0,19.0,226.0,0.0,504.0,13.0,183.0,254.0,1.0,392.0,2.0,32.0,0.0,16.0,0.0,0.0,0.0,56.0,5.0,119.0,188.0,0.0,11.0,13.0,6.0,17.0,14.0,4.0,0.0,0.0,0.0,1.0,10.0,123.0,27.0,237.0,55.0,0.0,3.0,1186.0,50.0,6.0,1.0,4.0,15.0,301.0,591.0,240.0,15.0,170.0,207.0,2.0,1.0,33.0,2.0,0.0,1582.0,105.0,140.0,155.0,4.0,0.0,105.0,0.0,1.0,135.0,473.0,19.0,9.0,0.0,228.0,11.0,47.0,11.0,74.0,208.0,169.0,2.0,6.0,25.0,0.0,170.0,47.0,0.0,1482.0,15.0,7.0,14.0,414.0,0.0,5522.0,1523.0,240.0,0.0,1.0,44.0,1.0,29.0,0.0,0.0,57.0,0.0,158.0,58.0,5687.0,3.0,0.0,2130.0,10.0,730.0,7.0,28.0,11.0,570.0,305.0,33.0,99.0,41.0,1.0,172.0,1.0,1.0,8.0,2.0,242.0,107.0,1.0,917.0,2.0,5.0,0.0,0.0,21.0,3.0,0.0,55.0,0.0,4.0,1.0,63.0,19618.0,1.0,140.0,7.0,1.0,4.0,2.0,1.0,53.0,9.0,186.0,2.0,1220.0,26508.0,4.0,14.0,2.0,0.0,18.0,4.0,0.0,24.0,1.0,12.0,0.0,69.0,4.0,0.0,804.0,28.0,2296.0,1.0,1.0,4.0,1.0,0.0,574.0,28.0,2.0,0.0,2.0,2153.0,1487.0,3.0,949.0,464.0,656.0,16.0,2633.0,158.0,94.0,38.0,0.0,304.0,134.0,1498.0,0.0,13.0,123.0,86.0,0.0,0.0,4443.0,0.0,0.0,21.0,0.0,22.0,73.0,75.0,732.0,2.0,0.0,9.0,6667.0,4.0,1.0,70.0,10.0,849.0,0.0,0.0,3.0,7.0,509.0,6639.0,3.0,1752.0,8.0,15.0,30.0,5929.0,0.0,6.0,96.0,0.0,13.0,5.0,3.0,2.0,6.0,0.0,16.0,60.0,0.0,60.0,165.0,1521.0,21.0,7.0,15.0,56.0,44.0,1006.0,10.0,14.0,208.0,0.0,26.0,68.0,6.0,1.0,27.0,41.0,9.0,2.0,12.0,64.0,3.0,372.0,2.0,23.0,67.0,28.0,30.0,847.0,54.0,122.0,17.0,15.0,0.0,356.0,0.0,0.0,1.0,9.0,0.0,64.0,72.0,0.0,215.0,15.0,0.0,0.0,803.0,0.0,3.0,52.0,1508.0,28.0,544.0,115.0,1.0,0.0,120.0,1.0,0.0,123.0,46.0,5.0,38.0,0.0,18.0,11.0,114.0,7.0,206.0,448.0,5.0,4.0,508.0,6.0,176.0,208.0,10.0,1.0,3.0,3.0,8.0,0.0,0.0,1980.0,2480.0,85.0,38.0,0.0,105.0,87.0,0.0,1.0,85.0,43.0,13.0,4.0,175.0,2.0,36.0,3.0,5.0,10.0,0.0,8.0,8.0,263.0,1.0,942.0,198.0,1.0,1.0,2075.0,1.0,27.0,273.0,17.0,22.0,5.0,0.0,2.0,5.0,27.0,2.0,0.0,1.0,2.0,1.0,4.0,5.0,0.0,1.0,3.0,9.0,5.0,9.0,4.0,0.0,1.0,0.0,2.0,25.0,69.0,3.0,7.0,0.0,3.0,2.0,271.0,1.0,0.0,13.0,0.0,1.0,396.0,57.0,1.0,3.0,6.0,3.0,3.0,0.0,42.0,25.0,78.0,1.0,72.0,1.0,1607.0,0.0,4.0,81.0,3.0,1.0,1.0,0.0,0.0,0.0,49.0,0.0,0.0,8.0,0.0,3.0,0.0,1.0,134.0,31.0,8.0,14.0,36.0,0.0,1.0,15.0,27.0,1.0,4.0,0.0,7.0,53.0,4.0,22.0,4.0,22.0,10.0,1.0,1.0,0.0,0.0,3.0,3.0,1.0,0.0,162.0,1.0,3.0,0.0,650.0,15.0,16.0,19.0,4.0,35.0,8.0,1.0,3.0,0.0,6.0,65.0,1.0,5025.0,9819.0,343.0,3.0,11.0,36.0,2.0,516.0,0.0,10.0,7.0,30.0,0.0,155.0,88.0,3.0,3.0,76.0,1.0,144.0,0.0,60.0,27.0,0.0,0.0,2.0,1.0,0.0,162.0,96.0,1.0,1733.0,83.0,1.0,11.0,14.0,78.0,1.0,30.0,2.0,1.0,1.0,228.0,578.0,304.0,2.0,262.0,150.0,1176.0,0.0,11.0,15.0,4.0,10.0,190.0,20.0,0.0,5.0,371.0,58.0,7.0,3.0,5.0,38.0,3.0,9.0,10.0,0.0,8.0,21.0,0.0,9.0,53.0,44.0,0.0,736.0,168.0,1.0,35.0,1.0,3.0,0.0,840.0,141.0,226.0,0.0,287.0,0.0,358.0,0.0,610.0,25.0,3.0,3.0,2.0,51.0,205.0,1.0,1.0,0.0,178.0,0.0,10.0,0.0,13.0,216.0,47.0,44.0,2.0,8.0,0.0,504.0,0.0,0.0,95.0,0.0,229.0,72.0,37.0,17.0,1.0,87.0,100.0,61.0,3.0,4.0,13.0,24.0,9.0,1.0,0.0,0.0,6.0,0.0,1.0,0.0,1.0,106.0,1.0,1.0,11.0,0.0,8.0,1.0,25282.0,0.0,0.0,79.0,2.0,1.0,226.0,118.0,1.0,1.0,8.0,3.0,20.0,43.0,41.0,3.0,0.0,1.0,0.0,31.0,0.0,3.0,1.0,1.0,3.0,431.0,848.0,1363.0,32.0,6.0,2827.0,2075.0,186.0,17.0,1.0,22.0,0.0,304.0,546.0,7.0,2.0,8.0,4.0,35.0,39.0,2.0,970.0,0.0,4.0,733.0,0.0,0.0,0.0,104.0,0.0,2.0,0.0,0.0,98.0,1.0,9.0,982.0,6.0,0.0,3.0,0.0,16.0,25.0,0.0,46.0,9.0,0.0,281.0,15.0,141.0,1.0,0.0,0.0,0.0,15.0,6.0,58.0,2.0,42.0,40.0,7.0,6.0,4.0,1.0,0.0,2.0,0.0,7.0,32.0,29.0,748.0,3.0,14.0,2.0,532.0,21.0,47.0,50.0,0.0,47.0,9.0,0.0,0.0,84.0,10.0,23.0,0.0,0.0,0.0,0.0,5.0,20.0,2.0,0.0,1.0,1.0,135.0,51.0,31.0,104.0,8.0,4.0,1.0,8.0,1.0,71.0,7.0,3.0,294.0,3.0,3.0,0.0,4.0,0.0,22.0,11455.0,8.0,9.0,0.0,0.0,1330.0,710.0,219.0,577.0,142.0,2.0,33.0,9.0,0.0,145.0,22.0,35.0,12.0,12.0,0.0,8.0,14.0,0.0,5.0,8.0,2.0,1.0,0.0,0.0,696.0,1.0,5.0,29.0,37.0,52.0,182.0,2.0,1042.0,747.0,189.0,1.0,8.0,242.0,11.0,0.0,127.0,17.0,87.0,2.0,1646.0,5.0,8.0,6.0,1.0,1097.0,9.0,694.0,4.0,958.0,1.0,14.0,0.0,17.0,0.0,2.0,506.0,72.0,824.0,65.0,20.0,7.0,2.0,0.0,22.0,312.0,105.0,201.0,1.0,28.0,1.0,15.0,32.0,1.0,8.0,2.0,22.0,973.0,2.0,0.0,67.0,222.0,708.0,23.0,8.0,0.0,168.0,31.0,1.0,45.0,0.0,0.0,2.0,5.0,0.0,13.0,173.0,155.0,0.0,59.0,57.0,0.0,7.0,9.0,0.0,9.0,157.0,264.0,2.0,13.0,13.0,1.0,60.0,2.0,30.0,8.0,11.0,1.0,0.0,4.0,0.0,1.0,310.0,434.0,43.0,1044.0,1.0,0.0,3.0,1.0,2.0,62.0,3.0,84.0,278.0,6.0,24.0,0.0,5.0,1.0,380.0,2.0,0.0,24.0,4.0,78.0,2.0,109.0,40.0,232.0,117.0,48.0,2.0,2.0,9.0,1.0,2836.0,12.0,34.0,82.0,0.0,1.0,1397.0,5.0,35.0,23.0,9.0,986.0,20.0,7.0,95.0,21.0,2.0,8.0,20.0,1161.0,2.0,21.0,28.0,0.0,27.0,130.0,0.0,186.0,29.0,0.0,6.0,19.0,0.0,11.0,22.0,31.0,6.0,37.0,63.0,4.0,0.0,0.0,4.0,0.0,47.0,10.0,18.0,2416.0,1527.0,9.0,46.0,0.0,55.0,235.0,1.0,23.0,0.0,266.0,3.0,0.0,16.0,144.0,154.0,16.0,78.0,0.0,12.0,3.0,215.0,1.0,525.0,2.0,89.0,79.0,236.0,38.0,33.0,85.0,59.0,3.0,35.0,20.0,3.0,4.0,5.0,4.0,573.0,147.0,81.0,251.0,34.0,0.0,0.0,5.0,28.0,6069.0,0.0,0.0,2.0,369.0,6.0,9.0,9.0,7.0,68.0,34.0,0.0,8.0,1.0,17.0,32.0,1.0,1.0,8.0,0.0,901.0,603.0,0.0,0.0,0.0,0.0,2.0,44.0,1.0,2.0,2.0,363.0,0.0,173.0,5.0,27.0,149.0,126.0,2.0,2.0,3.0,70.0,3.0,0.0,68.0,104.0,32.0,555.0,0.0,19.0,1.0,0.0,1087.0,39.0,184.0,7.0,1263.0,0.0,682.0,8.0,0.0,28.0,0.0,198.0,1.0,1.0,951.0,0.0,1.0,4.0,1.0,36.0,28.0,1.0,2.0,1.0,2.0,1153.0,177.0,58.0,9.0,73.0,261.0,5.0,109.0,1406.0,7.0,4.0,4.0,1.0,0.0,26.0,48.0,0.0,7.0,0.0,11.0,33.0,4.0,97.0,887.0,1.0,33.0,0.0,248.0,1.0,0.0,0.0,4.0,0.0,15.0,72.0,5.0,1.0,370.0,2.0,23.0,23.0,1.0,1057.0,98.0,22.0,862.0,1.0,145.0,52.0,18.0,8.0,7.0,6.0,1.0,157.0,3.0,6.0,6.0,12.0,1.0,594.0,18.0,2.0,51.0,0.0,5.0,0.0,4.0,106.0,2.0,160.0,1.0,0.0,0.0,16.0,25.0,4.0,260.0,507.0,27.0,50.0,7.0,4.0,0.0,2801.0,66.0,47.0,2.0,314.0,4.0,7.0,5.0,0.0,1668.0,2773.0,3.0,0.0,3.0,100.0,2.0,82.0,97.0,15.0,187.0,34.0,0.0,0.0,0.0,100.0,277.0,13.0,5.0,2.0,25.0,37.0,853.0,0.0,335.0,1.0,5.0,0.0,221.0,18.0,115.0,27.0,292.0,5.0,1.0,2.0,1148.0,109.0,11.0,3.0,12.0,0.0,1.0,0.0,8.0,21.0,10.0,2.0,1.0,43.0,13.0,171.0,48.0,8.0,4.0,242.0,11.0,0.0,0.0,0.0,0.0,2.0,4.0,26.0,2923.0,1.0,0.0,1415.0,245.0,8.0,2.0,1360.0,336.0,26.0,574.0,0.0,88.0,3.0,0.0,128.0,0.0,2.0,1731.0,6.0,123.0,5.0,505.0,0.0,0.0,2.0,0.0,0.0,0.0,1.0,22.0,3.0,22.0,124.0,2.0,18.0,0.0,0.0,27.0,26.0,3.0,0.0,0.0,1.0,55.0,32.0,5.0,14.0,0.0,0.0,135.0,28.0,23.0,4.0,3.0,1.0,339.0,0.0,0.0,7.0,0.0,0.0,0.0,1.0,0.0,133.0,20.0,0.0,1.0,0.0,0.0,0.0,3.0,0.0,0.0,1.0,47.0,10.0,1.0,1.0,30.0,145.0,7.0,0.0,122.0,93.0,2.0,9.0,145.0,143.0,1688.0,19.0,15.0,1297.0,5.0,1.0,6.0,3.0,0.0,174.0,306.0,2654.0,1657.0,221.0,1.0,63.0,26.0,19.0,0.0,1.0,422.0,3.0,0.0,0.0,10.0,0.0,1.0,46.0,319.0,44.0,46.0,7755.0,1105.0,1.0,10.0,23.0,14.0,79.0,477.0,22.0,0.0,13.0,0.0,39.0,0.0,0.0,10.0,4.0,1.0,5.0,18.0,31.0,0.0,4.0,989.0,474.0,1.0,1.0,1670.0,10.0,2.0,0.0,576.0,11.0,39.0,48.0,44.0,2.0,0.0,0.0,0.0,0.0,84.0,187.0,11.0,0.0,74.0,9.0,1.0,1.0,16.0,122.0,0.0,2.0,14.0,9.0,2500.0,8.0,1.0,0.0,9.0,1.0,1.0,1.0,0.0,214.0,0.0,0.0,1.0,1.0,1785.0,15.0,4.0,4.0,0.0,0.0,14.0,0.0,1.0,17.0,21.0,0.0,48.0,102.0,706.0,395.0,1662.0,685.0,4.0,1.0,18.0,4.0,13.0,1.0,6.0,2.0,3.0,0.0,19.0,0.0,549.0,38.0,0.0,370.0,187.0,5.0,1.0,0.0,32.0,1.0,45.0,61.0,0.0,0.0,0.0,0.0,2.0,0.0,7.0,83661.0,168.0,20216.0,0.0,5498.0,0.0,1245.0,108.0,136.0,156.0,445.0,1.0,233.0,9469.0,79.0,226.0,595.0,3.0,8.0,14.0,208.0,229.0,22.0,363.0,1.0,64.0,353.0,6659.0,1329.0,3410.0,511.0,2932.0,2800.0,983.0,2850.0,25026.0,3.0,55.0,321.0,18.0,86.0,35.0,50.0,5438.0,34.0,436.0,13.0,158.0,39.0,16.0,133.0,8691.0,17115.0,5.0,108.0,14.0,2979.0,0.0,26.0,38.0,3050.0,14.0,13.0,9.0,15.0,670.0,767.0,32.0,1058.0,30.0,53.0,6398.0,270.0,44.0,65.0,636.0,547.0,106.0,23.0,0.0,48321.0,3683.0,13.0,5702.0,213279.0,148.0,9649.0,1711.0,439.0,78.0,7064.0,393.0,60.0,8211.0,448.0,363.0,36.0,100.0,38.0,14965.0,80.0,213.0,5908.0,3.0,6.0,47.0,109.0,216.0,33.0,253.0,142.0,2788.0,17.0,1.0,71.0,1.0,1463.0,101.0,1.0,492.0,4229.0,2911.0,626.0,4120.0,95.0,58.0,0.0,3.0,12329.0,1946.0,32921.0,7.0,4.0,167.0,65860.0,121.0,170.0,128.0,15.0,16849.0,22926.0,40.0,127.0,20.0,236.0,375.0,13.0,11749.0,4158.0,2338.0,648.0,12.0,8.0,0.0,962.0,8.0,18.0,3.0,4.0,19148.0,7219.0,144.0,3957.0,81.0,2.0,246.0,6223.0,31091.0,9.0,14.0,6052.0,53.0,9.0,102.0,168.0,29338.0,147.0,1416.0,307.0,10560.0,110.0,41.0,784.0,16787.0,6.0,4210.0,5102.0,150.0,9516.0,24473.0,12.0,268.0,0.0,3.0,474.0,28.0,0.0,4514.0,959.0,5.0,18104.0,400.0,535.0,132.0,376.0,410.0,37699.0,3009.0,10365.0,19460.0,351950.0,26447.0,45553.0,242679.0,41896.0,131243.0,25026.0]}],                        {\"legend\":{\"tracegroupgap\":0},\"template\":{\"data\":{\"bar\":[{\"error_x\":{\"color\":\"#f2f5fa\"},\"error_y\":{\"color\":\"#f2f5fa\"},\"marker\":{\"line\":{\"color\":\"rgb(17,17,17)\",\"width\":0.5},\"pattern\":{\"fillmode\":\"overlay\",\"size\":10,\"solidity\":0.2}},\"type\":\"bar\"}],\"barpolar\":[{\"marker\":{\"line\":{\"color\":\"rgb(17,17,17)\",\"width\":0.5},\"pattern\":{\"fillmode\":\"overlay\",\"size\":10,\"solidity\":0.2}},\"type\":\"barpolar\"}],\"carpet\":[{\"aaxis\":{\"endlinecolor\":\"#A2B1C6\",\"gridcolor\":\"#506784\",\"linecolor\":\"#506784\",\"minorgridcolor\":\"#506784\",\"startlinecolor\":\"#A2B1C6\"},\"baxis\":{\"endlinecolor\":\"#A2B1C6\",\"gridcolor\":\"#506784\",\"linecolor\":\"#506784\",\"minorgridcolor\":\"#506784\",\"startlinecolor\":\"#A2B1C6\"},\"type\":\"carpet\"}],\"choropleth\":[{\"colorbar\":{\"outlinewidth\":0,\"ticks\":\"\"},\"type\":\"choropleth\"}],\"contour\":[{\"colorbar\":{\"outlinewidth\":0,\"ticks\":\"\"},\"colorscale\":[[0.0,\"#0d0887\"],[0.1111111111111111,\"#46039f\"],[0.2222222222222222,\"#7201a8\"],[0.3333333333333333,\"#9c179e\"],[0.4444444444444444,\"#bd3786\"],[0.5555555555555556,\"#d8576b\"],[0.6666666666666666,\"#ed7953\"],[0.7777777777777778,\"#fb9f3a\"],[0.8888888888888888,\"#fdca26\"],[1.0,\"#f0f921\"]],\"type\":\"contour\"}],\"contourcarpet\":[{\"colorbar\":{\"outlinewidth\":0,\"ticks\":\"\"},\"type\":\"contourcarpet\"}],\"heatmap\":[{\"colorbar\":{\"outlinewidth\":0,\"ticks\":\"\"},\"colorscale\":[[0.0,\"#0d0887\"],[0.1111111111111111,\"#46039f\"],[0.2222222222222222,\"#7201a8\"],[0.3333333333333333,\"#9c179e\"],[0.4444444444444444,\"#bd3786\"],[0.5555555555555556,\"#d8576b\"],[0.6666666666666666,\"#ed7953\"],[0.7777777777777778,\"#fb9f3a\"],[0.8888888888888888,\"#fdca26\"],[1.0,\"#f0f921\"]],\"type\":\"heatmap\"}],\"heatmapgl\":[{\"colorbar\":{\"outlinewidth\":0,\"ticks\":\"\"},\"colorscale\":[[0.0,\"#0d0887\"],[0.1111111111111111,\"#46039f\"],[0.2222222222222222,\"#7201a8\"],[0.3333333333333333,\"#9c179e\"],[0.4444444444444444,\"#bd3786\"],[0.5555555555555556,\"#d8576b\"],[0.6666666666666666,\"#ed7953\"],[0.7777777777777778,\"#fb9f3a\"],[0.8888888888888888,\"#fdca26\"],[1.0,\"#f0f921\"]],\"type\":\"heatmapgl\"}],\"histogram\":[{\"marker\":{\"pattern\":{\"fillmode\":\"overlay\",\"size\":10,\"solidity\":0.2}},\"type\":\"histogram\"}],\"histogram2d\":[{\"colorbar\":{\"outlinewidth\":0,\"ticks\":\"\"},\"colorscale\":[[0.0,\"#0d0887\"],[0.1111111111111111,\"#46039f\"],[0.2222222222222222,\"#7201a8\"],[0.3333333333333333,\"#9c179e\"],[0.4444444444444444,\"#bd3786\"],[0.5555555555555556,\"#d8576b\"],[0.6666666666666666,\"#ed7953\"],[0.7777777777777778,\"#fb9f3a\"],[0.8888888888888888,\"#fdca26\"],[1.0,\"#f0f921\"]],\"type\":\"histogram2d\"}],\"histogram2dcontour\":[{\"colorbar\":{\"outlinewidth\":0,\"ticks\":\"\"},\"colorscale\":[[0.0,\"#0d0887\"],[0.1111111111111111,\"#46039f\"],[0.2222222222222222,\"#7201a8\"],[0.3333333333333333,\"#9c179e\"],[0.4444444444444444,\"#bd3786\"],[0.5555555555555556,\"#d8576b\"],[0.6666666666666666,\"#ed7953\"],[0.7777777777777778,\"#fb9f3a\"],[0.8888888888888888,\"#fdca26\"],[1.0,\"#f0f921\"]],\"type\":\"histogram2dcontour\"}],\"mesh3d\":[{\"colorbar\":{\"outlinewidth\":0,\"ticks\":\"\"},\"type\":\"mesh3d\"}],\"parcoords\":[{\"line\":{\"colorbar\":{\"outlinewidth\":0,\"ticks\":\"\"}},\"type\":\"parcoords\"}],\"pie\":[{\"automargin\":true,\"type\":\"pie\"}],\"scatter\":[{\"marker\":{\"line\":{\"color\":\"#283442\"}},\"type\":\"scatter\"}],\"scatter3d\":[{\"line\":{\"colorbar\":{\"outlinewidth\":0,\"ticks\":\"\"}},\"marker\":{\"colorbar\":{\"outlinewidth\":0,\"ticks\":\"\"}},\"type\":\"scatter3d\"}],\"scattercarpet\":[{\"marker\":{\"colorbar\":{\"outlinewidth\":0,\"ticks\":\"\"}},\"type\":\"scattercarpet\"}],\"scattergeo\":[{\"marker\":{\"colorbar\":{\"outlinewidth\":0,\"ticks\":\"\"}},\"type\":\"scattergeo\"}],\"scattergl\":[{\"marker\":{\"line\":{\"color\":\"#283442\"}},\"type\":\"scattergl\"}],\"scattermapbox\":[{\"marker\":{\"colorbar\":{\"outlinewidth\":0,\"ticks\":\"\"}},\"type\":\"scattermapbox\"}],\"scatterpolar\":[{\"marker\":{\"colorbar\":{\"outlinewidth\":0,\"ticks\":\"\"}},\"type\":\"scatterpolar\"}],\"scatterpolargl\":[{\"marker\":{\"colorbar\":{\"outlinewidth\":0,\"ticks\":\"\"}},\"type\":\"scatterpolargl\"}],\"scatterternary\":[{\"marker\":{\"colorbar\":{\"outlinewidth\":0,\"ticks\":\"\"}},\"type\":\"scatterternary\"}],\"surface\":[{\"colorbar\":{\"outlinewidth\":0,\"ticks\":\"\"},\"colorscale\":[[0.0,\"#0d0887\"],[0.1111111111111111,\"#46039f\"],[0.2222222222222222,\"#7201a8\"],[0.3333333333333333,\"#9c179e\"],[0.4444444444444444,\"#bd3786\"],[0.5555555555555556,\"#d8576b\"],[0.6666666666666666,\"#ed7953\"],[0.7777777777777778,\"#fb9f3a\"],[0.8888888888888888,\"#fdca26\"],[1.0,\"#f0f921\"]],\"type\":\"surface\"}],\"table\":[{\"cells\":{\"fill\":{\"color\":\"#506784\"},\"line\":{\"color\":\"rgb(17,17,17)\"}},\"header\":{\"fill\":{\"color\":\"#2a3f5f\"},\"line\":{\"color\":\"rgb(17,17,17)\"}},\"type\":\"table\"}]},\"layout\":{\"annotationdefaults\":{\"arrowcolor\":\"#f2f5fa\",\"arrowhead\":0,\"arrowwidth\":1},\"autotypenumbers\":\"strict\",\"coloraxis\":{\"colorbar\":{\"outlinewidth\":0,\"ticks\":\"\"}},\"colorscale\":{\"diverging\":[[0,\"#8e0152\"],[0.1,\"#c51b7d\"],[0.2,\"#de77ae\"],[0.3,\"#f1b6da\"],[0.4,\"#fde0ef\"],[0.5,\"#f7f7f7\"],[0.6,\"#e6f5d0\"],[0.7,\"#b8e186\"],[0.8,\"#7fbc41\"],[0.9,\"#4d9221\"],[1,\"#276419\"]],\"sequential\":[[0.0,\"#0d0887\"],[0.1111111111111111,\"#46039f\"],[0.2222222222222222,\"#7201a8\"],[0.3333333333333333,\"#9c179e\"],[0.4444444444444444,\"#bd3786\"],[0.5555555555555556,\"#d8576b\"],[0.6666666666666666,\"#ed7953\"],[0.7777777777777778,\"#fb9f3a\"],[0.8888888888888888,\"#fdca26\"],[1.0,\"#f0f921\"]],\"sequentialminus\":[[0.0,\"#0d0887\"],[0.1111111111111111,\"#46039f\"],[0.2222222222222222,\"#7201a8\"],[0.3333333333333333,\"#9c179e\"],[0.4444444444444444,\"#bd3786\"],[0.5555555555555556,\"#d8576b\"],[0.6666666666666666,\"#ed7953\"],[0.7777777777777778,\"#fb9f3a\"],[0.8888888888888888,\"#fdca26\"],[1.0,\"#f0f921\"]]},\"colorway\":[\"#636efa\",\"#EF553B\",\"#00cc96\",\"#ab63fa\",\"#FFA15A\",\"#19d3f3\",\"#FF6692\",\"#B6E880\",\"#FF97FF\",\"#FECB52\"],\"font\":{\"color\":\"#f2f5fa\"},\"geo\":{\"bgcolor\":\"rgb(17,17,17)\",\"lakecolor\":\"rgb(17,17,17)\",\"landcolor\":\"rgb(17,17,17)\",\"showlakes\":true,\"showland\":true,\"subunitcolor\":\"#506784\"},\"hoverlabel\":{\"align\":\"left\"},\"hovermode\":\"closest\",\"mapbox\":{\"style\":\"dark\"},\"paper_bgcolor\":\"rgb(17,17,17)\",\"plot_bgcolor\":\"rgb(17,17,17)\",\"polar\":{\"angularaxis\":{\"gridcolor\":\"#506784\",\"linecolor\":\"#506784\",\"ticks\":\"\"},\"bgcolor\":\"rgb(17,17,17)\",\"radialaxis\":{\"gridcolor\":\"#506784\",\"linecolor\":\"#506784\",\"ticks\":\"\"}},\"scene\":{\"xaxis\":{\"backgroundcolor\":\"rgb(17,17,17)\",\"gridcolor\":\"#506784\",\"gridwidth\":2,\"linecolor\":\"#506784\",\"showbackground\":true,\"ticks\":\"\",\"zerolinecolor\":\"#C8D4E3\"},\"yaxis\":{\"backgroundcolor\":\"rgb(17,17,17)\",\"gridcolor\":\"#506784\",\"gridwidth\":2,\"linecolor\":\"#506784\",\"showbackground\":true,\"ticks\":\"\",\"zerolinecolor\":\"#C8D4E3\"},\"zaxis\":{\"backgroundcolor\":\"rgb(17,17,17)\",\"gridcolor\":\"#506784\",\"gridwidth\":2,\"linecolor\":\"#506784\",\"showbackground\":true,\"ticks\":\"\",\"zerolinecolor\":\"#C8D4E3\"}},\"shapedefaults\":{\"line\":{\"color\":\"#f2f5fa\"}},\"sliderdefaults\":{\"bgcolor\":\"#C8D4E3\",\"bordercolor\":\"rgb(17,17,17)\",\"borderwidth\":1,\"tickwidth\":0},\"ternary\":{\"aaxis\":{\"gridcolor\":\"#506784\",\"linecolor\":\"#506784\",\"ticks\":\"\"},\"baxis\":{\"gridcolor\":\"#506784\",\"linecolor\":\"#506784\",\"ticks\":\"\"},\"bgcolor\":\"rgb(17,17,17)\",\"caxis\":{\"gridcolor\":\"#506784\",\"linecolor\":\"#506784\",\"ticks\":\"\"}},\"title\":{\"x\":0.05},\"updatemenudefaults\":{\"bgcolor\":\"#506784\",\"borderwidth\":0},\"xaxis\":{\"automargin\":true,\"gridcolor\":\"#283442\",\"linecolor\":\"#506784\",\"ticks\":\"\",\"title\":{\"standoff\":15},\"zerolinecolor\":\"#283442\",\"zerolinewidth\":2},\"yaxis\":{\"automargin\":true,\"gridcolor\":\"#283442\",\"linecolor\":\"#506784\",\"ticks\":\"\",\"title\":{\"standoff\":15},\"zerolinecolor\":\"#283442\",\"zerolinewidth\":2}}},\"title\":{\"text\":\"Treemap segregated by region, country and state, with casualities as values\"},\"treemapcolorway\":[\"rgb(196, 230, 195)\",\"rgb(150, 210, 164)\",\"rgb(109, 188, 144)\",\"rgb(77, 162, 132)\",\"rgb(54, 135, 122)\",\"rgb(38, 107, 110)\",\"rgb(29, 79, 96)\"]},                        {\"responsive\": true}                    ).then(function(){\n",
              "                            \n",
              "var gd = document.getElementById('1ada838e-867b-4820-b62c-a8ef412e33ea');\n",
              "var x = new MutationObserver(function (mutations, observer) {{\n",
              "        var display = window.getComputedStyle(gd).display;\n",
              "        if (!display || display === 'none') {{\n",
              "            console.log([gd, 'removed!']);\n",
              "            Plotly.purge(gd);\n",
              "            observer.disconnect();\n",
              "        }}\n",
              "}});\n",
              "\n",
              "// Listen for the removal of the full notebook cells\n",
              "var notebookContainer = gd.closest('#notebook-container');\n",
              "if (notebookContainer) {{\n",
              "    x.observe(notebookContainer, {childList: true});\n",
              "}}\n",
              "\n",
              "// Listen for the clearing of the current output cell\n",
              "var outputEl = gd.closest('.output');\n",
              "if (outputEl) {{\n",
              "    x.observe(outputEl, {childList: true});\n",
              "}}\n",
              "\n",
              "                        })                };                            </script>        </div>\n",
              "</body>\n",
              "</html>"
            ]
          },
          "metadata": {}
        },
        {
          "output_type": "display_data",
          "data": {
            "text/html": [
              "<html>\n",
              "<head><meta charset=\"utf-8\" /></head>\n",
              "<body>\n",
              "    <div>            <script src=\"https://cdnjs.cloudflare.com/ajax/libs/mathjax/2.7.5/MathJax.js?config=TeX-AMS-MML_SVG\"></script><script type=\"text/javascript\">if (window.MathJax) {MathJax.Hub.Config({SVG: {font: \"STIX-Web\"}});}</script>                <script type=\"text/javascript\">window.PlotlyConfig = {MathJaxConfig: 'local'};</script>\n",
              "        <script src=\"https://cdn.plot.ly/plotly-2.4.2.min.js\"></script>                <div id=\"e0b5c182-4dc8-4e74-b637-244ce8be0d47\" class=\"plotly-graph-div\" style=\"height:525px; width:100%;\"></div>            <script type=\"text/javascript\">                                    window.PLOTLYENV=window.PLOTLYENV || {};                                    if (document.getElementById(\"e0b5c182-4dc8-4e74-b637-244ce8be0d47\")) {                    Plotly.newPlot(                        \"e0b5c182-4dc8-4e74-b637-244ce8be0d47\",                        [{\"hovertemplate\":\"variable=attack_count<br>year=%{x}<br>value=%{y}<extra></extra>\",\"legendgroup\":\"attack_count\",\"line\":{\"color\":\"#636efa\",\"dash\":\"solid\"},\"marker\":{\"symbol\":\"circle\"},\"mode\":\"lines\",\"name\":\"attack_count\",\"orientation\":\"v\",\"showlegend\":true,\"type\":\"scatter\",\"x\":[1970,1971,1972,1973,1974,1975,1976,1977,1978,1979,1980,1981,1982,1983,1984,1985,1986,1987,1988,1989,1990,1991,1992,1994,1995,1996,1997,1998,1999,2000,2001,2002,2003,2004,2005,2006,2007,2008,2009,2010,2011,2012,2013,2014,2015,2016,2017],\"xaxis\":\"x\",\"y\":[651.0,471.0,568.0,473.0,581.0,740.0,923.0,1319.0,1526.0,2662.0,2662.0,2586.0,2544.0,2870.0,3495.0,2915.0,2860.0,3183.0,3721.0,4324.0,3887.0,4683.0,5071.0,3456.0,3081.0,3058.0,3197.0,934.0,1395.0,1814.0,1906.0,1333.0,1278.0,1166.0,2017.0,2758.0,3242.0,4805.0,4721.0,4826.0,5076.0,8522.0,12036.0,16903.0,14965.0,13587.0,10900.0],\"yaxis\":\"y\"},{\"hovertemplate\":\"variable=casualities<br>year=%{x}<br>value=%{y}<extra></extra>\",\"legendgroup\":\"casualities\",\"line\":{\"color\":\"#EF553B\",\"dash\":\"solid\"},\"marker\":{\"symbol\":\"circle\"},\"mode\":\"lines\",\"name\":\"casualities\",\"orientation\":\"v\",\"showlegend\":true,\"type\":\"scatter\",\"x\":[1970,1971,1972,1973,1974,1975,1976,1977,1978,1979,1980,1981,1982,1983,1984,1985,1986,1987,1988,1989,1990,1991,1992,1994,1995,1996,1997,1998,1999,2000,2001,2002,2003,2004,2005,2006,2007,2008,2009,2010,2011,2012,2013,2014,2015,2016,2017],\"xaxis\":\"x\",\"y\":[386.0,255.0,975.0,865.0,1404.0,1234.0,1430.0,974.0,3059.0,4606.0,8045.0,8188.0,8478.0,13491.0,15741.0,12224.0,10790.0,12257.0,14168.0,13691.0,13276.0,16020.0,19657.0,15259.0,20395.0,17761.0,19996.0,12871.0,8734.0,10272.0,30503.0,11967.0,10701.0,17765.0,19115.0,24930.0,35348.0,28155.0,28411.0,23774.0,22905.0,40942.0,59961.0,85618.0,82896.0,74872.0,51372.0],\"yaxis\":\"y\"}],                        {\"legend\":{\"title\":{\"text\":\"variable\"},\"tracegroupgap\":0},\"margin\":{\"t\":60},\"template\":{\"data\":{\"bar\":[{\"error_x\":{\"color\":\"#f2f5fa\"},\"error_y\":{\"color\":\"#f2f5fa\"},\"marker\":{\"line\":{\"color\":\"rgb(17,17,17)\",\"width\":0.5},\"pattern\":{\"fillmode\":\"overlay\",\"size\":10,\"solidity\":0.2}},\"type\":\"bar\"}],\"barpolar\":[{\"marker\":{\"line\":{\"color\":\"rgb(17,17,17)\",\"width\":0.5},\"pattern\":{\"fillmode\":\"overlay\",\"size\":10,\"solidity\":0.2}},\"type\":\"barpolar\"}],\"carpet\":[{\"aaxis\":{\"endlinecolor\":\"#A2B1C6\",\"gridcolor\":\"#506784\",\"linecolor\":\"#506784\",\"minorgridcolor\":\"#506784\",\"startlinecolor\":\"#A2B1C6\"},\"baxis\":{\"endlinecolor\":\"#A2B1C6\",\"gridcolor\":\"#506784\",\"linecolor\":\"#506784\",\"minorgridcolor\":\"#506784\",\"startlinecolor\":\"#A2B1C6\"},\"type\":\"carpet\"}],\"choropleth\":[{\"colorbar\":{\"outlinewidth\":0,\"ticks\":\"\"},\"type\":\"choropleth\"}],\"contour\":[{\"colorbar\":{\"outlinewidth\":0,\"ticks\":\"\"},\"colorscale\":[[0.0,\"#0d0887\"],[0.1111111111111111,\"#46039f\"],[0.2222222222222222,\"#7201a8\"],[0.3333333333333333,\"#9c179e\"],[0.4444444444444444,\"#bd3786\"],[0.5555555555555556,\"#d8576b\"],[0.6666666666666666,\"#ed7953\"],[0.7777777777777778,\"#fb9f3a\"],[0.8888888888888888,\"#fdca26\"],[1.0,\"#f0f921\"]],\"type\":\"contour\"}],\"contourcarpet\":[{\"colorbar\":{\"outlinewidth\":0,\"ticks\":\"\"},\"type\":\"contourcarpet\"}],\"heatmap\":[{\"colorbar\":{\"outlinewidth\":0,\"ticks\":\"\"},\"colorscale\":[[0.0,\"#0d0887\"],[0.1111111111111111,\"#46039f\"],[0.2222222222222222,\"#7201a8\"],[0.3333333333333333,\"#9c179e\"],[0.4444444444444444,\"#bd3786\"],[0.5555555555555556,\"#d8576b\"],[0.6666666666666666,\"#ed7953\"],[0.7777777777777778,\"#fb9f3a\"],[0.8888888888888888,\"#fdca26\"],[1.0,\"#f0f921\"]],\"type\":\"heatmap\"}],\"heatmapgl\":[{\"colorbar\":{\"outlinewidth\":0,\"ticks\":\"\"},\"colorscale\":[[0.0,\"#0d0887\"],[0.1111111111111111,\"#46039f\"],[0.2222222222222222,\"#7201a8\"],[0.3333333333333333,\"#9c179e\"],[0.4444444444444444,\"#bd3786\"],[0.5555555555555556,\"#d8576b\"],[0.6666666666666666,\"#ed7953\"],[0.7777777777777778,\"#fb9f3a\"],[0.8888888888888888,\"#fdca26\"],[1.0,\"#f0f921\"]],\"type\":\"heatmapgl\"}],\"histogram\":[{\"marker\":{\"pattern\":{\"fillmode\":\"overlay\",\"size\":10,\"solidity\":0.2}},\"type\":\"histogram\"}],\"histogram2d\":[{\"colorbar\":{\"outlinewidth\":0,\"ticks\":\"\"},\"colorscale\":[[0.0,\"#0d0887\"],[0.1111111111111111,\"#46039f\"],[0.2222222222222222,\"#7201a8\"],[0.3333333333333333,\"#9c179e\"],[0.4444444444444444,\"#bd3786\"],[0.5555555555555556,\"#d8576b\"],[0.6666666666666666,\"#ed7953\"],[0.7777777777777778,\"#fb9f3a\"],[0.8888888888888888,\"#fdca26\"],[1.0,\"#f0f921\"]],\"type\":\"histogram2d\"}],\"histogram2dcontour\":[{\"colorbar\":{\"outlinewidth\":0,\"ticks\":\"\"},\"colorscale\":[[0.0,\"#0d0887\"],[0.1111111111111111,\"#46039f\"],[0.2222222222222222,\"#7201a8\"],[0.3333333333333333,\"#9c179e\"],[0.4444444444444444,\"#bd3786\"],[0.5555555555555556,\"#d8576b\"],[0.6666666666666666,\"#ed7953\"],[0.7777777777777778,\"#fb9f3a\"],[0.8888888888888888,\"#fdca26\"],[1.0,\"#f0f921\"]],\"type\":\"histogram2dcontour\"}],\"mesh3d\":[{\"colorbar\":{\"outlinewidth\":0,\"ticks\":\"\"},\"type\":\"mesh3d\"}],\"parcoords\":[{\"line\":{\"colorbar\":{\"outlinewidth\":0,\"ticks\":\"\"}},\"type\":\"parcoords\"}],\"pie\":[{\"automargin\":true,\"type\":\"pie\"}],\"scatter\":[{\"marker\":{\"line\":{\"color\":\"#283442\"}},\"type\":\"scatter\"}],\"scatter3d\":[{\"line\":{\"colorbar\":{\"outlinewidth\":0,\"ticks\":\"\"}},\"marker\":{\"colorbar\":{\"outlinewidth\":0,\"ticks\":\"\"}},\"type\":\"scatter3d\"}],\"scattercarpet\":[{\"marker\":{\"colorbar\":{\"outlinewidth\":0,\"ticks\":\"\"}},\"type\":\"scattercarpet\"}],\"scattergeo\":[{\"marker\":{\"colorbar\":{\"outlinewidth\":0,\"ticks\":\"\"}},\"type\":\"scattergeo\"}],\"scattergl\":[{\"marker\":{\"line\":{\"color\":\"#283442\"}},\"type\":\"scattergl\"}],\"scattermapbox\":[{\"marker\":{\"colorbar\":{\"outlinewidth\":0,\"ticks\":\"\"}},\"type\":\"scattermapbox\"}],\"scatterpolar\":[{\"marker\":{\"colorbar\":{\"outlinewidth\":0,\"ticks\":\"\"}},\"type\":\"scatterpolar\"}],\"scatterpolargl\":[{\"marker\":{\"colorbar\":{\"outlinewidth\":0,\"ticks\":\"\"}},\"type\":\"scatterpolargl\"}],\"scatterternary\":[{\"marker\":{\"colorbar\":{\"outlinewidth\":0,\"ticks\":\"\"}},\"type\":\"scatterternary\"}],\"surface\":[{\"colorbar\":{\"outlinewidth\":0,\"ticks\":\"\"},\"colorscale\":[[0.0,\"#0d0887\"],[0.1111111111111111,\"#46039f\"],[0.2222222222222222,\"#7201a8\"],[0.3333333333333333,\"#9c179e\"],[0.4444444444444444,\"#bd3786\"],[0.5555555555555556,\"#d8576b\"],[0.6666666666666666,\"#ed7953\"],[0.7777777777777778,\"#fb9f3a\"],[0.8888888888888888,\"#fdca26\"],[1.0,\"#f0f921\"]],\"type\":\"surface\"}],\"table\":[{\"cells\":{\"fill\":{\"color\":\"#506784\"},\"line\":{\"color\":\"rgb(17,17,17)\"}},\"header\":{\"fill\":{\"color\":\"#2a3f5f\"},\"line\":{\"color\":\"rgb(17,17,17)\"}},\"type\":\"table\"}]},\"layout\":{\"annotationdefaults\":{\"arrowcolor\":\"#f2f5fa\",\"arrowhead\":0,\"arrowwidth\":1},\"autotypenumbers\":\"strict\",\"coloraxis\":{\"colorbar\":{\"outlinewidth\":0,\"ticks\":\"\"}},\"colorscale\":{\"diverging\":[[0,\"#8e0152\"],[0.1,\"#c51b7d\"],[0.2,\"#de77ae\"],[0.3,\"#f1b6da\"],[0.4,\"#fde0ef\"],[0.5,\"#f7f7f7\"],[0.6,\"#e6f5d0\"],[0.7,\"#b8e186\"],[0.8,\"#7fbc41\"],[0.9,\"#4d9221\"],[1,\"#276419\"]],\"sequential\":[[0.0,\"#0d0887\"],[0.1111111111111111,\"#46039f\"],[0.2222222222222222,\"#7201a8\"],[0.3333333333333333,\"#9c179e\"],[0.4444444444444444,\"#bd3786\"],[0.5555555555555556,\"#d8576b\"],[0.6666666666666666,\"#ed7953\"],[0.7777777777777778,\"#fb9f3a\"],[0.8888888888888888,\"#fdca26\"],[1.0,\"#f0f921\"]],\"sequentialminus\":[[0.0,\"#0d0887\"],[0.1111111111111111,\"#46039f\"],[0.2222222222222222,\"#7201a8\"],[0.3333333333333333,\"#9c179e\"],[0.4444444444444444,\"#bd3786\"],[0.5555555555555556,\"#d8576b\"],[0.6666666666666666,\"#ed7953\"],[0.7777777777777778,\"#fb9f3a\"],[0.8888888888888888,\"#fdca26\"],[1.0,\"#f0f921\"]]},\"colorway\":[\"#636efa\",\"#EF553B\",\"#00cc96\",\"#ab63fa\",\"#FFA15A\",\"#19d3f3\",\"#FF6692\",\"#B6E880\",\"#FF97FF\",\"#FECB52\"],\"font\":{\"color\":\"#f2f5fa\"},\"geo\":{\"bgcolor\":\"rgb(17,17,17)\",\"lakecolor\":\"rgb(17,17,17)\",\"landcolor\":\"rgb(17,17,17)\",\"showlakes\":true,\"showland\":true,\"subunitcolor\":\"#506784\"},\"hoverlabel\":{\"align\":\"left\"},\"hovermode\":\"closest\",\"mapbox\":{\"style\":\"dark\"},\"paper_bgcolor\":\"rgb(17,17,17)\",\"plot_bgcolor\":\"rgb(17,17,17)\",\"polar\":{\"angularaxis\":{\"gridcolor\":\"#506784\",\"linecolor\":\"#506784\",\"ticks\":\"\"},\"bgcolor\":\"rgb(17,17,17)\",\"radialaxis\":{\"gridcolor\":\"#506784\",\"linecolor\":\"#506784\",\"ticks\":\"\"}},\"scene\":{\"xaxis\":{\"backgroundcolor\":\"rgb(17,17,17)\",\"gridcolor\":\"#506784\",\"gridwidth\":2,\"linecolor\":\"#506784\",\"showbackground\":true,\"ticks\":\"\",\"zerolinecolor\":\"#C8D4E3\"},\"yaxis\":{\"backgroundcolor\":\"rgb(17,17,17)\",\"gridcolor\":\"#506784\",\"gridwidth\":2,\"linecolor\":\"#506784\",\"showbackground\":true,\"ticks\":\"\",\"zerolinecolor\":\"#C8D4E3\"},\"zaxis\":{\"backgroundcolor\":\"rgb(17,17,17)\",\"gridcolor\":\"#506784\",\"gridwidth\":2,\"linecolor\":\"#506784\",\"showbackground\":true,\"ticks\":\"\",\"zerolinecolor\":\"#C8D4E3\"}},\"shapedefaults\":{\"line\":{\"color\":\"#f2f5fa\"}},\"sliderdefaults\":{\"bgcolor\":\"#C8D4E3\",\"bordercolor\":\"rgb(17,17,17)\",\"borderwidth\":1,\"tickwidth\":0},\"ternary\":{\"aaxis\":{\"gridcolor\":\"#506784\",\"linecolor\":\"#506784\",\"ticks\":\"\"},\"baxis\":{\"gridcolor\":\"#506784\",\"linecolor\":\"#506784\",\"ticks\":\"\"},\"bgcolor\":\"rgb(17,17,17)\",\"caxis\":{\"gridcolor\":\"#506784\",\"linecolor\":\"#506784\",\"ticks\":\"\"}},\"title\":{\"x\":0.05},\"updatemenudefaults\":{\"bgcolor\":\"#506784\",\"borderwidth\":0},\"xaxis\":{\"automargin\":true,\"gridcolor\":\"#283442\",\"linecolor\":\"#506784\",\"ticks\":\"\",\"title\":{\"standoff\":15},\"zerolinecolor\":\"#283442\",\"zerolinewidth\":2},\"yaxis\":{\"automargin\":true,\"gridcolor\":\"#283442\",\"linecolor\":\"#506784\",\"ticks\":\"\",\"title\":{\"standoff\":15},\"zerolinecolor\":\"#283442\",\"zerolinewidth\":2}}},\"xaxis\":{\"anchor\":\"y\",\"domain\":[0.0,1.0],\"title\":{\"text\":\"year\"}},\"yaxis\":{\"anchor\":\"x\",\"domain\":[0.0,1.0],\"title\":{\"text\":\"value\"}}},                        {\"responsive\": true}                    ).then(function(){\n",
              "                            \n",
              "var gd = document.getElementById('e0b5c182-4dc8-4e74-b637-244ce8be0d47');\n",
              "var x = new MutationObserver(function (mutations, observer) {{\n",
              "        var display = window.getComputedStyle(gd).display;\n",
              "        if (!display || display === 'none') {{\n",
              "            console.log([gd, 'removed!']);\n",
              "            Plotly.purge(gd);\n",
              "            observer.disconnect();\n",
              "        }}\n",
              "}});\n",
              "\n",
              "// Listen for the removal of the full notebook cells\n",
              "var notebookContainer = gd.closest('#notebook-container');\n",
              "if (notebookContainer) {{\n",
              "    x.observe(notebookContainer, {childList: true});\n",
              "}}\n",
              "\n",
              "// Listen for the clearing of the current output cell\n",
              "var outputEl = gd.closest('.output');\n",
              "if (outputEl) {{\n",
              "    x.observe(outputEl, {childList: true});\n",
              "}}\n",
              "\n",
              "                        })                };                            </script>        </div>\n",
              "</body>\n",
              "</html>"
            ]
          },
          "metadata": {}
        }
      ]
    },
    {
      "cell_type": "markdown",
      "metadata": {
        "id": "5bYTd10IZ8FT"
      },
      "source": [
        "**Remarks**\n",
        "1. It's evident from the figure that the terrorist attacks are quite concentrated in a handful of countries like Afghanistan, Pakistan, Iraq, India etc.\n",
        "2. Middle East & North Africa is the region with most casualities, followed by South Asia, Sub-Saharan Africa, South America and so on. Iraq is the country with most number of reported casualities: 213,279.\n",
        "\n",
        "3. The attack frequency over the world, peaked in the year 2014: 16903 attacks The casualities due to terrorism peaked in the same year: 85618 casualities.\n"
      ]
    },
    {
      "cell_type": "markdown",
      "metadata": {
        "id": "R41rTPa0BXOg"
      },
      "source": [
        "Doubt Terrorism... ?"
      ]
    },
    {
      "cell_type": "markdown",
      "metadata": {
        "id": "aX3LXNF1D2sn"
      },
      "source": [
        "There are instances when some incidents do not match any two of the 3 criterions set by START to qualify as a terrorist attack. Such incidents are marked 1 in the 'doubtterr' field in the data set, implying that there is some amount of doubt as to whether this was an act of terrorism."
      ]
    },
    {
      "cell_type": "code",
      "metadata": {
        "id": "vkD66qanBWuc"
      },
      "source": [
        "fig=px.sunburst(gtd_global,\n",
        "                                  template='plotly_dark',\n",
        "                                  path=['doubt_terror','alternative_txt'],\n",
        "                                  color_discrete_sequence=px.colors.qualitative.Dark24,\n",
        "                                  title='Doubt terrorism')\n",
        "\n",
        "fig.show()"
      ],
      "execution_count": null,
      "outputs": []
    },
    {
      "cell_type": "markdown",
      "metadata": {
        "id": "sCKwIjkaEJ4X"
      },
      "source": [
        "**Remarks**\n",
        "1. 138,906 attacks are such that there is no essential doubt in them being a terrorist attack.\n",
        "2. 29001 attacks are such that they can't be classified as terrorist attack under START criterions. They are classified into follows:\n",
        "    \n",
        "    1. Insurgency/ Guerilla Action: 23,408\n",
        "    2. Lack of intentionality: 319\n",
        "    3. State Actors: 321\n",
        "    4. Intra/Inter group conflict: 1296\n",
        "    5. Other crime type: 3657 "
      ]
    },
    {
      "cell_type": "markdown",
      "metadata": {
        "id": "qVJzcxvp2fBY"
      },
      "source": [
        "Wordcloud of organisations over the globe"
      ]
    },
    {
      "cell_type": "code",
      "metadata": {
        "id": "ue-fODQ-2f3y"
      },
      "source": [
        "#df with organisations and corresponding frequency of attacks\n",
        "global_org_frequency=gtd_global.groupby('organisation')['eventid'].count().reset_index().rename(columns={'eventid':'attacks'})"
      ],
      "execution_count": null,
      "outputs": []
    },
    {
      "cell_type": "code",
      "metadata": {
        "id": "rxTi7RHl2iG8"
      },
      "source": [
        "#creating dictionary with group names and corresponding frequency of attacks. We'll be using this dictionary to generate the wordlcoud\n",
        "global_organisation_dict={}\n",
        "for group,attacks in zip(global_org_frequency.organisation,global_org_frequency.attacks):\n",
        "  global_organisation_dict[group]=attacks"
      ],
      "execution_count": null,
      "outputs": []
    },
    {
      "cell_type": "code",
      "metadata": {
        "id": "owJfNOFw2oqT"
      },
      "source": [
        "wordcloud = WordCloud(background_color='white')\n",
        "wordcloud.generate_from_frequencies(frequencies=global_organisation_dict)\n",
        "plt.figure(figsize=(23,7))\n",
        "plt.imshow(wordcloud, interpolation=\"bilinear\")\n",
        "plt.title('wordcloud of organisations dominant over the globe')\n",
        "plt.axis(\"off\")\n",
        "plt.show()\n",
        "\n"
      ],
      "execution_count": null,
      "outputs": []
    },
    {
      "cell_type": "markdown",
      "metadata": {
        "id": "P5b0Mr4U3U6D"
      },
      "source": [
        "**Remarks**\n",
        "\n",
        "1. The Unknown faction contributes the most to the number of attacks over the world. These could be the attacks, not claimed by any organisations, work of individuals or group of individuals who do not belong to any formal organisation.\n",
        "\n",
        "2. Taliban has the upperhand in terms of absolute number of attacks all over the world."
      ]
    },
    {
      "cell_type": "markdown",
      "metadata": {
        "id": "2cN5k1eKaYyG"
      },
      "source": [
        "**Region wise drill down**"
      ]
    },
    {
      "cell_type": "code",
      "metadata": {
        "id": "s4YRSXIfvqpy"
      },
      "source": [
        "#Terrorist attacks in different regions year wise\n",
        "region_crosstab=pd.crosstab(gtd_global['year'], gtd_global['region']) #We'll use the cross tab to generate line chart"
      ],
      "execution_count": null,
      "outputs": []
    },
    {
      "cell_type": "code",
      "metadata": {
        "id": "r2UMG5AUa_HN"
      },
      "source": [
        "# Using 'groupby' to create the required Data Frame\n",
        "gtd_regions_casualties = gtd_global.groupby('region')['nkill','perpetrator_killed','nwound','perpetrator_wounded'].sum()"
      ],
      "execution_count": null,
      "outputs": []
    },
    {
      "cell_type": "code",
      "metadata": {
        "id": "-C9wEBFkfnOb"
      },
      "source": [
        "#adding number of attacks to the dataframe\n",
        "gtd_regions_casualties['Attacks']=gtd_global['region'].value_counts()"
      ],
      "execution_count": null,
      "outputs": []
    },
    {
      "cell_type": "code",
      "metadata": {
        "id": "xPgsR6Vtf8IK"
      },
      "source": [
        "#renaming columns, sorting values and reseting index.\n",
        "gtd_regions_casualties.rename(columns={'nkill':'total_deaths','nwound':'total_wounded'},inplace=True)\n",
        "gtd_regions_casualties.sort_values('Attacks',ascending=False,inplace=True)\n",
        "gtd_regions_casualties.reset_index(inplace=True)"
      ],
      "execution_count": null,
      "outputs": []
    },
    {
      "cell_type": "code",
      "metadata": {
        "id": "itlORydDpKQ3"
      },
      "source": [
        "region_crosstab.columns"
      ],
      "execution_count": null,
      "outputs": []
    },
    {
      "cell_type": "code",
      "metadata": {
        "id": "otqLJbapoFsA"
      },
      "source": [
        "pd.crosstab(gtd_global.year, gtd_global.region).plot(kind='area',figsize=(20,10))\n",
        "plt.title('Terrorist Activities By Region (1970-2017)')\n",
        "plt.ylabel('Number of Attacks')\n",
        "plt.show()\n",
        "\n",
        "#tabular visualisation\n",
        "table_region_casualities= go.Figure(data=[go.Table(  \n",
        "        header=dict(values=list(gtd_regions_casualties.columns),\n",
        "                fill_color='pink',\n",
        "                align='left'),\n",
        "    cells=dict(values=[gtd_regions_casualties.region,gtd_regions_casualties.total_deaths,gtd_regions_casualties.perpetrator_killed,gtd_regions_casualties.total_wounded,gtd_regions_casualties.perpetrator_wounded,gtd_regions_casualties.Attacks],\n",
        "               fill_color='lavender',\n",
        "               align='left'))\n",
        "])\n",
        "table_region_casualities.show()"
      ],
      "execution_count": null,
      "outputs": []
    },
    {
      "cell_type": "markdown",
      "metadata": {
        "id": "F1e4Fx0NW_K9"
      },
      "source": [
        "**Attack Types**"
      ]
    },
    {
      "cell_type": "code",
      "metadata": {
        "id": "1_h0tJDuW-oC"
      },
      "source": [
        "gtd_attack_type=gtd_global.groupby('attack_type')['eventid'].count().reset_index().rename(columns={'eventid':'attack_count'})\n",
        "gtd_attack_type['casuality']=gtd_global.groupby('attack_type')['casuality'].sum().reset_index()['casuality']"
      ],
      "execution_count": null,
      "outputs": []
    },
    {
      "cell_type": "code",
      "metadata": {
        "id": "hoIMNMRBXvx3"
      },
      "source": [
        "px.pie(data_frame=gtd_attack_type,names='attack_type',values='attack_count',color='attack_type',hover_data=['casuality'],title='Distribution of attack types')"
      ],
      "execution_count": null,
      "outputs": []
    },
    {
      "cell_type": "code",
      "metadata": {
        "id": "mghydLYz0BQM"
      },
      "source": [
        "global_attacks=gtd_global['attack_type'].value_counts()\n",
        "global_attacks"
      ],
      "execution_count": null,
      "outputs": []
    },
    {
      "cell_type": "code",
      "metadata": {
        "id": "KNf2uMlaW4fU"
      },
      "source": [
        "labels=global_attacks\n",
        "fig, ax = plt.subplots(figsize=(12,12), subplot_kw=dict(aspect=\"equal\"))\n",
        "plt.pie(labels, startangle=90, autopct='%.2f%%')\n",
        "plt.title('Types Of Terrorist Attacks',fontsize=30)\n",
        "plt.legend(['Assassination', 'Hostage Taking (Kidnapping)',\n",
        "       'Bombing/Explosion', 'Facility/Infrastructure Attack',\n",
        "       'Armed Assault', 'Hijacking', 'Unknown', 'Unarmed Assault',\n",
        "       'Hostage Taking (Barricade Incident)'],loc='upper right',bbox_to_anchor = (1.3,0.9), fontsize=12)\n",
        "plt.show()"
      ],
      "execution_count": null,
      "outputs": []
    },
    {
      "cell_type": "markdown",
      "metadata": {
        "id": "VolSGIG1a8PM"
      },
      "source": [
        "**Target types**"
      ]
    },
    {
      "cell_type": "code",
      "metadata": {
        "id": "7DD0MqZza5XA"
      },
      "source": [
        "gtd_target_types=gtd_global.groupby('target_type')['eventid'].count().reset_index().rename(columns={'eventid':'attack_count'}).sort_values('attack_count',ascending=False)\n",
        "gtd_target_types"
      ],
      "execution_count": null,
      "outputs": []
    },
    {
      "cell_type": "code",
      "metadata": {
        "id": "AN1Q7-G30YuM"
      },
      "source": [
        "global_target=gtd_global['target_type'].value_counts()\n",
        "global_target"
      ],
      "execution_count": null,
      "outputs": []
    },
    {
      "cell_type": "code",
      "metadata": {
        "id": "nn9b_RDo0Jpa"
      },
      "source": [
        "global_target.plot(kind='barh')\n",
        "\n",
        "plt.xlabel(\"Number of targets\")\n",
        "plt.ylabel(\"Types of target\")\n",
        "plt.title(\"Terrorist targets over the world\")\n",
        "\n",
        "plt.rcParams['figure.figsize']=(15,10)"
      ],
      "execution_count": null,
      "outputs": []
    },
    {
      "cell_type": "markdown",
      "metadata": {
        "id": "clOIR_HmDHFB"
      },
      "source": [
        "#South Asia at a glance\n",
        "\n",
        "As observed in previous set of analysis, South Asia is the second most affected region after Middle East and North Africa. Let's have a glance at situation in South Asia."
      ]
    },
    {
      "cell_type": "code",
      "metadata": {
        "id": "1ArgWhLWHi3c"
      },
      "source": [
        "#Attacks in different countries in South Asia over the year\n",
        "southasia_nations = gtd_SA['country'].value_counts()\n",
        "southasia_nations"
      ],
      "execution_count": null,
      "outputs": []
    },
    {
      "cell_type": "code",
      "metadata": {
        "id": "c7LGD1UFZyjY"
      },
      "source": [
        "# Horizontal Bar Graph to show attacks in different South Asian nations over the year\n",
        "plt.figure(figsize=(12,8))\n",
        "plt.title(\"Total Terrorists Attacks in different South Asian Countries from 1970-2017\")\n",
        "plt.ylabel('Countries')\n",
        "plt.xlabel('Total Attacks')\n",
        "plt.xticks(np.arange(0,20000,1000))\n",
        "southasia_nations.plot(kind='barh')\n",
        "plt.show()"
      ],
      "execution_count": null,
      "outputs": []
    },
    {
      "cell_type": "markdown",
      "metadata": {
        "id": "lP-OMxZR7-WN"
      },
      "source": [
        "**Remarks**\n",
        "\n",
        "Pakistan is the most affected country in South Asian region, followed by Afghanistan and India."
      ]
    },
    {
      "cell_type": "code",
      "metadata": {
        "id": "86zDLEJKJchD"
      },
      "source": [
        "#df with organisation and corresponding frequency of attacks\n",
        "SA_org_frequency=gtd_SA.groupby('organisation')['eventid'].count().reset_index().rename(columns={'eventid':'attacks'})"
      ],
      "execution_count": null,
      "outputs": []
    },
    {
      "cell_type": "code",
      "metadata": {
        "id": "Z6QC8HcmJdO3"
      },
      "source": [
        "organisation_sth_asia_dict={} #We'll use this dict to generate the wordcloud\n",
        "for group,attacks in zip(SA_org_frequency.organisation,SA_org_frequency.attacks):\n",
        "  organisation_sth_asia_dict[group]=attacks"
      ],
      "execution_count": null,
      "outputs": []
    },
    {
      "cell_type": "code",
      "metadata": {
        "id": "BlrXE_3OJILl"
      },
      "source": [
        "wordcloud = WordCloud(background_color='white')\n",
        "wordcloud.generate_from_frequencies(frequencies=organisation_sth_asia_dict)\n",
        "plt.figure(figsize=(23,7))\n",
        "plt.imshow(wordcloud, interpolation=\"bilinear\")\n",
        "plt.title('wordclouds of organisations dominant over South Asia')\n",
        "plt.axis(\"off\")\n",
        "plt.show()\n",
        "print(\"Word cloud of group attack frequencies across South East Asia\")"
      ],
      "execution_count": null,
      "outputs": []
    },
    {
      "cell_type": "markdown",
      "metadata": {
        "id": "w2sxz5Rx8V2c"
      },
      "source": [
        "**Remarks**\n",
        "1. Unknown faction has the highest contribution to number of attacks in South Asian Region. These could be the attacks, not claimed by any organisation, work of inidviduals or group of individuals who do not belong to a formal organisation.\n",
        "2. Taliban again, comes up at top of the chart in South Asia, followed by CPI-Maoists, LTTE, TTP etc."
      ]
    },
    {
      "cell_type": "markdown",
      "metadata": {
        "id": "gkaCJXNe9FCr"
      },
      "source": [
        "**Targets**"
      ]
    },
    {
      "cell_type": "code",
      "metadata": {
        "id": "WPSDM2CR9ISI"
      },
      "source": [
        "SA_target_types=gtd_SA.groupby('target_type')['eventid'].count().reset_index().rename(columns={'eventid':'attack_count'}).sort_values('attack_count',ascending=False)"
      ],
      "execution_count": null,
      "outputs": []
    },
    {
      "cell_type": "code",
      "metadata": {
        "id": "356avQ1dQ4_H"
      },
      "source": [
        "SA_target=gtd_SA['target_type'].value_counts()\n",
        "global_target"
      ],
      "execution_count": null,
      "outputs": []
    },
    {
      "cell_type": "code",
      "metadata": {
        "id": "QYNc_BsEQ4_J"
      },
      "source": [
        "SA_target.plot(kind='barh')\n",
        "\n",
        "plt.xlabel(\"Number of targets\")\n",
        "plt.ylabel(\"Types of target\")\n",
        "plt.title(\"Terrorist targets over the world\")\n",
        "\n",
        "plt.rcParams['figure.figsize']=(15,10)"
      ],
      "execution_count": null,
      "outputs": []
    },
    {
      "cell_type": "markdown",
      "metadata": {
        "id": "x9e-5Vhe6KHi"
      },
      "source": [
        "**Remarks**\n",
        "\n",
        "1. Private citizens and properties is the most common target for terrorists, followed by Police, Military, Government, and Business."
      ]
    },
    {
      "cell_type": "markdown",
      "metadata": {
        "id": "vLCLrNiaBEc7"
      },
      "source": [
        "#India at a glance\n",
        "Let's look at the situation in India, and where it stands in comparison with other countries."
      ]
    },
    {
      "cell_type": "code",
      "metadata": {
        "id": "wGDJsvw0KWPp"
      },
      "source": [
        "india_timeline=gtd_india.groupby('year')['eventid'].count().reset_index().rename(columns={'eventid':'attack_count'})\n",
        "india_timeline['casuality']=gtd_india.groupby('year')['casuality'].sum().reset_index()['casuality']"
      ],
      "execution_count": null,
      "outputs": []
    },
    {
      "cell_type": "code",
      "metadata": {
        "id": "c_UH9A1_LorE"
      },
      "source": [
        "india_timeline"
      ],
      "execution_count": null,
      "outputs": []
    },
    {
      "cell_type": "code",
      "metadata": {
        "id": "tcK6bczKWySU"
      },
      "source": [
        "# Plotting a Graph to compare the attacks in India and rest of other countries in South Asia (exluding India) over the years\n",
        "plt.figure(figsize=(15,9))\n",
        "\n",
        "plt.plot(india_timeline.attack_count)\n",
        "plt.plot(india_timeline.casuality )\n",
        "\n",
        "\n",
        "plt.legend(['Attacks in South Asia (Excluding India)','Attacks in India'],fontsize = 15)\n",
        "\n",
        "plt.title(\"Comparing the Terrorists Attacks in All South Asian countries (exluding India) with India from 1970-2019\")\n",
        "plt.xlabel('Years')\n",
        "plt.ylabel('Total Attacks')\n",
        "plt.xticks(rotation=90)\n",
        "plt.xticks(np.arange(1970,2018,1))\n",
        "plt.yticks(np.arange(0,5000,200))\n",
        "plt.plot()"
      ],
      "execution_count": null,
      "outputs": []
    },
    {
      "cell_type": "markdown",
      "metadata": {
        "id": "eQpzONOfLWm1"
      },
      "source": [
        "**Remarks**\n",
        "\n",
        "1. India has had over 11960 attacks since 1970, till 2017 and these attacks have resulted in over 48321 casualities\n",
        "3. The attack frequency peaked in the year 2016 with a count of 1025 attacks and the casualities peaked in the year 2006 with a total of 2860 casualities."
      ]
    },
    {
      "cell_type": "markdown",
      "metadata": {
        "id": "TKXaRVV8M7ur"
      },
      "source": [
        "**Major Organisations**"
      ]
    },
    {
      "cell_type": "code",
      "metadata": {
        "id": "jeRT9FjXlpbM"
      },
      "source": [
        "india_org_frequency=gtd_india.groupby('organisation')['eventid'].count().reset_index().rename(columns={'eventid':'attacks'})"
      ],
      "execution_count": null,
      "outputs": []
    },
    {
      "cell_type": "code",
      "metadata": {
        "id": "h-U98iS2lsJu"
      },
      "source": [
        "organisation_india_dict={}\n",
        "for group,attacks in zip(india_org_frequency.organisation,india_org_frequency.attacks):\n",
        "  organisation_india_dict[group]=attacks"
      ],
      "execution_count": null,
      "outputs": []
    },
    {
      "cell_type": "code",
      "metadata": {
        "id": "q1U1ScpRlvk6"
      },
      "source": [
        "wordcloud = WordCloud(background_color='white')\n",
        "wordcloud.generate_from_frequencies(frequencies=organisation_india_dict)\n",
        "plt.figure(figsize=(20,20))\n",
        "plt.imshow(wordcloud, interpolation=\"bilinear\")\n",
        "plt.title('wordclouds of organisations dominant over India')\n",
        "plt.axis(\"off\")\n",
        "plt.show()"
      ],
      "execution_count": null,
      "outputs": []
    },
    {
      "cell_type": "markdown",
      "metadata": {
        "id": "PllgEh0wKTOX"
      },
      "source": [
        "**Remarks**\n",
        "1. Communist Party of India(Maoists) is the most dominant group in India followed by Sikh Extremists, Maoists etc"
      ]
    },
    {
      "cell_type": "markdown",
      "metadata": {
        "id": "jej6t5vANTK8"
      },
      "source": [
        "**Target types**"
      ]
    },
    {
      "cell_type": "code",
      "metadata": {
        "id": "3JmvoNtENvnd"
      },
      "source": [
        "india_target_types=gtd_india.groupby('target_type')['eventid'].count().reset_index().rename(columns={'eventid':'attack_count'}).sort_values('attack_count',ascending=False)"
      ],
      "execution_count": null,
      "outputs": []
    },
    {
      "cell_type": "code",
      "metadata": {
        "id": "WR9WHsbgN5Np"
      },
      "source": [
        "india_target_types"
      ],
      "execution_count": null,
      "outputs": []
    },
    {
      "cell_type": "code",
      "metadata": {
        "id": "17PCDQSNRFpV"
      },
      "source": [
        "india_target=gtd_india['target_type'].value_counts()\n",
        "india_target"
      ],
      "execution_count": null,
      "outputs": []
    },
    {
      "cell_type": "code",
      "metadata": {
        "id": "dDMzeCRKRFpW"
      },
      "source": [
        "india_target.plot(kind='barh')\n",
        "\n",
        "plt.xlabel(\"Number of targets\")\n",
        "plt.ylabel(\"Types of target\")\n",
        "plt.title(\"Terrorist targets over the world\")\n",
        "\n",
        "plt.rcParams['figure.figsize']=(15,10)"
      ],
      "execution_count": null,
      "outputs": []
    },
    {
      "cell_type": "markdown",
      "metadata": {
        "id": "DXkUEKYdOG3T"
      },
      "source": [
        "**Remarks**\n",
        "\n",
        "Private citizens followed by Police, Government, Business and Military are the most sought after targets by the terrorists in India."
      ]
    },
    {
      "cell_type": "markdown",
      "metadata": {
        "id": "w8vNTHlyI9AC"
      },
      "source": [
        "Drilling down State Wise"
      ]
    },
    {
      "cell_type": "code",
      "metadata": {
        "id": "URTLRm3Iw2A3"
      },
      "source": [
        "# Knowing the number of attacks that happened in different states of India\n",
        "indStates_attack =gtd_india['state'].value_counts()\n",
        "indStates_attack.sort_index(inplace=True)\n",
        "indStates_attack"
      ],
      "execution_count": null,
      "outputs": []
    },
    {
      "cell_type": "code",
      "metadata": {
        "id": "2B371YM39XZK"
      },
      "source": [
        "#Creating a series of percentage of attacks happend in every state\n",
        "indStates_attack_percent = indStates_attack.apply(lambda x: (x*100/sum(indStates_attack)))"
      ],
      "execution_count": null,
      "outputs": []
    },
    {
      "cell_type": "code",
      "metadata": {
        "id": "LXVuXGoc9zRu"
      },
      "source": [
        "# Renaming the required series\n",
        "indStates_attack.rename(index='Number_of_Attacks', inplace=True)\n",
        "indStates_attack_percent.rename(index='Percentage_of_Attacks', inplace=True)"
      ],
      "execution_count": null,
      "outputs": []
    },
    {
      "cell_type": "code",
      "metadata": {
        "id": "IYVBRKco98rz"
      },
      "source": [
        "indStates_attack_df = pd.concat([indStates_attack,indStates_attack_percent], axis=1)\n",
        "indStates_attack_df.reset_index(inplace=True)\n",
        "indStates_attack_df.rename(columns={'index':'State/UT'},inplace=True)\n",
        "indStates_attack_df.sort_values(by='Percentage_of_Attacks', ascending=False,inplace=True)"
      ],
      "execution_count": null,
      "outputs": []
    },
    {
      "cell_type": "code",
      "metadata": {
        "id": "r7h7qM3XTS-7"
      },
      "source": [
        "# Creating a required list of percent of attacks that every state encountered for large attacks and combining the rest of attacks into one value for small percentage of attacks\n",
        "other_attacks = []\n",
        "a = 0\n",
        "for i in indStates_attack_percent.sort_values(ascending=False):\n",
        "  if i>5:\n",
        "    other_attacks.append(i)\n",
        "  else:\n",
        "    a = a + i\n",
        "other_attacks.append(a)\n",
        "print(other_attacks)"
      ],
      "execution_count": null,
      "outputs": []
    },
    {
      "cell_type": "code",
      "metadata": {
        "id": "trwoFo-9Vejq"
      },
      "source": [
        "#Creating a list of states that encountered the large number of attacks\n",
        "other_states = 'Attacks in Other States/UTs'\n",
        "labels = list(indStates_attack_percent.sort_values(ascending=False)[:len(other_attacks[:-1])].keys())\n",
        "labels.append(other_states)\n",
        "print(labels)"
      ],
      "execution_count": null,
      "outputs": []
    },
    {
      "cell_type": "code",
      "metadata": {
        "id": "zEm1q3N4U16l"
      },
      "source": [
        "state_percentage=pd.DataFrame(list (zip(labels,other_attacks)),columns=['State/UT','Percentage'])\n",
        "state_percentage"
      ],
      "execution_count": null,
      "outputs": []
    },
    {
      "cell_type": "code",
      "metadata": {
        "id": "L7kBtkQsXFgV"
      },
      "source": [
        "px.pie(state_percentage,values='Percentage',names='State/UT',title='Contribution of States to total attacks in India')"
      ],
      "execution_count": null,
      "outputs": []
    },
    {
      "cell_type": "markdown",
      "metadata": {
        "id": "9EljA07jOPQx"
      },
      "source": [
        "**Remarks**\n",
        "1. We can observe that J&K contributes over 20.5% of the total attacks that has happened in India followed by Assam, Manipur, Chhatisgarh, Punjab, Jharkhand, Bihar and West Bengal.\n",
        "2. Rest of the states together amounts to 25.9 %."
      ]
    },
    {
      "cell_type": "markdown",
      "metadata": {
        "id": "26fDUK4tLvAf"
      },
      "source": [
        "#India Vs South Asia"
      ]
    },
    {
      "cell_type": "code",
      "metadata": {
        "id": "Q2fk1CQQPvs8"
      },
      "source": [
        "# South Asian DataFrame exluding India\n",
        "SA_not_ind = gtd_SA[gtd_SA['country']!='India']\n",
        "\n",
        "# Attacks in South Asia (exluding India) over the years\n",
        "SA_not_ind_timeline = SA_not_ind['year'].value_counts()\n",
        "SA_not_ind_timeline.sort_index(inplace=True)\n",
        "SA_not_ind_timeline\n",
        "\n",
        "# Renaming the series Index for attacks in South Asia (excluding India) over the years.\n",
        "SA_not_ind_timeline.rename(index='Attacks_in_SouthAsia_excluding_India', inplace=True)\n",
        "\n",
        "\n",
        "#Creating a series to know the number of attacks in India over the years\n",
        "ind_attack = gtd_india['country'].value_counts()\n",
        "ind_timeline = gtd_india['year'].value_counts()\n",
        "ind_timeline.sort_index(inplace=True)\n",
        "ind_timeline\n",
        "\n",
        "#Renaming the series Index for attacks in India over the years\n",
        "ind_timeline.rename(index='Attacks_in_India', inplace=True)\n",
        "\n",
        "compare_attacks_df= pd.concat([ind_timeline, SA_not_ind_timeline], axis=1)\n",
        "\n",
        "# Making index the new column named 'Year'\n",
        "compare_attacks_df.reset_index(inplace=True)\n",
        "compare_attacks_df = compare_attacks_df.rename(columns={'index':'Year'})\n",
        "\n",
        "# Replacing NaN values from the \"compare_attacks_df\" and changing the datatype from \"float\" to \"int\"\n",
        "compare_attacks_df['Attacks_in_India'].fillna(0, inplace=True)\n",
        "compare_attacks_df['Attacks_in_SouthAsia_excluding_India'].fillna(0, inplace=True)\n",
        "compare_attacks_df = compare_attacks_df.astype(int)\n",
        "\n",
        "#adding average number of attacks per country in South Asia(Excluding India)\n",
        "compare_attacks_df['SouthAsia_avg_per_country']=compare_attacks_df['Attacks_in_SouthAsia_excluding_India']/8 #since there are 8 non indian countries in South Asia\n",
        "\n",
        "compare_attacks_df"
      ],
      "execution_count": null,
      "outputs": []
    },
    {
      "cell_type": "code",
      "metadata": {
        "id": "LeMjAgmfTodh"
      },
      "source": [
        "# Plotting a Graph to compare the attacks in India and rest of other countries in South Asia (exluding India) over the years\n",
        "plt.figure(figsize=(15,9))\n",
        "\n",
        "plt.plot(compare_attacks_df.Attacks_in_India)\n",
        "plt.plot(compare_attacks_df.Attacks_in_SouthAsia_excluding_India)\n",
        "plt.plot(compare_attacks_df.SouthAsia_avg_per_country)\n",
        "\n",
        "plt.legend(['Attacks in South Asia (Excluding India)','Attacks in India'],fontsize = 15)\n",
        "\n",
        "plt.title(\"Comparing the Terrorists Attacks in All South Asian countries (exluding India) with India from 1970-2019\")\n",
        "plt.xlabel('Years')\n",
        "plt.ylabel('Total Attacks')\n",
        "plt.xticks(rotation=90)\n",
        "plt.xticks(np.arange(1970,2018,1))\n",
        "plt.yticks(np.arange(0,5000,200))\n",
        "plt.plot()"
      ],
      "execution_count": null,
      "outputs": []
    },
    {
      "cell_type": "markdown",
      "metadata": {
        "id": "W_zF5Gt0tuuN"
      },
      "source": [
        "**Remarks**\n",
        "1. It can be observed that there were quite a few instances in late 80s and 90s, where the number of attacks in India alone were higher than the rest of the South Asia Combined.\n",
        "\n",
        "2. India has always had more attacks than average attacks per country in rest of South Asia. "
      ]
    },
    {
      "cell_type": "markdown",
      "metadata": {
        "id": "wZ-whnhiIDXi"
      },
      "source": [
        "#The Legacy: Exploring the terrorist attacks in India, Pakistan and Afghanistan"
      ]
    },
    {
      "cell_type": "markdown",
      "metadata": {
        "id": "_ZbfxqZ5Kv7u"
      },
      "source": [
        "#### India"
      ]
    },
    {
      "cell_type": "code",
      "metadata": {
        "id": "yEgPJ3ZxxGVl"
      },
      "source": [
        "sns.set(style=\"ticks\", context=\"talk\")\n",
        "plt.style.use(\"seaborn\")\n",
        "plt.rcParams['figure.figsize']=[25,10]"
      ],
      "execution_count": null,
      "outputs": []
    },
    {
      "cell_type": "code",
      "metadata": {
        "id": "MBP-ClqVHn2O"
      },
      "source": [
        "# Creating a Data Frame for India\n",
        "ind_df = gtd_global.loc[gtd_global['country']=='India']"
      ],
      "execution_count": null,
      "outputs": []
    },
    {
      "cell_type": "code",
      "metadata": {
        "id": "J4q-sDdsIb1m"
      },
      "source": [
        "#Creating a series to know the number of attacks in India over the years\n",
        "ind_attack = ind_df['country'].value_counts()\n",
        "ind_attack_years = ind_df['year'].value_counts()\n",
        "ind_attack_years.sort_index(inplace=True)\n",
        "ind_attack_years"
      ],
      "execution_count": null,
      "outputs": []
    },
    {
      "cell_type": "code",
      "metadata": {
        "id": "3XELiIhFIpL3"
      },
      "source": [
        "#Plotting a line graph to get the information about the number of attacks in India over the year\n",
        "plt.figure(figsize=(15,9))\n",
        "plt.plot(ind_attack_years)\n",
        "plt.title(\"Terrorist Attacks in India from 1970-2017\")\n",
        "plt.xlabel('Years')\n",
        "plt.ylabel('Total Attacks')\n",
        "plt.xticks(rotation=90)\n",
        "plt.xticks(np.arange(1970,2019,1))\n",
        "plt.yticks(np.arange(0,1100,50))\n",
        "\n",
        "plt.xticks(rotation=90)\n",
        "plt.show()"
      ],
      "execution_count": null,
      "outputs": []
    },
    {
      "cell_type": "markdown",
      "metadata": {
        "id": "XbBuEgClK78c"
      },
      "source": [
        "#### Pakistan"
      ]
    },
    {
      "cell_type": "code",
      "metadata": {
        "id": "aHwaOWlWKKHd"
      },
      "source": [
        "# Creating a DataFrame for Pakistan\n",
        "pak_df = gtd_global.loc[gtd_global['country']=='Pakistan']"
      ],
      "execution_count": null,
      "outputs": []
    },
    {
      "cell_type": "code",
      "metadata": {
        "id": "F73TewZoK51g"
      },
      "source": [
        "# Creating a Series to know the number of attacks in Pakistan over the year\n",
        "pak_attack = pak_df['country'].value_counts()\n",
        "pak_attack_years = pak_df['year'].value_counts()\n",
        "pak_attack_years.sort_index(inplace=True)\n",
        "pak_attack_years"
      ],
      "execution_count": null,
      "outputs": []
    },
    {
      "cell_type": "code",
      "metadata": {
        "id": "TEi6cTYGLP_d"
      },
      "source": [
        "#Plotting a line graph to get the information about the number of attacks in Pakistan over the year\n",
        "plt.figure(figsize=(15,9))\n",
        "plt.plot(pak_attack_years)\n",
        "plt.title(\"Terrorist Attacks in Pakistan from 1970-2017\")\n",
        "plt.xlabel('Years')\n",
        "plt.ylabel('Total Attacks')\n",
        "plt.xticks(rotation=90)\n",
        "plt.xticks(np.arange(1970,2019,1))\n",
        "plt.yticks(np.arange(0,2500,100))\n",
        "\n",
        "plt.xticks(rotation=90)\n",
        "plt.show()"
      ],
      "execution_count": null,
      "outputs": []
    },
    {
      "cell_type": "markdown",
      "metadata": {
        "id": "x_4GWP4LL7qr"
      },
      "source": [
        "#### Afghanistan"
      ]
    },
    {
      "cell_type": "code",
      "metadata": {
        "id": "jV2xwMyTL9Xc"
      },
      "source": [
        "#Creating a Data Frame for Afghanista\n",
        "afg_df = gtd_global.loc[gtd_global['country']=='Afghanistan']"
      ],
      "execution_count": null,
      "outputs": []
    },
    {
      "cell_type": "code",
      "metadata": {
        "id": "4T00AF0zMCqI"
      },
      "source": [
        "#Creating a Series to know the number of attacks in Afghanistan over the years\n",
        "afg_attack = afg_df['country'].value_counts()\n",
        "afg_attack_years = afg_df['year'].value_counts()\n",
        "afg_attack_years.sort_index(inplace=True)\n",
        "afg_attack_years"
      ],
      "execution_count": null,
      "outputs": []
    },
    {
      "cell_type": "code",
      "metadata": {
        "id": "cxEYxd-WMfh9"
      },
      "source": [
        "#Plotting a line graph to get the information about the number of attacks in Afghanistan over the year\n",
        "plt.figure(figsize=(15,9))\n",
        "plt.plot(afg_attack_years)\n",
        "plt.title(\"Terrorist Attacks in Afghanistan from 1970-2017\")\n",
        "plt.xlabel('Years')\n",
        "plt.ylabel('Total Attacks')\n",
        "plt.xticks(rotation=90)\n",
        "plt.xticks(np.arange(1970,2019,1))\n",
        "plt.yticks(np.arange(0,2100,100))\n",
        "\n",
        "plt.xticks(rotation=90)\n",
        "plt.show()"
      ],
      "execution_count": null,
      "outputs": []
    },
    {
      "cell_type": "markdown",
      "metadata": {
        "id": "tJxHJqw8M19S"
      },
      "source": [
        "#### India, Pakistan, Afghanistan: Terrorist attack Data Frame"
      ]
    },
    {
      "cell_type": "code",
      "metadata": {
        "id": "YLr6zZmlMm2l"
      },
      "source": [
        "# Creating a combined Data Frame for India, Pakistan and Afghanistan\n",
        "ind_attack_years_renamed = ind_attack_years.rename(index='Attacks_in_India')\n",
        "pak_attack_years_renamed = pak_attack_years.rename(index='Attacks_in_Pakistan')\n",
        "afg_attack_years_renamed = afg_attack_years.rename(index='Attaks_in_Afghanistan')\n",
        "\n",
        "ind_pak_afg_df = pd.concat([ind_attack_years_renamed, pak_attack_years_renamed, afg_attack_years_renamed], axis=1)"
      ],
      "execution_count": null,
      "outputs": []
    },
    {
      "cell_type": "code",
      "metadata": {
        "id": "VZzwDssdNTl0"
      },
      "source": [
        "# Filling the NaN values from the \"ind_pak_afg_df\"\n",
        "ind_pak_afg_df['Attacks_in_India'].fillna(0, inplace=True)\n",
        "ind_pak_afg_df['Attacks_in_Pakistan'].fillna(0, inplace=True)\n",
        "ind_pak_afg_df['Attaks_in_Afghanistan'].fillna(0, inplace=True)"
      ],
      "execution_count": null,
      "outputs": []
    },
    {
      "cell_type": "code",
      "metadata": {
        "id": "ECwOzqCSNSFy"
      },
      "source": [
        "# Converting the 'Float' datatype of DataFrame into 'int' datatype\n",
        "ind_pak_afg_df = ind_pak_afg_df.astype(int)"
      ],
      "execution_count": null,
      "outputs": []
    },
    {
      "cell_type": "code",
      "metadata": {
        "id": "oNu9C_HbNlao"
      },
      "source": [
        "ind_pak_afg_df"
      ],
      "execution_count": null,
      "outputs": []
    },
    {
      "cell_type": "code",
      "metadata": {
        "id": "S6rV3285NnHf"
      },
      "source": [
        "# Plotting the graph for the attacks in India, Pakistan and Afghanistan over the year\n",
        "plt.figure(figsize=(15,9))\n",
        "\n",
        "plt.plot(ind_pak_afg_df)\n",
        "plt.legend(['India','Pakistan','Afghanistan'])\n",
        "\n",
        "plt.title(\"Terrorists Attacks in India, Pakistan and Afghanistan from 1970-2019\")\n",
        "plt.xlabel('Years')\n",
        "plt.ylabel('Total Attacks')\n",
        "plt.xticks(rotation=90)\n",
        "plt.xticks(np.arange(1970,2019,1))\n",
        "plt.yticks(np.arange(0,2500,100))\n",
        "plt.plot()"
      ],
      "execution_count": null,
      "outputs": []
    },
    {
      "cell_type": "markdown",
      "metadata": {
        "id": "uUJ7Y-IPPZEu"
      },
      "source": [
        "#### Ploting a Stack Plot for attacks in India, Pakistan and Afghanistan\n"
      ]
    },
    {
      "cell_type": "code",
      "metadata": {
        "id": "yUFyReAiNx7g"
      },
      "source": [
        "#Getting all the required lists\n",
        "x_label = list(ind_pak_afg_df.index)\n",
        "ind_list = list(ind_pak_afg_df['Attacks_in_India'])\n",
        "pak_list = list(ind_pak_afg_df['Attacks_in_Pakistan'])\n",
        "afg_list = list(ind_pak_afg_df['Attaks_in_Afghanistan'])"
      ],
      "execution_count": null,
      "outputs": []
    },
    {
      "cell_type": "code",
      "metadata": {
        "id": "nZOMdrOMPlB2"
      },
      "source": [
        "# Stack Plot for attacks\n",
        "plt.figure(figsize=(15,9))\n",
        "labels = ['India', 'Pakistan', 'Afghanistan']\n",
        "colors = ['b','g','r']\n",
        "plt.stackplot(x_label, ind_list, pak_list, afg_list, labels = labels, colors = colors)\n",
        "plt.legend(loc='upper left')\n",
        "plt.xticks(rotation=90)\n",
        "plt.xticks(np.arange(1970,2020,1))\n",
        "plt.yticks(np.arange(0,5000,500))\n",
        "plt.plot()"
      ],
      "execution_count": null,
      "outputs": []
    },
    {
      "cell_type": "markdown",
      "metadata": {
        "id": "-6qqtPkSf3XK"
      },
      "source": [
        "#Success\n",
        "\n",
        "**Success Parameters**\n",
        "\n",
        "All the attacks in the data set are classified under 8 different types of attacks:\n",
        "\n",
        "1. Assassination\t\n",
        "2. Armed Assault\n",
        "3. Bombing/Explosion\t\n",
        "4. Facility/Infrastructure Attack\t\n",
        "5. Hijacking\t\n",
        "6. Hostage Taking (Kidnapping)\t\n",
        "7. Hostage Taking (Barricade Incident)\t\n",
        "8. Unarmed Assault\n",
        "9. Unknown\n",
        "\n",
        "The parameters that define whether or not these attack types were succesful differs from one to other. Let's have a look at success parameter of each attack type:\n",
        "\n",
        "1.**ASSASSINATION**\n",
        "\n",
        "In order for an assassination to be successful, the target of the assassination must be killed. For example, even if an attack kills numerous people but not the target, it is an unsuccessful assassination.\n",
        "\n",
        "2.**ARMED ASSAULT**\n",
        "\n",
        "An armed assault is determined to be successful if the assault takes place and if a target is hit (including people and/or property). Unsuccessful armed assaults are those in which the perpetrators attack and do not hit the target. An armed assault is also unsuccessful if the perpetrators are apprehended on their way to commit the assault. To make this determination, however, there must be information to indicate\n",
        "that an actual assault was imminent.\n",
        "\n",
        "3.**BOMBING/EXPLOSION**\n",
        "\n",
        "A bombing is successful if the bomb or explosive device detonates. Bombings are considered unsuccessful if they do not detonate. The success or failure of the bombing is not based on whether it hit the intended target.\n",
        "\n",
        "4.**HIJACKING**\n",
        "\n",
        "A hijacking is successful if the hijackers assume control of the vehicle at any point, whereas a hijacking is unsuccessful if the hijackers fail to assume control of the vehicle. The success or failure of the hijacking is not based on whether the vehicle reached the intended destination of the hijackers.\n",
        "\n",
        "5.**HOSTAGE TAKING (BARRICADE INCIDENT)**\n",
        "\n",
        "A barricade incident is successful if the hostage takers assume control of the individuals at any point, whereas a barricade incident is unsuccessful if the hostage takers fail to assume control of the individuals.\n",
        "\n",
        "6.**HOSTAGE TAKING (KIDNAPPING)**\n",
        "\n",
        "A kidnapping is successful if the kidnappers assume control of the individuals at any point, whereas a kidnapping is unsuccessful if the kidnappers fail to assume control of the individuals.\n",
        "\n",
        "7.**FACILITY / INFRASTRUCTURE ATTACK**\n",
        "\n",
        "A facility attack is determined to be successful if the facility is damaged. If the facility has not been damaged, then the attack is unsuccessful.\n",
        "\n",
        "8.**UNARMED ASSAULT**\n",
        "\n",
        "An unarmed assault is determined to be successful if there is a victim who has been injured. Unarmed assaults that are unsuccessful are  those in which the perpetrators do not injure anyone. An unarmed assault is also unsuccessful if the perpetrators are apprehended when on their way to commit the assault. To make this determination, however, there must be information to indicate that an assault\n",
        "was imminent.\n",
        "\n",
        "\n",
        "\n",
        "---\n",
        "Source: GTD Codebook.\n",
        "\n"
      ]
    },
    {
      "cell_type": "markdown",
      "metadata": {
        "id": "SRArJwSUgXJ-"
      },
      "source": [
        "Which organisation has the highest success rate?"
      ]
    },
    {
      "cell_type": "code",
      "metadata": {
        "id": "E6FyKjI4g7-E"
      },
      "source": [
        "sns.set(style=\"ticks\", context=\"talk\")\n",
        "plt.style.use(\"dark_background\")\n",
        "plt.rcParams['figure.figsize']=[25,10]"
      ],
      "execution_count": null,
      "outputs": []
    },
    {
      "cell_type": "code",
      "metadata": {
        "id": "mHltgGX5hAee"
      },
      "source": [
        "#Global\n",
        "sns.countplot(data=gtd_global,x='year',hue='success',color='brown')\n",
        "plt.title('Succesful and unsuccesful attacks, all over the globe, over the years')\n",
        "plt.xticks(rotation=90)\n",
        "plt.show()\n"
      ],
      "execution_count": null,
      "outputs": []
    },
    {
      "cell_type": "code",
      "metadata": {
        "id": "u8TZH8RTipKE"
      },
      "source": [
        "#South Asia\n",
        "sns.countplot(x='year',hue='success',data=gtd_SA,color='brown')\n",
        "plt.title('Succesful and unsuccesful attacks, all over South Asia, over the years')\n",
        "plt.xticks(rotation=90)\n",
        "plt.show()"
      ],
      "execution_count": null,
      "outputs": []
    },
    {
      "cell_type": "code",
      "metadata": {
        "id": "fmweNx0biy4A"
      },
      "source": [
        "#India\n",
        "sns.countplot(x='year',hue='success',data=gtd_india,color='brown')\n",
        "plt.title('Succesful and unsuccesful attacks, all over India, over the years')\n",
        "plt.xticks(rotation=90)\n",
        "plt.show()\n"
      ],
      "execution_count": null,
      "outputs": []
    },
    {
      "cell_type": "markdown",
      "metadata": {
        "id": "0CGaG3YJjGrP"
      },
      "source": [
        "**Remarks**\n",
        "\n",
        "1. A common trend can be observced at all three levels that the number of succesful attacks have been on a gradual increase over the time.\n",
        "2. But the unsuccesful attacks, or in other words our ability to render those attacks unsuccesful has not been able to keep up with the rise in terrorism. In brief one could say, Terrorism has been winning over the years."
      ]
    },
    {
      "cell_type": "markdown",
      "metadata": {
        "id": "nnRX9wnNjerY"
      },
      "source": [
        "**Success rates of organisation?**\n",
        "Are the ones with high number of attacks more succesful too?\n"
      ]
    },
    {
      "cell_type": "code",
      "metadata": {
        "id": "9TK6ULsLzbxw"
      },
      "source": [
        "#Sorting the attack fequencies in descending order\n",
        "global_org_frequency.sort_values('attacks',ascending=False,inplace=True)\n",
        "india_org_frequency.sort_values('attacks',ascending=False,inplace=True)\n",
        "SA_org_frequency.sort_values('attacks',ascending=False,inplace=True)"
      ],
      "execution_count": null,
      "outputs": []
    },
    {
      "cell_type": "code",
      "metadata": {
        "id": "2Mi8d1S5z6IG"
      },
      "source": [
        "#creating df with number of succesful attacks\n",
        "global_org_success=gtd_global.groupby('organisation')['success'].sum().reset_index().sort_values('success',ascending=False)#Since the succesful attacks has been represented by \n",
        "                                                                                                                           #1,the sum woud give us total number of succesful attacks\n",
        "SA_org_success=gtd_SA.groupby('organisation')['success'].sum().reset_index().sort_values('success',ascending=False)\n",
        "\n",
        "india_org_success=gtd_india.groupby('organisation')['success'].sum().reset_index().sort_values('success',ascending=False)"
      ],
      "execution_count": null,
      "outputs": []
    },
    {
      "cell_type": "code",
      "metadata": {
        "id": "vU3g1sA20lMK"
      },
      "source": [
        "#reseting index of the organisation frequency df and group_success_df to be able to merge df going forwards\n",
        "global_org_frequency.reset_index(drop=True,inplace=True)\n",
        "global_org_success.reset_index(drop=True,inplace=True)\n",
        "\n",
        "SA_org_frequency.reset_index(drop=True,inplace=True)\n",
        "SA_org_success.reset_index(drop=True,inplace=True)\n",
        "\n",
        "india_org_frequency.reset_index(drop=True,inplace=True)\n",
        "india_org_success.reset_index(drop=True, inplace=True)"
      ],
      "execution_count": null,
      "outputs": []
    },
    {
      "cell_type": "code",
      "metadata": {
        "id": "5Uh-DNED0wqq"
      },
      "source": [
        "#adding attack column to the succes data frame \n",
        "global_org_success['attacks']=global_org_frequency.attacks\n",
        "SA_org_success['attacks']=SA_org_frequency.attacks\n",
        "india_org_success['attacks']=india_org_frequency.attacks"
      ],
      "execution_count": null,
      "outputs": []
    },
    {
      "cell_type": "code",
      "metadata": {
        "id": "5Jf3U-pR04uy"
      },
      "source": [
        "#sorting on basis of oganisation to maintain consistency. We will sort the df on basis of attacks later on when everything is settled\n",
        "global_org_success.sort_values('organisation',inplace=True)\n",
        "SA_org_success.sort_values('organisation',inplace=True)\n",
        "india_org_success.sort_values('organisation',inplace=True)"
      ],
      "execution_count": null,
      "outputs": []
    },
    {
      "cell_type": "code",
      "metadata": {
        "id": "fVhs04Ih1DxL"
      },
      "source": [
        "#calculating succes rate= number of succesful attacks / number of total attacks * 100\n",
        "global_org_success['succes_rate_percentage']=round((global_org_success.success/global_org_success.attacks)*100,2)\n",
        "india_org_success['succes_rate_percentage']=round((india_org_success.success/india_org_success.attacks)*100,2)\n",
        "SA_org_success['succes_rate_percentage']=round((SA_org_success.success/SA_org_success.attacks)*100,2)"
      ],
      "execution_count": null,
      "outputs": []
    },
    {
      "cell_type": "markdown",
      "metadata": {
        "id": "yKE3woOp2HLu"
      },
      "source": [
        "Now our succes rate dataframe is ready. Let's take a look at one of them"
      ]
    },
    {
      "cell_type": "code",
      "metadata": {
        "id": "WkcFYYz-2FY-"
      },
      "source": [
        "global_org_success.head()"
      ],
      "execution_count": null,
      "outputs": []
    },
    {
      "cell_type": "markdown",
      "metadata": {
        "id": "ZhD3Ezew3l-q"
      },
      "source": [
        "So the dataframe is currently sorted on basis of organisation name. We need a more sensible parameter instead. We can look at the organisations with highest succes rate probably?\n",
        "But there are quite a few organisations with very low number of attack frequency, and they are bound to have a high succes rate owing to that. For instance, an organisation has carried out 1 attack and that's succesful! WHOA! 100% succes rate! (No, not quite so :/). So success rate isn't the parameter we should be sorting them on.\n",
        "\n",
        "Attack frequency is. We should be looking at succes rate of organisation with high number of attacks. Let's get to that."
      ]
    },
    {
      "cell_type": "code",
      "metadata": {
        "id": "PN3sLQTv1JEq"
      },
      "source": [
        "print(\"Groups with highest attack frequency over the globe, and their success rate\")\n",
        "global_org_success.sort_values('attacks',ascending=False,inplace=True)\n",
        "global_org_success.head(6)"
      ],
      "execution_count": null,
      "outputs": []
    },
    {
      "cell_type": "code",
      "metadata": {
        "id": "w6GdKCQq5DzQ"
      },
      "source": [
        "print(\"Groups with highest attack frequency over south Asia, and their success rate\")\n",
        "SA_org_success.sort_values('attacks',ascending=False,inplace=True)\n",
        "SA_org_success.head(6)"
      ],
      "execution_count": null,
      "outputs": []
    },
    {
      "cell_type": "code",
      "metadata": {
        "id": "R-ZCIUh05GL6"
      },
      "source": [
        "print(\"Groups with top 5 highest attack frequency in India, and their success rate\")\n",
        "india_org_success.sort_values('attacks',ascending=False,inplace=True)\n",
        "india_org_success.head(6)"
      ],
      "execution_count": null,
      "outputs": []
    },
    {
      "cell_type": "markdown",
      "metadata": {
        "id": "OumDlLaJNdU_"
      },
      "source": [
        "Let's put up some visualisations for these"
      ]
    },
    {
      "cell_type": "code",
      "metadata": {
        "id": "J0J34ArJqon4"
      },
      "source": [
        "plt.style.use('seaborn-bright')"
      ],
      "execution_count": null,
      "outputs": []
    },
    {
      "cell_type": "code",
      "metadata": {
        "id": "LSdwWK8jNiGt"
      },
      "source": [
        "#plotting succes rates across the globe, South Asia and India\n",
        "plt.rcParams['figure.figsize']=[15,5]\n",
        "\n",
        "#global\n",
        "sns.barplot(x=global_org_success[:6].organisation, #bar plot\n",
        "            y=global_org_success[:6].succes_rate_percentage,\n",
        "            palette='Dark2')\n",
        "plt.title('Success rate of top 6 organisations globally')\n",
        "plt.xlabel(\"Organisations\")\n",
        "plt.ylabel(\"Success rate\")\n",
        "plt.xticks(rotation=90)\n",
        "plt.show()\n",
        "\n",
        "table_global = go.Figure(data=[go.Table(  #tabular representation\n",
        "    header=dict(values=list(global_org_success.columns),\n",
        "                fill_color='pink',\n",
        "                align='left'),\n",
        "    cells=dict(values=[global_org_success[:6].organisation, global_org_success[:6].success, global_org_success[:6].attacks,global_org_success[:6].succes_rate_percentage],\n",
        "               fill_color='lavender',\n",
        "               align='left'))\n",
        "])\n",
        "table_global.show()\n",
        "\n"
      ],
      "execution_count": null,
      "outputs": []
    },
    {
      "cell_type": "code",
      "metadata": {
        "id": "EAPoT9NVQFyg"
      },
      "source": [
        "#south asian\n",
        "sns.barplot(x=SA_org_success[:6].organisation,y=SA_org_success[:6].succes_rate_percentage,palette='Dark2')\n",
        "plt.title('Success rate of top 6 organisations in South East Asia')\n",
        "plt.xlabel(\"Organisations\")\n",
        "plt.ylabel(\"Success rate\")\n",
        "plt.xticks(rotation=90)\n",
        "plt.show()\n",
        "\n",
        "table_SA = go.Figure(data=[go.Table(\n",
        "    header=dict(values=list(SA_org_success.columns),\n",
        "                fill_color='pink',\n",
        "                align='left'),\n",
        "    cells=dict(values=[SA_org_success[:6].organisation, SA_org_success[:6].success, SA_org_success[:6].attacks,SA_org_success[:6].succes_rate_percentage],\n",
        "               fill_color='lavender',\n",
        "               align='left'))\n",
        "])\n",
        "table_SA.show()"
      ],
      "execution_count": null,
      "outputs": []
    },
    {
      "cell_type": "code",
      "metadata": {
        "id": "JjIQr_sGRCqw"
      },
      "source": [
        "#India\n",
        "sns.barplot(x=india_org_success[:6].organisation,y=india_org_success[:6].succes_rate_percentage,palette='Dark2')\n",
        "plt.title('Success rate of top 6 organizations in India')\n",
        "plt.xlabel(\"Organizations\")\n",
        "plt.ylabel(\"Success rate\")\n",
        "plt.xticks(rotation=90)\n",
        "plt.show()\n",
        "\n",
        "table_india = go.Figure(data=[go.Table(\n",
        "    header=dict(values=list(india_org_success.columns),\n",
        "                fill_color='pink',\n",
        "                align='left'),\n",
        "    cells=dict(values=[india_org_success[:6].organisation, india_org_success[:6].success, india_org_success[:6].attacks,india_org_success[:6].succes_rate_percentage],\n",
        "               fill_color='lavender',\n",
        "               align='left'))\n",
        "])\n",
        "table_india.show()"
      ],
      "execution_count": null,
      "outputs": []
    },
    {
      "cell_type": "markdown",
      "metadata": {
        "id": "sye_pbp5R59W"
      },
      "source": [
        "**Remarks:**\n",
        "From the analysis, we can see that the organisations with highest attack frequency are not essentially the most efficient ones. For instance, Farabundo Marti National Liberation Front (FMLN) on a global level has put up a significant 3351 number of attacks and has a success rate of over 98%.\n",
        "\n",
        "So let's say if FMLN gets to scale it's resources to increase there attack frequency, they might prove to be more damage inducing in coming times. So these are the organisations we need to look out for in the future.\n",
        "\n",
        "Same goes for Shining Path (SL) at global, Liberation Tigers of Tamil Eelam (LTTE) at south asian, and Sikh Extremists at Indian level, which has succes rates of over 90%."
      ]
    },
    {
      "cell_type": "markdown",
      "metadata": {
        "id": "AmsRV1Bwvhhg"
      },
      "source": [
        "**Success rates of different attack types**.\n",
        "\n",
        "What is the succes rate that different attack types have yielded historically?"
      ]
    },
    {
      "cell_type": "markdown",
      "metadata": {
        "id": "DR-JORV42leV"
      },
      "source": [
        "**Global**"
      ]
    },
    {
      "cell_type": "code",
      "metadata": {
        "id": "9XDK9m9e2uou"
      },
      "source": [
        "#creating df grouped by attack type and there frequency\n",
        "global_attacktype_frequency=gtd_global.groupby('attack_type')['eventid'].count().reset_index().rename(columns={'eventid':'attacks'})\n",
        "\n",
        "#creating df of attack types that were successful\n",
        "global_attacktype_success=gtd_global.groupby('attack_type')['success'].sum().reset_index().rename(columns={'success':'succesful_attacks'})\n",
        "\n",
        "#resetting index \n",
        "global_attacktype_success.reset_index(drop=True,inplace=True)\n",
        "global_attacktype_frequency.reset_index(drop=True,inplace=True)"
      ],
      "execution_count": null,
      "outputs": []
    },
    {
      "cell_type": "code",
      "metadata": {
        "id": "Uv_Jkkw82zMH"
      },
      "source": [
        "#sorting according to attack type so that total attacks and succesful attacks can match up\n",
        "global_attacktype_frequency.sort_values('attack_type',inplace=True)\n",
        "global_attacktype_success.sort_values('attack_type',inplace=True)"
      ],
      "execution_count": null,
      "outputs": []
    },
    {
      "cell_type": "code",
      "metadata": {
        "id": "pNQzh3sU9TfE"
      },
      "source": [
        "#adding total attacks column to succesful_attacks df\n",
        "global_attacktype_success['total_attacks']=global_attacktype_frequency['attacks']"
      ],
      "execution_count": null,
      "outputs": []
    },
    {
      "cell_type": "code",
      "metadata": {
        "id": "36x8X8BB9dYp"
      },
      "source": [
        "#adding succes rate columns to the succesful attacks df\n",
        "global_attacktype_success['succes_rate_percentage']= round((global_attacktype_success.succesful_attacks / global_attacktype_success.total_attacks) *100,2)"
      ],
      "execution_count": null,
      "outputs": []
    },
    {
      "cell_type": "code",
      "metadata": {
        "id": "NAtgVJJP9-Xn"
      },
      "source": [
        "#sorting by success rate\n",
        "global_attacktype_success.sort_values('succes_rate_percentage',ascending=False,inplace=True)"
      ],
      "execution_count": null,
      "outputs": []
    },
    {
      "cell_type": "code",
      "metadata": {
        "id": "fM3iK2H3-CCh"
      },
      "source": [
        "global_attacktype_success"
      ],
      "execution_count": null,
      "outputs": []
    },
    {
      "cell_type": "markdown",
      "metadata": {
        "id": "_8afR9Z_-Ivf"
      },
      "source": [
        "**South Asia**\n"
      ]
    },
    {
      "cell_type": "code",
      "metadata": {
        "id": "TouOIMZi-V0z"
      },
      "source": [
        "#creating df grouped by attack type and there frequency\n",
        "SA_attacktype_frequency=gtd_SA.groupby('attack_type')['eventid'].count().reset_index().rename(columns={'eventid':'attacks'})\n",
        "\n",
        "#creating df of attack types that were successful\n",
        "SA_attacktype_success=gtd_SA.groupby('attack_type')['success'].sum().reset_index().rename(columns={'success':'succesful_attacks'})\n",
        "\n",
        "#resetting index \n",
        "SA_attacktype_success.reset_index(drop=True,inplace=True)\n",
        "SA_attacktype_frequency.reset_index(drop=True,inplace=True)"
      ],
      "execution_count": null,
      "outputs": []
    },
    {
      "cell_type": "code",
      "metadata": {
        "id": "naflv7Qi-V01"
      },
      "source": [
        "#sorting according to attack type so that total attacks and succesful attacks can match up\n",
        "SA_attacktype_frequency.sort_values('attack_type',inplace=True)\n",
        "SA_attacktype_success.sort_values('attack_type',inplace=True)"
      ],
      "execution_count": null,
      "outputs": []
    },
    {
      "cell_type": "code",
      "metadata": {
        "id": "QmwpAZ-i-V01"
      },
      "source": [
        "#adding total attacks column to succesful_attacks df\n",
        "SA_attacktype_success['total_attacks']=SA_attacktype_frequency['attacks']"
      ],
      "execution_count": null,
      "outputs": []
    },
    {
      "cell_type": "code",
      "metadata": {
        "id": "1Ln1N7g6-V01"
      },
      "source": [
        "#adding succes rate columns to the succesful attacks df\n",
        "SA_attacktype_success['succes_rate_percentage']= round((SA_attacktype_success.succesful_attacks / SA_attacktype_success.total_attacks) *100,2)"
      ],
      "execution_count": null,
      "outputs": []
    },
    {
      "cell_type": "code",
      "metadata": {
        "id": "yRvUFnZt-V02"
      },
      "source": [
        "#sorting by success rate\n",
        "SA_attacktype_success.sort_values('succes_rate_percentage',ascending=False,inplace=True)"
      ],
      "execution_count": null,
      "outputs": []
    },
    {
      "cell_type": "code",
      "metadata": {
        "id": "aqSegx0A-y1v"
      },
      "source": [
        "SA_attacktype_success"
      ],
      "execution_count": null,
      "outputs": []
    },
    {
      "cell_type": "markdown",
      "metadata": {
        "id": "DcpBgjHV_Sfa"
      },
      "source": [
        "**India**"
      ]
    },
    {
      "cell_type": "code",
      "metadata": {
        "id": "T3-ysSQ1_UgM"
      },
      "source": [
        "#creating df grouped by attack type and there frequency\n",
        "india_attacktype_frequency=gtd_india.groupby('attack_type')['eventid'].count().reset_index().rename(columns={'eventid':'attacks'})\n",
        "\n",
        "#creating df of attack types that were successful\n",
        "india_attacktype_success=gtd_india.groupby('attack_type')['success'].sum().reset_index().rename(columns={'success':'succesful_attacks'})\n",
        "\n",
        "#resetting index \n",
        "india_attacktype_success.reset_index(drop=True,inplace=True)\n",
        "india_attacktype_frequency.reset_index(drop=True,inplace=True)"
      ],
      "execution_count": null,
      "outputs": []
    },
    {
      "cell_type": "code",
      "metadata": {
        "id": "ZXTG5Xkt_UgN"
      },
      "source": [
        "#sorting according to attack type so that total attacks and succesful attacks can match up\n",
        "india_attacktype_frequency.sort_values('attack_type',inplace=True)\n",
        "india_attacktype_success.sort_values('attack_type',inplace=True)"
      ],
      "execution_count": null,
      "outputs": []
    },
    {
      "cell_type": "code",
      "metadata": {
        "id": "dz96SWlB_UgO"
      },
      "source": [
        "#adding total attacks column to succesful_attacks df\n",
        "india_attacktype_success['total_attacks']=india_attacktype_frequency['attacks']"
      ],
      "execution_count": null,
      "outputs": []
    },
    {
      "cell_type": "code",
      "metadata": {
        "id": "RDfrJoqE_UgO"
      },
      "source": [
        "#adding succes rate columns to the succesful attacks df\n",
        "india_attacktype_success['succes_rate_percentage']= round((india_attacktype_success.succesful_attacks / india_attacktype_success.total_attacks) *100,2)"
      ],
      "execution_count": null,
      "outputs": []
    },
    {
      "cell_type": "code",
      "metadata": {
        "id": "QXWVDtqR_UgP"
      },
      "source": [
        "#sorting by success rate\n",
        "india_attacktype_success.sort_values('succes_rate_percentage',ascending=False,inplace=True)"
      ],
      "execution_count": null,
      "outputs": []
    },
    {
      "cell_type": "code",
      "metadata": {
        "id": "1ztg7Djn_ymR"
      },
      "source": [
        "india_attacktype_success"
      ],
      "execution_count": null,
      "outputs": []
    },
    {
      "cell_type": "code",
      "metadata": {
        "id": "-gkcasq9jvnq"
      },
      "source": [
        "gtd_india.groupby('attack_type')['success'].sum()"
      ],
      "execution_count": null,
      "outputs": []
    },
    {
      "cell_type": "code",
      "metadata": {
        "id": "fiCt_aiKkZWn"
      },
      "source": [
        "gtd_india.groupby('attack_type')['eventid'].count()"
      ],
      "execution_count": null,
      "outputs": []
    },
    {
      "cell_type": "code",
      "metadata": {
        "id": "SddzHp3Zime4"
      },
      "source": [
        "#adding casuality column to the dataframes for being able to compare the casualities contributed by the attack types\n",
        "global_attacktype_success['casuality']=gtd_global.groupby('attack_type')['casuality'].sum().reset_index()['casuality']\n",
        "SA_attacktype_success['casuality']=gtd_SA.groupby('attack_type')['casuality'].sum().reset_index()['casuality']\n",
        "india_attacktype_success['casuality']= gtd_india.groupby('attack_type')['casuality'].sum().reset_index()['casuality']\n",
        "\n"
      ],
      "execution_count": null,
      "outputs": []
    },
    {
      "cell_type": "code",
      "metadata": {
        "id": "uzX4x9RR_7Ux"
      },
      "source": [
        "fig_global=px.bar(data_frame=global_attacktype_success,\n",
        "                  template='plotly_dark',\n",
        "                  x='attack_type',y='succes_rate_percentage',\n",
        "                  hover_data=['casuality'],color='casuality',\n",
        "                  color_continuous_scale=px.colors.sequential.Darkmint,\n",
        "                  title='Succes rates of attack types over the globe')\n",
        "\n",
        "\n",
        "fig_SA=px.bar(data_frame=SA_attacktype_success,\n",
        "              template='plotly_dark',\n",
        "              x='attack_type',y='succes_rate_percentage',\n",
        "              hover_data=['casuality'],color='casuality',\n",
        "              color_continuous_scale=px.colors.sequential.Darkmint,\n",
        "              title='Succes rates of attack types over South Asia')\n",
        "\n",
        "\n",
        "fig_india=px.bar(data_frame=india_attacktype_success,\n",
        "                 template='plotly_dark',\n",
        "                 x='attack_type',y='succes_rate_percentage',\n",
        "                 hover_data=['casuality'],color='casuality',\n",
        "                 color_continuous_scale=px.colors.sequential.Darkmint,\n",
        "                 title='Succes rates of attack types in India')\n",
        "\n",
        "fig_global.show()\n",
        "fig_SA.show()\n",
        "fig_india.show()#adding casuality column to the dataframes for being able to compare the casualities contributed by the attack types\n",
        "global_attacktype_success['casuality']=gtd_global.groupby('attack_type')['casuality'].sum().reset_index()['casuality']\n",
        "SA_attacktype_success['casuality']=gtd_SA.groupby('attack_type')['casuality'].sum().reset_index()['casuality']\n",
        "india_attacktype_success['casuality']= gtd_india.groupby('attack_type')['casuality'].sum().reset_index()['casuality']\n",
        "\n"
      ],
      "execution_count": null,
      "outputs": []
    },
    {
      "cell_type": "markdown",
      "metadata": {
        "id": "pU9rQw-OlrD-"
      },
      "source": [
        "**Remarks**\n",
        "\n",
        "1. Hostage Taking(Barricade Incident), Hostage Taking(Kidnapping) has proved to be the most succesful attack type at both global and South Asian level and result in comparitively low casualities than other attack types. This can be attributed to the very nature of the attack type. Since the terrorist has the leverage of hostages, it pressurises the concerned authority to meet with the demands, hence resulting in high success rates.\n",
        "\n",
        "\n",
        "2. Bombing and explosion, which is amongst the most used attack type, and accounts for most casualities, has yielded low success rates at all three levels. The success of an bombing/explosion attack is determined by whether the explosive detonated or not.\n",
        "\n"
      ]
    },
    {
      "cell_type": "markdown",
      "metadata": {
        "id": "KZMD3DJ04Mn7"
      },
      "source": [
        "#Actions of major groups\n",
        "\n",
        "1. Taliban has come out to be the organisation with most attack frequencies at global as well as South Asian level and CPI(Maoist) in India.\n",
        "2. How much ground has these two organisations covered in terms of number of countries?\n",
        "3. What are the attack types they predominantly use and what are the casuality statisitics for these organisation?\n",
        "\n",
        "These statistics can be visually represented very efficiently using an interactive sun burst chart from plotly.express library. Let's have a look."
      ]
    },
    {
      "cell_type": "code",
      "metadata": {
        "id": "7R5AirfX51Pf"
      },
      "source": [
        "#creating dataframes exclusive to Taliban and Maoists\n",
        "gtd_global_taliban=gtd_global[gtd_global.organisation=='Taliban']# a subset of global dataset exclusive to Taliban\n",
        "gtd_global_maoist=gtd_global[gtd_global.organisation=='Communist Party of India - Maoist (CPI-Maoist)'] #a subset of global dataset exclusive to CPI-Maoist"
      ],
      "execution_count": null,
      "outputs": []
    },
    {
      "cell_type": "code",
      "metadata": {
        "id": "9mmAUlkxjG12"
      },
      "source": [
        "fig_taliban=px.sunburst(gtd_global_taliban,values='casuality',\n",
        "                path=['country','attack_type','weapon_type'],\n",
        "                color_discrete_sequence=px.colors.qualitative.Dark24,\n",
        "                title='Fatalities caused by Taliban in different countries, grouped by attack types, and weapon types',\n",
        "                template='plotly_dark')\n",
        "\n",
        "fig_maoists=px.sunburst(gtd_global_maoist,values='casuality',\n",
        "                path=['country','attack_type','weapon_type'],\n",
        "                color_discrete_sequence=px.colors.qualitative.Dark24,\n",
        "                title='Fatalities caused by Maoists in different countries, grouped by attack types, and weapon types',\n",
        "                template='plotly_dark')\n",
        "\n",
        "fig_taliban.show()\n",
        "fig_maoists.show()"
      ],
      "execution_count": null,
      "outputs": []
    },
    {
      "cell_type": "markdown",
      "metadata": {
        "id": "Y_67NYNtB7dj"
      },
      "source": [
        "Directions:\n",
        "\n",
        "* In the above chart, the innermost circle represents the countries the organisation have caused casualities in. The area is determined by the number of casualities.\n",
        "\n",
        "\n",
        "*   The second cocentric circle represents the attack type used to cause the casualities and finally the outermost circle represents the weapon type used\n",
        "*   You can hover over the area to see the exact figures and click on area to generate sun burst chart of that specific parameter\n",
        "\n",
        "\n",
        "\n",
        "  \n",
        "\n",
        "\n",
        "\n"
      ]
    },
    {
      "cell_type": "markdown",
      "metadata": {
        "id": "iRtmVcm57dXo"
      },
      "source": [
        "**Remarks**\n",
        "\n",
        "**Taliban**:\n",
        "1. It's interesting to note that, even though Taliban has the highest contribution\n",
        "to the total number of attacks in the world, they have caused casulaities in a total of just 3 countries: Afghanistan(57140 casualities), Pakistan (197 casualites) and Turkmenistan (5 casualities).\n",
        "2. Taliban has caused most casualities using Bombing/Explosions (24650) followed by Armed Assaults (18901) and unknown attack types(7149).\n",
        "3. Explosives (24639) and Firearms(17466) are the most common weapon types used by Taliban.\n",
        "\n",
        "\n",
        "**CPI (Maoists):**\n",
        "1. As expected, CPI-Maoists are most active in India(4007 casualities), and 2 casuality in Nepal.\n",
        "2. They have caused most casualities using Armed Assaults(1848) followed by Bombing/Explosions (1164) and unknown attack types(437)\n",
        "3. Firearms(1483) and Explosvies(1160) again, are the most common weapon types used by this organisation as well.\n"
      ]
    },
    {
      "cell_type": "markdown",
      "metadata": {
        "id": "FEZEzltQU9kJ"
      },
      "source": [
        "#Which organisation has covered the most ground?\n",
        "\n",
        "Since the two groups which has highest frequency of attacks in global and Indian region are only concentrated in a single country, it made us curious about which organisation has covered most ground in terms of number of countries."
      ]
    },
    {
      "cell_type": "code",
      "metadata": {
        "id": "PMu2iPucU1RG"
      },
      "source": [
        "#We are going to formulate a dataframe of global subset grouped by organisation and country, and group the resulting data frame by organisation as follows:\n",
        "organisation_country_freq_df=gtd_global.groupby(['organisation','country'])['eventid'].count().reset_index()\n",
        "organisation_country_freq_df.groupby('organisation')['country'].count().reset_index().sort_values('country',ascending=False)\n"
      ],
      "execution_count": null,
      "outputs": []
    },
    {
      "cell_type": "markdown",
      "metadata": {
        "id": "Gurhf4OGWJgN"
      },
      "source": [
        "It's found that, Muslim Extremists has covered the most ground followed by Gunmen and Separatists.\n",
        "\n",
        "Let's have a look at their sunburst charts"
      ]
    },
    {
      "cell_type": "code",
      "metadata": {
        "id": "I3Ozh2WZWSta"
      },
      "source": [
        "#Creating dataframes exclusive to aforementioned three organisations\n",
        "gtd_muslim_extremists=gtd_global[gtd_global.organisation=='Muslim extremists']\n",
        "gtd_gunmen=gtd_global[gtd_global.organisation=='Gunmen']\n",
        "gtd_separatists=gtd_global[gtd_global.organisation=='Separatists']"
      ],
      "execution_count": null,
      "outputs": []
    },
    {
      "cell_type": "code",
      "metadata": {
        "id": "NFdxOK1YWheT"
      },
      "source": [
        "#creating sun burst chart for each of the three organisations\n",
        "fig_muslim_extremists=px.sunburst(gtd_muslim_extremists,values='casuality',\n",
        "                                  template='plotly_dark',\n",
        "                                  path=['country','attack_type','target_type'],\n",
        "                                  color_discrete_sequence=px.colors.qualitative.Dark24,\n",
        "                                  title='Fatalities caused by Muslim Extremists in different countries, grouped by attack types and target types')\n",
        "\n",
        "fig_muslim_extremists.show()\n",
        "\n",
        "fig_gunmen=px.sunburst(gtd_gunmen,values='casuality',\n",
        "                       template='plotly_dark',\n",
        "                       path=['country','attack_type','target_type'],\n",
        "                       color_discrete_sequence=px.colors.qualitative.Dark24,\n",
        "                       title='Fatalities caused by Gunmen in different countries, grouped by attack types and target types')\n",
        "\n",
        "fig_gunmen.show()\n",
        "\n",
        "fig_separatists=px.sunburst(gtd_separatists,values='casuality',\n",
        "                            template='plotly_dark',\n",
        "                            path=['country','attack_type','target_type'],\n",
        "                            color_discrete_sequence=px.colors.qualitative.Dark24,\n",
        "                            title='Fatalities caused by Separatists in different countries, grouped by attack types and target types')\n",
        "\n",
        "                \n",
        "fig_separatists.show()"
      ],
      "execution_count": null,
      "outputs": []
    },
    {
      "cell_type": "markdown",
      "metadata": {
        "id": "CUMSec3_W7UY"
      },
      "source": [
        "**Remarks**\n",
        "\n",
        "These charts are very rich in data, and can be used to gather many insights. Here are the major ones that I found:\n",
        "\n",
        "**Muslim Extremists:**\n",
        "\n",
        "\n",
        "*   Countries caused casualities in : 51 \n",
        "*   Country caused most casualities in: Syria; 600 casualities\n",
        "*   Preferred Attack type: Bombing Explosions\n",
        "*   Preferred weapon type: Explosives\n",
        "\n",
        "\n",
        "**Gunmen:**\n",
        "\n",
        "\n",
        "*   Countries caused casualities in : 50\n",
        "*   Country caused most casualities in: India; 113 Casualities \n",
        "*   Preferred Attack type: Bombing Explosions\n",
        "*   Preferred weapon type: Explosives\n",
        "\n",
        "\n",
        "**Separatists:**\n",
        "\n",
        "\n",
        "\n",
        "*   Countries caused casualities in : 30\n",
        "*   Country caused most casualities in: Thailand; 1256 Casualities \n",
        "*   Preferred Attack type: Bombing Explosions\n",
        "*   Preferred weapon type: Explosives\n",
        "\n",
        "\n",
        "\n",
        "\n",
        "\n",
        "\n",
        "\n",
        "\n",
        "\n",
        "\n",
        "\n",
        "\n",
        "\n",
        "\n"
      ]
    }
  ]
}